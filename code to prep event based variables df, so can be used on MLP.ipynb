{
 "cells": [
  {
   "cell_type": "code",
   "execution_count": 1,
   "metadata": {},
   "outputs": [],
   "source": [
    "import numpy as np\n",
    "import pandas as pd \n",
    "from sklearn.model_selection import train_test_split\n",
    "from sklearn.preprocessing import StandardScaler\n",
    "from tensorflow import keras\n",
    "#from tensorflow.keras.utils import to_categorical ## specific  one I wanna use\n",
    "from tensorflow.keras import utils\n",
    "#from tensorflow.keras.layers import Input, Dense, Dropout  # Specific ones I wanna use, can just import whole module\n",
    "from tensorflow.keras import layers \n",
    "from tensorflow.keras.models import Model\n",
    "import h5py\n",
    "#import tables\n",
    "import matplotlib.pyplot as plt\n",
    "#import tensorflow as tf\n",
    "from sklearn.metrics import confusion_matrix, ConfusionMatrixDisplay\n",
    "from sklearn.metrics import plot_confusion_matrix\n",
    "from sklearn.metrics import roc_curve, auc\n",
    "from sklearn.metrics import precision_recall_curve\n",
    "from sklearn.utils.class_weight import compute_class_weight\n"
   ]
  },
  {
   "cell_type": "code",
   "execution_count": 2,
   "metadata": {},
   "outputs": [
    {
     "name": "stdout",
     "output_type": "stream",
     "text": [
      "WARNING:tensorflow:From <ipython-input-2-35c70dd3fc92>:2: is_gpu_available (from tensorflow.python.framework.test_util) is deprecated and will be removed in a future version.\n",
      "Instructions for updating:\n",
      "Use `tf.config.list_physical_devices('GPU')` instead.\n"
     ]
    },
    {
     "data": {
      "text/plain": [
       "False"
      ]
     },
     "execution_count": 2,
     "metadata": {},
     "output_type": "execute_result"
    }
   ],
   "source": [
    "import tensorflow as tf\n",
    "gpu_available = tf.test.is_gpu_available()\n",
    "gpu_available"
   ]
  },
  {
   "cell_type": "code",
   "execution_count": 2,
   "metadata": {},
   "outputs": [
    {
     "data": {
      "text/plain": [
       "4"
      ]
     },
     "execution_count": 2,
     "metadata": {},
     "output_type": "execute_result"
    }
   ],
   "source": [
    "x=1\n",
    "y=3\n",
    "x+y\n",
    "\n"
   ]
  },
  {
   "cell_type": "code",
   "execution_count": 3,
   "metadata": {},
   "outputs": [
    {
     "name": "stdout",
     "output_type": "stream",
     "text": [
      "df\n",
      "df\n",
      "Dataframe columns:\n",
      "Index(['dataset', 'entry', 'BiasedDPhi', 'DiJet_mass', 'HT',\n",
      "       'InputMet_InputJet_mindPhi', 'InputMet_phi', 'InputMet_pt', 'MHT_phi',\n",
      "       'MHT_pt', 'MinChi', 'MinOmegaHat', 'MinOmegaTilde',\n",
      "       'boostedObject_area', 'boostedObject_eta', 'boostedObject_mass',\n",
      "       'boostedObject_phi', 'boostedObject_pt', 'boostedTop_area',\n",
      "       'boostedTop_eta', 'boostedTop_mass', 'boostedTop_phi', 'boostedTop_pt',\n",
      "       'boostedTop_tag', 'boostedV_area', 'boostedV_eta', 'boostedV_mass',\n",
      "       'boostedV_phi', 'boostedV_pt', 'boostedV_tag', 'cleanedBJet_eta',\n",
      "       'cleanedBJet_phi', 'cleanedBJet_pt', 'cleanedJet_area',\n",
      "       'cleanedJet_btagDeepB', 'cleanedJet_chHEF', 'cleanedJet_eta',\n",
      "       'cleanedJet_mass', 'cleanedJet_neHEF', 'cleanedJet_phi',\n",
      "       'cleanedJet_pt', 'hashed_filename', 'ncleanedBJet', 'ncleanedJet',\n",
      "       'weight_nominal', 'xs_weight'],\n",
      "      dtype='object')\n",
      "df\n",
      "df\n",
      "12185\n",
      "651387\n",
      "39666\n",
      "177858\n"
     ]
    }
   ],
   "source": [
    "# Import data from all 4 collision types.\n",
    "\n",
    "input_file_1 = \"/scratch/ys20884/ml_vars/TTToHadronic/df_ml_inputs.hd5\"\n",
    "\n",
    "with h5py.File(input_file_1, \"r\") as f:\n",
    "    #print(\"Contents of the file:\")\n",
    "    for key in f.keys():\n",
    "        print(key)\n",
    "\n",
    "df1= pd.read_hdf(input_file_1, key=\"df\")\n",
    "\n",
    "\n",
    "input_file2 = \"/scratch/ys20884/ml_vars/TTToSemiLeptonic/df_ml_inputs.hd5\"\n",
    "\n",
    "with h5py.File(input_file2, \"r\") as f:\n",
    "    #print(\"Contents of the file:\")\n",
    "    for key in f.keys():\n",
    "        print(key)\n",
    "\n",
    "df2 = pd.read_hdf(input_file2, key=\"df\")\n",
    "print(\"Dataframe columns:\")\n",
    "print(df2.columns)\n",
    "\n",
    "input_file3 = \"/scratch/ys20884/ml_vars/TTTo2L2Nu/df_ml_inputs.hd5\"\n",
    "\n",
    "with h5py.File(input_file3, \"r\") as f:\n",
    "    #print(\"Contents of the file:\")\n",
    "    for key in f.keys():\n",
    "        print(key)\n",
    "\n",
    "df3 = pd.read_hdf(input_file3, key=\"df\")\n",
    "\n",
    "input_file4 = \"/scratch/ys20884/ml_vars/ttH125/df_ml_inputs.hd5\"\n",
    "\n",
    "with h5py.File(input_file4, \"r\") as f:\n",
    "    #print(\"Contents of the file:\")\n",
    "    for key in f.keys():\n",
    "        print(key)\n",
    "\n",
    "df4 = pd.read_hdf(input_file4, key=\"df\")\n",
    "\n",
    "print(len(df1))\n",
    "print(len(df2))\n",
    "print(len(df3))\n",
    "print(len(df4))"
   ]
  },
  {
   "cell_type": "code",
   "execution_count": 22,
   "metadata": {},
   "outputs": [
    {
     "name": "stdout",
     "output_type": "stream",
     "text": [
      "881096\n",
      "881096\n"
     ]
    },
    {
     "data": {
      "text/plain": [
       "Index(['dataset', 'entry', 'BiasedDPhi', 'DiJet_mass', 'HT',\n",
       "       'InputMet_InputJet_mindPhi', 'InputMet_phi', 'InputMet_pt', 'MHT_phi',\n",
       "       'MHT_pt', 'MinChi', 'MinOmegaHat', 'MinOmegaTilde',\n",
       "       'boostedObject_area', 'boostedObject_eta', 'boostedObject_mass',\n",
       "       'boostedObject_phi', 'boostedObject_pt', 'boostedTop_area',\n",
       "       'boostedTop_eta', 'boostedTop_mass', 'boostedTop_phi', 'boostedTop_pt',\n",
       "       'boostedTop_tag', 'boostedV_area', 'boostedV_eta', 'boostedV_mass',\n",
       "       'boostedV_phi', 'boostedV_pt', 'boostedV_tag', 'cleanedBJet_eta',\n",
       "       'cleanedBJet_phi', 'cleanedBJet_pt', 'cleanedJet_area',\n",
       "       'cleanedJet_btagDeepB', 'cleanedJet_chHEF', 'cleanedJet_eta',\n",
       "       'cleanedJet_mass', 'cleanedJet_neHEF', 'cleanedJet_phi',\n",
       "       'cleanedJet_pt', 'hashed_filename', 'ncleanedBJet', 'ncleanedJet',\n",
       "       'weight_nominal', 'xs_weight'],\n",
       "      dtype='object')"
      ]
     },
     "execution_count": 22,
     "metadata": {},
     "output_type": "execute_result"
    }
   ],
   "source": [
    "# make one big dataframe, full data set long to practice with\n",
    "df_total = df2.append(df1)\n",
    "df_total = df_total.append(df3)\n",
    "df_total = df_total.append(df4)\n",
    "print(len(df_total))   \n",
    "\n",
    "# Background is 0\n",
    "# Signal is 1\n",
    "df_process = df_total['dataset']\n",
    "df_total['dataset'] = df_total['dataset'].replace({'ttH125': 1, 'TTToSemiLeptonic': 0, 'TTToHadronic': 0, 'TTTo2L2Nu':0})\n",
    "df_total.head()\n",
    "# Have done test cases, is working fine.\n",
    "print(len(df_total))   \n",
    "\n",
    "df_total.columns"
   ]
  },
  {
   "cell_type": "code",
   "execution_count": 23,
   "metadata": {},
   "outputs": [
    {
     "data": {
      "text/plain": [
       "Index(['dataset', 'DiJet_mass', 'HT', 'InputMet_InputJet_mindPhi',\n",
       "       'InputMet_pt', 'MHT_pt', 'MinChi', 'MinOmegaHat', 'MinOmegaTilde',\n",
       "       'boostedObject_area', 'boostedObject_eta', 'boostedObject_mass',\n",
       "       'boostedObject_pt', 'boostedTop_area', 'boostedTop_eta',\n",
       "       'boostedTop_mass', 'boostedTop_pt', 'boostedTop_tag', 'boostedV_area',\n",
       "       'boostedV_eta', 'boostedV_mass', 'boostedV_pt', 'boostedV_tag',\n",
       "       'cleanedBJet_eta', 'cleanedBJet_pt', 'cleanedJet_area',\n",
       "       'cleanedJet_btagDeepB', 'cleanedJet_chHEF', 'cleanedJet_eta',\n",
       "       'cleanedJet_mass', 'cleanedJet_neHEF', 'cleanedJet_pt', 'ncleanedBJet',\n",
       "       'ncleanedJet'],\n",
       "      dtype='object')"
      ]
     },
     "execution_count": 23,
     "metadata": {},
     "output_type": "execute_result"
    }
   ],
   "source": [
    "#df_weights = df_total['xs_weight']\n",
    "df_total.drop(['entry', 'BiasedDPhi', 'hashed_filename', 'weight_nominal', 'xs_weight', \n",
    "              'InputMet_phi', 'MHT_phi', 'boostedObject_phi', 'boostedTop_phi', 'boostedV_phi',\n",
    "              'cleanedBJet_phi','cleanedJet_phi'], axis=1, inplace=True)#\n",
    "\n",
    "\n",
    "# <1%\n",
    "#variables_permuter_drop = ['boostedObject_area', 'boostedObject_eta', 'boostedTop_eta', 'boostedTop_mass', \n",
    "#                          'boostedTop_pt', 'boostedTop_tag', 'boostedV_eta', 'boostedV_pt', 'cleanedBJet_eta',\n",
    "#                          'cleanedJet_area', 'cleanedJet_chHEF']  # could be useful if add other types of data\n",
    "\n",
    "# < 3%\n",
    "# variables_permuter_drop = ['MinOmegaHat', 'boostedObject_area', 'boostedObject_eta',   # 3%\n",
    "#                            'boostedObject_mass', 'boostedObject_pt', 'boostedTop_area',\n",
    "#                            'boostedTop_eta', 'boostedTop_mass', 'boostedTop_pt', 'boostedTop_tag',\n",
    "#                            'boostedV_area', 'boostedV_eta', 'boostedV_mass', 'boostedV_pt', 'boostedV_tag', \n",
    "#                            'cleanedBJet_eta', 'cleanedJet_area', 'cleanedJet_btagDeepB', 'cleanedJet_chHEF', \n",
    "#                            'cleanedJet_neHEF']\n",
    "\n",
    "#df_total.drop(variables_permuter_drop, axis=1, inplace=True)#\n",
    "df_total.columns            # Said BiasedDPhi looks wrong\n",
    "\n",
    "# will drop label column too, as do this seperately in another one"
   ]
  },
  {
   "cell_type": "code",
   "execution_count": null,
   "metadata": {},
   "outputs": [],
   "source": []
  },
  {
   "cell_type": "code",
   "execution_count": 25,
   "metadata": {},
   "outputs": [
    {
     "name": "stdout",
     "output_type": "stream",
     "text": [
      "dataset is an event based variable\n",
      "DiJet_mass is an event based variable\n",
      "HT is an event based variable\n",
      "InputMet_InputJet_mindPhi is an event based variable\n",
      "InputMet_pt is an event based variable\n",
      "MHT_pt is an event based variable\n",
      "MinChi is an event based variable\n",
      "MinOmegaHat is an event based variable\n",
      "MinOmegaTilde is an event based variable\n",
      "ncleanedBJet is an event based variable\n",
      "ncleanedJet is an event based variable\n",
      "11 variables are left\n"
     ]
    },
    {
     "data": {
      "text/plain": [
       "Index(['dataset', 'DiJet_mass', 'HT', 'InputMet_InputJet_mindPhi',\n",
       "       'InputMet_pt', 'MHT_pt', 'MinChi', 'MinOmegaHat', 'MinOmegaTilde',\n",
       "       'ncleanedBJet', 'ncleanedJet'],\n",
       "      dtype='object')"
      ]
     },
     "execution_count": 25,
     "metadata": {},
     "output_type": "execute_result"
    }
   ],
   "source": [
    "lst = []\n",
    "for column in df_total:\n",
    "    if df_total[column].dtype != 'object':   \n",
    "        print(column, 'is an event based variable')\n",
    "        lst.append(column)\n",
    "    else:\n",
    "        df_total.drop([column], axis=1, inplace=True)\n",
    "print(len(lst), 'variables are left')    # -1 as - label\n",
    "df_total.columns "
   ]
  },
  {
   "cell_type": "code",
   "execution_count": 27,
   "metadata": {},
   "outputs": [
    {
     "data": {
      "text/html": [
       "<div>\n",
       "<style scoped>\n",
       "    .dataframe tbody tr th:only-of-type {\n",
       "        vertical-align: middle;\n",
       "    }\n",
       "\n",
       "    .dataframe tbody tr th {\n",
       "        vertical-align: top;\n",
       "    }\n",
       "\n",
       "    .dataframe thead th {\n",
       "        text-align: right;\n",
       "    }\n",
       "</style>\n",
       "<table border=\"1\" class=\"dataframe\">\n",
       "  <thead>\n",
       "    <tr style=\"text-align: right;\">\n",
       "      <th></th>\n",
       "      <th>dataset</th>\n",
       "      <th>DiJet_mass</th>\n",
       "      <th>HT</th>\n",
       "      <th>InputMet_InputJet_mindPhi</th>\n",
       "      <th>InputMet_pt</th>\n",
       "      <th>MHT_pt</th>\n",
       "      <th>MinChi</th>\n",
       "      <th>MinOmegaHat</th>\n",
       "      <th>MinOmegaTilde</th>\n",
       "      <th>ncleanedBJet</th>\n",
       "      <th>ncleanedJet</th>\n",
       "    </tr>\n",
       "  </thead>\n",
       "  <tbody>\n",
       "    <tr>\n",
       "      <th>0</th>\n",
       "      <td>0</td>\n",
       "      <td>363.519776</td>\n",
       "      <td>409.411560</td>\n",
       "      <td>0.248169</td>\n",
       "      <td>253.625</td>\n",
       "      <td>230.740250</td>\n",
       "      <td>0.084954</td>\n",
       "      <td>0.294236</td>\n",
       "      <td>0.023754</td>\n",
       "      <td>0</td>\n",
       "      <td>2</td>\n",
       "    </tr>\n",
       "    <tr>\n",
       "      <th>1</th>\n",
       "      <td>0</td>\n",
       "      <td>129.015341</td>\n",
       "      <td>466.076111</td>\n",
       "      <td>1.818359</td>\n",
       "      <td>308.250</td>\n",
       "      <td>339.473511</td>\n",
       "      <td>1.546004</td>\n",
       "      <td>1.134799</td>\n",
       "      <td>0.854612</td>\n",
       "      <td>1</td>\n",
       "      <td>5</td>\n",
       "    </tr>\n",
       "    <tr>\n",
       "      <th>2</th>\n",
       "      <td>0</td>\n",
       "      <td>274.769255</td>\n",
       "      <td>361.570465</td>\n",
       "      <td>0.668945</td>\n",
       "      <td>278.250</td>\n",
       "      <td>264.123840</td>\n",
       "      <td>0.621207</td>\n",
       "      <td>0.710851</td>\n",
       "      <td>0.103618</td>\n",
       "      <td>1</td>\n",
       "      <td>2</td>\n",
       "    </tr>\n",
       "    <tr>\n",
       "      <th>3</th>\n",
       "      <td>0</td>\n",
       "      <td>82.854809</td>\n",
       "      <td>359.750671</td>\n",
       "      <td>0.380127</td>\n",
       "      <td>218.750</td>\n",
       "      <td>227.014053</td>\n",
       "      <td>0.612625</td>\n",
       "      <td>0.612626</td>\n",
       "      <td>0.227535</td>\n",
       "      <td>0</td>\n",
       "      <td>3</td>\n",
       "    </tr>\n",
       "    <tr>\n",
       "      <th>4</th>\n",
       "      <td>0</td>\n",
       "      <td>82.354687</td>\n",
       "      <td>314.990326</td>\n",
       "      <td>1.387695</td>\n",
       "      <td>234.625</td>\n",
       "      <td>254.779617</td>\n",
       "      <td>1.441802</td>\n",
       "      <td>1.138652</td>\n",
       "      <td>0.881872</td>\n",
       "      <td>0</td>\n",
       "      <td>4</td>\n",
       "    </tr>\n",
       "    <tr>\n",
       "      <th>...</th>\n",
       "      <td>...</td>\n",
       "      <td>...</td>\n",
       "      <td>...</td>\n",
       "      <td>...</td>\n",
       "      <td>...</td>\n",
       "      <td>...</td>\n",
       "      <td>...</td>\n",
       "      <td>...</td>\n",
       "      <td>...</td>\n",
       "      <td>...</td>\n",
       "      <td>...</td>\n",
       "    </tr>\n",
       "    <tr>\n",
       "      <th>177853</th>\n",
       "      <td>1</td>\n",
       "      <td>353.306746</td>\n",
       "      <td>550.468018</td>\n",
       "      <td>0.340576</td>\n",
       "      <td>263.250</td>\n",
       "      <td>239.813583</td>\n",
       "      <td>0.811556</td>\n",
       "      <td>0.646585</td>\n",
       "      <td>0.334731</td>\n",
       "      <td>0</td>\n",
       "      <td>4</td>\n",
       "    </tr>\n",
       "    <tr>\n",
       "      <th>177854</th>\n",
       "      <td>1</td>\n",
       "      <td>206.457350</td>\n",
       "      <td>625.009277</td>\n",
       "      <td>0.468018</td>\n",
       "      <td>313.500</td>\n",
       "      <td>335.351562</td>\n",
       "      <td>0.991184</td>\n",
       "      <td>0.991184</td>\n",
       "      <td>0.872011</td>\n",
       "      <td>0</td>\n",
       "      <td>7</td>\n",
       "    </tr>\n",
       "    <tr>\n",
       "      <th>177855</th>\n",
       "      <td>1</td>\n",
       "      <td>511.200694</td>\n",
       "      <td>1002.960999</td>\n",
       "      <td>0.073547</td>\n",
       "      <td>245.875</td>\n",
       "      <td>249.904602</td>\n",
       "      <td>0.145308</td>\n",
       "      <td>0.145308</td>\n",
       "      <td>0.145308</td>\n",
       "      <td>1</td>\n",
       "      <td>8</td>\n",
       "    </tr>\n",
       "    <tr>\n",
       "      <th>177856</th>\n",
       "      <td>1</td>\n",
       "      <td>271.667337</td>\n",
       "      <td>525.788696</td>\n",
       "      <td>1.009766</td>\n",
       "      <td>210.500</td>\n",
       "      <td>226.901993</td>\n",
       "      <td>1.204100</td>\n",
       "      <td>0.954423</td>\n",
       "      <td>0.820283</td>\n",
       "      <td>1</td>\n",
       "      <td>5</td>\n",
       "    </tr>\n",
       "    <tr>\n",
       "      <th>177857</th>\n",
       "      <td>1</td>\n",
       "      <td>154.172600</td>\n",
       "      <td>715.310547</td>\n",
       "      <td>1.314453</td>\n",
       "      <td>255.750</td>\n",
       "      <td>216.732864</td>\n",
       "      <td>0.973312</td>\n",
       "      <td>0.796078</td>\n",
       "      <td>0.619308</td>\n",
       "      <td>2</td>\n",
       "      <td>5</td>\n",
       "    </tr>\n",
       "  </tbody>\n",
       "</table>\n",
       "<p>881096 rows × 11 columns</p>\n",
       "</div>"
      ],
      "text/plain": [
       "        dataset  DiJet_mass           HT  InputMet_InputJet_mindPhi  \\\n",
       "0             0  363.519776   409.411560                   0.248169   \n",
       "1             0  129.015341   466.076111                   1.818359   \n",
       "2             0  274.769255   361.570465                   0.668945   \n",
       "3             0   82.854809   359.750671                   0.380127   \n",
       "4             0   82.354687   314.990326                   1.387695   \n",
       "...         ...         ...          ...                        ...   \n",
       "177853        1  353.306746   550.468018                   0.340576   \n",
       "177854        1  206.457350   625.009277                   0.468018   \n",
       "177855        1  511.200694  1002.960999                   0.073547   \n",
       "177856        1  271.667337   525.788696                   1.009766   \n",
       "177857        1  154.172600   715.310547                   1.314453   \n",
       "\n",
       "        InputMet_pt      MHT_pt    MinChi  MinOmegaHat  MinOmegaTilde  \\\n",
       "0           253.625  230.740250  0.084954     0.294236       0.023754   \n",
       "1           308.250  339.473511  1.546004     1.134799       0.854612   \n",
       "2           278.250  264.123840  0.621207     0.710851       0.103618   \n",
       "3           218.750  227.014053  0.612625     0.612626       0.227535   \n",
       "4           234.625  254.779617  1.441802     1.138652       0.881872   \n",
       "...             ...         ...       ...          ...            ...   \n",
       "177853      263.250  239.813583  0.811556     0.646585       0.334731   \n",
       "177854      313.500  335.351562  0.991184     0.991184       0.872011   \n",
       "177855      245.875  249.904602  0.145308     0.145308       0.145308   \n",
       "177856      210.500  226.901993  1.204100     0.954423       0.820283   \n",
       "177857      255.750  216.732864  0.973312     0.796078       0.619308   \n",
       "\n",
       "        ncleanedBJet  ncleanedJet  \n",
       "0                  0            2  \n",
       "1                  1            5  \n",
       "2                  1            2  \n",
       "3                  0            3  \n",
       "4                  0            4  \n",
       "...              ...          ...  \n",
       "177853             0            4  \n",
       "177854             0            7  \n",
       "177855             1            8  \n",
       "177856             1            5  \n",
       "177857             2            5  \n",
       "\n",
       "[881096 rows x 11 columns]"
      ]
     },
     "execution_count": 27,
     "metadata": {},
     "output_type": "execute_result"
    }
   ],
   "source": [
    "df_total"
   ]
  },
  {
   "cell_type": "code",
   "execution_count": 7,
   "metadata": {},
   "outputs": [],
   "source": [
    "# A function that makes arrays in rows singular values, max if multiple in array, 0 if empty array\n",
    "def modify_array(arr):    \n",
    "    if len(arr) == 0:\n",
    "        return 0\n",
    "    else:\n",
    "    # takes leading jet    \n",
    "        return max(arr)    #Need values as floats, not as arrays as NN did not accept arrays, needed as float\n",
    "                            # If wanted arrays, put [] around returns, simple as that.\n",
    "\n",
    "# e.g. df[\"column_name\"] = df[\"column_name\"].apply(modify_array)#\n",
    "#e.g   df_total.boostedTop_area = df_total.boostedTop_area.apply(modify_array)"
   ]
  },
  {
   "cell_type": "code",
   "execution_count": 8,
   "metadata": {},
   "outputs": [],
   "source": [
    "# This should have manipulated all data so is now fit for a ML model\n",
    "for column in df_total:\n",
    "    if df_total[column].dtype == 'object':\n",
    "        df_total[column] = df_total[column].apply(modify_array)\n"
   ]
  },
  {
   "cell_type": "code",
   "execution_count": 28,
   "metadata": {},
   "outputs": [],
   "source": [
    "with h5py.File('DF_event_based.h5', 'w') as f:\n",
    "    f.create_dataset('dataset_name', data=df_total)"
   ]
  },
  {
   "cell_type": "code",
   "execution_count": null,
   "metadata": {},
   "outputs": [],
   "source": [
    "\n",
    "# # Load the HDF5 file\n",
    "# with h5py.File('DF_event_based.h5', 'r') as hf:\n",
    "#     # Access the dataset by name and load it into a pandas dataframe\n",
    "#     df_total = pd.DataFrame(f['dataset_name'][:])\n"
   ]
  }
 ],
 "metadata": {
  "kernelspec": {
   "display_name": "Python 3",
   "language": "python",
   "name": "python3"
  },
  "language_info": {
   "codemirror_mode": {
    "name": "ipython",
    "version": 3
   },
   "file_extension": ".py",
   "mimetype": "text/x-python",
   "name": "python",
   "nbconvert_exporter": "python",
   "pygments_lexer": "ipython3",
   "version": "3.7.3"
  }
 },
 "nbformat": 4,
 "nbformat_minor": 4
}
