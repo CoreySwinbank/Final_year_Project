{
 "cells": [
  {
   "cell_type": "code",
   "execution_count": 1,
   "metadata": {},
   "outputs": [],
   "source": [
    "import numpy as np\n",
    "import pandas as pd \n",
    "from sklearn.model_selection import train_test_split\n",
    "from sklearn.preprocessing import StandardScaler\n",
    "from tensorflow import keras\n",
    "#from tensorflow.keras.utils import to_categorical ## specific  one I wanna use\n",
    "from tensorflow.keras import utils\n",
    "#from tensorflow.keras.layers import Input, Dense, Dropout  # Specific ones I wanna use, can just import whole module\n",
    "from tensorflow.keras import layers \n",
    "from tensorflow.keras.models import Model\n",
    "import h5py\n",
    "#import tables\n",
    "import matplotlib.pyplot as plt\n",
    "#import tensorflow as tf\n",
    "from sklearn.metrics import confusion_matrix, ConfusionMatrixDisplay\n",
    "from sklearn.metrics import plot_confusion_matrix\n",
    "from sklearn.metrics import roc_curve, auc\n",
    "from sklearn.metrics import precision_recall_curve\n",
    "from sklearn.utils.class_weight import compute_class_weight\n",
    "\n",
    "\n",
    "from sklearn.model_selection import GridSearchCV\n",
    "from tensorflow.keras.wrappers.scikit_learn import KerasClassifier\n",
    "\n",
    "from tensorflow.keras.optimizers import Adam"
   ]
  },
  {
   "cell_type": "code",
   "execution_count": 2,
   "metadata": {},
   "outputs": [
    {
     "data": {
      "text/plain": [
       "True"
      ]
     },
     "execution_count": 2,
     "metadata": {},
     "output_type": "execute_result"
    }
   ],
   "source": [
    "import tensorflow as tf\n",
    "gpu_available = tf.test.is_gpu_available()\n",
    "gpu_available"
   ]
  },
  {
   "cell_type": "code",
   "execution_count": 3,
   "metadata": {},
   "outputs": [
    {
     "data": {
      "text/plain": [
       "4"
      ]
     },
     "execution_count": 3,
     "metadata": {},
     "output_type": "execute_result"
    }
   ],
   "source": [
    "x=1\n",
    "y=3\n",
    "x+y"
   ]
  },
  {
   "cell_type": "code",
   "execution_count": 4,
   "metadata": {},
   "outputs": [],
   "source": [
    "# Load the HDF5 file\n",
    "with h5py.File('DF_event_based.h5', 'r') as hf:\n",
    "    # Access the dataset by name and load it into a pandas dataframe\n",
    "    df_total = pd.DataFrame(hf['dataset_name'][:])\n",
    "\n",
    "with h5py.File('4_event_types_weights.h5', 'r') as f:\n",
    "    df_weights = f['array'][:]\n",
    "\n",
    "with h5py.File('predictions_16pad_128_50epoch_4Layers_SEED10.h5', 'r') as f:\n",
    "    predicted_val = f['val_preds'][:]\n",
    "    predicted_train = f['train_preds'][:]\n",
    "\n",
    "with h5py.File('4_event_types_labels.h5', 'r') as f:\n",
    "    df_labels = f['array'][:]"
   ]
  },
  {
   "cell_type": "code",
   "execution_count": 5,
   "metadata": {},
   "outputs": [],
   "source": [
    "# df's now have no titles, but doesnt matter for the model obvs.\n",
    "df_total = df_total.rename(columns={df_total.columns[0]: 'dataset'})\n",
    "#df_total"
   ]
  },
  {
   "cell_type": "code",
   "execution_count": 6,
   "metadata": {},
   "outputs": [],
   "source": [
    "df_Xvars = df_total.drop(['dataset'], axis = 1, inplace = False)   #Need to remove dataset (prediction) column\n",
    "#df_Xvars"
   ]
  },
  {
   "cell_type": "code",
   "execution_count": 7,
   "metadata": {},
   "outputs": [
    {
     "name": "stdout",
     "output_type": "stream",
     "text": [
      "There are [10] variables in this model\n",
      "The dataset has 881096 processes\n",
      "[10]\n"
     ]
    }
   ],
   "source": [
    "x = df_Xvars.values\n",
    "y = df_labels\n",
    "\n",
    "X_train, X_valid, y_train, y_valid = train_test_split(x, y, train_size=0.8, test_size=0.2,\n",
    "                                                      random_state=10)\n",
    "\n",
    "input_shape = [X_train.shape[1]]\n",
    "print('There are', input_shape, 'variables in this model')\n",
    "print('The dataset has', len(y), 'processes')\n",
    "print(input_shape)"
   ]
  },
  {
   "cell_type": "code",
   "execution_count": 10,
   "metadata": {},
   "outputs": [],
   "source": [
    "# print(predicted_train.shape)\n",
    "# print(predicted_val.shape)\n",
    "# print(X_train.shape)\n",
    "# print(X_valid.shape)"
   ]
  },
  {
   "cell_type": "code",
   "execution_count": 8,
   "metadata": {},
   "outputs": [
    {
     "name": "stdout",
     "output_type": "stream",
     "text": [
      "(704876, 10)\n",
      "(176220, 10)\n",
      "[5. 6. 6. ... 2. 5. 5.]\n",
      "[[0.61670357]\n",
      " [0.4636152 ]\n",
      " [0.50274837]\n",
      " ...\n",
      " [0.20900938]\n",
      " [0.7831093 ]\n",
      " [0.48962942]]\n"
     ]
    }
   ],
   "source": [
    "# X_train = np.hstack((X_train, predicted_train))\n",
    "# X_valid = np.hstack((X_valid, predicted_val))\n",
    "print(X_train.shape)\n",
    "print(X_valid.shape)\n",
    "print(X_train[:,-1])\n",
    "print(predicted_train)\n",
    "\n",
    "input_shape = [X_train.shape[1]] "
   ]
  },
  {
   "cell_type": "code",
   "execution_count": null,
   "metadata": {
    "scrolled": true
   },
   "outputs": [
    {
     "name": "stdout",
     "output_type": "stream",
     "text": [
      "Fitting 4 folds for each of 32 candidates, totalling 128 fits\n",
      "[CV] activation=relu, batch_size=32, dropout_rate=0.2, learning_rate=0.001, num_hidden_layers=2, optimizer=adam, units=64 \n"
     ]
    },
    {
     "name": "stderr",
     "output_type": "stream",
     "text": [
      "[Parallel(n_jobs=1)]: Using backend SequentialBackend with 1 concurrent workers.\n"
     ]
    },
    {
     "name": "stdout",
     "output_type": "stream",
     "text": [
      "Train on 528657 samples, validate on 176220 samples\n",
      "Epoch 1/20\n",
      "528657/528657 [==============================] - 103s 195us/sample - loss: 0.5917 - accuracy: 0.6875 - val_loss: 0.5725 - val_accuracy: 0.6947\n",
      "Epoch 2/20\n",
      "528657/528657 [==============================] - 102s 193us/sample - loss: 0.5844 - accuracy: 0.6947 - val_loss: 0.5703 - val_accuracy: 0.7165\n",
      "Epoch 3/20\n",
      "528657/528657 [==============================] - 100s 189us/sample - loss: 0.5830 - accuracy: 0.6955 - val_loss: 0.5704 - val_accuracy: 0.6882\n",
      "Epoch 4/20\n",
      "490112/528657 [==========================>...] - ETA: 6s - loss: 0.5830 - accuracy: 0.6949"
     ]
    }
   ],
   "source": [
    "from tensorflow.keras.layers import Dense, Dropout, BatchNormalization\n",
    "from tensorflow.keras.models import Sequential\n",
    "from tensorflow.keras.optimizers import Adam\n",
    "from tensorflow.keras.wrappers.scikit_learn import KerasClassifier\n",
    "from sklearn.model_selection import GridSearchCV\n",
    "from sklearn.utils.class_weight import compute_class_weight\n",
    "\n",
    "def create_model(num_hidden_layers=1, units=256, learning_rate=0.001, dropout_rate=0.2, optimizer='adam', activation='relu'):\n",
    "    model = Sequential([\n",
    "        BatchNormalization(input_shape=input_shape)\n",
    "    ])\n",
    "\n",
    "    for i in range(num_hidden_layers):\n",
    "        model.add(Dense(units=units, activation=activation))\n",
    "        model.add(BatchNormalization())\n",
    "        model.add(Dropout(rate=dropout_rate))\n",
    "\n",
    "    model.add(Dense(units=1, activation='sigmoid'))\n",
    "\n",
    "    optimizer = Adam(learning_rate=learning_rate)\n",
    "\n",
    "    model.compile(\n",
    "        optimizer=optimizer,\n",
    "        loss='binary_crossentropy',\n",
    "        metrics=['accuracy'],\n",
    "    )\n",
    "\n",
    "    return model\n",
    "\n",
    "\n",
    "# Define the parameter grid\n",
    "param_grid = {\n",
    "    'batch_size': [32,64,128,256],\n",
    "    'dropout_rate': [0.2],\n",
    "    'optimizer': ['adam'],\n",
    "    'learning_rate': [0.001],\n",
    "    'activation': ['relu'],\n",
    "    'num_hidden_layers': [2, 3],\n",
    "    'units': [64, 128,256, 512]\n",
    "}\n",
    "\n",
    "\n",
    "# Define a wrapper function for the MLP NN model\n",
    "model = KerasClassifier(build_fn=create_model, epochs=20, num_hidden_layers=1, units=256)\n",
    "\n",
    "\n",
    "from sklearn.model_selection import GridSearchCV\n",
    "from sklearn.metrics import make_scorer, accuracy_score, roc_auc_score\n",
    "\n",
    "#Define the scoring functions\n",
    "scoring = {\n",
    "    'accuracy': make_scorer(accuracy_score),\n",
    "    'roc_auc': make_scorer(roc_auc_score)\n",
    "}\n",
    "\n",
    "\n",
    "# Create a GridSearchCV object\n",
    "grid_search = GridSearchCV(\n",
    "    estimator=model,\n",
    "    param_grid=param_grid,\n",
    "    scoring=scoring,\n",
    "    refit='roc_auc',\n",
    "    cv=4,\n",
    "    verbose=2\n",
    ")    \n",
    "\n",
    "early_stopping = keras.callbacks.EarlyStopping(\n",
    "    patience=10,\n",
    "    min_delta=0.001,\n",
    "    restore_best_weights=True,\n",
    ")\n",
    "\n",
    "class_weights = compute_class_weight('balanced', np.unique(y_train), y_train)\n",
    "class_weight = {0: class_weights[0], 1: class_weights[1]} \n",
    "\n",
    "# Fit the GridSearchCV object\n",
    "grid_result = grid_search.fit(X_train, y_train, validation_data=(X_valid, y_valid), class_weight=class_weight, callbacks=[early_stopping])"
   ]
  },
  {
   "cell_type": "code",
   "execution_count": 13,
   "metadata": {},
   "outputs": [],
   "source": [
    "# Evaluate the performance of the best model\n",
    "best_params = grid_search.best_params_\n",
    "best_model = create_model(\n",
    "    num_hidden_layers=best_params['num_hidden_layers'],\n",
    "    learning_rate=best_params['learning_rate'],\n",
    "    dropout_rate=best_params['dropout_rate'],\n",
    "    optimizer=best_params['optimizer'],\n",
    "    activation=best_params['activation']\n",
    ")\n"
   ]
  },
  {
   "cell_type": "code",
   "execution_count": 14,
   "metadata": {
    "scrolled": true
   },
   "outputs": [
    {
     "data": {
      "text/plain": [
       "{'mean_fit_time': array([1660.33202893, 1323.1816892 , 1391.12830091, 1313.53672552,\n",
       "        1582.42552304, 1780.07863706, 1907.08233541, 1797.87693298,\n",
       "         781.84909821,  758.77521068,  747.85176259,  732.14523566,\n",
       "         919.57840371,  908.20163667,  888.74789363,  882.05899119,\n",
       "         372.87316835,  401.91233087,  391.1923846 ,  379.15049446,\n",
       "         407.26214021,  425.38494861,  431.13194734,  422.739187  ,\n",
       "         187.87366575,  177.12929785,  196.83971083,  219.44363832,\n",
       "         310.01045281,  284.30043232,  280.76442754,  278.85025698]),\n",
       " 'std_fit_time': array([244.35317772, 151.95803122,  93.24850448, 121.55766012,\n",
       "        152.85039906, 125.89110629,  30.73141861,  56.04284193,\n",
       "         40.75289695,  21.68701884,  48.73237337,  57.75064321,\n",
       "         47.19330117,  74.75579169,  67.49987837,  63.19528634,\n",
       "          7.20718615,  10.66099   ,   9.61431674,  18.07419744,\n",
       "         20.59699927,  27.03887722,   8.60246366,   6.23089432,\n",
       "          4.63168384,  14.00394697,   2.43783044,  43.08135782,\n",
       "          2.99428019,  14.64691784,   1.5154681 ,   1.3069758 ]),\n",
       " 'mean_score_time': array([6.86626482, 6.2023896 , 6.42661548, 6.22272265, 6.44771761,\n",
       "        6.13465375, 6.06863427, 5.85357499, 2.87100571, 2.81339133,\n",
       "        2.78043211, 2.71861064, 2.98619545, 3.09001124, 3.04266649,\n",
       "        3.03396499, 1.49655759, 1.72707665, 1.57764518, 1.48758149,\n",
       "        1.78592318, 1.90486497, 1.90680033, 1.8820715 , 1.00214332,\n",
       "        0.95563006, 0.99173731, 1.26982731, 1.3947795 , 1.78953224,\n",
       "        1.24378365, 1.30683899]),\n",
       " 'std_score_time': array([0.9127251 , 0.05717781, 0.13362748, 0.27420589, 0.50292905,\n",
       "        0.0467546 , 0.25554539, 0.25442149, 0.13833082, 0.05410528,\n",
       "        0.04869412, 0.04442929, 0.04123679, 0.21434592, 0.08834124,\n",
       "        0.06996304, 0.03759965, 0.18882899, 0.13016133, 0.0425534 ,\n",
       "        0.07607818, 0.2011573 , 0.07042857, 0.04635131, 0.02186836,\n",
       "        0.03365158, 0.04584085, 0.22687945, 0.04478468, 0.89510542,\n",
       "        0.07212446, 0.04451257]),\n",
       " 'param_activation': masked_array(data=['relu', 'relu', 'relu', 'relu', 'relu', 'relu', 'relu',\n",
       "                    'relu', 'relu', 'relu', 'relu', 'relu', 'relu', 'relu',\n",
       "                    'relu', 'relu', 'relu', 'relu', 'relu', 'relu', 'relu',\n",
       "                    'relu', 'relu', 'relu', 'relu', 'relu', 'relu', 'relu',\n",
       "                    'relu', 'relu', 'relu', 'relu'],\n",
       "              mask=[False, False, False, False, False, False, False, False,\n",
       "                    False, False, False, False, False, False, False, False,\n",
       "                    False, False, False, False, False, False, False, False,\n",
       "                    False, False, False, False, False, False, False, False],\n",
       "        fill_value='?',\n",
       "             dtype=object),\n",
       " 'param_batch_size': masked_array(data=[32, 32, 32, 32, 32, 32, 32, 32, 64, 64, 64, 64, 64, 64,\n",
       "                    64, 64, 128, 128, 128, 128, 128, 128, 128, 128, 256,\n",
       "                    256, 256, 256, 256, 256, 256, 256],\n",
       "              mask=[False, False, False, False, False, False, False, False,\n",
       "                    False, False, False, False, False, False, False, False,\n",
       "                    False, False, False, False, False, False, False, False,\n",
       "                    False, False, False, False, False, False, False, False],\n",
       "        fill_value='?',\n",
       "             dtype=object),\n",
       " 'param_dropout_rate': masked_array(data=[0.2, 0.2, 0.2, 0.2, 0.2, 0.2, 0.2, 0.2, 0.2, 0.2, 0.2,\n",
       "                    0.2, 0.2, 0.2, 0.2, 0.2, 0.2, 0.2, 0.2, 0.2, 0.2, 0.2,\n",
       "                    0.2, 0.2, 0.2, 0.2, 0.2, 0.2, 0.2, 0.2, 0.2, 0.2],\n",
       "              mask=[False, False, False, False, False, False, False, False,\n",
       "                    False, False, False, False, False, False, False, False,\n",
       "                    False, False, False, False, False, False, False, False,\n",
       "                    False, False, False, False, False, False, False, False],\n",
       "        fill_value='?',\n",
       "             dtype=object),\n",
       " 'param_learning_rate': masked_array(data=[0.001, 0.001, 0.001, 0.001, 0.001, 0.001, 0.001, 0.001,\n",
       "                    0.001, 0.001, 0.001, 0.001, 0.001, 0.001, 0.001, 0.001,\n",
       "                    0.001, 0.001, 0.001, 0.001, 0.001, 0.001, 0.001, 0.001,\n",
       "                    0.001, 0.001, 0.001, 0.001, 0.001, 0.001, 0.001, 0.001],\n",
       "              mask=[False, False, False, False, False, False, False, False,\n",
       "                    False, False, False, False, False, False, False, False,\n",
       "                    False, False, False, False, False, False, False, False,\n",
       "                    False, False, False, False, False, False, False, False],\n",
       "        fill_value='?',\n",
       "             dtype=object),\n",
       " 'param_num_hidden_layers': masked_array(data=[2, 2, 2, 2, 3, 3, 3, 3, 2, 2, 2, 2, 3, 3, 3, 3, 2, 2,\n",
       "                    2, 2, 3, 3, 3, 3, 2, 2, 2, 2, 3, 3, 3, 3],\n",
       "              mask=[False, False, False, False, False, False, False, False,\n",
       "                    False, False, False, False, False, False, False, False,\n",
       "                    False, False, False, False, False, False, False, False,\n",
       "                    False, False, False, False, False, False, False, False],\n",
       "        fill_value='?',\n",
       "             dtype=object),\n",
       " 'param_optimizer': masked_array(data=['adam', 'adam', 'adam', 'adam', 'adam', 'adam', 'adam',\n",
       "                    'adam', 'adam', 'adam', 'adam', 'adam', 'adam', 'adam',\n",
       "                    'adam', 'adam', 'adam', 'adam', 'adam', 'adam', 'adam',\n",
       "                    'adam', 'adam', 'adam', 'adam', 'adam', 'adam', 'adam',\n",
       "                    'adam', 'adam', 'adam', 'adam'],\n",
       "              mask=[False, False, False, False, False, False, False, False,\n",
       "                    False, False, False, False, False, False, False, False,\n",
       "                    False, False, False, False, False, False, False, False,\n",
       "                    False, False, False, False, False, False, False, False],\n",
       "        fill_value='?',\n",
       "             dtype=object),\n",
       " 'param_units': masked_array(data=[64, 128, 256, 512, 64, 128, 256, 512, 64, 128, 256,\n",
       "                    512, 64, 128, 256, 512, 64, 128, 256, 512, 64, 128,\n",
       "                    256, 512, 64, 128, 256, 512, 64, 128, 256, 512],\n",
       "              mask=[False, False, False, False, False, False, False, False,\n",
       "                    False, False, False, False, False, False, False, False,\n",
       "                    False, False, False, False, False, False, False, False,\n",
       "                    False, False, False, False, False, False, False, False],\n",
       "        fill_value='?',\n",
       "             dtype=object),\n",
       " 'params': [{'activation': 'relu',\n",
       "   'batch_size': 32,\n",
       "   'dropout_rate': 0.2,\n",
       "   'learning_rate': 0.001,\n",
       "   'num_hidden_layers': 2,\n",
       "   'optimizer': 'adam',\n",
       "   'units': 64},\n",
       "  {'activation': 'relu',\n",
       "   'batch_size': 32,\n",
       "   'dropout_rate': 0.2,\n",
       "   'learning_rate': 0.001,\n",
       "   'num_hidden_layers': 2,\n",
       "   'optimizer': 'adam',\n",
       "   'units': 128},\n",
       "  {'activation': 'relu',\n",
       "   'batch_size': 32,\n",
       "   'dropout_rate': 0.2,\n",
       "   'learning_rate': 0.001,\n",
       "   'num_hidden_layers': 2,\n",
       "   'optimizer': 'adam',\n",
       "   'units': 256},\n",
       "  {'activation': 'relu',\n",
       "   'batch_size': 32,\n",
       "   'dropout_rate': 0.2,\n",
       "   'learning_rate': 0.001,\n",
       "   'num_hidden_layers': 2,\n",
       "   'optimizer': 'adam',\n",
       "   'units': 512},\n",
       "  {'activation': 'relu',\n",
       "   'batch_size': 32,\n",
       "   'dropout_rate': 0.2,\n",
       "   'learning_rate': 0.001,\n",
       "   'num_hidden_layers': 3,\n",
       "   'optimizer': 'adam',\n",
       "   'units': 64},\n",
       "  {'activation': 'relu',\n",
       "   'batch_size': 32,\n",
       "   'dropout_rate': 0.2,\n",
       "   'learning_rate': 0.001,\n",
       "   'num_hidden_layers': 3,\n",
       "   'optimizer': 'adam',\n",
       "   'units': 128},\n",
       "  {'activation': 'relu',\n",
       "   'batch_size': 32,\n",
       "   'dropout_rate': 0.2,\n",
       "   'learning_rate': 0.001,\n",
       "   'num_hidden_layers': 3,\n",
       "   'optimizer': 'adam',\n",
       "   'units': 256},\n",
       "  {'activation': 'relu',\n",
       "   'batch_size': 32,\n",
       "   'dropout_rate': 0.2,\n",
       "   'learning_rate': 0.001,\n",
       "   'num_hidden_layers': 3,\n",
       "   'optimizer': 'adam',\n",
       "   'units': 512},\n",
       "  {'activation': 'relu',\n",
       "   'batch_size': 64,\n",
       "   'dropout_rate': 0.2,\n",
       "   'learning_rate': 0.001,\n",
       "   'num_hidden_layers': 2,\n",
       "   'optimizer': 'adam',\n",
       "   'units': 64},\n",
       "  {'activation': 'relu',\n",
       "   'batch_size': 64,\n",
       "   'dropout_rate': 0.2,\n",
       "   'learning_rate': 0.001,\n",
       "   'num_hidden_layers': 2,\n",
       "   'optimizer': 'adam',\n",
       "   'units': 128},\n",
       "  {'activation': 'relu',\n",
       "   'batch_size': 64,\n",
       "   'dropout_rate': 0.2,\n",
       "   'learning_rate': 0.001,\n",
       "   'num_hidden_layers': 2,\n",
       "   'optimizer': 'adam',\n",
       "   'units': 256},\n",
       "  {'activation': 'relu',\n",
       "   'batch_size': 64,\n",
       "   'dropout_rate': 0.2,\n",
       "   'learning_rate': 0.001,\n",
       "   'num_hidden_layers': 2,\n",
       "   'optimizer': 'adam',\n",
       "   'units': 512},\n",
       "  {'activation': 'relu',\n",
       "   'batch_size': 64,\n",
       "   'dropout_rate': 0.2,\n",
       "   'learning_rate': 0.001,\n",
       "   'num_hidden_layers': 3,\n",
       "   'optimizer': 'adam',\n",
       "   'units': 64},\n",
       "  {'activation': 'relu',\n",
       "   'batch_size': 64,\n",
       "   'dropout_rate': 0.2,\n",
       "   'learning_rate': 0.001,\n",
       "   'num_hidden_layers': 3,\n",
       "   'optimizer': 'adam',\n",
       "   'units': 128},\n",
       "  {'activation': 'relu',\n",
       "   'batch_size': 64,\n",
       "   'dropout_rate': 0.2,\n",
       "   'learning_rate': 0.001,\n",
       "   'num_hidden_layers': 3,\n",
       "   'optimizer': 'adam',\n",
       "   'units': 256},\n",
       "  {'activation': 'relu',\n",
       "   'batch_size': 64,\n",
       "   'dropout_rate': 0.2,\n",
       "   'learning_rate': 0.001,\n",
       "   'num_hidden_layers': 3,\n",
       "   'optimizer': 'adam',\n",
       "   'units': 512},\n",
       "  {'activation': 'relu',\n",
       "   'batch_size': 128,\n",
       "   'dropout_rate': 0.2,\n",
       "   'learning_rate': 0.001,\n",
       "   'num_hidden_layers': 2,\n",
       "   'optimizer': 'adam',\n",
       "   'units': 64},\n",
       "  {'activation': 'relu',\n",
       "   'batch_size': 128,\n",
       "   'dropout_rate': 0.2,\n",
       "   'learning_rate': 0.001,\n",
       "   'num_hidden_layers': 2,\n",
       "   'optimizer': 'adam',\n",
       "   'units': 128},\n",
       "  {'activation': 'relu',\n",
       "   'batch_size': 128,\n",
       "   'dropout_rate': 0.2,\n",
       "   'learning_rate': 0.001,\n",
       "   'num_hidden_layers': 2,\n",
       "   'optimizer': 'adam',\n",
       "   'units': 256},\n",
       "  {'activation': 'relu',\n",
       "   'batch_size': 128,\n",
       "   'dropout_rate': 0.2,\n",
       "   'learning_rate': 0.001,\n",
       "   'num_hidden_layers': 2,\n",
       "   'optimizer': 'adam',\n",
       "   'units': 512},\n",
       "  {'activation': 'relu',\n",
       "   'batch_size': 128,\n",
       "   'dropout_rate': 0.2,\n",
       "   'learning_rate': 0.001,\n",
       "   'num_hidden_layers': 3,\n",
       "   'optimizer': 'adam',\n",
       "   'units': 64},\n",
       "  {'activation': 'relu',\n",
       "   'batch_size': 128,\n",
       "   'dropout_rate': 0.2,\n",
       "   'learning_rate': 0.001,\n",
       "   'num_hidden_layers': 3,\n",
       "   'optimizer': 'adam',\n",
       "   'units': 128},\n",
       "  {'activation': 'relu',\n",
       "   'batch_size': 128,\n",
       "   'dropout_rate': 0.2,\n",
       "   'learning_rate': 0.001,\n",
       "   'num_hidden_layers': 3,\n",
       "   'optimizer': 'adam',\n",
       "   'units': 256},\n",
       "  {'activation': 'relu',\n",
       "   'batch_size': 128,\n",
       "   'dropout_rate': 0.2,\n",
       "   'learning_rate': 0.001,\n",
       "   'num_hidden_layers': 3,\n",
       "   'optimizer': 'adam',\n",
       "   'units': 512},\n",
       "  {'activation': 'relu',\n",
       "   'batch_size': 256,\n",
       "   'dropout_rate': 0.2,\n",
       "   'learning_rate': 0.001,\n",
       "   'num_hidden_layers': 2,\n",
       "   'optimizer': 'adam',\n",
       "   'units': 64},\n",
       "  {'activation': 'relu',\n",
       "   'batch_size': 256,\n",
       "   'dropout_rate': 0.2,\n",
       "   'learning_rate': 0.001,\n",
       "   'num_hidden_layers': 2,\n",
       "   'optimizer': 'adam',\n",
       "   'units': 128},\n",
       "  {'activation': 'relu',\n",
       "   'batch_size': 256,\n",
       "   'dropout_rate': 0.2,\n",
       "   'learning_rate': 0.001,\n",
       "   'num_hidden_layers': 2,\n",
       "   'optimizer': 'adam',\n",
       "   'units': 256},\n",
       "  {'activation': 'relu',\n",
       "   'batch_size': 256,\n",
       "   'dropout_rate': 0.2,\n",
       "   'learning_rate': 0.001,\n",
       "   'num_hidden_layers': 2,\n",
       "   'optimizer': 'adam',\n",
       "   'units': 512},\n",
       "  {'activation': 'relu',\n",
       "   'batch_size': 256,\n",
       "   'dropout_rate': 0.2,\n",
       "   'learning_rate': 0.001,\n",
       "   'num_hidden_layers': 3,\n",
       "   'optimizer': 'adam',\n",
       "   'units': 64},\n",
       "  {'activation': 'relu',\n",
       "   'batch_size': 256,\n",
       "   'dropout_rate': 0.2,\n",
       "   'learning_rate': 0.001,\n",
       "   'num_hidden_layers': 3,\n",
       "   'optimizer': 'adam',\n",
       "   'units': 128},\n",
       "  {'activation': 'relu',\n",
       "   'batch_size': 256,\n",
       "   'dropout_rate': 0.2,\n",
       "   'learning_rate': 0.001,\n",
       "   'num_hidden_layers': 3,\n",
       "   'optimizer': 'adam',\n",
       "   'units': 256},\n",
       "  {'activation': 'relu',\n",
       "   'batch_size': 256,\n",
       "   'dropout_rate': 0.2,\n",
       "   'learning_rate': 0.001,\n",
       "   'num_hidden_layers': 3,\n",
       "   'optimizer': 'adam',\n",
       "   'units': 512}],\n",
       " 'split0_test_accuracy': array([0.70490696, 0.71497966, 0.68740601, 0.70813022, 0.68670802,\n",
       "        0.69402278, 0.71117757, 0.71050227, 0.7110357 , 0.69549254,\n",
       "        0.70053172, 0.72492183, 0.69863636, 0.68547659, 0.70835154,\n",
       "        0.71880444, 0.6882402 , 0.70599652, 0.69760922, 0.71417952,\n",
       "        0.70776704, 0.70772732, 0.71201176, 0.68754221, 0.69911304,\n",
       "        0.70785784, 0.7075287 , 0.72643132, 0.71801565, 0.69911871,\n",
       "        0.71753897, 0.7261646 ]),\n",
       " 'split1_test_accuracy': array([0.70087221, 0.70600219, 0.71617703, 0.69998695, 0.71438948,\n",
       "        0.69776812, 0.70670019, 0.69792701, 0.70496938, 0.70986103,\n",
       "        0.71896901, 0.70744925, 0.71770354, 0.71572872, 0.7162508 ,\n",
       "        0.7069896 , 0.70583762, 0.70153048, 0.71336235, 0.70519637,\n",
       "        0.71365744, 0.69671829, 0.70073602, 0.72087005, 0.70733576,\n",
       "        0.71179044, 0.70656399, 0.69339856, 0.69560036, 0.71909385,\n",
       "        0.70491831, 0.70736413]),\n",
       " 'split2_test_accuracy': array([0.70374931, 0.71089383, 0.71685233, 0.71191529, 0.71035473,\n",
       "        0.70976455, 0.70286972, 0.69949324, 0.70189367, 0.71515557,\n",
       "        0.71218768, 0.71278353, 0.70025934, 0.70311374, 0.70985535,\n",
       "        0.72167019, 0.71046255, 0.711711  , 0.69862501, 0.70506018,\n",
       "        0.72090978, 0.71184152, 0.71865122, 0.71742548, 0.71715876,\n",
       "        0.70422032, 0.70062252, 0.71206283, 0.69662749, 0.71370851,\n",
       "        0.69465268, 0.71890091]),\n",
       " 'split3_test_accuracy': array([0.70529852, 0.70891334, 0.70965673, 0.69979968, 0.6934099 ,\n",
       "        0.6924225 , 0.70700095, 0.69977131, 0.70141131, 0.7099575 ,\n",
       "        0.72248736, 0.7087885 , 0.71177909, 0.69865905, 0.69672396,\n",
       "        0.71562658, 0.71441786, 0.72947299, 0.71226145, 0.69196852,\n",
       "        0.69398873, 0.70298889, 0.72012666, 0.70465727, 0.71148968,\n",
       "        0.70970781, 0.70717119, 0.69247924, 0.71731198, 0.70394793,\n",
       "        0.70353367, 0.72239089]),\n",
       " 'mean_test_accuracy': array([0.70370675, 0.71019725, 0.70752303, 0.70495804, 0.70121553,\n",
       "        0.69849449, 0.70693711, 0.70192346, 0.70482752, 0.70761666,\n",
       "        0.71354394, 0.71348578, 0.70709458, 0.70074453, 0.70779541,\n",
       "        0.7157727 , 0.70473956, 0.71217774, 0.70546451, 0.70410115,\n",
       "        0.70908075, 0.704819  , 0.71288141, 0.70762375, 0.70877431,\n",
       "        0.7083941 , 0.7054716 , 0.70609299, 0.70688887, 0.70896725,\n",
       "        0.70516091, 0.71870513]),\n",
       " 'std_test_accuracy': array([0.00173282, 0.00326357, 0.01194963, 0.00523895, 0.01149428,\n",
       "        0.00678983, 0.00294046, 0.00500263, 0.00383535, 0.00732028,\n",
       "        0.00837516, 0.00688804, 0.00794916, 0.01081201, 0.00704669,\n",
       "        0.00550309, 0.00999821, 0.01061738, 0.00736645, 0.00791981,\n",
       "        0.00987885, 0.00562905, 0.00764937, 0.01307294, 0.00657803,\n",
       "        0.00278249, 0.00282078, 0.01410469, 0.01078393, 0.00786154,\n",
       "        0.00816006, 0.00703358]),\n",
       " 'rank_test_accuracy': array([28,  7, 15, 23, 30, 32, 17, 29, 24, 14,  3,  4, 16, 31, 12,  2, 26,\n",
       "         6, 21, 27,  8, 25,  5, 13, 10, 11, 20, 19, 18,  9, 22,  1],\n",
       "       dtype=int32),\n",
       " 'split0_test_roc_auc': array([0.69594504, 0.69829327, 0.6983056 , 0.69729387, 0.69692296,\n",
       "        0.69859849, 0.69732834, 0.69862728, 0.69777897, 0.69845214,\n",
       "        0.698284  , 0.69809981, 0.69892081, 0.69749915, 0.69809705,\n",
       "        0.69977064, 0.6975008 , 0.69937939, 0.69861851, 0.69906756,\n",
       "        0.69977473, 0.69924124, 0.70013534, 0.69830807, 0.69787081,\n",
       "        0.69910522, 0.69989496, 0.69927575, 0.69923394, 0.69860089,\n",
       "        0.69957818, 0.69834029]),\n",
       " 'split1_test_roc_auc': array([0.69508205, 0.69520273, 0.69590017, 0.6963046 , 0.69484078,\n",
       "        0.69676304, 0.69827151, 0.69752824, 0.6973933 , 0.69786352,\n",
       "        0.69538548, 0.69658916, 0.6977108 , 0.69692901, 0.69806771,\n",
       "        0.6986403 , 0.69712711, 0.69780356, 0.69839708, 0.69701584,\n",
       "        0.6954316 , 0.69815267, 0.69837601, 0.69899089, 0.69723541,\n",
       "        0.69622522, 0.69774931, 0.69851293, 0.69771106, 0.69786582,\n",
       "        0.69793315, 0.69819946]),\n",
       " 'split2_test_roc_auc': array([0.69742675, 0.6978055 , 0.698305  , 0.69699661, 0.69826671,\n",
       "        0.69748283, 0.69902666, 0.69809766, 0.69774621, 0.69814911,\n",
       "        0.69808204, 0.69914616, 0.69879993, 0.69839168, 0.69933804,\n",
       "        0.6991558 , 0.6978765 , 0.7000934 , 0.69878947, 0.69878875,\n",
       "        0.69868055, 0.69948325, 0.6981097 , 0.70021691, 0.69919887,\n",
       "        0.69816807, 0.70035714, 0.70083474, 0.69863716, 0.69861751,\n",
       "        0.69968028, 0.69958533]),\n",
       " 'split3_test_roc_auc': array([0.69842627, 0.69874186, 0.69995194, 0.69870152, 0.69969727,\n",
       "        0.69863826, 0.70025831, 0.69935459, 0.69911398, 0.70039199,\n",
       "        0.70012031, 0.69957557, 0.70012891, 0.6994752 , 0.70008644,\n",
       "        0.69951064, 0.6981557 , 0.70002206, 0.7016471 , 0.70075417,\n",
       "        0.69920047, 0.69920113, 0.70082123, 0.70094893, 0.69958067,\n",
       "        0.70089589, 0.70194779, 0.70051867, 0.69986451, 0.69978115,\n",
       "        0.70128255, 0.70065734]),\n",
       " 'mean_test_roc_auc': array([0.69672003, 0.69751084, 0.69811568, 0.69732415, 0.69743193,\n",
       "        0.69787065, 0.6987212 , 0.69840194, 0.69800812, 0.69871419,\n",
       "        0.69796796, 0.69835267, 0.69889011, 0.69807376, 0.69889731,\n",
       "        0.69926934, 0.69766503, 0.6993246 , 0.69936304, 0.69890658,\n",
       "        0.69827184, 0.69901957, 0.69936057, 0.6996162 , 0.69847144,\n",
       "        0.6985986 , 0.6999873 , 0.69978552, 0.69886167, 0.69871634,\n",
       "        0.69961854, 0.6991956 ]),\n",
       " 'std_test_roc_auc': array([0.00129367, 0.00137312, 0.00144501, 0.00087247, 0.00178898,\n",
       "        0.00078996, 0.00107218, 0.00067347, 0.00065613, 0.00099079,\n",
       "        0.00168928, 0.00115098, 0.00085651, 0.00096251, 0.00085687,\n",
       "        0.00042371, 0.00038788, 0.00092115, 0.00132602, 0.00132555,\n",
       "        0.00168486, 0.00051201, 0.00114759, 0.00102947, 0.000955  ,\n",
       "        0.00168467, 0.00149978, 0.00093778, 0.0007935 , 0.00068562,\n",
       "        0.00118479, 0.00100155]),\n",
       " 'rank_test_roc_auc': array([32, 29, 23, 31, 30, 27, 15, 20, 25, 17, 26, 21, 13, 24, 12,  8, 28,\n",
       "         7,  5, 11, 22, 10,  6,  4, 19, 18,  1,  2, 14, 16,  3,  9],\n",
       "       dtype=int32)}"
      ]
     },
     "execution_count": 14,
     "metadata": {},
     "output_type": "execute_result"
    }
   ],
   "source": [
    "grid_search.cv_results_"
   ]
  },
  {
   "cell_type": "code",
   "execution_count": 16,
   "metadata": {},
   "outputs": [
    {
     "name": "stderr",
     "output_type": "stream",
     "text": [
      "IOPub data rate exceeded.\n",
      "The notebook server will temporarily stop sending output\n",
      "to the client in order to avoid crashing it.\n",
      "To change this limit, set the config variable\n",
      "`--NotebookApp.iopub_data_rate_limit`.\n",
      "\n",
      "Current values:\n",
      "NotebookApp.iopub_data_rate_limit=1000000.0 (bytes/sec)\n",
      "NotebookApp.rate_limit_window=3.0 (secs)\n",
      "\n"
     ]
    },
    {
     "name": "stdout",
     "output_type": "stream",
     "text": [
      "Validation accuracy: 0.7995801\n",
      "Best: 0.699987 using {'activation': 'relu', 'batch_size': 256, 'dropout_rate': 0.2, 'learning_rate': 0.001, 'num_hidden_layers': 2, 'optimizer': 'adam', 'units': 256}\n",
      "0.696720 (0.001294) with: {'activation': 'relu', 'batch_size': 32, 'dropout_rate': 0.2, 'learning_rate': 0.001, 'num_hidden_layers': 2, 'optimizer': 'adam', 'units': 64}\n",
      "0.697511 (0.001373) with: {'activation': 'relu', 'batch_size': 32, 'dropout_rate': 0.2, 'learning_rate': 0.001, 'num_hidden_layers': 2, 'optimizer': 'adam', 'units': 128}\n",
      "0.698116 (0.001445) with: {'activation': 'relu', 'batch_size': 32, 'dropout_rate': 0.2, 'learning_rate': 0.001, 'num_hidden_layers': 2, 'optimizer': 'adam', 'units': 256}\n",
      "0.697324 (0.000872) with: {'activation': 'relu', 'batch_size': 32, 'dropout_rate': 0.2, 'learning_rate': 0.001, 'num_hidden_layers': 2, 'optimizer': 'adam', 'units': 512}\n",
      "0.697432 (0.001789) with: {'activation': 'relu', 'batch_size': 32, 'dropout_rate': 0.2, 'learning_rate': 0.001, 'num_hidden_layers': 3, 'optimizer': 'adam', 'units': 64}\n",
      "0.697871 (0.000790) with: {'activation': 'relu', 'batch_size': 32, 'dropout_rate': 0.2, 'learning_rate': 0.001, 'num_hidden_layers': 3, 'optimizer': 'adam', 'units': 128}\n",
      "0.698721 (0.001072) with: {'activation': 'relu', 'batch_size': 32, 'dropout_rate': 0.2, 'learning_rate': 0.001, 'num_hidden_layers': 3, 'optimizer': 'adam', 'units': 256}\n",
      "0.698402 (0.000673) with: {'activation': 'relu', 'batch_size': 32, 'dropout_rate': 0.2, 'learning_rate': 0.001, 'num_hidden_layers': 3, 'optimizer': 'adam', 'units': 512}\n",
      "0.698008 (0.000656) with: {'activation': 'relu', 'batch_size': 64, 'dropout_rate': 0.2, 'learning_rate': 0.001, 'num_hidden_layers': 2, 'optimizer': 'adam', 'units': 64}\n",
      "0.698714 (0.000991) with: {'activation': 'relu', 'batch_size': 64, 'dropout_rate': 0.2, 'learning_rate': 0.001, 'num_hidden_layers': 2, 'optimizer': 'adam', 'units': 128}\n",
      "0.697968 (0.001689) with: {'activation': 'relu', 'batch_size': 64, 'dropout_rate': 0.2, 'learning_rate': 0.001, 'num_hidden_layers': 2, 'optimizer': 'adam', 'units': 256}\n",
      "0.698353 (0.001151) with: {'activation': 'relu', 'batch_size': 64, 'dropout_rate': 0.2, 'learning_rate': 0.001, 'num_hidden_layers': 2, 'optimizer': 'adam', 'units': 512}\n",
      "0.698890 (0.000857) with: {'activation': 'relu', 'batch_size': 64, 'dropout_rate': 0.2, 'learning_rate': 0.001, 'num_hidden_layers': 3, 'optimizer': 'adam', 'units': 64}\n",
      "0.698074 (0.000963) with: {'activation': 'relu', 'batch_size': 64, 'dropout_rate': 0.2, 'learning_rate': 0.001, 'num_hidden_layers': 3, 'optimizer': 'adam', 'units': 128}\n",
      "0.698897 (0.000857) with: {'activation': 'relu', 'batch_size': 64, 'dropout_rate': 0.2, 'learning_rate': 0.001, 'num_hidden_layers': 3, 'optimizer': 'adam', 'units': 256}\n",
      "0.699269 (0.000424) with: {'activation': 'relu', 'batch_size': 64, 'dropout_rate': 0.2, 'learning_rate': 0.001, 'num_hidden_layers': 3, 'optimizer': 'adam', 'units': 512}\n",
      "0.697665 (0.000388) with: {'activation': 'relu', 'batch_size': 128, 'dropout_rate': 0.2, 'learning_rate': 0.001, 'num_hidden_layers': 2, 'optimizer': 'adam', 'units': 64}\n",
      "0.699325 (0.000921) with: {'activation': 'relu', 'batch_size': 128, 'dropout_rate': 0.2, 'learning_rate': 0.001, 'num_hidden_layers': 2, 'optimizer': 'adam', 'units': 128}\n",
      "0.699363 (0.001326) with: {'activation': 'relu', 'batch_size': 128, 'dropout_rate': 0.2, 'learning_rate': 0.001, 'num_hidden_layers': 2, 'optimizer': 'adam', 'units': 256}\n",
      "0.698907 (0.001326) with: {'activation': 'relu', 'batch_size': 128, 'dropout_rate': 0.2, 'learning_rate': 0.001, 'num_hidden_layers': 2, 'optimizer': 'adam', 'units': 512}\n",
      "0.698272 (0.001685) with: {'activation': 'relu', 'batch_size': 128, 'dropout_rate': 0.2, 'learning_rate': 0.001, 'num_hidden_layers': 3, 'optimizer': 'adam', 'units': 64}\n",
      "0.699020 (0.000512) with: {'activation': 'relu', 'batch_size': 128, 'dropout_rate': 0.2, 'learning_rate': 0.001, 'num_hidden_layers': 3, 'optimizer': 'adam', 'units': 128}\n",
      "0.699361 (0.001148) with: {'activation': 'relu', 'batch_size': 128, 'dropout_rate': 0.2, 'learning_rate': 0.001, 'num_hidden_layers': 3, 'optimizer': 'adam', 'units': 256}\n",
      "0.699616 (0.001029) with: {'activation': 'relu', 'batch_size': 128, 'dropout_rate': 0.2, 'learning_rate': 0.001, 'num_hidden_layers': 3, 'optimizer': 'adam', 'units': 512}\n",
      "0.698471 (0.000955) with: {'activation': 'relu', 'batch_size': 256, 'dropout_rate': 0.2, 'learning_rate': 0.001, 'num_hidden_layers': 2, 'optimizer': 'adam', 'units': 64}\n",
      "0.698599 (0.001685) with: {'activation': 'relu', 'batch_size': 256, 'dropout_rate': 0.2, 'learning_rate': 0.001, 'num_hidden_layers': 2, 'optimizer': 'adam', 'units': 128}\n",
      "0.699987 (0.001500) with: {'activation': 'relu', 'batch_size': 256, 'dropout_rate': 0.2, 'learning_rate': 0.001, 'num_hidden_layers': 2, 'optimizer': 'adam', 'units': 256}\n",
      "0.699786 (0.000938) with: {'activation': 'relu', 'batch_size': 256, 'dropout_rate': 0.2, 'learning_rate': 0.001, 'num_hidden_layers': 2, 'optimizer': 'adam', 'units': 512}\n",
      "0.698862 (0.000794) with: {'activation': 'relu', 'batch_size': 256, 'dropout_rate': 0.2, 'learning_rate': 0.001, 'num_hidden_layers': 3, 'optimizer': 'adam', 'units': 64}\n",
      "0.698716 (0.000686) with: {'activation': 'relu', 'batch_size': 256, 'dropout_rate': 0.2, 'learning_rate': 0.001, 'num_hidden_layers': 3, 'optimizer': 'adam', 'units': 128}\n",
      "0.699619 (0.001185) with: {'activation': 'relu', 'batch_size': 256, 'dropout_rate': 0.2, 'learning_rate': 0.001, 'num_hidden_layers': 3, 'optimizer': 'adam', 'units': 256}\n",
      "0.699196 (0.001002) with: {'activation': 'relu', 'batch_size': 256, 'dropout_rate': 0.2, 'learning_rate': 0.001, 'num_hidden_layers': 3, 'optimizer': 'adam', 'units': 512}\n"
     ]
    }
   ],
   "source": [
    "# Generate some accuracy metrics\n",
    "score = best_model.evaluate(X_valid, y_valid)\n",
    "print('Validation accuracy:', score[1])\n",
    "\n",
    "\n",
    "# summarize results\n",
    "print(\"Best: %f using %s\" % (grid_search.best_score_, grid_search.best_params_))\n",
    "means = grid_search.cv_results_['mean_test_roc_auc']\n",
    "stds = grid_search.cv_results_['std_test_roc_auc']\n",
    "params = grid_search.cv_results_['params']\n",
    "for mean, stdev, param in zip(means, stds, params):\n",
    "    print(\"%f (%f) with: %r\" % (mean, stdev, param))\n",
    "    \n"
   ]
  },
  {
   "cell_type": "code",
   "execution_count": 18,
   "metadata": {
    "scrolled": false
   },
   "outputs": [
    {
     "name": "stdout",
     "output_type": "stream",
     "text": [
      "Train on 704876 samples, validate on 176220 samples\n",
      "Epoch 1/200\n",
      "704876/704876 [==============================] - 20s 28us/sample - loss: 0.5883 - accuracy: 0.6894 - val_loss: 0.5727 - val_accuracy: 0.6749\n",
      "Epoch 2/200\n",
      "704876/704876 [==============================] - 17s 25us/sample - loss: 0.5760 - accuracy: 0.7013 - val_loss: 0.5687 - val_accuracy: 0.7112\n",
      "Epoch 3/200\n",
      "704876/704876 [==============================] - 17s 24us/sample - loss: 0.5745 - accuracy: 0.7038 - val_loss: 0.5711 - val_accuracy: 0.7222\n",
      "Epoch 4/200\n",
      "704876/704876 [==============================] - 18s 25us/sample - loss: 0.5732 - accuracy: 0.7050 - val_loss: 0.5681 - val_accuracy: 0.7023\n",
      "Epoch 5/200\n",
      "704876/704876 [==============================] - 18s 25us/sample - loss: 0.5723 - accuracy: 0.7069 - val_loss: 0.5670 - val_accuracy: 0.7141\n",
      "Epoch 6/200\n",
      "704876/704876 [==============================] - 17s 25us/sample - loss: 0.5719 - accuracy: 0.7070 - val_loss: 0.5670 - val_accuracy: 0.7192\n",
      "Epoch 7/200\n",
      "704876/704876 [==============================] - 17s 25us/sample - loss: 0.5713 - accuracy: 0.7077 - val_loss: 0.5662 - val_accuracy: 0.7208\n",
      "Epoch 8/200\n",
      "704876/704876 [==============================] - 17s 25us/sample - loss: 0.5709 - accuracy: 0.7077 - val_loss: 0.5675 - val_accuracy: 0.7008\n",
      "Epoch 9/200\n",
      "704876/704876 [==============================] - 17s 24us/sample - loss: 0.5706 - accuracy: 0.7081 - val_loss: 0.5671 - val_accuracy: 0.7236\n",
      "Epoch 10/200\n",
      "704876/704876 [==============================] - 18s 25us/sample - loss: 0.5705 - accuracy: 0.7089 - val_loss: 0.5652 - val_accuracy: 0.7015\n",
      "Epoch 11/200\n",
      "704876/704876 [==============================] - 17s 24us/sample - loss: 0.5699 - accuracy: 0.7078 - val_loss: 0.5665 - val_accuracy: 0.6882\n",
      "Epoch 12/200\n",
      "704876/704876 [==============================] - 17s 24us/sample - loss: 0.5696 - accuracy: 0.7090 - val_loss: 0.5651 - val_accuracy: 0.6982\n",
      "Epoch 13/200\n",
      "704876/704876 [==============================] - 17s 24us/sample - loss: 0.5698 - accuracy: 0.7087 - val_loss: 0.5647 - val_accuracy: 0.7155\n",
      "Epoch 14/200\n",
      "704876/704876 [==============================] - 17s 24us/sample - loss: 0.5693 - accuracy: 0.7095 - val_loss: 0.5665 - val_accuracy: 0.7123\n",
      "Epoch 15/200\n",
      "704876/704876 [==============================] - 17s 24us/sample - loss: 0.5693 - accuracy: 0.7085 - val_loss: 0.5660 - val_accuracy: 0.7264\n",
      "Epoch 16/200\n",
      "704876/704876 [==============================] - 17s 24us/sample - loss: 0.5694 - accuracy: 0.7094 - val_loss: 0.5646 - val_accuracy: 0.7135\n",
      "Epoch 17/200\n",
      "704876/704876 [==============================] - 17s 24us/sample - loss: 0.5690 - accuracy: 0.7091 - val_loss: 0.5658 - val_accuracy: 0.6961\n",
      "Epoch 18/200\n",
      "704876/704876 [==============================] - 16s 23us/sample - loss: 0.5690 - accuracy: 0.7091 - val_loss: 0.5649 - val_accuracy: 0.7097\n",
      "Epoch 19/200\n",
      "704876/704876 [==============================] - 17s 24us/sample - loss: 0.5687 - accuracy: 0.7092 - val_loss: 0.5645 - val_accuracy: 0.7073\n",
      "Epoch 20/200\n",
      "704876/704876 [==============================] - 16s 23us/sample - loss: 0.5687 - accuracy: 0.7097 - val_loss: 0.5646 - val_accuracy: 0.7147\n",
      "Epoch 21/200\n",
      "704876/704876 [==============================] - 16s 23us/sample - loss: 0.5686 - accuracy: 0.7093 - val_loss: 0.5648 - val_accuracy: 0.7096\n",
      "Epoch 22/200\n",
      "704876/704876 [==============================] - 16s 23us/sample - loss: 0.5686 - accuracy: 0.7089 - val_loss: 0.5646 - val_accuracy: 0.7208\n",
      "Epoch 23/200\n",
      "704876/704876 [==============================] - 16s 23us/sample - loss: 0.5683 - accuracy: 0.7102 - val_loss: 0.5644 - val_accuracy: 0.7068\n",
      "Epoch 24/200\n",
      "704876/704876 [==============================] - 16s 23us/sample - loss: 0.5684 - accuracy: 0.7096 - val_loss: 0.5648 - val_accuracy: 0.7001\n",
      "Epoch 25/200\n",
      "704876/704876 [==============================] - 15s 22us/sample - loss: 0.5682 - accuracy: 0.7092 - val_loss: 0.5642 - val_accuracy: 0.7117\n",
      "Best Validation Loss: 0.5642\n",
      "Best Validation Accuracy: 0.7264\n"
     ]
    },
    {
     "name": "stderr",
     "output_type": "stream",
     "text": [
      "IOPub data rate exceeded.\n",
      "The notebook server will temporarily stop sending output\n",
      "to the client in order to avoid crashing it.\n",
      "To change this limit, set the config variable\n",
      "`--NotebookApp.iopub_data_rate_limit`.\n",
      "\n",
      "Current values:\n",
      "NotebookApp.iopub_data_rate_limit=1000000.0 (bytes/sec)\n",
      "NotebookApp.rate_limit_window=3.0 (secs)\n",
      "\n"
     ]
    },
    {
     "name": "stdout",
     "output_type": "stream",
     "text": [
      "Validation accuracy: 0.70149815\n",
      "Best: 0.699987 using {'activation': 'relu', 'batch_size': 256, 'dropout_rate': 0.2, 'learning_rate': 0.001, 'num_hidden_layers': 2, 'optimizer': 'adam', 'units': 256}\n"
     ]
    },
    {
     "ename": "KeyError",
     "evalue": "'mean_test_score'",
     "output_type": "error",
     "traceback": [
      "\u001b[0;31m---------------------------------------------------------------------------\u001b[0m",
      "\u001b[0;31mKeyError\u001b[0m                                  Traceback (most recent call last)",
      "\u001b[0;32m<ipython-input-18-07c979c960f1>\u001b[0m in \u001b[0;36m<module>\u001b[0;34m\u001b[0m\n\u001b[1;32m     31\u001b[0m \u001b[0;31m# summarize results\u001b[0m\u001b[0;34m\u001b[0m\u001b[0;34m\u001b[0m\u001b[0;34m\u001b[0m\u001b[0m\n\u001b[1;32m     32\u001b[0m \u001b[0mprint\u001b[0m\u001b[0;34m(\u001b[0m\u001b[0;34m\"Best: %f using %s\"\u001b[0m \u001b[0;34m%\u001b[0m \u001b[0;34m(\u001b[0m\u001b[0mgrid_search\u001b[0m\u001b[0;34m.\u001b[0m\u001b[0mbest_score_\u001b[0m\u001b[0;34m,\u001b[0m \u001b[0mgrid_search\u001b[0m\u001b[0;34m.\u001b[0m\u001b[0mbest_params_\u001b[0m\u001b[0;34m)\u001b[0m\u001b[0;34m)\u001b[0m\u001b[0;34m\u001b[0m\u001b[0;34m\u001b[0m\u001b[0m\n\u001b[0;32m---> 33\u001b[0;31m \u001b[0mmeans\u001b[0m \u001b[0;34m=\u001b[0m \u001b[0mgrid_search\u001b[0m\u001b[0;34m.\u001b[0m\u001b[0mcv_results_\u001b[0m\u001b[0;34m[\u001b[0m\u001b[0;34m'mean_test_score'\u001b[0m\u001b[0;34m]\u001b[0m\u001b[0;34m\u001b[0m\u001b[0;34m\u001b[0m\u001b[0m\n\u001b[0m\u001b[1;32m     34\u001b[0m \u001b[0mstds\u001b[0m \u001b[0;34m=\u001b[0m \u001b[0mgrid_search\u001b[0m\u001b[0;34m.\u001b[0m\u001b[0mcv_results_\u001b[0m\u001b[0;34m[\u001b[0m\u001b[0;34m'std_test_score'\u001b[0m\u001b[0;34m]\u001b[0m\u001b[0;34m\u001b[0m\u001b[0;34m\u001b[0m\u001b[0m\n\u001b[1;32m     35\u001b[0m \u001b[0mparams\u001b[0m \u001b[0;34m=\u001b[0m \u001b[0mgrid_search\u001b[0m\u001b[0;34m.\u001b[0m\u001b[0mcv_results_\u001b[0m\u001b[0;34m[\u001b[0m\u001b[0;34m'params'\u001b[0m\u001b[0;34m]\u001b[0m\u001b[0;34m\u001b[0m\u001b[0;34m\u001b[0m\u001b[0m\n",
      "\u001b[0;31mKeyError\u001b[0m: 'mean_test_score'"
     ]
    },
    {
     "data": {
      "image/png": "[encoded data removed]",
      "text/plain": [
       "<Figure size 432x288 with 1 Axes>"
      ]
     },
     "metadata": {
      "needs_background": "light"
     },
     "output_type": "display_data"
    },
    {
     "data": {
      "image/png": "[encoded data removed]",
      "text/plain": [
       "<Figure size 432x288 with 1 Axes>"
      ]
     },
     "metadata": {
      "needs_background": "light"
     },
     "output_type": "display_data"
    }
   ],
   "source": [
    "\n",
    "early_stopping = keras.callbacks.EarlyStopping(\n",
    "    monitor='val_loss',\n",
    "    patience=15,\n",
    "    min_delta=0.001,\n",
    "    restore_best_weights=True\n",
    ")\n",
    "\n",
    "history = best_model.fit(\n",
    "    X_train,\n",
    "    y_train,\n",
    "    validation_data=(X_valid, y_valid),\n",
    "    batch_size=best_params['batch_size'],\n",
    "    epochs=20,\n",
    "    callbacks=[early_stopping],\n",
    "    class_weight=class_weight\n",
    ")\n",
    "\n",
    "history_df = pd.DataFrame(history.history)\n",
    "history_df.loc[:, ['loss', 'val_loss']].plot(title=\"Cross-entropy\")\n",
    "history_df.loc[:, ['accuracy', 'val_accuracy']].plot(title=\"Accuracy\")\n",
    "\n",
    "print((\"Best Validation Loss: {:0.4f}\" +\\\n",
    "      \"\\nBest Validation Accuracy: {:0.4f}\")\\\n",
    "      .format(history_df['val_loss'].min(), \n",
    "              history_df['val_accuracy'].max()))\n",
    "\n"
   ]
  },
  {
   "cell_type": "code",
   "execution_count": 19,
   "metadata": {},
   "outputs": [
    {
     "name": "stderr",
     "output_type": "stream",
     "text": [
      "IOPub data rate exceeded.\n",
      "The notebook server will temporarily stop sending output\n",
      "to the client in order to avoid crashing it.\n",
      "To change this limit, set the config variable\n",
      "`--NotebookApp.iopub_data_rate_limit`.\n",
      "\n",
      "Current values:\n",
      "NotebookApp.iopub_data_rate_limit=1000000.0 (bytes/sec)\n",
      "NotebookApp.rate_limit_window=3.0 (secs)\n",
      "\n"
     ]
    },
    {
     "name": "stdout",
     "output_type": "stream",
     "text": [
      "Validation accuracy: 0.70149815\n",
      "Best: 0.699987 using {'activation': 'relu', 'batch_size': 256, 'dropout_rate': 0.2, 'learning_rate': 0.001, 'num_hidden_layers': 2, 'optimizer': 'adam', 'units': 256}\n",
      "0.696720 (0.001294) with: {'activation': 'relu', 'batch_size': 32, 'dropout_rate': 0.2, 'learning_rate': 0.001, 'num_hidden_layers': 2, 'optimizer': 'adam', 'units': 64}\n",
      "0.697511 (0.001373) with: {'activation': 'relu', 'batch_size': 32, 'dropout_rate': 0.2, 'learning_rate': 0.001, 'num_hidden_layers': 2, 'optimizer': 'adam', 'units': 128}\n",
      "0.698116 (0.001445) with: {'activation': 'relu', 'batch_size': 32, 'dropout_rate': 0.2, 'learning_rate': 0.001, 'num_hidden_layers': 2, 'optimizer': 'adam', 'units': 256}\n",
      "0.697324 (0.000872) with: {'activation': 'relu', 'batch_size': 32, 'dropout_rate': 0.2, 'learning_rate': 0.001, 'num_hidden_layers': 2, 'optimizer': 'adam', 'units': 512}\n",
      "0.697432 (0.001789) with: {'activation': 'relu', 'batch_size': 32, 'dropout_rate': 0.2, 'learning_rate': 0.001, 'num_hidden_layers': 3, 'optimizer': 'adam', 'units': 64}\n",
      "0.697871 (0.000790) with: {'activation': 'relu', 'batch_size': 32, 'dropout_rate': 0.2, 'learning_rate': 0.001, 'num_hidden_layers': 3, 'optimizer': 'adam', 'units': 128}\n",
      "0.698721 (0.001072) with: {'activation': 'relu', 'batch_size': 32, 'dropout_rate': 0.2, 'learning_rate': 0.001, 'num_hidden_layers': 3, 'optimizer': 'adam', 'units': 256}\n",
      "0.698402 (0.000673) with: {'activation': 'relu', 'batch_size': 32, 'dropout_rate': 0.2, 'learning_rate': 0.001, 'num_hidden_layers': 3, 'optimizer': 'adam', 'units': 512}\n",
      "0.698008 (0.000656) with: {'activation': 'relu', 'batch_size': 64, 'dropout_rate': 0.2, 'learning_rate': 0.001, 'num_hidden_layers': 2, 'optimizer': 'adam', 'units': 64}\n",
      "0.698714 (0.000991) with: {'activation': 'relu', 'batch_size': 64, 'dropout_rate': 0.2, 'learning_rate': 0.001, 'num_hidden_layers': 2, 'optimizer': 'adam', 'units': 128}\n",
      "0.697968 (0.001689) with: {'activation': 'relu', 'batch_size': 64, 'dropout_rate': 0.2, 'learning_rate': 0.001, 'num_hidden_layers': 2, 'optimizer': 'adam', 'units': 256}\n",
      "0.698353 (0.001151) with: {'activation': 'relu', 'batch_size': 64, 'dropout_rate': 0.2, 'learning_rate': 0.001, 'num_hidden_layers': 2, 'optimizer': 'adam', 'units': 512}\n",
      "0.698890 (0.000857) with: {'activation': 'relu', 'batch_size': 64, 'dropout_rate': 0.2, 'learning_rate': 0.001, 'num_hidden_layers': 3, 'optimizer': 'adam', 'units': 64}\n",
      "0.698074 (0.000963) with: {'activation': 'relu', 'batch_size': 64, 'dropout_rate': 0.2, 'learning_rate': 0.001, 'num_hidden_layers': 3, 'optimizer': 'adam', 'units': 128}\n",
      "0.698897 (0.000857) with: {'activation': 'relu', 'batch_size': 64, 'dropout_rate': 0.2, 'learning_rate': 0.001, 'num_hidden_layers': 3, 'optimizer': 'adam', 'units': 256}\n",
      "0.699269 (0.000424) with: {'activation': 'relu', 'batch_size': 64, 'dropout_rate': 0.2, 'learning_rate': 0.001, 'num_hidden_layers': 3, 'optimizer': 'adam', 'units': 512}\n",
      "0.697665 (0.000388) with: {'activation': 'relu', 'batch_size': 128, 'dropout_rate': 0.2, 'learning_rate': 0.001, 'num_hidden_layers': 2, 'optimizer': 'adam', 'units': 64}\n",
      "0.699325 (0.000921) with: {'activation': 'relu', 'batch_size': 128, 'dropout_rate': 0.2, 'learning_rate': 0.001, 'num_hidden_layers': 2, 'optimizer': 'adam', 'units': 128}\n",
      "0.699363 (0.001326) with: {'activation': 'relu', 'batch_size': 128, 'dropout_rate': 0.2, 'learning_rate': 0.001, 'num_hidden_layers': 2, 'optimizer': 'adam', 'units': 256}\n",
      "0.698907 (0.001326) with: {'activation': 'relu', 'batch_size': 128, 'dropout_rate': 0.2, 'learning_rate': 0.001, 'num_hidden_layers': 2, 'optimizer': 'adam', 'units': 512}\n",
      "0.698272 (0.001685) with: {'activation': 'relu', 'batch_size': 128, 'dropout_rate': 0.2, 'learning_rate': 0.001, 'num_hidden_layers': 3, 'optimizer': 'adam', 'units': 64}\n",
      "0.699020 (0.000512) with: {'activation': 'relu', 'batch_size': 128, 'dropout_rate': 0.2, 'learning_rate': 0.001, 'num_hidden_layers': 3, 'optimizer': 'adam', 'units': 128}\n",
      "0.699361 (0.001148) with: {'activation': 'relu', 'batch_size': 128, 'dropout_rate': 0.2, 'learning_rate': 0.001, 'num_hidden_layers': 3, 'optimizer': 'adam', 'units': 256}\n",
      "0.699616 (0.001029) with: {'activation': 'relu', 'batch_size': 128, 'dropout_rate': 0.2, 'learning_rate': 0.001, 'num_hidden_layers': 3, 'optimizer': 'adam', 'units': 512}\n",
      "0.698471 (0.000955) with: {'activation': 'relu', 'batch_size': 256, 'dropout_rate': 0.2, 'learning_rate': 0.001, 'num_hidden_layers': 2, 'optimizer': 'adam', 'units': 64}\n",
      "0.698599 (0.001685) with: {'activation': 'relu', 'batch_size': 256, 'dropout_rate': 0.2, 'learning_rate': 0.001, 'num_hidden_layers': 2, 'optimizer': 'adam', 'units': 128}\n",
      "0.699987 (0.001500) with: {'activation': 'relu', 'batch_size': 256, 'dropout_rate': 0.2, 'learning_rate': 0.001, 'num_hidden_layers': 2, 'optimizer': 'adam', 'units': 256}\n",
      "0.699786 (0.000938) with: {'activation': 'relu', 'batch_size': 256, 'dropout_rate': 0.2, 'learning_rate': 0.001, 'num_hidden_layers': 2, 'optimizer': 'adam', 'units': 512}\n",
      "0.698862 (0.000794) with: {'activation': 'relu', 'batch_size': 256, 'dropout_rate': 0.2, 'learning_rate': 0.001, 'num_hidden_layers': 3, 'optimizer': 'adam', 'units': 64}\n",
      "0.698716 (0.000686) with: {'activation': 'relu', 'batch_size': 256, 'dropout_rate': 0.2, 'learning_rate': 0.001, 'num_hidden_layers': 3, 'optimizer': 'adam', 'units': 128}\n",
      "0.699619 (0.001185) with: {'activation': 'relu', 'batch_size': 256, 'dropout_rate': 0.2, 'learning_rate': 0.001, 'num_hidden_layers': 3, 'optimizer': 'adam', 'units': 256}\n",
      "0.699196 (0.001002) with: {'activation': 'relu', 'batch_size': 256, 'dropout_rate': 0.2, 'learning_rate': 0.001, 'num_hidden_layers': 3, 'optimizer': 'adam', 'units': 512}\n"
     ]
    }
   ],
   "source": [
    "# Generate some accuracy metrics\n",
    "score = best_model.evaluate(X_valid, y_valid)\n",
    "print('Validation accuracy:', score[1])\n",
    "\n",
    "# summarize results\n",
    "print(\"Best: %f using %s\" % (grid_search.best_score_, grid_search.best_params_))\n",
    "means = grid_search.cv_results_['mean_test_roc_auc']\n",
    "stds = grid_search.cv_results_['std_test_roc_auc']\n",
    "params = grid_search.cv_results_['params']\n",
    "for mean, stdev, param in zip(means, stds, params):\n",
    "    print(\"%f (%f) with: %r\" % (mean, stdev, param))"
   ]
  },
  {
   "cell_type": "code",
   "execution_count": 20,
   "metadata": {},
   "outputs": [
    {
     "name": "stdout",
     "output_type": "stream",
     "text": [
      "Model: \"sequential_130\"\n",
      "_________________________________________________________________\n",
      "Layer (type)                 Output Shape              Param #   \n",
      "=================================================================\n",
      "batch_normalization_454 (Bat (None, 10)                40        \n",
      "_________________________________________________________________\n",
      "dense_454 (Dense)            (None, 256)               2816      \n",
      "_________________________________________________________________\n",
      "batch_normalization_455 (Bat (None, 256)               1024      \n",
      "_________________________________________________________________\n",
      "dropout_324 (Dropout)        (None, 256)               0         \n",
      "_________________________________________________________________\n",
      "dense_455 (Dense)            (None, 256)               65792     \n",
      "_________________________________________________________________\n",
      "batch_normalization_456 (Bat (None, 256)               1024      \n",
      "_________________________________________________________________\n",
      "dropout_325 (Dropout)        (None, 256)               0         \n",
      "_________________________________________________________________\n",
      "dense_456 (Dense)            (None, 1)                 257       \n",
      "=================================================================\n",
      "Total params: 70,953\n",
      "Trainable params: 69,909\n",
      "Non-trainable params: 1,044\n",
      "_________________________________________________________________\n"
     ]
    }
   ],
   "source": [
    "best_model.summary() # v important in this model to see no. hidden layers"
   ]
  },
  {
   "cell_type": "code",
   "execution_count": 21,
   "metadata": {},
   "outputs": [
    {
     "data": {
      "image/svg+xml": [
       "<svg height=\"678pt\" viewBox=\"0.00 0.00 252.73 751.40\" width=\"228pt\" xmlns=\"http://www.w3.org/2000/svg\" xmlns:xlink=\"http://www.w3.org/1999/xlink\">\n",
       "<g class=\"graph\" id=\"graph0\" transform=\"scale(0.902778 0.902778) rotate(0) translate(4 747.4)\">\n",
       "<title>G</title>\n",
       "<polygon fill=\"white\" points=\"-4,4 -4,-747.4 248.728,-747.4 248.728,4 -4,4\" stroke=\"none\"/>\n",
       "<!-- 140241248675488 -->\n",
       "<g class=\"node\" id=\"node1\"><title>140241248675488</title>\n",
       "<polygon fill=\"none\" points=\"24.5028,-693.3 24.5028,-742.9 220.225,-742.9 220.225,-693.3 24.5028,-693.3\" stroke=\"black\"/>\n",
       "<text font-family=\"Times,serif\" font-size=\"14.00\" text-anchor=\"middle\" x=\"63.5996\" y=\"-713.9\">InputLayer</text>\n",
       "<polyline fill=\"none\" points=\"102.696,-693.3 102.696,-742.9 \" stroke=\"black\"/>\n",
       "<text font-family=\"Times,serif\" font-size=\"14.00\" text-anchor=\"middle\" x=\"130.532\" y=\"-726.3\">input:</text>\n",
       "<polyline fill=\"none\" points=\"102.696,-718.1 158.368,-718.1 \" stroke=\"black\"/>\n",
       "<text font-family=\"Times,serif\" font-size=\"14.00\" text-anchor=\"middle\" x=\"130.532\" y=\"-701.5\">output:</text>\n",
       "<polyline fill=\"none\" points=\"158.368,-693.3 158.368,-742.9 \" stroke=\"black\"/>\n",
       "<text font-family=\"Times,serif\" font-size=\"14.00\" text-anchor=\"middle\" x=\"189.297\" y=\"-726.3\">[(?, 10)]</text>\n",
       "<polyline fill=\"none\" points=\"158.368,-718.1 220.225,-718.1 \" stroke=\"black\"/>\n",
       "<text font-family=\"Times,serif\" font-size=\"14.00\" text-anchor=\"middle\" x=\"189.297\" y=\"-701.5\">[(?, 10)]</text>\n",
       "</g>\n",
       "<!-- 140222511417496 -->\n",
       "<g class=\"node\" id=\"node2\"><title>140222511417496</title>\n",
       "<polygon fill=\"none\" points=\"3.5,-606.7 3.5,-656.3 241.228,-656.3 241.228,-606.7 3.5,-606.7\" stroke=\"black\"/>\n",
       "<text font-family=\"Times,serif\" font-size=\"14.00\" text-anchor=\"middle\" x=\"68.2602\" y=\"-627.3\">BatchNormalization</text>\n",
       "<polyline fill=\"none\" points=\"133.02,-606.7 133.02,-656.3 \" stroke=\"black\"/>\n",
       "<text font-family=\"Times,serif\" font-size=\"14.00\" text-anchor=\"middle\" x=\"160.856\" y=\"-639.7\">input:</text>\n",
       "<polyline fill=\"none\" points=\"133.02,-631.5 188.692,-631.5 \" stroke=\"black\"/>\n",
       "<text font-family=\"Times,serif\" font-size=\"14.00\" text-anchor=\"middle\" x=\"160.856\" y=\"-614.9\">output:</text>\n",
       "<polyline fill=\"none\" points=\"188.692,-606.7 188.692,-656.3 \" stroke=\"black\"/>\n",
       "<text font-family=\"Times,serif\" font-size=\"14.00\" text-anchor=\"middle\" x=\"214.96\" y=\"-639.7\">(?, 10)</text>\n",
       "<polyline fill=\"none\" points=\"188.692,-631.5 241.228,-631.5 \" stroke=\"black\"/>\n",
       "<text font-family=\"Times,serif\" font-size=\"14.00\" text-anchor=\"middle\" x=\"214.96\" y=\"-614.9\">(?, 10)</text>\n",
       "</g>\n",
       "<!-- 140241248675488&#45;&gt;140222511417496 -->\n",
       "<g class=\"edge\" id=\"edge1\"><title>140241248675488-&gt;140222511417496</title>\n",
       "<path d=\"M122.364,-693.083C122.364,-684.867 122.364,-675.512 122.364,-666.652\" fill=\"none\" stroke=\"black\"/>\n",
       "<polygon fill=\"black\" points=\"125.864,-666.577 122.364,-656.577 118.864,-666.577 125.864,-666.577\" stroke=\"black\"/>\n",
       "</g>\n",
       "<!-- 140241248675712 -->\n",
       "<g class=\"node\" id=\"node3\"><title>140241248675712</title>\n",
       "<polygon fill=\"none\" points=\"39.27,-520.1 39.27,-569.7 205.458,-569.7 205.458,-520.1 39.27,-520.1\" stroke=\"black\"/>\n",
       "<text font-family=\"Times,serif\" font-size=\"14.00\" text-anchor=\"middle\" x=\"64.7602\" y=\"-540.7\">Dense</text>\n",
       "<polyline fill=\"none\" points=\"90.2504,-520.1 90.2504,-569.7 \" stroke=\"black\"/>\n",
       "<text font-family=\"Times,serif\" font-size=\"14.00\" text-anchor=\"middle\" x=\"118.086\" y=\"-553.1\">input:</text>\n",
       "<polyline fill=\"none\" points=\"90.2504,-544.9 145.922,-544.9 \" stroke=\"black\"/>\n",
       "<text font-family=\"Times,serif\" font-size=\"14.00\" text-anchor=\"middle\" x=\"118.086\" y=\"-528.3\">output:</text>\n",
       "<polyline fill=\"none\" points=\"145.922,-520.1 145.922,-569.7 \" stroke=\"black\"/>\n",
       "<text font-family=\"Times,serif\" font-size=\"14.00\" text-anchor=\"middle\" x=\"175.69\" y=\"-553.1\">(?, 10)</text>\n",
       "<polyline fill=\"none\" points=\"145.922,-544.9 205.458,-544.9 \" stroke=\"black\"/>\n",
       "<text font-family=\"Times,serif\" font-size=\"14.00\" text-anchor=\"middle\" x=\"175.69\" y=\"-528.3\">(?, 256)</text>\n",
       "</g>\n",
       "<!-- 140222511417496&#45;&gt;140241248675712 -->\n",
       "<g class=\"edge\" id=\"edge2\"><title>140222511417496-&gt;140241248675712</title>\n",
       "<path d=\"M122.364,-606.483C122.364,-598.267 122.364,-588.912 122.364,-580.052\" fill=\"none\" stroke=\"black\"/>\n",
       "<polygon fill=\"black\" points=\"125.864,-579.977 122.364,-569.977 118.864,-579.977 125.864,-579.977\" stroke=\"black\"/>\n",
       "</g>\n",
       "<!-- 140222550469488 -->\n",
       "<g class=\"node\" id=\"node4\"><title>140222550469488</title>\n",
       "<polygon fill=\"none\" points=\"0,-433.5 0,-483.1 244.728,-483.1 244.728,-433.5 0,-433.5\" stroke=\"black\"/>\n",
       "<text font-family=\"Times,serif\" font-size=\"14.00\" text-anchor=\"middle\" x=\"64.7602\" y=\"-454.1\">BatchNormalization</text>\n",
       "<polyline fill=\"none\" points=\"129.52,-433.5 129.52,-483.1 \" stroke=\"black\"/>\n",
       "<text font-family=\"Times,serif\" font-size=\"14.00\" text-anchor=\"middle\" x=\"157.356\" y=\"-466.5\">input:</text>\n",
       "<polyline fill=\"none\" points=\"129.52,-458.3 185.192,-458.3 \" stroke=\"black\"/>\n",
       "<text font-family=\"Times,serif\" font-size=\"14.00\" text-anchor=\"middle\" x=\"157.356\" y=\"-441.7\">output:</text>\n",
       "<polyline fill=\"none\" points=\"185.192,-433.5 185.192,-483.1 \" stroke=\"black\"/>\n",
       "<text font-family=\"Times,serif\" font-size=\"14.00\" text-anchor=\"middle\" x=\"214.96\" y=\"-466.5\">(?, 256)</text>\n",
       "<polyline fill=\"none\" points=\"185.192,-458.3 244.728,-458.3 \" stroke=\"black\"/>\n",
       "<text font-family=\"Times,serif\" font-size=\"14.00\" text-anchor=\"middle\" x=\"214.96\" y=\"-441.7\">(?, 256)</text>\n",
       "</g>\n",
       "<!-- 140241248675712&#45;&gt;140222550469488 -->\n",
       "<g class=\"edge\" id=\"edge3\"><title>140241248675712-&gt;140222550469488</title>\n",
       "<path d=\"M122.364,-519.883C122.364,-511.667 122.364,-502.312 122.364,-493.452\" fill=\"none\" stroke=\"black\"/>\n",
       "<polygon fill=\"black\" points=\"125.864,-493.377 122.364,-483.377 118.864,-493.377 125.864,-493.377\" stroke=\"black\"/>\n",
       "</g>\n",
       "<!-- 140221974796888 -->\n",
       "<g class=\"node\" id=\"node5\"><title>140221974796888</title>\n",
       "<polygon fill=\"none\" points=\"33.4313,-346.9 33.4313,-396.5 211.297,-396.5 211.297,-346.9 33.4313,-346.9\" stroke=\"black\"/>\n",
       "<text font-family=\"Times,serif\" font-size=\"14.00\" text-anchor=\"middle\" x=\"64.7602\" y=\"-367.5\">Dropout</text>\n",
       "<polyline fill=\"none\" points=\"96.0891,-346.9 96.0891,-396.5 \" stroke=\"black\"/>\n",
       "<text font-family=\"Times,serif\" font-size=\"14.00\" text-anchor=\"middle\" x=\"123.925\" y=\"-379.9\">input:</text>\n",
       "<polyline fill=\"none\" points=\"96.0891,-371.7 151.761,-371.7 \" stroke=\"black\"/>\n",
       "<text font-family=\"Times,serif\" font-size=\"14.00\" text-anchor=\"middle\" x=\"123.925\" y=\"-355.1\">output:</text>\n",
       "<polyline fill=\"none\" points=\"151.761,-346.9 151.761,-396.5 \" stroke=\"black\"/>\n",
       "<text font-family=\"Times,serif\" font-size=\"14.00\" text-anchor=\"middle\" x=\"181.529\" y=\"-379.9\">(?, 256)</text>\n",
       "<polyline fill=\"none\" points=\"151.761,-371.7 211.297,-371.7 \" stroke=\"black\"/>\n",
       "<text font-family=\"Times,serif\" font-size=\"14.00\" text-anchor=\"middle\" x=\"181.529\" y=\"-355.1\">(?, 256)</text>\n",
       "</g>\n",
       "<!-- 140222550469488&#45;&gt;140221974796888 -->\n",
       "<g class=\"edge\" id=\"edge4\"><title>140222550469488-&gt;140221974796888</title>\n",
       "<path d=\"M122.364,-433.283C122.364,-425.067 122.364,-415.712 122.364,-406.852\" fill=\"none\" stroke=\"black\"/>\n",
       "<polygon fill=\"black\" points=\"125.864,-406.777 122.364,-396.777 118.864,-406.777 125.864,-406.777\" stroke=\"black\"/>\n",
       "</g>\n",
       "<!-- 140223005809968 -->\n",
       "<g class=\"node\" id=\"node6\"><title>140223005809968</title>\n",
       "<polygon fill=\"none\" points=\"39.27,-260.3 39.27,-309.9 205.458,-309.9 205.458,-260.3 39.27,-260.3\" stroke=\"black\"/>\n",
       "<text font-family=\"Times,serif\" font-size=\"14.00\" text-anchor=\"middle\" x=\"64.7602\" y=\"-280.9\">Dense</text>\n",
       "<polyline fill=\"none\" points=\"90.2504,-260.3 90.2504,-309.9 \" stroke=\"black\"/>\n",
       "<text font-family=\"Times,serif\" font-size=\"14.00\" text-anchor=\"middle\" x=\"118.086\" y=\"-293.3\">input:</text>\n",
       "<polyline fill=\"none\" points=\"90.2504,-285.1 145.922,-285.1 \" stroke=\"black\"/>\n",
       "<text font-family=\"Times,serif\" font-size=\"14.00\" text-anchor=\"middle\" x=\"118.086\" y=\"-268.5\">output:</text>\n",
       "<polyline fill=\"none\" points=\"145.922,-260.3 145.922,-309.9 \" stroke=\"black\"/>\n",
       "<text font-family=\"Times,serif\" font-size=\"14.00\" text-anchor=\"middle\" x=\"175.69\" y=\"-293.3\">(?, 256)</text>\n",
       "<polyline fill=\"none\" points=\"145.922,-285.1 205.458,-285.1 \" stroke=\"black\"/>\n",
       "<text font-family=\"Times,serif\" font-size=\"14.00\" text-anchor=\"middle\" x=\"175.69\" y=\"-268.5\">(?, 256)</text>\n",
       "</g>\n",
       "<!-- 140221974796888&#45;&gt;140223005809968 -->\n",
       "<g class=\"edge\" id=\"edge5\"><title>140221974796888-&gt;140223005809968</title>\n",
       "<path d=\"M122.364,-346.683C122.364,-338.467 122.364,-329.112 122.364,-320.252\" fill=\"none\" stroke=\"black\"/>\n",
       "<polygon fill=\"black\" points=\"125.864,-320.177 122.364,-310.177 118.864,-320.177 125.864,-320.177\" stroke=\"black\"/>\n",
       "</g>\n",
       "<!-- 140241248675376 -->\n",
       "<g class=\"node\" id=\"node7\"><title>140241248675376</title>\n",
       "<polygon fill=\"none\" points=\"0,-173.7 0,-223.3 244.728,-223.3 244.728,-173.7 0,-173.7\" stroke=\"black\"/>\n",
       "<text font-family=\"Times,serif\" font-size=\"14.00\" text-anchor=\"middle\" x=\"64.7602\" y=\"-194.3\">BatchNormalization</text>\n",
       "<polyline fill=\"none\" points=\"129.52,-173.7 129.52,-223.3 \" stroke=\"black\"/>\n",
       "<text font-family=\"Times,serif\" font-size=\"14.00\" text-anchor=\"middle\" x=\"157.356\" y=\"-206.7\">input:</text>\n",
       "<polyline fill=\"none\" points=\"129.52,-198.5 185.192,-198.5 \" stroke=\"black\"/>\n",
       "<text font-family=\"Times,serif\" font-size=\"14.00\" text-anchor=\"middle\" x=\"157.356\" y=\"-181.9\">output:</text>\n",
       "<polyline fill=\"none\" points=\"185.192,-173.7 185.192,-223.3 \" stroke=\"black\"/>\n",
       "<text font-family=\"Times,serif\" font-size=\"14.00\" text-anchor=\"middle\" x=\"214.96\" y=\"-206.7\">(?, 256)</text>\n",
       "<polyline fill=\"none\" points=\"185.192,-198.5 244.728,-198.5 \" stroke=\"black\"/>\n",
       "<text font-family=\"Times,serif\" font-size=\"14.00\" text-anchor=\"middle\" x=\"214.96\" y=\"-181.9\">(?, 256)</text>\n",
       "</g>\n",
       "<!-- 140223005809968&#45;&gt;140241248675376 -->\n",
       "<g class=\"edge\" id=\"edge6\"><title>140223005809968-&gt;140241248675376</title>\n",
       "<path d=\"M122.364,-260.083C122.364,-251.867 122.364,-242.512 122.364,-233.652\" fill=\"none\" stroke=\"black\"/>\n",
       "<polygon fill=\"black\" points=\"125.864,-233.577 122.364,-223.577 118.864,-233.577 125.864,-233.577\" stroke=\"black\"/>\n",
       "</g>\n",
       "<!-- 140222986565056 -->\n",
       "<g class=\"node\" id=\"node8\"><title>140222986565056</title>\n",
       "<polygon fill=\"none\" points=\"33.4313,-87.1 33.4313,-136.7 211.297,-136.7 211.297,-87.1 33.4313,-87.1\" stroke=\"black\"/>\n",
       "<text font-family=\"Times,serif\" font-size=\"14.00\" text-anchor=\"middle\" x=\"64.7602\" y=\"-107.7\">Dropout</text>\n",
       "<polyline fill=\"none\" points=\"96.0891,-87.1 96.0891,-136.7 \" stroke=\"black\"/>\n",
       "<text font-family=\"Times,serif\" font-size=\"14.00\" text-anchor=\"middle\" x=\"123.925\" y=\"-120.1\">input:</text>\n",
       "<polyline fill=\"none\" points=\"96.0891,-111.9 151.761,-111.9 \" stroke=\"black\"/>\n",
       "<text font-family=\"Times,serif\" font-size=\"14.00\" text-anchor=\"middle\" x=\"123.925\" y=\"-95.3\">output:</text>\n",
       "<polyline fill=\"none\" points=\"151.761,-87.1 151.761,-136.7 \" stroke=\"black\"/>\n",
       "<text font-family=\"Times,serif\" font-size=\"14.00\" text-anchor=\"middle\" x=\"181.529\" y=\"-120.1\">(?, 256)</text>\n",
       "<polyline fill=\"none\" points=\"151.761,-111.9 211.297,-111.9 \" stroke=\"black\"/>\n",
       "<text font-family=\"Times,serif\" font-size=\"14.00\" text-anchor=\"middle\" x=\"181.529\" y=\"-95.3\">(?, 256)</text>\n",
       "</g>\n",
       "<!-- 140241248675376&#45;&gt;140222986565056 -->\n",
       "<g class=\"edge\" id=\"edge7\"><title>140241248675376-&gt;140222986565056</title>\n",
       "<path d=\"M122.364,-173.483C122.364,-165.267 122.364,-155.912 122.364,-147.052\" fill=\"none\" stroke=\"black\"/>\n",
       "<polygon fill=\"black\" points=\"125.864,-146.977 122.364,-136.977 118.864,-146.977 125.864,-146.977\" stroke=\"black\"/>\n",
       "</g>\n",
       "<!-- 140224234555488 -->\n",
       "<g class=\"node\" id=\"node9\"><title>140224234555488</title>\n",
       "<polygon fill=\"none\" points=\"39.27,-0.5 39.27,-50.1 205.458,-50.1 205.458,-0.5 39.27,-0.5\" stroke=\"black\"/>\n",
       "<text font-family=\"Times,serif\" font-size=\"14.00\" text-anchor=\"middle\" x=\"64.7602\" y=\"-21.1\">Dense</text>\n",
       "<polyline fill=\"none\" points=\"90.2504,-0.5 90.2504,-50.1 \" stroke=\"black\"/>\n",
       "<text font-family=\"Times,serif\" font-size=\"14.00\" text-anchor=\"middle\" x=\"118.086\" y=\"-33.5\">input:</text>\n",
       "<polyline fill=\"none\" points=\"90.2504,-25.3 145.922,-25.3 \" stroke=\"black\"/>\n",
       "<text font-family=\"Times,serif\" font-size=\"14.00\" text-anchor=\"middle\" x=\"118.086\" y=\"-8.7\">output:</text>\n",
       "<polyline fill=\"none\" points=\"145.922,-0.5 145.922,-50.1 \" stroke=\"black\"/>\n",
       "<text font-family=\"Times,serif\" font-size=\"14.00\" text-anchor=\"middle\" x=\"175.69\" y=\"-33.5\">(?, 256)</text>\n",
       "<polyline fill=\"none\" points=\"145.922,-25.3 205.458,-25.3 \" stroke=\"black\"/>\n",
       "<text font-family=\"Times,serif\" font-size=\"14.00\" text-anchor=\"middle\" x=\"175.19\" y=\"-8.7\">(?, 1)</text>\n",
       "</g>\n",
       "<!-- 140222986565056&#45;&gt;140224234555488 -->\n",
       "<g class=\"edge\" id=\"edge8\"><title>140222986565056-&gt;140224234555488</title>\n",
       "<path d=\"M122.364,-86.8833C122.364,-78.6673 122.364,-69.3117 122.364,-60.4518\" fill=\"none\" stroke=\"black\"/>\n",
       "<polygon fill=\"black\" points=\"125.864,-60.3767 122.364,-50.3767 118.864,-60.3768 125.864,-60.3767\" stroke=\"black\"/>\n",
       "</g>\n",
       "</g>\n",
       "</svg>"
      ],
      "text/plain": [
       "<IPython.core.display.SVG object>"
      ]
     },
     "execution_count": 21,
     "metadata": {},
     "output_type": "execute_result"
    }
   ],
   "source": [
    "from IPython.display import SVG\n",
    "from tensorflow.keras.utils import model_to_dot\n",
    "\n",
    "SVG(model_to_dot(best_model, show_shapes=True, show_layer_names=False, dpi=65).create(prog='dot', format='svg'))\n"
   ]
  },
  {
   "cell_type": "code",
   "execution_count": 22,
   "metadata": {},
   "outputs": [
    {
     "name": "stdout",
     "output_type": "stream",
     "text": [
      "adam\n",
      "0.2\n",
      "256\n",
      "{'activation': 'relu', 'batch_size': 256, 'dropout_rate': 0.2, 'learning_rate': 0.001, 'num_hidden_layers': 2, 'optimizer': 'adam', 'units': 256}\n"
     ]
    }
   ],
   "source": [
    "print(best_params['optimizer'])\n",
    "print(best_params['dropout_rate'])\n",
    "print(best_params['batch_size'])\n",
    "\n",
    "print(best_params)"
   ]
  },
  {
   "cell_type": "code",
   "execution_count": 23,
   "metadata": {},
   "outputs": [
    {
     "name": "stdout",
     "output_type": "stream",
     "text": [
      "True\n",
      "704876/1 - 46s - loss: 0.5946 - accuracy: 0.7027\n",
      "Validation loss: 0.569849546874837\n",
      "Validation accuracy: 0.70269096\n",
      "704876/1 - 30s\n"
     ]
    },
    {
     "data": {
      "image/png": "[encoded data removed]",
      "text/plain": [
       "<Figure size 432x288 with 2 Axes>"
      ]
     },
     "metadata": {
      "needs_background": "light"
     },
     "output_type": "display_data"
    },
    {
     "name": "stdout",
     "output_type": "stream",
     "text": [
      "Total signal processes; 1.0\n",
      "Total background processes; 1.0\n",
      "265842\n",
      "There is 142540 signal in the set\n",
      "The model predicted 123302 more ones than in reality\n",
      "439034\n",
      "There is 562336 background in the set\n",
      "The model predicted -123302 more ones than in reality\n"
     ]
    },
    {
     "data": {
      "image/png": "[encoded data removed]",
      "text/plain": [
       "<Figure size 432x288 with 1 Axes>"
      ]
     },
     "metadata": {
      "needs_background": "light"
     },
     "output_type": "display_data"
    },
    {
     "data": {
      "image/png": "[encoded data removed]",
      "text/plain": [
       "<Figure size 432x288 with 1 Axes>"
      ]
     },
     "metadata": {
      "needs_background": "light"
     },
     "output_type": "display_data"
    }
   ],
   "source": [
    "# evaluate the model on the training data, confusion matrix and discriminator curve\n",
    "\n",
    "gpu_available = tf.test.is_gpu_available()\n",
    "print(gpu_available)   # check still on the gpu\n",
    "\n",
    "model = best_model\n",
    "\n",
    "val_loss, val_acc = model.evaluate(X_train, y_train, verbose = 2)    \n",
    "\n",
    "print(\"Validation loss:\", val_loss)\n",
    "print(\"Validation accuracy:\", val_acc)\n",
    "\n",
    "y_pred = model.predict(X_train, verbose = 2)\n",
    "y_pred_round = np.round(y_pred)\n",
    "#print(y_pred)\n",
    "\n",
    "# compute the confusion matrix\n",
    "\n",
    "cm = confusion_matrix(y_train, y_pred_round, normalize = 'true')   #, normalize = 'true')  #,'true' ‘pred’, ‘all’},)\n",
    "#disp = ConfusionMatrixDisplay(confusion_matrix=cm) \n",
    "disp = ConfusionMatrixDisplay(confusion_matrix=cm, display_labels=['Background', 'Signal']) # other env\n",
    "\n",
    "disp.plot()\n",
    "plt.show()\n",
    "\n",
    "print('Total signal processes;', cm[1,0]+cm[1,1])\n",
    "print('Total background processes;', cm[0,0]+cm[0,1])\n",
    "\n",
    "# Check if order of y_valid is the same order as y_pred\n",
    "# expect to be the ssame order if accuracy is same as validation accuracy above.\n",
    "\n",
    "# list of true outcomes\n",
    "y_train_list = list(y_train)\n",
    "\n",
    "# list of rounded predictions \n",
    "y_pred_round_list = list(y_pred_round)\n",
    "\n",
    "data_test = {'True_Val': y_train_list, 'Predicted': list(y_pred), 'Round Prediction': y_pred_round_list}\n",
    "df_test = pd.DataFrame(data_test)\n",
    "\n",
    "# Easiest to reorder df, so all 0 (background) are first and then 1's (signal)\n",
    "\n",
    "#Verified, works\n",
    "df_test = df_test.sort_values(by='True_Val')\n",
    "df_test\n",
    "\n",
    "# Convert arrays to scalars\n",
    "df_test['Round Prediction'] = df_test['Round Prediction'].apply(lambda x: x[0])\n",
    "        \n",
    "pred_one = df_test['Round Prediction'].value_counts()[1.0]\n",
    "ones_in_set = df_test['True_Val'].value_counts()[1]\n",
    "\n",
    "# Print the result\n",
    "print(pred_one)\n",
    "print('There is', ones_in_set, 'signal in the set')\n",
    "print('The model predicted',pred_one-ones_in_set ,'more ones than in reality')\n",
    "\n",
    "\n",
    "pred_zeros = df_test['Round Prediction'].value_counts()[0.0]\n",
    "zeros_in_set = df_test['True_Val'].value_counts()[0]\n",
    "\n",
    "# Print the result\n",
    "print(pred_zeros)\n",
    "print('There is', zeros_in_set, 'background in the set')   #agrees w/ confusion matrix\n",
    "print('The model predicted', pred_zeros-zeros_in_set,'more ones than in reality')\n",
    "\n",
    "\n",
    "#Split df into signal and bg\n",
    "\n",
    "df_bg = df_test[df_test['True_Val'] == 0]\n",
    "df_signal = df_test[df_test['True_Val'] == 1]\n",
    "\n",
    "# Make discriminator curves, Histogram\n",
    "\n",
    "# manipluate data so can be used for Histograms\n",
    "lst_bg_predicted = []\n",
    "for i in df_bg['Predicted']:\n",
    "    lst_bg_predicted.append(i)\n",
    "\n",
    "lst_of_values_bg_pred_train = [arr.item() for arr in lst_bg_predicted]\n",
    "\n",
    "lst_signal_predicted = []\n",
    "for i in df_signal['Predicted']:\n",
    "    lst_signal_predicted.append(i)\n",
    "\n",
    "lst_of_values_signal_pred_train = [arr.item() for arr in lst_signal_predicted]\n",
    "\n",
    "binwidth = 0.01\n",
    "bins=np.arange(0, 1 + binwidth, binwidth)\n",
    "    \n",
    "\n",
    "#Unweighted, normalised\n",
    "plt.hist(x= lst_of_values_bg_pred_train, bins=bins, density = True, histtype = 'step', label = 'Background')\n",
    "plt.hist(x= lst_of_values_signal_pred_train, bins=bins, density = True, histtype = 'step', label = 'Signal')\n",
    "plt.title('Training Discriminator Curve')\n",
    "plt.xlabel('Classifier Prediction')\n",
    "plt.ylabel('Frequency')\n",
    "plt.legend()\n",
    "plt.show()\n",
    "\n",
    "#Weighted to xs_weights x 300000, need to be toproportion of full dataset too\n",
    "#normalised\n",
    "\n",
    "plt.hist(x= lst_of_values_bg_pred_train, bins=bins,  weights = df_weights[:len(lst_of_values_bg_pred_train),1]*3e5*1/0.8,\n",
    "         histtype = 'step', label = 'Background')\n",
    "plt.hist(x= lst_of_values_signal_pred_train, bins=bins, weights = df_weights[:len(lst_of_values_signal_pred_train),3]*3e5*1/0.8,\n",
    "         histtype = 'step', label = 'Signal')\n",
    "plt.title('Training Discriminator Curve')\n",
    "plt.xlabel('Classifier Prediction')\n",
    "plt.ylabel('Frequency')\n",
    "plt.xlim(0.8,1)    #zoom in on 0.9 to 1 region\n",
    "plt.ylim(0,200)    # need to zoom in\n",
    "plt.legend()\n",
    "plt.show()\n",
    "\n",
    "\n",
    "#start dropping bins for signifucance part, calc Z and plot, should get curve that peaks"
   ]
  },
  {
   "cell_type": "code",
   "execution_count": 24,
   "metadata": {},
   "outputs": [
    {
     "name": "stderr",
     "output_type": "stream",
     "text": [
      "IOPub data rate exceeded.\n",
      "The notebook server will temporarily stop sending output\n",
      "to the client in order to avoid crashing it.\n",
      "To change this limit, set the config variable\n",
      "`--NotebookApp.iopub_data_rate_limit`.\n",
      "\n",
      "Current values:\n",
      "NotebookApp.iopub_data_rate_limit=1000000.0 (bytes/sec)\n",
      "NotebookApp.rate_limit_window=3.0 (secs)\n",
      "\n"
     ]
    },
    {
     "name": "stdout",
     "output_type": "stream",
     "text": [
      "Validation loss: 0.5696760652068253\n",
      "Validation accuracy: 0.70149815\n"
     ]
    },
    {
     "data": {
      "image/png": "[encoded data removed]",
      "text/plain": [
       "<Figure size 432x288 with 2 Axes>"
      ]
     },
     "metadata": {
      "needs_background": "light"
     },
     "output_type": "display_data"
    },
    {
     "name": "stdout",
     "output_type": "stream",
     "text": [
      "Total signal processes; 1.0\n",
      "Total background processes; 1.0\n"
     ]
    }
   ],
   "source": [
    "# evaluate the model on the validation data\n",
    "\n",
    "model = best_model \n",
    "\n",
    "val_loss, val_acc = model.evaluate(X_valid, y_valid)   \n",
    "print(\"Validation loss:\", val_loss)\n",
    "print(\"Validation accuracy:\", val_acc)\n",
    "\n",
    "y_pred = model.predict(X_valid)\n",
    "y_pred_round = np.round(y_pred)\n",
    "\n",
    "# compute the confusion matrix\n",
    "cm = confusion_matrix(y_valid, y_pred_round, normalize = 'true')    #,'true' ‘pred’, ‘all’},)#\n",
    "disp = ConfusionMatrixDisplay(confusion_matrix=cm, display_labels=['Background', 'Signal']) # other env\n",
    "#disp = ConfusionMatrixDisplay(confusion_matrix=cm)   \n",
    "disp.plot()\n",
    "plt.show()\n",
    "\n",
    "print('Total signal processes;', cm[1,0]+cm[1,1])\n",
    "print('Total background processes;', cm[0,0]+cm[0,1])\n",
    "\n",
    "# can see no class weights"
   ]
  },
  {
   "cell_type": "code",
   "execution_count": null,
   "metadata": {},
   "outputs": [],
   "source": [
    "# #using a permutation method to see what features are important\n",
    "\n",
    "# # Get the number of features\n",
    "# n_features = X_valid.shape[1]\n",
    "\n",
    "# # Initialize an array to store feature importances\n",
    "# importances = np.zeros(n_features)\n",
    "\n",
    "# # Calculate the feature importances using the permutation feature importance method\n",
    "# # Drops each variable one at a time \n",
    "# for i in range(n_features):\n",
    "#     print(i)    #counter to check is working, should go to 40\n",
    "#     feature_name = X_valid.columns[i]\n",
    "#     X_permuted = X_valid.copy().values\n",
    "#     X_permuted[:, i] = np.random.permutation(X_permuted[:, i])\n",
    "#     y_permuted = model.predict(X_permuted)\n",
    "#     importances[i] = np.abs(y_permuted - y_pred).mean()\n",
    "#     #importances[i] = (y_permuted - y_pred).mean()    #try without a abs, see if positively or negatively affected by removal?\n",
    "#     print(f\"Permuted feature {feature_name}\")\n",
    "\n",
    "# # Normalize the feature importances\n",
    "# importances /= importances.sum()   # importances sum to 1, so can be taken as a literal how important a variable\n",
    "# # is for the model\n",
    "\n",
    "# print(importances)  # using abs\n",
    "\n",
    "# print()#\n",
    "\n",
    "# print(np.sort(importances))\n",
    "\n",
    "# # np.random.permutation randomly permutes (rearranges in a random order) the elements.\n",
    "# # In this case, it is used to shuffle the values in a single column of the X_permuted array.\n",
    "# # Guess then this variable isnt useful in the prediction"
   ]
  },
  {
   "cell_type": "code",
   "execution_count": 47,
   "metadata": {},
   "outputs": [],
   "source": [
    "# importances_dict = dict(zip(importances, X_valid.columns))\n",
    "# # key:value\n",
    "\n",
    "# #print(combined_dict)\n",
    "\n",
    "# # get values for keys less than 0.01\n",
    "# values = []\n",
    "# for key, value in importances_dict.items():\n",
    "#     if key < 0.01:\n",
    "#         values.append(value)\n",
    "\n",
    "# # print the values\n",
    "# print(values)\n"
   ]
  },
  {
   "cell_type": "code",
   "execution_count": 48,
   "metadata": {},
   "outputs": [],
   "source": [
    "# get indices of numbers less than 0.01\n",
    "# for i in range(len(importances)):\n",
    "#     if importances[i] < 0.05:\n",
    "#         print(X_valid.columns[i])"
   ]
  },
  {
   "cell_type": "code",
   "execution_count": 25,
   "metadata": {},
   "outputs": [
    {
     "name": "stdout",
     "output_type": "stream",
     "text": [
      "0.701498127340824\n",
      "True\n"
     ]
    }
   ],
   "source": [
    "# Check if order of y_valid is the same order as y_pred\n",
    "# expect to be the ssame order if accuracy is same as validation accuracy above.\n",
    "\n",
    "# list of true outcomes\n",
    "y_valid_list = list(y_valid)\n",
    "\n",
    "# list of rounded predictions \n",
    "y_pred_round_list = list(y_pred_round)\n",
    "\n",
    "# list of whether these are same    \n",
    "z=[]\n",
    "for i in range(len(y_valid_list)):\n",
    "    if y_valid_list[i]==y_pred_round_list[i]:\n",
    "        z.append(1)\n",
    "    else:\n",
    "        z.append(0)\n",
    "        \n",
    "print(sum(z)/len(z))\n",
    "\n",
    "# Set a tolerance\n",
    "tol = 0.0001\n",
    "print(val_acc - tol < sum(z)/len(z) < val_acc + tol)\n",
    "\n",
    "# If true, suggests are in same order "
   ]
  },
  {
   "cell_type": "code",
   "execution_count": 26,
   "metadata": {},
   "outputs": [
    {
     "name": "stdout",
     "output_type": "stream",
     "text": [
      "[0.06538224]\n"
     ]
    },
    {
     "data": {
      "text/plain": [
       "array([0.9999265], dtype=float32)"
      ]
     },
     "execution_count": 26,
     "metadata": {},
     "output_type": "execute_result"
    }
   ],
   "source": [
    "print(min(y_pred))\n",
    "max(y_pred)"
   ]
  },
  {
   "cell_type": "code",
   "execution_count": 27,
   "metadata": {},
   "outputs": [],
   "source": [
    "data = {'True_Val': y_valid_list, 'Predicted': list(y_pred), 'Round Prediction': y_pred_round_list}\n",
    "df = pd.DataFrame(data)\n",
    "\n",
    "# Easiest to reorder df, so all 0 (background) are first and then 1's (signal)\n",
    "\n",
    "#Verified, works\n",
    "df = df.sort_values(by='True_Val')\n",
    "df\n",
    "\n",
    "# Convert arrays to scalars\n",
    "df['Round Prediction'] = df['Round Prediction'].apply(lambda x: x[0])"
   ]
  },
  {
   "cell_type": "code",
   "execution_count": 28,
   "metadata": {},
   "outputs": [
    {
     "name": "stdout",
     "output_type": "stream",
     "text": [
      "0.701498127340824\n",
      "True\n"
     ]
    }
   ],
   "source": [
    "# Check that they maintained order in the df:\n",
    "\n",
    "lst=[]\n",
    "for i in range(len(df)):\n",
    "    if df['True_Val'][i] == df['Round Prediction'][i]:\n",
    "        lst.append(1)\n",
    "    else:\n",
    "        (lst.append(0))\n",
    "print(sum(lst)/len(lst))\n",
    "\n",
    "# Set a tolerance\n",
    "tol = 0.0001\n",
    "print(val_acc - tol < sum(lst)/len(lst) < val_acc + tol)\n",
    "\n",
    "# If true, suggests are in same order "
   ]
  },
  {
   "cell_type": "code",
   "execution_count": 29,
   "metadata": {},
   "outputs": [
    {
     "name": "stdout",
     "output_type": "stream",
     "text": [
      "66156\n",
      "There is 35318 signal in the set\n",
      "The model predicted 30838 more ones than in reality\n",
      "110064\n",
      "There is 140902 background in the set\n",
      "The model predicted -30838 more ones than in reality\n"
     ]
    }
   ],
   "source": [
    "pred_one = df['Round Prediction'].value_counts()[1.0]\n",
    "ones_in_set = df['True_Val'].value_counts()[1]\n",
    "\n",
    "# Print the result\n",
    "print(pred_one)\n",
    "print('There is', ones_in_set, 'signal in the set')\n",
    "print('The model predicted',pred_one-ones_in_set ,'more ones than in reality')\n",
    "\n",
    "\n",
    "pred_zeros = df['Round Prediction'].value_counts()[0.0]\n",
    "zeros_in_set = df['True_Val'].value_counts()[0]\n",
    "\n",
    "# Print the result\n",
    "print(pred_zeros)\n",
    "print('There is', zeros_in_set, 'background in the set')   #agrees w/ confusion matrix\n",
    "print('The model predicted', pred_zeros-zeros_in_set,'more ones than in reality')\n"
   ]
  },
  {
   "cell_type": "markdown",
   "metadata": {},
   "source": [
    "now first half of df is background, other half is signal\n",
    "\n",
    "PROBLEM, TEST AND VALID WAS SPLIT RANDOMLY, SO NOT ACTUALLY SAME AMOUNT OF 0's AND 1's\n",
    "\n",
    "Not a problem, but need to check if should be like this\n",
    "\n",
    " A couple of options, I could:\n",
    "\n",
    "Deal with it, and let there be uneven amounts of 1's and 0's\n",
    "\n",
    "OR\n",
    "\n",
    "Go back to test_train_split, and apply individually to signal and background and then sum them?\n",
    "\n",
    "This would guarantee 50/50\n"
   ]
  },
  {
   "cell_type": "code",
   "execution_count": 30,
   "metadata": {},
   "outputs": [
    {
     "data": {
      "image/png": "[encoded data removed]",
      "text/plain": [
       "<Figure size 432x288 with 1 Axes>"
      ]
     },
     "metadata": {
      "needs_background": "light"
     },
     "output_type": "display_data"
    },
    {
     "data": {
      "image/png": "[encoded data removed]",
      "text/plain": [
       "<Figure size 432x288 with 1 Axes>"
      ]
     },
     "metadata": {
      "needs_background": "light"
     },
     "output_type": "display_data"
    }
   ],
   "source": [
    "# Training Discriminator curves\n",
    "\n",
    "#Unweighted, normalised\n",
    "plt.hist(x= lst_of_values_bg_pred_train, bins=bins, density = True, histtype = 'step', label = 'Background')\n",
    "plt.hist(x= lst_of_values_signal_pred_train, bins=bins, density = True, histtype = 'step', label = 'Signal')\n",
    "plt.title('TRAINING - Discriminator Curve')\n",
    "plt.xlabel('Classifier Prediction')\n",
    "plt.ylabel('Frequency')\n",
    "plt.legend()\n",
    "plt.show()\n",
    "\n",
    "#Weighted to xs_weights x 300000, need to be toproportion of full dataset too\n",
    "#normalised\n",
    "\n",
    "\n",
    "plt.hist(x= lst_of_values_bg_pred_train, bins=bins,  weights = df_weights[:len(lst_of_values_bg_pred_train),1]*3e5,\n",
    "         histtype = 'step', label = 'Background')\n",
    "plt.hist(x= lst_of_values_signal_pred_train, bins=bins, weights = df_weights[:len(lst_of_values_signal_pred_train),3]*3e5,\n",
    "         histtype = 'step', label = 'Signal')\n",
    "plt.title('TRAINING - Discriminator Curve')\n",
    "plt.xlabel('Classifier Prediction')\n",
    "plt.ylabel('Frequency')\n",
    "plt.xlim(0.6,1)    #zoom in on 0.9 to 1 region\n",
    "plt.ylim(0,500)    # need to zoom in\n",
    "plt.legend()\n",
    "plt.show()\n"
   ]
  },
  {
   "cell_type": "code",
   "execution_count": 31,
   "metadata": {},
   "outputs": [
    {
     "data": {
      "image/png": "[encoded data removed]",
      "text/plain": [
       "<Figure size 432x288 with 1 Axes>"
      ]
     },
     "metadata": {
      "needs_background": "light"
     },
     "output_type": "display_data"
    },
    {
     "data": {
      "image/png": "[encoded data removed]",
      "text/plain": [
       "<Figure size 432x288 with 1 Axes>"
      ]
     },
     "metadata": {
      "needs_background": "light"
     },
     "output_type": "display_data"
    },
    {
     "data": {
      "image/png": "[encoded data removed]",
      "text/plain": [
       "<Figure size 432x288 with 1 Axes>"
      ]
     },
     "metadata": {
      "needs_background": "light"
     },
     "output_type": "display_data"
    }
   ],
   "source": [
    "#Split df into signal and bg\n",
    "\n",
    "df_bg = df[df['True_Val'] == 0]\n",
    "df_signal = df[df['True_Val'] == 1]\n",
    "\n",
    "# Make Validation discriminator curves, Histogram\n",
    "\n",
    "# manipluate data so can be used for Histograms\n",
    "lst_bg_predicted = []\n",
    "for i in df_bg['Predicted']:\n",
    "    lst_bg_predicted.append(i)\n",
    "\n",
    "lst_of_values_bg_pred = [arr.item() for arr in lst_bg_predicted]\n",
    "\n",
    "lst_signal_predicted = []\n",
    "for i in df_signal['Predicted']:\n",
    "    lst_signal_predicted.append(i)\n",
    "\n",
    "lst_of_values_signal_pred = [arr.item() for arr in lst_signal_predicted]\n",
    "\n",
    "binwidth = 0.01\n",
    "bins=np.arange(0, 1 + binwidth, binwidth)\n",
    "\n",
    "#Unweighted, normalised\n",
    "plt.hist(x= lst_of_values_bg_pred, bins=bins, density = True, histtype = 'step', label = 'Background')\n",
    "plt.hist(x= lst_of_values_signal_pred, bins=bins, density = True, histtype = 'step', label = 'Signal')\n",
    "plt.title('Discriminator Curve')\n",
    "plt.xlabel('Classifier Prediction')\n",
    "plt.ylabel('Frequency')\n",
    "plt.legend()\n",
    "plt.show()\n",
    "\n",
    "#Weighted to xs_weights x 300000, need to be toproportion of full dataset too\n",
    "#normalised\n",
    "plt.hist(x= lst_of_values_bg_pred, bins=bins,  weights = df_weights[:len(lst_of_values_bg_pred),1]*3e5,\n",
    "         histtype = 'step', label = 'Background')\n",
    "plt.hist(x= lst_of_values_signal_pred, bins=bins, weights = df_weights[:len(lst_of_values_signal_pred),3]*3e5,\n",
    "         histtype = 'step', label = 'Signal')\n",
    "plt.title('Discriminator Curve')\n",
    "plt.xlabel('Classifier Prediction')\n",
    "plt.ylabel('Frequency')\n",
    "#plt.xlim(0.9,1)    #zoom in on 0.9 to 1 region\n",
    "#plt.ylim(0,200)    # need to zoom in\n",
    "plt.legend()\n",
    "plt.show()\n",
    "    \n",
    "plt.hist(x= lst_of_values_bg_pred, bins=bins,  weights = df_weights[:len(lst_of_values_bg_pred),1]*3e5,\n",
    "         histtype = 'step', label = 'Background')\n",
    "plt.hist(x= lst_of_values_signal_pred, bins=bins, weights = df_weights[:len(lst_of_values_signal_pred),3]*3e5,\n",
    "         histtype = 'step', label = 'Signal')\n",
    "plt.title('Discriminator Curve')\n",
    "plt.xlabel('Classifier Prediction')\n",
    "plt.ylabel('Frequency')\n",
    "plt.xlim(0.8,1)    #zoom in on 0.9 to 1 region\n",
    "plt.ylim(0,200)    # need to zoom in\n",
    "plt.legend()\n",
    "plt.show()\n",
    "\n",
    "\n",
    "#start dropping bins for signifucance part, calc Z and plot, should get curve that peaks"
   ]
  },
  {
   "cell_type": "code",
   "execution_count": 32,
   "metadata": {},
   "outputs": [
    {
     "data": {
      "image/png": "[encoded data removed]",
      "text/plain": [
       "<Figure size 432x288 with 1 Axes>"
      ]
     },
     "metadata": {
      "needs_background": "light"
     },
     "output_type": "display_data"
    }
   ],
   "source": [
    "# Test and Training overlayed\n",
    "\n",
    "#Unweighted, normalised\n",
    "plt.hist(x= lst_of_values_bg_pred, bins=bins, density = True, histtype = 'step', label = 'Background_test')\n",
    "plt.hist(x= lst_of_values_signal_pred, bins=bins, density = True, histtype = 'step', label = 'Signal_test')\n",
    "plt.title('Test - Discriminator Curve')\n",
    "plt.xlabel('Classifier Prediction')\n",
    "plt.ylabel('Frequency')\n",
    "plt.legend()\n",
    "\n",
    "\n",
    "#Unweighted, normalised\n",
    "plt.hist(x= lst_of_values_bg_pred_train, bins=bins, density = True, histtype = 'step', label = 'Background_train')\n",
    "plt.hist(x= lst_of_values_signal_pred_train, bins=bins, density = True, histtype = 'step', label = 'Signal_train')\n",
    "plt.title('Mix Discriminator Curve')\n",
    "plt.xlabel('Classifier Prediction')\n",
    "plt.ylabel('Frequency')\n",
    "plt.legend()\n",
    "plt.show()"
   ]
  },
  {
   "cell_type": "code",
   "execution_count": 33,
   "metadata": {},
   "outputs": [
    {
     "name": "stdout",
     "output_type": "stream",
     "text": [
      "num_bg_events =  217678.7500371933\n",
      "num_signal_events =  4367.311523348093\n"
     ]
    },
    {
     "data": {
      "image/png": "[encoded data removed]",
      "text/plain": [
       "<Figure size 432x288 with 1 Axes>"
      ]
     },
     "metadata": {
      "needs_background": "light"
     },
     "output_type": "display_data"
    }
   ],
   "source": [
    "#Calculate number of events\n",
    "\n",
    "n_bg, bins_bg, patches_bg = plt.hist(x= lst_of_values_bg_pred, bins=bins, weights = df_weights[:len(lst_of_values_bg_pred),1]*3e5*5,\n",
    "         histtype = 'step', label = 'Background')\n",
    "n_signal, bins_signal, patches_signal = plt.hist(x= lst_of_values_signal_pred, bins=bins, weights = df_weights[:len(lst_of_values_signal_pred),3]*3e5*5,\n",
    "         histtype = 'step', label = 'Signal')\n",
    "\n",
    "# calculate the number of events\n",
    "num_bg_events = np.sum(n_bg)\n",
    "num_signal_events = np.sum(n_signal)\n",
    "\n",
    "print('num_bg_events = ', num_bg_events)\n",
    "print('num_signal_events = ', num_signal_events)"
   ]
  },
  {
   "cell_type": "code",
   "execution_count": null,
   "metadata": {},
   "outputs": [],
   "source": [
    "# #plot ROC curves\n",
    "\n",
    "# y_true = df['True_Val']\n",
    "# y_score = df['Predicted']\n",
    "\n",
    "# # calculate the false positive rate and true positive rate\n",
    "# fpr, tpr, thresholds = roc_curve(y_true, y_score)\n",
    "\n",
    "# # calculate the area under the ROC curve\n",
    "# roc_auc = auc(fpr, tpr)\n",
    "\n",
    "# # plot the ROC curve\n",
    "# plt.plot(fpr, tpr, color='darkorange', lw=2, label='ROC curve (AUC = %0.2f)' % roc_auc)\n",
    "# plt.plot([0, 1], [0, 1], color='navy', lw=2, linestyle='--')\n",
    "# plt.xlim([0.0, 1.0])\n",
    "# plt.ylim([0.0, 1.05])\n",
    "# plt.xlabel('False Positive Rate')\n",
    "# plt.ylabel('True Positive Rate')\n",
    "# plt.title('Receiver Operating Characteristic')\n",
    "# plt.legend(loc=\"lower right\")\n",
    "# plt.show()\n",
    "\n",
    "# print(roc_auc)  #79%\n",
    "\n",
    "# print(len(thresholds))\n",
    "\n"
   ]
  },
  {
   "cell_type": "code",
   "execution_count": null,
   "metadata": {},
   "outputs": [],
   "source": [
    "# data_roc = {'thresholds': thresholds, 'tpr': tpr, 'fpr': fpr, 'tpr/sqrt(fpr)':tpr/np.sqrt(fpr)}\n",
    "# df_roc = pd.DataFrame(data_roc)\n",
    "# #df_roc\n",
    "# df_roc.head(20)\n",
    "# plt.plot(df_roc['thresholds'][3:], df_roc['tpr/sqrt(fpr)'][3:])\n",
    "# plt.show()\n",
    "# max(df_roc['tpr/sqrt(fpr)'][3:])"
   ]
  },
  {
   "cell_type": "code",
   "execution_count": null,
   "metadata": {},
   "outputs": [],
   "source": [
    "# # Plot precision recall curve\n",
    "# from sklearn.metrics import average_precision_score\n",
    "\n",
    "# y_true = df['True_Val']\n",
    "# y_score = df['Predicted']\n",
    "\n",
    "# # calculate the precision-recall curve\n",
    "# precision, recall, _ = precision_recall_curve(y_true, y_score)\n",
    "\n",
    "# # plot the precision-recall curve\n",
    "# plt.step(recall, precision, color='b', alpha=0.2, where='post')\n",
    "# plt.fill_between(recall, precision, step='post', alpha=0.2, color='b')\n",
    "# plt.xlabel('Recall')\n",
    "# plt.ylabel('Precision')\n",
    "# plt.ylim([0.0, 1.05])\n",
    "# plt.xlim([0.0, 1.0])\n",
    "# plt.title('Precision-Recall Curve')\n",
    "# plt.show()\n",
    "\n",
    "# AUC = average_precision_score(y_true, y_score)   #0.793, pretty similar to roc AUC\n",
    "# print(AUC)"
   ]
  },
  {
   "cell_type": "code",
   "execution_count": 34,
   "metadata": {},
   "outputs": [
    {
     "name": "stdout",
     "output_type": "stream",
     "text": [
      "88109     [0.26104653]\n",
      "111032     [0.5855491]\n",
      "111033    [0.16594803]\n",
      "111034    [0.12379736]\n",
      "111035    [0.16471612]\n",
      "              ...     \n",
      "27764     [0.90463454]\n",
      "141597    [0.78419554]\n",
      "27763     [0.96411705]\n",
      "100490    [0.77086544]\n",
      "0         [0.38542986]\n",
      "Name: Predicted, Length: 176220, dtype: object\n"
     ]
    }
   ],
   "source": [
    "df['True_Val']\n",
    "x = df['Predicted']\n",
    "print(x)"
   ]
  },
  {
   "cell_type": "markdown",
   "metadata": {},
   "source": [
    "# Significance\n",
    "\n",
    "$$ Z = \\frac{s}{\\sqrt(B+\\sigma_s^{2})}  $$\n",
    "\n",
    "s = number of signal\n",
    "\n",
    "B = number of background\n",
    "\n",
    "$\\sigma_s$ = statistical uncertainty (~10% of B)"
   ]
  },
  {
   "cell_type": "code",
   "execution_count": 35,
   "metadata": {},
   "outputs": [
    {
     "name": "stdout",
     "output_type": "stream",
     "text": [
      "217678.7500371933\n",
      "4367.311523348093\n"
     ]
    },
    {
     "name": "stderr",
     "output_type": "stream",
     "text": [
      "/software/deep-learning/envs/ml-microscope/lib/python3.7/site-packages/ipykernel_launcher.py:12: RuntimeWarning: invalid value encountered in double_scalars\n",
      "  if sys.path[0] == '':\n"
     ]
    },
    {
     "data": {
      "image/png": "[encoded data removed]",
      "text/plain": [
       "<Figure size 432x288 with 1 Axes>"
      ]
     },
     "metadata": {
      "needs_background": "light"
     },
     "output_type": "display_data"
    },
    {
     "name": "stdout",
     "output_type": "stream",
     "text": [
      "0.99\n",
      "99\n",
      "13.528277582302788\n",
      "\n",
      "If cut at a threshold of 0.99 have\n",
      "17.07861328125 singal events\n",
      "1.59375 background events\n"
     ]
    },
    {
     "name": "stderr",
     "output_type": "stream",
     "text": [
      "/software/deep-learning/envs/ml-microscope/lib/python3.7/site-packages/ipykernel_launcher.py:27: RuntimeWarning: invalid value encountered in less\n"
     ]
    }
   ],
   "source": [
    "num_bg_events = np.sum(n_bg)\n",
    "num_signal_events = np.sum(n_signal)\n",
    "\n",
    "print(num_bg_events)\n",
    "print(num_signal_events)\n",
    "\n",
    "z = np.empty(len(bins_bg))\n",
    "for i in range(len(bins_bg)):\n",
    "    num_bg_events = np.sum(n_bg[i:])\n",
    "    num_signal_events = np.sum(n_signal[i:])\n",
    "    #print(num_signal_events)\n",
    "    z_i = num_signal_events / np.sqrt(num_bg_events)\n",
    "    z[i] = z_i\n",
    "#print(z)\n",
    "\n",
    "\n",
    "x = np.linspace(0,1,len(z))\n",
    "plt.plot(bins_bg,z[:])\n",
    "#plt.xlim([0, 1.0])\n",
    "#plt.ylim([0.0, 1.05])\n",
    "plt.xlabel('Threshold')\n",
    "plt.ylabel('Significance, z')\n",
    "plt.title('Significance curve with no sigma')\n",
    "plt.show()\n",
    "\n",
    "\n",
    "mask = z < 1e10     #just so doesnt include infs\n",
    "index_of_max = np.argmax(z[mask])\n",
    "max_value = np.amax(z[mask])\n",
    "\n",
    "\n",
    "#index_of_max = np.nanargmax(z[:])\n",
    "#max_value = np.nanmax(z[:])     # 1 point before last, should probs generalise so that can deal w inf etc \n",
    "max_bin = bins_bg[index_of_max]\n",
    "print(max_bin)\n",
    "print(index_of_max)\n",
    "print(max_value)\n",
    "\n",
    "# significance = sigmna, 6.5 signma, 5 sigma\n",
    "\n",
    "num_bg_threshold = np.sum(n_bg[index_of_max:])\n",
    "num_signal_threshold = np.sum(n_signal[index_of_max:])\n",
    "\n",
    "print()\n",
    "print('If cut at a threshold of', index_of_max/100, 'have')\n",
    "print(num_signal_threshold, 'singal events')\n",
    "print(num_bg_threshold, 'background events')"
   ]
  },
  {
   "cell_type": "code",
   "execution_count": 37,
   "metadata": {},
   "outputs": [
    {
     "data": {
      "image/png": "[encoded data removed]",
      "text/plain": [
       "<Figure size 432x288 with 2 Axes>"
      ]
     },
     "metadata": {
      "needs_background": "light"
     },
     "output_type": "display_data"
    },
    {
     "name": "stdout",
     "output_type": "stream",
     "text": [
      "Total signal processes; 1.0\n",
      "Total background processes; 1.0\n"
     ]
    }
   ],
   "source": [
    "# Confusion matricies with new threshold at max significance\n",
    "\n",
    "# calculates prediction values\n",
    "#y_pred = model.predict(X_valid) \n",
    "\n",
    "significance_threshold = max_bin\n",
    "y_pred_threshold = np.where(y_pred >= significance_threshold, 1, 0)\n",
    "\n",
    "# compute the confusion matrix\n",
    "cm = confusion_matrix(y_valid, y_pred_threshold, normalize = 'true')    #,'true' ‘pred’, ‘all’},)\n",
    "#disp = ConfusionMatrixDisplay(confusion_matrix=cm)   \n",
    "disp = ConfusionMatrixDisplay(confusion_matrix=cm, display_labels=['Background', 'Signal']) # other env\n",
    "disp.plot()\n",
    "plt.show()\n",
    "\n",
    "print('Total signal processes;', cm[1,0]+cm[1,1])\n",
    "print('Total background processes;', cm[0,0]+cm[0,1])"
   ]
  },
  {
   "cell_type": "code",
   "execution_count": 38,
   "metadata": {},
   "outputs": [
    {
     "name": "stdout",
     "output_type": "stream",
     "text": [
      "217678.7500371933\n",
      "4367.311523348093\n"
     ]
    },
    {
     "name": "stderr",
     "output_type": "stream",
     "text": [
      "/software/deep-learning/envs/ml-microscope/lib/python3.7/site-packages/ipykernel_launcher.py:14: RuntimeWarning: invalid value encountered in double_scalars\n",
      "  \n"
     ]
    },
    {
     "data": {
      "image/png": "[encoded data removed]",
      "text/plain": [
       "<Figure size 432x288 with 1 Axes>"
      ]
     },
     "metadata": {
      "needs_background": "light"
     },
     "output_type": "display_data"
    },
    {
     "name": "stdout",
     "output_type": "stream",
     "text": [
      "0.99\n",
      "99\n",
      "13.501406987094535\n",
      "\n",
      "If cut at a threshold of 0.99 have\n",
      "17.07861328125 singal events\n",
      "1.59375 background events\n"
     ]
    },
    {
     "name": "stderr",
     "output_type": "stream",
     "text": [
      "/software/deep-learning/envs/ml-microscope/lib/python3.7/site-packages/ipykernel_launcher.py:30: RuntimeWarning: invalid value encountered in less\n"
     ]
    }
   ],
   "source": [
    "# significance with statistical uncertainty term\n",
    "\n",
    "num_bg_events = np.sum(n_bg)\n",
    "num_signal_events = np.sum(n_signal)\n",
    "\n",
    "print(num_bg_events)\n",
    "print(num_signal_events)\n",
    "\n",
    "z = np.empty(len(bins_bg))\n",
    "for i in range(len(bins_bg)):\n",
    "    num_bg_events = np.sum(n_bg[i:])\n",
    "    num_signal_events = np.sum(n_signal[i:])\n",
    "    #print(num_signal_events)\n",
    "    z_i = num_signal_events / np.sqrt(num_bg_events + (0.05*num_bg_events)**2)\n",
    "    \n",
    "    z[i] = z_i\n",
    "#print(z)\n",
    "\n",
    "\n",
    "x = np.linspace(0,1,len(z))\n",
    "plt.plot(bins_bg,z[:])\n",
    "#plt.xlim([0, 1.0])\n",
    "#plt.ylim([0.0, 1.05])\n",
    "plt.xlabel('Threshold')\n",
    "plt.ylabel('Significance, z')\n",
    "plt.title('Significance curve with sigma')\n",
    "plt.show()\n",
    "\n",
    "\n",
    "mask = z < 1e10     #just so doesnt include infs\n",
    "index_of_max = np.argmax(z[mask])\n",
    "max_value = np.amax(z[mask])\n",
    "\n",
    "\n",
    "#index_of_max = np.nanargmax(z[:])\n",
    "#max_value = np.nanmax(z[:])     # 1 point before last, should probs generalise so that can deal w inf etc \n",
    "max_bin = bins_bg[index_of_max]\n",
    "print(max_bin)\n",
    "print(index_of_max)\n",
    "print(max_value)\n",
    "\n",
    "num_bg_threshold = np.sum(n_bg[index_of_max:])\n",
    "num_signal_threshold = np.sum(n_signal[index_of_max:])\n",
    "print()\n",
    "print('If cut at a threshold of', index_of_max/100, 'have')\n",
    "print(num_signal_threshold, 'singal events')\n",
    "print(num_bg_threshold, 'background events')\n",
    "# significance = sigmna, 6.5 signma, 5 sigma"
   ]
  },
  {
   "cell_type": "code",
   "execution_count": 39,
   "metadata": {},
   "outputs": [
    {
     "name": "stderr",
     "output_type": "stream",
     "text": [
      "/software/deep-learning/envs/ml-microscope/lib/python3.7/site-packages/ipykernel_launcher.py:16: RuntimeWarning: invalid value encountered in double_scalars\n",
      "  app.launch_new_instance()\n",
      "/software/deep-learning/envs/ml-microscope/lib/python3.7/site-packages/ipykernel_launcher.py:17: RuntimeWarning: invalid value encountered in double_scalars\n"
     ]
    },
    {
     "name": "stdout",
     "output_type": "stream",
     "text": [
      "217678.7500371933\n",
      "4367.311523348093\n"
     ]
    },
    {
     "data": {
      "image/png": "[encoded data removed]",
      "text/plain": [
       "<Figure size 432x288 with 1 Axes>"
      ]
     },
     "metadata": {
      "needs_background": "light"
     },
     "output_type": "display_data"
    },
    {
     "name": "stdout",
     "output_type": "stream",
     "text": [
      "0.96\n",
      "96\n",
      "7.994646545166427\n",
      "\n",
      "If cut at a threshold of 0.96 have\n",
      "133.89111328125 singal events\n",
      "150.640625"
     ]
    },
    {
     "name": "stderr",
     "output_type": "stream",
     "text": [
      "/software/deep-learning/envs/ml-microscope/lib/python3.7/site-packages/ipykernel_launcher.py:37: RuntimeWarning: invalid value encountered in less\n"
     ]
    },
    {
     "name": "stdout",
     "output_type": "stream",
     "text": [
      " background events\n"
     ]
    }
   ],
   "source": [
    "# significance with systematic uncertainty term, full equation\n",
    "\n",
    "num_bg_events = np.sum(n_bg)\n",
    "num_signal_events = np.sum(n_signal)\n",
    "\n",
    "print(num_bg_events)\n",
    "print(num_signal_events)\n",
    "\n",
    "z = np.empty(len(bins_bg))\n",
    "for i in range(len(bins_bg)):\n",
    "    b = np.sum(n_bg[i:])\n",
    "    s = np.sum(n_signal[i:])\n",
    "    #print(num_signal_events)\n",
    "    sigma = 0.05*b\n",
    "    \n",
    "    part1 = (s+b)*np.log(((s+b)*(b+sigma**2))/(b**2+((s+b)*sigma**2)))\n",
    "    part2 = (b**2/sigma**2)*np.log(1+((sigma**2*s)/(b*(b+sigma**2))))\n",
    "    \n",
    "    z_i = (2*(part1-part2))**(1/2)\n",
    "\n",
    "    \n",
    "    z[i] = z_i\n",
    "#print(z)\n",
    "#print(z)\n",
    "\n",
    "\n",
    "x = np.linspace(0,1,len(z))\n",
    "plt.plot(bins_bg,z[:])\n",
    "#plt.xlim([0, 1.0])\n",
    "#plt.ylim([0.0, 1.05])\n",
    "plt.xlabel('Threshold')\n",
    "plt.ylabel('Significance, z')\n",
    "plt.title('Significance curve with sigma, full equation')\n",
    "plt.show()\n",
    "\n",
    "\n",
    "mask = z < 1e10     #just so doesnt include infs\n",
    "index_of_max = np.argmax(z[mask])\n",
    "max_value = np.amax(z[mask])\n",
    "\n",
    "\n",
    "#index_of_max = np.nanargmax(z[:])\n",
    "#max_value = np.nanmax(z[:])     # 1 point before last, should probs generalise so that can deal w inf etc \n",
    "max_bin = bins_bg[index_of_max]\n",
    "print(max_bin)\n",
    "print(index_of_max)\n",
    "print(max_value)\n",
    "\n",
    "num_bg_threshold = np.sum(n_bg[index_of_max:])\n",
    "num_signal_threshold = np.sum(n_signal[index_of_max:])\n",
    "print()\n",
    "print('If cut at a threshold of', index_of_max/100, 'have')\n",
    "print(num_signal_threshold, 'singal events')\n",
    "print(num_bg_threshold, 'background events')\n",
    "# significance = sigmna, 6.5 signma, 5 sigma"
   ]
  },
  {
   "cell_type": "code",
   "execution_count": 40,
   "metadata": {},
   "outputs": [
    {
     "data": {
      "image/png": "[encoded data removed]",
      "text/plain": [
       "<Figure size 432x288 with 2 Axes>"
      ]
     },
     "metadata": {
      "needs_background": "light"
     },
     "output_type": "display_data"
    },
    {
     "name": "stdout",
     "output_type": "stream",
     "text": [
      "Total signal processes; 1.0\n",
      "Total background processes; 1.0\n"
     ]
    }
   ],
   "source": [
    "# Confusion matricies with new threshold at max significance with statisitcal uncertainty\n",
    "\n",
    "# calculates prediction values\n",
    "#y_pred = model.predict(X_valid) \n",
    "\n",
    "significance_threshold = max_bin\n",
    "y_pred_threshold = np.where(y_pred >= significance_threshold, 1, 0)\n",
    "\n",
    "# compute the confusion matrix\n",
    "cm = confusion_matrix(y_valid, y_pred_threshold, normalize = 'true')    #,'true' ‘pred’, ‘all’},)\n",
    "#disp = ConfusionMatrixDisplay(confusion_matrix=cm)   \n",
    "disp = ConfusionMatrixDisplay(confusion_matrix=cm, display_labels=['Background', 'Signal']) # other env\n",
    "disp.plot()\n",
    "plt.show()\n",
    "\n",
    "print('Total signal processes;', cm[1,0]+cm[1,1])\n",
    "print('Total background processes;', cm[0,0]+cm[0,1])"
   ]
  }
 ],
 "metadata": {
  "kernelspec": {
   "display_name": "Python 3",
   "language": "python",
   "name": "python3"
  },
  "language_info": {
   "codemirror_mode": {
    "name": "ipython",
    "version": 3
   },
   "file_extension": ".py",
   "mimetype": "text/x-python",
   "name": "python",
   "nbconvert_exporter": "python",
   "pygments_lexer": "ipython3",
   "version": "3.7.3"
  }
 },
 "nbformat": 4,
 "nbformat_minor": 4
}
