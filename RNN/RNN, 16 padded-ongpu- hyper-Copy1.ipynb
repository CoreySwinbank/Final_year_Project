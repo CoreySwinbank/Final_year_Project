{
 "cells": [
  {
   "cell_type": "code",
   "execution_count": 1,
   "metadata": {},
   "outputs": [],
   "source": [
    "# good model, saved and done."
   ]
  },
  {
   "cell_type": "code",
   "execution_count": 1,
   "metadata": {},
   "outputs": [],
   "source": [
    "import numpy as np\n",
    "import pandas as pd \n",
    "from sklearn.model_selection import train_test_split\n",
    "from sklearn.preprocessing import StandardScaler\n",
    "from tensorflow import keras\n",
    "#from tensorflow.keras.utils import to_categorical ## specific  one I wanna use\n",
    "from tensorflow.keras import utils\n",
    "#from tensorflow.keras.layers import Input, Dense, Dropout  # Specific ones I wanna use, can just import whole module\n",
    "from tensorflow.keras import layers \n",
    "from tensorflow.keras.layers import Masking, LSTM, BatchNormalization, Dropout\n",
    "from tensorflow.keras.models import Model\n",
    "import h5py\n",
    "#import tables\n",
    "import matplotlib.pyplot as plt\n",
    "#import tensorflow as tf\n",
    "from sklearn.metrics import confusion_matrix, ConfusionMatrixDisplay\n",
    "from sklearn.metrics import plot_confusion_matrix\n",
    "from sklearn.metrics import roc_curve, auc\n",
    "from sklearn.metrics import precision_recall_curve\n",
    "from sklearn.utils.class_weight import compute_class_weight\n"
   ]
  },
  {
   "cell_type": "code",
   "execution_count": 2,
   "metadata": {},
   "outputs": [
    {
     "data": {
      "text/plain": [
       "True"
      ]
     },
     "execution_count": 2,
     "metadata": {},
     "output_type": "execute_result"
    }
   ],
   "source": [
    "import tensorflow as tf\n",
    "gpu_available = tf.test.is_gpu_available()\n",
    "gpu_available"
   ]
  },
  {
   "cell_type": "code",
   "execution_count": 11,
   "metadata": {},
   "outputs": [
    {
     "data": {
      "text/plain": [
       "4"
      ]
     },
     "execution_count": 11,
     "metadata": {},
     "output_type": "execute_result"
    }
   ],
   "source": [
    "x=1\n",
    "y=3\n",
    "x+y"
   ]
  },
  {
   "cell_type": "code",
   "execution_count": 5,
   "metadata": {},
   "outputs": [],
   "source": [
    "# Load padded data\n",
    "with h5py.File('padded_arr_3d.h5', 'r') as f:\n",
    "    padded_arr_3d = f['array'][:]\n",
    "\n",
    "with h5py.File('4_event_types_labels-Copy1.h5', 'r') as f:\n",
    "    df_labels = f['array'][:]\n",
    "    \n",
    "with h5py.File('4_event_types_weights-Copy1.h5', 'r') as f:\n",
    "    df_weights = f['array'][:]\n"
   ]
  },
  {
   "cell_type": "code",
   "execution_count": 6,
   "metadata": {},
   "outputs": [
    {
     "data": {
      "text/plain": [
       "(881096,)"
      ]
     },
     "execution_count": 6,
     "metadata": {},
     "output_type": "execute_result"
    }
   ],
   "source": [
    "# Need to take the n leading order jets for my second method\n",
    "df_labels.shape"
   ]
  },
  {
   "cell_type": "code",
   "execution_count": 7,
   "metadata": {},
   "outputs": [
    {
     "name": "stdout",
     "output_type": "stream",
     "text": [
      "(881096, 16, 23)\n",
      "There are 23 variables in this model\n",
      "The dataset has 881096 processes\n",
      "(704876, 16, 23)\n",
      "(704876,)\n"
     ]
    }
   ],
   "source": [
    "X = padded_arr_3d\n",
    "y = df_labels\n",
    "\n",
    "print(X.shape)\n",
    "\n",
    "# Break off validation set from training data\n",
    "X_train, X_valid, y_train, y_valid = train_test_split(X, y, train_size=0.8, test_size=0.2,\n",
    "                                                      random_state=10)\n",
    "\n",
    "input_shape = X_train.shape[2]\n",
    "print('There are', input_shape, 'variables in this model')\n",
    "print('The dataset has', len(y), 'processes')\n",
    "\n",
    "\n",
    "print(X_train.shape)\n",
    "print(y_train.shape)"
   ]
  },
  {
   "cell_type": "code",
   "execution_count": 8,
   "metadata": {},
   "outputs": [],
   "source": [
    "#Define the Model\n",
    "\n",
    "# model = keras.Sequential([\n",
    "#     layers.BatchNormalization(input_shape=input_shape), \n",
    "#     layers.Dense(units=256, activation='relu'),\n",
    "#     layers.BatchNormalization(),\n",
    "#     layers.Dropout(rate = 0.3), \n",
    "#     layers.Dense(units=256, activation='relu'),\n",
    "#     layers.BatchNormalization(),\n",
    "#     layers.Dropout(rate = 0.3),\n",
    "#     layers.Dense(units=1, activation='sigmoid'),\n",
    "# ])\n",
    "\n",
    "\n",
    "# model.compile(\n",
    "#     optimizer='adam',\n",
    "#     loss='binary_crossentropy',\n",
    "#     metrics=['binary_accuracy'],\n",
    "# )\n",
    "\n"
   ]
  },
  {
   "cell_type": "code",
   "execution_count": null,
   "metadata": {
    "scrolled": true
   },
   "outputs": [
    {
     "name": "stdout",
     "output_type": "stream",
     "text": [
      "[0.62673917 2.47255507]\n",
      "Fitting 3 folds for each of 12 candidates, totalling 36 fits\n",
      "[CV] activation=relu, batch_size=264, dropout_rate=0.2, learning_rate=0.001, num_hidden_layers=0, optimizer=adam, units=32 \n"
     ]
    },
    {
     "name": "stderr",
     "output_type": "stream",
     "text": [
      "[Parallel(n_jobs=1)]: Using backend SequentialBackend with 1 concurrent workers.\n"
     ]
    },
    {
     "name": "stdout",
     "output_type": "stream",
     "text": [
      "Train on 469917 samples, validate on 176220 samples\n",
      "Epoch 1/25\n",
      "469917/469917 [==============================] - 117s 248us/sample - loss: 0.6165 - accuracy: 0.6198 - val_loss: 0.6089 - val_accuracy: 0.5904\n",
      "Epoch 2/25\n",
      "469392/469917 [============================>.] - ETA: 0s - loss: 0.6101 - accuracy: 0.6321"
     ]
    }
   ],
   "source": [
    "# Gridsearchable version\n",
    "\n",
    "from tensorflow.keras.wrappers.scikit_learn import KerasClassifier\n",
    "from sklearn.model_selection import GridSearchCV\n",
    "from tensorflow.keras.models import Sequential\n",
    "from tensorflow.keras.layers import Dense, Dropout, LSTM, BatchNormalization, Masking\n",
    "\n",
    "from tensorflow.keras.optimizers import Adam\n",
    "\n",
    "input_shape = (16, X_train.shape[2]) # shape of input sequence#\n",
    "\n",
    "def create_rnn(num_hidden_layers=2, units=32, dropout_rate=0.2, optimizer='adam', learning_rate=0.001, activation='relu', input_shape=(16, X_train.shape[2])):\n",
    "    model = Sequential()\n",
    "    model.add(Masking(mask_value=0., input_shape=input_shape))\n",
    "    model.add(LSTM(units=units, return_sequences=True,))\n",
    "    model.add(BatchNormalization())\n",
    "    model.add(Dropout(dropout_rate))              \n",
    "    for i in range(num_hidden_layers-1):\n",
    "        model.add(LSTM(units=units, return_sequences=True))\n",
    "        model.add(BatchNormalization())\n",
    "        model.add(Dropout(dropout_rate))\n",
    "        \n",
    "    model.add(LSTM(units=units))\n",
    "    model.add(Dense(1, activation='sigmoid'))\n",
    "              \n",
    "              \n",
    "    optimizer = Adam(learning_rate=learning_rate)\n",
    "\n",
    "    model.compile(\n",
    "        optimizer=optimizer,\n",
    "        loss='binary_crossentropy',\n",
    "        metrics=['accuracy'],\n",
    "    )\n",
    "\n",
    "    return model\n",
    "\n",
    "rnn = KerasClassifier(build_fn=create_rnn, epochs=25, batch_size=128)\n",
    "\n",
    "\n",
    "param_grid = {\n",
    "    'batch_size': [264,512],\n",
    "    'dropout_rate': [0.2],\n",
    "    'optimizer': ['adam'],\n",
    "    'learning_rate': [0.001],\n",
    "    'activation': ['relu'],\n",
    "    'num_hidden_layers': [0 ,1, 2],\n",
    "    'units': [32, 64]\n",
    "}\n",
    "\n",
    "class_weights = compute_class_weight('balanced', np.unique(y_train), y_train)\n",
    "print(class_weights)\n",
    "class_weight = {0: class_weights[0], \n",
    "               1: class_weights[1]}        # Done by compute_class_weight('balanced', np.unique(y_train), y_train) in cell above\n",
    "\n",
    "\n",
    "\n",
    "early_stopping = keras.callbacks.EarlyStopping(\n",
    "    monitor='val_loss',\n",
    "    patience=15,\n",
    "    min_delta=0.001,\n",
    "    restore_best_weights=True\n",
    ")\n",
    "\n",
    "\n",
    "\n",
    "from sklearn.model_selection import GridSearchCV\n",
    "from sklearn.metrics import make_scorer, accuracy_score, roc_auc_score\n",
    "\n",
    "#Define the scoring functions\n",
    "scoring = {\n",
    "    'accuracy': make_scorer(accuracy_score),\n",
    "    'roc_auc': make_scorer(roc_auc_score)\n",
    "}\n",
    "\n",
    "\n",
    "# Create the GridSearchCV object\n",
    "grid = GridSearchCV(\n",
    "    estimator=rnn,\n",
    "    param_grid=param_grid,\n",
    "    scoring=scoring,\n",
    "    refit='roc_auc',\n",
    "    cv=3,\n",
    "    verbose=2\n",
    "    \n",
    ")\n",
    "\n",
    "# Fit the model and get the results\n",
    "\n",
    "grid_result = grid.fit(X_train, y_train, validation_data=(X_valid, y_valid), class_weight=class_weight, callbacks=[early_stopping])\n",
    "\n",
    "\n",
    "#print(\"Best: %f using %s\" % (grid_result.best_score_, grid_result.best_params_))\n"
   ]
  },
  {
   "cell_type": "code",
   "execution_count": 12,
   "metadata": {},
   "outputs": [
    {
     "name": "stdout",
     "output_type": "stream",
     "text": [
      "Best parameters: {'activation': 'relu', 'batch_size': 512, 'dropout_rate': 0.2, 'learning_rate': 0.001, 'num_hidden_layers': 0, 'optimizer': 'adam', 'units': 64}\n",
      "Best ROC AUC score: 0.6767397211671978\n",
      "Best accuracy score: 0.6703632885150488\n"
     ]
    }
   ],
   "source": [
    "# Print the best results\n",
    "print(f\"Best parameters: {grid_result.best_params_}\")\n",
    "print(f\"Best ROC AUC score: {grid_result.best_score_}\")\n",
    "print(f\"Best accuracy score: {grid_result.cv_results_['mean_test_accuracy'][grid_result.best_index_]}\")\n",
    "\n",
    "      "
   ]
  },
  {
   "cell_type": "code",
   "execution_count": 14,
   "metadata": {},
   "outputs": [
    {
     "data": {
      "text/plain": [
       "{'mean_fit_time': array([2708.43504675, 2519.69834065, 2165.66379754, 2228.0286053 ,\n",
       "        3043.48634489, 3036.33517059, 1116.94454765, 1081.76714484,\n",
       "        1102.45558651, 1088.14349707, 1581.48970477,   33.86854132]),\n",
       " 'std_fit_time': array([108.12842076, 275.96880891,  31.28594916, 104.07244432,\n",
       "         45.20940426,  43.36777947,  33.52784121,   6.303379  ,\n",
       "         10.92276108,  17.77891133,  28.76647634,   5.09377143]),\n",
       " 'mean_score_time': array([27.00441448, 21.08275334, 18.33754492, 20.00976547, 29.26641623,\n",
       "        24.48329949, 10.57069031, 10.46521966, 13.69957352, 10.4452726 ,\n",
       "        15.40499099,  0.        ]),\n",
       " 'std_score_time': array([4.37376987, 2.28319477, 0.15965515, 2.41375931, 0.21552258,\n",
       "        0.79730711, 0.34559759, 0.45964427, 4.23371503, 0.04743698,\n",
       "        0.13051528, 0.        ]),\n",
       " 'param_activation': masked_array(data=['relu', 'relu', 'relu', 'relu', 'relu', 'relu', 'relu',\n",
       "                    'relu', 'relu', 'relu', 'relu', 'relu'],\n",
       "              mask=[False, False, False, False, False, False, False, False,\n",
       "                    False, False, False, False],\n",
       "        fill_value='?',\n",
       "             dtype=object),\n",
       " 'param_batch_size': masked_array(data=[264, 264, 264, 264, 264, 264, 512, 512, 512, 512, 512,\n",
       "                    512],\n",
       "              mask=[False, False, False, False, False, False, False, False,\n",
       "                    False, False, False, False],\n",
       "        fill_value='?',\n",
       "             dtype=object),\n",
       " 'param_dropout_rate': masked_array(data=[0.2, 0.2, 0.2, 0.2, 0.2, 0.2, 0.2, 0.2, 0.2, 0.2, 0.2,\n",
       "                    0.2],\n",
       "              mask=[False, False, False, False, False, False, False, False,\n",
       "                    False, False, False, False],\n",
       "        fill_value='?',\n",
       "             dtype=object),\n",
       " 'param_learning_rate': masked_array(data=[0.001, 0.001, 0.001, 0.001, 0.001, 0.001, 0.001, 0.001,\n",
       "                    0.001, 0.001, 0.001, 0.001],\n",
       "              mask=[False, False, False, False, False, False, False, False,\n",
       "                    False, False, False, False],\n",
       "        fill_value='?',\n",
       "             dtype=object),\n",
       " 'param_num_hidden_layers': masked_array(data=[0, 0, 1, 1, 2, 2, 0, 0, 1, 1, 2, 2],\n",
       "              mask=[False, False, False, False, False, False, False, False,\n",
       "                    False, False, False, False],\n",
       "        fill_value='?',\n",
       "             dtype=object),\n",
       " 'param_optimizer': masked_array(data=['adam', 'adam', 'adam', 'adam', 'adam', 'adam', 'adam',\n",
       "                    'adam', 'adam', 'adam', 'adam', 'adam'],\n",
       "              mask=[False, False, False, False, False, False, False, False,\n",
       "                    False, False, False, False],\n",
       "        fill_value='?',\n",
       "             dtype=object),\n",
       " 'param_units': masked_array(data=[32, 64, 32, 64, 32, 64, 32, 64, 32, 64, 32, 64],\n",
       "              mask=[False, False, False, False, False, False, False, False,\n",
       "                    False, False, False, False],\n",
       "        fill_value='?',\n",
       "             dtype=object),\n",
       " 'params': [{'activation': 'relu',\n",
       "   'batch_size': 264,\n",
       "   'dropout_rate': 0.2,\n",
       "   'learning_rate': 0.001,\n",
       "   'num_hidden_layers': 0,\n",
       "   'optimizer': 'adam',\n",
       "   'units': 32},\n",
       "  {'activation': 'relu',\n",
       "   'batch_size': 264,\n",
       "   'dropout_rate': 0.2,\n",
       "   'learning_rate': 0.001,\n",
       "   'num_hidden_layers': 0,\n",
       "   'optimizer': 'adam',\n",
       "   'units': 64},\n",
       "  {'activation': 'relu',\n",
       "   'batch_size': 264,\n",
       "   'dropout_rate': 0.2,\n",
       "   'learning_rate': 0.001,\n",
       "   'num_hidden_layers': 1,\n",
       "   'optimizer': 'adam',\n",
       "   'units': 32},\n",
       "  {'activation': 'relu',\n",
       "   'batch_size': 264,\n",
       "   'dropout_rate': 0.2,\n",
       "   'learning_rate': 0.001,\n",
       "   'num_hidden_layers': 1,\n",
       "   'optimizer': 'adam',\n",
       "   'units': 64},\n",
       "  {'activation': 'relu',\n",
       "   'batch_size': 264,\n",
       "   'dropout_rate': 0.2,\n",
       "   'learning_rate': 0.001,\n",
       "   'num_hidden_layers': 2,\n",
       "   'optimizer': 'adam',\n",
       "   'units': 32},\n",
       "  {'activation': 'relu',\n",
       "   'batch_size': 264,\n",
       "   'dropout_rate': 0.2,\n",
       "   'learning_rate': 0.001,\n",
       "   'num_hidden_layers': 2,\n",
       "   'optimizer': 'adam',\n",
       "   'units': 64},\n",
       "  {'activation': 'relu',\n",
       "   'batch_size': 512,\n",
       "   'dropout_rate': 0.2,\n",
       "   'learning_rate': 0.001,\n",
       "   'num_hidden_layers': 0,\n",
       "   'optimizer': 'adam',\n",
       "   'units': 32},\n",
       "  {'activation': 'relu',\n",
       "   'batch_size': 512,\n",
       "   'dropout_rate': 0.2,\n",
       "   'learning_rate': 0.001,\n",
       "   'num_hidden_layers': 0,\n",
       "   'optimizer': 'adam',\n",
       "   'units': 64},\n",
       "  {'activation': 'relu',\n",
       "   'batch_size': 512,\n",
       "   'dropout_rate': 0.2,\n",
       "   'learning_rate': 0.001,\n",
       "   'num_hidden_layers': 1,\n",
       "   'optimizer': 'adam',\n",
       "   'units': 32},\n",
       "  {'activation': 'relu',\n",
       "   'batch_size': 512,\n",
       "   'dropout_rate': 0.2,\n",
       "   'learning_rate': 0.001,\n",
       "   'num_hidden_layers': 1,\n",
       "   'optimizer': 'adam',\n",
       "   'units': 64},\n",
       "  {'activation': 'relu',\n",
       "   'batch_size': 512,\n",
       "   'dropout_rate': 0.2,\n",
       "   'learning_rate': 0.001,\n",
       "   'num_hidden_layers': 2,\n",
       "   'optimizer': 'adam',\n",
       "   'units': 32},\n",
       "  {'activation': 'relu',\n",
       "   'batch_size': 512,\n",
       "   'dropout_rate': 0.2,\n",
       "   'learning_rate': 0.001,\n",
       "   'num_hidden_layers': 2,\n",
       "   'optimizer': 'adam',\n",
       "   'units': 64}],\n",
       " 'split0_test_accuracy': array([0.66558846, 0.67740755, 0.6626305 , 0.67890994, 0.66201763,\n",
       "        0.66043863, 0.66216659, 0.68546427, 0.66787823, 0.66998498,\n",
       "        0.66901034,        nan]),\n",
       " 'split1_test_accuracy': array([0.64572968, 0.65928949, 0.67355156, 0.68413638, 0.67834814,\n",
       "        0.67547955, 0.67356858, 0.66190697, 0.64660643, 0.67375585,\n",
       "        0.66935934,        nan]),\n",
       " 'split2_test_accuracy': array([0.62617574, 0.64998   , 0.67089863, 0.66620843, 0.66179062,\n",
       "        0.65736855, 0.64482588, 0.66371862, 0.65982431, 0.67257978,\n",
       "        0.63796083,        nan]),\n",
       " 'mean_test_accuracy': array([0.6458313 , 0.66222568, 0.6690269 , 0.67641825, 0.66738546,\n",
       "        0.66442891, 0.66018702, 0.67036329, 0.65810299, 0.67210687,\n",
       "        0.65877683,        nan]),\n",
       " 'std_test_accuracy': array([0.01609034, 0.01138811, 0.0046508 , 0.00752814, 0.00775234,\n",
       "        0.00791386, 0.01181735, 0.01070359, 0.00876906, 0.00157535,\n",
       "        0.01471983,        nan]),\n",
       " 'rank_test_accuracy': array([11,  7,  4,  1,  5,  6,  8,  3, 10,  2,  9, 12], dtype=int32),\n",
       " 'split0_test_roc_auc': array([0.6719934 , 0.67502571, 0.67161454, 0.6746152 , 0.67140871,\n",
       "        0.67492206, 0.67214798, 0.675198  , 0.67199942, 0.67583506,\n",
       "        0.67160541,        nan]),\n",
       " 'split1_test_roc_auc': array([0.67291792, 0.67568747, 0.67444847, 0.67455738, 0.67252143,\n",
       "        0.67520524, 0.67381915, 0.67712876, 0.6737987 , 0.67693876,\n",
       "        0.67335649,        nan]),\n",
       " 'split2_test_roc_auc': array([0.67262312, 0.67680469, 0.67541672, 0.67727483, 0.67333275,\n",
       "        0.67371821, 0.67577729, 0.6778924 , 0.67303987, 0.67658793,\n",
       "        0.67230593,        nan]),\n",
       " 'mean_test_roc_auc': array([0.67251148, 0.67583929, 0.67382658, 0.67548247, 0.67242096,\n",
       "        0.67461517, 0.67391481, 0.67673972, 0.672946  , 0.67645392,\n",
       "        0.67242261,        nan]),\n",
       " 'std_test_roc_auc': array([0.0003856 , 0.00073416, 0.00161332, 0.00126761, 0.0007887 ,\n",
       "        0.0006447 , 0.00148321, 0.00113386, 0.00073754, 0.00046044,\n",
       "        0.00071962,        nan]),\n",
       " 'rank_test_roc_auc': array([ 9,  3,  7,  4, 11,  5,  6,  1,  8,  2, 10, 12], dtype=int32)}"
      ]
     },
     "execution_count": 14,
     "metadata": {},
     "output_type": "execute_result"
    }
   ],
   "source": [
    "grid.cv_results_"
   ]
  },
  {
   "cell_type": "code",
   "execution_count": 15,
   "metadata": {},
   "outputs": [
    {
     "name": "stdout",
     "output_type": "stream",
     "text": [
      "Best: 0.676740 using {'activation': 'relu', 'batch_size': 512, 'dropout_rate': 0.2, 'learning_rate': 0.001, 'num_hidden_layers': 0, 'optimizer': 'adam', 'units': 64}\n",
      "0.672511 (0.000386) with: {'activation': 'relu', 'batch_size': 264, 'dropout_rate': 0.2, 'learning_rate': 0.001, 'num_hidden_layers': 0, 'optimizer': 'adam', 'units': 32}\n",
      "0.675839 (0.000734) with: {'activation': 'relu', 'batch_size': 264, 'dropout_rate': 0.2, 'learning_rate': 0.001, 'num_hidden_layers': 0, 'optimizer': 'adam', 'units': 64}\n",
      "0.673827 (0.001613) with: {'activation': 'relu', 'batch_size': 264, 'dropout_rate': 0.2, 'learning_rate': 0.001, 'num_hidden_layers': 1, 'optimizer': 'adam', 'units': 32}\n",
      "0.675482 (0.001268) with: {'activation': 'relu', 'batch_size': 264, 'dropout_rate': 0.2, 'learning_rate': 0.001, 'num_hidden_layers': 1, 'optimizer': 'adam', 'units': 64}\n",
      "0.672421 (0.000789) with: {'activation': 'relu', 'batch_size': 264, 'dropout_rate': 0.2, 'learning_rate': 0.001, 'num_hidden_layers': 2, 'optimizer': 'adam', 'units': 32}\n",
      "0.674615 (0.000645) with: {'activation': 'relu', 'batch_size': 264, 'dropout_rate': 0.2, 'learning_rate': 0.001, 'num_hidden_layers': 2, 'optimizer': 'adam', 'units': 64}\n",
      "0.673915 (0.001483) with: {'activation': 'relu', 'batch_size': 512, 'dropout_rate': 0.2, 'learning_rate': 0.001, 'num_hidden_layers': 0, 'optimizer': 'adam', 'units': 32}\n",
      "0.676740 (0.001134) with: {'activation': 'relu', 'batch_size': 512, 'dropout_rate': 0.2, 'learning_rate': 0.001, 'num_hidden_layers': 0, 'optimizer': 'adam', 'units': 64}\n",
      "0.672946 (0.000738) with: {'activation': 'relu', 'batch_size': 512, 'dropout_rate': 0.2, 'learning_rate': 0.001, 'num_hidden_layers': 1, 'optimizer': 'adam', 'units': 32}\n",
      "0.676454 (0.000460) with: {'activation': 'relu', 'batch_size': 512, 'dropout_rate': 0.2, 'learning_rate': 0.001, 'num_hidden_layers': 1, 'optimizer': 'adam', 'units': 64}\n",
      "0.672423 (0.000720) with: {'activation': 'relu', 'batch_size': 512, 'dropout_rate': 0.2, 'learning_rate': 0.001, 'num_hidden_layers': 2, 'optimizer': 'adam', 'units': 32}\n",
      "nan (nan) with: {'activation': 'relu', 'batch_size': 512, 'dropout_rate': 0.2, 'learning_rate': 0.001, 'num_hidden_layers': 2, 'optimizer': 'adam', 'units': 64}\n"
     ]
    }
   ],
   "source": [
    "# summarize results\n",
    "print(\"Best: %f using %s\" % (grid.best_score_, grid.best_params_))\n",
    "means = grid.cv_results_['mean_test_roc_auc']\n",
    "stds = grid.cv_results_['std_test_roc_auc']\n",
    "params = grid.cv_results_['params']\n",
    "for mean, stdev, param in zip(means, stds, params):\n",
    "    print(\"%f (%f) with: %r\" % (mean, stdev, param))"
   ]
  },
  {
   "cell_type": "code",
   "execution_count": 16,
   "metadata": {},
   "outputs": [
    {
     "name": "stdout",
     "output_type": "stream",
     "text": [
      "Train on 704876 samples, validate on 176220 samples\n",
      "Epoch 1/15\n",
      "704876/704876 [==============================] - 80s 114us/sample - loss: 0.6168 - accuracy: 0.6205 - val_loss: 0.6086 - val_accuracy: 0.6613\n",
      "Epoch 2/15\n",
      "704876/704876 [==============================] - 56s 79us/sample - loss: 0.6101 - accuracy: 0.6347 - val_loss: 0.6063 - val_accuracy: 0.5998\n",
      "Epoch 3/15\n",
      "704876/704876 [==============================] - 55s 79us/sample - loss: 0.6072 - accuracy: 0.6426 - val_loss: 0.6017 - val_accuracy: 0.6444\n",
      "Epoch 4/15\n",
      "704876/704876 [==============================] - 57s 81us/sample - loss: 0.6054 - accuracy: 0.6479 - val_loss: 0.5997 - val_accuracy: 0.6610\n",
      "Epoch 5/15\n",
      "704876/704876 [==============================] - 58s 82us/sample - loss: 0.6041 - accuracy: 0.6501 - val_loss: 0.5996 - val_accuracy: 0.6729\n",
      "Epoch 6/15\n",
      "704876/704876 [==============================] - 56s 80us/sample - loss: 0.6028 - accuracy: 0.6532 - val_loss: 0.5984 - val_accuracy: 0.6447\n",
      "Epoch 7/15\n",
      "704876/704876 [==============================] - 56s 80us/sample - loss: 0.6018 - accuracy: 0.6554 - val_loss: 0.5979 - val_accuracy: 0.6648\n",
      "Epoch 8/15\n",
      "704876/704876 [==============================] - 57s 80us/sample - loss: 0.6006 - accuracy: 0.6564 - val_loss: 0.5967 - val_accuracy: 0.6698\n",
      "Epoch 9/15\n",
      "704876/704876 [==============================] - 57s 81us/sample - loss: 0.5997 - accuracy: 0.6578 - val_loss: 0.5970 - val_accuracy: 0.6624\n",
      "Epoch 10/15\n",
      "704876/704876 [==============================] - 57s 81us/sample - loss: 0.5989 - accuracy: 0.6590 - val_loss: 0.5970 - val_accuracy: 0.6294\n",
      "Epoch 11/15\n",
      "704876/704876 [==============================] - 57s 81us/sample - loss: 0.5981 - accuracy: 0.6603 - val_loss: 0.5950 - val_accuracy: 0.6669\n",
      "Epoch 12/15\n",
      "704876/704876 [==============================] - 56s 80us/sample - loss: 0.5975 - accuracy: 0.6609 - val_loss: 0.5937 - val_accuracy: 0.6810\n",
      "Epoch 13/15\n",
      "704876/704876 [==============================] - 56s 80us/sample - loss: 0.5969 - accuracy: 0.6613 - val_loss: 0.5941 - val_accuracy: 0.6687\n",
      "Epoch 14/15\n",
      "704876/704876 [==============================] - 57s 81us/sample - loss: 0.5964 - accuracy: 0.6622 - val_loss: 0.5951 - val_accuracy: 0.6878\n",
      "Epoch 15/15\n",
      "704876/704876 [==============================] - 57s 81us/sample - loss: 0.5961 - accuracy: 0.6631 - val_loss: 0.5940 - val_accuracy: 0.6604\n",
      "Best Validation Loss: 0.5937\n",
      "Best Validation Accuracy: 0.6878\n"
     ]
    },
    {
     "name": "stderr",
     "output_type": "stream",
     "text": [
      "IOPub data rate exceeded.\n",
      "The notebook server will temporarily stop sending output\n",
      "to the client in order to avoid crashing it.\n",
      "To change this limit, set the config variable\n",
      "`--NotebookApp.iopub_data_rate_limit`.\n",
      "\n",
      "Current values:\n",
      "NotebookApp.iopub_data_rate_limit=1000000.0 (bytes/sec)\n",
      "NotebookApp.rate_limit_window=3.0 (secs)\n",
      "\n"
     ]
    },
    {
     "name": "stdout",
     "output_type": "stream",
     "text": [
      "Validation accuracy: 0.6604472\n"
     ]
    },
    {
     "data": {
      "image/png": "[encoded data removed]",
      "text/plain": [
       "<Figure size 432x288 with 1 Axes>"
      ]
     },
     "metadata": {
      "needs_background": "light"
     },
     "output_type": "display_data"
    },
    {
     "data": {
      "image/png": "[encoded data removed]",
      "text/plain": [
       "<Figure size 432x288 with 1 Axes>"
      ]
     },
     "metadata": {
      "needs_background": "light"
     },
     "output_type": "display_data"
    }
   ],
   "source": [
    "# Evaluate the performance of the best model\n",
    "best_params = grid.best_params_\n",
    "best_model = create_rnn(\n",
    "    num_hidden_layers=best_params['num_hidden_layers'],\n",
    "    learning_rate=best_params['learning_rate'],\n",
    "    dropout_rate=best_params['dropout_rate'],\n",
    "    optimizer=best_params['optimizer'],\n",
    "    activation=best_params['activation']\n",
    ")\n",
    "\n",
    "early_stopping = keras.callbacks.EarlyStopping(\n",
    "    monitor='val_loss',\n",
    "    patience=15,\n",
    "    min_delta=0.001,\n",
    "    restore_best_weights=True\n",
    ")\n",
    "history = best_model.fit(\n",
    "    X_train,\n",
    "    y_train,\n",
    "    validation_data=(X_valid, y_valid),\n",
    "    batch_size=best_params['batch_size'],\n",
    "    epochs=15,\n",
    "    callbacks=[early_stopping],\n",
    "    class_weight=class_weight\n",
    ")\n",
    "\n",
    "history_df = pd.DataFrame(history.history)\n",
    "history_df.loc[:, ['loss', 'val_loss']].plot(title=\"Cross-entropy\")\n",
    "history_df.loc[:, ['accuracy', 'val_accuracy']].plot(title=\"Accuracy\")\n",
    "\n",
    "print((\"Best Validation Loss: {:0.4f}\" +\\\n",
    "      \"\\nBest Validation Accuracy: {:0.4f}\")\\\n",
    "      .format(history_df['val_loss'].min(), \n",
    "              history_df['val_accuracy'].max()))\n",
    "\n",
    "# Generate some accuracy metrics\n",
    "score = best_model.evaluate(X_valid, y_valid)\n",
    "print('Validation accuracy:', score[1])\n"
   ]
  },
  {
   "cell_type": "code",
   "execution_count": 17,
   "metadata": {},
   "outputs": [
    {
     "name": "stdout",
     "output_type": "stream",
     "text": [
      "        loss  accuracy  val_loss  val_accuracy\n",
      "0   0.616775  0.620491  0.608639      0.661270\n",
      "1   0.610145  0.634676  0.606315      0.599824\n",
      "2   0.607232  0.642632  0.601660      0.644433\n",
      "3   0.605433  0.647934  0.599700      0.660975\n",
      "4   0.604139  0.650114  0.599579      0.672863\n",
      "5   0.602756  0.653174  0.598414      0.644740\n",
      "6   0.601800  0.655402  0.597910      0.664817\n",
      "7   0.600580  0.656418  0.596745      0.669839\n",
      "8   0.599677  0.657822  0.597034      0.662360\n",
      "9   0.598909  0.659011  0.596968      0.629389\n",
      "10  0.598088  0.660282  0.594998      0.666894\n",
      "11  0.597513  0.660945  0.593713      0.681029\n",
      "12  0.596906  0.661254  0.594099      0.668744\n",
      "13  0.596417  0.662165  0.595109      0.687788\n",
      "14  0.596095  0.663081  0.593971      0.660447\n"
     ]
    }
   ],
   "source": [
    "# want to see what other variables in df\n",
    "\n",
    "print(history_df)\n",
    "\n"
   ]
  },
  {
   "cell_type": "code",
   "execution_count": 18,
   "metadata": {},
   "outputs": [
    {
     "name": "stdout",
     "output_type": "stream",
     "text": [
      "Best Validation Loss: 0.5937\n",
      "Best Validation Accuracy: 0.6878\n"
     ]
    },
    {
     "data": {
      "image/png": "[encoded data removed]",
      "text/plain": [
       "<Figure size 432x288 with 1 Axes>"
      ]
     },
     "metadata": {
      "needs_background": "light"
     },
     "output_type": "display_data"
    },
    {
     "data": {
      "image/png": "[encoded data removed]",
      "text/plain": [
       "<Figure size 432x288 with 1 Axes>"
      ]
     },
     "metadata": {
      "needs_background": "light"
     },
     "output_type": "display_data"
    }
   ],
   "source": [
    "# print training curves\n",
    "\n",
    "history_df = pd.DataFrame(history.history)\n",
    "history_df.loc[:, ['loss', 'val_loss']].plot(title=\"Cross-entropy\")\n",
    "history_df.loc[:, ['accuracy', 'val_accuracy']].plot(title=\"Accuracy\")\n",
    "\n",
    "print((\"Best Validation Loss: {:0.4f}\" +\\\n",
    "      \"\\nBest Validation Accuracy: {:0.4f}\")\\\n",
    "      .format(history_df['val_loss'].min(), \n",
    "              history_df['val_accuracy'].max()))"
   ]
  },
  {
   "cell_type": "code",
   "execution_count": null,
   "metadata": {},
   "outputs": [],
   "source": [
    "#model.save('trained_model_16pad_128_50epoch_4Layers_seed10.h5')"
   ]
  },
  {
   "cell_type": "code",
   "execution_count": 21,
   "metadata": {},
   "outputs": [
    {
     "name": "stderr",
     "output_type": "stream",
     "text": [
      "IOPub data rate exceeded.\n",
      "The notebook server will temporarily stop sending output\n",
      "to the client in order to avoid crashing it.\n",
      "To change this limit, set the config variable\n",
      "`--NotebookApp.iopub_data_rate_limit`.\n",
      "\n",
      "Current values:\n",
      "NotebookApp.iopub_data_rate_limit=1000000.0 (bytes/sec)\n",
      "NotebookApp.rate_limit_window=3.0 (secs)\n",
      "\n"
     ]
    },
    {
     "name": "stdout",
     "output_type": "stream",
     "text": [
      "Validation accuracy: 0.6604472\n"
     ]
    }
   ],
   "source": [
    "# Generate some accuracy metrics\n",
    "score = best_model.evaluate(X_valid, y_valid)\n",
    "print('Validation accuracy:', score[1])\n",
    "\n"
   ]
  },
  {
   "cell_type": "code",
   "execution_count": 41,
   "metadata": {},
   "outputs": [
    {
     "name": "stdout",
     "output_type": "stream",
     "text": [
      "Model: \"sequential_37\"\n",
      "_________________________________________________________________\n",
      "Layer (type)                 Output Shape              Param #   \n",
      "=================================================================\n",
      "masking_37 (Masking)         (None, 16, 23)            0         \n",
      "_________________________________________________________________\n",
      "lstm_86 (LSTM)               (None, 16, 32)            7168      \n",
      "_________________________________________________________________\n",
      "batch_normalization_49 (Batc (None, 16, 32)            128       \n",
      "_________________________________________________________________\n",
      "dropout_49 (Dropout)         (None, 16, 32)            0         \n",
      "_________________________________________________________________\n",
      "lstm_87 (LSTM)               (None, 32)                8320      \n",
      "_________________________________________________________________\n",
      "dense_37 (Dense)             (None, 1)                 33        \n",
      "=================================================================\n",
      "Total params: 15,649\n",
      "Trainable params: 15,585\n",
      "Non-trainable params: 64\n",
      "_________________________________________________________________\n"
     ]
    }
   ],
   "source": [
    "best_model.summary()"
   ]
  },
  {
   "cell_type": "code",
   "execution_count": 42,
   "metadata": {},
   "outputs": [
    {
     "data": {
      "image/svg+xml": [
       "<svg height=\"522pt\" viewBox=\"0.00 0.00 266.73 578.20\" width=\"241pt\" xmlns=\"http://www.w3.org/2000/svg\" xmlns:xlink=\"http://www.w3.org/1999/xlink\">\n",
       "<g class=\"graph\" id=\"graph0\" transform=\"scale(0.902778 0.902778) rotate(0) translate(4 574.2)\">\n",
       "<title>G</title>\n",
       "<polygon fill=\"white\" points=\"-4,4 -4,-574.2 262.728,-574.2 262.728,4 -4,4\" stroke=\"none\"/>\n",
       "<!-- 140560961280040 -->\n",
       "<g class=\"node\" id=\"node1\"><title>140560961280040</title>\n",
       "<polygon fill=\"none\" points=\"21.0028,-520.1 21.0028,-569.7 237.725,-569.7 237.725,-520.1 21.0028,-520.1\" stroke=\"black\"/>\n",
       "<text font-family=\"Times,serif\" font-size=\"14.00\" text-anchor=\"middle\" x=\"60.0996\" y=\"-540.7\">InputLayer</text>\n",
       "<polyline fill=\"none\" points=\"99.1964,-520.1 99.1964,-569.7 \" stroke=\"black\"/>\n",
       "<text font-family=\"Times,serif\" font-size=\"14.00\" text-anchor=\"middle\" x=\"127.032\" y=\"-553.1\">input:</text>\n",
       "<polyline fill=\"none\" points=\"99.1964,-544.9 154.868,-544.9 \" stroke=\"black\"/>\n",
       "<text font-family=\"Times,serif\" font-size=\"14.00\" text-anchor=\"middle\" x=\"127.032\" y=\"-528.3\">output:</text>\n",
       "<polyline fill=\"none\" points=\"154.868,-520.1 154.868,-569.7 \" stroke=\"black\"/>\n",
       "<text font-family=\"Times,serif\" font-size=\"14.00\" text-anchor=\"middle\" x=\"196.297\" y=\"-553.1\">[(?, 16, 23)]</text>\n",
       "<polyline fill=\"none\" points=\"154.868,-544.9 237.725,-544.9 \" stroke=\"black\"/>\n",
       "<text font-family=\"Times,serif\" font-size=\"14.00\" text-anchor=\"middle\" x=\"196.297\" y=\"-528.3\">[(?, 16, 23)]</text>\n",
       "</g>\n",
       "<!-- 140560961279928 -->\n",
       "<g class=\"node\" id=\"node2\"><title>140560961279928</title>\n",
       "<polygon fill=\"none\" points=\"32.263,-433.5 32.263,-483.1 226.465,-483.1 226.465,-433.5 32.263,-433.5\" stroke=\"black\"/>\n",
       "<text font-family=\"Times,serif\" font-size=\"14.00\" text-anchor=\"middle\" x=\"64.7602\" y=\"-454.1\">Masking</text>\n",
       "<polyline fill=\"none\" points=\"97.2574,-433.5 97.2574,-483.1 \" stroke=\"black\"/>\n",
       "<text font-family=\"Times,serif\" font-size=\"14.00\" text-anchor=\"middle\" x=\"125.093\" y=\"-466.5\">input:</text>\n",
       "<polyline fill=\"none\" points=\"97.2574,-458.3 152.929,-458.3 \" stroke=\"black\"/>\n",
       "<text font-family=\"Times,serif\" font-size=\"14.00\" text-anchor=\"middle\" x=\"125.093\" y=\"-441.7\">output:</text>\n",
       "<polyline fill=\"none\" points=\"152.929,-433.5 152.929,-483.1 \" stroke=\"black\"/>\n",
       "<text font-family=\"Times,serif\" font-size=\"14.00\" text-anchor=\"middle\" x=\"189.697\" y=\"-466.5\">(?, 16, 23)</text>\n",
       "<polyline fill=\"none\" points=\"152.929,-458.3 226.465,-458.3 \" stroke=\"black\"/>\n",
       "<text font-family=\"Times,serif\" font-size=\"14.00\" text-anchor=\"middle\" x=\"189.697\" y=\"-441.7\">(?, 16, 23)</text>\n",
       "</g>\n",
       "<!-- 140560961280040&#45;&gt;140560961279928 -->\n",
       "<g class=\"edge\" id=\"edge1\"><title>140560961280040-&gt;140560961279928</title>\n",
       "<path d=\"M129.364,-519.883C129.364,-511.667 129.364,-502.312 129.364,-493.452\" fill=\"none\" stroke=\"black\"/>\n",
       "<polygon fill=\"black\" points=\"132.864,-493.377 129.364,-483.377 125.864,-493.377 132.864,-493.377\" stroke=\"black\"/>\n",
       "</g>\n",
       "<!-- 140560961279816 -->\n",
       "<g class=\"node\" id=\"node3\"><title>140560961279816</title>\n",
       "<polygon fill=\"none\" points=\"38.094,-346.9 38.094,-396.5 220.634,-396.5 220.634,-346.9 38.094,-346.9\" stroke=\"black\"/>\n",
       "<text font-family=\"Times,serif\" font-size=\"14.00\" text-anchor=\"middle\" x=\"64.7602\" y=\"-367.5\">LSTM</text>\n",
       "<polyline fill=\"none\" points=\"91.4264,-346.9 91.4264,-396.5 \" stroke=\"black\"/>\n",
       "<text font-family=\"Times,serif\" font-size=\"14.00\" text-anchor=\"middle\" x=\"119.262\" y=\"-379.9\">input:</text>\n",
       "<polyline fill=\"none\" points=\"91.4264,-371.7 147.098,-371.7 \" stroke=\"black\"/>\n",
       "<text font-family=\"Times,serif\" font-size=\"14.00\" text-anchor=\"middle\" x=\"119.262\" y=\"-355.1\">output:</text>\n",
       "<polyline fill=\"none\" points=\"147.098,-346.9 147.098,-396.5 \" stroke=\"black\"/>\n",
       "<text font-family=\"Times,serif\" font-size=\"14.00\" text-anchor=\"middle\" x=\"183.866\" y=\"-379.9\">(?, 16, 23)</text>\n",
       "<polyline fill=\"none\" points=\"147.098,-371.7 220.634,-371.7 \" stroke=\"black\"/>\n",
       "<text font-family=\"Times,serif\" font-size=\"14.00\" text-anchor=\"middle\" x=\"183.866\" y=\"-355.1\">(?, 16, 32)</text>\n",
       "</g>\n",
       "<!-- 140560961279928&#45;&gt;140560961279816 -->\n",
       "<g class=\"edge\" id=\"edge2\"><title>140560961279928-&gt;140560961279816</title>\n",
       "<path d=\"M129.364,-433.283C129.364,-425.067 129.364,-415.712 129.364,-406.852\" fill=\"none\" stroke=\"black\"/>\n",
       "<polygon fill=\"black\" points=\"132.864,-406.777 129.364,-396.777 125.864,-406.777 132.864,-406.777\" stroke=\"black\"/>\n",
       "</g>\n",
       "<!-- 140576101563080 -->\n",
       "<g class=\"node\" id=\"node4\"><title>140576101563080</title>\n",
       "<polygon fill=\"none\" points=\"0,-260.3 0,-309.9 258.728,-309.9 258.728,-260.3 0,-260.3\" stroke=\"black\"/>\n",
       "<text font-family=\"Times,serif\" font-size=\"14.00\" text-anchor=\"middle\" x=\"64.7602\" y=\"-280.9\">BatchNormalization</text>\n",
       "<polyline fill=\"none\" points=\"129.52,-260.3 129.52,-309.9 \" stroke=\"black\"/>\n",
       "<text font-family=\"Times,serif\" font-size=\"14.00\" text-anchor=\"middle\" x=\"157.356\" y=\"-293.3\">input:</text>\n",
       "<polyline fill=\"none\" points=\"129.52,-285.1 185.192,-285.1 \" stroke=\"black\"/>\n",
       "<text font-family=\"Times,serif\" font-size=\"14.00\" text-anchor=\"middle\" x=\"157.356\" y=\"-268.5\">output:</text>\n",
       "<polyline fill=\"none\" points=\"185.192,-260.3 185.192,-309.9 \" stroke=\"black\"/>\n",
       "<text font-family=\"Times,serif\" font-size=\"14.00\" text-anchor=\"middle\" x=\"221.96\" y=\"-293.3\">(?, 16, 32)</text>\n",
       "<polyline fill=\"none\" points=\"185.192,-285.1 258.728,-285.1 \" stroke=\"black\"/>\n",
       "<text font-family=\"Times,serif\" font-size=\"14.00\" text-anchor=\"middle\" x=\"221.96\" y=\"-268.5\">(?, 16, 32)</text>\n",
       "</g>\n",
       "<!-- 140560961279816&#45;&gt;140576101563080 -->\n",
       "<g class=\"edge\" id=\"edge3\"><title>140560961279816-&gt;140576101563080</title>\n",
       "<path d=\"M129.364,-346.683C129.364,-338.467 129.364,-329.112 129.364,-320.252\" fill=\"none\" stroke=\"black\"/>\n",
       "<polygon fill=\"black\" points=\"132.864,-320.177 129.364,-310.177 125.864,-320.177 132.864,-320.177\" stroke=\"black\"/>\n",
       "</g>\n",
       "<!-- 140560955896664 -->\n",
       "<g class=\"node\" id=\"node5\"><title>140560955896664</title>\n",
       "<polygon fill=\"none\" points=\"33.4313,-173.7 33.4313,-223.3 225.297,-223.3 225.297,-173.7 33.4313,-173.7\" stroke=\"black\"/>\n",
       "<text font-family=\"Times,serif\" font-size=\"14.00\" text-anchor=\"middle\" x=\"64.7602\" y=\"-194.3\">Dropout</text>\n",
       "<polyline fill=\"none\" points=\"96.0891,-173.7 96.0891,-223.3 \" stroke=\"black\"/>\n",
       "<text font-family=\"Times,serif\" font-size=\"14.00\" text-anchor=\"middle\" x=\"123.925\" y=\"-206.7\">input:</text>\n",
       "<polyline fill=\"none\" points=\"96.0891,-198.5 151.761,-198.5 \" stroke=\"black\"/>\n",
       "<text font-family=\"Times,serif\" font-size=\"14.00\" text-anchor=\"middle\" x=\"123.925\" y=\"-181.9\">output:</text>\n",
       "<polyline fill=\"none\" points=\"151.761,-173.7 151.761,-223.3 \" stroke=\"black\"/>\n",
       "<text font-family=\"Times,serif\" font-size=\"14.00\" text-anchor=\"middle\" x=\"188.529\" y=\"-206.7\">(?, 16, 32)</text>\n",
       "<polyline fill=\"none\" points=\"151.761,-198.5 225.297,-198.5 \" stroke=\"black\"/>\n",
       "<text font-family=\"Times,serif\" font-size=\"14.00\" text-anchor=\"middle\" x=\"188.529\" y=\"-181.9\">(?, 16, 32)</text>\n",
       "</g>\n",
       "<!-- 140576101563080&#45;&gt;140560955896664 -->\n",
       "<g class=\"edge\" id=\"edge4\"><title>140576101563080-&gt;140560955896664</title>\n",
       "<path d=\"M129.364,-260.083C129.364,-251.867 129.364,-242.512 129.364,-233.652\" fill=\"none\" stroke=\"black\"/>\n",
       "<polygon fill=\"black\" points=\"132.864,-233.577 129.364,-223.577 125.864,-233.577 132.864,-233.577\" stroke=\"black\"/>\n",
       "</g>\n",
       "<!-- 140560956402544 -->\n",
       "<g class=\"node\" id=\"node6\"><title>140560956402544</title>\n",
       "<polygon fill=\"none\" points=\"38.094,-87.1 38.094,-136.7 220.634,-136.7 220.634,-87.1 38.094,-87.1\" stroke=\"black\"/>\n",
       "<text font-family=\"Times,serif\" font-size=\"14.00\" text-anchor=\"middle\" x=\"64.7602\" y=\"-107.7\">LSTM</text>\n",
       "<polyline fill=\"none\" points=\"91.4264,-87.1 91.4264,-136.7 \" stroke=\"black\"/>\n",
       "<text font-family=\"Times,serif\" font-size=\"14.00\" text-anchor=\"middle\" x=\"119.262\" y=\"-120.1\">input:</text>\n",
       "<polyline fill=\"none\" points=\"91.4264,-111.9 147.098,-111.9 \" stroke=\"black\"/>\n",
       "<text font-family=\"Times,serif\" font-size=\"14.00\" text-anchor=\"middle\" x=\"119.262\" y=\"-95.3\">output:</text>\n",
       "<polyline fill=\"none\" points=\"147.098,-87.1 147.098,-136.7 \" stroke=\"black\"/>\n",
       "<text font-family=\"Times,serif\" font-size=\"14.00\" text-anchor=\"middle\" x=\"183.866\" y=\"-120.1\">(?, 16, 32)</text>\n",
       "<polyline fill=\"none\" points=\"147.098,-111.9 220.634,-111.9 \" stroke=\"black\"/>\n",
       "<text font-family=\"Times,serif\" font-size=\"14.00\" text-anchor=\"middle\" x=\"183.866\" y=\"-95.3\">(?, 32)</text>\n",
       "</g>\n",
       "<!-- 140560955896664&#45;&gt;140560956402544 -->\n",
       "<g class=\"edge\" id=\"edge5\"><title>140560955896664-&gt;140560956402544</title>\n",
       "<path d=\"M129.364,-173.483C129.364,-165.267 129.364,-155.912 129.364,-147.052\" fill=\"none\" stroke=\"black\"/>\n",
       "<polygon fill=\"black\" points=\"132.864,-146.977 129.364,-136.977 125.864,-146.977 132.864,-146.977\" stroke=\"black\"/>\n",
       "</g>\n",
       "<!-- 140561052928936 -->\n",
       "<g class=\"node\" id=\"node7\"><title>140561052928936</title>\n",
       "<polygon fill=\"none\" points=\"49.77,-0.5 49.77,-50.1 208.958,-50.1 208.958,-0.5 49.77,-0.5\" stroke=\"black\"/>\n",
       "<text font-family=\"Times,serif\" font-size=\"14.00\" text-anchor=\"middle\" x=\"75.2602\" y=\"-21.1\">Dense</text>\n",
       "<polyline fill=\"none\" points=\"100.75,-0.5 100.75,-50.1 \" stroke=\"black\"/>\n",
       "<text font-family=\"Times,serif\" font-size=\"14.00\" text-anchor=\"middle\" x=\"128.586\" y=\"-33.5\">input:</text>\n",
       "<polyline fill=\"none\" points=\"100.75,-25.3 156.422,-25.3 \" stroke=\"black\"/>\n",
       "<text font-family=\"Times,serif\" font-size=\"14.00\" text-anchor=\"middle\" x=\"128.586\" y=\"-8.7\">output:</text>\n",
       "<polyline fill=\"none\" points=\"156.422,-0.5 156.422,-50.1 \" stroke=\"black\"/>\n",
       "<text font-family=\"Times,serif\" font-size=\"14.00\" text-anchor=\"middle\" x=\"182.69\" y=\"-33.5\">(?, 32)</text>\n",
       "<polyline fill=\"none\" points=\"156.422,-25.3 208.958,-25.3 \" stroke=\"black\"/>\n",
       "<text font-family=\"Times,serif\" font-size=\"14.00\" text-anchor=\"middle\" x=\"182.19\" y=\"-8.7\">(?, 1)</text>\n",
       "</g>\n",
       "<!-- 140560956402544&#45;&gt;140561052928936 -->\n",
       "<g class=\"edge\" id=\"edge6\"><title>140560956402544-&gt;140561052928936</title>\n",
       "<path d=\"M129.364,-86.8833C129.364,-78.6673 129.364,-69.3117 129.364,-60.4518\" fill=\"none\" stroke=\"black\"/>\n",
       "<polygon fill=\"black\" points=\"132.864,-60.3767 129.364,-50.3767 125.864,-60.3768 132.864,-60.3767\" stroke=\"black\"/>\n",
       "</g>\n",
       "</g>\n",
       "</svg>"
      ],
      "text/plain": [
       "<IPython.core.display.SVG object>"
      ]
     },
     "execution_count": 42,
     "metadata": {},
     "output_type": "execute_result"
    }
   ],
   "source": [
    "from IPython.display import SVG\n",
    "from tensorflow.keras.utils import model_to_dot\n",
    "\n",
    "SVG(model_to_dot(best_model, show_shapes=True, show_layer_names=False, dpi=65).create(prog='dot', format='svg'))\n"
   ]
  },
  {
   "cell_type": "code",
   "execution_count": null,
   "metadata": {},
   "outputs": [],
   "source": [
    "\n",
    "#from tensorflow.keras.models import load_model\n",
    "#model = load_model('trained_model_16pad_128_50epoch_4Layers_seed10.h5')"
   ]
  },
  {
   "cell_type": "code",
   "execution_count": null,
   "metadata": {},
   "outputs": [],
   "source": [
    "#model.save('trained_model_16pad RNN3_128_seed10.h5')\n",
    "\n",
    "\n",
    "#from tensorflow.keras.models import load_model\n",
    "#model = load_model('trained_model_RNN3_seed10.h5')\n"
   ]
  },
  {
   "cell_type": "code",
   "execution_count": null,
   "metadata": {},
   "outputs": [],
   "source": [
    "# Found model.evaluate took 383s\n",
    "# Found model.predict took \n",
    "# Should have used timit really"
   ]
  },
  {
   "cell_type": "code",
   "execution_count": 22,
   "metadata": {},
   "outputs": [
    {
     "name": "stdout",
     "output_type": "stream",
     "text": [
      "True\n",
      "704876/1 - 320s - loss: 0.5655 - accuracy: 0.6626\n",
      "Validation loss: 0.5894861748138724\n",
      "Validation accuracy: 0.66262716\n",
      "704876/1 - 318s\n"
     ]
    },
    {
     "data": {
      "image/png": "[encoded data removed]",
      "text/plain": [
       "<Figure size 432x288 with 2 Axes>"
      ]
     },
     "metadata": {
      "needs_background": "light"
     },
     "output_type": "display_data"
    },
    {
     "name": "stdout",
     "output_type": "stream",
     "text": [
      "Total signal processes; 1.0\n",
      "Total background processes; 1.0\n",
      "296892\n",
      "There is 142540 signal in the set\n",
      "The model predicted 154352 more ones than in reality\n",
      "407984\n",
      "There is 562336 background in the set\n",
      "The model predicted -154352 more ones than in reality\n"
     ]
    },
    {
     "data": {
      "image/png": "[encoded data removed]",
      "text/plain": [
       "<Figure size 432x288 with 1 Axes>"
      ]
     },
     "metadata": {
      "needs_background": "light"
     },
     "output_type": "display_data"
    },
    {
     "data": {
      "image/png": "[encoded data removed]",
      "text/plain": [
       "<Figure size 432x288 with 1 Axes>"
      ]
     },
     "metadata": {
      "needs_background": "light"
     },
     "output_type": "display_data"
    }
   ],
   "source": [
    "# evaluate the model on the training data, confusion matrix and discriminator curve\n",
    "\n",
    "model = best_model\n",
    "\n",
    "gpu_available = tf.test.is_gpu_available()\n",
    "print(gpu_available)   # check still on the gpu\n",
    "\n",
    "val_loss, val_acc = model.evaluate(X_train, y_train, verbose = 2)    \n",
    "\n",
    "print(\"Validation loss:\", val_loss)\n",
    "print(\"Validation accuracy:\", val_acc)\n",
    "\n",
    "y_pred = model.predict(X_train, verbose = 2)\n",
    "y_pred_round = np.round(y_pred)\n",
    "#print(y_pred)\n",
    "\n",
    "# compute the confusion matrix\n",
    "\n",
    "cm = confusion_matrix(y_train, y_pred_round, normalize = 'true')   #, normalize = 'true')  #,'true' ‘pred’, ‘all’},)\n",
    "#disp = ConfusionMatrixDisplay(confusion_matrix=cm) \n",
    "disp = ConfusionMatrixDisplay(confusion_matrix=cm, display_labels=['class 0', 'class 1']) # other env\n",
    "\n",
    "disp.plot()\n",
    "plt.show()\n",
    "\n",
    "print('Total signal processes;', cm[1,0]+cm[1,1])\n",
    "print('Total background processes;', cm[0,0]+cm[0,1])\n",
    "\n",
    "# Check if order of y_valid is the same order as y_pred\n",
    "# expect to be the ssame order if accuracy is same as validation accuracy above.\n",
    "\n",
    "# list of true outcomes\n",
    "y_train_list = list(y_train)\n",
    "\n",
    "# list of rounded predictions \n",
    "y_pred_round_list = list(y_pred_round)\n",
    "\n",
    "data_test = {'True_Val': y_train_list, 'Predicted': list(y_pred), 'Round Prediction': y_pred_round_list}\n",
    "df_test = pd.DataFrame(data_test)\n",
    "\n",
    "# Easiest to reorder df, so all 0 (background) are first and then 1's (signal)\n",
    "\n",
    "#Verified, works\n",
    "df_test = df_test.sort_values(by='True_Val')\n",
    "df_test\n",
    "\n",
    "# Convert arrays to scalars\n",
    "df_test['Round Prediction'] = df_test['Round Prediction'].apply(lambda x: x[0])\n",
    "        \n",
    "pred_one = df_test['Round Prediction'].value_counts()[1.0]\n",
    "ones_in_set = df_test['True_Val'].value_counts()[1]\n",
    "\n",
    "# Print the result\n",
    "print(pred_one)\n",
    "print('There is', ones_in_set, 'signal in the set')\n",
    "print('The model predicted',pred_one-ones_in_set ,'more ones than in reality')\n",
    "\n",
    "\n",
    "pred_zeros = df_test['Round Prediction'].value_counts()[0.0]\n",
    "zeros_in_set = df_test['True_Val'].value_counts()[0]\n",
    "\n",
    "# Print the result\n",
    "print(pred_zeros)\n",
    "print('There is', zeros_in_set, 'background in the set')   #agrees w/ confusion matrix\n",
    "print('The model predicted', pred_zeros-zeros_in_set,'more ones than in reality')\n",
    "\n",
    "\n",
    "#Split df into signal and bg\n",
    "\n",
    "df_bg = df_test[df_test['True_Val'] == 0]\n",
    "df_signal = df_test[df_test['True_Val'] == 1]\n",
    "\n",
    "# Make discriminator curves, Histogram\n",
    "\n",
    "# manipluate data so can be used for Histograms\n",
    "lst_bg_predicted = []\n",
    "for i in df_bg['Predicted']:\n",
    "    lst_bg_predicted.append(i)\n",
    "\n",
    "lst_of_values_bg_pred_train = [arr.item() for arr in lst_bg_predicted]\n",
    "\n",
    "lst_signal_predicted = []\n",
    "for i in df_signal['Predicted']:\n",
    "    lst_signal_predicted.append(i)\n",
    "\n",
    "lst_of_values_signal_pred_train = [arr.item() for arr in lst_signal_predicted]\n",
    "\n",
    "binwidth = 0.01\n",
    "bins=np.arange(0, 1 + binwidth, binwidth)\n",
    "    \n",
    "\n",
    "#Unweighted, normalised\n",
    "plt.hist(x= lst_of_values_bg_pred_train, bins=bins, density = True, histtype = 'step', label = 'Background')\n",
    "plt.hist(x= lst_of_values_signal_pred_train, bins=bins, density = True, histtype = 'step', label = 'Signal')\n",
    "plt.title('Training Discriminator Curve')\n",
    "plt.xlabel('Classifier Prediction')\n",
    "plt.ylabel('Frequency')\n",
    "plt.legend()\n",
    "plt.show()\n",
    "\n",
    "#Weighted to xs_weights x 300000, need to be toproportion of full dataset too\n",
    "#normalised\n",
    "\n",
    "plt.hist(x= lst_of_values_bg_pred_train, bins=bins,  weights = df_weights[:len(lst_of_values_bg_pred_train),1]*3e5*1/0.8,\n",
    "         histtype = 'step', label = 'Background')\n",
    "plt.hist(x= lst_of_values_signal_pred_train, bins=bins, weights = df_weights[:len(lst_of_values_signal_pred_train),3]*3e5*1/0.8,\n",
    "         histtype = 'step', label = 'Signal')\n",
    "plt.title('Training Discriminator Curve')\n",
    "plt.xlabel('Classifier Prediction')\n",
    "plt.ylabel('Frequency')\n",
    "#plt.xlim(0.9,1)    #zoom in on 0.9 to 1 region\n",
    "#plt.ylim(0,200)    # need to zoom in\n",
    "plt.legend()\n",
    "plt.show()\n",
    "\n",
    "\n",
    "#start dropping bins for signifucance part, calc Z and plot, should get curve that peaks"
   ]
  },
  {
   "cell_type": "code",
   "execution_count": 23,
   "metadata": {},
   "outputs": [
    {
     "name": "stdout",
     "output_type": "stream",
     "text": [
      "[1.0588149e-06 1.0588149e-06 1.0588149e-06 ... 1.0588149e-06 1.0588149e-06\n",
      " 1.0588149e-06]\n"
     ]
    },
    {
     "data": {
      "text/plain": [
       "array([[3.9628825e-09, 1.0588149e-06, 1.1520365e-06, 8.6958615e-08],\n",
       "       [3.9628825e-09, 1.0588149e-06, 1.1520365e-06, 8.6958615e-08],\n",
       "       [3.9628825e-09, 1.0588149e-06, 1.1520365e-06, 8.6958615e-08],\n",
       "       ...,\n",
       "       [          nan, 1.0482267e-06,           nan,           nan],\n",
       "       [          nan, 1.0588149e-06,           nan,           nan],\n",
       "       [          nan, 1.0588149e-06,           nan,           nan]],\n",
       "      dtype=float32)"
      ]
     },
     "execution_count": 23,
     "metadata": {},
     "output_type": "execute_result"
    }
   ],
   "source": [
    "a = df_weights[:len(lst_of_values_bg_pred_train),1]\n",
    "print(a)\n",
    "df_weights"
   ]
  },
  {
   "cell_type": "code",
   "execution_count": 24,
   "metadata": {},
   "outputs": [
    {
     "name": "stdout",
     "output_type": "stream",
     "text": [
      "True\n",
      "176220/1 - 81s - loss: 0.6445 - accuracy: 0.6604\n",
      "Validation loss: 0.5913898196492072\n",
      "Validation accuracy: 0.6604472\n",
      "176220/1 - 79s\n"
     ]
    },
    {
     "data": {
      "image/png": "[encoded data removed]",
      "text/plain": [
       "<Figure size 432x288 with 2 Axes>"
      ]
     },
     "metadata": {
      "needs_background": "light"
     },
     "output_type": "display_data"
    },
    {
     "name": "stdout",
     "output_type": "stream",
     "text": [
      "Total signal processes; 1.0\n",
      "Total background processes; 1.0\n"
     ]
    }
   ],
   "source": [
    "# evaluate the model on the validation data\n",
    "\n",
    "gpu_available = tf.test.is_gpu_available()\n",
    "print(gpu_available)   # check still on the gpu\n",
    "\n",
    "val_loss, val_acc = model.evaluate(X_valid, y_valid, verbose = 2)   \n",
    "print(\"Validation loss:\", val_loss)\n",
    "print(\"Validation accuracy:\", val_acc)\n",
    "\n",
    "y_pred = model.predict(X_valid, verbose = 2)\n",
    "y_pred_round = np.round(y_pred)\n",
    "\n",
    "# compute the confusion matrix\n",
    "cm = confusion_matrix(y_valid, y_pred_round, normalize = 'true')    #,'true' ‘pred’, ‘all’},)\n",
    "disp = ConfusionMatrixDisplay(confusion_matrix=cm, display_labels=['class 0', 'class 1']) # other env\n",
    "#disp = ConfusionMatrixDisplay(confusion_matrix=cm)   \n",
    "disp.plot()\n",
    "plt.title('Test')\n",
    "plt.show()\n",
    "\n",
    "print('Total signal processes;', cm[1,0]+cm[1,1])\n",
    "print('Total background processes;', cm[0,0]+cm[0,1])"
   ]
  },
  {
   "cell_type": "code",
   "execution_count": null,
   "metadata": {},
   "outputs": [],
   "source": [
    "# #using a permutation method to see what features are important\n",
    "\n",
    "# # Get the number of features\n",
    "# n_features = X_valid.shape[1]\n",
    "\n",
    "# # Initialize an array to store feature importances\n",
    "# importances = np.zeros(n_features)\n",
    "\n",
    "# # Calculate the feature importances using the permutation feature importance method\n",
    "# # Drops each variable one at a time \n",
    "# for i in range(n_features):\n",
    "#     print(i)    #counter to check is working, should go to 40\n",
    "#     feature_name = X_valid.columns[i]\n",
    "#     X_permuted = X_valid.copy().values\n",
    "#     X_permuted[:, i] = np.random.permutation(X_permuted[:, i])\n",
    "#     y_permuted = model.predict(X_permuted)\n",
    "#     importances[i] = np.abs(y_permuted - y_pred).mean()\n",
    "#     #importances[i] = (y_permuted - y_pred).mean()    #try without a abs, see if positively or negatively affected by removal?\n",
    "#     print(f\"Permuted feature {feature_name}\")\n",
    "\n",
    "# # Normalize the feature importances\n",
    "# importances /= importances.sum()   # importances sum to 1, so can be taken as a literal how important a variable\n",
    "# # is for the model\n",
    "\n",
    "# print(importances)  # using abs\n",
    "\n",
    "# print()#\n",
    "\n",
    "# print(np.sort(importances))\n",
    "\n",
    "# # np.random.permutation randomly permutes (rearranges in a random order) the elements.\n",
    "# # In this case, it is used to shuffle the values in a single column of the X_permuted array.\n",
    "# # Guess then this variable isnt useful in the prediction"
   ]
  },
  {
   "cell_type": "code",
   "execution_count": null,
   "metadata": {},
   "outputs": [],
   "source": [
    "# importances_dict = dict(zip(importances, X_valid.columns))\n",
    "# # key:value\n",
    "\n",
    "# #print(combined_dict)\n",
    "\n",
    "# # get values for keys less than 0.01\n",
    "# values = []\n",
    "# for key, value in importances_dict.items():\n",
    "#     if key < 0.01:\n",
    "#         values.append(value)\n",
    "\n",
    "# # print the values\n",
    "# print(values)\n"
   ]
  },
  {
   "cell_type": "code",
   "execution_count": null,
   "metadata": {},
   "outputs": [],
   "source": [
    "# get indices of numbers less than 0.01\n",
    "# for i in range(len(importances)):\n",
    "#     if importances[i] < 0.05:\n",
    "#         print(X_valid.columns[i])"
   ]
  },
  {
   "cell_type": "code",
   "execution_count": 25,
   "metadata": {},
   "outputs": [
    {
     "name": "stdout",
     "output_type": "stream",
     "text": [
      "0.6604471683123369\n",
      "True\n"
     ]
    }
   ],
   "source": [
    "# Check if order of y_valid is the same order as y_pred\n",
    "# expect to be the ssame order if accuracy is same as validation accuracy above.\n",
    "\n",
    "# list of true outcomes\n",
    "y_valid_list = list(y_valid)\n",
    "\n",
    "# list of rounded predictions \n",
    "y_pred_round_list = list(y_pred_round)\n",
    "\n",
    "# list of whether these are same    \n",
    "z=[]\n",
    "for i in range(len(y_valid_list)):\n",
    "    if y_valid_list[i]==y_pred_round_list[i]:\n",
    "        z.append(1)\n",
    "    else:\n",
    "        z.append(0)\n",
    "        \n",
    "print(sum(z)/len(z))\n",
    "\n",
    "# Set a tolerance\n",
    "tol = 0.0001\n",
    "print(val_acc - tol < sum(z)/len(z) < val_acc + tol)\n",
    "\n",
    "# If true, suggests are in same order "
   ]
  },
  {
   "cell_type": "code",
   "execution_count": 26,
   "metadata": {},
   "outputs": [
    {
     "name": "stdout",
     "output_type": "stream",
     "text": [
      "[0.05915579]\n"
     ]
    },
    {
     "data": {
      "text/plain": [
       "array([0.9668399], dtype=float32)"
      ]
     },
     "execution_count": 26,
     "metadata": {},
     "output_type": "execute_result"
    }
   ],
   "source": [
    "print(min(y_pred))\n",
    "max(y_pred)"
   ]
  },
  {
   "cell_type": "code",
   "execution_count": 27,
   "metadata": {},
   "outputs": [
    {
     "data": {
      "text/html": [
       "<div>\n",
       "<style scoped>\n",
       "    .dataframe tbody tr th:only-of-type {\n",
       "        vertical-align: middle;\n",
       "    }\n",
       "\n",
       "    .dataframe tbody tr th {\n",
       "        vertical-align: top;\n",
       "    }\n",
       "\n",
       "    .dataframe thead th {\n",
       "        text-align: right;\n",
       "    }\n",
       "</style>\n",
       "<table border=\"1\" class=\"dataframe\">\n",
       "  <thead>\n",
       "    <tr style=\"text-align: right;\">\n",
       "      <th></th>\n",
       "      <th>True_Val</th>\n",
       "      <th>Predicted</th>\n",
       "      <th>Round Prediction</th>\n",
       "    </tr>\n",
       "  </thead>\n",
       "  <tbody>\n",
       "    <tr>\n",
       "      <th>88109</th>\n",
       "      <td>0</td>\n",
       "      <td>[0.22168234]</td>\n",
       "      <td>0.0</td>\n",
       "    </tr>\n",
       "    <tr>\n",
       "      <th>111032</th>\n",
       "      <td>0</td>\n",
       "      <td>[0.5209366]</td>\n",
       "      <td>1.0</td>\n",
       "    </tr>\n",
       "    <tr>\n",
       "      <th>111033</th>\n",
       "      <td>0</td>\n",
       "      <td>[0.15936762]</td>\n",
       "      <td>0.0</td>\n",
       "    </tr>\n",
       "    <tr>\n",
       "      <th>111034</th>\n",
       "      <td>0</td>\n",
       "      <td>[0.07576996]</td>\n",
       "      <td>0.0</td>\n",
       "    </tr>\n",
       "    <tr>\n",
       "      <th>111035</th>\n",
       "      <td>0</td>\n",
       "      <td>[0.13766342]</td>\n",
       "      <td>0.0</td>\n",
       "    </tr>\n",
       "    <tr>\n",
       "      <th>...</th>\n",
       "      <td>...</td>\n",
       "      <td>...</td>\n",
       "      <td>...</td>\n",
       "    </tr>\n",
       "    <tr>\n",
       "      <th>27764</th>\n",
       "      <td>1</td>\n",
       "      <td>[0.79539657]</td>\n",
       "      <td>1.0</td>\n",
       "    </tr>\n",
       "    <tr>\n",
       "      <th>141597</th>\n",
       "      <td>1</td>\n",
       "      <td>[0.55753255]</td>\n",
       "      <td>1.0</td>\n",
       "    </tr>\n",
       "    <tr>\n",
       "      <th>27763</th>\n",
       "      <td>1</td>\n",
       "      <td>[0.74232763]</td>\n",
       "      <td>1.0</td>\n",
       "    </tr>\n",
       "    <tr>\n",
       "      <th>100490</th>\n",
       "      <td>1</td>\n",
       "      <td>[0.61632377]</td>\n",
       "      <td>1.0</td>\n",
       "    </tr>\n",
       "    <tr>\n",
       "      <th>0</th>\n",
       "      <td>1</td>\n",
       "      <td>[0.72244513]</td>\n",
       "      <td>1.0</td>\n",
       "    </tr>\n",
       "  </tbody>\n",
       "</table>\n",
       "<p>176220 rows × 3 columns</p>\n",
       "</div>"
      ],
      "text/plain": [
       "        True_Val     Predicted  Round Prediction\n",
       "88109          0  [0.22168234]               0.0\n",
       "111032         0   [0.5209366]               1.0\n",
       "111033         0  [0.15936762]               0.0\n",
       "111034         0  [0.07576996]               0.0\n",
       "111035         0  [0.13766342]               0.0\n",
       "...          ...           ...               ...\n",
       "27764          1  [0.79539657]               1.0\n",
       "141597         1  [0.55753255]               1.0\n",
       "27763          1  [0.74232763]               1.0\n",
       "100490         1  [0.61632377]               1.0\n",
       "0              1  [0.72244513]               1.0\n",
       "\n",
       "[176220 rows x 3 columns]"
      ]
     },
     "execution_count": 27,
     "metadata": {},
     "output_type": "execute_result"
    }
   ],
   "source": [
    "data = {'True_Val': y_valid_list, 'Predicted': list(y_pred), 'Round Prediction': y_pred_round_list}\n",
    "df = pd.DataFrame(data)\n",
    "\n",
    "# Easiest to reorder df, so all 0 (background) are first and then 1's (signal)\n",
    "\n",
    "#Verified, works\n",
    "df = df.sort_values(by='True_Val')\n",
    "df\n",
    "\n",
    "# Convert arrays to scalars\n",
    "df['Round Prediction'] = df['Round Prediction'].apply(lambda x: x[0])\n",
    "\n",
    "df"
   ]
  },
  {
   "cell_type": "code",
   "execution_count": 28,
   "metadata": {},
   "outputs": [
    {
     "data": {
      "text/html": [
       "<div>\n",
       "<style scoped>\n",
       "    .dataframe tbody tr th:only-of-type {\n",
       "        vertical-align: middle;\n",
       "    }\n",
       "\n",
       "    .dataframe tbody tr th {\n",
       "        vertical-align: top;\n",
       "    }\n",
       "\n",
       "    .dataframe thead th {\n",
       "        text-align: right;\n",
       "    }\n",
       "</style>\n",
       "<table border=\"1\" class=\"dataframe\">\n",
       "  <thead>\n",
       "    <tr style=\"text-align: right;\">\n",
       "      <th></th>\n",
       "      <th>True_Val</th>\n",
       "      <th>Predicted</th>\n",
       "      <th>Round Prediction</th>\n",
       "    </tr>\n",
       "  </thead>\n",
       "  <tbody>\n",
       "    <tr>\n",
       "      <th>88109</th>\n",
       "      <td>0</td>\n",
       "      <td>[0.22168234]</td>\n",
       "      <td>0.0</td>\n",
       "    </tr>\n",
       "    <tr>\n",
       "      <th>111032</th>\n",
       "      <td>0</td>\n",
       "      <td>[0.5209366]</td>\n",
       "      <td>1.0</td>\n",
       "    </tr>\n",
       "    <tr>\n",
       "      <th>111033</th>\n",
       "      <td>0</td>\n",
       "      <td>[0.15936762]</td>\n",
       "      <td>0.0</td>\n",
       "    </tr>\n",
       "    <tr>\n",
       "      <th>111034</th>\n",
       "      <td>0</td>\n",
       "      <td>[0.07576996]</td>\n",
       "      <td>0.0</td>\n",
       "    </tr>\n",
       "    <tr>\n",
       "      <th>111035</th>\n",
       "      <td>0</td>\n",
       "      <td>[0.13766342]</td>\n",
       "      <td>0.0</td>\n",
       "    </tr>\n",
       "    <tr>\n",
       "      <th>...</th>\n",
       "      <td>...</td>\n",
       "      <td>...</td>\n",
       "      <td>...</td>\n",
       "    </tr>\n",
       "    <tr>\n",
       "      <th>27764</th>\n",
       "      <td>1</td>\n",
       "      <td>[0.79539657]</td>\n",
       "      <td>1.0</td>\n",
       "    </tr>\n",
       "    <tr>\n",
       "      <th>141597</th>\n",
       "      <td>1</td>\n",
       "      <td>[0.55753255]</td>\n",
       "      <td>1.0</td>\n",
       "    </tr>\n",
       "    <tr>\n",
       "      <th>27763</th>\n",
       "      <td>1</td>\n",
       "      <td>[0.74232763]</td>\n",
       "      <td>1.0</td>\n",
       "    </tr>\n",
       "    <tr>\n",
       "      <th>100490</th>\n",
       "      <td>1</td>\n",
       "      <td>[0.61632377]</td>\n",
       "      <td>1.0</td>\n",
       "    </tr>\n",
       "    <tr>\n",
       "      <th>0</th>\n",
       "      <td>1</td>\n",
       "      <td>[0.72244513]</td>\n",
       "      <td>1.0</td>\n",
       "    </tr>\n",
       "  </tbody>\n",
       "</table>\n",
       "<p>176220 rows × 3 columns</p>\n",
       "</div>"
      ],
      "text/plain": [
       "        True_Val     Predicted  Round Prediction\n",
       "88109          0  [0.22168234]               0.0\n",
       "111032         0   [0.5209366]               1.0\n",
       "111033         0  [0.15936762]               0.0\n",
       "111034         0  [0.07576996]               0.0\n",
       "111035         0  [0.13766342]               0.0\n",
       "...          ...           ...               ...\n",
       "27764          1  [0.79539657]               1.0\n",
       "141597         1  [0.55753255]               1.0\n",
       "27763          1  [0.74232763]               1.0\n",
       "100490         1  [0.61632377]               1.0\n",
       "0              1  [0.72244513]               1.0\n",
       "\n",
       "[176220 rows x 3 columns]"
      ]
     },
     "execution_count": 28,
     "metadata": {},
     "output_type": "execute_result"
    }
   ],
   "source": [
    "df"
   ]
  },
  {
   "cell_type": "code",
   "execution_count": 29,
   "metadata": {},
   "outputs": [
    {
     "name": "stdout",
     "output_type": "stream",
     "text": [
      "0.6604471683123369\n",
      "True\n"
     ]
    }
   ],
   "source": [
    "# Check that they maintained order in the df:\n",
    "\n",
    "lst=[]\n",
    "for i in range(len(df)):\n",
    "    if df['True_Val'][i] == df['Round Prediction'][i]:\n",
    "        lst.append(1)\n",
    "    else:\n",
    "        (lst.append(0))\n",
    "print(sum(lst)/len(lst))\n",
    "\n",
    "# Set a tolerance\n",
    "tol = 0.0001\n",
    "print(val_acc - tol < sum(lst)/len(lst) < val_acc + tol)\n",
    "\n",
    "# If true, suggests are in same order "
   ]
  },
  {
   "cell_type": "code",
   "execution_count": 30,
   "metadata": {},
   "outputs": [
    {
     "name": "stdout",
     "output_type": "stream",
     "text": [
      "74236\n",
      "There is 35318 signal in the set\n",
      "The model predicted 38918 more ones than in reality\n",
      "101984\n",
      "There is 140902 background in the set\n",
      "The model predicted -38918 more ones than in reality\n"
     ]
    }
   ],
   "source": [
    "pred_one = df['Round Prediction'].value_counts()[1.0]\n",
    "ones_in_set = df['True_Val'].value_counts()[1]\n",
    "\n",
    "# Print the result\n",
    "print(pred_one)\n",
    "print('There is', ones_in_set, 'signal in the set')\n",
    "print('The model predicted',pred_one-ones_in_set ,'more ones than in reality')\n",
    "\n",
    "\n",
    "pred_zeros = df['Round Prediction'].value_counts()[0.0]\n",
    "zeros_in_set = df['True_Val'].value_counts()[0]\n",
    "\n",
    "# Print the result\n",
    "print(pred_zeros)\n",
    "print('There is', zeros_in_set, 'background in the set')   #agrees w/ confusion matrix\n",
    "print('The model predicted', pred_zeros-zeros_in_set,'more ones than in reality')\n"
   ]
  },
  {
   "cell_type": "markdown",
   "metadata": {},
   "source": [
    "now first half of df is background, other half is signal\n",
    "\n",
    "PROBLEM, TEST AND VALID WAS SPLIT RANDOMLY, SO NOT ACTUALLY SAME AMOUNT OF 0's AND 1's\n",
    "\n",
    "Not a problem, but need to check if should be like this\n",
    "\n",
    " A couple of options, I could:\n",
    "\n",
    "Deal with it, and let there be uneven amounts of 1's and 0's\n",
    "\n",
    "OR\n",
    "\n",
    "Go back to test_train_split, and apply individually to signal and background and then sum them?\n",
    "\n",
    "This would guarantee 50/50\n"
   ]
  },
  {
   "cell_type": "code",
   "execution_count": 32,
   "metadata": {},
   "outputs": [
    {
     "data": {
      "image/png": "[encoded data removed]",
      "text/plain": [
       "<Figure size 432x288 with 1 Axes>"
      ]
     },
     "metadata": {
      "needs_background": "light"
     },
     "output_type": "display_data"
    },
    {
     "data": {
      "image/png": "[encoded data removed]",
      "text/plain": [
       "<Figure size 432x288 with 1 Axes>"
      ]
     },
     "metadata": {
      "needs_background": "light"
     },
     "output_type": "display_data"
    }
   ],
   "source": [
    "# Training Discriminator curves\n",
    "\n",
    "#Unweighted, normalised\n",
    "plt.hist(x= lst_of_values_bg_pred_train, bins=bins, density = True, histtype = 'step', label = 'Background')\n",
    "plt.hist(x= lst_of_values_signal_pred_train, bins=bins, density = True, histtype = 'step', label = 'Signal')\n",
    "plt.title('TRAINING - Discriminator Curve')\n",
    "plt.xlabel('Classifier Prediction')\n",
    "plt.ylabel('Frequency')\n",
    "plt.legend()\n",
    "plt.show()\n",
    "\n",
    "#Weighted to xs_weights x 300000, need to be toproportion of full dataset too\n",
    "#normalised\n",
    "\n",
    "\n",
    "plt.hist(x= lst_of_values_bg_pred_train, bins=bins,  weights = df_weights[:len(lst_of_values_bg_pred_train),1]*3e5*1/0.8,\n",
    "         histtype = 'step', label = 'Background')\n",
    "plt.hist(x= lst_of_values_signal_pred_train, bins=bins, weights = df_weights[:len(lst_of_values_signal_pred_train),3]*3e5*1/0.8,\n",
    "         histtype = 'step', label = 'Signal')\n",
    "plt.title('TRAINING - Discriminator Curve')\n",
    "plt.xlabel('Classifier Prediction')\n",
    "plt.ylabel('Frequency')\n",
    "plt.xlim(0.6,1)    #zoom in on 0.9 to 1 region\n",
    "plt.ylim(0,500)    # need to zoom in\n",
    "plt.legend()\n",
    "plt.show()\n"
   ]
  },
  {
   "cell_type": "code",
   "execution_count": 33,
   "metadata": {},
   "outputs": [
    {
     "data": {
      "image/png": "[encoded data removed]",
      "text/plain": [
       "<Figure size 432x288 with 1 Axes>"
      ]
     },
     "metadata": {
      "needs_background": "light"
     },
     "output_type": "display_data"
    },
    {
     "data": {
      "image/png": "[encoded data removed]",
      "text/plain": [
       "<Figure size 432x288 with 1 Axes>"
      ]
     },
     "metadata": {
      "needs_background": "light"
     },
     "output_type": "display_data"
    },
    {
     "data": {
      "image/png": "[encoded data removed]",
      "text/plain": [
       "<Figure size 432x288 with 1 Axes>"
      ]
     },
     "metadata": {
      "needs_background": "light"
     },
     "output_type": "display_data"
    }
   ],
   "source": [
    "#Split df into signal and bg\n",
    "\n",
    "df_bg = df[df['True_Val'] == 0]\n",
    "df_signal = df[df['True_Val'] == 1]\n",
    "\n",
    "# Make Validation discriminator curves, Histogram\n",
    "\n",
    "# manipluate data so can be used for Histograms\n",
    "lst_bg_predicted = []\n",
    "for i in df_bg['Predicted']:\n",
    "    lst_bg_predicted.append(i)\n",
    "\n",
    "lst_of_values_bg_pred = [arr.item() for arr in lst_bg_predicted]\n",
    "\n",
    "lst_signal_predicted = []\n",
    "for i in df_signal['Predicted']:\n",
    "    lst_signal_predicted.append(i)\n",
    "\n",
    "lst_of_values_signal_pred = [arr.item() for arr in lst_signal_predicted]\n",
    "\n",
    "binwidth = 0.01\n",
    "bins=np.arange(0, 1 + binwidth, binwidth)\n",
    "\n",
    "#Unweighted, normalised\n",
    "plt.hist(x= lst_of_values_bg_pred, bins=bins, density = True, histtype = 'step', label = 'Background')\n",
    "plt.hist(x= lst_of_values_signal_pred, bins=bins, density = True, histtype = 'step', label = 'Signal')\n",
    "plt.title('Test - Discriminator Curve')\n",
    "plt.xlabel('Classifier Prediction')\n",
    "plt.ylabel('Frequency')\n",
    "plt.legend()\n",
    "plt.show()\n",
    "\n",
    "#Weighted to xs_weights x 300000, need to be toproportion of full dataset too\n",
    "#normalised\n",
    "plt.hist(x= lst_of_values_bg_pred, bins=bins,  weights = df_weights[:len(lst_of_values_bg_pred),1]*3e5*1/0.2,\n",
    "         histtype = 'step', label = 'Background')\n",
    "plt.hist(x= lst_of_values_signal_pred, bins=bins, weights = df_weights[:len(lst_of_values_signal_pred),3]*3e5*1/0.2,\n",
    "         histtype = 'step', label = 'Signal')\n",
    "plt.title('Test - Discriminator Curve')\n",
    "plt.xlabel('Classifier Prediction')\n",
    "plt.ylabel('Frequency')\n",
    "#plt.xlim(0.9,1)    #zoom in on 0.9 to 1 region\n",
    "#plt.ylim(0,200)    # need to zoom in\n",
    "plt.legend()\n",
    "plt.show()\n",
    "    \n",
    "plt.hist(x= lst_of_values_bg_pred, bins=bins,  weights = df_weights[:len(lst_of_values_bg_pred),1]*3e5,\n",
    "         histtype = 'step', label = 'Background')\n",
    "plt.hist(x= lst_of_values_signal_pred, bins=bins, weights = df_weights[:len(lst_of_values_signal_pred),3]*3e5*1/0.2,\n",
    "         histtype = 'step', label = 'Signal')\n",
    "plt.title('Test - Discriminator Curve')\n",
    "plt.xlabel('Classifier Prediction')\n",
    "plt.ylabel('Frequency')\n",
    "plt.xlim(0.8,1)    #zoom in on 0.9 to 1 region\n",
    "plt.ylim(0,200)    # need to zoom in\n",
    "plt.legend()\n",
    "plt.show()\n",
    "\n",
    "\n",
    "#start dropping bins for signifucance part, calc Z and plot, should get curve that peaks"
   ]
  },
  {
   "cell_type": "code",
   "execution_count": 34,
   "metadata": {},
   "outputs": [
    {
     "data": {
      "image/png": "[encoded data removed]",
      "text/plain": [
       "<Figure size 432x288 with 1 Axes>"
      ]
     },
     "metadata": {
      "needs_background": "light"
     },
     "output_type": "display_data"
    }
   ],
   "source": [
    "# Test and Training overlayed\n",
    "\n",
    "#Unweighted, normalised\n",
    "plt.hist(x= lst_of_values_bg_pred, bins=bins, density = True, histtype = 'step', label = 'Background_test')\n",
    "plt.hist(x= lst_of_values_signal_pred, bins=bins, density = True, histtype = 'step', label = 'Signal_test')\n",
    "plt.title('Test - Discriminator Curve')\n",
    "plt.xlabel('Classifier Prediction')\n",
    "plt.ylabel('Frequency')\n",
    "plt.legend()\n",
    "\n",
    "\n",
    "#Unweighted, normalised\n",
    "plt.hist(x= lst_of_values_bg_pred_train, bins=bins, density = True, histtype = 'step', label = 'Background_train')\n",
    "plt.hist(x= lst_of_values_signal_pred_train, bins=bins, density = True, histtype = 'step', label = 'Signal_train')\n",
    "plt.title('Discriminator Curve')\n",
    "plt.xlabel('Classifier Prediction')\n",
    "plt.ylabel('Frequency')\n",
    "plt.legend()\n",
    "plt.show()"
   ]
  },
  {
   "cell_type": "code",
   "execution_count": 35,
   "metadata": {},
   "outputs": [
    {
     "name": "stdout",
     "output_type": "stream",
     "text": [
      "num_bg_events =  217678.7810239792\n",
      "num_signal_events =  4367.311522901058\n"
     ]
    },
    {
     "data": {
      "image/png": "[encoded data removed]",
      "text/plain": [
       "<Figure size 432x288 with 1 Axes>"
      ]
     },
     "metadata": {
      "needs_background": "light"
     },
     "output_type": "display_data"
    }
   ],
   "source": [
    "#Calculate number of events\n",
    "\n",
    "n_bg, bins_bg, patches_bg = plt.hist(x= lst_of_values_bg_pred, bins=bins,  weights = df_weights[:len(lst_of_values_bg_pred),1]*3e5*1/0.2,\n",
    "         histtype = 'step', label = 'Background')\n",
    "n_signal, bins_signal, patches_signal = plt.hist(x= lst_of_values_signal_pred, bins=bins, weights = df_weights[:len(lst_of_values_signal_pred),3]*3e5*1/0.2,\n",
    "         histtype = 'step', label = 'Signal')\n",
    "\n",
    "# calculate the number of events\n",
    "num_bg_events = np.sum(n_bg)\n",
    "num_signal_events = np.sum(n_signal)\n",
    "\n",
    "print('num_bg_events = ', num_bg_events)\n",
    "print('num_signal_events = ', num_signal_events)"
   ]
  },
  {
   "cell_type": "code",
   "execution_count": null,
   "metadata": {},
   "outputs": [],
   "source": [
    "#plot ROC curves\n",
    "\n",
    "y_true = df['True_Val']\n",
    "y_score = df['Predicted']\n",
    "\n",
    "# calculate the false positive rate and true positive rate\n",
    "fpr, tpr, thresholds = roc_curve(y_true, y_score)\n",
    "\n",
    "# calculate the area under the ROC curve\n",
    "roc_auc = auc(fpr, tpr)\n",
    "\n",
    "# plot the ROC curve\n",
    "plt.plot(fpr, tpr, color='darkorange', lw=2, label='ROC curve (AUC = %0.2f)' % roc_auc)\n",
    "plt.plot([0, 1], [0, 1], color='navy', lw=2, linestyle='--')\n",
    "plt.xlim([0.0, 1.0])\n",
    "plt.ylim([0.0, 1.05])\n",
    "plt.xlabel('False Positive Rate')\n",
    "plt.ylabel('True Positive Rate')\n",
    "plt.title('Receiver Operating Characteristic')\n",
    "plt.legend(loc=\"lower right\")\n",
    "plt.show()\n",
    "\n",
    "print(roc_auc)  \n",
    "\n",
    "print(len(thresholds))\n",
    "\n"
   ]
  },
  {
   "cell_type": "code",
   "execution_count": null,
   "metadata": {},
   "outputs": [],
   "source": [
    "data_roc = {'thresholds': thresholds, 'tpr': tpr, 'fpr': fpr, 'tpr/sqrt(fpr)':tpr/np.sqrt(fpr)}\n",
    "df_roc = pd.DataFrame(data_roc)\n",
    "#df_roc\n",
    "df_roc.head(20)\n",
    "plt.plot(df_roc['thresholds'][3:], df_roc['tpr/sqrt(fpr)'][3:])\n",
    "plt.show()\n",
    "max(df_roc['tpr/sqrt(fpr)'][3:])"
   ]
  },
  {
   "cell_type": "code",
   "execution_count": null,
   "metadata": {},
   "outputs": [],
   "source": [
    "# Plot precision recall curve\n",
    "from sklearn.metrics import average_precision_score\n",
    "\n",
    "y_true = df['True_Val']\n",
    "y_score = df['Predicted']\n",
    "\n",
    "# calculate the precision-recall curve\n",
    "precision, recall, _ = precision_recall_curve(y_true, y_score)\n",
    "\n",
    "# plot the precision-recall curve\n",
    "plt.step(recall, precision, color='b', alpha=0.2, where='post')\n",
    "plt.fill_between(recall, precision, step='post', alpha=0.2, color='b')\n",
    "plt.xlabel('Recall')\n",
    "plt.ylabel('Precision')\n",
    "plt.ylim([0.0, 1.05])\n",
    "plt.xlim([0.0, 1.0])\n",
    "plt.title('Precision-Recall Curve')\n",
    "plt.show()\n",
    "\n",
    "AUC = average_precision_score(y_true, y_score)   \n",
    "print(AUC)"
   ]
  },
  {
   "cell_type": "code",
   "execution_count": null,
   "metadata": {},
   "outputs": [],
   "source": [
    "df['True_Val']\n",
    "x = df['Predicted']\n",
    "print(x)"
   ]
  },
  {
   "cell_type": "markdown",
   "metadata": {},
   "source": [
    "# Significance\n",
    "\n",
    "$$ Z = \\frac{s}{\\sqrt(B+\\sigma_s^{2})}  $$\n",
    "\n",
    "s = number of signal\n",
    "\n",
    "B = number of background\n",
    "\n",
    "$\\sigma_s$ = statistical uncertainty (~10% of B)"
   ]
  },
  {
   "cell_type": "code",
   "execution_count": 36,
   "metadata": {},
   "outputs": [
    {
     "name": "stdout",
     "output_type": "stream",
     "text": [
      "217678.7810239792\n",
      "4367.311522901058\n"
     ]
    },
    {
     "name": "stderr",
     "output_type": "stream",
     "text": [
      "/software/deep-learning/envs/ml-microscope/lib/python3.7/site-packages/ipykernel_launcher.py:12: RuntimeWarning: invalid value encountered in double_scalars\n",
      "  if sys.path[0] == '':\n"
     ]
    },
    {
     "data": {
      "image/png": "[encoded data removed]",
      "text/plain": [
       "<Figure size 432x288 with 1 Axes>"
      ]
     },
     "metadata": {
      "needs_background": "light"
     },
     "output_type": "display_data"
    },
    {
     "name": "stdout",
     "output_type": "stream",
     "text": [
      "0.52\n",
      "52\n",
      "11.126887245048776\n",
      "\n",
      "If cut at a threshold of 0.52 have\n",
      "2936.4041748046875 singal events\n",
      "69644.09375 background events\n"
     ]
    },
    {
     "name": "stderr",
     "output_type": "stream",
     "text": [
      "/software/deep-learning/envs/ml-microscope/lib/python3.7/site-packages/ipykernel_launcher.py:27: RuntimeWarning: invalid value encountered in less\n"
     ]
    }
   ],
   "source": [
    "num_bg_events = np.sum(n_bg)\n",
    "num_signal_events = np.sum(n_signal)\n",
    "\n",
    "print(num_bg_events)\n",
    "print(num_signal_events)\n",
    "\n",
    "z = np.empty(len(bins_bg))\n",
    "for i in range(len(bins_bg)):\n",
    "    num_bg_events = np.sum(n_bg[i:])\n",
    "    num_signal_events = np.sum(n_signal[i:])\n",
    "    #print(num_signal_events)\n",
    "    z_i = num_signal_events / np.sqrt(num_bg_events)\n",
    "    z[i] = z_i\n",
    "#print(z)\n",
    "\n",
    "\n",
    "x = np.linspace(0,1,len(z))\n",
    "plt.plot(bins_bg,z[:])\n",
    "#plt.xlim([0, 1.0])\n",
    "#plt.ylim([0.0, 1.05])\n",
    "plt.xlabel('Threshold')\n",
    "plt.ylabel('Significance, z')\n",
    "plt.title('Significance curve with no sigma')\n",
    "plt.show()\n",
    "\n",
    "\n",
    "mask = z < 1e10     #just so doesnt include infs\n",
    "index_of_max = np.argmax(z[mask])\n",
    "max_value = np.amax(z[mask])\n",
    "\n",
    "\n",
    "#index_of_max = np.nanargmax(z[:])\n",
    "#max_value = np.nanmax(z[:])     # 1 point before last, should probs generalise so that can deal w inf etc \n",
    "max_bin = bins_bg[index_of_max]\n",
    "print(max_bin)\n",
    "print(index_of_max)\n",
    "print(max_value)\n",
    "\n",
    "\n",
    "num_bg_threshold = np.sum(n_bg[index_of_max:])\n",
    "num_signal_threshold = np.sum(n_signal[index_of_max:])\n",
    "\n",
    "\n",
    "print()\n",
    "print('If cut at a threshold of', index_of_max/100, 'have')\n",
    "print(num_signal_threshold, 'singal events')\n",
    "print(num_bg_threshold, 'background events')\n",
    "\n",
    "# significance = sigmna, 6.5 signma, 5 sigma"
   ]
  },
  {
   "cell_type": "code",
   "execution_count": 37,
   "metadata": {},
   "outputs": [
    {
     "data": {
      "image/png": "[encoded data removed]",
      "text/plain": [
       "<Figure size 432x288 with 2 Axes>"
      ]
     },
     "metadata": {
      "needs_background": "light"
     },
     "output_type": "display_data"
    },
    {
     "name": "stdout",
     "output_type": "stream",
     "text": [
      "Total signal processes; 1.0\n",
      "Total background processes; 1.0\n"
     ]
    }
   ],
   "source": [
    "# Confusion matricies with new threshold at max significance\n",
    "\n",
    "# calculates prediction values\n",
    "#y_pred = model.predict(X_valid) \n",
    "\n",
    "significance_threshold = max_bin\n",
    "y_pred_threshold = np.where(y_pred >= significance_threshold, 1, 0)\n",
    "\n",
    "# compute the confusion matrix\n",
    "cm = confusion_matrix(y_valid, y_pred_threshold, normalize = 'true')    #,'true' ‘pred’, ‘all’},)\n",
    "disp = ConfusionMatrixDisplay(confusion_matrix=cm, display_labels=['class 0', 'class 1']) # other env\n",
    "disp.plot()\n",
    "plt.title('Test CM w/ Threshold for maximum significance')\n",
    "plt.show()\n",
    "\n",
    "print('Total signal processes;', cm[1,0]+cm[1,1])\n",
    "print('Total background processes;', cm[0,0]+cm[0,1])"
   ]
  },
  {
   "cell_type": "code",
   "execution_count": 38,
   "metadata": {},
   "outputs": [
    {
     "name": "stdout",
     "output_type": "stream",
     "text": [
      "217678.7810239792\n",
      "4367.311522901058\n"
     ]
    },
    {
     "name": "stderr",
     "output_type": "stream",
     "text": [
      "/software/deep-learning/envs/ml-microscope/lib/python3.7/site-packages/ipykernel_launcher.py:14: RuntimeWarning: invalid value encountered in double_scalars\n",
      "  \n"
     ]
    },
    {
     "data": {
      "image/png": "[encoded data removed]",
      "text/plain": [
       "<Figure size 432x288 with 1 Axes>"
      ]
     },
     "metadata": {
      "needs_background": "light"
     },
     "output_type": "display_data"
    },
    {
     "name": "stdout",
     "output_type": "stream",
     "text": [
      "0.92\n",
      "92\n",
      "4.224813798871029\n",
      "\n",
      "If cut at a threshold of 0.92 have\n",
      "117.98583984375 singal events\n",
      "393.265625 background events\n"
     ]
    },
    {
     "name": "stderr",
     "output_type": "stream",
     "text": [
      "/software/deep-learning/envs/ml-microscope/lib/python3.7/site-packages/ipykernel_launcher.py:30: RuntimeWarning: invalid value encountered in less\n"
     ]
    }
   ],
   "source": [
    "# significance with systematic uncertainty term\n",
    "\n",
    "num_bg_events = np.sum(n_bg)\n",
    "num_signal_events = np.sum(n_signal)\n",
    "\n",
    "print(num_bg_events)\n",
    "print(num_signal_events)\n",
    "\n",
    "z = np.empty(len(bins_bg))\n",
    "for i in range(len(bins_bg)):\n",
    "    num_bg_events = np.sum(n_bg[i:])\n",
    "    num_signal_events = np.sum(n_signal[i:])\n",
    "    #print(num_signal_events)\n",
    "    z_i = num_signal_events / np.sqrt(num_bg_events + (0.05*num_bg_events)**2)\n",
    "    \n",
    "    z[i] = z_i\n",
    "#print(z)\n",
    "\n",
    "\n",
    "x = np.linspace(0,1,len(z))\n",
    "plt.plot(bins_bg,z[:])\n",
    "#plt.xlim([0, 1.0])\n",
    "#plt.ylim([0.0, 1.05])\n",
    "plt.xlabel('Threshold')\n",
    "plt.ylabel('Significance, z')\n",
    "plt.title('Significance curve with sigma')\n",
    "plt.show()\n",
    "\n",
    "\n",
    "mask = z < 1e10     #just so doesnt include infs\n",
    "index_of_max = np.argmax(z[mask])\n",
    "max_value = np.amax(z[mask])\n",
    "\n",
    "\n",
    "#index_of_max = np.nanargmax(z[:])\n",
    "#max_value = np.nanmax(z[:])     # 1 point before last, should probs generalise so that can deal w inf etc \n",
    "max_bin = bins_bg[index_of_max]\n",
    "print(max_bin)\n",
    "print(index_of_max)\n",
    "print(max_value)\n",
    "\n",
    "num_bg_threshold = np.sum(n_bg[index_of_max:])\n",
    "num_signal_threshold = np.sum(n_signal[index_of_max:])\n",
    "print()\n",
    "print('If cut at a threshold of', index_of_max/100, 'have')\n",
    "print(num_signal_threshold, 'singal events')\n",
    "print(num_bg_threshold, 'background events')\n",
    "# significance = sigmna, 6.5 signma, 5 sigma"
   ]
  },
  {
   "cell_type": "code",
   "execution_count": 39,
   "metadata": {},
   "outputs": [
    {
     "name": "stdout",
     "output_type": "stream",
     "text": [
      "217678.7810239792\n",
      "4367.311522901058\n"
     ]
    },
    {
     "name": "stderr",
     "output_type": "stream",
     "text": [
      "/software/deep-learning/envs/ml-microscope/lib/python3.7/site-packages/ipykernel_launcher.py:16: RuntimeWarning: invalid value encountered in double_scalars\n",
      "  app.launch_new_instance()\n",
      "/software/deep-learning/envs/ml-microscope/lib/python3.7/site-packages/ipykernel_launcher.py:17: RuntimeWarning: invalid value encountered in double_scalars\n"
     ]
    },
    {
     "data": {
      "image/png": "[encoded data removed]",
      "text/plain": [
       "<Figure size 432x288 with 1 Axes>"
      ]
     },
     "metadata": {
      "needs_background": "light"
     },
     "output_type": "display_data"
    },
    {
     "name": "stdout",
     "output_type": "stream",
     "text": [
      "0.92\n",
      "92\n",
      "3.9459963018787336\n",
      "\n",
      "If cut at a threshold of 0.92 have\n",
      "117.98583984375 singal events\n",
      "393.265625 background events\n"
     ]
    },
    {
     "name": "stderr",
     "output_type": "stream",
     "text": [
      "/software/deep-learning/envs/ml-microscope/lib/python3.7/site-packages/ipykernel_launcher.py:37: RuntimeWarning: invalid value encountered in less\n"
     ]
    }
   ],
   "source": [
    "# significance with systematic uncertainty term, full equation\n",
    "\n",
    "num_bg_events = np.sum(n_bg)\n",
    "num_signal_events = np.sum(n_signal)\n",
    "\n",
    "print(num_bg_events)\n",
    "print(num_signal_events)\n",
    "\n",
    "z = np.empty(len(bins_bg))\n",
    "for i in range(len(bins_bg)):\n",
    "    b = np.sum(n_bg[i:])\n",
    "    s = np.sum(n_signal[i:])\n",
    "    #print(num_signal_events)\n",
    "    sigma = 0.05*b\n",
    "    \n",
    "    part1 = (s+b)*np.log(((s+b)*(b+sigma**2))/(b**2+((s+b)*sigma**2)))\n",
    "    part2 = (b**2/sigma**2)*np.log(1+((sigma**2*s)/(b*(b+sigma**2))))\n",
    "    \n",
    "    z_i = (2*(part1-part2))**(1/2)\n",
    "\n",
    "    \n",
    "    z[i] = z_i\n",
    "#print(z)\n",
    "#print(z)\n",
    "\n",
    "\n",
    "x = np.linspace(0,1,len(z))\n",
    "plt.plot(bins_bg,z[:])\n",
    "#plt.xlim([0, 1.0])\n",
    "#plt.ylim([0.0, 1.05])\n",
    "plt.xlabel('Threshold')\n",
    "plt.ylabel('Significance, z')\n",
    "plt.title('Significance curve with sigma, full equation')\n",
    "plt.show()\n",
    "\n",
    "\n",
    "mask = z < 1e10     #just so doesnt include infs\n",
    "index_of_max = np.argmax(z[mask])\n",
    "max_value = np.amax(z[mask])\n",
    "\n",
    "\n",
    "#index_of_max = np.nanargmax(z[:])\n",
    "#max_value = np.nanmax(z[:])     # 1 point before last, should probs generalise so that can deal w inf etc \n",
    "max_bin = bins_bg[index_of_max]\n",
    "print(max_bin)\n",
    "print(index_of_max)\n",
    "print(max_value)\n",
    "\n",
    "num_bg_threshold = np.sum(n_bg[index_of_max:])\n",
    "num_signal_threshold = np.sum(n_signal[index_of_max:])\n",
    "print()\n",
    "print('If cut at a threshold of', index_of_max/100, 'have')\n",
    "print(num_signal_threshold, 'singal events')\n",
    "print(num_bg_threshold, 'background events')\n",
    "# significance = sigmna, 6.5 signma, 5 sigma"
   ]
  },
  {
   "cell_type": "code",
   "execution_count": 40,
   "metadata": {},
   "outputs": [
    {
     "data": {
      "image/png": "[encoded data removed]",
      "text/plain": [
       "<Figure size 432x288 with 2 Axes>"
      ]
     },
     "metadata": {
      "needs_background": "light"
     },
     "output_type": "display_data"
    },
    {
     "name": "stdout",
     "output_type": "stream",
     "text": [
      "Total signal processes; 1.0\n",
      "Total background processes; 1.0\n"
     ]
    }
   ],
   "source": [
    "# Confusion matricies with new threshold at max significance\n",
    "\n",
    "# calculates prediction values\n",
    "#y_pred = model.predict(X_valid) \n",
    "\n",
    "significance_threshold = max_bin\n",
    "y_pred_threshold = np.where(y_pred >= significance_threshold, 1, 0)\n",
    "\n",
    "# compute the confusion matrix\n",
    "cm = confusion_matrix(y_valid, y_pred_threshold, normalize = 'true')    #,'true' ‘pred’, ‘all’},)\n",
    "#disp = ConfusionMatrixDisplay(confusion_matrix=cm)   \n",
    "disp = ConfusionMatrixDisplay(confusion_matrix=cm, display_labels=['class 0', 'class 1']) # other env\n",
    "disp.plot()\n",
    "plt.show()\n",
    "\n",
    "print('Total signal processes;', cm[1,0]+cm[1,1])\n",
    "print('Total background processes;', cm[0,0]+cm[0,1])"
   ]
  },
  {
   "cell_type": "markdown",
   "metadata": {},
   "source": [
    "# SAVE THE CORRECT DATA"
   ]
  },
  {
   "cell_type": "code",
   "execution_count": 43,
   "metadata": {},
   "outputs": [
    {
     "name": "stdout",
     "output_type": "stream",
     "text": [
      "176220/1 - 77s\n",
      "704876/1 - 308s\n"
     ]
    }
   ],
   "source": [
    "y_pred_valid = model.predict(X_valid, verbose = 2)\n",
    "y_pred_train = model.predict(X_train, verbose = 2)\n",
    "\n",
    "with h5py.File('predictions_rnn_grid_bestmodel_.h5', 'w') as f:\n",
    "    f.create_dataset('val_preds', data=y_pred_valid)\n",
    "    f.create_dataset('train_preds', data=y_pred_train)"
   ]
  },
  {
   "cell_type": "code",
   "execution_count": null,
   "metadata": {},
   "outputs": [],
   "source": [
    "y_pred_train"
   ]
  },
  {
   "cell_type": "code",
   "execution_count": null,
   "metadata": {},
   "outputs": [],
   "source": [
    "y_pred_valid"
   ]
  },
  {
   "cell_type": "code",
   "execution_count": null,
   "metadata": {},
   "outputs": [],
   "source": [
    "# # Make not an object, so can hdf save\n",
    "# # run last anyways\n",
    "\n",
    "# df['True_Val'] = df['True_Val'].astype(float)\n",
    "# df['Predicted'] = df['Predicted'].astype(float)\n",
    "# df['Round Prediction'] = df['Round Prediction'].astype(float)\n"
   ]
  },
  {
   "cell_type": "code",
   "execution_count": null,
   "metadata": {},
   "outputs": [],
   "source": [
    "\n",
    "# with h5py.File('data_valid_16pad_128_50epoch_4Layers_SEED10.h5', 'w') as f:\n",
    "#     f.create_dataset('True_Val', data=df['True_Val'])\n",
    "#     f.create_dataset('Predicted', data=df['Predicted'])\n",
    "#     f.create_dataset('Round_Prediction', data=df['Round Prediction'])\n",
    "\n",
    "    \n",
    "# #with h5py.File('data_train_16pad_RNN3_SEED10.h5', 'r') as f:\n",
    "# #   true_val = f['True_Val'][:]\n",
    "# #   predicted = f['Predicted'][:]\n",
    "# #   round_pred = f['Round_Prediction'][:]\n",
    "    \n",
    "\n",
    "\n",
    "# #my_dict = {'True_Val': true_val.flatten(), 'Predicted': predicted.flatten(), 'Round Prediction': round_pred.flatten()}\n",
    "# #df = pd.DataFrame(my_dict)"
   ]
  },
  {
   "cell_type": "code",
   "execution_count": null,
   "metadata": {},
   "outputs": [],
   "source": [
    "# df_test['True_Val'] = df_test['True_Val'].astype(float)\n",
    "# df_test['Predicted'] = df_test['Predicted'].astype(float)\n",
    "# df_test['Round Prediction'] = df_test['Round Prediction'].astype(float)\n",
    "\n",
    "# with h5py.File('data_train_16pad_128_50epoch_4Layers_SEED10.h5', 'w') as f:\n",
    "#     f.create_dataset('True_Val', data=df_test['True_Val'])\n",
    "#     f.create_dataset('Predicted', data=df_test['Predicted'])\n",
    "#     f.create_dataset('Round_Prediction', data=df_test['Round Prediction'])"
   ]
  },
  {
   "cell_type": "code",
   "execution_count": null,
   "metadata": {},
   "outputs": [],
   "source": [
    "# See weight is const basically, so just use a value\n",
    "\n",
    "semi_xs_weight = df2['xs_weight']   # plot to show is wrong, at least 1 -ive val (is this right?)\n",
    "signal_xs_weight = df4['xs_weight'] \n",
    "#plt.hist(x=semi_xs_weight, bins = 10, weights = df2.xs_weight, density = True, histtype = 'step', label = 'Background')\n",
    "plt.hist(x=signal_xs_weight, bins = 10, weights = df4.xs_weight, density = True, histtype = 'step', label = 'Signal')\n",
    "plt.title('xs_weight')\n",
    "plt.legend()\n",
    "plt.show() \n",
    "\n",
    "semi_xs_weight = df2['xs_weight']   # plot to show is wrong, at least 1 -ive val (is this right?)\n",
    "signal_xs_weight = df4['xs_weight'] \n",
    "plt.hist(x=semi_xs_weight, bins = 10, weights = df2.xs_weight, density = True, histtype = 'step', label = 'Background')\n",
    "#plt.hist(x=signal_xs_weight, bins = 10, weights = df4.xs_weight, density = True, histtype = 'step', label = 'Signal')\n",
    "plt.title('xs_weight')\n",
    "plt.legend()\n",
    "plt.show() "
   ]
  },
  {
   "cell_type": "code",
   "execution_count": null,
   "metadata": {},
   "outputs": [],
   "source": [
    "#Also, to make sure we get the event weights correct, can each of you try and produce a number for the \n",
    "#total number of events you obtain when using all events in the ttH125 and ttbar semileptonic dataframes,\n",
    "#normalized to 300/fb?\n",
    "#Hopefully you all arrive at the same result.\n",
    "\n",
    "# Sligthly confused, does x_s weight normalised already entail no. events,\n",
    "# So xs_weight * 300,000 is no events\n",
    "\n",
    "#Or\n",
    "\n",
    "# Are we meant to use the equation you showed us last week and work out what N should be\n",
    "\n",
    "#Or\n",
    "\n",
    "# do both and compare them as should be same?\n",
    "\n",
    "bg_weight = semi_xs_weight[1]\n",
    "signal_weight = signal_xs_weight[1]\n",
    "\n",
    "# total number SL\n",
    "sl_tot_events = bg_weight * 300000      # weight per pb to 300fb\n",
    "\n",
    "# total number signal\n",
    "signal_tot_events = signal_weight * 300000\n",
    "\n",
    "print('Total number of semileptonic events is {}'.format(sl_tot_events))\n",
    "print('Total number of ttH125 events is {}'.format(signal_tot_events))\n",
    "print()\n",
    "\n",
    "sl_events = 300000 * 500\n",
    "signal_events = 300000 * 0.5\n",
    "\n",
    "print('Total number of semileptonic events is {}'.format(sl_events)) #150000k\n",
    "print('Total number of ttH125 events is {}'.format(signal_events))   #150k\n",
    "#tot_events = "
   ]
  },
  {
   "cell_type": "markdown",
   "metadata": {},
   "source": [
    "# Q \n",
    "Can you also overlay the discriminator distributions for the test data \n",
    "(normalized to the same area) to check if training and testing samples agree?\n",
    "# A\n",
    "not sure what is meant, so show code for the one that I did do. I did it for validation data, so when he says this does hr mean my data is test or training\n",
    "\n",
    "# Q \n",
    "If you use all the events in the dataframes and weight each entry by xs_weight you should\n",
    "get the expected number of events for 1 /pb. Is everything in the plot below already \n",
    "multiplied by 300000 to get the event yields expected for 300/fb?\n",
    "What exactly did you use?\n",
    "\n",
    "# A\n",
    "Yes, everything in the weighted plot is multiplied by 300000, show what I used as I am not sure if thats right\n",
    "\n",
    "# Q\n",
    "If you integrate the weighted histograms, how many events do you obtain in each histogram? \n",
    "\n",
    "# A\n",
    "Bit confused, why integrate the histograms when can just see how much data used, is it because this is weighted so it will give the number of events we actually expect overall in 300000 fb^-1, makes sense.\n",
    "#Did 3 ways, not really clear what was right, way I think rn is each bin is a number of events, so just need to add number events per bin, dont need to do anything regarding the width of the bin? But then an integral is the area so that does mean bin size matters, but not really sure, bc obvs sum bin size = 1\n",
    "#Think first one is correct\n",
    "\n",
    "\n",
    "# Q \n",
    "Next would be to plot ROC curves and precision-recall which have slightly different meaning.\n",
    "\n",
    "# A\n",
    "So does a ROC curve work out where the best threshold is for us, so what is significance. Also should a ROC curve be weighted\n",
    "\n",
    "# Q \n",
    "from the weighted plot, make a plot of Z = S/sqrt(B) as a function of the cut on the discriminator value, where S and B are the number of events (i.e. the integral) of the histogram \n",
    "that have discriminator value above the cut you chose. You may need to “zoom in” on the region >0.9 \n",
    "to see that it falls off again as you approach 1"
   ]
  },
  {
   "cell_type": "code",
   "execution_count": null,
   "metadata": {},
   "outputs": [],
   "source": [
    "print(df1['xs_weight'])\n",
    "plt.hist(df1['xs_weight'])"
   ]
  },
  {
   "cell_type": "code",
   "execution_count": null,
   "metadata": {},
   "outputs": [],
   "source": [
    "print(df2['xs_weight'])\n",
    "plt.hist(df2['xs_weight'])"
   ]
  },
  {
   "cell_type": "code",
   "execution_count": null,
   "metadata": {},
   "outputs": [],
   "source": [
    "print(df3['xs_weight'])\n",
    "plt.hist(df3['xs_weight'])"
   ]
  },
  {
   "cell_type": "code",
   "execution_count": null,
   "metadata": {},
   "outputs": [],
   "source": [
    "print(df4['xs_weight'])\n",
    "plt.hist(df4['xs_weight'])"
   ]
  },
  {
   "cell_type": "code",
   "execution_count": null,
   "metadata": {},
   "outputs": [],
   "source": [
    "print('TTToHadronic weight: ', df1['xs_weight'][10000])\n",
    "print('TTToSL weight: ', df2['xs_weight'][0])\n",
    "print('TTL2NU weight: ', df3['xs_weight'][0])\n",
    "print('TTH125 weight: ', df4['xs_weight'][0])"
   ]
  },
  {
   "cell_type": "markdown",
   "metadata": {},
   "source": [
    "# Updates from 08/02 grind\n",
    "- I trained on full dataset and got like 10% more accuracy, actually a v good now, loss also down a fair bit, 0.1\n",
    "\n",
    "- But does take like 10 mins to run training data\n",
    "\n",
    "- Actually, not that good\n"
   ]
  },
  {
   "cell_type": "code",
   "execution_count": null,
   "metadata": {},
   "outputs": [],
   "source": [
    "y_pred = model.predict(X_valid, verbose = 2)"
   ]
  },
  {
   "cell_type": "code",
   "execution_count": null,
   "metadata": {},
   "outputs": [],
   "source": [
    "y_pred"
   ]
  },
  {
   "cell_type": "code",
   "execution_count": null,
   "metadata": {},
   "outputs": [],
   "source": [
    "df['Predicted']"
   ]
  },
  {
   "cell_type": "code",
   "execution_count": null,
   "metadata": {},
   "outputs": [],
   "source": [
    "data = {'True_Val': y_valid_list, 'Predicted': list(y_pred), 'Round Prediction': y_pred_round_list}\n",
    "df = pd.DataFrame(data)\n",
    "df\n"
   ]
  },
  {
   "cell_type": "code",
   "execution_count": null,
   "metadata": {},
   "outputs": [],
   "source": [
    "# Easiest to reorder df, so all 0 (background) are first and then 1's (signal)\n",
    "\n",
    "#Verified, works\n",
    "df = df.sort_values(by='True_Val')\n",
    "\n",
    "# Convert arrays to scalars\n",
    "#df['Round Prediction'] = df['Round Prediction'].apply(lambda x: x[0])\n",
    "\n",
    "df"
   ]
  }
 ],
 "metadata": {
  "kernelspec": {
   "display_name": "Python 3",
   "language": "python",
   "name": "python3"
  },
  "language_info": {
   "codemirror_mode": {
    "name": "ipython",
    "version": 3
   },
   "file_extension": ".py",
   "mimetype": "text/x-python",
   "name": "python",
   "nbconvert_exporter": "python",
   "pygments_lexer": "ipython3",
   "version": "3.7.3"
  }
 },
 "nbformat": 4,
 "nbformat_minor": 4
}
