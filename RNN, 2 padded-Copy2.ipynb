{
 "cells": [
  {
   "cell_type": "code",
   "execution_count": 1,
   "metadata": {},
   "outputs": [],
   "source": [
    "import numpy as np\n",
    "import pandas as pd \n",
    "from sklearn.model_selection import train_test_split\n",
    "from sklearn.preprocessing import StandardScaler\n",
    "from tensorflow import keras\n",
    "#from tensorflow.keras.utils import to_categorical ## specific  one I wanna use\n",
    "from tensorflow.keras import utils\n",
    "#from tensorflow.keras.layers import Input, Dense, Dropout  # Specific ones I wanna use, can just import whole module\n",
    "from tensorflow.keras import layers \n",
    "from tensorflow.keras.models import Model\n",
    "import h5py\n",
    "#import tables\n",
    "import matplotlib.pyplot as plt\n",
    "#import tensorflow as tf\n",
    "from sklearn.metrics import confusion_matrix, ConfusionMatrixDisplay\n",
    "from sklearn.metrics import plot_confusion_matrix\n",
    "from sklearn.metrics import roc_curve, auc\n",
    "from sklearn.metrics import precision_recall_curve\n",
    "from sklearn.utils.class_weight import compute_class_weight\n"
   ]
  },
  {
   "cell_type": "code",
   "execution_count": 2,
   "metadata": {},
   "outputs": [
    {
     "data": {
      "text/plain": [
       "True"
      ]
     },
     "execution_count": 2,
     "metadata": {},
     "output_type": "execute_result"
    }
   ],
   "source": [
    "import tensorflow as tf\n",
    "gpu_available = tf.test.is_gpu_available()\n",
    "gpu_available"
   ]
  },
  {
   "cell_type": "code",
   "execution_count": null,
   "metadata": {},
   "outputs": [],
   "source": [
    "x=1\n",
    "y=3\n",
    "x+y"
   ]
  },
  {
   "cell_type": "code",
   "execution_count": 3,
   "metadata": {},
   "outputs": [],
   "source": [
    "# Load padded data\n",
    "with h5py.File('leading_2_arr_3d.h5', 'r') as f:\n",
    "    leading_2_arr_3d = f['array'][:]\n",
    "\n",
    "with h5py.File('4_event_types_labels.h5', 'r') as f:\n",
    "    df_labels = f['array'][:]\n",
    "    \n",
    "with h5py.File('4_event_types_weights.h5', 'r') as f:\n",
    "    df_weights = f['array'][:]\n"
   ]
  },
  {
   "cell_type": "code",
   "execution_count": 5,
   "metadata": {},
   "outputs": [
    {
     "data": {
      "text/plain": [
       "(881096,)"
      ]
     },
     "execution_count": 5,
     "metadata": {},
     "output_type": "execute_result"
    }
   ],
   "source": [
    "# Need to take the n leading order jets for my second method\n",
    "df_labels.shape"
   ]
  },
  {
   "cell_type": "code",
   "execution_count": 29,
   "metadata": {},
   "outputs": [
    {
     "name": "stdout",
     "output_type": "stream",
     "text": [
      "(881096, 2, 23)\n",
      "There are 23 variables in this model\n",
      "The dataset has 881096 processes\n",
      "(704876, 2, 23)\n",
      "(704876,)\n"
     ]
    }
   ],
   "source": [
    "X = leading_2_arr_3d\n",
    "y = df_labels\n",
    "\n",
    "print(X.shape)\n",
    "\n",
    "# Break off validation set from training data\n",
    "X_train, X_valid, y_train, y_valid = train_test_split(X, y, train_size=0.8, test_size=0.2,\n",
    "                                                      random_state=10)\n",
    "\n",
    "input_shape = X_train.shape[2]\n",
    "print('There are', input_shape, 'variables in this model')\n",
    "print('The dataset has', len(y), 'processes')\n",
    "\n",
    "\n",
    "print(X_train.shape)\n",
    "print(y_train.shape)"
   ]
  },
  {
   "cell_type": "code",
   "execution_count": null,
   "metadata": {},
   "outputs": [],
   "source": [
    "#Define the Model\n",
    "\n",
    "# model = keras.Sequential([\n",
    "#     layers.BatchNormalization(input_shape=input_shape), \n",
    "#     layers.Dense(units=256, activation='relu'),\n",
    "#     layers.BatchNormalization(),\n",
    "#     layers.Dropout(rate = 0.3), \n",
    "#     layers.Dense(units=256, activation='relu'),\n",
    "#     layers.BatchNormalization(),\n",
    "#     layers.Dropout(rate = 0.3),\n",
    "#     layers.Dense(units=1, activation='sigmoid'),\n",
    "# ])\n",
    "\n",
    "\n",
    "# model.compile(\n",
    "#     optimizer='adam',\n",
    "#     loss='binary_crossentropy',\n",
    "#     metrics=['binary_accuracy'],\n",
    "# )\n",
    "\n"
   ]
  },
  {
   "cell_type": "code",
   "execution_count": null,
   "metadata": {},
   "outputs": [],
   "source": []
  },
  {
   "cell_type": "code",
   "execution_count": 7,
   "metadata": {},
   "outputs": [
    {
     "name": "stdout",
     "output_type": "stream",
     "text": [
      "Model: \"sequential\"\n",
      "_________________________________________________________________\n",
      "Layer (type)                 Output Shape              Param #   \n",
      "=================================================================\n",
      "masking (Masking)            (None, 2, 23)             0         \n",
      "_________________________________________________________________\n",
      "lstm (LSTM)                  (None, 2, 64)             22528     \n",
      "_________________________________________________________________\n",
      "batch_normalization (BatchNo (None, 2, 64)             256       \n",
      "_________________________________________________________________\n",
      "dropout (Dropout)            (None, 2, 64)             0         \n",
      "_________________________________________________________________\n",
      "lstm_1 (LSTM)                (None, 2, 64)             33024     \n",
      "_________________________________________________________________\n",
      "batch_normalization_1 (Batch (None, 2, 64)             256       \n",
      "_________________________________________________________________\n",
      "dropout_1 (Dropout)          (None, 2, 64)             0         \n",
      "_________________________________________________________________\n",
      "lstm_2 (LSTM)                (None, 64)                33024     \n",
      "_________________________________________________________________\n",
      "batch_normalization_2 (Batch (None, 64)                256       \n",
      "_________________________________________________________________\n",
      "dropout_2 (Dropout)          (None, 64)                0         \n",
      "_________________________________________________________________\n",
      "dense (Dense)                (None, 1)                 65        \n",
      "=================================================================\n",
      "Total params: 89,409\n",
      "Trainable params: 89,025\n",
      "Non-trainable params: 384\n",
      "_________________________________________________________________\n"
     ]
    }
   ],
   "source": [
    "# Define a RNN\n",
    "\n",
    "#input_shape = (None, X_train.shape[2]) # shape of input sequence\n",
    "input_shape = (2, X_train.shape[2]) # shape of input sequence#\n",
    "\n",
    "model = keras.Sequential([\n",
    "    layers.Masking(mask_value=0.0, input_shape=input_shape),\n",
    "    layers.LSTM(units=64, return_sequences=True),\n",
    "    layers.BatchNormalization(),\n",
    "    layers.Dropout(rate=0.3), \n",
    "    layers.LSTM(units=64, return_sequences=True),\n",
    "    layers.BatchNormalization(),\n",
    "    layers.Dropout(rate=0.3), \n",
    "    layers.LSTM(units=64),\n",
    "    layers.BatchNormalization(),\n",
    "    layers.Dropout(rate=0.3),\n",
    "    layers.Dense(units=1, activation='sigmoid'),\n",
    "])\n",
    "\n",
    "from tensorflow.keras.optimizers import Adam\n",
    "\n",
    "lr = 0.0005 # specify learning rate\n",
    "optimizer = Adam(learning_rate=lr)\n",
    "#model.compile(optimizer=optimizer, loss='categorical_crossentropy')\n",
    "\n",
    "\n",
    "\n",
    "model.compile(\n",
    "    optimizer=optimizer,\n",
    "    loss='binary_crossentropy',\n",
    "    metrics=['binary_accuracy'],\n",
    ")\n",
    "\n",
    "model.summary()\n",
    "#model.get_config()"
   ]
  },
  {
   "cell_type": "code",
   "execution_count": null,
   "metadata": {},
   "outputs": [],
   "source": [
    "# # from https://github.com/savagedavid7/Predicting-Closing-Prices-Using-LTSM-Recurrent-Neural-Network\n",
    "# # /blob/master/lstm_stock_predictor_closing.ipynb\n",
    "\n",
    "# from tensorflow.keras.models import Sequential\n",
    "# from tensorflow.keras.layers import LSTM, Dense, Dropout\n",
    "\n",
    "# # Build the LSTM model. \n",
    "# # The return sequences need to be set to True if you are adding additional LSTM layers, but you don't have to do this for the final layer. \n",
    "# # Note: The dropouts help prevent overfitting\n",
    "# # Note: The input shape is the number of time steps and the number of indicators\n",
    "# # Note: Batching inputs has a different input shape of Samples/TimeSteps/Features\n",
    "\n",
    "# # Define the LSTM RNN model\n",
    "# model = Sequential()\n",
    "\n",
    "# number_units = 3\n",
    "# dropout_fraction = 0.2\n",
    "\n",
    "# # Layer 1\n",
    "# model.add(LSTM(units=number_units, return_sequences=True, input_shape=(X_train.shape[1],1)))\n",
    "# model.add(Dropout(dropout_fraction))\n",
    "\n",
    "# # Layer 2\n",
    "# model.add(LSTM(units=number_units, return_sequences=True))\n",
    "# model.add(Dropout(dropout_fraction))\n",
    "\n",
    "# # Layer 3\n",
    "# model.add(LSTM(units=number_units))\n",
    "# model.add(Dropout(dropout_fraction))\n",
    "# # Output Layer\n",
    "# model.add(Dense(1))"
   ]
  },
  {
   "cell_type": "code",
   "execution_count": 8,
   "metadata": {},
   "outputs": [
    {
     "name": "stdout",
     "output_type": "stream",
     "text": [
      "[0.62673917 2.47255507]\n"
     ]
    }
   ],
   "source": [
    "class_weights = compute_class_weight('balanced', np.unique(y_train), y_train)\n",
    "print(class_weights)\n"
   ]
  },
  {
   "cell_type": "code",
   "execution_count": 9,
   "metadata": {},
   "outputs": [
    {
     "data": {
      "text/plain": [
       "(704876, 2, 23)"
      ]
     },
     "execution_count": 9,
     "metadata": {},
     "output_type": "execute_result"
    }
   ],
   "source": [
    "\n",
    "X_train.shape\n",
    "#y_train.shape"
   ]
  },
  {
   "cell_type": "code",
   "execution_count": 11,
   "metadata": {
    "scrolled": false
   },
   "outputs": [
    {
     "name": "stdout",
     "output_type": "stream",
     "text": [
      "True\n",
      "Train on 704876 samples, validate on 176220 samples\n",
      "Epoch 1/200\n",
      "704876/704876 [==============================] - 91s 129us/sample - loss: 0.6887 - binary_accuracy: 0.5851 - val_loss: 0.6380 - val_binary_accuracy: 0.6122\n",
      "Epoch 2/200\n",
      "704876/704876 [==============================] - 78s 111us/sample - loss: 0.6465 - binary_accuracy: 0.5952 - val_loss: 0.6357 - val_binary_accuracy: 0.5714\n",
      "Epoch 3/200\n",
      "704876/704876 [==============================] - 80s 113us/sample - loss: 0.6412 - binary_accuracy: 0.5927 - val_loss: 0.6302 - val_binary_accuracy: 0.6163\n",
      "Epoch 4/200\n",
      "704876/704876 [==============================] - 79s 112us/sample - loss: 0.6386 - binary_accuracy: 0.5880 - val_loss: 0.6288 - val_binary_accuracy: 0.6134\n",
      "Epoch 5/200\n",
      "704876/704876 [==============================] - 71s 101us/sample - loss: 0.6369 - binary_accuracy: 0.5907 - val_loss: 0.6308 - val_binary_accuracy: 0.5637\n",
      "Epoch 6/200\n",
      "704876/704876 [==============================] - 74s 105us/sample - loss: 0.6354 - binary_accuracy: 0.5911 - val_loss: 0.6307 - val_binary_accuracy: 0.5525\n",
      "Epoch 7/200\n",
      "704876/704876 [==============================] - 79s 112us/sample - loss: 0.6345 - binary_accuracy: 0.5935 - val_loss: 0.6271 - val_binary_accuracy: 0.5721\n",
      "Epoch 8/200\n",
      "704876/704876 [==============================] - 73s 104us/sample - loss: 0.6337 - binary_accuracy: 0.5929 - val_loss: 0.6270 - val_binary_accuracy: 0.5817\n",
      "Epoch 9/200\n",
      "704876/704876 [==============================] - 71s 101us/sample - loss: 0.6332 - binary_accuracy: 0.5961 - val_loss: 0.6256 - val_binary_accuracy: 0.5760\n",
      "Epoch 10/200\n",
      "704876/704876 [==============================] - 72s 101us/sample - loss: 0.6325 - binary_accuracy: 0.5972 - val_loss: 0.6254 - val_binary_accuracy: 0.5857\n",
      "Epoch 11/200\n",
      "704876/704876 [==============================] - 71s 101us/sample - loss: 0.6319 - binary_accuracy: 0.5994 - val_loss: 0.6242 - val_binary_accuracy: 0.6015\n",
      "Epoch 12/200\n",
      "704876/704876 [==============================] - 66s 94us/sample - loss: 0.6313 - binary_accuracy: 0.5995 - val_loss: 0.6228 - val_binary_accuracy: 0.6058\n",
      "Epoch 13/200\n",
      "704876/704876 [==============================] - 53s 74us/sample - loss: 0.6310 - binary_accuracy: 0.5991 - val_loss: 0.6251 - val_binary_accuracy: 0.5775\n",
      "Epoch 14/200\n",
      "704876/704876 [==============================] - 47s 67us/sample - loss: 0.6302 - binary_accuracy: 0.6013 - val_loss: 0.6258 - val_binary_accuracy: 0.5883\n",
      "Epoch 15/200\n",
      "704876/704876 [==============================] - 48s 69us/sample - loss: 0.6302 - binary_accuracy: 0.6049 - val_loss: 0.6246 - val_binary_accuracy: 0.5750\n",
      "Epoch 16/200\n",
      "704876/704876 [==============================] - 50s 71us/sample - loss: 0.6296 - binary_accuracy: 0.6041 - val_loss: 0.6225 - val_binary_accuracy: 0.6332\n",
      "Epoch 17/200\n",
      "704876/704876 [==============================] - 50s 71us/sample - loss: 0.6291 - binary_accuracy: 0.6017 - val_loss: 0.6218 - val_binary_accuracy: 0.6348\n",
      "Epoch 18/200\n",
      "704876/704876 [==============================] - 50s 72us/sample - loss: 0.6292 - binary_accuracy: 0.6039 - val_loss: 0.6247 - val_binary_accuracy: 0.5700\n",
      "Epoch 19/200\n",
      "704876/704876 [==============================] - 49s 70us/sample - loss: 0.6289 - binary_accuracy: 0.6025 - val_loss: 0.6238 - val_binary_accuracy: 0.6158\n",
      "Epoch 20/200\n",
      "704876/704876 [==============================] - 50s 70us/sample - loss: 0.6287 - binary_accuracy: 0.6037 - val_loss: 0.6220 - val_binary_accuracy: 0.6356\n",
      "Epoch 21/200\n",
      "704876/704876 [==============================] - 50s 71us/sample - loss: 0.6282 - binary_accuracy: 0.6038 - val_loss: 0.6239 - val_binary_accuracy: 0.5814\n",
      "Epoch 22/200\n",
      "704876/704876 [==============================] - 45s 64us/sample - loss: 0.6280 - binary_accuracy: 0.6065 - val_loss: 0.6201 - val_binary_accuracy: 0.6032\n",
      "Epoch 23/200\n",
      "704876/704876 [==============================] - 40s 57us/sample - loss: 0.6275 - binary_accuracy: 0.6073 - val_loss: 0.6200 - val_binary_accuracy: 0.6012\n",
      "Epoch 24/200\n",
      "704876/704876 [==============================] - 40s 57us/sample - loss: 0.6273 - binary_accuracy: 0.6048 - val_loss: 0.6201 - val_binary_accuracy: 0.6106\n",
      "Epoch 25/200\n",
      "704876/704876 [==============================] - 42s 60us/sample - loss: 0.6274 - binary_accuracy: 0.6065 - val_loss: 0.6199 - val_binary_accuracy: 0.6138\n",
      "Epoch 26/200\n",
      "704876/704876 [==============================] - 42s 59us/sample - loss: 0.6272 - binary_accuracy: 0.6069 - val_loss: 0.6198 - val_binary_accuracy: 0.5823\n",
      "Epoch 27/200\n",
      "704876/704876 [==============================] - 41s 59us/sample - loss: 0.6270 - binary_accuracy: 0.6068 - val_loss: 0.6216 - val_binary_accuracy: 0.6558\n",
      "Epoch 28/200\n",
      "704876/704876 [==============================] - 49s 70us/sample - loss: 0.6270 - binary_accuracy: 0.6090 - val_loss: 0.6238 - val_binary_accuracy: 0.6345\n",
      "Epoch 29/200\n",
      "704876/704876 [==============================] - 49s 70us/sample - loss: 0.6266 - binary_accuracy: 0.6036 - val_loss: 0.6282 - val_binary_accuracy: 0.5669\n",
      "Epoch 30/200\n",
      "704876/704876 [==============================] - 49s 69us/sample - loss: 0.6265 - binary_accuracy: 0.6076 - val_loss: 0.6215 - val_binary_accuracy: 0.5969\n",
      "Epoch 31/200\n",
      "704876/704876 [==============================] - 48s 68us/sample - loss: 0.6262 - binary_accuracy: 0.6090 - val_loss: 0.6190 - val_binary_accuracy: 0.6075\n",
      "Epoch 32/200\n",
      "704876/704876 [==============================] - 46s 65us/sample - loss: 0.6260 - binary_accuracy: 0.6094 - val_loss: 0.6201 - val_binary_accuracy: 0.6077\n",
      "Epoch 33/200\n",
      "704876/704876 [==============================] - 48s 68us/sample - loss: 0.6263 - binary_accuracy: 0.6088 - val_loss: 0.6211 - val_binary_accuracy: 0.5869\n",
      "Epoch 34/200\n",
      "704876/704876 [==============================] - 47s 67us/sample - loss: 0.6261 - binary_accuracy: 0.6103 - val_loss: 0.6215 - val_binary_accuracy: 0.5924\n",
      "Epoch 35/200\n",
      "704876/704876 [==============================] - 45s 64us/sample - loss: 0.6262 - binary_accuracy: 0.6083 - val_loss: 0.6192 - val_binary_accuracy: 0.6121\n",
      "Epoch 36/200\n",
      "704876/704876 [==============================] - 46s 65us/sample - loss: 0.6260 - binary_accuracy: 0.6104 - val_loss: 0.6200 - val_binary_accuracy: 0.6463\n",
      "Epoch 37/200\n",
      "704876/704876 [==============================] - 45s 64us/sample - loss: 0.6255 - binary_accuracy: 0.6112 - val_loss: 0.6210 - val_binary_accuracy: 0.6149\n",
      "Epoch 38/200\n",
      "704876/704876 [==============================] - 46s 65us/sample - loss: 0.6260 - binary_accuracy: 0.6094 - val_loss: 0.6187 - val_binary_accuracy: 0.6088\n",
      "Epoch 39/200\n",
      "704876/704876 [==============================] - 45s 64us/sample - loss: 0.6255 - binary_accuracy: 0.6099 - val_loss: 0.6182 - val_binary_accuracy: 0.6277\n",
      "Epoch 40/200\n",
      "704876/704876 [==============================] - 46s 65us/sample - loss: 0.6255 - binary_accuracy: 0.6085 - val_loss: 0.6207 - val_binary_accuracy: 0.6020\n",
      "Epoch 41/200\n",
      "704876/704876 [==============================] - 48s 68us/sample - loss: 0.6253 - binary_accuracy: 0.6105 - val_loss: 0.6179 - val_binary_accuracy: 0.6219\n",
      "Epoch 42/200\n",
      "704876/704876 [==============================] - 44s 63us/sample - loss: 0.6246 - binary_accuracy: 0.6112 - val_loss: 0.6197 - val_binary_accuracy: 0.6239\n",
      "Epoch 43/200\n",
      "704876/704876 [==============================] - 45s 63us/sample - loss: 0.6245 - binary_accuracy: 0.6129 - val_loss: 0.6182 - val_binary_accuracy: 0.6074\n",
      "Epoch 44/200\n",
      "704876/704876 [==============================] - 45s 63us/sample - loss: 0.6250 - binary_accuracy: 0.6123 - val_loss: 0.6216 - val_binary_accuracy: 0.5715\n",
      "Epoch 45/200\n",
      "704876/704876 [==============================] - 45s 63us/sample - loss: 0.6248 - binary_accuracy: 0.6123 - val_loss: 0.6177 - val_binary_accuracy: 0.6180\n",
      "Epoch 46/200\n",
      "704876/704876 [==============================] - 45s 64us/sample - loss: 0.6246 - binary_accuracy: 0.6100 - val_loss: 0.6189 - val_binary_accuracy: 0.5870\n",
      "Epoch 47/200\n",
      "704876/704876 [==============================] - 46s 65us/sample - loss: 0.6247 - binary_accuracy: 0.6105 - val_loss: 0.6227 - val_binary_accuracy: 0.5836\n",
      "Epoch 48/200\n",
      "704876/704876 [==============================] - 46s 65us/sample - loss: 0.6241 - binary_accuracy: 0.6139 - val_loss: 0.6186 - val_binary_accuracy: 0.6420\n",
      "Epoch 49/200\n",
      "704876/704876 [==============================] - 45s 64us/sample - loss: 0.6242 - binary_accuracy: 0.6141 - val_loss: 0.6223 - val_binary_accuracy: 0.6508\n",
      "Epoch 50/200\n",
      "704876/704876 [==============================] - 45s 64us/sample - loss: 0.6241 - binary_accuracy: 0.6139 - val_loss: 0.6182 - val_binary_accuracy: 0.6343\n",
      "Epoch 51/200\n",
      "704876/704876 [==============================] - 45s 64us/sample - loss: 0.6239 - binary_accuracy: 0.6123 - val_loss: 0.6183 - val_binary_accuracy: 0.5984\n",
      "Best Validation Loss: 0.6177\n",
      "Best Validation Accuracy: 0.6558\n"
     ]
    },
    {
     "data": {
      "image/png": "[encoded data removed]",
      "text/plain": [
       "<Figure size 432x288 with 1 Axes>"
      ]
     },
     "metadata": {
      "needs_background": "light"
     },
     "output_type": "display_data"
    },
    {
     "data": {
      "image/png": "[encoded data removed]",
      "text/plain": [
       "<Figure size 432x288 with 1 Axes>"
      ]
     },
     "metadata": {
      "needs_background": "light"
     },
     "output_type": "display_data"
    }
   ],
   "source": [
    "# Train the model, on the full data set\n",
    "\n",
    "early_stopping = keras.callbacks.EarlyStopping(\n",
    "    patience=5,\n",
    "    min_delta=0.001,\n",
    "    restore_best_weights=True,\n",
    ")\n",
    "\n",
    "#class_weight = {0: 1,\n",
    " #               1: len(df2)/len(df4)}\n",
    "    \n",
    "#ratio = 1/0.27\n",
    "#class_weight = {0: 0.27 * ratio,\n",
    "#                1: 0.73 * ratio}\n",
    "\n",
    "class_weight = {0: class_weights[0], \n",
    "               1: class_weights[1]}        # Done by compute_class_weight('balanced', np.unique(y_train), y_train) in cell above\n",
    "\n",
    "\n",
    "#class_weight = {0: 1, \n",
    " #                1: 2.25} \n",
    "\n",
    "\n",
    "gpu_available = tf.test.is_gpu_available()\n",
    "print(gpu_available)\n",
    "    \n",
    "history = model.fit(\n",
    "    X_train, y_train,\n",
    "    validation_data=(X_valid, y_valid),\n",
    "    batch_size=512,  #264,\n",
    "    epochs=200,\n",
    "    callbacks=[early_stopping],\n",
    "    #verbose = 0   #Hide output of epochs\n",
    "    class_weight = class_weight\n",
    ")\n",
    "\n",
    "history_df = pd.DataFrame(history.history)\n",
    "history_df.loc[:, ['loss', 'val_loss']].plot(title=\"Cross-entropy\")\n",
    "history_df.loc[:, ['binary_accuracy', 'val_binary_accuracy']].plot(title=\"Accuracy\")\n",
    "history_df = pd.DataFrame(history.history)\n",
    "\n",
    "print((\"Best Validation Loss: {:0.4f}\" +\\\n",
    "      \"\\nBest Validation Accuracy: {:0.4f}\")\\\n",
    "      .format(history_df['val_loss'].min(), \n",
    "              history_df['val_binary_accuracy'].max()))\n",
    "\n",
    "model.save('trained_model_2_leading_pad_seed10.h5')\n",
    "\n",
    "#from tensorflow.keras.models import load_model\n",
    "#loaded_model = load_model('trained_model.h5')\n"
   ]
  },
  {
   "cell_type": "code",
   "execution_count": 13,
   "metadata": {},
   "outputs": [],
   "source": [
    "model.save('trained_model_RNN_2pad_seed10.h5')\n",
    "\n",
    "\n",
    "#from tensorflow.keras.models import load_model\n",
    "#model = load_model('trained_model.h5')\n"
   ]
  },
  {
   "cell_type": "code",
   "execution_count": null,
   "metadata": {},
   "outputs": [],
   "source": [
    "# Found model.evaluate took 383s\n",
    "# Found model.predict took \n",
    "# Should have used timit really"
   ]
  },
  {
   "cell_type": "code",
   "execution_count": 12,
   "metadata": {},
   "outputs": [
    {
     "name": "stderr",
     "output_type": "stream",
     "text": [
      "IOPub data rate exceeded.\n",
      "The notebook server will temporarily stop sending output\n",
      "to the client in order to avoid crashing it.\n",
      "To change this limit, set the config variable\n",
      "`--NotebookApp.iopub_data_rate_limit`.\n",
      "\n",
      "Current values:\n",
      "NotebookApp.iopub_data_rate_limit=1000000.0 (bytes/sec)\n",
      "NotebookApp.rate_limit_window=3.0 (secs)\n",
      "\n"
     ]
    },
    {
     "name": "stdout",
     "output_type": "stream",
     "text": [
      "Validation loss: 0.6182783979199901\n",
      "Validation accuracy: 0.6207035\n"
     ]
    },
    {
     "ename": "TypeError",
     "evalue": "__init__() missing 1 required positional argument: 'display_labels'",
     "output_type": "error",
     "traceback": [
      "\u001b[0;31m---------------------------------------------------------------------------\u001b[0m",
      "\u001b[0;31mTypeError\u001b[0m                                 Traceback (most recent call last)",
      "\u001b[0;32m<ipython-input-12-893199966537>\u001b[0m in \u001b[0;36m<module>\u001b[0;34m\u001b[0m\n\u001b[1;32m     13\u001b[0m \u001b[0;31m# compute the confusion matrix\u001b[0m\u001b[0;34m\u001b[0m\u001b[0;34m\u001b[0m\u001b[0;34m\u001b[0m\u001b[0m\n\u001b[1;32m     14\u001b[0m \u001b[0mcm\u001b[0m \u001b[0;34m=\u001b[0m \u001b[0mconfusion_matrix\u001b[0m\u001b[0;34m(\u001b[0m\u001b[0my_train\u001b[0m\u001b[0;34m,\u001b[0m \u001b[0my_pred_round\u001b[0m\u001b[0;34m,\u001b[0m \u001b[0mnormalize\u001b[0m \u001b[0;34m=\u001b[0m \u001b[0;34m'true'\u001b[0m\u001b[0;34m)\u001b[0m   \u001b[0;31m#, normalize = 'true')  #,'true' ‘pred’, ‘all’},)\u001b[0m\u001b[0;34m\u001b[0m\u001b[0;34m\u001b[0m\u001b[0m\n\u001b[0;32m---> 15\u001b[0;31m \u001b[0mdisp\u001b[0m \u001b[0;34m=\u001b[0m \u001b[0mConfusionMatrixDisplay\u001b[0m\u001b[0;34m(\u001b[0m\u001b[0mconfusion_matrix\u001b[0m\u001b[0;34m=\u001b[0m\u001b[0mcm\u001b[0m\u001b[0;34m)\u001b[0m\u001b[0;34m\u001b[0m\u001b[0;34m\u001b[0m\u001b[0m\n\u001b[0m\u001b[1;32m     16\u001b[0m \u001b[0mdisp\u001b[0m\u001b[0;34m.\u001b[0m\u001b[0mplot\u001b[0m\u001b[0;34m(\u001b[0m\u001b[0;34m)\u001b[0m\u001b[0;34m\u001b[0m\u001b[0;34m\u001b[0m\u001b[0m\n\u001b[1;32m     17\u001b[0m \u001b[0mplt\u001b[0m\u001b[0;34m.\u001b[0m\u001b[0mshow\u001b[0m\u001b[0;34m(\u001b[0m\u001b[0;34m)\u001b[0m\u001b[0;34m\u001b[0m\u001b[0;34m\u001b[0m\u001b[0m\n",
      "\u001b[0;31mTypeError\u001b[0m: __init__() missing 1 required positional argument: 'display_labels'"
     ]
    }
   ],
   "source": [
    "# evaluate the model on the training data, confusion matrix and discriminator curve\n",
    "\n",
    "gpu_available = tf.test.is_gpu_available()\n",
    "print(gpu_available)\n",
    "\n",
    "val_loss, val_acc = model.evaluate(X_train, y_train, verbose = 1)    \n",
    "\n",
    "print(\"Validation loss:\", val_loss)\n",
    "print(\"Validation accuracy:\", val_acc)\n",
    "\n",
    "y_pred = model.predict(X_train, verbose = 1)\n",
    "y_pred_round = np.round(y_pred)\n",
    "#print(y_pred)\n",
    "\n",
    "# compute the confusion matrix\n",
    "cm = confusion_matrix(y_train, y_pred_round, normalize = 'true')   #, normalize = 'true')  #,'true' ‘pred’, ‘all’},)\n",
    "disp = ConfusionMatrixDisplay(confusion_matrix=cm)   \n",
    "disp.plot()\n",
    "plt.show()\n",
    "\n",
    "print('Total signal processes;', cm[1,0]+cm[1,1])\n",
    "print('Total background processes;', cm[0,0]+cm[0,1])\n",
    "\n",
    "# Check if order of y_valid is the same order as y_pred\n",
    "# expect to be the ssame order if accuracy is same as validation accuracy above.\n",
    "\n",
    "# list of true outcomes\n",
    "y_train_list = list(y_train)\n",
    "\n",
    "# list of rounded predictions \n",
    "y_pred_round_list = list(y_pred_round)\n",
    "\n",
    "data_test = {'True_Val': y_train_list, 'Predicted': list(y_pred), 'Round Prediction': y_pred_round_list}\n",
    "df_test = pd.DataFrame(data_test)\n",
    "\n",
    "# Easiest to reorder df, so all 0 (background) are first and then 1's (signal)\n",
    "\n",
    "#Verified, works\n",
    "df_test = df_test.sort_values(by='True_Val')\n",
    "df_test\n",
    "\n",
    "# Convert arrays to scalars\n",
    "df_test['Round Prediction'] = df_test['Round Prediction'].apply(lambda x: x[0])\n",
    "        \n",
    "pred_one = df_test['Round Prediction'].value_counts()[1.0]\n",
    "ones_in_set = df_test['True_Val'].value_counts()[1]\n",
    "\n",
    "# Print the result\n",
    "print(pred_one)\n",
    "print('There is', ones_in_set, 'signal in the set')\n",
    "print('The model predicted',pred_one-ones_in_set ,'more ones than in reality')\n",
    "\n",
    "\n",
    "pred_zeros = df_test['Round Prediction'].value_counts()[0.0]\n",
    "zeros_in_set = df_test['True_Val'].value_counts()[0]\n",
    "\n",
    "# Print the result\n",
    "print(pred_zeros)\n",
    "print('There is', zeros_in_set, 'background in the set')   #agrees w/ confusion matrix\n",
    "print('The model predicted', pred_zeros-zeros_in_set,'more ones than in reality')\n",
    "\n",
    "\n",
    "#Split df into signal and bg\n",
    "\n",
    "df_bg = df_test[df_test['True_Val'] == 0]\n",
    "df_signal = df_test[df_test['True_Val'] == 1]\n",
    "\n",
    "# Make discriminator curves, Histogram\n",
    "\n",
    "# manipluate data so can be used for Histograms\n",
    "lst_bg_predicted = []\n",
    "for i in df_bg['Predicted']:\n",
    "    lst_bg_predicted.append(i)\n",
    "\n",
    "lst_of_values_bg_pred_train = [arr.item() for arr in lst_bg_predicted]\n",
    "\n",
    "lst_signal_predicted = []\n",
    "for i in df_signal['Predicted']:\n",
    "    lst_signal_predicted.append(i)\n",
    "\n",
    "lst_of_values_signal_pred_train = [arr.item() for arr in lst_signal_predicted]\n",
    "\n",
    "binwidth = 0.01\n",
    "bins=np.arange(0, 1 + binwidth, binwidth)\n",
    "    \n",
    "\n",
    "#Unweighted, normalised\n",
    "plt.hist(x= lst_of_values_bg_pred_train, bins=bins, density = True, histtype = 'step', label = 'Background')\n",
    "plt.hist(x= lst_of_values_signal_pred_train, bins=bins, density = True, histtype = 'step', label = 'Signal')\n",
    "plt.title('Discriminator Curve')\n",
    "plt.xlabel('Classifier Prediction')\n",
    "plt.ylabel('Frequency')\n",
    "plt.legend()\n",
    "plt.show()\n",
    "\n",
    "#Weighted to xs_weights x 300000, need to be toproportion of full dataset too\n",
    "#normalised\n",
    "\n",
    "plt.hist(x= lst_of_values_bg_pred_train, bins=bins,  weights = df_weights[:len(lst_of_values_bg_pred_train),1]*3e5,\n",
    "         histtype = 'step', label = 'Background')\n",
    "plt.hist(x= lst_of_values_signal_pred_train, bins=bins, weights = df_weights[:len(lst_of_values_signal_pred_train),3]*3e5,\n",
    "         histtype = 'step', label = 'Signal')\n",
    "plt.title('Discriminator Curve')\n",
    "plt.xlabel('Classifier Prediction')\n",
    "plt.ylabel('Frequency')\n",
    "#plt.xlim(0.9,1)    #zoom in on 0.9 to 1 region\n",
    "#plt.ylim(0,200)    # need to zoom in\n",
    "plt.legend()\n",
    "plt.show()\n",
    "\n",
    "\n",
    "#start dropping bins for signifucance part, calc Z and plot, should get curve that peaks"
   ]
  },
  {
   "cell_type": "code",
   "execution_count": 14,
   "metadata": {},
   "outputs": [
    {
     "data": {
      "image/png": "[encoded data removed]",
      "text/plain": [
       "<Figure size 432x288 with 2 Axes>"
      ]
     },
     "metadata": {
      "needs_background": "light"
     },
     "output_type": "display_data"
    },
    {
     "name": "stdout",
     "output_type": "stream",
     "text": [
      "Total signal processes; 1.0\n",
      "Total background processes; 1.0\n",
      "323027\n",
      "There is 142540 signal in the set\n",
      "The model predicted 180487 more ones than in reality\n",
      "381849\n",
      "There is 562336 background in the set\n",
      "The model predicted -180487 more ones than in reality\n"
     ]
    },
    {
     "data": {
      "image/png": "[encoded data removed]",
      "text/plain": [
       "<Figure size 432x288 with 1 Axes>"
      ]
     },
     "metadata": {
      "needs_background": "light"
     },
     "output_type": "display_data"
    },
    {
     "data": {
      "image/png": "[encoded data removed]",
      "text/plain": [
       "<Figure size 432x288 with 1 Axes>"
      ]
     },
     "metadata": {
      "needs_background": "light"
     },
     "output_type": "display_data"
    }
   ],
   "source": [
    "\n",
    "# compute the confusion matrix\n",
    "cm = confusion_matrix(y_train, y_pred_round, normalize = 'true')   #, normalize = 'true')  #,'true' ‘pred’, ‘all’},)\n",
    "#disp = ConfusionMatrixDisplay(confusion_matrix=cm)   \n",
    "disp = ConfusionMatrixDisplay(confusion_matrix=cm, display_labels=['class 0', 'class 1']) # other env\n",
    "\n",
    "disp.plot()\n",
    "plt.show()\n",
    "\n",
    "print('Total signal processes;', cm[1,0]+cm[1,1])\n",
    "print('Total background processes;', cm[0,0]+cm[0,1])\n",
    "\n",
    "# Check if order of y_valid is the same order as y_pred\n",
    "# expect to be the ssame order if accuracy is same as validation accuracy above.\n",
    "\n",
    "# list of true outcomes\n",
    "y_train_list = list(y_train)\n",
    "\n",
    "# list of rounded predictions \n",
    "y_pred_round_list = list(y_pred_round)\n",
    "\n",
    "data_test = {'True_Val': y_train_list, 'Predicted': list(y_pred), 'Round Prediction': y_pred_round_list}\n",
    "df_test = pd.DataFrame(data_test)\n",
    "\n",
    "# Easiest to reorder df, so all 0 (background) are first and then 1's (signal)\n",
    "\n",
    "#Verified, works\n",
    "df_test = df_test.sort_values(by='True_Val')\n",
    "df_test\n",
    "\n",
    "# Convert arrays to scalars\n",
    "df_test['Round Prediction'] = df_test['Round Prediction'].apply(lambda x: x[0])\n",
    "        \n",
    "pred_one = df_test['Round Prediction'].value_counts()[1.0]\n",
    "ones_in_set = df_test['True_Val'].value_counts()[1]\n",
    "\n",
    "# Print the result\n",
    "print(pred_one)\n",
    "print('There is', ones_in_set, 'signal in the set')\n",
    "print('The model predicted',pred_one-ones_in_set ,'more ones than in reality')\n",
    "\n",
    "\n",
    "pred_zeros = df_test['Round Prediction'].value_counts()[0.0]\n",
    "zeros_in_set = df_test['True_Val'].value_counts()[0]\n",
    "\n",
    "# Print the result\n",
    "print(pred_zeros)\n",
    "print('There is', zeros_in_set, 'background in the set')   #agrees w/ confusion matrix\n",
    "print('The model predicted', pred_zeros-zeros_in_set,'more ones than in reality')\n",
    "\n",
    "\n",
    "#Split df into signal and bg\n",
    "\n",
    "df_bg = df_test[df_test['True_Val'] == 0]\n",
    "df_signal = df_test[df_test['True_Val'] == 1]\n",
    "\n",
    "# Make discriminator curves, Histogram\n",
    "\n",
    "# manipluate data so can be used for Histograms\n",
    "lst_bg_predicted = []\n",
    "for i in df_bg['Predicted']:\n",
    "    lst_bg_predicted.append(i)\n",
    "\n",
    "lst_of_values_bg_pred_train = [arr.item() for arr in lst_bg_predicted]\n",
    "\n",
    "lst_signal_predicted = []\n",
    "for i in df_signal['Predicted']:\n",
    "    lst_signal_predicted.append(i)\n",
    "\n",
    "lst_of_values_signal_pred_train = [arr.item() for arr in lst_signal_predicted]\n",
    "\n",
    "binwidth = 0.01\n",
    "bins=np.arange(0, 1 + binwidth, binwidth)\n",
    "    \n",
    "\n",
    "#Unweighted, normalised\n",
    "plt.hist(x= lst_of_values_bg_pred_train, bins=bins, density = True, histtype = 'step', label = 'Background')\n",
    "plt.hist(x= lst_of_values_signal_pred_train, bins=bins, density = True, histtype = 'step', label = 'Signal')\n",
    "plt.title('Discriminator Curve')\n",
    "plt.xlabel('Classifier Prediction')\n",
    "plt.ylabel('Frequency')\n",
    "plt.legend()\n",
    "plt.show()\n",
    "\n",
    "#Weighted to xs_weights x 300000, need to be toproportion of full dataset too\n",
    "#normalised\n",
    "\n",
    "plt.hist(x= lst_of_values_bg_pred_train, bins=bins,  weights = df_weights[:len(lst_of_values_bg_pred_train),1]*3e5,\n",
    "         histtype = 'step', label = 'Background')\n",
    "plt.hist(x= lst_of_values_signal_pred_train, bins=bins, weights = df_weights[:len(lst_of_values_signal_pred_train),3]*3e5,\n",
    "         histtype = 'step', label = 'Signal')\n",
    "plt.title('Discriminator Curve')\n",
    "plt.xlabel('Classifier Prediction')\n",
    "plt.ylabel('Frequency')\n",
    "#plt.xlim(0.9,1)    #zoom in on 0.9 to 1 region\n",
    "#plt.ylim(0,200)    # need to zoom in\n",
    "plt.legend()\n",
    "plt.show()\n"
   ]
  },
  {
   "cell_type": "code",
   "execution_count": null,
   "metadata": {},
   "outputs": [],
   "source": [
    "a = df_weights[:len(lst_of_values_bg_pred_train),1]\n",
    "print(a)\n",
    "df_weights"
   ]
  },
  {
   "cell_type": "code",
   "execution_count": 15,
   "metadata": {},
   "outputs": [
    {
     "name": "stderr",
     "output_type": "stream",
     "text": [
      "IOPub data rate exceeded.\n",
      "The notebook server will temporarily stop sending output\n",
      "to the client in order to avoid crashing it.\n",
      "To change this limit, set the config variable\n",
      "`--NotebookApp.iopub_data_rate_limit`.\n",
      "\n",
      "Current values:\n",
      "NotebookApp.iopub_data_rate_limit=1000000.0 (bytes/sec)\n",
      "NotebookApp.rate_limit_window=3.0 (secs)\n",
      "\n"
     ]
    },
    {
     "name": "stdout",
     "output_type": "stream",
     "text": [
      "Validation loss: 0.6186148454755758\n",
      "Validation accuracy: 0.62191576\n"
     ]
    },
    {
     "data": {
      "image/png": "[encoded data removed]",
      "text/plain": [
       "<Figure size 432x288 with 2 Axes>"
      ]
     },
     "metadata": {
      "needs_background": "light"
     },
     "output_type": "display_data"
    },
    {
     "name": "stdout",
     "output_type": "stream",
     "text": [
      "Total signal processes; 1.0\n",
      "Total background processes; 1.0\n"
     ]
    }
   ],
   "source": [
    "# evaluate the model on the validation data\n",
    "\n",
    "val_loss, val_acc = model.evaluate(X_valid, y_valid)   \n",
    "print(\"Validation loss:\", val_loss)\n",
    "print(\"Validation accuracy:\", val_acc)\n",
    "\n",
    "y_pred = model.predict(X_valid)\n",
    "y_pred_round = np.round(y_pred)\n",
    "\n",
    "# compute the confusion matrix\n",
    "cm = confusion_matrix(y_valid, y_pred_round, normalize = 'true')    #,'true' ‘pred’, ‘all’},)\n",
    "#disp = ConfusionMatrixDisplay(confusion_matrix=cm)\n",
    "disp = ConfusionMatrixDisplay(confusion_matrix=cm, display_labels=['class 0', 'class 1']) # other env\n",
    "\n",
    "disp.plot()\n",
    "plt.show()\n",
    "\n",
    "print('Total signal processes;', cm[1,0]+cm[1,1])\n",
    "print('Total background processes;', cm[0,0]+cm[0,1])"
   ]
  },
  {
   "cell_type": "code",
   "execution_count": 30,
   "metadata": {},
   "outputs": [
    {
     "name": "stdout",
     "output_type": "stream",
     "text": [
      "176220\n"
     ]
    }
   ],
   "source": [
    "print(len(y_valid))"
   ]
  },
  {
   "cell_type": "code",
   "execution_count": null,
   "metadata": {},
   "outputs": [],
   "source": [
    "# #using a permutation method to see what features are important\n",
    "\n",
    "# # Get the number of features\n",
    "# n_features = X_valid.shape[1]\n",
    "\n",
    "# # Initialize an array to store feature importances\n",
    "# importances = np.zeros(n_features)\n",
    "\n",
    "# # Calculate the feature importances using the permutation feature importance method\n",
    "# # Drops each variable one at a time \n",
    "# for i in range(n_features):\n",
    "#     print(i)    #counter to check is working, should go to 40\n",
    "#     feature_name = X_valid.columns[i]\n",
    "#     X_permuted = X_valid.copy().values\n",
    "#     X_permuted[:, i] = np.random.permutation(X_permuted[:, i])\n",
    "#     y_permuted = model.predict(X_permuted)\n",
    "#     importances[i] = np.abs(y_permuted - y_pred).mean()\n",
    "#     #importances[i] = (y_permuted - y_pred).mean()    #try without a abs, see if positively or negatively affected by removal?\n",
    "#     print(f\"Permuted feature {feature_name}\")\n",
    "\n",
    "# # Normalize the feature importances\n",
    "# importances /= importances.sum()   # importances sum to 1, so can be taken as a literal how important a variable\n",
    "# # is for the model\n",
    "\n",
    "# print(importances)  # using abs\n",
    "\n",
    "# print()#\n",
    "\n",
    "# print(np.sort(importances))\n",
    "\n",
    "# # np.random.permutation randomly permutes (rearranges in a random order) the elements.\n",
    "# # In this case, it is used to shuffle the values in a single column of the X_permuted array.\n",
    "# # Guess then this variable isnt useful in the prediction"
   ]
  },
  {
   "cell_type": "code",
   "execution_count": null,
   "metadata": {},
   "outputs": [],
   "source": [
    "# importances_dict = dict(zip(importances, X_valid.columns))\n",
    "# # key:value\n",
    "\n",
    "# #print(combined_dict)\n",
    "\n",
    "# # get values for keys less than 0.01\n",
    "# values = []\n",
    "# for key, value in importances_dict.items():\n",
    "#     if key < 0.01:\n",
    "#         values.append(value)\n",
    "\n",
    "# # print the values\n",
    "# print(values)\n"
   ]
  },
  {
   "cell_type": "code",
   "execution_count": null,
   "metadata": {},
   "outputs": [],
   "source": [
    "# get indices of numbers less than 0.01\n",
    "# for i in range(len(importances)):\n",
    "#     if importances[i] < 0.05:\n",
    "#         print(X_valid.columns[i])"
   ]
  },
  {
   "cell_type": "code",
   "execution_count": 16,
   "metadata": {},
   "outputs": [
    {
     "name": "stdout",
     "output_type": "stream",
     "text": [
      "0.6219157870843264\n",
      "True\n"
     ]
    }
   ],
   "source": [
    "# Check if order of y_valid is the same order as y_pred\n",
    "# expect to be the ssame order if accuracy is same as validation accuracy above.\n",
    "\n",
    "# list of true outcomes\n",
    "y_valid_list = list(y_valid)\n",
    "\n",
    "# list of rounded predictions \n",
    "y_pred_round_list = list(y_pred_round)\n",
    "\n",
    "# list of whether these are same    \n",
    "z=[]\n",
    "for i in range(len(y_valid_list)):\n",
    "    if y_valid_list[i]==y_pred_round_list[i]:\n",
    "        z.append(1)\n",
    "    else:\n",
    "        z.append(0)\n",
    "        \n",
    "print(sum(z)/len(z))\n",
    "\n",
    "# Set a tolerance\n",
    "tol = 0.0001\n",
    "print(val_acc - tol < sum(z)/len(z) < val_acc + tol)\n",
    "\n",
    "# If true, suggests are in same order "
   ]
  },
  {
   "cell_type": "code",
   "execution_count": 17,
   "metadata": {},
   "outputs": [
    {
     "name": "stdout",
     "output_type": "stream",
     "text": [
      "[0.11451864]\n"
     ]
    },
    {
     "data": {
      "text/plain": [
       "array([0.9055333], dtype=float32)"
      ]
     },
     "execution_count": 17,
     "metadata": {},
     "output_type": "execute_result"
    }
   ],
   "source": [
    "print(min(y_pred))\n",
    "max(y_pred)"
   ]
  },
  {
   "cell_type": "code",
   "execution_count": 18,
   "metadata": {},
   "outputs": [],
   "source": [
    "data = {'True_Val': y_valid_list, 'Predicted': list(y_pred), 'Round Prediction': y_pred_round_list}\n",
    "df = pd.DataFrame(data)\n",
    "\n",
    "# Easiest to reorder df, so all 0 (background) are first and then 1's (signal)\n",
    "\n",
    "#Verified, works\n",
    "df = df.sort_values(by='True_Val')\n",
    "df\n",
    "\n",
    "# Convert arrays to scalars\n",
    "df['Round Prediction'] = df['Round Prediction'].apply(lambda x: x[0])"
   ]
  },
  {
   "cell_type": "code",
   "execution_count": 24,
   "metadata": {},
   "outputs": [],
   "source": [
    "\n",
    "#with h5py.File('data_train_2pad_RNN1_SEED10.h5', 'w') as f:\n",
    "#    f.create_dataset('True_Val', data=df['True_Val'])\n",
    "#    f.create_dataset('Predicted', data=df['Predicted'])\n",
    "#    f.create_dataset('Round_Prediction', data=df['Round Prediction'])\n",
    "\n",
    "    \n",
    "#with h5py.File('data_train_2pad_RNN1_SEED10.h5', 'r') as f:\n",
    "#    true_val = f['True_Val'][:]\n",
    "#    predicted = f['Predicted'][:]\n",
    "#    round_pred = f['Round_Prediction'][:]\n",
    "    \n",
    "\n",
    "\n",
    "#my_dict = {'True_Val': true_val.flatten(), 'Predicted': predicted.flatten(), 'Round Prediction': round_pred.flatten()}\n",
    "#df = pd.DataFrame(my_dict)"
   ]
  },
  {
   "cell_type": "code",
   "execution_count": 25,
   "metadata": {},
   "outputs": [
    {
     "data": {
      "text/html": [
       "<div>\n",
       "<style scoped>\n",
       "    .dataframe tbody tr th:only-of-type {\n",
       "        vertical-align: middle;\n",
       "    }\n",
       "\n",
       "    .dataframe tbody tr th {\n",
       "        vertical-align: top;\n",
       "    }\n",
       "\n",
       "    .dataframe thead th {\n",
       "        text-align: right;\n",
       "    }\n",
       "</style>\n",
       "<table border=\"1\" class=\"dataframe\">\n",
       "  <thead>\n",
       "    <tr style=\"text-align: right;\">\n",
       "      <th></th>\n",
       "      <th>True_Val</th>\n",
       "      <th>Predicted</th>\n",
       "      <th>Round Prediction</th>\n",
       "    </tr>\n",
       "  </thead>\n",
       "  <tbody>\n",
       "    <tr>\n",
       "      <th>0</th>\n",
       "      <td>0</td>\n",
       "      <td>0.582616</td>\n",
       "      <td>1.0</td>\n",
       "    </tr>\n",
       "    <tr>\n",
       "      <th>1</th>\n",
       "      <td>0</td>\n",
       "      <td>0.397657</td>\n",
       "      <td>0.0</td>\n",
       "    </tr>\n",
       "    <tr>\n",
       "      <th>2</th>\n",
       "      <td>0</td>\n",
       "      <td>0.448444</td>\n",
       "      <td>0.0</td>\n",
       "    </tr>\n",
       "    <tr>\n",
       "      <th>3</th>\n",
       "      <td>0</td>\n",
       "      <td>0.203843</td>\n",
       "      <td>0.0</td>\n",
       "    </tr>\n",
       "    <tr>\n",
       "      <th>4</th>\n",
       "      <td>1</td>\n",
       "      <td>0.847988</td>\n",
       "      <td>1.0</td>\n",
       "    </tr>\n",
       "    <tr>\n",
       "      <th>...</th>\n",
       "      <td>...</td>\n",
       "      <td>...</td>\n",
       "      <td>...</td>\n",
       "    </tr>\n",
       "    <tr>\n",
       "      <th>704871</th>\n",
       "      <td>0</td>\n",
       "      <td>0.516238</td>\n",
       "      <td>1.0</td>\n",
       "    </tr>\n",
       "    <tr>\n",
       "      <th>704872</th>\n",
       "      <td>0</td>\n",
       "      <td>0.129992</td>\n",
       "      <td>0.0</td>\n",
       "    </tr>\n",
       "    <tr>\n",
       "      <th>704873</th>\n",
       "      <td>0</td>\n",
       "      <td>0.406365</td>\n",
       "      <td>0.0</td>\n",
       "    </tr>\n",
       "    <tr>\n",
       "      <th>704874</th>\n",
       "      <td>1</td>\n",
       "      <td>0.651127</td>\n",
       "      <td>1.0</td>\n",
       "    </tr>\n",
       "    <tr>\n",
       "      <th>704875</th>\n",
       "      <td>0</td>\n",
       "      <td>0.376779</td>\n",
       "      <td>0.0</td>\n",
       "    </tr>\n",
       "  </tbody>\n",
       "</table>\n",
       "<p>704876 rows × 3 columns</p>\n",
       "</div>"
      ],
      "text/plain": [
       "        True_Val  Predicted  Round Prediction\n",
       "0              0   0.582616               1.0\n",
       "1              0   0.397657               0.0\n",
       "2              0   0.448444               0.0\n",
       "3              0   0.203843               0.0\n",
       "4              1   0.847988               1.0\n",
       "...          ...        ...               ...\n",
       "704871         0   0.516238               1.0\n",
       "704872         0   0.129992               0.0\n",
       "704873         0   0.406365               0.0\n",
       "704874         1   0.651127               1.0\n",
       "704875         0   0.376779               0.0\n",
       "\n",
       "[704876 rows x 3 columns]"
      ]
     },
     "execution_count": 25,
     "metadata": {},
     "output_type": "execute_result"
    }
   ],
   "source": [
    "df"
   ]
  },
  {
   "cell_type": "code",
   "execution_count": 26,
   "metadata": {},
   "outputs": [
    {
     "name": "stdout",
     "output_type": "stream",
     "text": [
      "0.6207034996226286\n"
     ]
    }
   ],
   "source": [
    "# Check that they maintained order in the df:\n",
    "\n",
    "lst=[]\n",
    "for i in range(len(df)):\n",
    "    if df['True_Val'][i] == df['Round Prediction'][i]:\n",
    "        lst.append(1)\n",
    "    else:\n",
    "        (lst.append(0))\n",
    "print(sum(lst)/len(lst))\n",
    "\n",
    "# Set a tolerance\n",
    "tol = 0.0001\n",
    "#print(val_acc - tol < sum(lst)/len(lst) < val_acc + tol)\n",
    "\n",
    "# If true, suggests are in same order "
   ]
  },
  {
   "cell_type": "code",
   "execution_count": 27,
   "metadata": {},
   "outputs": [
    {
     "name": "stdout",
     "output_type": "stream",
     "text": [
      "323027\n",
      "There is 142540 signal in the set\n",
      "The model predicted 180487 more ones than in reality\n",
      "381849\n",
      "There is 562336 background in the set\n",
      "The model predicted -180487 more ones than in reality\n"
     ]
    }
   ],
   "source": [
    "pred_one = df['Round Prediction'].value_counts()[1.0]\n",
    "ones_in_set = df['True_Val'].value_counts()[1]\n",
    "\n",
    "# Print the result\n",
    "print(pred_one)\n",
    "print('There is', ones_in_set, 'signal in the set')\n",
    "print('The model predicted',pred_one-ones_in_set ,'more ones than in reality')\n",
    "\n",
    "\n",
    "pred_zeros = df['Round Prediction'].value_counts()[0.0]\n",
    "zeros_in_set = df['True_Val'].value_counts()[0]\n",
    "\n",
    "# Print the result\n",
    "print(pred_zeros)\n",
    "print('There is', zeros_in_set, 'background in the set')   #agrees w/ confusion matrix\n",
    "print('The model predicted', pred_zeros-zeros_in_set,'more ones than in reality')\n"
   ]
  },
  {
   "cell_type": "markdown",
   "metadata": {},
   "source": [
    "now first half of df is background, other half is signal\n",
    "\n",
    "PROBLEM, TEST AND VALID WAS SPLIT RANDOMLY, SO NOT ACTUALLY SAME AMOUNT OF 0's AND 1's\n",
    "\n",
    "Not a problem, but need to check if should be like this\n",
    "\n",
    " A couple of options, I could:\n",
    "\n",
    "Deal with it, and let there be uneven amounts of 1's and 0's\n",
    "\n",
    "OR\n",
    "\n",
    "Go back to test_train_split, and apply individually to signal and background and then sum them?\n",
    "\n",
    "This would guarantee 50/50\n"
   ]
  },
  {
   "cell_type": "code",
   "execution_count": 22,
   "metadata": {},
   "outputs": [
    {
     "data": {
      "image/png": "[encoded data removed]",
      "text/plain": [
       "<Figure size 432x288 with 1 Axes>"
      ]
     },
     "metadata": {
      "needs_background": "light"
     },
     "output_type": "display_data"
    },
    {
     "data": {
      "image/png": "[encoded data removed]",
      "text/plain": [
       "<Figure size 432x288 with 1 Axes>"
      ]
     },
     "metadata": {
      "needs_background": "light"
     },
     "output_type": "display_data"
    }
   ],
   "source": [
    "# Training Discriminator curves\n",
    "\n",
    "#Unweighted, normalised\n",
    "plt.hist(x= lst_of_values_bg_pred_train, bins=bins, density = True, histtype = 'step', label = 'Background')\n",
    "plt.hist(x= lst_of_values_signal_pred_train, bins=bins, density = True, histtype = 'step', label = 'Signal')\n",
    "plt.title('TRAINING - Discriminator Curve')\n",
    "plt.xlabel('Classifier Prediction')\n",
    "plt.ylabel('Frequency')\n",
    "plt.legend()\n",
    "plt.show()\n",
    "\n",
    "#Weighted to xs_weights x 300000, need to be toproportion of full dataset too\n",
    "#normalised\n",
    "\n",
    "\n",
    "plt.hist(x= lst_of_values_bg_pred_train, bins=bins,  weights = df_weights[:len(lst_of_values_bg_pred_train),1]*3e5,\n",
    "         histtype = 'step', label = 'Background')\n",
    "plt.hist(x= lst_of_values_signal_pred_train, bins=bins, weights = df_weights[:len(lst_of_values_signal_pred_train),3]*3e5,\n",
    "         histtype = 'step', label = 'Signal')\n",
    "plt.title('TRAINING - Discriminator Curve')\n",
    "plt.xlabel('Classifier Prediction')\n",
    "plt.ylabel('Frequency')\n",
    "plt.xlim(0.8,1)    #zoom in on 0.9 to 1 region\n",
    "plt.ylim(0,500)    # need to zoom in\n",
    "plt.legend()\n",
    "plt.show()\n"
   ]
  },
  {
   "cell_type": "code",
   "execution_count": 23,
   "metadata": {},
   "outputs": [
    {
     "data": {
      "image/png": "[encoded data removed]",
      "text/plain": [
       "<Figure size 432x288 with 1 Axes>"
      ]
     },
     "metadata": {
      "needs_background": "light"
     },
     "output_type": "display_data"
    },
    {
     "data": {
      "image/png": "[encoded data removed]",
      "text/plain": [
       "<Figure size 432x288 with 1 Axes>"
      ]
     },
     "metadata": {
      "needs_background": "light"
     },
     "output_type": "display_data"
    },
    {
     "data": {
      "image/png": "[encoded data removed]",
      "text/plain": [
       "<Figure size 432x288 with 1 Axes>"
      ]
     },
     "metadata": {
      "needs_background": "light"
     },
     "output_type": "display_data"
    }
   ],
   "source": [
    "#Split df into signal and bg\n",
    "\n",
    "df_bg = df[df['True_Val'] == 0]\n",
    "df_signal = df[df['True_Val'] == 1]\n",
    "\n",
    "# Make Validation discriminator curves, Histogram\n",
    "\n",
    "# manipluate data so can be used for Histograms\n",
    "lst_bg_predicted = []\n",
    "for i in df_bg['Predicted']:\n",
    "    lst_bg_predicted.append(i)\n",
    "\n",
    "lst_of_values_bg_pred = [arr.item() for arr in lst_bg_predicted]\n",
    "\n",
    "lst_signal_predicted = []\n",
    "for i in df_signal['Predicted']:\n",
    "    lst_signal_predicted.append(i)\n",
    "\n",
    "lst_of_values_signal_pred = [arr.item() for arr in lst_signal_predicted]\n",
    "\n",
    "binwidth = 0.01\n",
    "bins=np.arange(0, 1 + binwidth, binwidth)\n",
    "\n",
    "#Unweighted, normalised\n",
    "plt.hist(x= lst_of_values_bg_pred, bins=bins, density = True, histtype = 'step', label = 'Background')\n",
    "plt.hist(x= lst_of_values_signal_pred, bins=bins, density = True, histtype = 'step', label = 'Signal')\n",
    "plt.title('Discriminator Curve')\n",
    "plt.xlabel('Classifier Prediction')\n",
    "plt.ylabel('Frequency')\n",
    "plt.legend()\n",
    "plt.show()\n",
    "\n",
    "#Weighted to xs_weights x 300000, need to be toproportion of full dataset too\n",
    "#normalised\n",
    "plt.hist(x= lst_of_values_bg_pred, bins=bins,  weights = df_weights[:len(lst_of_values_bg_pred),1]*3e5,\n",
    "         histtype = 'step', label = 'Background')\n",
    "plt.hist(x= lst_of_values_signal_pred, bins=bins, weights = df_weights[:len(lst_of_values_signal_pred),3]*3e5,\n",
    "         histtype = 'step', label = 'Signal')\n",
    "plt.title('Discriminator Curve')\n",
    "plt.xlabel('Classifier Prediction')\n",
    "plt.ylabel('Frequency')\n",
    "#plt.xlim(0.9,1)    #zoom in on 0.9 to 1 region\n",
    "#plt.ylim(0,200)    # need to zoom in\n",
    "plt.legend()\n",
    "plt.show()\n",
    "    \n",
    "plt.hist(x= lst_of_values_bg_pred, bins=bins,  weights = df_weights[:len(lst_of_values_bg_pred),1]*3e5,\n",
    "         histtype = 'step', label = 'Background')\n",
    "plt.hist(x= lst_of_values_signal_pred, bins=bins, weights = df_weights[:len(lst_of_values_signal_pred),3]*3e5,\n",
    "         histtype = 'step', label = 'Signal')\n",
    "plt.title('Discriminator Curve')\n",
    "plt.xlabel('Classifier Prediction')\n",
    "plt.ylabel('Frequency')\n",
    "plt.xlim(0.8,1)    #zoom in on 0.9 to 1 region\n",
    "plt.ylim(0,200)    # need to zoom in\n",
    "plt.legend()\n",
    "plt.show()\n",
    "\n",
    "\n",
    "#start dropping bins for signifucance part, calc Z and plot, should get curve that peaks"
   ]
  },
  {
   "cell_type": "code",
   "execution_count": 24,
   "metadata": {},
   "outputs": [
    {
     "name": "stdout",
     "output_type": "stream",
     "text": [
      "num_bg_events =  43553.76568984985\n",
      "num_signal_events =  873.3336181063205\n"
     ]
    },
    {
     "data": {
      "image/png": "[encoded data removed]",
      "text/plain": [
       "<Figure size 432x288 with 1 Axes>"
      ]
     },
     "metadata": {
      "needs_background": "light"
     },
     "output_type": "display_data"
    }
   ],
   "source": [
    "#Calculate number of events\n",
    "\n",
    "n_bg, bins_bg, patches_bg = plt.hist(x= lst_of_values_bg_pred, bins=bins,  weights = df_weights[:len(lst_of_values_bg_pred),1]*3e5,\n",
    "         histtype = 'step', label = 'Background')\n",
    "n_signal, bins_signal, patches_signal = plt.hist(x= lst_of_values_signal_pred, bins=bins, weights = df_weights[:len(lst_of_values_signal_pred),3]*3e5,\n",
    "         histtype = 'step', label = 'Signal')\n",
    "\n",
    "# calculate the number of events\n",
    "num_bg_events = np.sum(n_bg)\n",
    "num_signal_events = np.sum(n_signal)\n",
    "\n",
    "print('num_bg_events = ', num_bg_events)\n",
    "print('num_signal_events = ', num_signal_events)"
   ]
  },
  {
   "cell_type": "code",
   "execution_count": null,
   "metadata": {},
   "outputs": [],
   "source": [
    "#plot ROC curves\n",
    "\n",
    "y_true = df['True_Val']\n",
    "y_score = df['Predicted']\n",
    "\n",
    "# calculate the false positive rate and true positive rate\n",
    "fpr, tpr, thresholds = roc_curve(y_true, y_score)\n",
    "\n",
    "# calculate the area under the ROC curve\n",
    "roc_auc = auc(fpr, tpr)\n",
    "\n",
    "# plot the ROC curve\n",
    "plt.plot(fpr, tpr, color='darkorange', lw=2, label='ROC curve (AUC = %0.2f)' % roc_auc)\n",
    "plt.plot([0, 1], [0, 1], color='navy', lw=2, linestyle='--')\n",
    "plt.xlim([0.0, 1.0])\n",
    "plt.ylim([0.0, 1.05])\n",
    "plt.xlabel('False Positive Rate')\n",
    "plt.ylabel('True Positive Rate')\n",
    "plt.title('Receiver Operating Characteristic')\n",
    "plt.legend(loc=\"lower right\")\n",
    "plt.show()\n",
    "\n",
    "print(roc_auc)  \n",
    "\n",
    "print(len(thresholds))\n",
    "\n"
   ]
  },
  {
   "cell_type": "code",
   "execution_count": null,
   "metadata": {},
   "outputs": [],
   "source": [
    "data_roc = {'thresholds': thresholds, 'tpr': tpr, 'fpr': fpr, 'tpr/sqrt(fpr)':tpr/np.sqrt(fpr)}\n",
    "df_roc = pd.DataFrame(data_roc)\n",
    "#df_roc\n",
    "df_roc.head(20)\n",
    "plt.plot(df_roc['thresholds'][3:], df_roc['tpr/sqrt(fpr)'][3:])\n",
    "plt.show()\n",
    "max(df_roc['tpr/sqrt(fpr)'][3:])"
   ]
  },
  {
   "cell_type": "code",
   "execution_count": null,
   "metadata": {},
   "outputs": [],
   "source": [
    "# Plot precision recall curve\n",
    "from sklearn.metrics import average_precision_score\n",
    "\n",
    "y_true = df['True_Val']\n",
    "y_score = df['Predicted']\n",
    "\n",
    "# calculate the precision-recall curve\n",
    "precision, recall, _ = precision_recall_curve(y_true, y_score)\n",
    "\n",
    "# plot the precision-recall curve\n",
    "plt.step(recall, precision, color='b', alpha=0.2, where='post')\n",
    "plt.fill_between(recall, precision, step='post', alpha=0.2, color='b')\n",
    "plt.xlabel('Recall')\n",
    "plt.ylabel('Precision')\n",
    "plt.ylim([0.0, 1.05])\n",
    "plt.xlim([0.0, 1.0])\n",
    "plt.title('Precision-Recall Curve')\n",
    "plt.show()\n",
    "\n",
    "AUC = average_precision_score(y_true, y_score)   \n",
    "print(AUC)"
   ]
  },
  {
   "cell_type": "code",
   "execution_count": null,
   "metadata": {},
   "outputs": [],
   "source": [
    "df['True_Val']\n",
    "x = df['Predicted']\n",
    "print(x)"
   ]
  },
  {
   "cell_type": "markdown",
   "metadata": {},
   "source": [
    "# Significance\n",
    "\n",
    "$$ Z = \\frac{s}{\\sqrt(B+\\sigma_s^{2})}  $$\n",
    "\n",
    "s = number of signal\n",
    "\n",
    "B = number of background\n",
    "\n",
    "$\\sigma_s$ = statistical uncertainty (~10% of B)"
   ]
  },
  {
   "cell_type": "code",
   "execution_count": null,
   "metadata": {},
   "outputs": [],
   "source": [
    "num_bg_events = np.sum(n_bg)\n",
    "num_signal_events = np.sum(n_signal)\n",
    "\n",
    "print(num_bg_events)\n",
    "print(num_signal_events)\n",
    "\n",
    "z = np.empty(len(bins_bg))\n",
    "for i in range(len(bins_bg)):\n",
    "    num_bg_events = np.sum(n_bg[i:])\n",
    "    num_signal_events = np.sum(n_signal[i:])\n",
    "    #print(num_signal_events)\n",
    "    z_i = num_signal_events / np.sqrt(num_bg_events)\n",
    "    z[i] = z_i\n",
    "#print(z)\n",
    "\n",
    "\n",
    "x = np.linspace(0,1,len(z))\n",
    "plt.plot(bins_bg,z[:])\n",
    "#plt.xlim([0, 1.0])\n",
    "#plt.ylim([0.0, 1.05])\n",
    "plt.xlabel('Threshold')\n",
    "plt.ylabel('Significance, z')\n",
    "plt.title('Significance curve with no sigma')\n",
    "plt.show()\n",
    "\n",
    "\n",
    "mask = z < 1e10     #just so doesnt include infs\n",
    "index_of_max = np.argmax(z[mask])\n",
    "max_value = np.amax(z[mask])\n",
    "\n",
    "\n",
    "#index_of_max = np.nanargmax(z[:])\n",
    "#max_value = np.nanmax(z[:])     # 1 point before last, should probs generalise so that can deal w inf etc \n",
    "max_bin = bins_bg[index_of_max]\n",
    "print(max_bin)\n",
    "print(index_of_max)\n",
    "print(max_value)\n",
    "\n",
    "# significance = sigmna, 6.5 signma, 5 sigma"
   ]
  },
  {
   "cell_type": "code",
   "execution_count": null,
   "metadata": {},
   "outputs": [],
   "source": [
    "# Confusion matricies with new threshold at max significance\n",
    "\n",
    "# calculates prediction values\n",
    "y_pred = model.predict(X_valid) \n",
    "\n",
    "significance_threshold = max_bin\n",
    "y_pred_threshold = np.where(y_pred >= significance_threshold, 1, 0)\n",
    "\n",
    "# compute the confusion matrix\n",
    "cm = confusion_matrix(y_valid, y_pred_threshold, normalize = 'true')    #,'true' ‘pred’, ‘all’},)\n",
    "disp = ConfusionMatrixDisplay(confusion_matrix=cm)   \n",
    "disp.plot()\n",
    "plt.show()\n",
    "\n",
    "print('Total signal processes;', cm[1,0]+cm[1,1])\n",
    "print('Total background processes;', cm[0,0]+cm[0,1])"
   ]
  },
  {
   "cell_type": "code",
   "execution_count": null,
   "metadata": {},
   "outputs": [],
   "source": [
    "# See weight is const basically, so just use a value\n",
    "\n",
    "semi_xs_weight = df2['xs_weight']   # plot to show is wrong, at least 1 -ive val (is this right?)\n",
    "signal_xs_weight = df4['xs_weight'] \n",
    "#plt.hist(x=semi_xs_weight, bins = 10, weights = df2.xs_weight, density = True, histtype = 'step', label = 'Background')\n",
    "plt.hist(x=signal_xs_weight, bins = 10, weights = df4.xs_weight, density = True, histtype = 'step', label = 'Signal')\n",
    "plt.title('xs_weight')\n",
    "plt.legend()\n",
    "plt.show() \n",
    "\n",
    "semi_xs_weight = df2['xs_weight']   # plot to show is wrong, at least 1 -ive val (is this right?)\n",
    "signal_xs_weight = df4['xs_weight'] \n",
    "plt.hist(x=semi_xs_weight, bins = 10, weights = df2.xs_weight, density = True, histtype = 'step', label = 'Background')\n",
    "#plt.hist(x=signal_xs_weight, bins = 10, weights = df4.xs_weight, density = True, histtype = 'step', label = 'Signal')\n",
    "plt.title('xs_weight')\n",
    "plt.legend()\n",
    "plt.show() "
   ]
  },
  {
   "cell_type": "code",
   "execution_count": null,
   "metadata": {},
   "outputs": [],
   "source": [
    "#Also, to make sure we get the event weights correct, can each of you try and produce a number for the \n",
    "#total number of events you obtain when using all events in the ttH125 and ttbar semileptonic dataframes,\n",
    "#normalized to 300/fb?\n",
    "#Hopefully you all arrive at the same result.\n",
    "\n",
    "# Sligthly confused, does x_s weight normalised already entail no. events,\n",
    "# So xs_weight * 300,000 is no events\n",
    "\n",
    "#Or\n",
    "\n",
    "# Are we meant to use the equation you showed us last week and work out what N should be\n",
    "\n",
    "#Or\n",
    "\n",
    "# do both and compare them as should be same?\n",
    "\n",
    "bg_weight = semi_xs_weight[1]\n",
    "signal_weight = signal_xs_weight[1]\n",
    "\n",
    "# total number SL\n",
    "sl_tot_events = bg_weight * 300000      # weight per pb to 300fb\n",
    "\n",
    "# total number signal\n",
    "signal_tot_events = signal_weight * 300000\n",
    "\n",
    "print('Total number of semileptonic events is {}'.format(sl_tot_events))\n",
    "print('Total number of ttH125 events is {}'.format(signal_tot_events))\n",
    "print()\n",
    "\n",
    "sl_events = 300000 * 500\n",
    "signal_events = 300000 * 0.5\n",
    "\n",
    "print('Total number of semileptonic events is {}'.format(sl_events)) #150000k\n",
    "print('Total number of ttH125 events is {}'.format(signal_events))   #150k\n",
    "#tot_events = "
   ]
  },
  {
   "cell_type": "markdown",
   "metadata": {},
   "source": [
    "# Q \n",
    "Can you also overlay the discriminator distributions for the test data \n",
    "(normalized to the same area) to check if training and testing samples agree?\n",
    "# A\n",
    "not sure what is meant, so show code for the one that I did do. I did it for validation data, so when he says this does hr mean my data is test or training\n",
    "\n",
    "# Q \n",
    "If you use all the events in the dataframes and weight each entry by xs_weight you should\n",
    "get the expected number of events for 1 /pb. Is everything in the plot below already \n",
    "multiplied by 300000 to get the event yields expected for 300/fb?\n",
    "What exactly did you use?\n",
    "\n",
    "# A\n",
    "Yes, everything in the weighted plot is multiplied by 300000, show what I used as I am not sure if thats right\n",
    "\n",
    "# Q\n",
    "If you integrate the weighted histograms, how many events do you obtain in each histogram? \n",
    "\n",
    "# A\n",
    "Bit confused, why integrate the histograms when can just see how much data used, is it because this is weighted so it will give the number of events we actually expect overall in 300000 fb^-1, makes sense.\n",
    "#Did 3 ways, not really clear what was right, way I think rn is each bin is a number of events, so just need to add number events per bin, dont need to do anything regarding the width of the bin? But then an integral is the area so that does mean bin size matters, but not really sure, bc obvs sum bin size = 1\n",
    "#Think first one is correct\n",
    "\n",
    "\n",
    "# Q \n",
    "Next would be to plot ROC curves and precision-recall which have slightly different meaning.\n",
    "\n",
    "# A\n",
    "So does a ROC curve work out where the best threshold is for us, so what is significance. Also should a ROC curve be weighted\n",
    "\n",
    "# Q \n",
    "from the weighted plot, make a plot of Z = S/sqrt(B) as a function of the cut on the discriminator value, where S and B are the number of events (i.e. the integral) of the histogram \n",
    "that have discriminator value above the cut you chose. You may need to “zoom in” on the region >0.9 \n",
    "to see that it falls off again as you approach 1"
   ]
  },
  {
   "cell_type": "code",
   "execution_count": null,
   "metadata": {},
   "outputs": [],
   "source": [
    "print(df1['xs_weight'])\n",
    "plt.hist(df1['xs_weight'])"
   ]
  },
  {
   "cell_type": "code",
   "execution_count": null,
   "metadata": {},
   "outputs": [],
   "source": [
    "print(df2['xs_weight'])\n",
    "plt.hist(df2['xs_weight'])"
   ]
  },
  {
   "cell_type": "code",
   "execution_count": null,
   "metadata": {},
   "outputs": [],
   "source": [
    "print(df3['xs_weight'])\n",
    "plt.hist(df3['xs_weight'])"
   ]
  },
  {
   "cell_type": "code",
   "execution_count": null,
   "metadata": {},
   "outputs": [],
   "source": [
    "print(df4['xs_weight'])\n",
    "plt.hist(df4['xs_weight'])"
   ]
  },
  {
   "cell_type": "code",
   "execution_count": null,
   "metadata": {},
   "outputs": [],
   "source": [
    "print('TTToHadronic weight: ', df1['xs_weight'][10000])\n",
    "print('TTToSL weight: ', df2['xs_weight'][0])\n",
    "print('TTL2NU weight: ', df3['xs_weight'][0])\n",
    "print('TTH125 weight: ', df4['xs_weight'][0])"
   ]
  },
  {
   "cell_type": "markdown",
   "metadata": {},
   "source": [
    "# Updates from 08/02 grind\n",
    "- I trained on full dataset and got like 10% more accuracy, actually a v good now, loss also down a fair bit, 0.1\n",
    "\n",
    "- But does take like 10 mins to run training data\n",
    "\n",
    "- Actually, not that good\n"
   ]
  }
 ],
 "metadata": {
  "kernelspec": {
   "display_name": "Python 3",
   "language": "python",
   "name": "python3"
  },
  "language_info": {
   "codemirror_mode": {
    "name": "ipython",
    "version": 3
   },
   "file_extension": ".py",
   "mimetype": "text/x-python",
   "name": "python",
   "nbconvert_exporter": "python",
   "pygments_lexer": "ipython3",
   "version": "3.7.3"
  }
 },
 "nbformat": 4,
 "nbformat_minor": 4
}
