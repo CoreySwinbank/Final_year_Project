{
 "cells": [
  {
   "cell_type": "code",
   "execution_count": 1,
   "metadata": {},
   "outputs": [],
   "source": [
    "import numpy as np\n",
    "import pandas as pd \n",
    "from sklearn.model_selection import train_test_split\n",
    "from sklearn.preprocessing import StandardScaler\n",
    "from tensorflow import keras\n",
    "#from tensorflow.keras.utils import to_categorical ## specific  one I wanna use\n",
    "from tensorflow.keras import utils\n",
    "#from tensorflow.keras.layers import Input, Dense, Dropout  # Specific ones I wanna use, can just import whole module\n",
    "from tensorflow.keras import layers \n",
    "from tensorflow.keras.models import Model\n",
    "import h5py\n",
    "#import tables\n",
    "import matplotlib.pyplot as plt\n",
    "#import tensorflow as tf\n",
    "from sklearn.metrics import confusion_matrix, ConfusionMatrixDisplay\n",
    "from sklearn.metrics import plot_confusion_matrix\n",
    "from sklearn.metrics import roc_curve, auc\n",
    "from sklearn.metrics import precision_recall_curve\n",
    "from sklearn.utils.class_weight import compute_class_weight\n",
    "\n",
    "\n",
    "from sklearn.model_selection import GridSearchCV\n",
    "from tensorflow.keras.wrappers.scikit_learn import KerasClassifier\n",
    "\n",
    "from tensorflow.keras.optimizers import Adam"
   ]
  },
  {
   "cell_type": "code",
   "execution_count": 2,
   "metadata": {},
   "outputs": [
    {
     "data": {
      "text/plain": [
       "True"
      ]
     },
     "execution_count": 2,
     "metadata": {},
     "output_type": "execute_result"
    }
   ],
   "source": [
    "import tensorflow as tf\n",
    "gpu_available = tf.test.is_gpu_available()\n",
    "gpu_available"
   ]
  },
  {
   "cell_type": "code",
   "execution_count": 15,
   "metadata": {},
   "outputs": [
    {
     "data": {
      "text/plain": [
       "4"
      ]
     },
     "execution_count": 15,
     "metadata": {},
     "output_type": "execute_result"
    }
   ],
   "source": [
    "x=1\n",
    "y=3\n",
    "x+y"
   ]
  },
  {
   "cell_type": "code",
   "execution_count": 4,
   "metadata": {},
   "outputs": [],
   "source": [
    "# Load the HDF5 file\n",
    "with h5py.File('DF_event_based.h5', 'r') as hf:\n",
    "    # Access the dataset by name and load it into a pandas dataframe\n",
    "    df_total = pd.DataFrame(hf['dataset_name'][:])\n",
    "\n",
    "with h5py.File('4_event_types_weights.h5', 'r') as f:\n",
    "    df_weights = f['array'][:]\n",
    "\n",
    "with h5py.File('predictions_16pad_128_50epoch_4Layers_SEED10.h5', 'r') as f:\n",
    "    predicted_val = f['val_preds'][:]\n",
    "    predicted_train = f['train_preds'][:]\n",
    "\n",
    "with h5py.File('4_event_types_labels.h5', 'r') as f:\n",
    "    df_labels = f['array'][:]"
   ]
  },
  {
   "cell_type": "code",
   "execution_count": 5,
   "metadata": {},
   "outputs": [],
   "source": [
    "# df's now have no titles, but doesnt matter for the model obvs.\n",
    "df_total = df_total.rename(columns={df_total.columns[0]: 'dataset'})\n",
    "#df_total"
   ]
  },
  {
   "cell_type": "code",
   "execution_count": 6,
   "metadata": {},
   "outputs": [],
   "source": [
    "df_Xvars = df_total.drop(['dataset'], axis = 1, inplace = False)   #Need to remove dataset (prediction) column\n",
    "#df_Xvars"
   ]
  },
  {
   "cell_type": "code",
   "execution_count": 7,
   "metadata": {},
   "outputs": [
    {
     "name": "stdout",
     "output_type": "stream",
     "text": [
      "There are [10] variables in this model\n",
      "The dataset has 881096 processes\n",
      "[10]\n"
     ]
    }
   ],
   "source": [
    "x = df_Xvars.values\n",
    "y = df_labels\n",
    "\n",
    "X_train, X_valid, y_train, y_valid = train_test_split(x, y, train_size=0.8, test_size=0.2,\n",
    "                                                      random_state=10)\n",
    "\n",
    "input_shape = [X_train.shape[1]]\n",
    "print('There are', input_shape, 'variables in this model')\n",
    "print('The dataset has', len(y), 'processes')\n",
    "print(input_shape)"
   ]
  },
  {
   "cell_type": "code",
   "execution_count": null,
   "metadata": {},
   "outputs": [],
   "source": [
    "# print(predicted_train.shape)\n",
    "# print(predicted_val.shape)\n",
    "# print(X_train.shape)\n",
    "# print(X_valid.shape)"
   ]
  },
  {
   "cell_type": "code",
   "execution_count": 8,
   "metadata": {},
   "outputs": [
    {
     "name": "stdout",
     "output_type": "stream",
     "text": [
      "(704876, 10)\n",
      "(176220, 10)\n",
      "[5. 6. 6. ... 2. 5. 5.]\n",
      "[[0.61670357]\n",
      " [0.4636152 ]\n",
      " [0.50274837]\n",
      " ...\n",
      " [0.20900938]\n",
      " [0.7831093 ]\n",
      " [0.48962942]]\n"
     ]
    }
   ],
   "source": [
    "# X_train = np.hstack((X_train, predicted_train))\n",
    "# X_valid = np.hstack((X_valid, predicted_val))\n",
    "print(X_train.shape)\n",
    "print(X_valid.shape)\n",
    "print(X_train[:,-1])\n",
    "print(predicted_train)\n",
    "\n",
    "input_shape = [X_train.shape[1]] "
   ]
  },
  {
   "cell_type": "code",
   "execution_count": null,
   "metadata": {
    "scrolled": true
   },
   "outputs": [
    {
     "name": "stdout",
     "output_type": "stream",
     "text": [
      "Fitting 5 folds for each of 30 candidates, totalling 150 fits\n",
      "[CV] activation=relu, batch_size=32, dropout_rate=0.2, learning_rate=0.001, num_hidden_layers=2, optimizer=adam, units=32 \n"
     ]
    },
    {
     "name": "stderr",
     "output_type": "stream",
     "text": [
      "[Parallel(n_jobs=1)]: Using backend SequentialBackend with 1 concurrent workers.\n"
     ]
    },
    {
     "name": "stdout",
     "output_type": "stream",
     "text": [
      "Train on 563900 samples\n",
      "Epoch 1/20\n",
      "563900/563900 [==============================] - 97s 171us/sample - loss: 0.5955 - accuracy: 0.6816\n",
      "Epoch 2/20\n",
      "563900/563900 [==============================] - 88s 157us/sample - loss: 0.5872 - accuracy: 0.6938\n",
      "Epoch 3/20\n",
      "563900/563900 [==============================] - 92s 163us/sample - loss: 0.5864 - accuracy: 0.6940\n",
      "Epoch 4/20\n",
      "563900/563900 [==============================] - 83s 147us/sample - loss: 0.5856 - accuracy: 0.6933\n",
      "Epoch 5/20\n",
      "563900/563900 [==============================] - 83s 148us/sample - loss: 0.5852 - accuracy: 0.6940\n",
      "Epoch 6/20\n",
      "563900/563900 [==============================] - 84s 149us/sample - loss: 0.5846 - accuracy: 0.6938\n",
      "Epoch 7/20\n",
      "563900/563900 [==============================] - 84s 149us/sample - loss: 0.5847 - accuracy: 0.6940\n",
      "Epoch 8/20\n",
      "563900/563900 [==============================] - 85s 151us/sample - loss: 0.5841 - accuracy: 0.6942\n",
      "Epoch 9/20\n",
      "563900/563900 [==============================] - 85s 150us/sample - loss: 0.5845 - accuracy: 0.6935\n",
      "Epoch 10/20\n",
      "563900/563900 [==============================] - 83s 147us/sample - loss: 0.5842 - accuracy: 0.6934\n",
      "Epoch 11/20\n",
      "324608/563900 [================>.............] - ETA: 35s - loss: 0.5839 - accuracy: 0.6958"
     ]
    }
   ],
   "source": [
    "from tensorflow.keras.layers import Dense, Dropout, BatchNormalization\n",
    "from tensorflow.keras.models import Sequential\n",
    "from tensorflow.keras.optimizers import Adam\n",
    "from tensorflow.keras.wrappers.scikit_learn import KerasClassifier\n",
    "from sklearn.model_selection import GridSearchCV\n",
    "from sklearn.utils.class_weight import compute_class_weight\n",
    "\n",
    "def create_model(num_hidden_layers=1, units=256, learning_rate=0.001, dropout_rate=0.2, optimizer='adam', activation='relu'):\n",
    "    model = Sequential([\n",
    "        BatchNormalization(input_shape=input_shape)\n",
    "    ])\n",
    "\n",
    "    for i in range(num_hidden_layers):\n",
    "        model.add(Dense(units=units, activation=activation))\n",
    "        model.add(BatchNormalization())\n",
    "        model.add(Dropout(rate=dropout_rate))\n",
    "\n",
    "    model.add(Dense(units=1, activation='sigmoid'))\n",
    "\n",
    "    optimizer = Adam(learning_rate=learning_rate)\n",
    "\n",
    "    model.compile(\n",
    "        optimizer=optimizer,\n",
    "        loss='binary_crossentropy',\n",
    "        metrics=['accuracy'],\n",
    "    )\n",
    "\n",
    "    return model\n",
    "\n",
    "\n",
    "# Define the parameter grid\n",
    "param_grid = {\n",
    "    'batch_size': [32,128,256],\n",
    "    'dropout_rate': [0.2],\n",
    "    'optimizer': ['adam'],\n",
    "    'learning_rate': [0.001],\n",
    "    'activation': ['relu'],\n",
    "    'num_hidden_layers': [2, 3],\n",
    "    'units': [32, 64, 128,256, 512]\n",
    "}\n",
    "\n",
    "\n",
    "# Define a wrapper function for the MLP NN model\n",
    "model = KerasClassifier(build_fn=create_model, epochs=20, num_hidden_layers=1, units=256)\n",
    "\n",
    "\n",
    "# Create a GridSearchCV object\n",
    "grid_search = GridSearchCV(\n",
    "    estimator=model,\n",
    "    param_grid=param_grid,\n",
    "    scoring='accuracy',\n",
    "    cv=5,\n",
    "    verbose=2\n",
    ")    \n",
    "\n",
    "class_weights = compute_class_weight('balanced', np.unique(y_train), y_train)\n",
    "class_weight = {0: class_weights[0], 1: class_weights[1]} \n",
    "\n",
    "# Fit the GridSearchCV object\n",
    "grid_search.fit(X_train, y_train, class_weight=class_weight)\n",
    "\n",
    "# Evaluate the performance of the best model\n",
    "best_params = grid_search.best_params_\n",
    "best_model = create_model(\n",
    "    num_hidden_layers=best_params['num_hidden_layers'],\n",
    "    learning_rate=best_params['learning_rate'],\n",
    "    dropout_rate=best_params['dropout_rate'],\n",
    "    optimizer=best_params['optimizer'],\n",
    "    activation=best_params['activation']\n",
    ")\n",
    "\n",
    "early_stopping = keras.callbacks.EarlyStopping(\n",
    "    monitor='val_loss',\n",
    "    patience=15,\n",
    "    min_delta=0.001,\n",
    "    restore_best_weights=True\n",
    ")\n",
    "\n",
    "history = best_model.fit(\n",
    "    X_train,\n",
    "    y_train,\n",
    "    validation_data=(X_valid, y_valid),\n",
    "    batch_size=best_params['batch_size'],\n",
    "    epochs=200,\n",
    "    callbacks=[early_stopping],\n",
    "    class_weight=class_weight\n",
    ")\n",
    "\n",
    "history_df = pd.DataFrame(history.history)\n",
    "history_df.loc[:, ['loss', 'val_loss']].plot(title=\"Cross-entropy\")\n",
    "history_df.loc[:, ['accuracy', 'val_accuracy']].plot(title=\"Accuracy\")\n",
    "\n",
    "print((\"Best Validation Loss: {:0.4f}\" +\\\n",
    "      \"\\nBest Validation Accuracy: {:0.4f}\")\\\n",
    "      .format(history_df['val_loss'].min(), \n",
    "              history_df['val_accuracy'].max()))\n",
    "\n",
    "# Generate some accuracy metrics\n",
    "score = best_model.evaluate(X_valid, y_valid)\n",
    "print('Validation accuracy:', score[1])\n",
    "\n",
    "# summarize results\n",
    "print(\"Best: %f using %s\" % (grid_search.best_score_, grid_search.best_params_))\n",
    "means = grid_search.cv_results_['mean_test_score']\n",
    "stds = grid_search.cv_results_['std_test_score']\n",
    "params = grid_search.cv_results_['params']\n",
    "for mean, stdev, param in zip(means, stds, params):\n",
    "    print(\"%f (%f) with: %r\" % (mean, stdev, param))\n"
   ]
  },
  {
   "cell_type": "code",
   "execution_count": 17,
   "metadata": {
    "scrolled": false
   },
   "outputs": [
    {
     "name": "stdout",
     "output_type": "stream",
     "text": [
      "Train on 704876 samples, validate on 176220 samples\n",
      "Epoch 1/200\n",
      "704876/704876 [==============================] - 29s 41us/sample - loss: 0.5877 - accuracy: 0.6912 - val_loss: 0.5717 - val_accuracy: 0.7054\n",
      "Epoch 2/200\n",
      "704876/704876 [==============================] - 28s 40us/sample - loss: 0.5775 - accuracy: 0.7032 - val_loss: 0.5718 - val_accuracy: 0.7248\n",
      "Epoch 3/200\n",
      "704876/704876 [==============================] - 27s 38us/sample - loss: 0.5757 - accuracy: 0.7035 - val_loss: 0.5685 - val_accuracy: 0.6992\n",
      "Epoch 4/200\n",
      "704876/704876 [==============================] - 27s 38us/sample - loss: 0.5742 - accuracy: 0.7052 - val_loss: 0.5671 - val_accuracy: 0.7080\n",
      "Epoch 5/200\n",
      "704876/704876 [==============================] - 27s 38us/sample - loss: 0.5736 - accuracy: 0.7055 - val_loss: 0.5668 - val_accuracy: 0.7199\n",
      "Epoch 6/200\n",
      "704876/704876 [==============================] - 27s 39us/sample - loss: 0.5730 - accuracy: 0.7059 - val_loss: 0.5671 - val_accuracy: 0.7086\n",
      "Epoch 7/200\n",
      "704876/704876 [==============================] - 27s 38us/sample - loss: 0.5724 - accuracy: 0.7065 - val_loss: 0.5676 - val_accuracy: 0.7183\n",
      "Epoch 8/200\n",
      "704876/704876 [==============================] - 27s 39us/sample - loss: 0.5723 - accuracy: 0.7053 - val_loss: 0.5659 - val_accuracy: 0.7131\n",
      "Epoch 9/200\n",
      "704876/704876 [==============================] - 27s 39us/sample - loss: 0.5717 - accuracy: 0.7074 - val_loss: 0.5659 - val_accuracy: 0.7125\n",
      "Epoch 10/200\n",
      "704876/704876 [==============================] - 27s 38us/sample - loss: 0.5716 - accuracy: 0.7061 - val_loss: 0.5658 - val_accuracy: 0.7097\n",
      "Epoch 11/200\n",
      "704876/704876 [==============================] - 27s 39us/sample - loss: 0.5715 - accuracy: 0.7072 - val_loss: 0.5653 - val_accuracy: 0.6867\n",
      "Epoch 12/200\n",
      "704876/704876 [==============================] - 27s 38us/sample - loss: 0.5712 - accuracy: 0.7066 - val_loss: 0.5658 - val_accuracy: 0.7290\n",
      "Epoch 13/200\n",
      "704876/704876 [==============================] - 27s 38us/sample - loss: 0.5711 - accuracy: 0.7065 - val_loss: 0.5646 - val_accuracy: 0.7192\n",
      "Epoch 14/200\n",
      "704876/704876 [==============================] - 26s 37us/sample - loss: 0.5707 - accuracy: 0.7071 - val_loss: 0.5650 - val_accuracy: 0.7146\n",
      "Epoch 15/200\n",
      "704876/704876 [==============================] - 27s 38us/sample - loss: 0.5706 - accuracy: 0.7071 - val_loss: 0.5644 - val_accuracy: 0.7128\n",
      "Epoch 16/200\n",
      "704876/704876 [==============================] - 27s 38us/sample - loss: 0.5704 - accuracy: 0.7077 - val_loss: 0.5655 - val_accuracy: 0.6944\n",
      "Epoch 17/200\n",
      "704876/704876 [==============================] - 27s 38us/sample - loss: 0.5702 - accuracy: 0.7071 - val_loss: 0.5646 - val_accuracy: 0.6955\n",
      "Epoch 18/200\n",
      "704876/704876 [==============================] - 26s 37us/sample - loss: 0.5702 - accuracy: 0.7078 - val_loss: 0.5647 - val_accuracy: 0.7106\n",
      "Best Validation Loss: 0.5644\n",
      "Best Validation Accuracy: 0.7290\n"
     ]
    },
    {
     "name": "stderr",
     "output_type": "stream",
     "text": [
      "IOPub data rate exceeded.\n",
      "The notebook server will temporarily stop sending output\n",
      "to the client in order to avoid crashing it.\n",
      "To change this limit, set the config variable\n",
      "`--NotebookApp.iopub_data_rate_limit`.\n",
      "\n",
      "Current values:\n",
      "NotebookApp.iopub_data_rate_limit=1000000.0 (bytes/sec)\n",
      "NotebookApp.rate_limit_window=3.0 (secs)\n",
      "\n"
     ]
    },
    {
     "name": "stdout",
     "output_type": "stream",
     "text": [
      "Validation accuracy: 0.71920896\n",
      "Best: 0.717844 using {'activation': 'relu', 'batch_size': 128, 'dropout_rate': 0.2, 'learning_rate': 0.001, 'num_hidden_layers': 3, 'optimizer': 'adam', 'units': 512}\n"
     ]
    },
    {
     "data": {
      "image/png": "[encoded data removed]",
      "text/plain": [
       "<Figure size 432x288 with 1 Axes>"
      ]
     },
     "metadata": {
      "needs_background": "light"
     },
     "output_type": "display_data"
    },
    {
     "data": {
      "image/png": "[encoded data removed]",
      "text/plain": [
       "<Figure size 432x288 with 1 Axes>"
      ]
     },
     "metadata": {
      "needs_background": "light"
     },
     "output_type": "display_data"
    }
   ],
   "source": [
    "\n",
    "# Evaluate the performance of the best model\n",
    "best_params = grid_search.best_params_\n",
    "best_model = create_model(\n",
    "    num_hidden_layers=best_params['num_hidden_layers'],\n",
    "    learning_rate=best_params['learning_rate'],\n",
    "    dropout_rate=best_params['dropout_rate'],\n",
    "    optimizer=best_params['optimizer'],\n",
    "    activation=best_params['activation']\n",
    ")\n",
    "\n",
    "early_stopping = keras.callbacks.EarlyStopping(\n",
    "    patience=5,\n",
    "    min_delta=0.001,\n",
    "    restore_best_weights=True,\n",
    ")\n",
    "\n",
    "history = best_model.fit(\n",
    "    X_train,\n",
    "    y_train,\n",
    "    validation_data=(X_valid, y_valid),\n",
    "    batch_size=best_params['batch_size'],\n",
    "    epochs=200,\n",
    "    callbacks=[early_stopping],\n",
    "    class_weight=class_weight\n",
    ")\n",
    "\n",
    "history_df = pd.DataFrame(history.history)\n",
    "history_df.loc[:, ['loss', 'val_loss']].plot(title=\"Cross-entropy\")\n",
    "history_df.loc[:, ['accuracy', 'val_accuracy']].plot(title=\"Accuracy\")\n",
    "\n",
    "print((\"Best Validation Loss: {:0.4f}\" +\\\n",
    "      \"\\nBest Validation Accuracy: {:0.4f}\")\\\n",
    "      .format(history_df['val_loss'].min(), \n",
    "              history_df['val_accuracy'].max()))\n",
    "\n",
    "# Generate some accuracy metrics\n",
    "score = best_model.evaluate(X_valid, y_valid)\n",
    "print('Validation accuracy:', score[1])\n",
    "\n",
    "# summarize results\n",
    "print(\"Best: %f using %s\" % (grid_search.best_score_, grid_search.best_params_))\n",
    "means = grid_search.cv_results_['mean_test_score']\n",
    "stds = grid_search.cv_results_['std_test_score']\n",
    "params = grid_search.cv_results_['params']\n",
    "#for mean, stdev, param in zip(means, stds, params):\n",
    "    #print(\"%f (%f) with: %r\" % (mean, stdev, param))\n"
   ]
  },
  {
   "cell_type": "code",
   "execution_count": 19,
   "metadata": {},
   "outputs": [
    {
     "name": "stdout",
     "output_type": "stream",
     "text": [
      "Model: \"sequential_152\"\n",
      "_________________________________________________________________\n",
      "Layer (type)                 Output Shape              Param #   \n",
      "=================================================================\n",
      "batch_normalization_533 (Bat (None, 10)                40        \n",
      "_________________________________________________________________\n",
      "dense_533 (Dense)            (None, 256)               2816      \n",
      "_________________________________________________________________\n",
      "batch_normalization_534 (Bat (None, 256)               1024      \n",
      "_________________________________________________________________\n",
      "dropout_381 (Dropout)        (None, 256)               0         \n",
      "_________________________________________________________________\n",
      "dense_534 (Dense)            (None, 256)               65792     \n",
      "_________________________________________________________________\n",
      "batch_normalization_535 (Bat (None, 256)               1024      \n",
      "_________________________________________________________________\n",
      "dropout_382 (Dropout)        (None, 256)               0         \n",
      "_________________________________________________________________\n",
      "dense_535 (Dense)            (None, 256)               65792     \n",
      "_________________________________________________________________\n",
      "batch_normalization_536 (Bat (None, 256)               1024      \n",
      "_________________________________________________________________\n",
      "dropout_383 (Dropout)        (None, 256)               0         \n",
      "_________________________________________________________________\n",
      "dense_536 (Dense)            (None, 1)                 257       \n",
      "=================================================================\n",
      "Total params: 137,769\n",
      "Trainable params: 136,213\n",
      "Non-trainable params: 1,556\n",
      "_________________________________________________________________\n"
     ]
    }
   ],
   "source": [
    "best_model.summary() # v important in this model to see no. hidden layers"
   ]
  },
  {
   "cell_type": "code",
   "execution_count": 20,
   "metadata": {},
   "outputs": [
    {
     "data": {
      "image/svg+xml": [
       "<svg height=\"913pt\" viewBox=\"0.00 0.00 252.73 1011.20\" width=\"228pt\" xmlns=\"http://www.w3.org/2000/svg\" xmlns:xlink=\"http://www.w3.org/1999/xlink\">\n",
       "<g class=\"graph\" id=\"graph0\" transform=\"scale(0.902778 0.902778) rotate(0) translate(4 1007.2)\">\n",
       "<title>G</title>\n",
       "<polygon fill=\"white\" points=\"-4,4 -4,-1007.2 248.728,-1007.2 248.728,4 -4,4\" stroke=\"none\"/>\n",
       "<!-- 139657960268968 -->\n",
       "<g class=\"node\" id=\"node1\"><title>139657960268968</title>\n",
       "<polygon fill=\"none\" points=\"24.5028,-953.1 24.5028,-1002.7 220.225,-1002.7 220.225,-953.1 24.5028,-953.1\" stroke=\"black\"/>\n",
       "<text font-family=\"Times,serif\" font-size=\"14.00\" text-anchor=\"middle\" x=\"63.5996\" y=\"-973.7\">InputLayer</text>\n",
       "<polyline fill=\"none\" points=\"102.696,-953.1 102.696,-1002.7 \" stroke=\"black\"/>\n",
       "<text font-family=\"Times,serif\" font-size=\"14.00\" text-anchor=\"middle\" x=\"130.532\" y=\"-986.1\">input:</text>\n",
       "<polyline fill=\"none\" points=\"102.696,-977.9 158.368,-977.9 \" stroke=\"black\"/>\n",
       "<text font-family=\"Times,serif\" font-size=\"14.00\" text-anchor=\"middle\" x=\"130.532\" y=\"-961.3\">output:</text>\n",
       "<polyline fill=\"none\" points=\"158.368,-953.1 158.368,-1002.7 \" stroke=\"black\"/>\n",
       "<text font-family=\"Times,serif\" font-size=\"14.00\" text-anchor=\"middle\" x=\"189.297\" y=\"-986.1\">[(?, 10)]</text>\n",
       "<polyline fill=\"none\" points=\"158.368,-977.9 220.225,-977.9 \" stroke=\"black\"/>\n",
       "<text font-family=\"Times,serif\" font-size=\"14.00\" text-anchor=\"middle\" x=\"189.297\" y=\"-961.3\">[(?, 10)]</text>\n",
       "</g>\n",
       "<!-- 139657959973384 -->\n",
       "<g class=\"node\" id=\"node2\"><title>139657959973384</title>\n",
       "<polygon fill=\"none\" points=\"3.5,-866.5 3.5,-916.1 241.228,-916.1 241.228,-866.5 3.5,-866.5\" stroke=\"black\"/>\n",
       "<text font-family=\"Times,serif\" font-size=\"14.00\" text-anchor=\"middle\" x=\"68.2602\" y=\"-887.1\">BatchNormalization</text>\n",
       "<polyline fill=\"none\" points=\"133.02,-866.5 133.02,-916.1 \" stroke=\"black\"/>\n",
       "<text font-family=\"Times,serif\" font-size=\"14.00\" text-anchor=\"middle\" x=\"160.856\" y=\"-899.5\">input:</text>\n",
       "<polyline fill=\"none\" points=\"133.02,-891.3 188.692,-891.3 \" stroke=\"black\"/>\n",
       "<text font-family=\"Times,serif\" font-size=\"14.00\" text-anchor=\"middle\" x=\"160.856\" y=\"-874.7\">output:</text>\n",
       "<polyline fill=\"none\" points=\"188.692,-866.5 188.692,-916.1 \" stroke=\"black\"/>\n",
       "<text font-family=\"Times,serif\" font-size=\"14.00\" text-anchor=\"middle\" x=\"214.96\" y=\"-899.5\">(?, 10)</text>\n",
       "<polyline fill=\"none\" points=\"188.692,-891.3 241.228,-891.3 \" stroke=\"black\"/>\n",
       "<text font-family=\"Times,serif\" font-size=\"14.00\" text-anchor=\"middle\" x=\"214.96\" y=\"-874.7\">(?, 10)</text>\n",
       "</g>\n",
       "<!-- 139657960268968&#45;&gt;139657959973384 -->\n",
       "<g class=\"edge\" id=\"edge1\"><title>139657960268968-&gt;139657959973384</title>\n",
       "<path d=\"M122.364,-952.883C122.364,-944.667 122.364,-935.312 122.364,-926.452\" fill=\"none\" stroke=\"black\"/>\n",
       "<polygon fill=\"black\" points=\"125.864,-926.377 122.364,-916.377 118.864,-926.377 125.864,-926.377\" stroke=\"black\"/>\n",
       "</g>\n",
       "<!-- 139657960268296 -->\n",
       "<g class=\"node\" id=\"node3\"><title>139657960268296</title>\n",
       "<polygon fill=\"none\" points=\"39.27,-779.9 39.27,-829.5 205.458,-829.5 205.458,-779.9 39.27,-779.9\" stroke=\"black\"/>\n",
       "<text font-family=\"Times,serif\" font-size=\"14.00\" text-anchor=\"middle\" x=\"64.7602\" y=\"-800.5\">Dense</text>\n",
       "<polyline fill=\"none\" points=\"90.2504,-779.9 90.2504,-829.5 \" stroke=\"black\"/>\n",
       "<text font-family=\"Times,serif\" font-size=\"14.00\" text-anchor=\"middle\" x=\"118.086\" y=\"-812.9\">input:</text>\n",
       "<polyline fill=\"none\" points=\"90.2504,-804.7 145.922,-804.7 \" stroke=\"black\"/>\n",
       "<text font-family=\"Times,serif\" font-size=\"14.00\" text-anchor=\"middle\" x=\"118.086\" y=\"-788.1\">output:</text>\n",
       "<polyline fill=\"none\" points=\"145.922,-779.9 145.922,-829.5 \" stroke=\"black\"/>\n",
       "<text font-family=\"Times,serif\" font-size=\"14.00\" text-anchor=\"middle\" x=\"175.69\" y=\"-812.9\">(?, 10)</text>\n",
       "<polyline fill=\"none\" points=\"145.922,-804.7 205.458,-804.7 \" stroke=\"black\"/>\n",
       "<text font-family=\"Times,serif\" font-size=\"14.00\" text-anchor=\"middle\" x=\"175.69\" y=\"-788.1\">(?, 256)</text>\n",
       "</g>\n",
       "<!-- 139657959973384&#45;&gt;139657960268296 -->\n",
       "<g class=\"edge\" id=\"edge2\"><title>139657959973384-&gt;139657960268296</title>\n",
       "<path d=\"M122.364,-866.283C122.364,-858.067 122.364,-848.712 122.364,-839.852\" fill=\"none\" stroke=\"black\"/>\n",
       "<polygon fill=\"black\" points=\"125.864,-839.777 122.364,-829.777 118.864,-839.777 125.864,-839.777\" stroke=\"black\"/>\n",
       "</g>\n",
       "<!-- 139657965452032 -->\n",
       "<g class=\"node\" id=\"node4\"><title>139657965452032</title>\n",
       "<polygon fill=\"none\" points=\"0,-693.3 0,-742.9 244.728,-742.9 244.728,-693.3 0,-693.3\" stroke=\"black\"/>\n",
       "<text font-family=\"Times,serif\" font-size=\"14.00\" text-anchor=\"middle\" x=\"64.7602\" y=\"-713.9\">BatchNormalization</text>\n",
       "<polyline fill=\"none\" points=\"129.52,-693.3 129.52,-742.9 \" stroke=\"black\"/>\n",
       "<text font-family=\"Times,serif\" font-size=\"14.00\" text-anchor=\"middle\" x=\"157.356\" y=\"-726.3\">input:</text>\n",
       "<polyline fill=\"none\" points=\"129.52,-718.1 185.192,-718.1 \" stroke=\"black\"/>\n",
       "<text font-family=\"Times,serif\" font-size=\"14.00\" text-anchor=\"middle\" x=\"157.356\" y=\"-701.5\">output:</text>\n",
       "<polyline fill=\"none\" points=\"185.192,-693.3 185.192,-742.9 \" stroke=\"black\"/>\n",
       "<text font-family=\"Times,serif\" font-size=\"14.00\" text-anchor=\"middle\" x=\"214.96\" y=\"-726.3\">(?, 256)</text>\n",
       "<polyline fill=\"none\" points=\"185.192,-718.1 244.728,-718.1 \" stroke=\"black\"/>\n",
       "<text font-family=\"Times,serif\" font-size=\"14.00\" text-anchor=\"middle\" x=\"214.96\" y=\"-701.5\">(?, 256)</text>\n",
       "</g>\n",
       "<!-- 139657960268296&#45;&gt;139657965452032 -->\n",
       "<g class=\"edge\" id=\"edge3\"><title>139657960268296-&gt;139657965452032</title>\n",
       "<path d=\"M122.364,-779.683C122.364,-771.467 122.364,-762.112 122.364,-753.252\" fill=\"none\" stroke=\"black\"/>\n",
       "<polygon fill=\"black\" points=\"125.864,-753.177 122.364,-743.177 118.864,-753.177 125.864,-753.177\" stroke=\"black\"/>\n",
       "</g>\n",
       "<!-- 139657951348440 -->\n",
       "<g class=\"node\" id=\"node5\"><title>139657951348440</title>\n",
       "<polygon fill=\"none\" points=\"33.4313,-606.7 33.4313,-656.3 211.297,-656.3 211.297,-606.7 33.4313,-606.7\" stroke=\"black\"/>\n",
       "<text font-family=\"Times,serif\" font-size=\"14.00\" text-anchor=\"middle\" x=\"64.7602\" y=\"-627.3\">Dropout</text>\n",
       "<polyline fill=\"none\" points=\"96.0891,-606.7 96.0891,-656.3 \" stroke=\"black\"/>\n",
       "<text font-family=\"Times,serif\" font-size=\"14.00\" text-anchor=\"middle\" x=\"123.925\" y=\"-639.7\">input:</text>\n",
       "<polyline fill=\"none\" points=\"96.0891,-631.5 151.761,-631.5 \" stroke=\"black\"/>\n",
       "<text font-family=\"Times,serif\" font-size=\"14.00\" text-anchor=\"middle\" x=\"123.925\" y=\"-614.9\">output:</text>\n",
       "<polyline fill=\"none\" points=\"151.761,-606.7 151.761,-656.3 \" stroke=\"black\"/>\n",
       "<text font-family=\"Times,serif\" font-size=\"14.00\" text-anchor=\"middle\" x=\"181.529\" y=\"-639.7\">(?, 256)</text>\n",
       "<polyline fill=\"none\" points=\"151.761,-631.5 211.297,-631.5 \" stroke=\"black\"/>\n",
       "<text font-family=\"Times,serif\" font-size=\"14.00\" text-anchor=\"middle\" x=\"181.529\" y=\"-614.9\">(?, 256)</text>\n",
       "</g>\n",
       "<!-- 139657965452032&#45;&gt;139657951348440 -->\n",
       "<g class=\"edge\" id=\"edge4\"><title>139657965452032-&gt;139657951348440</title>\n",
       "<path d=\"M122.364,-693.083C122.364,-684.867 122.364,-675.512 122.364,-666.652\" fill=\"none\" stroke=\"black\"/>\n",
       "<polygon fill=\"black\" points=\"125.864,-666.577 122.364,-656.577 118.864,-666.577 125.864,-666.577\" stroke=\"black\"/>\n",
       "</g>\n",
       "<!-- 139657859664528 -->\n",
       "<g class=\"node\" id=\"node6\"><title>139657859664528</title>\n",
       "<polygon fill=\"none\" points=\"39.27,-520.1 39.27,-569.7 205.458,-569.7 205.458,-520.1 39.27,-520.1\" stroke=\"black\"/>\n",
       "<text font-family=\"Times,serif\" font-size=\"14.00\" text-anchor=\"middle\" x=\"64.7602\" y=\"-540.7\">Dense</text>\n",
       "<polyline fill=\"none\" points=\"90.2504,-520.1 90.2504,-569.7 \" stroke=\"black\"/>\n",
       "<text font-family=\"Times,serif\" font-size=\"14.00\" text-anchor=\"middle\" x=\"118.086\" y=\"-553.1\">input:</text>\n",
       "<polyline fill=\"none\" points=\"90.2504,-544.9 145.922,-544.9 \" stroke=\"black\"/>\n",
       "<text font-family=\"Times,serif\" font-size=\"14.00\" text-anchor=\"middle\" x=\"118.086\" y=\"-528.3\">output:</text>\n",
       "<polyline fill=\"none\" points=\"145.922,-520.1 145.922,-569.7 \" stroke=\"black\"/>\n",
       "<text font-family=\"Times,serif\" font-size=\"14.00\" text-anchor=\"middle\" x=\"175.69\" y=\"-553.1\">(?, 256)</text>\n",
       "<polyline fill=\"none\" points=\"145.922,-544.9 205.458,-544.9 \" stroke=\"black\"/>\n",
       "<text font-family=\"Times,serif\" font-size=\"14.00\" text-anchor=\"middle\" x=\"175.69\" y=\"-528.3\">(?, 256)</text>\n",
       "</g>\n",
       "<!-- 139657951348440&#45;&gt;139657859664528 -->\n",
       "<g class=\"edge\" id=\"edge5\"><title>139657951348440-&gt;139657859664528</title>\n",
       "<path d=\"M122.364,-606.483C122.364,-598.267 122.364,-588.912 122.364,-580.052\" fill=\"none\" stroke=\"black\"/>\n",
       "<polygon fill=\"black\" points=\"125.864,-579.977 122.364,-569.977 118.864,-579.977 125.864,-579.977\" stroke=\"black\"/>\n",
       "</g>\n",
       "<!-- 139657880169384 -->\n",
       "<g class=\"node\" id=\"node7\"><title>139657880169384</title>\n",
       "<polygon fill=\"none\" points=\"0,-433.5 0,-483.1 244.728,-483.1 244.728,-433.5 0,-433.5\" stroke=\"black\"/>\n",
       "<text font-family=\"Times,serif\" font-size=\"14.00\" text-anchor=\"middle\" x=\"64.7602\" y=\"-454.1\">BatchNormalization</text>\n",
       "<polyline fill=\"none\" points=\"129.52,-433.5 129.52,-483.1 \" stroke=\"black\"/>\n",
       "<text font-family=\"Times,serif\" font-size=\"14.00\" text-anchor=\"middle\" x=\"157.356\" y=\"-466.5\">input:</text>\n",
       "<polyline fill=\"none\" points=\"129.52,-458.3 185.192,-458.3 \" stroke=\"black\"/>\n",
       "<text font-family=\"Times,serif\" font-size=\"14.00\" text-anchor=\"middle\" x=\"157.356\" y=\"-441.7\">output:</text>\n",
       "<polyline fill=\"none\" points=\"185.192,-433.5 185.192,-483.1 \" stroke=\"black\"/>\n",
       "<text font-family=\"Times,serif\" font-size=\"14.00\" text-anchor=\"middle\" x=\"214.96\" y=\"-466.5\">(?, 256)</text>\n",
       "<polyline fill=\"none\" points=\"185.192,-458.3 244.728,-458.3 \" stroke=\"black\"/>\n",
       "<text font-family=\"Times,serif\" font-size=\"14.00\" text-anchor=\"middle\" x=\"214.96\" y=\"-441.7\">(?, 256)</text>\n",
       "</g>\n",
       "<!-- 139657859664528&#45;&gt;139657880169384 -->\n",
       "<g class=\"edge\" id=\"edge6\"><title>139657859664528-&gt;139657880169384</title>\n",
       "<path d=\"M122.364,-519.883C122.364,-511.667 122.364,-502.312 122.364,-493.452\" fill=\"none\" stroke=\"black\"/>\n",
       "<polygon fill=\"black\" points=\"125.864,-493.377 122.364,-483.377 118.864,-493.377 125.864,-493.377\" stroke=\"black\"/>\n",
       "</g>\n",
       "<!-- 139657837472736 -->\n",
       "<g class=\"node\" id=\"node8\"><title>139657837472736</title>\n",
       "<polygon fill=\"none\" points=\"33.4313,-346.9 33.4313,-396.5 211.297,-396.5 211.297,-346.9 33.4313,-346.9\" stroke=\"black\"/>\n",
       "<text font-family=\"Times,serif\" font-size=\"14.00\" text-anchor=\"middle\" x=\"64.7602\" y=\"-367.5\">Dropout</text>\n",
       "<polyline fill=\"none\" points=\"96.0891,-346.9 96.0891,-396.5 \" stroke=\"black\"/>\n",
       "<text font-family=\"Times,serif\" font-size=\"14.00\" text-anchor=\"middle\" x=\"123.925\" y=\"-379.9\">input:</text>\n",
       "<polyline fill=\"none\" points=\"96.0891,-371.7 151.761,-371.7 \" stroke=\"black\"/>\n",
       "<text font-family=\"Times,serif\" font-size=\"14.00\" text-anchor=\"middle\" x=\"123.925\" y=\"-355.1\">output:</text>\n",
       "<polyline fill=\"none\" points=\"151.761,-346.9 151.761,-396.5 \" stroke=\"black\"/>\n",
       "<text font-family=\"Times,serif\" font-size=\"14.00\" text-anchor=\"middle\" x=\"181.529\" y=\"-379.9\">(?, 256)</text>\n",
       "<polyline fill=\"none\" points=\"151.761,-371.7 211.297,-371.7 \" stroke=\"black\"/>\n",
       "<text font-family=\"Times,serif\" font-size=\"14.00\" text-anchor=\"middle\" x=\"181.529\" y=\"-355.1\">(?, 256)</text>\n",
       "</g>\n",
       "<!-- 139657880169384&#45;&gt;139657837472736 -->\n",
       "<g class=\"edge\" id=\"edge7\"><title>139657880169384-&gt;139657837472736</title>\n",
       "<path d=\"M122.364,-433.283C122.364,-425.067 122.364,-415.712 122.364,-406.852\" fill=\"none\" stroke=\"black\"/>\n",
       "<polygon fill=\"black\" points=\"125.864,-406.777 122.364,-396.777 118.864,-406.777 125.864,-406.777\" stroke=\"black\"/>\n",
       "</g>\n",
       "<!-- 139657935979856 -->\n",
       "<g class=\"node\" id=\"node9\"><title>139657935979856</title>\n",
       "<polygon fill=\"none\" points=\"39.27,-260.3 39.27,-309.9 205.458,-309.9 205.458,-260.3 39.27,-260.3\" stroke=\"black\"/>\n",
       "<text font-family=\"Times,serif\" font-size=\"14.00\" text-anchor=\"middle\" x=\"64.7602\" y=\"-280.9\">Dense</text>\n",
       "<polyline fill=\"none\" points=\"90.2504,-260.3 90.2504,-309.9 \" stroke=\"black\"/>\n",
       "<text font-family=\"Times,serif\" font-size=\"14.00\" text-anchor=\"middle\" x=\"118.086\" y=\"-293.3\">input:</text>\n",
       "<polyline fill=\"none\" points=\"90.2504,-285.1 145.922,-285.1 \" stroke=\"black\"/>\n",
       "<text font-family=\"Times,serif\" font-size=\"14.00\" text-anchor=\"middle\" x=\"118.086\" y=\"-268.5\">output:</text>\n",
       "<polyline fill=\"none\" points=\"145.922,-260.3 145.922,-309.9 \" stroke=\"black\"/>\n",
       "<text font-family=\"Times,serif\" font-size=\"14.00\" text-anchor=\"middle\" x=\"175.69\" y=\"-293.3\">(?, 256)</text>\n",
       "<polyline fill=\"none\" points=\"145.922,-285.1 205.458,-285.1 \" stroke=\"black\"/>\n",
       "<text font-family=\"Times,serif\" font-size=\"14.00\" text-anchor=\"middle\" x=\"175.69\" y=\"-268.5\">(?, 256)</text>\n",
       "</g>\n",
       "<!-- 139657837472736&#45;&gt;139657935979856 -->\n",
       "<g class=\"edge\" id=\"edge8\"><title>139657837472736-&gt;139657935979856</title>\n",
       "<path d=\"M122.364,-346.683C122.364,-338.467 122.364,-329.112 122.364,-320.252\" fill=\"none\" stroke=\"black\"/>\n",
       "<polygon fill=\"black\" points=\"125.864,-320.177 122.364,-310.177 118.864,-320.177 125.864,-320.177\" stroke=\"black\"/>\n",
       "</g>\n",
       "<!-- 139657816150424 -->\n",
       "<g class=\"node\" id=\"node10\"><title>139657816150424</title>\n",
       "<polygon fill=\"none\" points=\"0,-173.7 0,-223.3 244.728,-223.3 244.728,-173.7 0,-173.7\" stroke=\"black\"/>\n",
       "<text font-family=\"Times,serif\" font-size=\"14.00\" text-anchor=\"middle\" x=\"64.7602\" y=\"-194.3\">BatchNormalization</text>\n",
       "<polyline fill=\"none\" points=\"129.52,-173.7 129.52,-223.3 \" stroke=\"black\"/>\n",
       "<text font-family=\"Times,serif\" font-size=\"14.00\" text-anchor=\"middle\" x=\"157.356\" y=\"-206.7\">input:</text>\n",
       "<polyline fill=\"none\" points=\"129.52,-198.5 185.192,-198.5 \" stroke=\"black\"/>\n",
       "<text font-family=\"Times,serif\" font-size=\"14.00\" text-anchor=\"middle\" x=\"157.356\" y=\"-181.9\">output:</text>\n",
       "<polyline fill=\"none\" points=\"185.192,-173.7 185.192,-223.3 \" stroke=\"black\"/>\n",
       "<text font-family=\"Times,serif\" font-size=\"14.00\" text-anchor=\"middle\" x=\"214.96\" y=\"-206.7\">(?, 256)</text>\n",
       "<polyline fill=\"none\" points=\"185.192,-198.5 244.728,-198.5 \" stroke=\"black\"/>\n",
       "<text font-family=\"Times,serif\" font-size=\"14.00\" text-anchor=\"middle\" x=\"214.96\" y=\"-181.9\">(?, 256)</text>\n",
       "</g>\n",
       "<!-- 139657935979856&#45;&gt;139657816150424 -->\n",
       "<g class=\"edge\" id=\"edge9\"><title>139657935979856-&gt;139657816150424</title>\n",
       "<path d=\"M122.364,-260.083C122.364,-251.867 122.364,-242.512 122.364,-233.652\" fill=\"none\" stroke=\"black\"/>\n",
       "<polygon fill=\"black\" points=\"125.864,-233.577 122.364,-223.577 118.864,-233.577 125.864,-233.577\" stroke=\"black\"/>\n",
       "</g>\n",
       "<!-- 139657851357392 -->\n",
       "<g class=\"node\" id=\"node11\"><title>139657851357392</title>\n",
       "<polygon fill=\"none\" points=\"33.4313,-87.1 33.4313,-136.7 211.297,-136.7 211.297,-87.1 33.4313,-87.1\" stroke=\"black\"/>\n",
       "<text font-family=\"Times,serif\" font-size=\"14.00\" text-anchor=\"middle\" x=\"64.7602\" y=\"-107.7\">Dropout</text>\n",
       "<polyline fill=\"none\" points=\"96.0891,-87.1 96.0891,-136.7 \" stroke=\"black\"/>\n",
       "<text font-family=\"Times,serif\" font-size=\"14.00\" text-anchor=\"middle\" x=\"123.925\" y=\"-120.1\">input:</text>\n",
       "<polyline fill=\"none\" points=\"96.0891,-111.9 151.761,-111.9 \" stroke=\"black\"/>\n",
       "<text font-family=\"Times,serif\" font-size=\"14.00\" text-anchor=\"middle\" x=\"123.925\" y=\"-95.3\">output:</text>\n",
       "<polyline fill=\"none\" points=\"151.761,-87.1 151.761,-136.7 \" stroke=\"black\"/>\n",
       "<text font-family=\"Times,serif\" font-size=\"14.00\" text-anchor=\"middle\" x=\"181.529\" y=\"-120.1\">(?, 256)</text>\n",
       "<polyline fill=\"none\" points=\"151.761,-111.9 211.297,-111.9 \" stroke=\"black\"/>\n",
       "<text font-family=\"Times,serif\" font-size=\"14.00\" text-anchor=\"middle\" x=\"181.529\" y=\"-95.3\">(?, 256)</text>\n",
       "</g>\n",
       "<!-- 139657816150424&#45;&gt;139657851357392 -->\n",
       "<g class=\"edge\" id=\"edge10\"><title>139657816150424-&gt;139657851357392</title>\n",
       "<path d=\"M122.364,-173.483C122.364,-165.267 122.364,-155.912 122.364,-147.052\" fill=\"none\" stroke=\"black\"/>\n",
       "<polygon fill=\"black\" points=\"125.864,-146.977 122.364,-136.977 118.864,-146.977 125.864,-146.977\" stroke=\"black\"/>\n",
       "</g>\n",
       "<!-- 139657964459512 -->\n",
       "<g class=\"node\" id=\"node12\"><title>139657964459512</title>\n",
       "<polygon fill=\"none\" points=\"39.27,-0.5 39.27,-50.1 205.458,-50.1 205.458,-0.5 39.27,-0.5\" stroke=\"black\"/>\n",
       "<text font-family=\"Times,serif\" font-size=\"14.00\" text-anchor=\"middle\" x=\"64.7602\" y=\"-21.1\">Dense</text>\n",
       "<polyline fill=\"none\" points=\"90.2504,-0.5 90.2504,-50.1 \" stroke=\"black\"/>\n",
       "<text font-family=\"Times,serif\" font-size=\"14.00\" text-anchor=\"middle\" x=\"118.086\" y=\"-33.5\">input:</text>\n",
       "<polyline fill=\"none\" points=\"90.2504,-25.3 145.922,-25.3 \" stroke=\"black\"/>\n",
       "<text font-family=\"Times,serif\" font-size=\"14.00\" text-anchor=\"middle\" x=\"118.086\" y=\"-8.7\">output:</text>\n",
       "<polyline fill=\"none\" points=\"145.922,-0.5 145.922,-50.1 \" stroke=\"black\"/>\n",
       "<text font-family=\"Times,serif\" font-size=\"14.00\" text-anchor=\"middle\" x=\"175.69\" y=\"-33.5\">(?, 256)</text>\n",
       "<polyline fill=\"none\" points=\"145.922,-25.3 205.458,-25.3 \" stroke=\"black\"/>\n",
       "<text font-family=\"Times,serif\" font-size=\"14.00\" text-anchor=\"middle\" x=\"175.19\" y=\"-8.7\">(?, 1)</text>\n",
       "</g>\n",
       "<!-- 139657851357392&#45;&gt;139657964459512 -->\n",
       "<g class=\"edge\" id=\"edge11\"><title>139657851357392-&gt;139657964459512</title>\n",
       "<path d=\"M122.364,-86.8833C122.364,-78.6673 122.364,-69.3117 122.364,-60.4518\" fill=\"none\" stroke=\"black\"/>\n",
       "<polygon fill=\"black\" points=\"125.864,-60.3767 122.364,-50.3767 118.864,-60.3768 125.864,-60.3767\" stroke=\"black\"/>\n",
       "</g>\n",
       "</g>\n",
       "</svg>"
      ],
      "text/plain": [
       "<IPython.core.display.SVG object>"
      ]
     },
     "execution_count": 20,
     "metadata": {},
     "output_type": "execute_result"
    }
   ],
   "source": [
    "from IPython.display import SVG\n",
    "from tensorflow.keras.utils import model_to_dot\n",
    "\n",
    "SVG(model_to_dot(best_model, show_shapes=True, show_layer_names=False, dpi=65).create(prog='dot', format='svg'))\n"
   ]
  },
  {
   "cell_type": "code",
   "execution_count": 16,
   "metadata": {},
   "outputs": [
    {
     "name": "stderr",
     "output_type": "stream",
     "text": [
      "IOPub data rate exceeded.\n",
      "The notebook server will temporarily stop sending output\n",
      "to the client in order to avoid crashing it.\n",
      "To change this limit, set the config variable\n",
      "`--NotebookApp.iopub_data_rate_limit`.\n",
      "\n",
      "Current values:\n",
      "NotebookApp.iopub_data_rate_limit=1000000.0 (bytes/sec)\n",
      "NotebookApp.rate_limit_window=3.0 (secs)\n",
      "\n"
     ]
    },
    {
     "name": "stdout",
     "output_type": "stream",
     "text": [
      "Validation accuracy: 0.70524913\n",
      "Best: 0.717844 using {'activation': 'relu', 'batch_size': 128, 'dropout_rate': 0.2, 'learning_rate': 0.001, 'num_hidden_layers': 3, 'optimizer': 'adam', 'units': 512}\n",
      "0.698191 (0.008950) with: {'activation': 'relu', 'batch_size': 32, 'dropout_rate': 0.2, 'learning_rate': 0.001, 'num_hidden_layers': 2, 'optimizer': 'adam', 'units': 32}\n",
      "0.698733 (0.008969) with: {'activation': 'relu', 'batch_size': 32, 'dropout_rate': 0.2, 'learning_rate': 0.001, 'num_hidden_layers': 2, 'optimizer': 'adam', 'units': 64}\n",
      "0.705831 (0.012866) with: {'activation': 'relu', 'batch_size': 32, 'dropout_rate': 0.2, 'learning_rate': 0.001, 'num_hidden_layers': 2, 'optimizer': 'adam', 'units': 128}\n",
      "0.713294 (0.014701) with: {'activation': 'relu', 'batch_size': 32, 'dropout_rate': 0.2, 'learning_rate': 0.001, 'num_hidden_layers': 2, 'optimizer': 'adam', 'units': 256}\n",
      "0.700583 (0.023808) with: {'activation': 'relu', 'batch_size': 32, 'dropout_rate': 0.2, 'learning_rate': 0.001, 'num_hidden_layers': 2, 'optimizer': 'adam', 'units': 512}\n",
      "0.705264 (0.020042) with: {'activation': 'relu', 'batch_size': 32, 'dropout_rate': 0.2, 'learning_rate': 0.001, 'num_hidden_layers': 3, 'optimizer': 'adam', 'units': 32}\n",
      "0.703905 (0.010495) with: {'activation': 'relu', 'batch_size': 32, 'dropout_rate': 0.2, 'learning_rate': 0.001, 'num_hidden_layers': 3, 'optimizer': 'adam', 'units': 64}\n",
      "0.706060 (0.017360) with: {'activation': 'relu', 'batch_size': 32, 'dropout_rate': 0.2, 'learning_rate': 0.001, 'num_hidden_layers': 3, 'optimizer': 'adam', 'units': 128}\n",
      "0.715097 (0.010857) with: {'activation': 'relu', 'batch_size': 32, 'dropout_rate': 0.2, 'learning_rate': 0.001, 'num_hidden_layers': 3, 'optimizer': 'adam', 'units': 256}\n",
      "0.696606 (0.009775) with: {'activation': 'relu', 'batch_size': 32, 'dropout_rate': 0.2, 'learning_rate': 0.001, 'num_hidden_layers': 3, 'optimizer': 'adam', 'units': 512}\n",
      "0.709360 (0.007193) with: {'activation': 'relu', 'batch_size': 128, 'dropout_rate': 0.2, 'learning_rate': 0.001, 'num_hidden_layers': 2, 'optimizer': 'adam', 'units': 32}\n",
      "0.703419 (0.005644) with: {'activation': 'relu', 'batch_size': 128, 'dropout_rate': 0.2, 'learning_rate': 0.001, 'num_hidden_layers': 2, 'optimizer': 'adam', 'units': 64}\n",
      "0.705456 (0.004918) with: {'activation': 'relu', 'batch_size': 128, 'dropout_rate': 0.2, 'learning_rate': 0.001, 'num_hidden_layers': 2, 'optimizer': 'adam', 'units': 128}\n",
      "0.711912 (0.004984) with: {'activation': 'relu', 'batch_size': 128, 'dropout_rate': 0.2, 'learning_rate': 0.001, 'num_hidden_layers': 2, 'optimizer': 'adam', 'units': 256}\n",
      "0.698357 (0.013254) with: {'activation': 'relu', 'batch_size': 128, 'dropout_rate': 0.2, 'learning_rate': 0.001, 'num_hidden_layers': 2, 'optimizer': 'adam', 'units': 512}\n",
      "0.703216 (0.012549) with: {'activation': 'relu', 'batch_size': 128, 'dropout_rate': 0.2, 'learning_rate': 0.001, 'num_hidden_layers': 3, 'optimizer': 'adam', 'units': 32}\n",
      "0.706897 (0.004174) with: {'activation': 'relu', 'batch_size': 128, 'dropout_rate': 0.2, 'learning_rate': 0.001, 'num_hidden_layers': 3, 'optimizer': 'adam', 'units': 64}\n",
      "0.704606 (0.009670) with: {'activation': 'relu', 'batch_size': 128, 'dropout_rate': 0.2, 'learning_rate': 0.001, 'num_hidden_layers': 3, 'optimizer': 'adam', 'units': 128}\n",
      "0.697506 (0.014504) with: {'activation': 'relu', 'batch_size': 128, 'dropout_rate': 0.2, 'learning_rate': 0.001, 'num_hidden_layers': 3, 'optimizer': 'adam', 'units': 256}\n",
      "0.717844 (0.015238) with: {'activation': 'relu', 'batch_size': 128, 'dropout_rate': 0.2, 'learning_rate': 0.001, 'num_hidden_layers': 3, 'optimizer': 'adam', 'units': 512}\n",
      "0.706873 (0.007146) with: {'activation': 'relu', 'batch_size': 256, 'dropout_rate': 0.2, 'learning_rate': 0.001, 'num_hidden_layers': 2, 'optimizer': 'adam', 'units': 32}\n",
      "0.694501 (0.008861) with: {'activation': 'relu', 'batch_size': 256, 'dropout_rate': 0.2, 'learning_rate': 0.001, 'num_hidden_layers': 2, 'optimizer': 'adam', 'units': 64}\n",
      "0.711402 (0.004943) with: {'activation': 'relu', 'batch_size': 256, 'dropout_rate': 0.2, 'learning_rate': 0.001, 'num_hidden_layers': 2, 'optimizer': 'adam', 'units': 128}\n",
      "0.703267 (0.006193) with: {'activation': 'relu', 'batch_size': 256, 'dropout_rate': 0.2, 'learning_rate': 0.001, 'num_hidden_layers': 2, 'optimizer': 'adam', 'units': 256}\n",
      "0.713967 (0.008244) with: {'activation': 'relu', 'batch_size': 256, 'dropout_rate': 0.2, 'learning_rate': 0.001, 'num_hidden_layers': 2, 'optimizer': 'adam', 'units': 512}\n",
      "0.706060 (0.006378) with: {'activation': 'relu', 'batch_size': 256, 'dropout_rate': 0.2, 'learning_rate': 0.001, 'num_hidden_layers': 3, 'optimizer': 'adam', 'units': 32}\n",
      "0.702884 (0.005640) with: {'activation': 'relu', 'batch_size': 256, 'dropout_rate': 0.2, 'learning_rate': 0.001, 'num_hidden_layers': 3, 'optimizer': 'adam', 'units': 64}\n",
      "0.711294 (0.007122) with: {'activation': 'relu', 'batch_size': 256, 'dropout_rate': 0.2, 'learning_rate': 0.001, 'num_hidden_layers': 3, 'optimizer': 'adam', 'units': 128}\n",
      "0.706748 (0.010034) with: {'activation': 'relu', 'batch_size': 256, 'dropout_rate': 0.2, 'learning_rate': 0.001, 'num_hidden_layers': 3, 'optimizer': 'adam', 'units': 256}\n",
      "0.708140 (0.007879) with: {'activation': 'relu', 'batch_size': 256, 'dropout_rate': 0.2, 'learning_rate': 0.001, 'num_hidden_layers': 3, 'optimizer': 'adam', 'units': 512}\n"
     ]
    }
   ],
   "source": [
    "# Generate some accuracy metrics\n",
    "score = best_model.evaluate(X_valid, y_valid)\n",
    "print('Validation accuracy:', score[1])\n",
    "\n",
    "\n",
    "# summarize results\n",
    "print(\"Best: %f using %s\" % (grid_search.best_score_, grid_search.best_params_))\n",
    "means = grid_search.cv_results_['mean_test_score']\n",
    "stds = grid_search.cv_results_['std_test_score']\n",
    "params = grid_search.cv_results_['params']\n",
    "for mean, stdev, param in zip(means, stds, params):\n",
    "    print(\"%f (%f) with: %r\" % (mean, stdev, param))"
   ]
  },
  {
   "cell_type": "code",
   "execution_count": 21,
   "metadata": {},
   "outputs": [
    {
     "name": "stdout",
     "output_type": "stream",
     "text": [
      "adam\n",
      "0.2\n",
      "128\n",
      "{'activation': 'relu', 'batch_size': 128, 'dropout_rate': 0.2, 'learning_rate': 0.001, 'num_hidden_layers': 3, 'optimizer': 'adam', 'units': 512}\n"
     ]
    }
   ],
   "source": [
    "print(best_params['optimizer'])\n",
    "print(best_params['dropout_rate'])\n",
    "print(best_params['batch_size'])\n",
    "\n",
    "print(best_params)"
   ]
  },
  {
   "cell_type": "code",
   "execution_count": 22,
   "metadata": {},
   "outputs": [
    {
     "name": "stdout",
     "output_type": "stream",
     "text": [
      "True\n",
      "704876/1 - 35s - loss: 0.5778 - accuracy: 0.7203\n",
      "Validation loss: 0.5543398385215167\n",
      "Validation accuracy: 0.7203352\n",
      "704876/1 - 23s\n"
     ]
    },
    {
     "data": {
      "image/png": "[encoded data removed]",
      "text/plain": [
       "<Figure size 432x288 with 2 Axes>"
      ]
     },
     "metadata": {
      "needs_background": "light"
     },
     "output_type": "display_data"
    },
    {
     "name": "stdout",
     "output_type": "stream",
     "text": [
      "Total signal processes; 1.0\n",
      "Total background processes; 1.0\n",
      "244957\n",
      "There is 142540 signal in the set\n",
      "The model predicted 102417 more ones than in reality\n",
      "459919\n",
      "There is 562336 background in the set\n",
      "The model predicted -102417 more ones than in reality\n"
     ]
    },
    {
     "data": {
      "image/png": "[encoded data removed]",
      "text/plain": [
       "<Figure size 432x288 with 1 Axes>"
      ]
     },
     "metadata": {
      "needs_background": "light"
     },
     "output_type": "display_data"
    },
    {
     "data": {
      "image/png": "[encoded data removed]",
      "text/plain": [
       "<Figure size 432x288 with 1 Axes>"
      ]
     },
     "metadata": {
      "needs_background": "light"
     },
     "output_type": "display_data"
    }
   ],
   "source": [
    "# evaluate the model on the training data, confusion matrix and discriminator curve\n",
    "\n",
    "gpu_available = tf.test.is_gpu_available()\n",
    "print(gpu_available)   # check still on the gpu\n",
    "\n",
    "model = best_model\n",
    "\n",
    "val_loss, val_acc = model.evaluate(X_train, y_train, verbose = 2)    \n",
    "\n",
    "print(\"Validation loss:\", val_loss)\n",
    "print(\"Validation accuracy:\", val_acc)\n",
    "\n",
    "y_pred = model.predict(X_train, verbose = 2)\n",
    "y_pred_round = np.round(y_pred)\n",
    "#print(y_pred)\n",
    "\n",
    "# compute the confusion matrix\n",
    "\n",
    "cm = confusion_matrix(y_train, y_pred_round, normalize = 'true')   #, normalize = 'true')  #,'true' ‘pred’, ‘all’},)\n",
    "#disp = ConfusionMatrixDisplay(confusion_matrix=cm) \n",
    "disp = ConfusionMatrixDisplay(confusion_matrix=cm, display_labels=['Background', 'Signal']) # other env\n",
    "\n",
    "disp.plot()\n",
    "plt.show()\n",
    "\n",
    "print('Total signal processes;', cm[1,0]+cm[1,1])\n",
    "print('Total background processes;', cm[0,0]+cm[0,1])\n",
    "\n",
    "# Check if order of y_valid is the same order as y_pred\n",
    "# expect to be the ssame order if accuracy is same as validation accuracy above.\n",
    "\n",
    "# list of true outcomes\n",
    "y_train_list = list(y_train)\n",
    "\n",
    "# list of rounded predictions \n",
    "y_pred_round_list = list(y_pred_round)\n",
    "\n",
    "data_test = {'True_Val': y_train_list, 'Predicted': list(y_pred), 'Round Prediction': y_pred_round_list}\n",
    "df_test = pd.DataFrame(data_test)\n",
    "\n",
    "# Easiest to reorder df, so all 0 (background) are first and then 1's (signal)\n",
    "\n",
    "#Verified, works\n",
    "df_test = df_test.sort_values(by='True_Val')\n",
    "df_test\n",
    "\n",
    "# Convert arrays to scalars\n",
    "df_test['Round Prediction'] = df_test['Round Prediction'].apply(lambda x: x[0])\n",
    "        \n",
    "pred_one = df_test['Round Prediction'].value_counts()[1.0]\n",
    "ones_in_set = df_test['True_Val'].value_counts()[1]\n",
    "\n",
    "# Print the result\n",
    "print(pred_one)\n",
    "print('There is', ones_in_set, 'signal in the set')\n",
    "print('The model predicted',pred_one-ones_in_set ,'more ones than in reality')\n",
    "\n",
    "\n",
    "pred_zeros = df_test['Round Prediction'].value_counts()[0.0]\n",
    "zeros_in_set = df_test['True_Val'].value_counts()[0]\n",
    "\n",
    "# Print the result\n",
    "print(pred_zeros)\n",
    "print('There is', zeros_in_set, 'background in the set')   #agrees w/ confusion matrix\n",
    "print('The model predicted', pred_zeros-zeros_in_set,'more ones than in reality')\n",
    "\n",
    "\n",
    "#Split df into signal and bg\n",
    "\n",
    "df_bg = df_test[df_test['True_Val'] == 0]\n",
    "df_signal = df_test[df_test['True_Val'] == 1]\n",
    "\n",
    "# Make discriminator curves, Histogram\n",
    "\n",
    "# manipluate data so can be used for Histograms\n",
    "lst_bg_predicted = []\n",
    "for i in df_bg['Predicted']:\n",
    "    lst_bg_predicted.append(i)\n",
    "\n",
    "lst_of_values_bg_pred_train = [arr.item() for arr in lst_bg_predicted]\n",
    "\n",
    "lst_signal_predicted = []\n",
    "for i in df_signal['Predicted']:\n",
    "    lst_signal_predicted.append(i)\n",
    "\n",
    "lst_of_values_signal_pred_train = [arr.item() for arr in lst_signal_predicted]\n",
    "\n",
    "binwidth = 0.01\n",
    "bins=np.arange(0, 1 + binwidth, binwidth)\n",
    "    \n",
    "\n",
    "#Unweighted, normalised\n",
    "plt.hist(x= lst_of_values_bg_pred_train, bins=bins, density = True, histtype = 'step', label = 'Background')\n",
    "plt.hist(x= lst_of_values_signal_pred_train, bins=bins, density = True, histtype = 'step', label = 'Signal')\n",
    "plt.title('Training Discriminator Curve')\n",
    "plt.xlabel('Classifier Prediction')\n",
    "plt.ylabel('Frequency')\n",
    "plt.legend()\n",
    "plt.show()\n",
    "\n",
    "#Weighted to xs_weights x 300000, need to be toproportion of full dataset too\n",
    "#normalised\n",
    "\n",
    "plt.hist(x= lst_of_values_bg_pred_train, bins=bins,  weights = df_weights[:len(lst_of_values_bg_pred_train),1]*3e5*1/0.8,\n",
    "         histtype = 'step', label = 'Background')\n",
    "plt.hist(x= lst_of_values_signal_pred_train, bins=bins, weights = df_weights[:len(lst_of_values_signal_pred_train),3]*3e5*1/0.8,\n",
    "         histtype = 'step', label = 'Signal')\n",
    "plt.title('Training Discriminator Curve')\n",
    "plt.xlabel('Classifier Prediction')\n",
    "plt.ylabel('Frequency')\n",
    "plt.xlim(0.8,1)    #zoom in on 0.9 to 1 region\n",
    "plt.ylim(0,200)    # need to zoom in\n",
    "plt.legend()\n",
    "plt.show()\n",
    "\n",
    "\n",
    "#start dropping bins for signifucance part, calc Z and plot, should get curve that peaks"
   ]
  },
  {
   "cell_type": "code",
   "execution_count": 23,
   "metadata": {},
   "outputs": [
    {
     "name": "stderr",
     "output_type": "stream",
     "text": [
      "IOPub data rate exceeded.\n",
      "The notebook server will temporarily stop sending output\n",
      "to the client in order to avoid crashing it.\n",
      "To change this limit, set the config variable\n",
      "`--NotebookApp.iopub_data_rate_limit`.\n",
      "\n",
      "Current values:\n",
      "NotebookApp.iopub_data_rate_limit=1000000.0 (bytes/sec)\n",
      "NotebookApp.rate_limit_window=3.0 (secs)\n",
      "\n"
     ]
    },
    {
     "name": "stdout",
     "output_type": "stream",
     "text": [
      "Validation loss: 0.5543037503859659\n",
      "Validation accuracy: 0.71920896\n"
     ]
    },
    {
     "data": {
      "image/png": "[encoded data removed]",
      "text/plain": [
       "<Figure size 432x288 with 2 Axes>"
      ]
     },
     "metadata": {
      "needs_background": "light"
     },
     "output_type": "display_data"
    },
    {
     "name": "stdout",
     "output_type": "stream",
     "text": [
      "Total signal processes; 1.0\n",
      "Total background processes; 1.0\n"
     ]
    }
   ],
   "source": [
    "# evaluate the model on the validation data\n",
    "\n",
    "model = best_model \n",
    "\n",
    "val_loss, val_acc = model.evaluate(X_valid, y_valid)   \n",
    "print(\"Validation loss:\", val_loss)\n",
    "print(\"Validation accuracy:\", val_acc)\n",
    "\n",
    "y_pred = model.predict(X_valid)\n",
    "y_pred_round = np.round(y_pred)\n",
    "\n",
    "# compute the confusion matrix\n",
    "cm = confusion_matrix(y_valid, y_pred_round, normalize = 'true')    #,'true' ‘pred’, ‘all’},)#\n",
    "disp = ConfusionMatrixDisplay(confusion_matrix=cm, display_labels=['Background', 'Signal']) # other env\n",
    "#disp = ConfusionMatrixDisplay(confusion_matrix=cm)   \n",
    "disp.plot()\n",
    "plt.show()\n",
    "\n",
    "print('Total signal processes;', cm[1,0]+cm[1,1])\n",
    "print('Total background processes;', cm[0,0]+cm[0,1])\n",
    "\n",
    "# can see no class weights"
   ]
  },
  {
   "cell_type": "code",
   "execution_count": 46,
   "metadata": {},
   "outputs": [],
   "source": [
    "# #using a permutation method to see what features are important\n",
    "\n",
    "# # Get the number of features\n",
    "# n_features = X_valid.shape[1]\n",
    "\n",
    "# # Initialize an array to store feature importances\n",
    "# importances = np.zeros(n_features)\n",
    "\n",
    "# # Calculate the feature importances using the permutation feature importance method\n",
    "# # Drops each variable one at a time \n",
    "# for i in range(n_features):\n",
    "#     print(i)    #counter to check is working, should go to 40\n",
    "#     feature_name = X_valid.columns[i]\n",
    "#     X_permuted = X_valid.copy().values\n",
    "#     X_permuted[:, i] = np.random.permutation(X_permuted[:, i])\n",
    "#     y_permuted = model.predict(X_permuted)\n",
    "#     importances[i] = np.abs(y_permuted - y_pred).mean()\n",
    "#     #importances[i] = (y_permuted - y_pred).mean()    #try without a abs, see if positively or negatively affected by removal?\n",
    "#     print(f\"Permuted feature {feature_name}\")\n",
    "\n",
    "# # Normalize the feature importances\n",
    "# importances /= importances.sum()   # importances sum to 1, so can be taken as a literal how important a variable\n",
    "# # is for the model\n",
    "\n",
    "# print(importances)  # using abs\n",
    "\n",
    "# print()#\n",
    "\n",
    "# print(np.sort(importances))\n",
    "\n",
    "# # np.random.permutation randomly permutes (rearranges in a random order) the elements.\n",
    "# # In this case, it is used to shuffle the values in a single column of the X_permuted array.\n",
    "# # Guess then this variable isnt useful in the prediction"
   ]
  },
  {
   "cell_type": "code",
   "execution_count": 47,
   "metadata": {},
   "outputs": [],
   "source": [
    "# importances_dict = dict(zip(importances, X_valid.columns))\n",
    "# # key:value\n",
    "\n",
    "# #print(combined_dict)\n",
    "\n",
    "# # get values for keys less than 0.01\n",
    "# values = []\n",
    "# for key, value in importances_dict.items():\n",
    "#     if key < 0.01:\n",
    "#         values.append(value)\n",
    "\n",
    "# # print the values\n",
    "# print(values)\n"
   ]
  },
  {
   "cell_type": "code",
   "execution_count": 48,
   "metadata": {},
   "outputs": [],
   "source": [
    "# get indices of numbers less than 0.01\n",
    "# for i in range(len(importances)):\n",
    "#     if importances[i] < 0.05:\n",
    "#         print(X_valid.columns[i])"
   ]
  },
  {
   "cell_type": "code",
   "execution_count": 24,
   "metadata": {},
   "outputs": [
    {
     "name": "stdout",
     "output_type": "stream",
     "text": [
      "0.7192089433662467\n",
      "True\n"
     ]
    }
   ],
   "source": [
    "# Check if order of y_valid is the same order as y_pred\n",
    "# expect to be the ssame order if accuracy is same as validation accuracy above.\n",
    "\n",
    "# list of true outcomes\n",
    "y_valid_list = list(y_valid)\n",
    "\n",
    "# list of rounded predictions \n",
    "y_pred_round_list = list(y_pred_round)\n",
    "\n",
    "# list of whether these are same    \n",
    "z=[]\n",
    "for i in range(len(y_valid_list)):\n",
    "    if y_valid_list[i]==y_pred_round_list[i]:\n",
    "        z.append(1)\n",
    "    else:\n",
    "        z.append(0)\n",
    "        \n",
    "print(sum(z)/len(z))\n",
    "\n",
    "# Set a tolerance\n",
    "tol = 0.0001\n",
    "print(val_acc - tol < sum(z)/len(z) < val_acc + tol)\n",
    "\n",
    "# If true, suggests are in same order "
   ]
  },
  {
   "cell_type": "code",
   "execution_count": 25,
   "metadata": {},
   "outputs": [
    {
     "name": "stdout",
     "output_type": "stream",
     "text": [
      "[0.04380763]\n"
     ]
    },
    {
     "data": {
      "text/plain": [
       "array([0.99993], dtype=float32)"
      ]
     },
     "execution_count": 25,
     "metadata": {},
     "output_type": "execute_result"
    }
   ],
   "source": [
    "print(min(y_pred))\n",
    "max(y_pred)"
   ]
  },
  {
   "cell_type": "code",
   "execution_count": 26,
   "metadata": {},
   "outputs": [],
   "source": [
    "data = {'True_Val': y_valid_list, 'Predicted': list(y_pred), 'Round Prediction': y_pred_round_list}\n",
    "df = pd.DataFrame(data)\n",
    "\n",
    "# Easiest to reorder df, so all 0 (background) are first and then 1's (signal)\n",
    "\n",
    "#Verified, works\n",
    "df = df.sort_values(by='True_Val')\n",
    "df\n",
    "\n",
    "# Convert arrays to scalars\n",
    "df['Round Prediction'] = df['Round Prediction'].apply(lambda x: x[0])"
   ]
  },
  {
   "cell_type": "code",
   "execution_count": 27,
   "metadata": {},
   "outputs": [
    {
     "name": "stdout",
     "output_type": "stream",
     "text": [
      "0.7192089433662467\n",
      "True\n"
     ]
    }
   ],
   "source": [
    "# Check that they maintained order in the df:\n",
    "\n",
    "lst=[]\n",
    "for i in range(len(df)):\n",
    "    if df['True_Val'][i] == df['Round Prediction'][i]:\n",
    "        lst.append(1)\n",
    "    else:\n",
    "        (lst.append(0))\n",
    "print(sum(lst)/len(lst))\n",
    "\n",
    "# Set a tolerance\n",
    "tol = 0.0001\n",
    "print(val_acc - tol < sum(lst)/len(lst) < val_acc + tol)\n",
    "\n",
    "# If true, suggests are in same order "
   ]
  },
  {
   "cell_type": "code",
   "execution_count": 28,
   "metadata": {},
   "outputs": [
    {
     "name": "stdout",
     "output_type": "stream",
     "text": [
      "60897\n",
      "There is 35318 signal in the set\n",
      "The model predicted 25579 more ones than in reality\n",
      "115323\n",
      "There is 140902 background in the set\n",
      "The model predicted -25579 more ones than in reality\n"
     ]
    }
   ],
   "source": [
    "pred_one = df['Round Prediction'].value_counts()[1.0]\n",
    "ones_in_set = df['True_Val'].value_counts()[1]\n",
    "\n",
    "# Print the result\n",
    "print(pred_one)\n",
    "print('There is', ones_in_set, 'signal in the set')\n",
    "print('The model predicted',pred_one-ones_in_set ,'more ones than in reality')\n",
    "\n",
    "\n",
    "pred_zeros = df['Round Prediction'].value_counts()[0.0]\n",
    "zeros_in_set = df['True_Val'].value_counts()[0]\n",
    "\n",
    "# Print the result\n",
    "print(pred_zeros)\n",
    "print('There is', zeros_in_set, 'background in the set')   #agrees w/ confusion matrix\n",
    "print('The model predicted', pred_zeros-zeros_in_set,'more ones than in reality')\n"
   ]
  },
  {
   "cell_type": "markdown",
   "metadata": {},
   "source": [
    "now first half of df is background, other half is signal\n",
    "\n",
    "PROBLEM, TEST AND VALID WAS SPLIT RANDOMLY, SO NOT ACTUALLY SAME AMOUNT OF 0's AND 1's\n",
    "\n",
    "Not a problem, but need to check if should be like this\n",
    "\n",
    " A couple of options, I could:\n",
    "\n",
    "Deal with it, and let there be uneven amounts of 1's and 0's\n",
    "\n",
    "OR\n",
    "\n",
    "Go back to test_train_split, and apply individually to signal and background and then sum them?\n",
    "\n",
    "This would guarantee 50/50\n"
   ]
  },
  {
   "cell_type": "code",
   "execution_count": 29,
   "metadata": {},
   "outputs": [
    {
     "data": {
      "image/png": "[encoded data removed]",
      "text/plain": [
       "<Figure size 432x288 with 1 Axes>"
      ]
     },
     "metadata": {
      "needs_background": "light"
     },
     "output_type": "display_data"
    },
    {
     "data": {
      "image/png": "[encoded data removed]",
      "text/plain": [
       "<Figure size 432x288 with 1 Axes>"
      ]
     },
     "metadata": {
      "needs_background": "light"
     },
     "output_type": "display_data"
    }
   ],
   "source": [
    "# Training Discriminator curves\n",
    "\n",
    "#Unweighted, normalised\n",
    "plt.hist(x= lst_of_values_bg_pred_train, bins=bins, density = True, histtype = 'step', label = 'Background')\n",
    "plt.hist(x= lst_of_values_signal_pred_train, bins=bins, density = True, histtype = 'step', label = 'Signal')\n",
    "plt.title('TRAINING - Discriminator Curve')\n",
    "plt.xlabel('Classifier Prediction')\n",
    "plt.ylabel('Frequency')\n",
    "plt.legend()\n",
    "plt.show()\n",
    "\n",
    "#Weighted to xs_weights x 300000, need to be toproportion of full dataset too\n",
    "#normalised\n",
    "\n",
    "\n",
    "plt.hist(x= lst_of_values_bg_pred_train, bins=bins,  weights = df_weights[:len(lst_of_values_bg_pred_train),1]*3e5,\n",
    "         histtype = 'step', label = 'Background')\n",
    "plt.hist(x= lst_of_values_signal_pred_train, bins=bins, weights = df_weights[:len(lst_of_values_signal_pred_train),3]*3e5,\n",
    "         histtype = 'step', label = 'Signal')\n",
    "plt.title('TRAINING - Discriminator Curve')\n",
    "plt.xlabel('Classifier Prediction')\n",
    "plt.ylabel('Frequency')\n",
    "plt.xlim(0.6,1)    #zoom in on 0.9 to 1 region\n",
    "plt.ylim(0,500)    # need to zoom in\n",
    "plt.legend()\n",
    "plt.show()\n"
   ]
  },
  {
   "cell_type": "code",
   "execution_count": 30,
   "metadata": {},
   "outputs": [
    {
     "data": {
      "image/png": "[encoded data removed]",
      "text/plain": [
       "<Figure size 432x288 with 1 Axes>"
      ]
     },
     "metadata": {
      "needs_background": "light"
     },
     "output_type": "display_data"
    },
    {
     "data": {
      "image/png": "[encoded data removed]",
      "text/plain": [
       "<Figure size 432x288 with 1 Axes>"
      ]
     },
     "metadata": {
      "needs_background": "light"
     },
     "output_type": "display_data"
    },
    {
     "data": {
      "image/png": "[encoded data removed]",
      "text/plain": [
       "<Figure size 432x288 with 1 Axes>"
      ]
     },
     "metadata": {
      "needs_background": "light"
     },
     "output_type": "display_data"
    }
   ],
   "source": [
    "#Split df into signal and bg\n",
    "\n",
    "df_bg = df[df['True_Val'] == 0]\n",
    "df_signal = df[df['True_Val'] == 1]\n",
    "\n",
    "# Make Validation discriminator curves, Histogram\n",
    "\n",
    "# manipluate data so can be used for Histograms\n",
    "lst_bg_predicted = []\n",
    "for i in df_bg['Predicted']:\n",
    "    lst_bg_predicted.append(i)\n",
    "\n",
    "lst_of_values_bg_pred = [arr.item() for arr in lst_bg_predicted]\n",
    "\n",
    "lst_signal_predicted = []\n",
    "for i in df_signal['Predicted']:\n",
    "    lst_signal_predicted.append(i)\n",
    "\n",
    "lst_of_values_signal_pred = [arr.item() for arr in lst_signal_predicted]\n",
    "\n",
    "binwidth = 0.01\n",
    "bins=np.arange(0, 1 + binwidth, binwidth)\n",
    "\n",
    "#Unweighted, normalised\n",
    "plt.hist(x= lst_of_values_bg_pred, bins=bins, density = True, histtype = 'step', label = 'Background')\n",
    "plt.hist(x= lst_of_values_signal_pred, bins=bins, density = True, histtype = 'step', label = 'Signal')\n",
    "plt.title('Discriminator Curve')\n",
    "plt.xlabel('Classifier Prediction')\n",
    "plt.ylabel('Frequency')\n",
    "plt.legend()\n",
    "plt.show()\n",
    "\n",
    "#Weighted to xs_weights x 300000, need to be toproportion of full dataset too\n",
    "#normalised\n",
    "plt.hist(x= lst_of_values_bg_pred, bins=bins,  weights = df_weights[:len(lst_of_values_bg_pred),1]*3e5,\n",
    "         histtype = 'step', label = 'Background')\n",
    "plt.hist(x= lst_of_values_signal_pred, bins=bins, weights = df_weights[:len(lst_of_values_signal_pred),3]*3e5,\n",
    "         histtype = 'step', label = 'Signal')\n",
    "plt.title('Discriminator Curve')\n",
    "plt.xlabel('Classifier Prediction')\n",
    "plt.ylabel('Frequency')\n",
    "#plt.xlim(0.9,1)    #zoom in on 0.9 to 1 region\n",
    "#plt.ylim(0,200)    # need to zoom in\n",
    "plt.legend()\n",
    "plt.show()\n",
    "    \n",
    "plt.hist(x= lst_of_values_bg_pred, bins=bins,  weights = df_weights[:len(lst_of_values_bg_pred),1]*3e5,\n",
    "         histtype = 'step', label = 'Background')\n",
    "plt.hist(x= lst_of_values_signal_pred, bins=bins, weights = df_weights[:len(lst_of_values_signal_pred),3]*3e5,\n",
    "         histtype = 'step', label = 'Signal')\n",
    "plt.title('Discriminator Curve')\n",
    "plt.xlabel('Classifier Prediction')\n",
    "plt.ylabel('Frequency')\n",
    "plt.xlim(0.8,1)    #zoom in on 0.9 to 1 region\n",
    "plt.ylim(0,200)    # need to zoom in\n",
    "plt.legend()\n",
    "plt.show()\n",
    "\n",
    "\n",
    "#start dropping bins for signifucance part, calc Z and plot, should get curve that peaks"
   ]
  },
  {
   "cell_type": "code",
   "execution_count": 31,
   "metadata": {},
   "outputs": [
    {
     "data": {
      "image/png": "[encoded data removed]",
      "text/plain": [
       "<Figure size 432x288 with 1 Axes>"
      ]
     },
     "metadata": {
      "needs_background": "light"
     },
     "output_type": "display_data"
    }
   ],
   "source": [
    "# Test and Training overlayed\n",
    "\n",
    "#Unweighted, normalised\n",
    "plt.hist(x= lst_of_values_bg_pred, bins=bins, density = True, histtype = 'step', label = 'Background_test')\n",
    "plt.hist(x= lst_of_values_signal_pred, bins=bins, density = True, histtype = 'step', label = 'Signal_test')\n",
    "plt.title('Test - Discriminator Curve')\n",
    "plt.xlabel('Classifier Prediction')\n",
    "plt.ylabel('Frequency')\n",
    "plt.legend()\n",
    "\n",
    "\n",
    "#Unweighted, normalised\n",
    "plt.hist(x= lst_of_values_bg_pred_train, bins=bins, density = True, histtype = 'step', label = 'Background_train')\n",
    "plt.hist(x= lst_of_values_signal_pred_train, bins=bins, density = True, histtype = 'step', label = 'Signal_train')\n",
    "plt.title('Mix Discriminator Curve')\n",
    "plt.xlabel('Classifier Prediction')\n",
    "plt.ylabel('Frequency')\n",
    "plt.legend()\n",
    "plt.show()"
   ]
  },
  {
   "cell_type": "code",
   "execution_count": 32,
   "metadata": {},
   "outputs": [
    {
     "name": "stdout",
     "output_type": "stream",
     "text": [
      "num_bg_events =  217678.7345342636\n",
      "num_signal_events =  4367.311522841454\n"
     ]
    },
    {
     "data": {
      "image/png": "[encoded data removed]",
      "text/plain": [
       "<Figure size 432x288 with 1 Axes>"
      ]
     },
     "metadata": {
      "needs_background": "light"
     },
     "output_type": "display_data"
    }
   ],
   "source": [
    "#Calculate number of events\n",
    "\n",
    "n_bg, bins_bg, patches_bg = plt.hist(x= lst_of_values_bg_pred, bins=bins, weights = df_weights[:len(lst_of_values_bg_pred),1]*3e5*5,\n",
    "         histtype = 'step', label = 'Background')\n",
    "n_signal, bins_signal, patches_signal = plt.hist(x= lst_of_values_signal_pred, bins=bins, weights = df_weights[:len(lst_of_values_signal_pred),3]*3e5*5,\n",
    "         histtype = 'step', label = 'Signal')\n",
    "\n",
    "# calculate the number of events\n",
    "num_bg_events = np.sum(n_bg)\n",
    "num_signal_events = np.sum(n_signal)\n",
    "\n",
    "print('num_bg_events = ', num_bg_events)\n",
    "print('num_signal_events = ', num_signal_events)"
   ]
  },
  {
   "cell_type": "code",
   "execution_count": null,
   "metadata": {},
   "outputs": [],
   "source": [
    "# #plot ROC curves\n",
    "\n",
    "# y_true = df['True_Val']\n",
    "# y_score = df['Predicted']\n",
    "\n",
    "# # calculate the false positive rate and true positive rate\n",
    "# fpr, tpr, thresholds = roc_curve(y_true, y_score)\n",
    "\n",
    "# # calculate the area under the ROC curve\n",
    "# roc_auc = auc(fpr, tpr)\n",
    "\n",
    "# # plot the ROC curve\n",
    "# plt.plot(fpr, tpr, color='darkorange', lw=2, label='ROC curve (AUC = %0.2f)' % roc_auc)\n",
    "# plt.plot([0, 1], [0, 1], color='navy', lw=2, linestyle='--')\n",
    "# plt.xlim([0.0, 1.0])\n",
    "# plt.ylim([0.0, 1.05])\n",
    "# plt.xlabel('False Positive Rate')\n",
    "# plt.ylabel('True Positive Rate')\n",
    "# plt.title('Receiver Operating Characteristic')\n",
    "# plt.legend(loc=\"lower right\")\n",
    "# plt.show()\n",
    "\n",
    "# print(roc_auc)  #79%\n",
    "\n",
    "# print(len(thresholds))\n",
    "\n"
   ]
  },
  {
   "cell_type": "code",
   "execution_count": null,
   "metadata": {},
   "outputs": [],
   "source": [
    "# data_roc = {'thresholds': thresholds, 'tpr': tpr, 'fpr': fpr, 'tpr/sqrt(fpr)':tpr/np.sqrt(fpr)}\n",
    "# df_roc = pd.DataFrame(data_roc)\n",
    "# #df_roc\n",
    "# df_roc.head(20)\n",
    "# plt.plot(df_roc['thresholds'][3:], df_roc['tpr/sqrt(fpr)'][3:])\n",
    "# plt.show()\n",
    "# max(df_roc['tpr/sqrt(fpr)'][3:])"
   ]
  },
  {
   "cell_type": "code",
   "execution_count": null,
   "metadata": {},
   "outputs": [],
   "source": [
    "# # Plot precision recall curve\n",
    "# from sklearn.metrics import average_precision_score\n",
    "\n",
    "# y_true = df['True_Val']\n",
    "# y_score = df['Predicted']\n",
    "\n",
    "# # calculate the precision-recall curve\n",
    "# precision, recall, _ = precision_recall_curve(y_true, y_score)\n",
    "\n",
    "# # plot the precision-recall curve\n",
    "# plt.step(recall, precision, color='b', alpha=0.2, where='post')\n",
    "# plt.fill_between(recall, precision, step='post', alpha=0.2, color='b')\n",
    "# plt.xlabel('Recall')\n",
    "# plt.ylabel('Precision')\n",
    "# plt.ylim([0.0, 1.05])\n",
    "# plt.xlim([0.0, 1.0])\n",
    "# plt.title('Precision-Recall Curve')\n",
    "# plt.show()\n",
    "\n",
    "# AUC = average_precision_score(y_true, y_score)   #0.793, pretty similar to roc AUC\n",
    "# print(AUC)"
   ]
  },
  {
   "cell_type": "code",
   "execution_count": 33,
   "metadata": {},
   "outputs": [
    {
     "name": "stdout",
     "output_type": "stream",
     "text": [
      "88109     [0.22811946]\n",
      "111032    [0.60826904]\n",
      "111033    [0.16052917]\n",
      "111034    [0.11682826]\n",
      "111035    [0.15988138]\n",
      "              ...     \n",
      "27764      [0.9253469]\n",
      "141597     [0.7860563]\n",
      "27763      [0.9632467]\n",
      "100490    [0.78384864]\n",
      "0         [0.31417704]\n",
      "Name: Predicted, Length: 176220, dtype: object\n"
     ]
    }
   ],
   "source": [
    "df['True_Val']\n",
    "x = df['Predicted']\n",
    "print(x)"
   ]
  },
  {
   "cell_type": "markdown",
   "metadata": {},
   "source": [
    "# Significance\n",
    "\n",
    "$$ Z = \\frac{s}{\\sqrt(B+\\sigma_s^{2})}  $$\n",
    "\n",
    "s = number of signal\n",
    "\n",
    "B = number of background\n",
    "\n",
    "$\\sigma_s$ = statistical uncertainty (~10% of B)"
   ]
  },
  {
   "cell_type": "code",
   "execution_count": 34,
   "metadata": {},
   "outputs": [
    {
     "name": "stdout",
     "output_type": "stream",
     "text": [
      "217678.7345342636\n",
      "4367.311522841454\n"
     ]
    },
    {
     "name": "stderr",
     "output_type": "stream",
     "text": [
      "/software/deep-learning/envs/ml-microscope/lib/python3.7/site-packages/ipykernel_launcher.py:12: RuntimeWarning: invalid value encountered in double_scalars\n",
      "  if sys.path[0] == '':\n"
     ]
    },
    {
     "data": {
      "image/png": "[encoded data removed]",
      "text/plain": [
       "<Figure size 432x288 with 1 Axes>"
      ]
     },
     "metadata": {
      "needs_background": "light"
     },
     "output_type": "display_data"
    },
    {
     "name": "stdout",
     "output_type": "stream",
     "text": [
      "0.99\n",
      "99\n",
      "15.463111147704687\n",
      "\n",
      "If cut at a threshold of 0.99 have\n",
      "19.42529296875 singal events\n",
      "1.578125 background events\n"
     ]
    },
    {
     "name": "stderr",
     "output_type": "stream",
     "text": [
      "/software/deep-learning/envs/ml-microscope/lib/python3.7/site-packages/ipykernel_launcher.py:27: RuntimeWarning: invalid value encountered in less\n"
     ]
    }
   ],
   "source": [
    "num_bg_events = np.sum(n_bg)\n",
    "num_signal_events = np.sum(n_signal)\n",
    "\n",
    "print(num_bg_events)\n",
    "print(num_signal_events)\n",
    "\n",
    "z = np.empty(len(bins_bg))\n",
    "for i in range(len(bins_bg)):\n",
    "    num_bg_events = np.sum(n_bg[i:])\n",
    "    num_signal_events = np.sum(n_signal[i:])\n",
    "    #print(num_signal_events)\n",
    "    z_i = num_signal_events / np.sqrt(num_bg_events)\n",
    "    z[i] = z_i\n",
    "#print(z)\n",
    "\n",
    "\n",
    "x = np.linspace(0,1,len(z))\n",
    "plt.plot(bins_bg,z[:])\n",
    "#plt.xlim([0, 1.0])\n",
    "#plt.ylim([0.0, 1.05])\n",
    "plt.xlabel('Threshold')\n",
    "plt.ylabel('Significance, z')\n",
    "plt.title('Significance curve with no sigma')\n",
    "plt.show()\n",
    "\n",
    "\n",
    "mask = z < 1e10     #just so doesnt include infs\n",
    "index_of_max = np.argmax(z[mask])\n",
    "max_value = np.amax(z[mask])\n",
    "\n",
    "\n",
    "#index_of_max = np.nanargmax(z[:])\n",
    "#max_value = np.nanmax(z[:])     # 1 point before last, should probs generalise so that can deal w inf etc \n",
    "max_bin = bins_bg[index_of_max]\n",
    "print(max_bin)\n",
    "print(index_of_max)\n",
    "print(max_value)\n",
    "\n",
    "# significance = sigmna, 6.5 signma, 5 sigma\n",
    "\n",
    "num_bg_threshold = np.sum(n_bg[index_of_max:])\n",
    "num_signal_threshold = np.sum(n_signal[index_of_max:])\n",
    "\n",
    "print()\n",
    "print('If cut at a threshold of', index_of_max/100, 'have')\n",
    "print(num_signal_threshold, 'singal events')\n",
    "print(num_bg_threshold, 'background events')"
   ]
  },
  {
   "cell_type": "code",
   "execution_count": 35,
   "metadata": {},
   "outputs": [
    {
     "data": {
      "image/png": "[encoded data removed]",
      "text/plain": [
       "<Figure size 432x288 with 2 Axes>"
      ]
     },
     "metadata": {
      "needs_background": "light"
     },
     "output_type": "display_data"
    },
    {
     "name": "stdout",
     "output_type": "stream",
     "text": [
      "Total signal processes; 1.0\n",
      "Total background processes; 1.0\n"
     ]
    }
   ],
   "source": [
    "# Confusion matricies with new threshold at max significance\n",
    "\n",
    "# calculates prediction values\n",
    "#y_pred = model.predict(X_valid) \n",
    "\n",
    "significance_threshold = max_bin\n",
    "y_pred_threshold = np.where(y_pred >= significance_threshold, 1, 0)\n",
    "\n",
    "# compute the confusion matrix\n",
    "cm = confusion_matrix(y_valid, y_pred_threshold, normalize = 'true')    #,'true' ‘pred’, ‘all’},)\n",
    "#disp = ConfusionMatrixDisplay(confusion_matrix=cm)   \n",
    "disp = ConfusionMatrixDisplay(confusion_matrix=cm, display_labels=['Background', 'Signal']) # other env\n",
    "disp.plot()\n",
    "plt.show()\n",
    "\n",
    "print('Total signal processes;', cm[1,0]+cm[1,1])\n",
    "print('Total background processes;', cm[0,0]+cm[0,1])"
   ]
  },
  {
   "cell_type": "code",
   "execution_count": 36,
   "metadata": {},
   "outputs": [
    {
     "name": "stdout",
     "output_type": "stream",
     "text": [
      "217678.7345342636\n",
      "4367.311522841454\n"
     ]
    },
    {
     "name": "stderr",
     "output_type": "stream",
     "text": [
      "/software/deep-learning/envs/ml-microscope/lib/python3.7/site-packages/ipykernel_launcher.py:14: RuntimeWarning: invalid value encountered in double_scalars\n",
      "  \n"
     ]
    },
    {
     "data": {
      "image/png": "[encoded data removed]",
      "text/plain": [
       "<Figure size 432x288 with 1 Axes>"
      ]
     },
     "metadata": {
      "needs_background": "light"
     },
     "output_type": "display_data"
    },
    {
     "name": "stdout",
     "output_type": "stream",
     "text": [
      "0.99\n",
      "99\n",
      "15.43269770821767\n",
      "\n",
      "If cut at a threshold of 0.99 have\n",
      "19.42529296875 singal events\n",
      "1.578125 background events\n"
     ]
    },
    {
     "name": "stderr",
     "output_type": "stream",
     "text": [
      "/software/deep-learning/envs/ml-microscope/lib/python3.7/site-packages/ipykernel_launcher.py:30: RuntimeWarning: invalid value encountered in less\n"
     ]
    }
   ],
   "source": [
    "# significance with statistical uncertainty term\n",
    "\n",
    "num_bg_events = np.sum(n_bg)\n",
    "num_signal_events = np.sum(n_signal)\n",
    "\n",
    "print(num_bg_events)\n",
    "print(num_signal_events)\n",
    "\n",
    "z = np.empty(len(bins_bg))\n",
    "for i in range(len(bins_bg)):\n",
    "    num_bg_events = np.sum(n_bg[i:])\n",
    "    num_signal_events = np.sum(n_signal[i:])\n",
    "    #print(num_signal_events)\n",
    "    z_i = num_signal_events / np.sqrt(num_bg_events + (0.05*num_bg_events)**2)\n",
    "    \n",
    "    z[i] = z_i\n",
    "#print(z)\n",
    "\n",
    "\n",
    "x = np.linspace(0,1,len(z))\n",
    "plt.plot(bins_bg,z[:])\n",
    "#plt.xlim([0, 1.0])\n",
    "#plt.ylim([0.0, 1.05])\n",
    "plt.xlabel('Threshold')\n",
    "plt.ylabel('Significance, z')\n",
    "plt.title('Significance curve with sigma')\n",
    "plt.show()\n",
    "\n",
    "\n",
    "mask = z < 1e10     #just so doesnt include infs\n",
    "index_of_max = np.argmax(z[mask])\n",
    "max_value = np.amax(z[mask])\n",
    "\n",
    "\n",
    "#index_of_max = np.nanargmax(z[:])\n",
    "#max_value = np.nanmax(z[:])     # 1 point before last, should probs generalise so that can deal w inf etc \n",
    "max_bin = bins_bg[index_of_max]\n",
    "print(max_bin)\n",
    "print(index_of_max)\n",
    "print(max_value)\n",
    "\n",
    "num_bg_threshold = np.sum(n_bg[index_of_max:])\n",
    "num_signal_threshold = np.sum(n_signal[index_of_max:])\n",
    "print()\n",
    "print('If cut at a threshold of', index_of_max/100, 'have')\n",
    "print(num_signal_threshold, 'singal events')\n",
    "print(num_bg_threshold, 'background events')\n",
    "# significance = sigmna, 6.5 signma, 5 sigma"
   ]
  },
  {
   "cell_type": "code",
   "execution_count": 37,
   "metadata": {},
   "outputs": [
    {
     "data": {
      "image/png": "[encoded data removed]",
      "text/plain": [
       "<Figure size 432x288 with 2 Axes>"
      ]
     },
     "metadata": {
      "needs_background": "light"
     },
     "output_type": "display_data"
    },
    {
     "name": "stdout",
     "output_type": "stream",
     "text": [
      "Total signal processes; 1.0\n",
      "Total background processes; 1.0\n"
     ]
    }
   ],
   "source": [
    "# Confusion matricies with new threshold at max significance with statisitcal uncertainty\n",
    "\n",
    "# calculates prediction values\n",
    "#y_pred = model.predict(X_valid) \n",
    "\n",
    "significance_threshold = max_bin\n",
    "y_pred_threshold = np.where(y_pred >= significance_threshold, 1, 0)\n",
    "\n",
    "# compute the confusion matrix\n",
    "cm = confusion_matrix(y_valid, y_pred_threshold, normalize = 'true')    #,'true' ‘pred’, ‘all’},)\n",
    "#disp = ConfusionMatrixDisplay(confusion_matrix=cm)   \n",
    "disp = ConfusionMatrixDisplay(confusion_matrix=cm, display_labels=['Background', 'Signal']) # other env\n",
    "disp.plot()\n",
    "plt.show()\n",
    "\n",
    "print('Total signal processes;', cm[1,0]+cm[1,1])\n",
    "print('Total background processes;', cm[0,0]+cm[0,1])"
   ]
  },
  {
   "cell_type": "code",
   "execution_count": null,
   "metadata": {},
   "outputs": [],
   "source": [
    "# See weight is const basically, so just use a value\n",
    "\n",
    "semi_xs_weight = df2['xs_weight']   # plot to show is wrong, at least 1 -ive val (is this right?)\n",
    "signal_xs_weight = df4['xs_weight'] \n",
    "#plt.hist(x=semi_xs_weight, bins = 10, weights = df2.xs_weight, density = True, histtype = 'step', label = 'Background')\n",
    "plt.hist(x=signal_xs_weight, bins = 10, weights = df4.xs_weight, density = True, histtype = 'step', label = 'Signal')\n",
    "plt.title('xs_weight')\n",
    "plt.legend()\n",
    "plt.show() \n",
    "\n",
    "semi_xs_weight = df2['xs_weight']   # plot to show is wrong, at least 1 -ive val (is this right?)\n",
    "signal_xs_weight = df4['xs_weight'] \n",
    "plt.hist(x=semi_xs_weight, bins = 10, weights = df2.xs_weight, density = True, histtype = 'step', label = 'Background')\n",
    "#plt.hist(x=signal_xs_weight, bins = 10, weights = df4.xs_weight, density = True, histtype = 'step', label = 'Signal')\n",
    "plt.title('xs_weight')\n",
    "plt.legend()\n",
    "plt.show() "
   ]
  },
  {
   "cell_type": "code",
   "execution_count": null,
   "metadata": {},
   "outputs": [],
   "source": [
    "#Also, to make sure we get the event weights correct, can each of you try and produce a number for the \n",
    "#total number of events you obtain when using all events in the ttH125 and ttbar semileptonic dataframes,\n",
    "#normalized to 300/fb?\n",
    "#Hopefully you all arrive at the same result.\n",
    "\n",
    "# Sligthly confused, does x_s weight normalised already entail no. events,\n",
    "# So xs_weight * 300,000 is no events\n",
    "\n",
    "#Or\n",
    "\n",
    "# Are we meant to use the equation you showed us last week and work out what N should be\n",
    "\n",
    "#Or\n",
    "\n",
    "# do both and compare them as should be same?\n",
    "\n",
    "bg_weight = semi_xs_weight[1]\n",
    "signal_weight = signal_xs_weight[1]\n",
    "\n",
    "# total number SL\n",
    "sl_tot_events = bg_weight * 300000      # weight per pb to 300fb\n",
    "\n",
    "# total number signal\n",
    "signal_tot_events = signal_weight * 300000\n",
    "\n",
    "print('Total number of semileptonic events is {}'.format(sl_tot_events))\n",
    "print('Total number of ttH125 events is {}'.format(signal_tot_events))\n",
    "print()\n",
    "\n",
    "sl_events = 300000 * 500\n",
    "signal_events = 300000 * 0.5\n",
    "\n",
    "print('Total number of semileptonic events is {}'.format(sl_events)) #150000k\n",
    "print('Total number of ttH125 events is {}'.format(signal_events))   #150k\n",
    "#tot_events = "
   ]
  },
  {
   "cell_type": "markdown",
   "metadata": {},
   "source": [
    "# Q \n",
    "Can you also overlay the discriminator distributions for the test data \n",
    "(normalized to the same area) to check if training and testing samples agree?\n",
    "# A\n",
    "not sure what is meant, so show code for the one that I did do. I did it for validation data, so when he says this does hr mean my data is test or training\n",
    "\n",
    "# Q \n",
    "If you use all the events in the dataframes and weight each entry by xs_weight you should\n",
    "get the expected number of events for 1 /pb. Is everything in the plot below already \n",
    "multiplied by 300000 to get the event yields expected for 300/fb?\n",
    "What exactly did you use?\n",
    "\n",
    "# A\n",
    "Yes, everything in the weighted plot is multiplied by 300000, show what I used as I am not sure if thats right\n",
    "\n",
    "# Q\n",
    "If you integrate the weighted histograms, how many events do you obtain in each histogram? \n",
    "\n",
    "# A\n",
    "Bit confused, why integrate the histograms when can just see how much data used, is it because this is weighted so it will give the number of events we actually expect overall in 300000 fb^-1, makes sense.\n",
    "#Did 3 ways, not really clear what was right, way I think rn is each bin is a number of events, so just need to add number events per bin, dont need to do anything regarding the width of the bin? But then an integral is the area so that does mean bin size matters, but not really sure, bc obvs sum bin size = 1\n",
    "#Think first one is correct\n",
    "\n",
    "\n",
    "# Q \n",
    "Next would be to plot ROC curves and precision-recall which have slightly different meaning.\n",
    "\n",
    "# A\n",
    "So does a ROC curve work out where the best threshold is for us, so what is significance. Also should a ROC curve be weighted\n",
    "\n",
    "# Q \n",
    "from the weighted plot, make a plot of Z = S/sqrt(B) as a function of the cut on the discriminator value, where S and B are the number of events (i.e. the integral) of the histogram \n",
    "that have discriminator value above the cut you chose. You may need to “zoom in” on the region >0.9 \n",
    "to see that it falls off again as you approach 1"
   ]
  },
  {
   "cell_type": "code",
   "execution_count": null,
   "metadata": {},
   "outputs": [],
   "source": [
    "print(df1['xs_weight'])\n",
    "plt.hist(df1['xs_weight'])"
   ]
  },
  {
   "cell_type": "code",
   "execution_count": null,
   "metadata": {},
   "outputs": [],
   "source": [
    "print(df2['xs_weight'])\n",
    "plt.hist(df2['xs_weight'])"
   ]
  },
  {
   "cell_type": "code",
   "execution_count": null,
   "metadata": {},
   "outputs": [],
   "source": [
    "print(df3['xs_weight'])\n",
    "plt.hist(df3['xs_weight'])"
   ]
  },
  {
   "cell_type": "code",
   "execution_count": null,
   "metadata": {},
   "outputs": [],
   "source": [
    "print(df4['xs_weight'])\n",
    "plt.hist(df4['xs_weight'])"
   ]
  },
  {
   "cell_type": "code",
   "execution_count": null,
   "metadata": {},
   "outputs": [],
   "source": [
    "print('TTToHadronic weight: ', df1['xs_weight'][10000])\n",
    "print('TTToSL weight: ', df2['xs_weight'][0])\n",
    "print('TTL2NU weight: ', df3['xs_weight'][0])\n",
    "print('TTH125 weight: ', df4['xs_weight'][0])"
   ]
  },
  {
   "cell_type": "markdown",
   "metadata": {},
   "source": [
    "# Updates from 08/02 grind\n",
    "- I trained on full dataset and got like 10% more accuracy, actually a v good now, loss also down a fair bit, 0.1\n",
    "\n",
    "- But does take like 10 mins to run training data\n",
    "\n",
    "- Actually, not that good\n"
   ]
  }
 ],
 "metadata": {
  "kernelspec": {
   "display_name": "Python 3",
   "language": "python",
   "name": "python3"
  },
  "language_info": {
   "codemirror_mode": {
    "name": "ipython",
    "version": 3
   },
   "file_extension": ".py",
   "mimetype": "text/x-python",
   "name": "python",
   "nbconvert_exporter": "python",
   "pygments_lexer": "ipython3",
   "version": "3.7.3"
  }
 },
 "nbformat": 4,
 "nbformat_minor": 4
}
