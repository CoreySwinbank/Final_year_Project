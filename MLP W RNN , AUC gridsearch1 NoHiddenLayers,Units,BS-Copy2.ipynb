{
 "cells": [
  {
   "cell_type": "code",
   "execution_count": 1,
   "metadata": {},
   "outputs": [],
   "source": [
    "import numpy as np\n",
    "import pandas as pd \n",
    "from sklearn.model_selection import train_test_split\n",
    "from sklearn.preprocessing import StandardScaler\n",
    "from tensorflow import keras\n",
    "#from tensorflow.keras.utils import to_categorical ## specific  one I wanna use\n",
    "from tensorflow.keras import utils\n",
    "#from tensorflow.keras.layers import Input, Dense, Dropout  # Specific ones I wanna use, can just import whole module\n",
    "from tensorflow.keras import layers \n",
    "from tensorflow.keras.models import Model\n",
    "import h5py\n",
    "#import tables\n",
    "import matplotlib.pyplot as plt\n",
    "#import tensorflow as tf\n",
    "from sklearn.metrics import confusion_matrix, ConfusionMatrixDisplay\n",
    "from sklearn.metrics import plot_confusion_matrix\n",
    "from sklearn.metrics import roc_curve, auc\n",
    "from sklearn.metrics import precision_recall_curve\n",
    "from sklearn.utils.class_weight import compute_class_weight\n",
    "\n",
    "\n",
    "from sklearn.model_selection import GridSearchCV\n",
    "from tensorflow.keras.wrappers.scikit_learn import KerasClassifier\n",
    "\n",
    "from tensorflow.keras.optimizers import Adam"
   ]
  },
  {
   "cell_type": "code",
   "execution_count": 2,
   "metadata": {},
   "outputs": [
    {
     "data": {
      "text/plain": [
       "True"
      ]
     },
     "execution_count": 2,
     "metadata": {},
     "output_type": "execute_result"
    }
   ],
   "source": [
    "import tensorflow as tf\n",
    "gpu_available = tf.test.is_gpu_available()\n",
    "gpu_available"
   ]
  },
  {
   "cell_type": "code",
   "execution_count": 16,
   "metadata": {},
   "outputs": [
    {
     "data": {
      "text/plain": [
       "4"
      ]
     },
     "execution_count": 16,
     "metadata": {},
     "output_type": "execute_result"
    }
   ],
   "source": [
    "x=1\n",
    "y=3\n",
    "x+y"
   ]
  },
  {
   "cell_type": "code",
   "execution_count": 4,
   "metadata": {},
   "outputs": [],
   "source": [
    "# Load the HDF5 file\n",
    "with h5py.File('DF_event_based.h5', 'r') as hf:\n",
    "    # Access the dataset by name and load it into a pandas dataframe\n",
    "    df_total = pd.DataFrame(hf['dataset_name'][:])\n",
    "\n",
    "with h5py.File('4_event_types_weights.h5', 'r') as f:\n",
    "    df_weights = f['array'][:]\n",
    "\n",
    "with h5py.File('predictions_16pad_128_50epoch_4Layers_SEED10.h5', 'r') as f:\n",
    "    predicted_val = f['val_preds'][:]\n",
    "    predicted_train = f['train_preds'][:]\n",
    "\n",
    "with h5py.File('4_event_types_labels.h5', 'r') as f:\n",
    "    df_labels = f['array'][:]"
   ]
  },
  {
   "cell_type": "code",
   "execution_count": 5,
   "metadata": {},
   "outputs": [],
   "source": [
    "# df's now have no titles, but doesnt matter for the model obvs.\n",
    "df_total = df_total.rename(columns={df_total.columns[0]: 'dataset'})\n",
    "#df_total"
   ]
  },
  {
   "cell_type": "code",
   "execution_count": 6,
   "metadata": {},
   "outputs": [],
   "source": [
    "df_Xvars = df_total.drop(['dataset'], axis = 1, inplace = False)   #Need to remove dataset (prediction) column\n",
    "#df_Xvars"
   ]
  },
  {
   "cell_type": "code",
   "execution_count": 7,
   "metadata": {},
   "outputs": [
    {
     "name": "stdout",
     "output_type": "stream",
     "text": [
      "There are [10] variables in this model\n",
      "The dataset has 881096 processes\n",
      "[10]\n"
     ]
    }
   ],
   "source": [
    "x = df_Xvars.values\n",
    "y = df_labels\n",
    "\n",
    "X_train, X_valid, y_train, y_valid = train_test_split(x, y, train_size=0.8, test_size=0.2,\n",
    "                                                      random_state=10)\n",
    "\n",
    "input_shape = [X_train.shape[1]]\n",
    "print('There are', input_shape, 'variables in this model')\n",
    "print('The dataset has', len(y), 'processes')\n",
    "print(input_shape)"
   ]
  },
  {
   "cell_type": "code",
   "execution_count": 8,
   "metadata": {},
   "outputs": [],
   "source": [
    "# print(predicted_train.shape)\n",
    "# print(predicted_val.shape)\n",
    "# print(X_train.shape)\n",
    "# print(X_valid.shape)"
   ]
  },
  {
   "cell_type": "code",
   "execution_count": 9,
   "metadata": {},
   "outputs": [
    {
     "name": "stdout",
     "output_type": "stream",
     "text": [
      "(704876, 11)\n",
      "(176220, 11)\n",
      "[0.61670357 0.46361521 0.50274837 ... 0.20900938 0.78310931 0.48962942]\n",
      "[[0.61670357]\n",
      " [0.4636152 ]\n",
      " [0.50274837]\n",
      " ...\n",
      " [0.20900938]\n",
      " [0.7831093 ]\n",
      " [0.48962942]]\n"
     ]
    }
   ],
   "source": [
    "X_train = np.hstack((X_train, predicted_train))\n",
    "X_valid = np.hstack((X_valid, predicted_val))\n",
    "print(X_train.shape)\n",
    "print(X_valid.shape)\n",
    "print(X_train[:,-1])\n",
    "print(predicted_train)\n",
    "\n",
    "input_shape = [X_train.shape[1]] "
   ]
  },
  {
   "cell_type": "code",
   "execution_count": null,
   "metadata": {
    "scrolled": true
   },
   "outputs": [
    {
     "name": "stdout",
     "output_type": "stream",
     "text": [
      "Fitting 4 folds for each of 32 candidates, totalling 128 fits\n",
      "[CV] activation=relu, batch_size=32, dropout_rate=0.2, learning_rate=0.001, num_hidden_layers=2, optimizer=adam, units=64 \n"
     ]
    },
    {
     "name": "stderr",
     "output_type": "stream",
     "text": [
      "[Parallel(n_jobs=1)]: Using backend SequentialBackend with 1 concurrent workers.\n"
     ]
    },
    {
     "name": "stdout",
     "output_type": "stream",
     "text": [
      "Train on 528657 samples, validate on 176220 samples\n",
      "Epoch 1/20\n",
      "528657/528657 [==============================] - 105s 199us/sample - loss: 0.5575 - accuracy: 0.7207 - val_loss: 0.5562 - val_accuracy: 0.7213\n",
      "Epoch 2/20\n",
      "528657/528657 [==============================] - 105s 198us/sample - loss: 0.5507 - accuracy: 0.7268 - val_loss: 0.5518 - val_accuracy: 0.7341\n",
      "Epoch 3/20\n",
      "528657/528657 [==============================] - 105s 198us/sample - loss: 0.5498 - accuracy: 0.7281 - val_loss: 0.5519 - val_accuracy: 0.7025\n",
      "Epoch 4/20\n",
      "528657/528657 [==============================] - 102s 193us/sample - loss: 0.5490 - accuracy: 0.7275 - val_loss: 0.5500 - val_accuracy: 0.7379\n",
      "Epoch 5/20\n",
      "132512/528657 [======>.......................] - ETA: 1:05 - loss: 0.5492 - accuracy: 0.7247"
     ]
    }
   ],
   "source": [
    "from tensorflow.keras.layers import Dense, Dropout, BatchNormalization\n",
    "from tensorflow.keras.models import Sequential\n",
    "from tensorflow.keras.optimizers import Adam\n",
    "from tensorflow.keras.wrappers.scikit_learn import KerasClassifier\n",
    "from sklearn.model_selection import GridSearchCV\n",
    "from sklearn.utils.class_weight import compute_class_weight\n",
    "\n",
    "def create_model(num_hidden_layers=1, units=256, learning_rate=0.001, dropout_rate=0.2, optimizer='adam', activation='relu'):\n",
    "    model = Sequential([\n",
    "        BatchNormalization(input_shape=input_shape)\n",
    "    ])\n",
    "\n",
    "    for i in range(num_hidden_layers):\n",
    "        model.add(Dense(units=units, activation=activation))\n",
    "        model.add(BatchNormalization())\n",
    "        model.add(Dropout(rate=dropout_rate))\n",
    "\n",
    "    model.add(Dense(units=1, activation='sigmoid'))\n",
    "\n",
    "    optimizer = Adam(learning_rate=learning_rate)\n",
    "\n",
    "    model.compile(\n",
    "        optimizer=optimizer,\n",
    "        loss='binary_crossentropy',\n",
    "        metrics=['accuracy'],\n",
    "    )\n",
    "\n",
    "    return model\n",
    "\n",
    "\n",
    "# Define the parameter grid\n",
    "param_grid = {\n",
    "    'batch_size': [32,64,128,256],\n",
    "    'dropout_rate': [0.2],\n",
    "    'optimizer': ['adam'],\n",
    "    'learning_rate': [0.001],\n",
    "    'activation': ['relu'],\n",
    "    'num_hidden_layers': [2, 3],\n",
    "    'units': [64, 128,256, 512]\n",
    "}\n",
    "\n",
    "# Define a wrapper function for the MLP NN model\n",
    "model = KerasClassifier(build_fn=create_model, epochs=20, units=256)\n",
    "\n",
    "from sklearn.model_selection import GridSearchCV\n",
    "from sklearn.metrics import make_scorer, accuracy_score, roc_auc_score\n",
    "\n",
    "#Define the scoring functions\n",
    "scoring = {\n",
    "    'accuracy': make_scorer(accuracy_score),\n",
    "    'roc_auc': make_scorer(roc_auc_score)\n",
    "}\n",
    "\n",
    "\n",
    "# Create a GridSearchCV object\n",
    "grid_search = GridSearchCV(\n",
    "    estimator=model,\n",
    "    param_grid=param_grid,\n",
    "    scoring=scoring,\n",
    "    refit='roc_auc',\n",
    "    cv=4,\n",
    "    verbose=2\n",
    ")    \n",
    "\n",
    "early_stopping = keras.callbacks.EarlyStopping(\n",
    "    patience=10,\n",
    "    min_delta=0.001,\n",
    "    restore_best_weights=True,\n",
    ")\n",
    "\n",
    "\n",
    "class_weights = compute_class_weight('balanced', np.unique(y_train), y_train)\n",
    "class_weight = {0: class_weights[0], 1: class_weights[1]} \n",
    "\n",
    "# Fit the GridSearchCV object\n",
    "grid_result = grid_search.fit(X_train, y_train, validation_data=(X_valid, y_valid), class_weight=class_weight, callbacks=[early_stopping])\n",
    "\n"
   ]
  },
  {
   "cell_type": "code",
   "execution_count": 17,
   "metadata": {},
   "outputs": [],
   "source": [
    "# Evaluate the performance of the best model\n",
    "best_params = grid_search.best_params_\n",
    "best_model = create_model(\n",
    "    num_hidden_layers=best_params['num_hidden_layers'],\n",
    "    learning_rate=best_params['learning_rate'],\n",
    "    dropout_rate=best_params['dropout_rate'],\n",
    "    optimizer=best_params['optimizer'],\n",
    "    activation=best_params['activation']\n",
    ")\n",
    "\n"
   ]
  },
  {
   "cell_type": "code",
   "execution_count": 18,
   "metadata": {},
   "outputs": [
    {
     "name": "stderr",
     "output_type": "stream",
     "text": [
      "IOPub data rate exceeded.\n",
      "The notebook server will temporarily stop sending output\n",
      "to the client in order to avoid crashing it.\n",
      "To change this limit, set the config variable\n",
      "`--NotebookApp.iopub_data_rate_limit`.\n",
      "\n",
      "Current values:\n",
      "NotebookApp.iopub_data_rate_limit=1000000.0 (bytes/sec)\n",
      "NotebookApp.rate_limit_window=3.0 (secs)\n",
      "\n"
     ]
    },
    {
     "name": "stdout",
     "output_type": "stream",
     "text": [
      "Validation accuracy: 0.20041993\n",
      "Best: 0.729197 using {'activation': 'relu', 'batch_size': 256, 'dropout_rate': 0.2, 'learning_rate': 0.001, 'num_hidden_layers': 3, 'optimizer': 'adam', 'units': 256}\n",
      "0.727040 (0.001184) with: {'activation': 'relu', 'batch_size': 32, 'dropout_rate': 0.2, 'learning_rate': 0.001, 'num_hidden_layers': 2, 'optimizer': 'adam', 'units': 64}\n",
      "0.727457 (0.000875) with: {'activation': 'relu', 'batch_size': 32, 'dropout_rate': 0.2, 'learning_rate': 0.001, 'num_hidden_layers': 2, 'optimizer': 'adam', 'units': 128}\n",
      "0.727453 (0.000660) with: {'activation': 'relu', 'batch_size': 32, 'dropout_rate': 0.2, 'learning_rate': 0.001, 'num_hidden_layers': 2, 'optimizer': 'adam', 'units': 256}\n",
      "0.727267 (0.000825) with: {'activation': 'relu', 'batch_size': 32, 'dropout_rate': 0.2, 'learning_rate': 0.001, 'num_hidden_layers': 2, 'optimizer': 'adam', 'units': 512}\n",
      "0.726848 (0.000699) with: {'activation': 'relu', 'batch_size': 32, 'dropout_rate': 0.2, 'learning_rate': 0.001, 'num_hidden_layers': 3, 'optimizer': 'adam', 'units': 64}\n",
      "0.727176 (0.001177) with: {'activation': 'relu', 'batch_size': 32, 'dropout_rate': 0.2, 'learning_rate': 0.001, 'num_hidden_layers': 3, 'optimizer': 'adam', 'units': 128}\n",
      "0.728076 (0.000849) with: {'activation': 'relu', 'batch_size': 32, 'dropout_rate': 0.2, 'learning_rate': 0.001, 'num_hidden_layers': 3, 'optimizer': 'adam', 'units': 256}\n",
      "0.727457 (0.000730) with: {'activation': 'relu', 'batch_size': 32, 'dropout_rate': 0.2, 'learning_rate': 0.001, 'num_hidden_layers': 3, 'optimizer': 'adam', 'units': 512}\n",
      "0.727172 (0.000766) with: {'activation': 'relu', 'batch_size': 64, 'dropout_rate': 0.2, 'learning_rate': 0.001, 'num_hidden_layers': 2, 'optimizer': 'adam', 'units': 64}\n",
      "0.728416 (0.000643) with: {'activation': 'relu', 'batch_size': 64, 'dropout_rate': 0.2, 'learning_rate': 0.001, 'num_hidden_layers': 2, 'optimizer': 'adam', 'units': 128}\n",
      "0.728155 (0.000468) with: {'activation': 'relu', 'batch_size': 64, 'dropout_rate': 0.2, 'learning_rate': 0.001, 'num_hidden_layers': 2, 'optimizer': 'adam', 'units': 256}\n",
      "0.727957 (0.000851) with: {'activation': 'relu', 'batch_size': 64, 'dropout_rate': 0.2, 'learning_rate': 0.001, 'num_hidden_layers': 2, 'optimizer': 'adam', 'units': 512}\n",
      "0.727755 (0.000877) with: {'activation': 'relu', 'batch_size': 64, 'dropout_rate': 0.2, 'learning_rate': 0.001, 'num_hidden_layers': 3, 'optimizer': 'adam', 'units': 64}\n",
      "0.727934 (0.000959) with: {'activation': 'relu', 'batch_size': 64, 'dropout_rate': 0.2, 'learning_rate': 0.001, 'num_hidden_layers': 3, 'optimizer': 'adam', 'units': 128}\n",
      "0.727820 (0.000761) with: {'activation': 'relu', 'batch_size': 64, 'dropout_rate': 0.2, 'learning_rate': 0.001, 'num_hidden_layers': 3, 'optimizer': 'adam', 'units': 256}\n",
      "0.727878 (0.000817) with: {'activation': 'relu', 'batch_size': 64, 'dropout_rate': 0.2, 'learning_rate': 0.001, 'num_hidden_layers': 3, 'optimizer': 'adam', 'units': 512}\n",
      "0.727015 (0.000984) with: {'activation': 'relu', 'batch_size': 128, 'dropout_rate': 0.2, 'learning_rate': 0.001, 'num_hidden_layers': 2, 'optimizer': 'adam', 'units': 64}\n",
      "0.728573 (0.000724) with: {'activation': 'relu', 'batch_size': 128, 'dropout_rate': 0.2, 'learning_rate': 0.001, 'num_hidden_layers': 2, 'optimizer': 'adam', 'units': 128}\n",
      "0.728472 (0.000373) with: {'activation': 'relu', 'batch_size': 128, 'dropout_rate': 0.2, 'learning_rate': 0.001, 'num_hidden_layers': 2, 'optimizer': 'adam', 'units': 256}\n",
      "0.728636 (0.001197) with: {'activation': 'relu', 'batch_size': 128, 'dropout_rate': 0.2, 'learning_rate': 0.001, 'num_hidden_layers': 2, 'optimizer': 'adam', 'units': 512}\n",
      "0.728092 (0.000973) with: {'activation': 'relu', 'batch_size': 128, 'dropout_rate': 0.2, 'learning_rate': 0.001, 'num_hidden_layers': 3, 'optimizer': 'adam', 'units': 64}\n",
      "0.728384 (0.000910) with: {'activation': 'relu', 'batch_size': 128, 'dropout_rate': 0.2, 'learning_rate': 0.001, 'num_hidden_layers': 3, 'optimizer': 'adam', 'units': 128}\n",
      "0.728310 (0.001116) with: {'activation': 'relu', 'batch_size': 128, 'dropout_rate': 0.2, 'learning_rate': 0.001, 'num_hidden_layers': 3, 'optimizer': 'adam', 'units': 256}\n",
      "0.728915 (0.000932) with: {'activation': 'relu', 'batch_size': 128, 'dropout_rate': 0.2, 'learning_rate': 0.001, 'num_hidden_layers': 3, 'optimizer': 'adam', 'units': 512}\n",
      "0.727761 (0.000943) with: {'activation': 'relu', 'batch_size': 256, 'dropout_rate': 0.2, 'learning_rate': 0.001, 'num_hidden_layers': 2, 'optimizer': 'adam', 'units': 64}\n",
      "0.728514 (0.001338) with: {'activation': 'relu', 'batch_size': 256, 'dropout_rate': 0.2, 'learning_rate': 0.001, 'num_hidden_layers': 2, 'optimizer': 'adam', 'units': 128}\n",
      "0.729192 (0.001003) with: {'activation': 'relu', 'batch_size': 256, 'dropout_rate': 0.2, 'learning_rate': 0.001, 'num_hidden_layers': 2, 'optimizer': 'adam', 'units': 256}\n",
      "0.728869 (0.000838) with: {'activation': 'relu', 'batch_size': 256, 'dropout_rate': 0.2, 'learning_rate': 0.001, 'num_hidden_layers': 2, 'optimizer': 'adam', 'units': 512}\n",
      "0.727749 (0.001024) with: {'activation': 'relu', 'batch_size': 256, 'dropout_rate': 0.2, 'learning_rate': 0.001, 'num_hidden_layers': 3, 'optimizer': 'adam', 'units': 64}\n",
      "0.729162 (0.000602) with: {'activation': 'relu', 'batch_size': 256, 'dropout_rate': 0.2, 'learning_rate': 0.001, 'num_hidden_layers': 3, 'optimizer': 'adam', 'units': 128}\n",
      "0.729197 (0.001140) with: {'activation': 'relu', 'batch_size': 256, 'dropout_rate': 0.2, 'learning_rate': 0.001, 'num_hidden_layers': 3, 'optimizer': 'adam', 'units': 256}\n",
      "0.728556 (0.000869) with: {'activation': 'relu', 'batch_size': 256, 'dropout_rate': 0.2, 'learning_rate': 0.001, 'num_hidden_layers': 3, 'optimizer': 'adam', 'units': 512}\n"
     ]
    }
   ],
   "source": [
    "# Generate some accuracy metrics\n",
    "score = best_model.evaluate(X_valid, y_valid)\n",
    "print('Validation accuracy:', score[1])\n",
    "\n",
    "# summarize results\n",
    "print(\"Best: %f using %s\" % (grid_search.best_score_, grid_search.best_params_))\n",
    "means = grid_search.cv_results_['mean_test_roc_auc']\n",
    "stds = grid_search.cv_results_['std_test_roc_auc']\n",
    "params = grid_search.cv_results_['params']\n",
    "for mean, stdev, param in zip(means, stds, params):\n",
    "    print(\"%f (%f) with: %r\" % (mean, stdev, param))"
   ]
  },
  {
   "cell_type": "code",
   "execution_count": 19,
   "metadata": {},
   "outputs": [
    {
     "data": {
      "text/plain": [
       "{'mean_fit_time': array([1430.43046856, 1412.95798379, 1348.29705077, 1263.41430646,\n",
       "        1462.0354839 , 1584.8133809 , 1815.22458506, 1885.77348661,\n",
       "         596.31091577,  765.1419934 ,  848.81657422,  743.86204582,\n",
       "         832.64891297,  927.12302423,  906.76774222,  862.63174677,\n",
       "         317.3424657 ,  422.60846806,  388.64365697,  369.90416259,\n",
       "         410.21157414,  444.99539328,  462.28287143,  433.9072476 ,\n",
       "         170.03796315,  191.3905468 ,  205.32314062,  194.91421944,\n",
       "         205.08505791,  216.15482169,  230.01887101,  303.80408025]),\n",
       " 'std_fit_time': array([237.47343351,  42.80891283, 120.09840628, 155.30235825,\n",
       "        240.71380991, 281.54112586,  80.80485179, 149.8173155 ,\n",
       "         51.99720831,  72.74167957,  13.45026161,  79.09065166,\n",
       "        154.08270608,  81.68180039,  68.59376111,  52.81637376,\n",
       "         58.67737538,   5.52355967,  52.22160244,  49.98288396,\n",
       "         49.18443662,  36.05196484,   7.23610751,  11.34638092,\n",
       "         20.11431808,  18.7388677 ,   4.63325408,   3.3673579 ,\n",
       "         16.89022104,   6.2451638 ,  12.18045597,  18.11045638]),\n",
       " 'mean_score_time': array([7.41787374, 6.21680486, 6.37411362, 6.14322591, 6.59329897,\n",
       "        6.27163118, 6.46578228, 6.11636233, 3.06184518, 2.89312685,\n",
       "        2.72261643, 2.64341736, 2.99257421, 3.02723682, 3.12182283,\n",
       "        2.99833375, 1.58819497, 1.49959743, 1.54487377, 1.45138597,\n",
       "        1.68334025, 1.76572967, 1.80724519, 1.89285845, 0.94681203,\n",
       "        0.96842617, 1.01616621, 0.96038032, 1.02658325, 1.04580933,\n",
       "        1.13505155, 1.46787918]),\n",
       " 'std_score_time': array([1.17380216, 0.11815663, 0.07962226, 0.30415577, 0.06112533,\n",
       "        0.50220389, 0.82831308, 0.42741779, 0.41539632, 0.23662812,\n",
       "        0.06321546, 0.02376969, 0.09797833, 0.08230468, 0.14576834,\n",
       "        0.02698027, 0.06254091, 0.04737439, 0.12999402, 0.0576983 ,\n",
       "        0.04182581, 0.0941169 , 0.09880642, 0.049117  , 0.03505664,\n",
       "        0.06407083, 0.07756392, 0.03619287, 0.01739351, 0.05755119,\n",
       "        0.15034249, 0.0526596 ]),\n",
       " 'param_activation': masked_array(data=['relu', 'relu', 'relu', 'relu', 'relu', 'relu', 'relu',\n",
       "                    'relu', 'relu', 'relu', 'relu', 'relu', 'relu', 'relu',\n",
       "                    'relu', 'relu', 'relu', 'relu', 'relu', 'relu', 'relu',\n",
       "                    'relu', 'relu', 'relu', 'relu', 'relu', 'relu', 'relu',\n",
       "                    'relu', 'relu', 'relu', 'relu'],\n",
       "              mask=[False, False, False, False, False, False, False, False,\n",
       "                    False, False, False, False, False, False, False, False,\n",
       "                    False, False, False, False, False, False, False, False,\n",
       "                    False, False, False, False, False, False, False, False],\n",
       "        fill_value='?',\n",
       "             dtype=object),\n",
       " 'param_batch_size': masked_array(data=[32, 32, 32, 32, 32, 32, 32, 32, 64, 64, 64, 64, 64, 64,\n",
       "                    64, 64, 128, 128, 128, 128, 128, 128, 128, 128, 256,\n",
       "                    256, 256, 256, 256, 256, 256, 256],\n",
       "              mask=[False, False, False, False, False, False, False, False,\n",
       "                    False, False, False, False, False, False, False, False,\n",
       "                    False, False, False, False, False, False, False, False,\n",
       "                    False, False, False, False, False, False, False, False],\n",
       "        fill_value='?',\n",
       "             dtype=object),\n",
       " 'param_dropout_rate': masked_array(data=[0.2, 0.2, 0.2, 0.2, 0.2, 0.2, 0.2, 0.2, 0.2, 0.2, 0.2,\n",
       "                    0.2, 0.2, 0.2, 0.2, 0.2, 0.2, 0.2, 0.2, 0.2, 0.2, 0.2,\n",
       "                    0.2, 0.2, 0.2, 0.2, 0.2, 0.2, 0.2, 0.2, 0.2, 0.2],\n",
       "              mask=[False, False, False, False, False, False, False, False,\n",
       "                    False, False, False, False, False, False, False, False,\n",
       "                    False, False, False, False, False, False, False, False,\n",
       "                    False, False, False, False, False, False, False, False],\n",
       "        fill_value='?',\n",
       "             dtype=object),\n",
       " 'param_learning_rate': masked_array(data=[0.001, 0.001, 0.001, 0.001, 0.001, 0.001, 0.001, 0.001,\n",
       "                    0.001, 0.001, 0.001, 0.001, 0.001, 0.001, 0.001, 0.001,\n",
       "                    0.001, 0.001, 0.001, 0.001, 0.001, 0.001, 0.001, 0.001,\n",
       "                    0.001, 0.001, 0.001, 0.001, 0.001, 0.001, 0.001, 0.001],\n",
       "              mask=[False, False, False, False, False, False, False, False,\n",
       "                    False, False, False, False, False, False, False, False,\n",
       "                    False, False, False, False, False, False, False, False,\n",
       "                    False, False, False, False, False, False, False, False],\n",
       "        fill_value='?',\n",
       "             dtype=object),\n",
       " 'param_num_hidden_layers': masked_array(data=[2, 2, 2, 2, 3, 3, 3, 3, 2, 2, 2, 2, 3, 3, 3, 3, 2, 2,\n",
       "                    2, 2, 3, 3, 3, 3, 2, 2, 2, 2, 3, 3, 3, 3],\n",
       "              mask=[False, False, False, False, False, False, False, False,\n",
       "                    False, False, False, False, False, False, False, False,\n",
       "                    False, False, False, False, False, False, False, False,\n",
       "                    False, False, False, False, False, False, False, False],\n",
       "        fill_value='?',\n",
       "             dtype=object),\n",
       " 'param_optimizer': masked_array(data=['adam', 'adam', 'adam', 'adam', 'adam', 'adam', 'adam',\n",
       "                    'adam', 'adam', 'adam', 'adam', 'adam', 'adam', 'adam',\n",
       "                    'adam', 'adam', 'adam', 'adam', 'adam', 'adam', 'adam',\n",
       "                    'adam', 'adam', 'adam', 'adam', 'adam', 'adam', 'adam',\n",
       "                    'adam', 'adam', 'adam', 'adam'],\n",
       "              mask=[False, False, False, False, False, False, False, False,\n",
       "                    False, False, False, False, False, False, False, False,\n",
       "                    False, False, False, False, False, False, False, False,\n",
       "                    False, False, False, False, False, False, False, False],\n",
       "        fill_value='?',\n",
       "             dtype=object),\n",
       " 'param_units': masked_array(data=[64, 128, 256, 512, 64, 128, 256, 512, 64, 128, 256,\n",
       "                    512, 64, 128, 256, 512, 64, 128, 256, 512, 64, 128,\n",
       "                    256, 512, 64, 128, 256, 512, 64, 128, 256, 512],\n",
       "              mask=[False, False, False, False, False, False, False, False,\n",
       "                    False, False, False, False, False, False, False, False,\n",
       "                    False, False, False, False, False, False, False, False,\n",
       "                    False, False, False, False, False, False, False, False],\n",
       "        fill_value='?',\n",
       "             dtype=object),\n",
       " 'params': [{'activation': 'relu',\n",
       "   'batch_size': 32,\n",
       "   'dropout_rate': 0.2,\n",
       "   'learning_rate': 0.001,\n",
       "   'num_hidden_layers': 2,\n",
       "   'optimizer': 'adam',\n",
       "   'units': 64},\n",
       "  {'activation': 'relu',\n",
       "   'batch_size': 32,\n",
       "   'dropout_rate': 0.2,\n",
       "   'learning_rate': 0.001,\n",
       "   'num_hidden_layers': 2,\n",
       "   'optimizer': 'adam',\n",
       "   'units': 128},\n",
       "  {'activation': 'relu',\n",
       "   'batch_size': 32,\n",
       "   'dropout_rate': 0.2,\n",
       "   'learning_rate': 0.001,\n",
       "   'num_hidden_layers': 2,\n",
       "   'optimizer': 'adam',\n",
       "   'units': 256},\n",
       "  {'activation': 'relu',\n",
       "   'batch_size': 32,\n",
       "   'dropout_rate': 0.2,\n",
       "   'learning_rate': 0.001,\n",
       "   'num_hidden_layers': 2,\n",
       "   'optimizer': 'adam',\n",
       "   'units': 512},\n",
       "  {'activation': 'relu',\n",
       "   'batch_size': 32,\n",
       "   'dropout_rate': 0.2,\n",
       "   'learning_rate': 0.001,\n",
       "   'num_hidden_layers': 3,\n",
       "   'optimizer': 'adam',\n",
       "   'units': 64},\n",
       "  {'activation': 'relu',\n",
       "   'batch_size': 32,\n",
       "   'dropout_rate': 0.2,\n",
       "   'learning_rate': 0.001,\n",
       "   'num_hidden_layers': 3,\n",
       "   'optimizer': 'adam',\n",
       "   'units': 128},\n",
       "  {'activation': 'relu',\n",
       "   'batch_size': 32,\n",
       "   'dropout_rate': 0.2,\n",
       "   'learning_rate': 0.001,\n",
       "   'num_hidden_layers': 3,\n",
       "   'optimizer': 'adam',\n",
       "   'units': 256},\n",
       "  {'activation': 'relu',\n",
       "   'batch_size': 32,\n",
       "   'dropout_rate': 0.2,\n",
       "   'learning_rate': 0.001,\n",
       "   'num_hidden_layers': 3,\n",
       "   'optimizer': 'adam',\n",
       "   'units': 512},\n",
       "  {'activation': 'relu',\n",
       "   'batch_size': 64,\n",
       "   'dropout_rate': 0.2,\n",
       "   'learning_rate': 0.001,\n",
       "   'num_hidden_layers': 2,\n",
       "   'optimizer': 'adam',\n",
       "   'units': 64},\n",
       "  {'activation': 'relu',\n",
       "   'batch_size': 64,\n",
       "   'dropout_rate': 0.2,\n",
       "   'learning_rate': 0.001,\n",
       "   'num_hidden_layers': 2,\n",
       "   'optimizer': 'adam',\n",
       "   'units': 128},\n",
       "  {'activation': 'relu',\n",
       "   'batch_size': 64,\n",
       "   'dropout_rate': 0.2,\n",
       "   'learning_rate': 0.001,\n",
       "   'num_hidden_layers': 2,\n",
       "   'optimizer': 'adam',\n",
       "   'units': 256},\n",
       "  {'activation': 'relu',\n",
       "   'batch_size': 64,\n",
       "   'dropout_rate': 0.2,\n",
       "   'learning_rate': 0.001,\n",
       "   'num_hidden_layers': 2,\n",
       "   'optimizer': 'adam',\n",
       "   'units': 512},\n",
       "  {'activation': 'relu',\n",
       "   'batch_size': 64,\n",
       "   'dropout_rate': 0.2,\n",
       "   'learning_rate': 0.001,\n",
       "   'num_hidden_layers': 3,\n",
       "   'optimizer': 'adam',\n",
       "   'units': 64},\n",
       "  {'activation': 'relu',\n",
       "   'batch_size': 64,\n",
       "   'dropout_rate': 0.2,\n",
       "   'learning_rate': 0.001,\n",
       "   'num_hidden_layers': 3,\n",
       "   'optimizer': 'adam',\n",
       "   'units': 128},\n",
       "  {'activation': 'relu',\n",
       "   'batch_size': 64,\n",
       "   'dropout_rate': 0.2,\n",
       "   'learning_rate': 0.001,\n",
       "   'num_hidden_layers': 3,\n",
       "   'optimizer': 'adam',\n",
       "   'units': 256},\n",
       "  {'activation': 'relu',\n",
       "   'batch_size': 64,\n",
       "   'dropout_rate': 0.2,\n",
       "   'learning_rate': 0.001,\n",
       "   'num_hidden_layers': 3,\n",
       "   'optimizer': 'adam',\n",
       "   'units': 512},\n",
       "  {'activation': 'relu',\n",
       "   'batch_size': 128,\n",
       "   'dropout_rate': 0.2,\n",
       "   'learning_rate': 0.001,\n",
       "   'num_hidden_layers': 2,\n",
       "   'optimizer': 'adam',\n",
       "   'units': 64},\n",
       "  {'activation': 'relu',\n",
       "   'batch_size': 128,\n",
       "   'dropout_rate': 0.2,\n",
       "   'learning_rate': 0.001,\n",
       "   'num_hidden_layers': 2,\n",
       "   'optimizer': 'adam',\n",
       "   'units': 128},\n",
       "  {'activation': 'relu',\n",
       "   'batch_size': 128,\n",
       "   'dropout_rate': 0.2,\n",
       "   'learning_rate': 0.001,\n",
       "   'num_hidden_layers': 2,\n",
       "   'optimizer': 'adam',\n",
       "   'units': 256},\n",
       "  {'activation': 'relu',\n",
       "   'batch_size': 128,\n",
       "   'dropout_rate': 0.2,\n",
       "   'learning_rate': 0.001,\n",
       "   'num_hidden_layers': 2,\n",
       "   'optimizer': 'adam',\n",
       "   'units': 512},\n",
       "  {'activation': 'relu',\n",
       "   'batch_size': 128,\n",
       "   'dropout_rate': 0.2,\n",
       "   'learning_rate': 0.001,\n",
       "   'num_hidden_layers': 3,\n",
       "   'optimizer': 'adam',\n",
       "   'units': 64},\n",
       "  {'activation': 'relu',\n",
       "   'batch_size': 128,\n",
       "   'dropout_rate': 0.2,\n",
       "   'learning_rate': 0.001,\n",
       "   'num_hidden_layers': 3,\n",
       "   'optimizer': 'adam',\n",
       "   'units': 128},\n",
       "  {'activation': 'relu',\n",
       "   'batch_size': 128,\n",
       "   'dropout_rate': 0.2,\n",
       "   'learning_rate': 0.001,\n",
       "   'num_hidden_layers': 3,\n",
       "   'optimizer': 'adam',\n",
       "   'units': 256},\n",
       "  {'activation': 'relu',\n",
       "   'batch_size': 128,\n",
       "   'dropout_rate': 0.2,\n",
       "   'learning_rate': 0.001,\n",
       "   'num_hidden_layers': 3,\n",
       "   'optimizer': 'adam',\n",
       "   'units': 512},\n",
       "  {'activation': 'relu',\n",
       "   'batch_size': 256,\n",
       "   'dropout_rate': 0.2,\n",
       "   'learning_rate': 0.001,\n",
       "   'num_hidden_layers': 2,\n",
       "   'optimizer': 'adam',\n",
       "   'units': 64},\n",
       "  {'activation': 'relu',\n",
       "   'batch_size': 256,\n",
       "   'dropout_rate': 0.2,\n",
       "   'learning_rate': 0.001,\n",
       "   'num_hidden_layers': 2,\n",
       "   'optimizer': 'adam',\n",
       "   'units': 128},\n",
       "  {'activation': 'relu',\n",
       "   'batch_size': 256,\n",
       "   'dropout_rate': 0.2,\n",
       "   'learning_rate': 0.001,\n",
       "   'num_hidden_layers': 2,\n",
       "   'optimizer': 'adam',\n",
       "   'units': 256},\n",
       "  {'activation': 'relu',\n",
       "   'batch_size': 256,\n",
       "   'dropout_rate': 0.2,\n",
       "   'learning_rate': 0.001,\n",
       "   'num_hidden_layers': 2,\n",
       "   'optimizer': 'adam',\n",
       "   'units': 512},\n",
       "  {'activation': 'relu',\n",
       "   'batch_size': 256,\n",
       "   'dropout_rate': 0.2,\n",
       "   'learning_rate': 0.001,\n",
       "   'num_hidden_layers': 3,\n",
       "   'optimizer': 'adam',\n",
       "   'units': 64},\n",
       "  {'activation': 'relu',\n",
       "   'batch_size': 256,\n",
       "   'dropout_rate': 0.2,\n",
       "   'learning_rate': 0.001,\n",
       "   'num_hidden_layers': 3,\n",
       "   'optimizer': 'adam',\n",
       "   'units': 128},\n",
       "  {'activation': 'relu',\n",
       "   'batch_size': 256,\n",
       "   'dropout_rate': 0.2,\n",
       "   'learning_rate': 0.001,\n",
       "   'num_hidden_layers': 3,\n",
       "   'optimizer': 'adam',\n",
       "   'units': 256},\n",
       "  {'activation': 'relu',\n",
       "   'batch_size': 256,\n",
       "   'dropout_rate': 0.2,\n",
       "   'learning_rate': 0.001,\n",
       "   'num_hidden_layers': 3,\n",
       "   'optimizer': 'adam',\n",
       "   'units': 512}],\n",
       " 'split0_test_accuracy': array([0.72565387, 0.74221849, 0.74683207, 0.73357016, 0.72386065,\n",
       "        0.72968863, 0.74387552, 0.73066468, 0.73822346, 0.74166236,\n",
       "        0.73008586, 0.74346126, 0.73736657, 0.7379681 , 0.73789432,\n",
       "        0.72659588, 0.75347153, 0.74095302, 0.74115164, 0.75212094,\n",
       "        0.73803619, 0.73486968, 0.7139128 , 0.74334209, 0.73771841,\n",
       "        0.73709418, 0.73347936, 0.74680369, 0.73674802, 0.73910305,\n",
       "        0.74624757, 0.7267945 ]),\n",
       " 'split1_test_accuracy': array([0.73447245, 0.74167939, 0.74464161, 0.73688989, 0.74335344,\n",
       "        0.74068631, 0.73918817, 0.74942543, 0.74203122, 0.73294594,\n",
       "        0.73840505, 0.7448232 , 0.73391065, 0.73693529, 0.7343022 ,\n",
       "        0.73655508, 0.74836425, 0.73253168, 0.74343856, 0.74217309,\n",
       "        0.73220254, 0.73126053, 0.75438517, 0.73826886, 0.74652563,\n",
       "        0.73750277, 0.74284271, 0.73298566, 0.73712823, 0.72747547,\n",
       "        0.73815536, 0.73717931]),\n",
       " 'split2_test_accuracy': array([0.7372928 , 0.73863204, 0.73922789, 0.75874338, 0.731357  ,\n",
       "        0.7377865 , 0.74448272, 0.74522044, 0.74648591, 0.73323535,\n",
       "        0.74775138, 0.74234333, 0.73622595, 0.73465404, 0.72217525,\n",
       "        0.74663345, 0.72842316, 0.74288811, 0.7448913 , 0.73729848,\n",
       "        0.73922789, 0.74714985, 0.74242846, 0.73214012, 0.72826426,\n",
       "        0.74511262, 0.7426668 , 0.75421493, 0.73431355, 0.73046607,\n",
       "        0.73780353, 0.7331559 ]),\n",
       " 'split3_test_accuracy': array([0.73323535, 0.71459377, 0.72512612, 0.73763329, 0.73935274,\n",
       "        0.73363258, 0.74161129, 0.72487643, 0.72279947, 0.74393794,\n",
       "        0.74701366, 0.7448232 , 0.74874446, 0.73894983, 0.71914493,\n",
       "        0.73505695, 0.73845613, 0.73549958, 0.74099842, 0.74477213,\n",
       "        0.74288811, 0.73561875, 0.73003479, 0.72983617, 0.74595815,\n",
       "        0.74252493, 0.73974997, 0.73831426, 0.72794648, 0.73341127,\n",
       "        0.7443295 , 0.75180883]),\n",
       " 'mean_test_accuracy': array([0.73266362, 0.73428092, 0.73895692, 0.74170918, 0.73448096,\n",
       "        0.7354485 , 0.74228942, 0.73754675, 0.73738502, 0.7379454 ,\n",
       "        0.74081399, 0.74386275, 0.73906191, 0.73712681, 0.72837918,\n",
       "        0.73621034, 0.74217877, 0.7379681 , 0.74261998, 0.74409116,\n",
       "        0.73808869, 0.7372247 , 0.7351903 , 0.73589681, 0.73961661,\n",
       "        0.74055862, 0.73968471, 0.74307963, 0.73403407, 0.73261396,\n",
       "        0.74163399, 0.73723463]),\n",
       " 'std_test_accuracy': array([0.00430594, 0.01144834, 0.0084513 , 0.00995297, 0.00750009,\n",
       "        0.00416457, 0.0020859 , 0.01009812, 0.00891424, 0.00492203,\n",
       "        0.00720172, 0.0010386 , 0.00572722, 0.0015955 , 0.00789589,\n",
       "        0.00711562, 0.00960289, 0.00414622, 0.00162899, 0.00535632,\n",
       "        0.00383998, 0.00596249, 0.01500121, 0.00528921, 0.00742342,\n",
       "        0.00338917, 0.00378736, 0.00810032, 0.00367683, 0.00429422,\n",
       "        0.00371901, 0.00919297]),\n",
       " 'rank_test_accuracy': array([30, 28, 14,  7, 27, 25,  5, 18, 19, 17,  9,  2, 13, 22, 32, 23,  6,\n",
       "        16,  4,  1, 15, 21, 26, 24, 12, 10, 11,  3, 29, 31,  8, 20],\n",
       "       dtype=int32),\n",
       " 'split0_test_roc_auc': array([0.7270594 , 0.72741148, 0.72699691, 0.727919  , 0.72700269,\n",
       "        0.7283157 , 0.7276733 , 0.72780753, 0.72733216, 0.72862956,\n",
       "        0.72812916, 0.7283162 , 0.72755189, 0.72750398, 0.72792471,\n",
       "        0.72710069, 0.72684738, 0.7279663 , 0.72858916, 0.72915467,\n",
       "        0.72716271, 0.72852722, 0.72729638, 0.72996426, 0.72754443,\n",
       "        0.72821119, 0.72949146, 0.73000969, 0.72747495, 0.72908827,\n",
       "        0.72966057, 0.72888598]),\n",
       " 'split1_test_roc_auc': array([0.72510016, 0.72707536, 0.72664671, 0.72627411, 0.72576552,\n",
       "        0.72522515, 0.72722769, 0.72633179, 0.72596518, 0.72756321,\n",
       "        0.72742252, 0.7265319 , 0.72669207, 0.72663534, 0.72737452,\n",
       "        0.72705183, 0.72562424, 0.72773997, 0.72805456, 0.7267197 ,\n",
       "        0.7270759 , 0.72691106, 0.72720868, 0.72768019, 0.72631089,\n",
       "        0.72672111, 0.72748306, 0.72796248, 0.72660045, 0.72822709,\n",
       "        0.72816007, 0.72712122]),\n",
       " 'split2_test_roc_auc': array([0.72801105, 0.72885869, 0.72829461, 0.72664649, 0.72771729,\n",
       "        0.7278088 , 0.72948235, 0.72831522, 0.72809515, 0.72931689,\n",
       "        0.72869449, 0.72819848, 0.7291321 , 0.72919258, 0.72900243,\n",
       "        0.72890036, 0.7283845 , 0.72929453, 0.72902471, 0.72997268,\n",
       "        0.72907146, 0.72939337, 0.72986924, 0.72965401, 0.72870023,\n",
       "        0.73047197, 0.72999691, 0.72817941, 0.72940546, 0.7298422 ,\n",
       "        0.73085235, 0.72945879]),\n",
       " 'split3_test_roc_auc': array([0.72798755, 0.72648376, 0.72787435, 0.72822785, 0.72690496,\n",
       "        0.72735599, 0.72792199, 0.72737197, 0.72729683, 0.7281536 ,\n",
       "        0.72837244, 0.72878173, 0.72764366, 0.72840299, 0.72697731,\n",
       "        0.72845822, 0.72720263, 0.72929115, 0.72821926, 0.72869731,\n",
       "        0.72905754, 0.72870546, 0.72886447, 0.72836265, 0.72848667,\n",
       "        0.72865176, 0.72979538, 0.72932545, 0.72751388, 0.72949191,\n",
       "        0.72811595, 0.72875685]),\n",
       " 'mean_test_roc_auc': array([0.72703954, 0.72745732, 0.72745314, 0.72726686, 0.72684762,\n",
       "        0.72717641, 0.72807633, 0.72745663, 0.72717233, 0.72841581,\n",
       "        0.72815465, 0.72795708, 0.72775493, 0.72793372, 0.72781974,\n",
       "        0.72787777, 0.72701469, 0.72857299, 0.72847192, 0.72863609,\n",
       "        0.7280919 , 0.72838428, 0.72830969, 0.72891528, 0.72776055,\n",
       "        0.72851401, 0.7291917 , 0.72886926, 0.72774868, 0.72916237,\n",
       "        0.72919724, 0.72855571]),\n",
       " 'std_test_roc_auc': array([0.00118365, 0.00087459, 0.0006603 , 0.0008245 , 0.00069903,\n",
       "        0.0011766 , 0.00084902, 0.0007302 , 0.00076646, 0.00064291,\n",
       "        0.00046785, 0.00085124, 0.00087748, 0.00095857, 0.0007612 ,\n",
       "        0.0008168 , 0.000984  , 0.00072429, 0.00037328, 0.00119705,\n",
       "        0.0009731 , 0.00090998, 0.00111568, 0.00093232, 0.0009432 ,\n",
       "        0.00133779, 0.00100276, 0.00083768, 0.00102389, 0.00060229,\n",
       "        0.00114006, 0.00086932]),\n",
       " 'rank_test_roc_auc': array([30, 24, 26, 27, 32, 28, 16, 25, 29, 11, 14, 17, 22, 18, 20, 19, 31,\n",
       "         7, 10,  6, 15, 12, 13,  4, 21,  9,  2,  5, 23,  3,  1,  8],\n",
       "       dtype=int32)}"
      ]
     },
     "execution_count": 19,
     "metadata": {},
     "output_type": "execute_result"
    }
   ],
   "source": [
    "#grid_search.best_score_\n",
    "grid_search.cv_results_"
   ]
  },
  {
   "cell_type": "code",
   "execution_count": 20,
   "metadata": {
    "scrolled": false
   },
   "outputs": [
    {
     "name": "stdout",
     "output_type": "stream",
     "text": [
      "Train on 704876 samples, validate on 176220 samples\n",
      "Epoch 1/20\n",
      "704876/704876 [==============================] - 20s 28us/sample - loss: 0.5543 - accuracy: 0.7248 - val_loss: 0.5526 - val_accuracy: 0.7215\n",
      "Epoch 2/20\n",
      "704876/704876 [==============================] - 17s 24us/sample - loss: 0.5419 - accuracy: 0.7342 - val_loss: 0.5500 - val_accuracy: 0.7218\n",
      "Epoch 3/20\n",
      "704876/704876 [==============================] - 18s 25us/sample - loss: 0.5407 - accuracy: 0.7350 - val_loss: 0.5491 - val_accuracy: 0.7175\n",
      "Epoch 4/20\n",
      "704876/704876 [==============================] - 18s 26us/sample - loss: 0.5399 - accuracy: 0.7345 - val_loss: 0.5514 - val_accuracy: 0.7201\n",
      "Epoch 5/20\n",
      "704876/704876 [==============================] - 18s 26us/sample - loss: 0.5394 - accuracy: 0.7343 - val_loss: 0.5475 - val_accuracy: 0.7266\n",
      "Epoch 6/20\n",
      "704876/704876 [==============================] - 18s 25us/sample - loss: 0.5387 - accuracy: 0.7350 - val_loss: 0.5487 - val_accuracy: 0.7227\n",
      "Epoch 7/20\n",
      "704876/704876 [==============================] - 18s 26us/sample - loss: 0.5383 - accuracy: 0.7356 - val_loss: 0.5466 - val_accuracy: 0.7182\n",
      "Epoch 8/20\n",
      "704876/704876 [==============================] - 18s 26us/sample - loss: 0.5378 - accuracy: 0.7357 - val_loss: 0.5470 - val_accuracy: 0.7440\n",
      "Epoch 9/20\n",
      "704876/704876 [==============================] - 18s 26us/sample - loss: 0.5374 - accuracy: 0.7365 - val_loss: 0.5457 - val_accuracy: 0.7287\n",
      "Epoch 10/20\n",
      "704876/704876 [==============================] - 18s 26us/sample - loss: 0.5373 - accuracy: 0.7357 - val_loss: 0.5466 - val_accuracy: 0.7418\n",
      "Epoch 11/20\n",
      "704876/704876 [==============================] - 18s 26us/sample - loss: 0.5370 - accuracy: 0.7359 - val_loss: 0.5459 - val_accuracy: 0.7464\n",
      "Epoch 12/20\n",
      "704876/704876 [==============================] - 18s 26us/sample - loss: 0.5368 - accuracy: 0.7364 - val_loss: 0.5458 - val_accuracy: 0.7188\n",
      "Epoch 13/20\n",
      "704876/704876 [==============================] - 18s 25us/sample - loss: 0.5368 - accuracy: 0.7367 - val_loss: 0.5452 - val_accuracy: 0.7253\n",
      "Epoch 14/20\n",
      "704876/704876 [==============================] - 18s 26us/sample - loss: 0.5364 - accuracy: 0.7359 - val_loss: 0.5465 - val_accuracy: 0.7282\n",
      "Best Validation Loss: 0.5452\n",
      "Best Validation Accuracy: 0.7464\n"
     ]
    },
    {
     "data": {
      "image/png": "[encoded data removed]",
      "text/plain": [
       "<Figure size 432x288 with 1 Axes>"
      ]
     },
     "metadata": {
      "needs_background": "light"
     },
     "output_type": "display_data"
    },
    {
     "data": {
      "image/png": "[encoded data removed]",
      "text/plain": [
       "<Figure size 432x288 with 1 Axes>"
      ]
     },
     "metadata": {
      "needs_background": "light"
     },
     "output_type": "display_data"
    }
   ],
   "source": [
    "\n",
    "\n",
    "early_stopping = keras.callbacks.EarlyStopping(\n",
    "    patience=5,\n",
    "    min_delta=0.001,\n",
    "    restore_best_weights=True,\n",
    ")\n",
    "\n",
    "history = best_model.fit(\n",
    "    X_train,\n",
    "    y_train,\n",
    "    validation_data=(X_valid, y_valid),\n",
    "    batch_size=best_params['batch_size'],\n",
    "    epochs=20,\n",
    "    callbacks=[early_stopping],\n",
    "    class_weight=class_weight\n",
    ")\n",
    "\n",
    "history_df = pd.DataFrame(history.history)\n",
    "history_df.loc[:, ['loss', 'val_loss']].plot(title=\"Cross-entropy\")\n",
    "history_df.loc[:, ['accuracy', 'val_accuracy']].plot(title=\"Accuracy\")\n",
    "\n",
    "print((\"Best Validation Loss: {:0.4f}\" +\\\n",
    "      \"\\nBest Validation Accuracy: {:0.4f}\")\\\n",
    "      .format(history_df['val_loss'].min(), \n",
    "              history_df['val_accuracy'].max()))\n",
    "\n"
   ]
  },
  {
   "cell_type": "code",
   "execution_count": 21,
   "metadata": {},
   "outputs": [
    {
     "name": "stdout",
     "output_type": "stream",
     "text": [
      "Model: \"sequential_130\"\n",
      "_________________________________________________________________\n",
      "Layer (type)                 Output Shape              Param #   \n",
      "=================================================================\n",
      "batch_normalization_456 (Bat (None, 11)                44        \n",
      "_________________________________________________________________\n",
      "dense_456 (Dense)            (None, 256)               3072      \n",
      "_________________________________________________________________\n",
      "batch_normalization_457 (Bat (None, 256)               1024      \n",
      "_________________________________________________________________\n",
      "dropout_326 (Dropout)        (None, 256)               0         \n",
      "_________________________________________________________________\n",
      "dense_457 (Dense)            (None, 256)               65792     \n",
      "_________________________________________________________________\n",
      "batch_normalization_458 (Bat (None, 256)               1024      \n",
      "_________________________________________________________________\n",
      "dropout_327 (Dropout)        (None, 256)               0         \n",
      "_________________________________________________________________\n",
      "dense_458 (Dense)            (None, 256)               65792     \n",
      "_________________________________________________________________\n",
      "batch_normalization_459 (Bat (None, 256)               1024      \n",
      "_________________________________________________________________\n",
      "dropout_328 (Dropout)        (None, 256)               0         \n",
      "_________________________________________________________________\n",
      "dense_459 (Dense)            (None, 1)                 257       \n",
      "=================================================================\n",
      "Total params: 138,029\n",
      "Trainable params: 136,471\n",
      "Non-trainable params: 1,558\n",
      "_________________________________________________________________\n"
     ]
    }
   ],
   "source": [
    "best_model.summary() # v important in this model to see no. hidden layers"
   ]
  },
  {
   "cell_type": "code",
   "execution_count": 22,
   "metadata": {},
   "outputs": [
    {
     "data": {
      "image/svg+xml": [
       "<svg height=\"913pt\" viewBox=\"0.00 0.00 252.73 1011.20\" width=\"228pt\" xmlns=\"http://www.w3.org/2000/svg\" xmlns:xlink=\"http://www.w3.org/1999/xlink\">\n",
       "<g class=\"graph\" id=\"graph0\" transform=\"scale(0.902778 0.902778) rotate(0) translate(4 1007.2)\">\n",
       "<title>G</title>\n",
       "<polygon fill=\"white\" points=\"-4,4 -4,-1007.2 248.728,-1007.2 248.728,4 -4,4\" stroke=\"none\"/>\n",
       "<!-- 140336472654568 -->\n",
       "<g class=\"node\" id=\"node1\"><title>140336472654568</title>\n",
       "<polygon fill=\"none\" points=\"24.5028,-953.1 24.5028,-1002.7 220.225,-1002.7 220.225,-953.1 24.5028,-953.1\" stroke=\"black\"/>\n",
       "<text font-family=\"Times,serif\" font-size=\"14.00\" text-anchor=\"middle\" x=\"63.5996\" y=\"-973.7\">InputLayer</text>\n",
       "<polyline fill=\"none\" points=\"102.696,-953.1 102.696,-1002.7 \" stroke=\"black\"/>\n",
       "<text font-family=\"Times,serif\" font-size=\"14.00\" text-anchor=\"middle\" x=\"130.532\" y=\"-986.1\">input:</text>\n",
       "<polyline fill=\"none\" points=\"102.696,-977.9 158.368,-977.9 \" stroke=\"black\"/>\n",
       "<text font-family=\"Times,serif\" font-size=\"14.00\" text-anchor=\"middle\" x=\"130.532\" y=\"-961.3\">output:</text>\n",
       "<polyline fill=\"none\" points=\"158.368,-953.1 158.368,-1002.7 \" stroke=\"black\"/>\n",
       "<text font-family=\"Times,serif\" font-size=\"14.00\" text-anchor=\"middle\" x=\"189.297\" y=\"-986.1\">[(?, 11)]</text>\n",
       "<polyline fill=\"none\" points=\"158.368,-977.9 220.225,-977.9 \" stroke=\"black\"/>\n",
       "<text font-family=\"Times,serif\" font-size=\"14.00\" text-anchor=\"middle\" x=\"189.297\" y=\"-961.3\">[(?, 11)]</text>\n",
       "</g>\n",
       "<!-- 140336475340080 -->\n",
       "<g class=\"node\" id=\"node2\"><title>140336475340080</title>\n",
       "<polygon fill=\"none\" points=\"3.5,-866.5 3.5,-916.1 241.228,-916.1 241.228,-866.5 3.5,-866.5\" stroke=\"black\"/>\n",
       "<text font-family=\"Times,serif\" font-size=\"14.00\" text-anchor=\"middle\" x=\"68.2602\" y=\"-887.1\">BatchNormalization</text>\n",
       "<polyline fill=\"none\" points=\"133.02,-866.5 133.02,-916.1 \" stroke=\"black\"/>\n",
       "<text font-family=\"Times,serif\" font-size=\"14.00\" text-anchor=\"middle\" x=\"160.856\" y=\"-899.5\">input:</text>\n",
       "<polyline fill=\"none\" points=\"133.02,-891.3 188.692,-891.3 \" stroke=\"black\"/>\n",
       "<text font-family=\"Times,serif\" font-size=\"14.00\" text-anchor=\"middle\" x=\"160.856\" y=\"-874.7\">output:</text>\n",
       "<polyline fill=\"none\" points=\"188.692,-866.5 188.692,-916.1 \" stroke=\"black\"/>\n",
       "<text font-family=\"Times,serif\" font-size=\"14.00\" text-anchor=\"middle\" x=\"214.96\" y=\"-899.5\">(?, 11)</text>\n",
       "<polyline fill=\"none\" points=\"188.692,-891.3 241.228,-891.3 \" stroke=\"black\"/>\n",
       "<text font-family=\"Times,serif\" font-size=\"14.00\" text-anchor=\"middle\" x=\"214.96\" y=\"-874.7\">(?, 11)</text>\n",
       "</g>\n",
       "<!-- 140336472654568&#45;&gt;140336475340080 -->\n",
       "<g class=\"edge\" id=\"edge1\"><title>140336472654568-&gt;140336475340080</title>\n",
       "<path d=\"M122.364,-952.883C122.364,-944.667 122.364,-935.312 122.364,-926.452\" fill=\"none\" stroke=\"black\"/>\n",
       "<polygon fill=\"black\" points=\"125.864,-926.377 122.364,-916.377 118.864,-926.377 125.864,-926.377\" stroke=\"black\"/>\n",
       "</g>\n",
       "<!-- 140336472654792 -->\n",
       "<g class=\"node\" id=\"node3\"><title>140336472654792</title>\n",
       "<polygon fill=\"none\" points=\"39.27,-779.9 39.27,-829.5 205.458,-829.5 205.458,-779.9 39.27,-779.9\" stroke=\"black\"/>\n",
       "<text font-family=\"Times,serif\" font-size=\"14.00\" text-anchor=\"middle\" x=\"64.7602\" y=\"-800.5\">Dense</text>\n",
       "<polyline fill=\"none\" points=\"90.2504,-779.9 90.2504,-829.5 \" stroke=\"black\"/>\n",
       "<text font-family=\"Times,serif\" font-size=\"14.00\" text-anchor=\"middle\" x=\"118.086\" y=\"-812.9\">input:</text>\n",
       "<polyline fill=\"none\" points=\"90.2504,-804.7 145.922,-804.7 \" stroke=\"black\"/>\n",
       "<text font-family=\"Times,serif\" font-size=\"14.00\" text-anchor=\"middle\" x=\"118.086\" y=\"-788.1\">output:</text>\n",
       "<polyline fill=\"none\" points=\"145.922,-779.9 145.922,-829.5 \" stroke=\"black\"/>\n",
       "<text font-family=\"Times,serif\" font-size=\"14.00\" text-anchor=\"middle\" x=\"175.69\" y=\"-812.9\">(?, 11)</text>\n",
       "<polyline fill=\"none\" points=\"145.922,-804.7 205.458,-804.7 \" stroke=\"black\"/>\n",
       "<text font-family=\"Times,serif\" font-size=\"14.00\" text-anchor=\"middle\" x=\"175.69\" y=\"-788.1\">(?, 256)</text>\n",
       "</g>\n",
       "<!-- 140336475340080&#45;&gt;140336472654792 -->\n",
       "<g class=\"edge\" id=\"edge2\"><title>140336475340080-&gt;140336472654792</title>\n",
       "<path d=\"M122.364,-866.283C122.364,-858.067 122.364,-848.712 122.364,-839.852\" fill=\"none\" stroke=\"black\"/>\n",
       "<polygon fill=\"black\" points=\"125.864,-839.777 122.364,-829.777 118.864,-839.777 125.864,-839.777\" stroke=\"black\"/>\n",
       "</g>\n",
       "<!-- 140336472015648 -->\n",
       "<g class=\"node\" id=\"node4\"><title>140336472015648</title>\n",
       "<polygon fill=\"none\" points=\"0,-693.3 0,-742.9 244.728,-742.9 244.728,-693.3 0,-693.3\" stroke=\"black\"/>\n",
       "<text font-family=\"Times,serif\" font-size=\"14.00\" text-anchor=\"middle\" x=\"64.7602\" y=\"-713.9\">BatchNormalization</text>\n",
       "<polyline fill=\"none\" points=\"129.52,-693.3 129.52,-742.9 \" stroke=\"black\"/>\n",
       "<text font-family=\"Times,serif\" font-size=\"14.00\" text-anchor=\"middle\" x=\"157.356\" y=\"-726.3\">input:</text>\n",
       "<polyline fill=\"none\" points=\"129.52,-718.1 185.192,-718.1 \" stroke=\"black\"/>\n",
       "<text font-family=\"Times,serif\" font-size=\"14.00\" text-anchor=\"middle\" x=\"157.356\" y=\"-701.5\">output:</text>\n",
       "<polyline fill=\"none\" points=\"185.192,-693.3 185.192,-742.9 \" stroke=\"black\"/>\n",
       "<text font-family=\"Times,serif\" font-size=\"14.00\" text-anchor=\"middle\" x=\"214.96\" y=\"-726.3\">(?, 256)</text>\n",
       "<polyline fill=\"none\" points=\"185.192,-718.1 244.728,-718.1 \" stroke=\"black\"/>\n",
       "<text font-family=\"Times,serif\" font-size=\"14.00\" text-anchor=\"middle\" x=\"214.96\" y=\"-701.5\">(?, 256)</text>\n",
       "</g>\n",
       "<!-- 140336472654792&#45;&gt;140336472015648 -->\n",
       "<g class=\"edge\" id=\"edge3\"><title>140336472654792-&gt;140336472015648</title>\n",
       "<path d=\"M122.364,-779.683C122.364,-771.467 122.364,-762.112 122.364,-753.252\" fill=\"none\" stroke=\"black\"/>\n",
       "<polygon fill=\"black\" points=\"125.864,-753.177 122.364,-743.177 118.864,-753.177 125.864,-753.177\" stroke=\"black\"/>\n",
       "</g>\n",
       "<!-- 140336472109688 -->\n",
       "<g class=\"node\" id=\"node5\"><title>140336472109688</title>\n",
       "<polygon fill=\"none\" points=\"33.4313,-606.7 33.4313,-656.3 211.297,-656.3 211.297,-606.7 33.4313,-606.7\" stroke=\"black\"/>\n",
       "<text font-family=\"Times,serif\" font-size=\"14.00\" text-anchor=\"middle\" x=\"64.7602\" y=\"-627.3\">Dropout</text>\n",
       "<polyline fill=\"none\" points=\"96.0891,-606.7 96.0891,-656.3 \" stroke=\"black\"/>\n",
       "<text font-family=\"Times,serif\" font-size=\"14.00\" text-anchor=\"middle\" x=\"123.925\" y=\"-639.7\">input:</text>\n",
       "<polyline fill=\"none\" points=\"96.0891,-631.5 151.761,-631.5 \" stroke=\"black\"/>\n",
       "<text font-family=\"Times,serif\" font-size=\"14.00\" text-anchor=\"middle\" x=\"123.925\" y=\"-614.9\">output:</text>\n",
       "<polyline fill=\"none\" points=\"151.761,-606.7 151.761,-656.3 \" stroke=\"black\"/>\n",
       "<text font-family=\"Times,serif\" font-size=\"14.00\" text-anchor=\"middle\" x=\"181.529\" y=\"-639.7\">(?, 256)</text>\n",
       "<polyline fill=\"none\" points=\"151.761,-631.5 211.297,-631.5 \" stroke=\"black\"/>\n",
       "<text font-family=\"Times,serif\" font-size=\"14.00\" text-anchor=\"middle\" x=\"181.529\" y=\"-614.9\">(?, 256)</text>\n",
       "</g>\n",
       "<!-- 140336472015648&#45;&gt;140336472109688 -->\n",
       "<g class=\"edge\" id=\"edge4\"><title>140336472015648-&gt;140336472109688</title>\n",
       "<path d=\"M122.364,-693.083C122.364,-684.867 122.364,-675.512 122.364,-666.652\" fill=\"none\" stroke=\"black\"/>\n",
       "<polygon fill=\"black\" points=\"125.864,-666.577 122.364,-656.577 118.864,-666.577 125.864,-666.577\" stroke=\"black\"/>\n",
       "</g>\n",
       "<!-- 140336472654960 -->\n",
       "<g class=\"node\" id=\"node6\"><title>140336472654960</title>\n",
       "<polygon fill=\"none\" points=\"39.27,-520.1 39.27,-569.7 205.458,-569.7 205.458,-520.1 39.27,-520.1\" stroke=\"black\"/>\n",
       "<text font-family=\"Times,serif\" font-size=\"14.00\" text-anchor=\"middle\" x=\"64.7602\" y=\"-540.7\">Dense</text>\n",
       "<polyline fill=\"none\" points=\"90.2504,-520.1 90.2504,-569.7 \" stroke=\"black\"/>\n",
       "<text font-family=\"Times,serif\" font-size=\"14.00\" text-anchor=\"middle\" x=\"118.086\" y=\"-553.1\">input:</text>\n",
       "<polyline fill=\"none\" points=\"90.2504,-544.9 145.922,-544.9 \" stroke=\"black\"/>\n",
       "<text font-family=\"Times,serif\" font-size=\"14.00\" text-anchor=\"middle\" x=\"118.086\" y=\"-528.3\">output:</text>\n",
       "<polyline fill=\"none\" points=\"145.922,-520.1 145.922,-569.7 \" stroke=\"black\"/>\n",
       "<text font-family=\"Times,serif\" font-size=\"14.00\" text-anchor=\"middle\" x=\"175.69\" y=\"-553.1\">(?, 256)</text>\n",
       "<polyline fill=\"none\" points=\"145.922,-544.9 205.458,-544.9 \" stroke=\"black\"/>\n",
       "<text font-family=\"Times,serif\" font-size=\"14.00\" text-anchor=\"middle\" x=\"175.69\" y=\"-528.3\">(?, 256)</text>\n",
       "</g>\n",
       "<!-- 140336472109688&#45;&gt;140336472654960 -->\n",
       "<g class=\"edge\" id=\"edge5\"><title>140336472109688-&gt;140336472654960</title>\n",
       "<path d=\"M122.364,-606.483C122.364,-598.267 122.364,-588.912 122.364,-580.052\" fill=\"none\" stroke=\"black\"/>\n",
       "<polygon fill=\"black\" points=\"125.864,-579.977 122.364,-569.977 118.864,-579.977 125.864,-579.977\" stroke=\"black\"/>\n",
       "</g>\n",
       "<!-- 140336471206208 -->\n",
       "<g class=\"node\" id=\"node7\"><title>140336471206208</title>\n",
       "<polygon fill=\"none\" points=\"0,-433.5 0,-483.1 244.728,-483.1 244.728,-433.5 0,-433.5\" stroke=\"black\"/>\n",
       "<text font-family=\"Times,serif\" font-size=\"14.00\" text-anchor=\"middle\" x=\"64.7602\" y=\"-454.1\">BatchNormalization</text>\n",
       "<polyline fill=\"none\" points=\"129.52,-433.5 129.52,-483.1 \" stroke=\"black\"/>\n",
       "<text font-family=\"Times,serif\" font-size=\"14.00\" text-anchor=\"middle\" x=\"157.356\" y=\"-466.5\">input:</text>\n",
       "<polyline fill=\"none\" points=\"129.52,-458.3 185.192,-458.3 \" stroke=\"black\"/>\n",
       "<text font-family=\"Times,serif\" font-size=\"14.00\" text-anchor=\"middle\" x=\"157.356\" y=\"-441.7\">output:</text>\n",
       "<polyline fill=\"none\" points=\"185.192,-433.5 185.192,-483.1 \" stroke=\"black\"/>\n",
       "<text font-family=\"Times,serif\" font-size=\"14.00\" text-anchor=\"middle\" x=\"214.96\" y=\"-466.5\">(?, 256)</text>\n",
       "<polyline fill=\"none\" points=\"185.192,-458.3 244.728,-458.3 \" stroke=\"black\"/>\n",
       "<text font-family=\"Times,serif\" font-size=\"14.00\" text-anchor=\"middle\" x=\"214.96\" y=\"-441.7\">(?, 256)</text>\n",
       "</g>\n",
       "<!-- 140336472654960&#45;&gt;140336471206208 -->\n",
       "<g class=\"edge\" id=\"edge6\"><title>140336472654960-&gt;140336471206208</title>\n",
       "<path d=\"M122.364,-519.883C122.364,-511.667 122.364,-502.312 122.364,-493.452\" fill=\"none\" stroke=\"black\"/>\n",
       "<polygon fill=\"black\" points=\"125.864,-493.377 122.364,-483.377 118.864,-493.377 125.864,-493.377\" stroke=\"black\"/>\n",
       "</g>\n",
       "<!-- 140336471296152 -->\n",
       "<g class=\"node\" id=\"node8\"><title>140336471296152</title>\n",
       "<polygon fill=\"none\" points=\"33.4313,-346.9 33.4313,-396.5 211.297,-396.5 211.297,-346.9 33.4313,-346.9\" stroke=\"black\"/>\n",
       "<text font-family=\"Times,serif\" font-size=\"14.00\" text-anchor=\"middle\" x=\"64.7602\" y=\"-367.5\">Dropout</text>\n",
       "<polyline fill=\"none\" points=\"96.0891,-346.9 96.0891,-396.5 \" stroke=\"black\"/>\n",
       "<text font-family=\"Times,serif\" font-size=\"14.00\" text-anchor=\"middle\" x=\"123.925\" y=\"-379.9\">input:</text>\n",
       "<polyline fill=\"none\" points=\"96.0891,-371.7 151.761,-371.7 \" stroke=\"black\"/>\n",
       "<text font-family=\"Times,serif\" font-size=\"14.00\" text-anchor=\"middle\" x=\"123.925\" y=\"-355.1\">output:</text>\n",
       "<polyline fill=\"none\" points=\"151.761,-346.9 151.761,-396.5 \" stroke=\"black\"/>\n",
       "<text font-family=\"Times,serif\" font-size=\"14.00\" text-anchor=\"middle\" x=\"181.529\" y=\"-379.9\">(?, 256)</text>\n",
       "<polyline fill=\"none\" points=\"151.761,-371.7 211.297,-371.7 \" stroke=\"black\"/>\n",
       "<text font-family=\"Times,serif\" font-size=\"14.00\" text-anchor=\"middle\" x=\"181.529\" y=\"-355.1\">(?, 256)</text>\n",
       "</g>\n",
       "<!-- 140336471206208&#45;&gt;140336471296152 -->\n",
       "<g class=\"edge\" id=\"edge7\"><title>140336471206208-&gt;140336471296152</title>\n",
       "<path d=\"M122.364,-433.283C122.364,-425.067 122.364,-415.712 122.364,-406.852\" fill=\"none\" stroke=\"black\"/>\n",
       "<polygon fill=\"black\" points=\"125.864,-406.777 122.364,-396.777 118.864,-406.777 125.864,-406.777\" stroke=\"black\"/>\n",
       "</g>\n",
       "<!-- 140336471163736 -->\n",
       "<g class=\"node\" id=\"node9\"><title>140336471163736</title>\n",
       "<polygon fill=\"none\" points=\"39.27,-260.3 39.27,-309.9 205.458,-309.9 205.458,-260.3 39.27,-260.3\" stroke=\"black\"/>\n",
       "<text font-family=\"Times,serif\" font-size=\"14.00\" text-anchor=\"middle\" x=\"64.7602\" y=\"-280.9\">Dense</text>\n",
       "<polyline fill=\"none\" points=\"90.2504,-260.3 90.2504,-309.9 \" stroke=\"black\"/>\n",
       "<text font-family=\"Times,serif\" font-size=\"14.00\" text-anchor=\"middle\" x=\"118.086\" y=\"-293.3\">input:</text>\n",
       "<polyline fill=\"none\" points=\"90.2504,-285.1 145.922,-285.1 \" stroke=\"black\"/>\n",
       "<text font-family=\"Times,serif\" font-size=\"14.00\" text-anchor=\"middle\" x=\"118.086\" y=\"-268.5\">output:</text>\n",
       "<polyline fill=\"none\" points=\"145.922,-260.3 145.922,-309.9 \" stroke=\"black\"/>\n",
       "<text font-family=\"Times,serif\" font-size=\"14.00\" text-anchor=\"middle\" x=\"175.69\" y=\"-293.3\">(?, 256)</text>\n",
       "<polyline fill=\"none\" points=\"145.922,-285.1 205.458,-285.1 \" stroke=\"black\"/>\n",
       "<text font-family=\"Times,serif\" font-size=\"14.00\" text-anchor=\"middle\" x=\"175.69\" y=\"-268.5\">(?, 256)</text>\n",
       "</g>\n",
       "<!-- 140336471296152&#45;&gt;140336471163736 -->\n",
       "<g class=\"edge\" id=\"edge8\"><title>140336471296152-&gt;140336471163736</title>\n",
       "<path d=\"M122.364,-346.683C122.364,-338.467 122.364,-329.112 122.364,-320.252\" fill=\"none\" stroke=\"black\"/>\n",
       "<polygon fill=\"black\" points=\"125.864,-320.177 122.364,-310.177 118.864,-320.177 125.864,-320.177\" stroke=\"black\"/>\n",
       "</g>\n",
       "<!-- 140336470908040 -->\n",
       "<g class=\"node\" id=\"node10\"><title>140336470908040</title>\n",
       "<polygon fill=\"none\" points=\"0,-173.7 0,-223.3 244.728,-223.3 244.728,-173.7 0,-173.7\" stroke=\"black\"/>\n",
       "<text font-family=\"Times,serif\" font-size=\"14.00\" text-anchor=\"middle\" x=\"64.7602\" y=\"-194.3\">BatchNormalization</text>\n",
       "<polyline fill=\"none\" points=\"129.52,-173.7 129.52,-223.3 \" stroke=\"black\"/>\n",
       "<text font-family=\"Times,serif\" font-size=\"14.00\" text-anchor=\"middle\" x=\"157.356\" y=\"-206.7\">input:</text>\n",
       "<polyline fill=\"none\" points=\"129.52,-198.5 185.192,-198.5 \" stroke=\"black\"/>\n",
       "<text font-family=\"Times,serif\" font-size=\"14.00\" text-anchor=\"middle\" x=\"157.356\" y=\"-181.9\">output:</text>\n",
       "<polyline fill=\"none\" points=\"185.192,-173.7 185.192,-223.3 \" stroke=\"black\"/>\n",
       "<text font-family=\"Times,serif\" font-size=\"14.00\" text-anchor=\"middle\" x=\"214.96\" y=\"-206.7\">(?, 256)</text>\n",
       "<polyline fill=\"none\" points=\"185.192,-198.5 244.728,-198.5 \" stroke=\"black\"/>\n",
       "<text font-family=\"Times,serif\" font-size=\"14.00\" text-anchor=\"middle\" x=\"214.96\" y=\"-181.9\">(?, 256)</text>\n",
       "</g>\n",
       "<!-- 140336471163736&#45;&gt;140336470908040 -->\n",
       "<g class=\"edge\" id=\"edge9\"><title>140336471163736-&gt;140336470908040</title>\n",
       "<path d=\"M122.364,-260.083C122.364,-251.867 122.364,-242.512 122.364,-233.652\" fill=\"none\" stroke=\"black\"/>\n",
       "<polygon fill=\"black\" points=\"125.864,-233.577 122.364,-223.577 118.864,-233.577 125.864,-233.577\" stroke=\"black\"/>\n",
       "</g>\n",
       "<!-- 140336470487560 -->\n",
       "<g class=\"node\" id=\"node11\"><title>140336470487560</title>\n",
       "<polygon fill=\"none\" points=\"33.4313,-87.1 33.4313,-136.7 211.297,-136.7 211.297,-87.1 33.4313,-87.1\" stroke=\"black\"/>\n",
       "<text font-family=\"Times,serif\" font-size=\"14.00\" text-anchor=\"middle\" x=\"64.7602\" y=\"-107.7\">Dropout</text>\n",
       "<polyline fill=\"none\" points=\"96.0891,-87.1 96.0891,-136.7 \" stroke=\"black\"/>\n",
       "<text font-family=\"Times,serif\" font-size=\"14.00\" text-anchor=\"middle\" x=\"123.925\" y=\"-120.1\">input:</text>\n",
       "<polyline fill=\"none\" points=\"96.0891,-111.9 151.761,-111.9 \" stroke=\"black\"/>\n",
       "<text font-family=\"Times,serif\" font-size=\"14.00\" text-anchor=\"middle\" x=\"123.925\" y=\"-95.3\">output:</text>\n",
       "<polyline fill=\"none\" points=\"151.761,-87.1 151.761,-136.7 \" stroke=\"black\"/>\n",
       "<text font-family=\"Times,serif\" font-size=\"14.00\" text-anchor=\"middle\" x=\"181.529\" y=\"-120.1\">(?, 256)</text>\n",
       "<polyline fill=\"none\" points=\"151.761,-111.9 211.297,-111.9 \" stroke=\"black\"/>\n",
       "<text font-family=\"Times,serif\" font-size=\"14.00\" text-anchor=\"middle\" x=\"181.529\" y=\"-95.3\">(?, 256)</text>\n",
       "</g>\n",
       "<!-- 140336470908040&#45;&gt;140336470487560 -->\n",
       "<g class=\"edge\" id=\"edge10\"><title>140336470908040-&gt;140336470487560</title>\n",
       "<path d=\"M122.364,-173.483C122.364,-165.267 122.364,-155.912 122.364,-147.052\" fill=\"none\" stroke=\"black\"/>\n",
       "<polygon fill=\"black\" points=\"125.864,-146.977 122.364,-136.977 118.864,-146.977 125.864,-146.977\" stroke=\"black\"/>\n",
       "</g>\n",
       "<!-- 140336193013800 -->\n",
       "<g class=\"node\" id=\"node12\"><title>140336193013800</title>\n",
       "<polygon fill=\"none\" points=\"39.27,-0.5 39.27,-50.1 205.458,-50.1 205.458,-0.5 39.27,-0.5\" stroke=\"black\"/>\n",
       "<text font-family=\"Times,serif\" font-size=\"14.00\" text-anchor=\"middle\" x=\"64.7602\" y=\"-21.1\">Dense</text>\n",
       "<polyline fill=\"none\" points=\"90.2504,-0.5 90.2504,-50.1 \" stroke=\"black\"/>\n",
       "<text font-family=\"Times,serif\" font-size=\"14.00\" text-anchor=\"middle\" x=\"118.086\" y=\"-33.5\">input:</text>\n",
       "<polyline fill=\"none\" points=\"90.2504,-25.3 145.922,-25.3 \" stroke=\"black\"/>\n",
       "<text font-family=\"Times,serif\" font-size=\"14.00\" text-anchor=\"middle\" x=\"118.086\" y=\"-8.7\">output:</text>\n",
       "<polyline fill=\"none\" points=\"145.922,-0.5 145.922,-50.1 \" stroke=\"black\"/>\n",
       "<text font-family=\"Times,serif\" font-size=\"14.00\" text-anchor=\"middle\" x=\"175.69\" y=\"-33.5\">(?, 256)</text>\n",
       "<polyline fill=\"none\" points=\"145.922,-25.3 205.458,-25.3 \" stroke=\"black\"/>\n",
       "<text font-family=\"Times,serif\" font-size=\"14.00\" text-anchor=\"middle\" x=\"175.19\" y=\"-8.7\">(?, 1)</text>\n",
       "</g>\n",
       "<!-- 140336470487560&#45;&gt;140336193013800 -->\n",
       "<g class=\"edge\" id=\"edge11\"><title>140336470487560-&gt;140336193013800</title>\n",
       "<path d=\"M122.364,-86.8833C122.364,-78.6673 122.364,-69.3117 122.364,-60.4518\" fill=\"none\" stroke=\"black\"/>\n",
       "<polygon fill=\"black\" points=\"125.864,-60.3767 122.364,-50.3767 118.864,-60.3768 125.864,-60.3767\" stroke=\"black\"/>\n",
       "</g>\n",
       "</g>\n",
       "</svg>"
      ],
      "text/plain": [
       "<IPython.core.display.SVG object>"
      ]
     },
     "execution_count": 22,
     "metadata": {},
     "output_type": "execute_result"
    }
   ],
   "source": [
    "from IPython.display import SVG\n",
    "from tensorflow.keras.utils import model_to_dot\n",
    "\n",
    "SVG(model_to_dot(best_model, show_shapes=True, show_layer_names=False, dpi=65).create(prog='dot', format='svg'))\n"
   ]
  },
  {
   "cell_type": "code",
   "execution_count": 23,
   "metadata": {},
   "outputs": [
    {
     "name": "stdout",
     "output_type": "stream",
     "text": [
      "adam\n",
      "0.2\n",
      "256\n",
      "{'activation': 'relu', 'batch_size': 256, 'dropout_rate': 0.2, 'learning_rate': 0.001, 'num_hidden_layers': 3, 'optimizer': 'adam', 'units': 256}\n"
     ]
    }
   ],
   "source": [
    "print(best_params['optimizer'])\n",
    "print(best_params['dropout_rate'])\n",
    "print(best_params['batch_size'])\n",
    "\n",
    "print(best_params)"
   ]
  },
  {
   "cell_type": "code",
   "execution_count": 24,
   "metadata": {},
   "outputs": [
    {
     "name": "stdout",
     "output_type": "stream",
     "text": [
      "True\n",
      "704876/1 - 50s - loss: 0.4824 - accuracy: 0.7364\n",
      "Validation loss: 0.5288489025237169\n",
      "Validation accuracy: 0.73636496\n",
      "704876/1 - 34s\n"
     ]
    },
    {
     "data": {
      "image/png": "[encoded data removed]",
      "text/plain": [
       "<Figure size 432x288 with 2 Axes>"
      ]
     },
     "metadata": {
      "needs_background": "light"
     },
     "output_type": "display_data"
    },
    {
     "name": "stdout",
     "output_type": "stream",
     "text": [
      "Total signal processes; 1.0\n",
      "Total background processes; 1.0\n",
      "248022\n",
      "There is 142540 signal in the set\n",
      "The model predicted 105482 more ones than in reality\n",
      "456854\n",
      "There is 562336 background in the set\n",
      "The model predicted -105482 more ones than in reality\n"
     ]
    },
    {
     "data": {
      "image/png": "[encoded data removed]",
      "text/plain": [
       "<Figure size 432x288 with 1 Axes>"
      ]
     },
     "metadata": {
      "needs_background": "light"
     },
     "output_type": "display_data"
    },
    {
     "data": {
      "image/png": "[encoded data removed]",
      "text/plain": [
       "<Figure size 432x288 with 1 Axes>"
      ]
     },
     "metadata": {
      "needs_background": "light"
     },
     "output_type": "display_data"
    }
   ],
   "source": [
    "# evaluate the model on the training data, confusion matrix and discriminator curve\n",
    "\n",
    "gpu_available = tf.test.is_gpu_available()\n",
    "print(gpu_available)   # check still on the gpu\n",
    "\n",
    "model = best_model\n",
    "\n",
    "val_loss, val_acc = model.evaluate(X_train, y_train, verbose = 2)    \n",
    "\n",
    "print(\"Validation loss:\", val_loss)\n",
    "print(\"Validation accuracy:\", val_acc)\n",
    "\n",
    "y_pred = model.predict(X_train, verbose = 2)\n",
    "y_pred_round = np.round(y_pred)\n",
    "#print(y_pred)\n",
    "\n",
    "# compute the confusion matrix\n",
    "\n",
    "cm = confusion_matrix(y_train, y_pred_round, normalize = 'true')   #, normalize = 'true')  #,'true' ‘pred’, ‘all’},)\n",
    "#disp = ConfusionMatrixDisplay(confusion_matrix=cm) \n",
    "disp = ConfusionMatrixDisplay(confusion_matrix=cm, display_labels=['Background', 'Signal']) # other env\n",
    "\n",
    "disp.plot()\n",
    "plt.show()\n",
    "\n",
    "print('Total signal processes;', cm[1,0]+cm[1,1])\n",
    "print('Total background processes;', cm[0,0]+cm[0,1])\n",
    "\n",
    "# Check if order of y_valid is the same order as y_pred\n",
    "# expect to be the ssame order if accuracy is same as validation accuracy above.\n",
    "\n",
    "# list of true outcomes\n",
    "y_train_list = list(y_train)\n",
    "\n",
    "# list of rounded predictions \n",
    "y_pred_round_list = list(y_pred_round)\n",
    "\n",
    "data_test = {'True_Val': y_train_list, 'Predicted': list(y_pred), 'Round Prediction': y_pred_round_list}\n",
    "df_test = pd.DataFrame(data_test)\n",
    "\n",
    "# Easiest to reorder df, so all 0 (background) are first and then 1's (signal)\n",
    "\n",
    "#Verified, works\n",
    "df_test = df_test.sort_values(by='True_Val')\n",
    "df_test\n",
    "\n",
    "# Convert arrays to scalars\n",
    "df_test['Round Prediction'] = df_test['Round Prediction'].apply(lambda x: x[0])\n",
    "        \n",
    "pred_one = df_test['Round Prediction'].value_counts()[1.0]\n",
    "ones_in_set = df_test['True_Val'].value_counts()[1]\n",
    "\n",
    "# Print the result\n",
    "print(pred_one)\n",
    "print('There is', ones_in_set, 'signal in the set')\n",
    "print('The model predicted',pred_one-ones_in_set ,'more ones than in reality')\n",
    "\n",
    "\n",
    "pred_zeros = df_test['Round Prediction'].value_counts()[0.0]\n",
    "zeros_in_set = df_test['True_Val'].value_counts()[0]\n",
    "\n",
    "# Print the result\n",
    "print(pred_zeros)\n",
    "print('There is', zeros_in_set, 'background in the set')   #agrees w/ confusion matrix\n",
    "print('The model predicted', pred_zeros-zeros_in_set,'more ones than in reality')\n",
    "\n",
    "\n",
    "#Split df into signal and bg\n",
    "\n",
    "df_bg = df_test[df_test['True_Val'] == 0]\n",
    "df_signal = df_test[df_test['True_Val'] == 1]\n",
    "\n",
    "# Make discriminator curves, Histogram\n",
    "\n",
    "# manipluate data so can be used for Histograms\n",
    "lst_bg_predicted = []\n",
    "for i in df_bg['Predicted']:\n",
    "    lst_bg_predicted.append(i)\n",
    "\n",
    "lst_of_values_bg_pred_train = [arr.item() for arr in lst_bg_predicted]\n",
    "\n",
    "lst_signal_predicted = []\n",
    "for i in df_signal['Predicted']:\n",
    "    lst_signal_predicted.append(i)\n",
    "\n",
    "lst_of_values_signal_pred_train = [arr.item() for arr in lst_signal_predicted]\n",
    "\n",
    "binwidth = 0.01\n",
    "bins=np.arange(0, 1 + binwidth, binwidth)\n",
    "    \n",
    "\n",
    "#Unweighted, normalised\n",
    "plt.hist(x= lst_of_values_bg_pred_train, bins=bins, density = True, histtype = 'step', label = 'Background')\n",
    "plt.hist(x= lst_of_values_signal_pred_train, bins=bins, density = True, histtype = 'step', label = 'Signal')\n",
    "plt.title('Training Discriminator Curve')\n",
    "plt.xlabel('Classifier Prediction')\n",
    "plt.ylabel('Frequency')\n",
    "plt.legend()\n",
    "plt.show()\n",
    "\n",
    "#Weighted to xs_weights x 300000, need to be toproportion of full dataset too\n",
    "#normalised\n",
    "\n",
    "plt.hist(x= lst_of_values_bg_pred_train, bins=bins,  weights = df_weights[:len(lst_of_values_bg_pred_train),1]*3e5*1/0.8,\n",
    "         histtype = 'step', label = 'Background')\n",
    "plt.hist(x= lst_of_values_signal_pred_train, bins=bins, weights = df_weights[:len(lst_of_values_signal_pred_train),3]*3e5*1/0.8,\n",
    "         histtype = 'step', label = 'Signal')\n",
    "plt.title('Training Discriminator Curve')\n",
    "plt.xlabel('Classifier Prediction')\n",
    "plt.ylabel('Frequency')\n",
    "plt.xlim(0.8,1)    #zoom in on 0.9 to 1 region\n",
    "plt.ylim(0,200)    # need to zoom in\n",
    "plt.legend()\n",
    "plt.show()\n",
    "\n",
    "\n",
    "#start dropping bins for signifucance part, calc Z and plot, should get curve that peaks"
   ]
  },
  {
   "cell_type": "code",
   "execution_count": 25,
   "metadata": {},
   "outputs": [
    {
     "name": "stderr",
     "output_type": "stream",
     "text": [
      "IOPub data rate exceeded.\n",
      "The notebook server will temporarily stop sending output\n",
      "to the client in order to avoid crashing it.\n",
      "To change this limit, set the config variable\n",
      "`--NotebookApp.iopub_data_rate_limit`.\n",
      "\n",
      "Current values:\n",
      "NotebookApp.iopub_data_rate_limit=1000000.0 (bytes/sec)\n",
      "NotebookApp.rate_limit_window=3.0 (secs)\n",
      "\n"
     ]
    },
    {
     "name": "stdout",
     "output_type": "stream",
     "text": [
      "Validation loss: 0.538322275856028\n",
      "Validation accuracy: 0.7287425\n"
     ]
    },
    {
     "data": {
      "image/png": "[encoded data removed]",
      "text/plain": [
       "<Figure size 432x288 with 2 Axes>"
      ]
     },
     "metadata": {
      "needs_background": "light"
     },
     "output_type": "display_data"
    },
    {
     "name": "stdout",
     "output_type": "stream",
     "text": [
      "Total signal processes; 1.0\n",
      "Total background processes; 1.0\n"
     ]
    }
   ],
   "source": [
    "# evaluate the model on the validation data\n",
    "\n",
    "model = best_model \n",
    "\n",
    "val_loss, val_acc = model.evaluate(X_valid, y_valid)   \n",
    "print(\"Validation loss:\", val_loss)\n",
    "print(\"Validation accuracy:\", val_acc)\n",
    "\n",
    "y_pred = model.predict(X_valid)\n",
    "y_pred_round = np.round(y_pred)\n",
    "\n",
    "# compute the confusion matrix\n",
    "cm = confusion_matrix(y_valid, y_pred_round, normalize = 'true')    #,'true' ‘pred’, ‘all’},)#\n",
    "disp = ConfusionMatrixDisplay(confusion_matrix=cm, display_labels=['Background', 'Signal']) # other env\n",
    "#disp = ConfusionMatrixDisplay(confusion_matrix=cm)   \n",
    "disp.plot()\n",
    "plt.show()\n",
    "\n",
    "print('Total signal processes;', cm[1,0]+cm[1,1])\n",
    "print('Total background processes;', cm[0,0]+cm[0,1])\n",
    "\n",
    "# can see no class weights"
   ]
  },
  {
   "cell_type": "code",
   "execution_count": 46,
   "metadata": {},
   "outputs": [],
   "source": [
    "# #using a permutation method to see what features are important\n",
    "\n",
    "# # Get the number of features\n",
    "# n_features = X_valid.shape[1]\n",
    "\n",
    "# # Initialize an array to store feature importances\n",
    "# importances = np.zeros(n_features)\n",
    "\n",
    "# # Calculate the feature importances using the permutation feature importance method\n",
    "# # Drops each variable one at a time \n",
    "# for i in range(n_features):\n",
    "#     print(i)    #counter to check is working, should go to 40\n",
    "#     feature_name = X_valid.columns[i]\n",
    "#     X_permuted = X_valid.copy().values\n",
    "#     X_permuted[:, i] = np.random.permutation(X_permuted[:, i])\n",
    "#     y_permuted = model.predict(X_permuted)\n",
    "#     importances[i] = np.abs(y_permuted - y_pred).mean()\n",
    "#     #importances[i] = (y_permuted - y_pred).mean()    #try without a abs, see if positively or negatively affected by removal?\n",
    "#     print(f\"Permuted feature {feature_name}\")\n",
    "\n",
    "# # Normalize the feature importances\n",
    "# importances /= importances.sum()   # importances sum to 1, so can be taken as a literal how important a variable\n",
    "# # is for the model\n",
    "\n",
    "# print(importances)  # using abs\n",
    "\n",
    "# print()#\n",
    "\n",
    "# print(np.sort(importances))\n",
    "\n",
    "# # np.random.permutation randomly permutes (rearranges in a random order) the elements.\n",
    "# # In this case, it is used to shuffle the values in a single column of the X_permuted array.\n",
    "# # Guess then this variable isnt useful in the prediction"
   ]
  },
  {
   "cell_type": "code",
   "execution_count": 47,
   "metadata": {},
   "outputs": [],
   "source": [
    "# importances_dict = dict(zip(importances, X_valid.columns))\n",
    "# # key:value\n",
    "\n",
    "# #print(combined_dict)\n",
    "\n",
    "# # get values for keys less than 0.01\n",
    "# values = []\n",
    "# for key, value in importances_dict.items():\n",
    "#     if key < 0.01:\n",
    "#         values.append(value)\n",
    "\n",
    "# # print the values\n",
    "# print(values)\n"
   ]
  },
  {
   "cell_type": "code",
   "execution_count": 48,
   "metadata": {},
   "outputs": [],
   "source": [
    "# get indices of numbers less than 0.01\n",
    "# for i in range(len(importances)):\n",
    "#     if importances[i] < 0.05:\n",
    "#         print(X_valid.columns[i])"
   ]
  },
  {
   "cell_type": "code",
   "execution_count": 26,
   "metadata": {},
   "outputs": [
    {
     "name": "stdout",
     "output_type": "stream",
     "text": [
      "0.728742480989672\n",
      "True\n"
     ]
    }
   ],
   "source": [
    "# Check if order of y_valid is the same order as y_pred\n",
    "# expect to be the ssame order if accuracy is same as validation accuracy above.\n",
    "\n",
    "# list of true outcomes\n",
    "y_valid_list = list(y_valid)\n",
    "\n",
    "# list of rounded predictions \n",
    "y_pred_round_list = list(y_pred_round)\n",
    "\n",
    "# list of whether these are same    \n",
    "z=[]\n",
    "for i in range(len(y_valid_list)):\n",
    "    if y_valid_list[i]==y_pred_round_list[i]:\n",
    "        z.append(1)\n",
    "    else:\n",
    "        z.append(0)\n",
    "        \n",
    "print(sum(z)/len(z))\n",
    "\n",
    "# Set a tolerance\n",
    "tol = 0.0001\n",
    "print(val_acc - tol < sum(z)/len(z) < val_acc + tol)\n",
    "\n",
    "# If true, suggests are in same order "
   ]
  },
  {
   "cell_type": "code",
   "execution_count": 27,
   "metadata": {},
   "outputs": [
    {
     "name": "stdout",
     "output_type": "stream",
     "text": [
      "[0.03467721]\n"
     ]
    },
    {
     "data": {
      "text/plain": [
       "array([0.9997487], dtype=float32)"
      ]
     },
     "execution_count": 27,
     "metadata": {},
     "output_type": "execute_result"
    }
   ],
   "source": [
    "print(min(y_pred))\n",
    "max(y_pred)"
   ]
  },
  {
   "cell_type": "code",
   "execution_count": 28,
   "metadata": {},
   "outputs": [],
   "source": [
    "data = {'True_Val': y_valid_list, 'Predicted': list(y_pred), 'Round Prediction': y_pred_round_list}\n",
    "df = pd.DataFrame(data)\n",
    "\n",
    "# Easiest to reorder df, so all 0 (background) are first and then 1's (signal)\n",
    "\n",
    "#Verified, works\n",
    "df = df.sort_values(by='True_Val')\n",
    "df\n",
    "\n",
    "# Convert arrays to scalars\n",
    "df['Round Prediction'] = df['Round Prediction'].apply(lambda x: x[0])"
   ]
  },
  {
   "cell_type": "code",
   "execution_count": 29,
   "metadata": {},
   "outputs": [
    {
     "name": "stdout",
     "output_type": "stream",
     "text": [
      "0.728742480989672\n",
      "True\n"
     ]
    }
   ],
   "source": [
    "# Check that they maintained order in the df:\n",
    "\n",
    "lst=[]\n",
    "for i in range(len(df)):\n",
    "    if df['True_Val'][i] == df['Round Prediction'][i]:\n",
    "        lst.append(1)\n",
    "    else:\n",
    "        (lst.append(0))\n",
    "print(sum(lst)/len(lst))\n",
    "\n",
    "# Set a tolerance\n",
    "tol = 0.0001\n",
    "print(val_acc - tol < sum(lst)/len(lst) < val_acc + tol)\n",
    "\n",
    "# If true, suggests are in same order "
   ]
  },
  {
   "cell_type": "code",
   "execution_count": 30,
   "metadata": {},
   "outputs": [
    {
     "name": "stdout",
     "output_type": "stream",
     "text": [
      "61867\n",
      "There is 35318 signal in the set\n",
      "The model predicted 26549 more ones than in reality\n",
      "114353\n",
      "There is 140902 background in the set\n",
      "The model predicted -26549 more bg than in reality\n"
     ]
    }
   ],
   "source": [
    "pred_one = df['Round Prediction'].value_counts()[1.0]\n",
    "ones_in_set = df['True_Val'].value_counts()[1]\n",
    "\n",
    "# Print the result\n",
    "print(pred_one)\n",
    "print('There is', ones_in_set, 'signal in the set')\n",
    "print('The model predicted',pred_one-ones_in_set ,'more ones than in reality')\n",
    "\n",
    "\n",
    "pred_zeros = df['Round Prediction'].value_counts()[0.0]\n",
    "zeros_in_set = df['True_Val'].value_counts()[0]\n",
    "\n",
    "# Print the result\n",
    "print(pred_zeros)\n",
    "print('There is', zeros_in_set, 'background in the set')   #agrees w/ confusion matrix\n",
    "print('The model predicted', pred_zeros-zeros_in_set,'more bg than in reality')\n"
   ]
  },
  {
   "cell_type": "code",
   "execution_count": 31,
   "metadata": {},
   "outputs": [
    {
     "data": {
      "image/png": "[encoded data removed]",
      "text/plain": [
       "<Figure size 432x288 with 1 Axes>"
      ]
     },
     "metadata": {
      "needs_background": "light"
     },
     "output_type": "display_data"
    },
    {
     "data": {
      "image/png": "[encoded data removed]",
      "text/plain": [
       "<Figure size 432x288 with 1 Axes>"
      ]
     },
     "metadata": {
      "needs_background": "light"
     },
     "output_type": "display_data"
    }
   ],
   "source": [
    "# Training Discriminator curves\n",
    "\n",
    "#Unweighted, normalised\n",
    "plt.hist(x= lst_of_values_bg_pred_train, bins=bins, density = True, histtype = 'step', label = 'Background')\n",
    "plt.hist(x= lst_of_values_signal_pred_train, bins=bins, density = True, histtype = 'step', label = 'Signal')\n",
    "plt.title('TRAINING - Discriminator Curve')\n",
    "plt.xlabel('Classifier Prediction')\n",
    "plt.ylabel('Frequency')\n",
    "plt.legend()\n",
    "plt.show()\n",
    "\n",
    "#Weighted to xs_weights x 300000, need to be toproportion of full dataset too\n",
    "#normalised\n",
    "\n",
    "\n",
    "plt.hist(x= lst_of_values_bg_pred_train, bins=bins,  weights = df_weights[:len(lst_of_values_bg_pred_train),1]*3e5,\n",
    "         histtype = 'step', label = 'Background')\n",
    "plt.hist(x= lst_of_values_signal_pred_train, bins=bins, weights = df_weights[:len(lst_of_values_signal_pred_train),3]*3e5,\n",
    "         histtype = 'step', label = 'Signal')\n",
    "plt.title('TRAINING - Discriminator Curve')\n",
    "plt.xlabel('Classifier Prediction')\n",
    "plt.ylabel('Frequency')\n",
    "plt.xlim(0.6,1)    #zoom in on 0.9 to 1 region\n",
    "plt.ylim(0,500)    # need to zoom in\n",
    "plt.legend()\n",
    "plt.show()\n"
   ]
  },
  {
   "cell_type": "code",
   "execution_count": 32,
   "metadata": {},
   "outputs": [
    {
     "data": {
      "image/png": "[encoded data removed]",
      "text/plain": [
       "<Figure size 432x288 with 1 Axes>"
      ]
     },
     "metadata": {
      "needs_background": "light"
     },
     "output_type": "display_data"
    },
    {
     "data": {
      "image/png": "[encoded data removed]",
      "text/plain": [
       "<Figure size 432x288 with 1 Axes>"
      ]
     },
     "metadata": {
      "needs_background": "light"
     },
     "output_type": "display_data"
    },
    {
     "data": {
      "image/png": "[encoded data removed]",
      "text/plain": [
       "<Figure size 432x288 with 1 Axes>"
      ]
     },
     "metadata": {
      "needs_background": "light"
     },
     "output_type": "display_data"
    }
   ],
   "source": [
    "#Split df into signal and bg\n",
    "\n",
    "df_bg = df[df['True_Val'] == 0]\n",
    "df_signal = df[df['True_Val'] == 1]\n",
    "\n",
    "# Make Validation discriminator curves, Histogram\n",
    "\n",
    "# manipluate data so can be used for Histograms\n",
    "lst_bg_predicted = []\n",
    "for i in df_bg['Predicted']:\n",
    "    lst_bg_predicted.append(i)\n",
    "\n",
    "lst_of_values_bg_pred = [arr.item() for arr in lst_bg_predicted]\n",
    "\n",
    "lst_signal_predicted = []\n",
    "for i in df_signal['Predicted']:\n",
    "    lst_signal_predicted.append(i)\n",
    "\n",
    "lst_of_values_signal_pred = [arr.item() for arr in lst_signal_predicted]\n",
    "\n",
    "binwidth = 0.01\n",
    "bins=np.arange(0, 1 + binwidth, binwidth)\n",
    "\n",
    "#Unweighted, normalised\n",
    "plt.hist(x= lst_of_values_bg_pred, bins=bins, density = True, histtype = 'step', label = 'Background')\n",
    "plt.hist(x= lst_of_values_signal_pred, bins=bins, density = True, histtype = 'step', label = 'Signal')\n",
    "plt.title('Discriminator Curve')\n",
    "plt.xlabel('Classifier Prediction')\n",
    "plt.ylabel('Frequency')\n",
    "plt.legend()\n",
    "plt.show()\n",
    "\n",
    "#Weighted to xs_weights x 300000, need to be toproportion of full dataset too\n",
    "#normalised\n",
    "plt.hist(x= lst_of_values_bg_pred, bins=bins,  weights = df_weights[:len(lst_of_values_bg_pred),1]*3e5,\n",
    "         histtype = 'step', label = 'Background')\n",
    "plt.hist(x= lst_of_values_signal_pred, bins=bins, weights = df_weights[:len(lst_of_values_signal_pred),3]*3e5,\n",
    "         histtype = 'step', label = 'Signal')\n",
    "plt.title('Discriminator Curve')\n",
    "plt.xlabel('Classifier Prediction')\n",
    "plt.ylabel('Frequency')\n",
    "#plt.xlim(0.9,1)    #zoom in on 0.9 to 1 region\n",
    "#plt.ylim(0,200)    # need to zoom in\n",
    "plt.legend()\n",
    "plt.show()\n",
    "    \n",
    "plt.hist(x= lst_of_values_bg_pred, bins=bins,  weights = df_weights[:len(lst_of_values_bg_pred),1]*3e5,\n",
    "         histtype = 'step', label = 'Background')\n",
    "plt.hist(x= lst_of_values_signal_pred, bins=bins, weights = df_weights[:len(lst_of_values_signal_pred),3]*3e5,\n",
    "         histtype = 'step', label = 'Signal')\n",
    "plt.title('Discriminator Curve')\n",
    "plt.xlabel('Classifier Prediction')\n",
    "plt.ylabel('Frequency')\n",
    "plt.xlim(0.8,1)    #zoom in on 0.9 to 1 region\n",
    "plt.ylim(0,200)    # need to zoom in\n",
    "plt.legend()\n",
    "plt.show()\n",
    "\n",
    "\n",
    "#start dropping bins for signifucance part, calc Z and plot, should get curve that peaks"
   ]
  },
  {
   "cell_type": "code",
   "execution_count": 33,
   "metadata": {},
   "outputs": [
    {
     "data": {
      "image/png": "[encoded data removed]",
      "text/plain": [
       "<Figure size 432x288 with 1 Axes>"
      ]
     },
     "metadata": {
      "needs_background": "light"
     },
     "output_type": "display_data"
    }
   ],
   "source": [
    "# Test and Training overlayed\n",
    "\n",
    "#Unweighted, normalised\n",
    "plt.hist(x= lst_of_values_bg_pred, bins=bins, density = True, histtype = 'step', label = 'Background_test')\n",
    "plt.hist(x= lst_of_values_signal_pred, bins=bins, density = True, histtype = 'step', label = 'Signal_test')\n",
    "plt.title('Test - Discriminator Curve')\n",
    "plt.xlabel('Classifier Prediction')\n",
    "plt.ylabel('Frequency')\n",
    "plt.legend()\n",
    "\n",
    "\n",
    "#Unweighted, normalised\n",
    "plt.hist(x= lst_of_values_bg_pred_train, bins=bins, density = True, histtype = 'step', label = 'Background_train')\n",
    "plt.hist(x= lst_of_values_signal_pred_train, bins=bins, density = True, histtype = 'step', label = 'Signal_train')\n",
    "plt.title('Mix Discriminator Curve')\n",
    "plt.xlabel('Classifier Prediction')\n",
    "plt.ylabel('Frequency')\n",
    "plt.legend()\n",
    "plt.show()"
   ]
  },
  {
   "cell_type": "code",
   "execution_count": 34,
   "metadata": {},
   "outputs": [
    {
     "name": "stdout",
     "output_type": "stream",
     "text": [
      "num_bg_events =  217678.71884727478\n",
      "num_signal_events =  4367.3115234375\n"
     ]
    },
    {
     "data": {
      "image/png": "[encoded data removed]",
      "text/plain": [
       "<Figure size 432x288 with 1 Axes>"
      ]
     },
     "metadata": {
      "needs_background": "light"
     },
     "output_type": "display_data"
    }
   ],
   "source": [
    "#Calculate number of events\n",
    "\n",
    "n_bg, bins_bg, patches_bg = plt.hist(x= lst_of_values_bg_pred, bins=bins, weights = df_weights[:len(lst_of_values_bg_pred),1]*3e5*5,\n",
    "         histtype = 'step', label = 'Background')\n",
    "n_signal, bins_signal, patches_signal = plt.hist(x= lst_of_values_signal_pred, bins=bins, weights = df_weights[:len(lst_of_values_signal_pred),3]*3e5*5,\n",
    "         histtype = 'step', label = 'Signal')\n",
    "\n",
    "# calculate the number of events\n",
    "num_bg_events = np.sum(n_bg)\n",
    "num_signal_events = np.sum(n_signal)\n",
    "\n",
    "print('num_bg_events = ', num_bg_events)\n",
    "print('num_signal_events = ', num_signal_events)"
   ]
  },
  {
   "cell_type": "code",
   "execution_count": null,
   "metadata": {},
   "outputs": [],
   "source": [
    "#plot ROC curves\n",
    "\n",
    "y_true = df['True_Val']\n",
    "y_score = df['Predicted']\n",
    "\n",
    "# calculate the false positive rate and true positive rate\n",
    "fpr, tpr, thresholds = roc_curve(y_true, y_score)\n",
    "\n",
    "# calculate the area under the ROC curve\n",
    "roc_auc = auc(fpr, tpr)\n",
    "\n",
    "# plot the ROC curve\n",
    "plt.plot(fpr, tpr, color='darkorange', lw=2, label='ROC curve (AUC = %0.2f)' % roc_auc)\n",
    "plt.plot([0, 1], [0, 1], color='navy', lw=2, linestyle='--')\n",
    "plt.xlim([0.0, 1.0])\n",
    "plt.ylim([0.0, 1.05])\n",
    "plt.xlabel('False Positive Rate')\n",
    "plt.ylabel('True Positive Rate')\n",
    "plt.title('Receiver Operating Characteristic')\n",
    "plt.legend(loc=\"lower right\")\n",
    "plt.show()\n",
    "\n",
    "print(roc_auc)  #79%\n",
    "\n",
    "print(len(thresholds))\n",
    "\n"
   ]
  },
  {
   "cell_type": "code",
   "execution_count": null,
   "metadata": {},
   "outputs": [],
   "source": [
    "# data_roc = {'thresholds': thresholds, 'tpr': tpr, 'fpr': fpr, 'tpr/sqrt(fpr)':tpr/np.sqrt(fpr)}\n",
    "# df_roc = pd.DataFrame(data_roc)\n",
    "# #df_roc\n",
    "# df_roc.head(20)\n",
    "# plt.plot(df_roc['thresholds'][3:], df_roc['tpr/sqrt(fpr)'][3:])\n",
    "# plt.show()\n",
    "# max(df_roc['tpr/sqrt(fpr)'][3:])"
   ]
  },
  {
   "cell_type": "code",
   "execution_count": null,
   "metadata": {},
   "outputs": [],
   "source": [
    "# # Plot precision recall curve\n",
    "# from sklearn.metrics import average_precision_score\n",
    "\n",
    "# y_true = df['True_Val']\n",
    "# y_score = df['Predicted']\n",
    "\n",
    "# # calculate the precision-recall curve\n",
    "# precision, recall, _ = precision_recall_curve(y_true, y_score)\n",
    "\n",
    "# # plot the precision-recall curve\n",
    "# plt.step(recall, precision, color='b', alpha=0.2, where='post')\n",
    "# plt.fill_between(recall, precision, step='post', alpha=0.2, color='b')\n",
    "# plt.xlabel('Recall')\n",
    "# plt.ylabel('Precision')\n",
    "# plt.ylim([0.0, 1.05])\n",
    "# plt.xlim([0.0, 1.0])\n",
    "# plt.title('Precision-Recall Curve')\n",
    "# plt.show()\n",
    "\n",
    "# AUC = average_precision_score(y_true, y_score)   #0.793, pretty similar to roc AUC\n",
    "# print(AUC)"
   ]
  },
  {
   "cell_type": "code",
   "execution_count": 35,
   "metadata": {},
   "outputs": [
    {
     "name": "stdout",
     "output_type": "stream",
     "text": [
      "88109     [0.19465196]\n",
      "111032    [0.32051423]\n",
      "111033    [0.10133326]\n",
      "111034     [0.0908809]\n",
      "111035    [0.14353403]\n",
      "              ...     \n",
      "27764      [0.9580364]\n",
      "141597    [0.70336264]\n",
      "27763      [0.9565238]\n",
      "100490    [0.77458954]\n",
      "0         [0.38990238]\n",
      "Name: Predicted, Length: 176220, dtype: object\n"
     ]
    }
   ],
   "source": [
    "df['True_Val']\n",
    "x = df['Predicted']\n",
    "print(x)"
   ]
  },
  {
   "cell_type": "markdown",
   "metadata": {},
   "source": [
    "# Significance\n",
    "\n",
    "$$ Z = \\frac{s}{\\sqrt(B+\\sigma_s^{2})}  $$\n",
    "\n",
    "s = number of signal\n",
    "\n",
    "B = number of background\n",
    "\n",
    "$\\sigma_s$ = statistical uncertainty (~10% of B)"
   ]
  },
  {
   "cell_type": "code",
   "execution_count": 36,
   "metadata": {},
   "outputs": [
    {
     "name": "stdout",
     "output_type": "stream",
     "text": [
      "217678.71884727478\n",
      "4367.3115234375\n"
     ]
    },
    {
     "name": "stderr",
     "output_type": "stream",
     "text": [
      "/software/deep-learning/envs/ml-microscope/lib/python3.7/site-packages/ipykernel_launcher.py:12: RuntimeWarning: invalid value encountered in double_scalars\n",
      "  if sys.path[0] == '':\n"
     ]
    },
    {
     "data": {
      "image/png": "[encoded data removed]",
      "text/plain": [
       "<Figure size 432x288 with 1 Axes>"
      ]
     },
     "metadata": {
      "needs_background": "light"
     },
     "output_type": "display_data"
    },
    {
     "name": "stdout",
     "output_type": "stream",
     "text": [
      "0.99\n",
      "99\n",
      "17.586597927120465\n",
      "\n",
      "If cut at a threshold of 0.99 have\n",
      "38.3291015625 singal events\n",
      "4.75 background events\n"
     ]
    },
    {
     "name": "stderr",
     "output_type": "stream",
     "text": [
      "/software/deep-learning/envs/ml-microscope/lib/python3.7/site-packages/ipykernel_launcher.py:27: RuntimeWarning: invalid value encountered in less\n"
     ]
    }
   ],
   "source": [
    "num_bg_events = np.sum(n_bg)\n",
    "num_signal_events = np.sum(n_signal)\n",
    "\n",
    "print(num_bg_events)\n",
    "print(num_signal_events)\n",
    "\n",
    "z = np.empty(len(bins_bg))\n",
    "for i in range(len(bins_bg)):\n",
    "    num_bg_events = np.sum(n_bg[i:])\n",
    "    num_signal_events = np.sum(n_signal[i:])\n",
    "    #print(num_signal_events)\n",
    "    z_i = num_signal_events / np.sqrt(num_bg_events)\n",
    "    z[i] = z_i\n",
    "#print(z)\n",
    "\n",
    "\n",
    "x = np.linspace(0,1,len(z))\n",
    "plt.plot(bins_bg,z[:])\n",
    "#plt.xlim([0, 1.0])\n",
    "#plt.ylim([0.0, 1.05])\n",
    "plt.xlabel('Threshold')\n",
    "plt.ylabel('Significance, z')\n",
    "plt.title('Significance curve with no sigma')\n",
    "plt.show()\n",
    "\n",
    "\n",
    "mask = z < 1e10     #just so doesnt include infs\n",
    "index_of_max = np.argmax(z[mask])\n",
    "max_value = np.amax(z[mask])\n",
    "\n",
    "\n",
    "#index_of_max = np.nanargmax(z[:])\n",
    "#max_value = np.nanmax(z[:])     # 1 point before last, should probs generalise so that can deal w inf etc \n",
    "max_bin = bins_bg[index_of_max]\n",
    "print(max_bin)\n",
    "print(index_of_max)\n",
    "print(max_value)\n",
    "\n",
    "# significance = sigmna, 6.5 signma, 5 sigma\n",
    "\n",
    "num_bg_threshold = np.sum(n_bg[index_of_max:])\n",
    "num_signal_threshold = np.sum(n_signal[index_of_max:])\n",
    "\n",
    "print()\n",
    "print('If cut at a threshold of', index_of_max/100, 'have')\n",
    "print(num_signal_threshold, 'singal events')\n",
    "print(num_bg_threshold, 'background events')"
   ]
  },
  {
   "cell_type": "code",
   "execution_count": 37,
   "metadata": {},
   "outputs": [
    {
     "data": {
      "image/png": "[encoded data removed]",
      "text/plain": [
       "<Figure size 432x288 with 2 Axes>"
      ]
     },
     "metadata": {
      "needs_background": "light"
     },
     "output_type": "display_data"
    },
    {
     "name": "stdout",
     "output_type": "stream",
     "text": [
      "Total signal processes; 1.0\n",
      "Total background processes; 1.0\n"
     ]
    }
   ],
   "source": [
    "# Confusion matricies with new threshold at max significance\n",
    "\n",
    "# calculates prediction values\n",
    "#y_pred = model.predict(X_valid) \n",
    "\n",
    "significance_threshold = max_bin\n",
    "y_pred_threshold = np.where(y_pred >= significance_threshold, 1, 0)\n",
    "\n",
    "# compute the confusion matrix\n",
    "cm = confusion_matrix(y_valid, y_pred_threshold, normalize = 'true')    #,'true' ‘pred’, ‘all’},)\n",
    "#disp = ConfusionMatrixDisplay(confusion_matrix=cm)   \n",
    "disp = ConfusionMatrixDisplay(confusion_matrix=cm, display_labels=['Background', 'Signal']) # other env\n",
    "disp.plot()\n",
    "plt.show()\n",
    "\n",
    "print('Total signal processes;', cm[1,0]+cm[1,1])\n",
    "print('Total background processes;', cm[0,0]+cm[0,1])"
   ]
  },
  {
   "cell_type": "code",
   "execution_count": 42,
   "metadata": {},
   "outputs": [
    {
     "name": "stdout",
     "output_type": "stream",
     "text": [
      "217678.71884727478\n",
      "4367.3115234375\n"
     ]
    },
    {
     "name": "stderr",
     "output_type": "stream",
     "text": [
      "/software/deep-learning/envs/ml-microscope/lib/python3.7/site-packages/ipykernel_launcher.py:14: RuntimeWarning: invalid value encountered in double_scalars\n",
      "  \n"
     ]
    },
    {
     "data": {
      "image/png": "[encoded data removed]",
      "text/plain": [
       "<Figure size 432x288 with 1 Axes>"
      ]
     },
     "metadata": {
      "needs_background": "light"
     },
     "output_type": "display_data"
    },
    {
     "name": "stdout",
     "output_type": "stream",
     "text": [
      "0.99\n",
      "99\n",
      "17.483098387885008\n",
      "\n",
      "If cut at a threshold of 0.99 have\n",
      "38.3291015625 singal events\n",
      "4.75 background events\n"
     ]
    },
    {
     "name": "stderr",
     "output_type": "stream",
     "text": [
      "/software/deep-learning/envs/ml-microscope/lib/python3.7/site-packages/ipykernel_launcher.py:30: RuntimeWarning: invalid value encountered in less\n"
     ]
    }
   ],
   "source": [
    "# significance with statistical uncertainty term\n",
    "\n",
    "num_bg_events = np.sum(n_bg)\n",
    "num_signal_events = np.sum(n_signal)\n",
    "\n",
    "print(num_bg_events)\n",
    "print(num_signal_events)\n",
    "\n",
    "z = np.empty(len(bins_bg))\n",
    "for i in range(len(bins_bg)):\n",
    "    num_bg_events = np.sum(n_bg[i:])\n",
    "    num_signal_events = np.sum(n_signal[i:])\n",
    "    #print(num_signal_events)\n",
    "    z_i = num_signal_events / np.sqrt(num_bg_events + (0.05*num_bg_events)**2)\n",
    "    \n",
    "    z[i] = z_i\n",
    "#print(z)\n",
    "\n",
    "\n",
    "x = np.linspace(0,1,len(z))\n",
    "plt.plot(bins_bg,z[:])\n",
    "#plt.xlim([0, 1.0])\n",
    "#plt.ylim([0.0, 1.05])\n",
    "plt.xlabel('Threshold')\n",
    "plt.ylabel('Significance, z')\n",
    "plt.title('Significance curve with sigma')\n",
    "plt.show()\n",
    "\n",
    "\n",
    "mask = z < 1e10     #just so doesnt include infs\n",
    "index_of_max = np.argmax(z[mask])\n",
    "max_value = np.amax(z[mask])\n",
    "\n",
    "\n",
    "#index_of_max = np.nanargmax(z[:])\n",
    "#max_value = np.nanmax(z[:])     # 1 point before last, should probs generalise so that can deal w inf etc \n",
    "max_bin = bins_bg[index_of_max]\n",
    "print(max_bin)\n",
    "print(index_of_max)\n",
    "print(max_value)\n",
    "\n",
    "num_bg_threshold = np.sum(n_bg[index_of_max:])\n",
    "num_signal_threshold = np.sum(n_signal[index_of_max:])\n",
    "print()\n",
    "print('If cut at a threshold of', index_of_max/100, 'have')\n",
    "print(num_signal_threshold, 'singal events')\n",
    "print(num_bg_threshold, 'background events')\n",
    "# significance = sigmna, 6.5 signma, 5 sigma"
   ]
  },
  {
   "cell_type": "code",
   "execution_count": 46,
   "metadata": {},
   "outputs": [
    {
     "name": "stdout",
     "output_type": "stream",
     "text": [
      "13.885248743808981\n"
     ]
    }
   ],
   "source": [
    "print(z[98])"
   ]
  },
  {
   "cell_type": "code",
   "execution_count": 40,
   "metadata": {},
   "outputs": [
    {
     "name": "stdout",
     "output_type": "stream",
     "text": [
      "217678.71884727478\n",
      "4367.3115234375\n"
     ]
    },
    {
     "name": "stderr",
     "output_type": "stream",
     "text": [
      "/software/deep-learning/envs/ml-microscope/lib/python3.7/site-packages/ipykernel_launcher.py:16: RuntimeWarning: invalid value encountered in double_scalars\n",
      "  app.launch_new_instance()\n",
      "/software/deep-learning/envs/ml-microscope/lib/python3.7/site-packages/ipykernel_launcher.py:17: RuntimeWarning: invalid value encountered in double_scalars\n"
     ]
    },
    {
     "data": {
      "image/png": "[encoded data removed]",
      "text/plain": [
       "<Figure size 432x288 with 1 Axes>"
      ]
     },
     "metadata": {
      "needs_background": "light"
     },
     "output_type": "display_data"
    },
    {
     "name": "stdout",
     "output_type": "stream",
     "text": [
      "0.98\n",
      "98\n",
      "10.831057152783492\n",
      "\n",
      "If cut at a threshold of 0.98 have\n",
      "108.59912109375 singal events\n",
      "53.90625 background events\n"
     ]
    },
    {
     "name": "stderr",
     "output_type": "stream",
     "text": [
      "/software/deep-learning/envs/ml-microscope/lib/python3.7/site-packages/ipykernel_launcher.py:37: RuntimeWarning: invalid value encountered in less\n"
     ]
    }
   ],
   "source": [
    "# significance with systematic uncertainty term, full equation\n",
    "\n",
    "num_bg_events = np.sum(n_bg)\n",
    "num_signal_events = np.sum(n_signal)\n",
    "\n",
    "print(num_bg_events)\n",
    "print(num_signal_events)\n",
    "\n",
    "z = np.empty(len(bins_bg))\n",
    "for i in range(len(bins_bg)):\n",
    "    b = np.sum(n_bg[i:])\n",
    "    s = np.sum(n_signal[i:])\n",
    "    #print(num_signal_events)\n",
    "    sigma = 0.05*b\n",
    "    \n",
    "    part1 = (s+b)*np.log(((s+b)*(b+sigma**2))/(b**2+((s+b)*sigma**2)))\n",
    "    part2 = (b**2/sigma**2)*np.log(1+((sigma**2*s)/(b*(b+sigma**2))))\n",
    "    \n",
    "    z_i = (2*(part1-part2))**(1/2)\n",
    "\n",
    "    \n",
    "    z[i] = z_i\n",
    "#print(z)\n",
    "#print(z)\n",
    "\n",
    "\n",
    "x = np.linspace(0,1,len(z))\n",
    "plt.plot(bins_bg,z[:])\n",
    "#plt.xlim([0, 1.0])\n",
    "#plt.ylim([0.0, 1.05])\n",
    "plt.xlabel('Threshold')\n",
    "plt.ylabel('Significance, z')\n",
    "plt.title('Significance curve with sigma, full equation')\n",
    "plt.show()\n",
    "\n",
    "\n",
    "mask = z < 1e10     #just so doesnt include infs\n",
    "index_of_max = np.argmax(z[mask])\n",
    "max_value = np.amax(z[mask])\n",
    "\n",
    "\n",
    "#index_of_max = np.nanargmax(z[:])\n",
    "#max_value = np.nanmax(z[:])     # 1 point before last, should probs generalise so that can deal w inf etc \n",
    "max_bin = bins_bg[index_of_max]\n",
    "print(max_bin)\n",
    "print(index_of_max)\n",
    "print(max_value)\n",
    "\n",
    "num_bg_threshold = np.sum(n_bg[index_of_max:])\n",
    "num_signal_threshold = np.sum(n_signal[index_of_max:])\n",
    "print()\n",
    "print('If cut at a threshold of', index_of_max/100, 'have')\n",
    "print(num_signal_threshold, 'singal events')\n",
    "print(num_bg_threshold, 'background events')\n",
    "# significance = sigmna, 6.5 signma, 5 sigma"
   ]
  },
  {
   "cell_type": "code",
   "execution_count": 41,
   "metadata": {},
   "outputs": [
    {
     "data": {
      "image/png": "[encoded data removed]",
      "text/plain": [
       "<Figure size 432x288 with 2 Axes>"
      ]
     },
     "metadata": {
      "needs_background": "light"
     },
     "output_type": "display_data"
    },
    {
     "name": "stdout",
     "output_type": "stream",
     "text": [
      "Total signal processes; 1.0\n",
      "Total background processes; 1.0\n"
     ]
    }
   ],
   "source": [
    "# Confusion matricies with new threshold at max significance with statisitcal uncertainty\n",
    "\n",
    "# calculates prediction values\n",
    "#y_pred = model.predict(X_valid) \n",
    "\n",
    "significance_threshold = max_bin\n",
    "y_pred_threshold = np.where(y_pred >= significance_threshold, 1, 0)\n",
    "\n",
    "# compute the confusion matrix\n",
    "cm = confusion_matrix(y_valid, y_pred_threshold, normalize = 'true')    #,'true' ‘pred’, ‘all’},)\n",
    "#disp = ConfusionMatrixDisplay(confusion_matrix=cm)   \n",
    "disp = ConfusionMatrixDisplay(confusion_matrix=cm, display_labels=['Background', 'Signal']) # other env\n",
    "disp.plot()\n",
    "plt.show()\n",
    "\n",
    "print('Total signal processes;', cm[1,0]+cm[1,1])\n",
    "print('Total background processes;', cm[0,0]+cm[0,1])"
   ]
  },
  {
   "cell_type": "code",
   "execution_count": null,
   "metadata": {},
   "outputs": [],
   "source": [
    "# See weight is const basically, so just use a value\n",
    "\n",
    "semi_xs_weight = df2['xs_weight']   # plot to show is wrong, at least 1 -ive val (is this right?)\n",
    "signal_xs_weight = df4['xs_weight'] \n",
    "#plt.hist(x=semi_xs_weight, bins = 10, weights = df2.xs_weight, density = True, histtype = 'step', label = 'Background')\n",
    "plt.hist(x=signal_xs_weight, bins = 10, weights = df4.xs_weight, density = True, histtype = 'step', label = 'Signal')\n",
    "plt.title('xs_weight')\n",
    "plt.legend()\n",
    "plt.show() \n",
    "\n",
    "semi_xs_weight = df2['xs_weight']   # plot to show is wrong, at least 1 -ive val (is this right?)\n",
    "signal_xs_weight = df4['xs_weight'] \n",
    "plt.hist(x=semi_xs_weight, bins = 10, weights = df2.xs_weight, density = True, histtype = 'step', label = 'Background')\n",
    "#plt.hist(x=signal_xs_weight, bins = 10, weights = df4.xs_weight, density = True, histtype = 'step', label = 'Signal')\n",
    "plt.title('xs_weight')\n",
    "plt.legend()\n",
    "plt.show() "
   ]
  },
  {
   "cell_type": "code",
   "execution_count": null,
   "metadata": {},
   "outputs": [],
   "source": [
    "#Also, to make sure we get the event weights correct, can each of you try and produce a number for the \n",
    "#total number of events you obtain when using all events in the ttH125 and ttbar semileptonic dataframes,\n",
    "#normalized to 300/fb?\n",
    "#Hopefully you all arrive at the same result.\n",
    "\n",
    "# Sligthly confused, does x_s weight normalised already entail no. events,\n",
    "# So xs_weight * 300,000 is no events\n",
    "\n",
    "#Or\n",
    "\n",
    "# Are we meant to use the equation you showed us last week and work out what N should be\n",
    "\n",
    "#Or\n",
    "\n",
    "# do both and compare them as should be same?\n",
    "\n",
    "bg_weight = semi_xs_weight[1]\n",
    "signal_weight = signal_xs_weight[1]\n",
    "\n",
    "# total number SL\n",
    "sl_tot_events = bg_weight * 300000      # weight per pb to 300fb\n",
    "\n",
    "# total number signal\n",
    "signal_tot_events = signal_weight * 300000\n",
    "\n",
    "print('Total number of semileptonic events is {}'.format(sl_tot_events))\n",
    "print('Total number of ttH125 events is {}'.format(signal_tot_events))\n",
    "print()\n",
    "\n",
    "sl_events = 300000 * 500\n",
    "signal_events = 300000 * 0.5\n",
    "\n",
    "print('Total number of semileptonic events is {}'.format(sl_events)) #150000k\n",
    "print('Total number of ttH125 events is {}'.format(signal_events))   #150k\n",
    "#tot_events = "
   ]
  },
  {
   "cell_type": "markdown",
   "metadata": {},
   "source": [
    "# Q \n",
    "Can you also overlay the discriminator distributions for the test data \n",
    "(normalized to the same area) to check if training and testing samples agree?\n",
    "# A\n",
    "not sure what is meant, so show code for the one that I did do. I did it for validation data, so when he says this does hr mean my data is test or training\n",
    "\n",
    "# Q \n",
    "If you use all the events in the dataframes and weight each entry by xs_weight you should\n",
    "get the expected number of events for 1 /pb. Is everything in the plot below already \n",
    "multiplied by 300000 to get the event yields expected for 300/fb?\n",
    "What exactly did you use?\n",
    "\n",
    "# A\n",
    "Yes, everything in the weighted plot is multiplied by 300000, show what I used as I am not sure if thats right\n",
    "\n",
    "# Q\n",
    "If you integrate the weighted histograms, how many events do you obtain in each histogram? \n",
    "\n",
    "# A\n",
    "Bit confused, why integrate the histograms when can just see how much data used, is it because this is weighted so it will give the number of events we actually expect overall in 300000 fb^-1, makes sense.\n",
    "#Did 3 ways, not really clear what was right, way I think rn is each bin is a number of events, so just need to add number events per bin, dont need to do anything regarding the width of the bin? But then an integral is the area so that does mean bin size matters, but not really sure, bc obvs sum bin size = 1\n",
    "#Think first one is correct\n",
    "\n",
    "\n",
    "# Q \n",
    "Next would be to plot ROC curves and precision-recall which have slightly different meaning.\n",
    "\n",
    "# A\n",
    "So does a ROC curve work out where the best threshold is for us, so what is significance. Also should a ROC curve be weighted\n",
    "\n",
    "# Q \n",
    "from the weighted plot, make a plot of Z = S/sqrt(B) as a function of the cut on the discriminator value, where S and B are the number of events (i.e. the integral) of the histogram \n",
    "that have discriminator value above the cut you chose. You may need to “zoom in” on the region >0.9 \n",
    "to see that it falls off again as you approach 1"
   ]
  },
  {
   "cell_type": "code",
   "execution_count": null,
   "metadata": {},
   "outputs": [],
   "source": [
    "print(df1['xs_weight'])\n",
    "plt.hist(df1['xs_weight'])"
   ]
  },
  {
   "cell_type": "code",
   "execution_count": null,
   "metadata": {},
   "outputs": [],
   "source": [
    "print(df2['xs_weight'])\n",
    "plt.hist(df2['xs_weight'])"
   ]
  },
  {
   "cell_type": "code",
   "execution_count": null,
   "metadata": {},
   "outputs": [],
   "source": [
    "print(df3['xs_weight'])\n",
    "plt.hist(df3['xs_weight'])"
   ]
  },
  {
   "cell_type": "code",
   "execution_count": null,
   "metadata": {},
   "outputs": [],
   "source": [
    "print(df4['xs_weight'])\n",
    "plt.hist(df4['xs_weight'])"
   ]
  },
  {
   "cell_type": "code",
   "execution_count": null,
   "metadata": {},
   "outputs": [],
   "source": [
    "print('TTToHadronic weight: ', df1['xs_weight'][10000])\n",
    "print('TTToSL weight: ', df2['xs_weight'][0])\n",
    "print('TTL2NU weight: ', df3['xs_weight'][0])\n",
    "print('TTH125 weight: ', df4['xs_weight'][0])"
   ]
  },
  {
   "cell_type": "markdown",
   "metadata": {},
   "source": [
    "# Updates from 08/02 grind\n",
    "- I trained on full dataset and got like 10% more accuracy, actually a v good now, loss also down a fair bit, 0.1\n",
    "\n",
    "- But does take like 10 mins to run training data\n",
    "\n",
    "- Actually, not that good\n"
   ]
  }
 ],
 "metadata": {
  "kernelspec": {
   "display_name": "Python 3",
   "language": "python",
   "name": "python3"
  },
  "language_info": {
   "codemirror_mode": {
    "name": "ipython",
    "version": 3
   },
   "file_extension": ".py",
   "mimetype": "text/x-python",
   "name": "python",
   "nbconvert_exporter": "python",
   "pygments_lexer": "ipython3",
   "version": "3.7.3"
  }
 },
 "nbformat": 4,
 "nbformat_minor": 4
}
