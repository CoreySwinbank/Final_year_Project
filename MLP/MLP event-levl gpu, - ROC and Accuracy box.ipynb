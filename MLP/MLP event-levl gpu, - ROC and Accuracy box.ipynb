{
 "cells": [
  {
   "cell_type": "code",
   "execution_count": 1,
   "metadata": {},
   "outputs": [],
   "source": [
    "import numpy as np\n",
    "import pandas as pd \n",
    "from sklearn.model_selection import train_test_split\n",
    "from sklearn.preprocessing import StandardScaler\n",
    "from tensorflow import keras\n",
    "#from tensorflow.keras.utils import to_categorical ## specific  one I wanna use\n",
    "from tensorflow.keras import utils\n",
    "#from tensorflow.keras.layers import Input, Dense, Dropout  # Specific ones I wanna use, can just import whole module\n",
    "from tensorflow.keras import layers \n",
    "from tensorflow.keras.models import Model\n",
    "import h5py\n",
    "#import tables\n",
    "import matplotlib.pyplot as plt\n",
    "#import tensorflow as tf\n",
    "from sklearn.metrics import confusion_matrix, ConfusionMatrixDisplay\n",
    "from sklearn.metrics import plot_confusion_matrix\n",
    "from sklearn.metrics import roc_curve, auc\n",
    "from sklearn.metrics import precision_recall_curve\n",
    "from sklearn.utils.class_weight import compute_class_weight\n"
   ]
  },
  {
   "cell_type": "code",
   "execution_count": 2,
   "metadata": {},
   "outputs": [
    {
     "data": {
      "text/plain": [
       "4"
      ]
     },
     "execution_count": 2,
     "metadata": {},
     "output_type": "execute_result"
    }
   ],
   "source": [
    "x=1\n",
    "y=3\n",
    "x+y\n",
    "\n"
   ]
  },
  {
   "cell_type": "code",
   "execution_count": 3,
   "metadata": {},
   "outputs": [],
   "source": [
    "# Load the HDF5 file\n",
    "with h5py.File('DF_event_based-Copy1.h5', 'r') as hf:\n",
    "    # Access the dataset by name and load it into a pandas dataframe\n",
    "    df_total = pd.DataFrame(hf['dataset_name'][:])\n",
    "\n",
    "with h5py.File('4_event_types_weights-Copy1.h5', 'r') as f:\n",
    "    df_weights = f['array'][:]"
   ]
  },
  {
   "cell_type": "code",
   "execution_count": 4,
   "metadata": {},
   "outputs": [],
   "source": [
    "with h5py.File('run1_ROC_data.h5', 'r') as hf:\n",
    "    roc_df_run1 = pd.DataFrame(hf['df'][:])\n",
    "    \n",
    "with h5py.File('run2_ROC_data.h5', 'r') as hf:\n",
    "    roc_df_run2 = pd.DataFrame(hf['df'][:])\n",
    "    \n",
    "with h5py.File('run3_ROC_data.h5', 'r') as hf:\n",
    "    roc_df_run3 = pd.DataFrame(hf['df'][:])\n",
    "    \n",
    "with h5py.File('run4_ROC_data.h5', 'r') as hf:\n",
    "    roc_df_run4 = pd.DataFrame(hf['df'][:])\n",
    "\n",
    "with h5py.File('run5_ROC_data.h5', 'r') as hf:\n",
    "    roc_df_run5 = pd.DataFrame(hf['df'][:])\n",
    "    \n",
    "with h5py.File('run6_ROC_data.h5', 'r') as hf:\n",
    "    roc_df_run6 = pd.DataFrame(hf['df'][:])\n",
    "    \n",
    "with h5py.File('run7_ROC_data.h5', 'r') as hf:\n",
    "    roc_df_run7 = pd.DataFrame(hf['df'][:])\n",
    "    \n",
    "with h5py.File('run8_ROC_data.h5', 'r') as hf:\n",
    "    roc_df_run8 = pd.DataFrame(hf['df'][:])\n",
    "    \n",
    "with h5py.File('run9_ROC_data.h5', 'r') as hf:\n",
    "    roc_df_run9 = pd.DataFrame(hf['df'][:])\n",
    "    \n",
    "with h5py.File('run10_ROC_data.h5', 'r') as hf:\n",
    "    roc_df_run10 = pd.DataFrame(hf['df'][:])\n",
    "    "
   ]
  },
  {
   "cell_type": "code",
   "execution_count": 5,
   "metadata": {},
   "outputs": [
    {
     "data": {
      "text/html": [
       "<div>\n",
       "<style scoped>\n",
       "    .dataframe tbody tr th:only-of-type {\n",
       "        vertical-align: middle;\n",
       "    }\n",
       "\n",
       "    .dataframe tbody tr th {\n",
       "        vertical-align: top;\n",
       "    }\n",
       "\n",
       "    .dataframe thead th {\n",
       "        text-align: right;\n",
       "    }\n",
       "</style>\n",
       "<table border=\"1\" class=\"dataframe\">\n",
       "  <thead>\n",
       "    <tr style=\"text-align: right;\">\n",
       "      <th></th>\n",
       "      <th>True_Val</th>\n",
       "      <th>Predicted</th>\n",
       "      <th>Round Prediction</th>\n",
       "    </tr>\n",
       "  </thead>\n",
       "  <tbody>\n",
       "    <tr>\n",
       "      <th>0</th>\n",
       "      <td>0.0</td>\n",
       "      <td>0.534102</td>\n",
       "      <td>1.0</td>\n",
       "    </tr>\n",
       "    <tr>\n",
       "      <th>1</th>\n",
       "      <td>0.0</td>\n",
       "      <td>0.312397</td>\n",
       "      <td>0.0</td>\n",
       "    </tr>\n",
       "    <tr>\n",
       "      <th>2</th>\n",
       "      <td>0.0</td>\n",
       "      <td>0.136496</td>\n",
       "      <td>0.0</td>\n",
       "    </tr>\n",
       "    <tr>\n",
       "      <th>3</th>\n",
       "      <td>0.0</td>\n",
       "      <td>0.258983</td>\n",
       "      <td>0.0</td>\n",
       "    </tr>\n",
       "    <tr>\n",
       "      <th>4</th>\n",
       "      <td>0.0</td>\n",
       "      <td>0.167892</td>\n",
       "      <td>0.0</td>\n",
       "    </tr>\n",
       "    <tr>\n",
       "      <th>...</th>\n",
       "      <td>...</td>\n",
       "      <td>...</td>\n",
       "      <td>...</td>\n",
       "    </tr>\n",
       "    <tr>\n",
       "      <th>176215</th>\n",
       "      <td>1.0</td>\n",
       "      <td>0.482203</td>\n",
       "      <td>0.0</td>\n",
       "    </tr>\n",
       "    <tr>\n",
       "      <th>176216</th>\n",
       "      <td>1.0</td>\n",
       "      <td>0.785123</td>\n",
       "      <td>1.0</td>\n",
       "    </tr>\n",
       "    <tr>\n",
       "      <th>176217</th>\n",
       "      <td>1.0</td>\n",
       "      <td>0.513268</td>\n",
       "      <td>1.0</td>\n",
       "    </tr>\n",
       "    <tr>\n",
       "      <th>176218</th>\n",
       "      <td>1.0</td>\n",
       "      <td>0.682414</td>\n",
       "      <td>1.0</td>\n",
       "    </tr>\n",
       "    <tr>\n",
       "      <th>176219</th>\n",
       "      <td>1.0</td>\n",
       "      <td>0.551977</td>\n",
       "      <td>1.0</td>\n",
       "    </tr>\n",
       "  </tbody>\n",
       "</table>\n",
       "<p>176220 rows × 3 columns</p>\n",
       "</div>"
      ],
      "text/plain": [
       "        True_Val  Predicted  Round Prediction\n",
       "0            0.0   0.534102               1.0\n",
       "1            0.0   0.312397               0.0\n",
       "2            0.0   0.136496               0.0\n",
       "3            0.0   0.258983               0.0\n",
       "4            0.0   0.167892               0.0\n",
       "...          ...        ...               ...\n",
       "176215       1.0   0.482203               0.0\n",
       "176216       1.0   0.785123               1.0\n",
       "176217       1.0   0.513268               1.0\n",
       "176218       1.0   0.682414               1.0\n",
       "176219       1.0   0.551977               1.0\n",
       "\n",
       "[176220 rows x 3 columns]"
      ]
     },
     "execution_count": 5,
     "metadata": {},
     "output_type": "execute_result"
    }
   ],
   "source": [
    "cols = ['True_Val', 'Predicted', 'Round Prediction']\n",
    "\n",
    "roc_df_run1 = roc_df_run1.rename(columns=dict(zip(roc_df_run1.columns, cols)))\n",
    "roc_df_run2 = roc_df_run2.rename(columns=dict(zip(roc_df_run2.columns, cols)))\n",
    "roc_df_run3 = roc_df_run3.rename(columns=dict(zip(roc_df_run3.columns, cols)))\n",
    "roc_df_run4 = roc_df_run4.rename(columns=dict(zip(roc_df_run4.columns, cols)))\n",
    "roc_df_run5 = roc_df_run5.rename(columns=dict(zip(roc_df_run5.columns, cols)))\n",
    "roc_df_run6 = roc_df_run6.rename(columns=dict(zip(roc_df_run6.columns, cols)))\n",
    "roc_df_run7 = roc_df_run7.rename(columns=dict(zip(roc_df_run7.columns, cols)))\n",
    "roc_df_run8 = roc_df_run8.rename(columns=dict(zip(roc_df_run8.columns, cols)))\n",
    "roc_df_run9 = roc_df_run9.rename(columns=dict(zip(roc_df_run9.columns, cols)))\n",
    "roc_df_run10 = roc_df_run10.rename(columns=dict(zip(roc_df_run10.columns, cols)))\n",
    "\n",
    "roc_df_run3\n"
   ]
  },
  {
   "cell_type": "code",
   "execution_count": 6,
   "metadata": {},
   "outputs": [
    {
     "data": {
      "image/png": "[encoded data removed]",
      "text/plain": [
       "<Figure size 432x288 with 1 Axes>"
      ]
     },
     "metadata": {
      "needs_background": "light"
     },
     "output_type": "display_data"
    },
    {
     "name": "stdout",
     "output_type": "stream",
     "text": [
      "[0.77275563 0.77417286 0.77300698 0.77263598 0.77196206 0.77173389\n",
      " 0.77297234 0.77116676 0.77213619 0.77122757]\n"
     ]
    }
   ],
   "source": [
    "#plot ROC curves\n",
    "\n",
    "y_true1 = roc_df_run1['True_Val']\n",
    "y_score1 = roc_df_run1['Predicted']\n",
    "\n",
    "y_true2 = roc_df_run2['True_Val']\n",
    "y_score2 = roc_df_run2['Predicted']\n",
    "\n",
    "y_true3 = roc_df_run3['True_Val']\n",
    "y_score3 = roc_df_run3['Predicted']\n",
    "\n",
    "y_true4 = roc_df_run4['True_Val']\n",
    "y_score4 = roc_df_run4['Predicted']\n",
    "\n",
    "\n",
    "y_true5 = roc_df_run5['True_Val']\n",
    "y_score5 = roc_df_run5['Predicted']\n",
    "\n",
    "\n",
    "y_true6 = roc_df_run6['True_Val']\n",
    "y_score6 = roc_df_run6['Predicted']\n",
    "\n",
    "\n",
    "y_true7 = roc_df_run7['True_Val']\n",
    "y_score7 = roc_df_run7['Predicted']\n",
    "\n",
    "\n",
    "y_true8 = roc_df_run8['True_Val']\n",
    "y_score8 = roc_df_run8['Predicted']\n",
    "\n",
    "\n",
    "y_true9 = roc_df_run9['True_Val']\n",
    "y_score9 = roc_df_run9['Predicted']\n",
    "\n",
    "\n",
    "y_true10 = roc_df_run10['True_Val']\n",
    "y_score10 = roc_df_run10['Predicted']\n",
    "\n",
    "\n",
    "\n",
    "\n",
    "# calculate the false positive rate and true positive rate\n",
    "fpr1, tpr1, thresholds1 = roc_curve(y_true1, y_score1)\n",
    "fpr2, tpr2, thresholds2 = roc_curve(y_true2, y_score2)\n",
    "fpr3, tpr3, thresholds3 = roc_curve(y_true3, y_score3)\n",
    "fpr4, tpr4, thresholds4 = roc_curve(y_true4, y_score4)\n",
    "fpr5, tpr5, thresholds5 = roc_curve(y_true5, y_score5)\n",
    "fpr6, tpr6, thresholds6 = roc_curve(y_true6, y_score6)\n",
    "fpr7, tpr7, thresholds7 = roc_curve(y_true7, y_score7)\n",
    "fpr8, tpr8, thresholds8 = roc_curve(y_true8, y_score8)\n",
    "fpr9, tpr9, thresholds9 = roc_curve(y_true9, y_score9)\n",
    "fpr10, tpr10, thresholds10 = roc_curve(y_true10, y_score10)\n",
    "\n",
    "\n",
    "# calculate the area under the ROC curve\n",
    "roc_auc1 = auc(fpr1, tpr1)\n",
    "roc_auc2 = auc(fpr2, tpr2)\n",
    "roc_auc3 = auc(fpr3, tpr3)\n",
    "roc_auc4 = auc(fpr4, tpr4)\n",
    "roc_auc5 = auc(fpr5, tpr5)\n",
    "roc_auc6 = auc(fpr6, tpr6)\n",
    "roc_auc7 = auc(fpr7, tpr7)\n",
    "roc_auc8 = auc(fpr8, tpr8)\n",
    "roc_auc9 = auc(fpr9, tpr9)\n",
    "roc_auc10 = auc(fpr10, tpr10)\n",
    "\n",
    "\n",
    "\n",
    "\n",
    "# plot the ROC curve\n",
    "plt.plot(fpr1, tpr1, color='darkorange', lw=0.5, label='ROC curve (AUC = %0.2f)' % roc_auc1)\n",
    "plt.plot(fpr2, tpr2, lw=0.5, label='ROC curve (AUC = %0.2f)' % roc_auc2)\n",
    "plt.plot(fpr3, tpr3, lw=0.5, label='ROC curve (AUC = %0.2f)' % roc_auc3)\n",
    "plt.plot(fpr4, tpr4, lw=0.5, label='ROC curve (AUC = %0.2f)' % roc_auc4)\n",
    "plt.plot(fpr5, tpr5, lw=0.5, label='ROC curve (AUC = %0.2f)' % roc_auc5)\n",
    "plt.plot(fpr6, tpr6, lw=0.5, label='ROC curve (AUC = %0.2f)' % roc_auc6)\n",
    "plt.plot(fpr7, tpr7, lw=0.5, label='ROC curve (AUC = %0.2f)' % roc_auc7)\n",
    "plt.plot(fpr8, tpr8, lw=0.5, label='ROC curve (AUC = %0.2f)' % roc_auc8)\n",
    "plt.plot(fpr9, tpr9, lw=0.5, label='ROC curve (AUC = %0.2f)' % roc_auc9)\n",
    "plt.plot(fpr10, tpr10, lw=0.5, label='ROC curve (AUC = %0.2f)' % roc_auc10)\n",
    "plt.plot([0, 1], [0, 1], color='navy', lw=2, linestyle='--')\n",
    "plt.xlim([0.0, 1.0])\n",
    "plt.ylim([0.0, 1.05])\n",
    "plt.xlabel('False Positive Rate')\n",
    "plt.ylabel('True Positive Rate')\n",
    "plt.title('Receiver Operating Characteristic Curve')\n",
    "plt.legend(loc=\"lower right\")\n",
    "plt.show()\n",
    "\n",
    "\n",
    "roc_auc = np.array((roc_auc1,roc_auc2,roc_auc3,roc_auc4,roc_auc5,roc_auc6,roc_auc7,roc_auc8,roc_auc9,roc_auc10))\n",
    "print(roc_auc)  #79%\n",
    "\n",
    "\n",
    "# 3  0.7686764"
   ]
  },
  {
   "cell_type": "code",
   "execution_count": 7,
   "metadata": {},
   "outputs": [],
   "source": [
    "FNN_ROC = {'fpr': fpr1, 'tpr': tpr1}\n",
    "FNN_ROC_df = pd.DataFrame(FNN_ROC)\n",
    "\n",
    "\n",
    "# Save the DataFrame to an HDF5 file\n",
    "with h5py.File('FNN_ROC_df.h5', 'w') as hf:\n",
    "    hf.create_dataset('df', data=FNN_ROC_df)"
   ]
  },
  {
   "cell_type": "code",
   "execution_count": 8,
   "metadata": {},
   "outputs": [
    {
     "data": {
      "image/png": "[encoded data removed]",
      "text/plain": [
       "<Figure size 432x288 with 1 Axes>"
      ]
     },
     "metadata": {
      "needs_background": "light"
     },
     "output_type": "display_data"
    }
   ],
   "source": [
    "# plot the ROC curve\n",
    "plt.plot(fpr1, tpr1, color='orange', lw=0.5, label='ROC curve (AUC = %0.2f)' % roc_auc1)\n",
    "plt.plot([0, 1], [0, 1], color='navy', lw=2, linestyle='--')\n",
    "plt.xlim([0.0, 1.0])\n",
    "plt.ylim([0.0, 1.05])\n",
    "plt.xlabel('False Positive Rate')\n",
    "plt.ylabel('True Positive Rate')\n",
    "#plt.title('Receiver Operating Characteristic Curve')\n",
    "plt.legend(loc=\"lower right\")\n",
    "plt.show()\n"
   ]
  },
  {
   "cell_type": "code",
   "execution_count": 9,
   "metadata": {},
   "outputs": [
    {
     "name": "stdout",
     "output_type": "stream",
     "text": [
      "The mean AUC is 0.7724\n",
      "The standard deviation on AUC is 0.0009\n"
     ]
    }
   ],
   "source": [
    "print(f'The mean AUC is {np.mean(roc_auc):.4f}')\n",
    "print(f'The standard deviation on AUC is {np.std(roc_auc):.4f}')"
   ]
  },
  {
   "cell_type": "code",
   "execution_count": 10,
   "metadata": {},
   "outputs": [
    {
     "data": {
      "text/plain": [
       "Text(0.5, 1.0, 'Boxplot of ROC AUC')"
      ]
     },
     "execution_count": 10,
     "metadata": {},
     "output_type": "execute_result"
    },
    {
     "data": {
      "image/png": "[encoded data removed]",
      "text/plain": [
       "<Figure size 432x288 with 1 Axes>"
      ]
     },
     "metadata": {
      "needs_background": "light"
     },
     "output_type": "display_data"
    }
   ],
   "source": [
    "# create a figure and axis object\n",
    "fig, ax = plt.subplots()\n",
    "\n",
    "# create a boxplot of the data in roc_auc\n",
    "ax.boxplot(roc_auc)\n",
    "\n",
    "# set axis labels and title\n",
    "ax.set_xlabel('ROC AUC')\n",
    "ax.set_ylabel('Value')\n",
    "ax.set_title('Boxplot of ROC AUC')\n"
   ]
  },
  {
   "cell_type": "code",
   "execution_count": 11,
   "metadata": {},
   "outputs": [
    {
     "data": {
      "text/plain": [
       "(0.7685, 0.7745)"
      ]
     },
     "execution_count": 11,
     "metadata": {},
     "output_type": "execute_result"
    },
    {
     "data": {
      "image/png": "[encoded data removed]",
      "text/plain": [
       "<Figure size 432x288 with 1 Axes>"
      ]
     },
     "metadata": {
      "needs_background": "light"
     },
     "output_type": "display_data"
    }
   ],
   "source": [
    "# create a figure and axis object\n",
    "fig, ax = plt.subplots()\n",
    "\n",
    "# create a boxplot of the data in roc_auc\n",
    "ax.boxplot(roc_auc)\n",
    "\n",
    "# set axis labels and title\n",
    "ax.set_ylabel('ROC AUC')\n",
    "ax.set_xlabel('FNN')\n",
    "ax.set_title('Boxplot of ROC AUC')\n",
    "ax.set_ylim(0.7685,0.7745)"
   ]
  },
  {
   "cell_type": "code",
   "execution_count": 12,
   "metadata": {},
   "outputs": [],
   "source": [
    "# # Plot precision recall curve\n",
    "# from sklearn.metrics import average_precision_score\n",
    "\n",
    "# y_true = df['True_Val']\n",
    "# y_score = df['Predicted']\n",
    "\n",
    "# # calculate the precision-recall curve\n",
    "# precision, recall, _ = precision_recall_curve(y_true, y_score)\n",
    "\n",
    "# # plot the precision-recall curve\n",
    "# plt.step(recall, precision, color='b', alpha=0.2, where='post')\n",
    "# plt.fill_between(recall, precision, step='post', alpha=0.2, color='b')\n",
    "# plt.xlabel('Recall')\n",
    "# plt.ylabel('Precision')\n",
    "# plt.ylim([0.0, 1.05])\n",
    "# plt.xlim([0.0, 1.0])\n",
    "# plt.title('Precision-Recall Curve')\n",
    "# plt.show()\n",
    "\n",
    "# AUC = average_precision_score(y_true, y_score)   #0.793, pretty similar to roc AUC\n",
    "# print(AUC)"
   ]
  },
  {
   "cell_type": "code",
   "execution_count": 13,
   "metadata": {},
   "outputs": [],
   "source": [
    "with h5py.File('MLP_run1_training_data.h5', 'r') as hf:\n",
    "    history_df_run1 = pd.DataFrame(hf['df'][:])\n",
    "    \n",
    "with h5py.File('MLP_run2_training_data.h5', 'r') as hf:\n",
    "    history_df_run2 = pd.DataFrame(hf['df'][:])\n",
    "    \n",
    "with h5py.File('MLP_run3_training_data.h5', 'r') as hf:\n",
    "    history_df_run3 = pd.DataFrame(hf['df'][:])\n",
    "\n",
    "with h5py.File('MLP_run4_training_data.h5', 'r') as hf:\n",
    "    history_df_run4 = pd.DataFrame(hf['df'][:])\n",
    "    \n",
    "with h5py.File('MLP_run5_training_data.h5', 'r') as hf:\n",
    "    history_df_run5 = pd.DataFrame(hf['df'][:])\n",
    "    \n",
    "with h5py.File('MLP_run6_training_data.h5', 'r') as hf:\n",
    "    history_df_run6 = pd.DataFrame(hf['df'][:])\n",
    "    \n",
    "with h5py.File('MLP_run7_training_data.h5', 'r') as hf:\n",
    "    history_df_run7 = pd.DataFrame(hf['df'][:])\n",
    "    \n",
    "with h5py.File('MLP_run8_training_data.h5', 'r') as hf:\n",
    "    history_df_run8 = pd.DataFrame(hf['df'][:])\n",
    "    \n",
    "with h5py.File('MLP_run9_training_data.h5', 'r') as hf:\n",
    "    history_df_run9 = pd.DataFrame(hf['df'][:])\n",
    "    \n",
    "with h5py.File('MLP_run10_training_data.h5', 'r') as hf:\n",
    "    history_df_run10 = pd.DataFrame(hf['df'][:])\n",
    "    \n"
   ]
  },
  {
   "cell_type": "code",
   "execution_count": 14,
   "metadata": {},
   "outputs": [
    {
     "data": {
      "text/plain": [
       "array([0.70323718, 0.70334071, 0.70359892, 0.70359325, 0.70340598,\n",
       "       0.7031464 , 0.70387131, 0.70360887, 0.70320171, 0.70381033])"
      ]
     },
     "execution_count": 14,
     "metadata": {},
     "output_type": "execute_result"
    },
    {
     "data": {
      "image/png": "[encoded data removed]",
      "text/plain": [
       "<Figure size 432x288 with 1 Axes>"
      ]
     },
     "metadata": {
      "needs_background": "light"
     },
     "output_type": "display_data"
    }
   ],
   "source": [
    "columns = ['loss', 'binary_accuracy', 'val_loss', 'val_binary_accuracy']\n",
    "\n",
    "history_df_run1 =history_df_run1.rename(columns=dict(zip(history_df_run1, columns)))\n",
    "history_df_run2 =history_df_run2.rename(columns=dict(zip(history_df_run2, columns)))\n",
    "history_df_run3 =history_df_run3.rename(columns=dict(zip(history_df_run3, columns)))\n",
    "history_df_run4 =history_df_run4.rename(columns=dict(zip(history_df_run4, columns)))\n",
    "history_df_run5 =history_df_run5.rename(columns=dict(zip(history_df_run5, columns)))\n",
    "history_df_run6 =history_df_run6.rename(columns=dict(zip(history_df_run6, columns)))\n",
    "history_df_run7 =history_df_run7.rename(columns=dict(zip(history_df_run7, columns)))\n",
    "history_df_run8 =history_df_run8.rename(columns=dict(zip(history_df_run8, columns)))\n",
    "history_df_run9 =history_df_run9.rename(columns=dict(zip(history_df_run9, columns)))\n",
    "history_df_run10 =history_df_run10.rename(columns=dict(zip(history_df_run10, columns)))\n",
    "\n",
    "acc1 = max(history_df_run1['binary_accuracy'])\n",
    "acc2 = max(history_df_run2['binary_accuracy'])\n",
    "acc3 = max(history_df_run3['binary_accuracy'])\n",
    "acc4 = max(history_df_run4['binary_accuracy'])\n",
    "acc5 = max(history_df_run5['binary_accuracy'])\n",
    "acc6 = max(history_df_run6['binary_accuracy'])\n",
    "acc7 = max(history_df_run7['binary_accuracy'])\n",
    "acc8 = max(history_df_run8['binary_accuracy'])\n",
    "acc9 = max(history_df_run9['binary_accuracy'])\n",
    "acc10 = max(history_df_run10['binary_accuracy'])\n",
    "\n",
    "acc_array = np.array((acc1,acc2,acc3,acc4,acc5,acc6,acc7,acc8,acc9,acc10))\n",
    "\n",
    "# create a figure and axis object\n",
    "fig, ax = plt.subplots()\n",
    "\n",
    "# create a boxplot of the data in roc_auc\n",
    "ax.boxplot(acc_array,showfliers=False)\n",
    "\n",
    "# set axis labels and title\n",
    "ax.set_xlabel('FNN')\n",
    "ax.set_ylabel('Accuracy')\n",
    "ax.set_title('Boxplot of Accuracies')\n",
    "#ax.set_ylim(0.7685,0.7745)\n",
    "\n",
    "acc_array"
   ]
  },
  {
   "cell_type": "code",
   "execution_count": 16,
   "metadata": {},
   "outputs": [
    {
     "data": {
      "image/png": "[encoded data removed]",
      "text/plain": [
       "<Figure size 864x288 with 1 Axes>"
      ]
     },
     "metadata": {
      "needs_background": "light"
     },
     "output_type": "display_data"
    }
   ],
   "source": [
    "\n",
    "# Combine all the data into a single array\n",
    "binary_acc = np.array([history_df_run1['binary_accuracy'],\n",
    "                       history_df_run2['binary_accuracy'],\n",
    "                       history_df_run3['binary_accuracy'],\n",
    "                       history_df_run4['binary_accuracy'],\n",
    "                       history_df_run5['binary_accuracy'],\n",
    "                       history_df_run6['binary_accuracy'],\n",
    "                       history_df_run7['binary_accuracy'],\n",
    "                       history_df_run8['binary_accuracy'],\n",
    "                       history_df_run9['binary_accuracy'],\n",
    "                       history_df_run10['binary_accuracy']])\n",
    "\n",
    "val_binary_acc = np.array([history_df_run1['val_binary_accuracy'],\n",
    "                           history_df_run2['val_binary_accuracy'],\n",
    "                           history_df_run3['val_binary_accuracy'],\n",
    "                           history_df_run4['val_binary_accuracy'],\n",
    "                           history_df_run5['val_binary_accuracy'],\n",
    "                           history_df_run6['val_binary_accuracy'],\n",
    "                           history_df_run7['val_binary_accuracy'],\n",
    "                           history_df_run8['val_binary_accuracy'],\n",
    "                           history_df_run9['val_binary_accuracy'],\n",
    "                           history_df_run10['val_binary_accuracy']])\n",
    "\n",
    "# Calculate the mean and standard deviation for each array\n",
    "binary_acc_mean = np.mean(binary_acc, axis=0)\n",
    "binary_acc_std = np.std(binary_acc, axis=0)\n",
    "\n",
    "val_binary_acc_mean = np.mean(val_binary_acc, axis=0)\n",
    "val_binary_acc_std = np.std(val_binary_acc, axis=0)\n",
    "\n",
    "fig, ax = plt.subplots(figsize=(12, 4))\n",
    "epochs = np.arange(1, len(binary_acc_mean)+1)\n",
    "\n",
    "# Set the colors\n",
    "error_bar_color = 'red'\n",
    "cap_top_color = 'black'\n",
    "cap_bottom_color = 'black'\n",
    "\n",
    "# Plot the mean values with error bars\n",
    "ax.errorbar(epochs, binary_acc_mean, yerr=binary_acc_std, label='Training Binary Accuracy', #ecolor='black',\n",
    "             capsize=5, capthick=1, elinewidth=1, color = 'black', linestyle='--')\n",
    "ax.errorbar(epochs, val_binary_acc_mean, yerr=val_binary_acc_std, label='Validation Binary Accuracy', #ecolor='red',\n",
    "              capsize=5, capthick=1, elinewidth=1, color = 'red', linestyle='--', markeredgecolor='red')\n",
    "\n",
    "# Set the color of the top and bottom caps\n",
    "#for errorbar in ax.lines:\n",
    "#    errorbar.set_markeredgecolor(cap_top_color)\n",
    "\n",
    "# Add labels and legend\n",
    "ax.set_xlabel('Epochs')\n",
    "ax.set_ylabel('Accuracy')\n",
    "ax.set_title('Training and Validation Accuracy')\n",
    "ax.legend()\n",
    "\n",
    "# Show the plot\n",
    "plt.show()\n"
   ]
  },
  {
   "cell_type": "code",
   "execution_count": 17,
   "metadata": {},
   "outputs": [],
   "source": [
    "# Save the arrays to an HDF5 file\n",
    "#with h5py.File('accuracy_FNN.h5', 'w') as hf:\n",
    "#    hf.create_dataset('binary_acc', data=binary_acc)\n",
    " #   hf.create_dataset('val_binary_acc', data=val_binary_acc)\n"
   ]
  },
  {
   "cell_type": "code",
   "execution_count": 18,
   "metadata": {},
   "outputs": [
    {
     "name": "stdout",
     "output_type": "stream",
     "text": [
      "0.7032387256622314\n",
      "0.00027083728166727\n"
     ]
    }
   ],
   "source": [
    "print(binary_acc_mean[-1])\n",
    "print(binary_acc_std[-1])"
   ]
  },
  {
   "cell_type": "code",
   "execution_count": 19,
   "metadata": {},
   "outputs": [
    {
     "data": {
      "text/plain": [
       "0.007763726487311909"
      ]
     },
     "execution_count": 19,
     "metadata": {},
     "output_type": "execute_result"
    }
   ],
   "source": [
    "np.std(val_binary_acc[0,:])"
   ]
  },
  {
   "cell_type": "markdown",
   "metadata": {},
   "source": [
    "# Signifances"
   ]
  },
  {
   "cell_type": "code",
   "execution_count": 20,
   "metadata": {},
   "outputs": [],
   "source": [
    "with h5py.File('sig_data_run1.h5', 'r') as hf:\n",
    "    sig_df_run1 = pd.DataFrame(hf['df'][:])\n",
    "with h5py.File('sig_data_run2.h5', 'r') as hf:\n",
    "    sig_df_run2 = pd.DataFrame(hf['df'][:])\n",
    "with h5py.File('sig_data_run3.h5', 'r') as hf:\n",
    "    sig_df_run3 = pd.DataFrame(hf['df'][:])\n",
    "with h5py.File('sig_data_run4.h5', 'r') as hf:\n",
    "    sig_df_run4 = pd.DataFrame(hf['df'][:])\n",
    "with h5py.File('sig_data_run5.h5', 'r') as hf:\n",
    "    sig_df_run5 = pd.DataFrame(hf['df'][:])\n",
    "with h5py.File('sig_data_run6.h5', 'r') as hf:\n",
    "    sig_df_run6 = pd.DataFrame(hf['df'][:])\n",
    "with h5py.File('sig_data_run7.h5', 'r') as hf:\n",
    "    sig_df_run7 = pd.DataFrame(hf['df'][:])\n",
    "with h5py.File('sig_data_run8.h5', 'r') as hf:\n",
    "    sig_df_run8 = pd.DataFrame(hf['df'][:])\n",
    "with h5py.File('sig_data_run9.h5', 'r') as hf:\n",
    "    sig_df_run9 = pd.DataFrame(hf['df'][:])\n",
    "with h5py.File('sig_data_run10.h5', 'r') as hf:\n",
    "    sig_df_run10 = pd.DataFrame(hf['df'][:])\n"
   ]
  },
  {
   "cell_type": "code",
   "execution_count": 21,
   "metadata": {},
   "outputs": [],
   "source": [
    "columns = ['syst_uncertainty (%)', 'Significances', 'Threshold', 'no_bg', 'no_signal']\n",
    "\n",
    "sig_df_run1 =sig_df_run1.rename(columns=dict(zip(sig_df_run1, columns)))\n",
    "sig_df_run2 =sig_df_run2.rename(columns=dict(zip(sig_df_run2, columns)))\n",
    "sig_df_run3 =sig_df_run3.rename(columns=dict(zip(sig_df_run3, columns)))\n",
    "sig_df_run4 =sig_df_run4.rename(columns=dict(zip(sig_df_run4, columns)))\n",
    "sig_df_run5 =sig_df_run5.rename(columns=dict(zip(sig_df_run5, columns)))\n",
    "sig_df_run6 =sig_df_run6.rename(columns=dict(zip(sig_df_run6, columns)))\n",
    "sig_df_run7 =sig_df_run7.rename(columns=dict(zip(sig_df_run7, columns)))\n",
    "sig_df_run8 =sig_df_run8.rename(columns=dict(zip(sig_df_run8, columns)))\n",
    "sig_df_run9 =sig_df_run9.rename(columns=dict(zip(sig_df_run9, columns)))\n",
    "sig_df_run10 =sig_df_run10.rename(columns=dict(zip(sig_df_run10, columns)))\n",
    "\n",
    "no_syst_1 = sig_df_run1['Significances'][0]\n",
    "syst_5_1 =  sig_df_run1['Significances'][1]\n",
    "syst_10_1 = sig_df_run1['Significances'][2]\n",
    "\n",
    "no_syst_2 = sig_df_run2['Significances'][0]\n",
    "syst_5_2 =  sig_df_run2['Significances'][1]\n",
    "syst_10_2 = sig_df_run2['Significances'][2]\n",
    "\n",
    "no_syst_3 = sig_df_run3['Significances'][0]\n",
    "syst_5_3 =  sig_df_run3['Significances'][1]\n",
    "syst_10_3 = sig_df_run3['Significances'][2]\n",
    "\n",
    "no_syst_4 = sig_df_run4['Significances'][0]\n",
    "syst_5_4 =  sig_df_run4['Significances'][1]\n",
    "syst_10_4 = sig_df_run4['Significances'][2]\n",
    "\n",
    "no_syst_5 = sig_df_run5['Significances'][0]\n",
    "syst_5_5 =  sig_df_run5['Significances'][1]\n",
    "syst_10_5 = sig_df_run5['Significances'][2]\n",
    "\n",
    "no_syst_6 = sig_df_run6['Significances'][0]\n",
    "syst_5_6 =  sig_df_run6['Significances'][1]\n",
    "syst_10_6 = sig_df_run6['Significances'][2]\n",
    "\n",
    "no_syst_7 = sig_df_run7['Significances'][0]\n",
    "syst_5_7 =  sig_df_run7['Significances'][1]\n",
    "syst_10_7 = sig_df_run7['Significances'][2]\n",
    "\n",
    "no_syst_8 = sig_df_run8['Significances'][0]\n",
    "syst_5_8 =  sig_df_run8['Significances'][1]\n",
    "syst_10_8 = sig_df_run8['Significances'][2]\n",
    "\n",
    "no_syst_9 = sig_df_run9['Significances'][0]\n",
    "syst_5_9 =  sig_df_run9['Significances'][1]\n",
    "syst_10_9 = sig_df_run9['Significances'][2]\n",
    "\n",
    "no_syst_10 = sig_df_run10['Significances'][0]\n",
    "syst_5_10 =  sig_df_run10['Significances'][1]\n",
    "syst_10_10 = sig_df_run10['Significances'][2]\n",
    "\n",
    "no_syst = [no_syst_1,no_syst_2,no_syst_3,no_syst_4,no_syst_5,no_syst_6,no_syst_7,no_syst_8,no_syst_9,no_syst_10]\n",
    "syst_5 = [syst_5_1,syst_5_2,syst_5_3,syst_5_4,syst_5_5,syst_5_6,syst_5_7,syst_5_8,syst_5_9,syst_5_10]\n",
    "syst_10 = [syst_10_1,syst_10_2,syst_10_3,syst_10_4,syst_10_5,syst_10_6,syst_10_7,syst_10_8,syst_10_9,syst_10_10]"
   ]
  },
  {
   "cell_type": "code",
   "execution_count": 22,
   "metadata": {},
   "outputs": [
    {
     "data": {
      "text/plain": [
       "Text(0.5, 1.0, 'Boxplot of Significance with no systematic uncertainty')"
      ]
     },
     "execution_count": 22,
     "metadata": {},
     "output_type": "execute_result"
    },
    {
     "data": {
      "image/png": "[encoded data removed]",
      "text/plain": [
       "<Figure size 432x288 with 1 Axes>"
      ]
     },
     "metadata": {
      "needs_background": "light"
     },
     "output_type": "display_data"
    }
   ],
   "source": [
    "# create a figure and axis object\n",
    "fig, ax = plt.subplots()\n",
    "\n",
    "# create a boxplot of the data in roc_auc\n",
    "ax.boxplot(no_syst)\n",
    "\n",
    "# set axis labels and title\n",
    "ax.set_ylabel('Significance')\n",
    "ax.set_xlabel('FNN')\n",
    "ax.set_title('Boxplot of Significance with no systematic uncertainty')"
   ]
  },
  {
   "cell_type": "code",
   "execution_count": 23,
   "metadata": {},
   "outputs": [
    {
     "data": {
      "text/plain": [
       "Text(0.5, 1.0, 'Boxplot of Significance with 5% uncertainty')"
      ]
     },
     "execution_count": 23,
     "metadata": {},
     "output_type": "execute_result"
    },
    {
     "data": {
      "image/png": "[encoded data removed]",
      "text/plain": [
       "<Figure size 432x288 with 1 Axes>"
      ]
     },
     "metadata": {
      "needs_background": "light"
     },
     "output_type": "display_data"
    }
   ],
   "source": [
    "# create a figure and axis object\n",
    "fig, ax = plt.subplots()\n",
    "\n",
    "# create a boxplot of the data in roc_auc\n",
    "ax.boxplot(syst_5, sym='', whis=1.5)#showfliers=False)#flierprops={'marker': 'o', 'markersize': 8, 'linestyle': '-'})\n",
    "\n",
    "# set axis labels and title\n",
    "ax.set_ylabel('Significance')\n",
    "ax.set_xlabel('FNN')\n",
    "ax.set_title('Boxplot of Significance with 5% uncertainty')"
   ]
  },
  {
   "cell_type": "code",
   "execution_count": 24,
   "metadata": {},
   "outputs": [
    {
     "data": {
      "text/plain": [
       "Text(0.5, 1.0, 'Boxplot of Significance with 10% uncertainty')"
      ]
     },
     "execution_count": 24,
     "metadata": {},
     "output_type": "execute_result"
    },
    {
     "data": {
      "image/png": "[encoded data removed]",
      "text/plain": [
       "<Figure size 432x288 with 1 Axes>"
      ]
     },
     "metadata": {
      "needs_background": "light"
     },
     "output_type": "display_data"
    }
   ],
   "source": [
    "# create a figure and axis object\n",
    "fig, ax = plt.subplots()\n",
    "\n",
    "# create a boxplot of the data in roc_auc\n",
    "ax.boxplot(syst_10)\n",
    "\n",
    "# set axis labels and title\n",
    "ax.set_ylabel('Significance')\n",
    "ax.set_xlabel('FNN')\n",
    "ax.set_title('Boxplot of Significance with 10% uncertainty')"
   ]
  },
  {
   "cell_type": "code",
   "execution_count": 84,
   "metadata": {},
   "outputs": [
    {
     "data": {
      "text/plain": [
       "0.39820411911849857"
      ]
     },
     "execution_count": 84,
     "metadata": {},
     "output_type": "execute_result"
    }
   ],
   "source": [
    "np.array(syst_5)[optimal_threshold_mask]\n",
    "np.mean(np.array(syst_5)[optimal_threshold_mask])\n",
    "np.std(np.array(syst_5)[optimal_threshold_mask])"
   ]
  },
  {
   "cell_type": "code",
   "execution_count": 76,
   "metadata": {},
   "outputs": [
    {
     "name": "stdout",
     "output_type": "stream",
     "text": [
      "No systematic uncertainty, significance: 12.77693911447153 +- 0.08016873243763825\n",
      "\n",
      "5% systematic uncertainty, significance: 7.595552503493417 +- 0.38258304455791525\n",
      "\n",
      "10% systematic uncertainty, significance: 5.612304560560352 +- 0.3400747466634423\n"
     ]
    }
   ],
   "source": [
    "no_syst_mean = np.mean(no_syst)\n",
    "no_syst_std = np.std(no_syst)\n",
    "\n",
    "syst_5_mean = np.mean(syst_5)\n",
    "syst_5_std = np.std(syst_5)\n",
    "\n",
    "syst_10_mean = np.mean(syst_10)\n",
    "syst_10_std = np.std(syst_10)\n",
    "\n",
    "print(f'No systematic uncertainty, significance: {no_syst_mean} +- {no_syst_std}')\n",
    "print()\n",
    "print(f'5% systematic uncertainty, significance: {syst_5_mean} +- {syst_5_std}')\n",
    "print()\n",
    "print(f'10% systematic uncertainty, significance: {syst_10_mean} +- {syst_10_std}')"
   ]
  },
  {
   "cell_type": "code",
   "execution_count": 55,
   "metadata": {},
   "outputs": [
    {
     "name": "stdout",
     "output_type": "stream",
     "text": [
      "Mean number of bg events = [9923.5625     228.478125    99.5703125]\n",
      "Std on number of bg events = [3069.13333379   64.02812767   52.21850606]\n",
      "\n",
      "Mean number of signal events = [1282.59106445  163.51142578   93.60644531]\n",
      "Std on number of signal events = [207.43340589  28.05468407  32.92643217]\n"
     ]
    }
   ],
   "source": [
    "# Combine all the data into a single array\n",
    "no_bg_events = np.array([sig_df_run1['no_bg'],\n",
    "                       sig_df_run2['no_bg'],\n",
    "                       sig_df_run3['no_bg'],\n",
    "                       sig_df_run4['no_bg'],\n",
    "                       sig_df_run5['no_bg'],\n",
    "                       sig_df_run6['no_bg'],\n",
    "                       sig_df_run7['no_bg'],\n",
    "                       sig_df_run8['no_bg'],\n",
    "                       sig_df_run9['no_bg'],\n",
    "                       sig_df_run10['no_bg']])\n",
    "\n",
    "no_signal_events = np.array([sig_df_run1['no_signal'],\n",
    "                           sig_df_run2['no_signal'],\n",
    "                           sig_df_run3['no_signal'],\n",
    "                           sig_df_run4['no_signal'],\n",
    "                           sig_df_run5['no_signal'],\n",
    "                           sig_df_run6['no_signal'],\n",
    "                           sig_df_run7['no_signal'],\n",
    "                           sig_df_run8['no_signal'],\n",
    "                           sig_df_run9['no_signal'],\n",
    "                           sig_df_run10['no_signal']])\n",
    "\n",
    "# only include values if the threshold is 0.95, this was the median threshold, true for 7/10 (70%) models\n",
    "optimal_threshold_mask = optimal_thresholds[:,1] == 0.95\n",
    "\n",
    "# Calculate the mean and standard deviation for each array, at peak significance\n",
    "no_bg_events_mean = np.mean(no_bg_events[optimal_threshold_mask], axis=0)\n",
    "no_bg_events_std = np.std(no_bg_events[optimal_threshold_mask], axis=0)\n",
    "\n",
    "no_signal_events_mean = np.mean(no_signal_events[optimal_threshold_mask], axis=0)\n",
    "no_signal_events_std = np.std(no_signal_events[optimal_threshold_mask], axis=0)\n",
    "\n",
    "print(f'Mean number of bg events = {no_bg_events_mean}')\n",
    "print(f'Std on number of bg events = {no_bg_events_std}')\n",
    "print()\n",
    "print(f'Mean number of signal events = {no_signal_events_mean}')\n",
    "print(f'Std on number of signal events = {no_signal_events_std}')"
   ]
  },
  {
   "cell_type": "code",
   "execution_count": 56,
   "metadata": {},
   "outputs": [],
   "source": [
    "# Combine all the data into a single array\n",
    "optimal_thresholds = np.array([sig_df_run1['Threshold'],\n",
    "                       sig_df_run2['Threshold'],\n",
    "                       sig_df_run3['Threshold'],\n",
    "                       sig_df_run4['Threshold'],\n",
    "                       sig_df_run5['Threshold'],\n",
    "                       sig_df_run6['Threshold'],\n",
    "                       sig_df_run7['Threshold'],\n",
    "                       sig_df_run8['Threshold'],\n",
    "                       sig_df_run9['Threshold'],\n",
    "                       sig_df_run10['Threshold']])\n",
    "\n",
    "# Calculate the mean and standard deviation for each array, of peak significance\n",
    "optimal_thresholds_mean = np.mean(optimal_thresholds, axis=0)\n",
    "optimal_thresholds_std = np.std(optimal_thresholds, axis=0)"
   ]
  },
  {
   "cell_type": "code",
   "execution_count": 67,
   "metadata": {},
   "outputs": [
    {
     "data": {
      "text/plain": [
       "array([0.762, 0.949, 0.963])"
      ]
     },
     "execution_count": 67,
     "metadata": {},
     "output_type": "execute_result"
    }
   ],
   "source": [
    "optimal_thresholds_mean"
   ]
  },
  {
   "cell_type": "markdown",
   "metadata": {},
   "source": [
    "# Save all data to make combine graphs"
   ]
  },
  {
   "cell_type": "code",
   "execution_count": null,
   "metadata": {},
   "outputs": [],
   "source": [
    "data = {'ROC_Vals': roc_auc, 'Accuracy_Vals': acc_array, 'Significance_Vals_0': no_syst,\n",
    "       'Significance_Vals_5': syst_5, 'Significance_Vals_10': syst_10}\n",
    "df = pd.DataFrame(data)\n",
    "\n",
    "\n",
    "# Save the DataFrame to an HDF5 file\n",
    "#with h5py.File('MLP_data.h5', 'w') as hf:\n",
    "#    hf.create_dataset('df', data=df)\n",
    "    \n",
    "# with h5py.File('run1_ROC_data.h5', 'r') as hf:\n",
    "#     df = pd.DataFrame(hf['df'][:])\n"
   ]
  },
  {
   "cell_type": "code",
   "execution_count": null,
   "metadata": {},
   "outputs": [],
   "source": [
    "data = {'ROC_Vals': roc_auc, 'Accuracy_Vals': acc_array, 'Significance_Vals_0': no_syst,\n",
    "       'Significance_Vals_5': syst_5, 'Significance_Vals_10': syst_10}\n",
    "df = pd.DataFrame(data)\n",
    "\n",
    "df\n",
    "\n",
    "#Index(['ROC_Vals', 'Accuracy_Vals', 'Significance_Vals_0',\n",
    "      # 'Significance_Vals_5', 'Significance_Vals_10'],\n",
    "      #dtype='object')"
   ]
  }
 ],
 "metadata": {
  "kernelspec": {
   "display_name": "Python 3",
   "language": "python",
   "name": "python3"
  },
  "language_info": {
   "codemirror_mode": {
    "name": "ipython",
    "version": 3
   },
   "file_extension": ".py",
   "mimetype": "text/x-python",
   "name": "python",
   "nbconvert_exporter": "python",
   "pygments_lexer": "ipython3",
   "version": "3.7.3"
  }
 },
 "nbformat": 4,
 "nbformat_minor": 4
}
