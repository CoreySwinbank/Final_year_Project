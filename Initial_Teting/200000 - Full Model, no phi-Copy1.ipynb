{
 "cells": [
  {
   "cell_type": "code",
   "execution_count": 1,
   "metadata": {},
   "outputs": [],
   "source": [
    "import numpy as np\n",
    "import pandas as pd \n",
    "from sklearn.model_selection import train_test_split\n",
    "from sklearn.preprocessing import StandardScaler\n",
    "from tensorflow import keras\n",
    "#from tensorflow.keras.utils import to_categorical ## specific  one I wanna use\n",
    "from tensorflow.keras import utils\n",
    "#from tensorflow.keras.layers import Input, Dense, Dropout  # Specific ones I wanna use, can just import whole module\n",
    "from tensorflow.keras import layers \n",
    "from tensorflow.keras.models import Model\n",
    "import h5py\n",
    "import tables\n",
    "import matplotlib.pyplot as plt\n",
    "#import tensorflow as tf\n",
    "from sklearn.metrics import confusion_matrix, ConfusionMatrixDisplay\n",
    "from sklearn.metrics import plot_confusion_matrix\n",
    "from sklearn.metrics import roc_curve, auc\n",
    "from sklearn.metrics import precision_recall_curve\n",
    "\n"
   ]
  },
  {
   "cell_type": "code",
   "execution_count": 2,
   "metadata": {},
   "outputs": [
    {
     "data": {
      "text/plain": [
       "4"
      ]
     },
     "execution_count": 2,
     "metadata": {},
     "output_type": "execute_result"
    }
   ],
   "source": [
    "x=1\n",
    "y=3\n",
    "x+y"
   ]
  },
  {
   "cell_type": "code",
   "execution_count": 3,
   "metadata": {},
   "outputs": [
    {
     "name": "stdout",
     "output_type": "stream",
     "text": [
      "Contents of the file:\n",
      "df\n",
      "Dataframe columns:\n",
      "Index(['dataset', 'entry', 'BiasedDPhi', 'DiJet_mass', 'HT',\n",
      "       'InputMet_InputJet_mindPhi', 'InputMet_phi', 'InputMet_pt', 'MHT_phi',\n",
      "       'MHT_pt', 'MinChi', 'MinOmegaHat', 'MinOmegaTilde',\n",
      "       'boostedObject_area', 'boostedObject_eta', 'boostedObject_mass',\n",
      "       'boostedObject_phi', 'boostedObject_pt', 'boostedTop_area',\n",
      "       'boostedTop_eta', 'boostedTop_mass', 'boostedTop_phi', 'boostedTop_pt',\n",
      "       'boostedTop_tag', 'boostedV_area', 'boostedV_eta', 'boostedV_mass',\n",
      "       'boostedV_phi', 'boostedV_pt', 'boostedV_tag', 'cleanedBJet_eta',\n",
      "       'cleanedBJet_phi', 'cleanedBJet_pt', 'cleanedJet_area',\n",
      "       'cleanedJet_btagDeepB', 'cleanedJet_chHEF', 'cleanedJet_eta',\n",
      "       'cleanedJet_mass', 'cleanedJet_neHEF', 'cleanedJet_phi',\n",
      "       'cleanedJet_pt', 'hashed_filename', 'ncleanedBJet', 'ncleanedJet',\n",
      "       'weight_nominal', 'xs_weight'],\n",
      "      dtype='object')\n",
      "Contents of the file:\n",
      "df\n",
      "651387\n",
      "177858\n"
     ]
    }
   ],
   "source": [
    "input_file2 = \"/scratch/ys20884/ml_vars/TTToSemiLeptonic/df_ml_inputs.hd5\"\n",
    "\n",
    "with h5py.File(input_file2, \"r\") as f:\n",
    "    print(\"Contents of the file:\")\n",
    "    for key in f.keys():\n",
    "        print(key)\n",
    "\n",
    "df2 = pd.read_hdf(input_file2, key=\"df\")\n",
    "print(\"Dataframe columns:\")\n",
    "print(df2.columns)\n",
    "\n",
    "\n",
    "input_file4 = \"/scratch/ys20884/ml_vars/ttH125/df_ml_inputs.hd5\"\n",
    "\n",
    "with h5py.File(input_file4, \"r\") as f:\n",
    "    print(\"Contents of the file:\")\n",
    "    for key in f.keys():\n",
    "        print(key)\n",
    "\n",
    "df4 = pd.read_hdf(input_file4, key=\"df\")\n",
    "#print(\"Dataframe columns:\")\n",
    "#print(df4.columns)\n",
    "print(len(df2))\n",
    "print(len(df4))"
   ]
  },
  {
   "cell_type": "code",
   "execution_count": 4,
   "metadata": {
    "scrolled": true
   },
   "outputs": [
    {
     "name": "stdout",
     "output_type": "stream",
     "text": [
      "200000\n"
     ]
    },
    {
     "data": {
      "text/html": [
       "<div>\n",
       "<style scoped>\n",
       "    .dataframe tbody tr th:only-of-type {\n",
       "        vertical-align: middle;\n",
       "    }\n",
       "\n",
       "    .dataframe tbody tr th {\n",
       "        vertical-align: top;\n",
       "    }\n",
       "\n",
       "    .dataframe thead th {\n",
       "        text-align: right;\n",
       "    }\n",
       "</style>\n",
       "<table border=\"1\" class=\"dataframe\">\n",
       "  <thead>\n",
       "    <tr style=\"text-align: right;\">\n",
       "      <th></th>\n",
       "      <th>dataset</th>\n",
       "      <th>entry</th>\n",
       "      <th>BiasedDPhi</th>\n",
       "      <th>DiJet_mass</th>\n",
       "      <th>HT</th>\n",
       "      <th>InputMet_InputJet_mindPhi</th>\n",
       "      <th>InputMet_phi</th>\n",
       "      <th>InputMet_pt</th>\n",
       "      <th>MHT_phi</th>\n",
       "      <th>MHT_pt</th>\n",
       "      <th>...</th>\n",
       "      <th>cleanedJet_eta</th>\n",
       "      <th>cleanedJet_mass</th>\n",
       "      <th>cleanedJet_neHEF</th>\n",
       "      <th>cleanedJet_phi</th>\n",
       "      <th>cleanedJet_pt</th>\n",
       "      <th>hashed_filename</th>\n",
       "      <th>ncleanedBJet</th>\n",
       "      <th>ncleanedJet</th>\n",
       "      <th>weight_nominal</th>\n",
       "      <th>xs_weight</th>\n",
       "    </tr>\n",
       "  </thead>\n",
       "  <tbody>\n",
       "    <tr>\n",
       "      <th>0</th>\n",
       "      <td>0</td>\n",
       "      <td>31</td>\n",
       "      <td>0.084952</td>\n",
       "      <td>363.519776</td>\n",
       "      <td>409.411560</td>\n",
       "      <td>0.248169</td>\n",
       "      <td>-2.488281</td>\n",
       "      <td>253.625</td>\n",
       "      <td>-2.358126</td>\n",
       "      <td>230.740250</td>\n",
       "      <td>...</td>\n",
       "      <td>[1.4013672, 2.1699219]</td>\n",
       "      <td>[26.78125, 11.1171875]</td>\n",
       "      <td>[0.05517578, 0.0]</td>\n",
       "      <td>[0.81640625, -2.2402344]</td>\n",
       "      <td>[319.85184, 89.55973]</td>\n",
       "      <td>-5233776389657243962</td>\n",
       "      <td>0</td>\n",
       "      <td>2</td>\n",
       "      <td>0.000001</td>\n",
       "      <td>0.000001</td>\n",
       "    </tr>\n",
       "    <tr>\n",
       "      <th>1</th>\n",
       "      <td>0</td>\n",
       "      <td>46</td>\n",
       "      <td>2.162490</td>\n",
       "      <td>129.015341</td>\n",
       "      <td>466.076111</td>\n",
       "      <td>1.818359</td>\n",
       "      <td>2.597656</td>\n",
       "      <td>308.250</td>\n",
       "      <td>2.504940</td>\n",
       "      <td>339.473511</td>\n",
       "      <td>...</td>\n",
       "      <td>[-0.5136719, -0.95703125, 0.48168945, -0.11907...</td>\n",
       "      <td>[24.203125, 17.90625, 12.1015625, 7.8515625, 7...</td>\n",
       "      <td>[0.013671875, 0.09667969, 0.171875, 0.12890625...</td>\n",
       "      <td>[-0.5839844, -1.3388672, 0.30273438, 0.7788086...</td>\n",
       "      <td>[158.16063, 141.62325, 66.15963, 60.8369, 39.2...</td>\n",
       "      <td>-5233776389657243962</td>\n",
       "      <td>1</td>\n",
       "      <td>5</td>\n",
       "      <td>0.000001</td>\n",
       "      <td>0.000001</td>\n",
       "    </tr>\n",
       "    <tr>\n",
       "      <th>2</th>\n",
       "      <td>0</td>\n",
       "      <td>122</td>\n",
       "      <td>0.621207</td>\n",
       "      <td>274.769255</td>\n",
       "      <td>361.570465</td>\n",
       "      <td>0.668945</td>\n",
       "      <td>0.733887</td>\n",
       "      <td>278.250</td>\n",
       "      <td>0.807588</td>\n",
       "      <td>264.123840</td>\n",
       "      <td>...</td>\n",
       "      <td>[0.5942383, -0.3046875]</td>\n",
       "      <td>[53.90625, 6.03125]</td>\n",
       "      <td>[0.0859375, 0.060546875]</td>\n",
       "      <td>[-2.4550781, 0.06530762]</td>\n",
       "      <td>[306.7605, 54.809956]</td>\n",
       "      <td>-5233776389657243962</td>\n",
       "      <td>1</td>\n",
       "      <td>2</td>\n",
       "      <td>0.000001</td>\n",
       "      <td>0.000001</td>\n",
       "    </tr>\n",
       "    <tr>\n",
       "      <th>3</th>\n",
       "      <td>0</td>\n",
       "      <td>161</td>\n",
       "      <td>2.733622</td>\n",
       "      <td>82.854809</td>\n",
       "      <td>359.750671</td>\n",
       "      <td>0.380127</td>\n",
       "      <td>-0.125732</td>\n",
       "      <td>218.750</td>\n",
       "      <td>-0.303148</td>\n",
       "      <td>227.014053</td>\n",
       "      <td>...</td>\n",
       "      <td>[1.5175781, 1.0400391, -0.26538086]</td>\n",
       "      <td>[31.234375, 16.203125, 11.4296875]</td>\n",
       "      <td>[0.049316406, 0.1015625, 0.0]</td>\n",
       "      <td>[2.9140625, 2.5839844, -0.5058594]</td>\n",
       "      <td>[186.68669, 108.03608, 65.027885]</td>\n",
       "      <td>-5233776389657243962</td>\n",
       "      <td>0</td>\n",
       "      <td>3</td>\n",
       "      <td>0.000001</td>\n",
       "      <td>0.000001</td>\n",
       "    </tr>\n",
       "    <tr>\n",
       "      <th>4</th>\n",
       "      <td>0</td>\n",
       "      <td>173</td>\n",
       "      <td>2.422232</td>\n",
       "      <td>82.354687</td>\n",
       "      <td>314.990326</td>\n",
       "      <td>1.387695</td>\n",
       "      <td>2.214844</td>\n",
       "      <td>234.625</td>\n",
       "      <td>2.208970</td>\n",
       "      <td>254.779617</td>\n",
       "      <td>...</td>\n",
       "      <td>[1.2236328, 0.49609375, 1.03125, -0.29858398]</td>\n",
       "      <td>[16.625, 8.75, 9.2578125, 4.9609375]</td>\n",
       "      <td>[0.064453125, 0.010131836, 0.15625, 0.029052734]</td>\n",
       "      <td>[-0.70703125, -0.4921875, -1.4736328, -2.6796875]</td>\n",
       "      <td>[117.50915, 96.34649, 68.59821, 32.53648]</td>\n",
       "      <td>-5233776389657243962</td>\n",
       "      <td>0</td>\n",
       "      <td>4</td>\n",
       "      <td>0.000001</td>\n",
       "      <td>0.000001</td>\n",
       "    </tr>\n",
       "  </tbody>\n",
       "</table>\n",
       "<p>5 rows × 46 columns</p>\n",
       "</div>"
      ],
      "text/plain": [
       "   dataset  entry  BiasedDPhi  DiJet_mass          HT  \\\n",
       "0        0     31    0.084952  363.519776  409.411560   \n",
       "1        0     46    2.162490  129.015341  466.076111   \n",
       "2        0    122    0.621207  274.769255  361.570465   \n",
       "3        0    161    2.733622   82.854809  359.750671   \n",
       "4        0    173    2.422232   82.354687  314.990326   \n",
       "\n",
       "   InputMet_InputJet_mindPhi  InputMet_phi  InputMet_pt   MHT_phi      MHT_pt  \\\n",
       "0                   0.248169     -2.488281      253.625 -2.358126  230.740250   \n",
       "1                   1.818359      2.597656      308.250  2.504940  339.473511   \n",
       "2                   0.668945      0.733887      278.250  0.807588  264.123840   \n",
       "3                   0.380127     -0.125732      218.750 -0.303148  227.014053   \n",
       "4                   1.387695      2.214844      234.625  2.208970  254.779617   \n",
       "\n",
       "   ...                                     cleanedJet_eta  \\\n",
       "0  ...                             [1.4013672, 2.1699219]   \n",
       "1  ...  [-0.5136719, -0.95703125, 0.48168945, -0.11907...   \n",
       "2  ...                            [0.5942383, -0.3046875]   \n",
       "3  ...                [1.5175781, 1.0400391, -0.26538086]   \n",
       "4  ...      [1.2236328, 0.49609375, 1.03125, -0.29858398]   \n",
       "\n",
       "                                     cleanedJet_mass  \\\n",
       "0                             [26.78125, 11.1171875]   \n",
       "1  [24.203125, 17.90625, 12.1015625, 7.8515625, 7...   \n",
       "2                                [53.90625, 6.03125]   \n",
       "3                 [31.234375, 16.203125, 11.4296875]   \n",
       "4               [16.625, 8.75, 9.2578125, 4.9609375]   \n",
       "\n",
       "                                    cleanedJet_neHEF  \\\n",
       "0                                  [0.05517578, 0.0]   \n",
       "1  [0.013671875, 0.09667969, 0.171875, 0.12890625...   \n",
       "2                           [0.0859375, 0.060546875]   \n",
       "3                      [0.049316406, 0.1015625, 0.0]   \n",
       "4   [0.064453125, 0.010131836, 0.15625, 0.029052734]   \n",
       "\n",
       "                                      cleanedJet_phi  \\\n",
       "0                           [0.81640625, -2.2402344]   \n",
       "1  [-0.5839844, -1.3388672, 0.30273438, 0.7788086...   \n",
       "2                           [-2.4550781, 0.06530762]   \n",
       "3                 [2.9140625, 2.5839844, -0.5058594]   \n",
       "4  [-0.70703125, -0.4921875, -1.4736328, -2.6796875]   \n",
       "\n",
       "                                       cleanedJet_pt      hashed_filename  \\\n",
       "0                              [319.85184, 89.55973] -5233776389657243962   \n",
       "1  [158.16063, 141.62325, 66.15963, 60.8369, 39.2... -5233776389657243962   \n",
       "2                              [306.7605, 54.809956] -5233776389657243962   \n",
       "3                  [186.68669, 108.03608, 65.027885] -5233776389657243962   \n",
       "4          [117.50915, 96.34649, 68.59821, 32.53648] -5233776389657243962   \n",
       "\n",
       "  ncleanedBJet ncleanedJet weight_nominal xs_weight  \n",
       "0            0           2       0.000001  0.000001  \n",
       "1            1           5       0.000001  0.000001  \n",
       "2            1           2       0.000001  0.000001  \n",
       "3            0           3       0.000001  0.000001  \n",
       "4            0           4       0.000001  0.000001  \n",
       "\n",
       "[5 rows x 46 columns]"
      ]
     },
     "execution_count": 4,
     "metadata": {},
     "output_type": "execute_result"
    }
   ],
   "source": [
    "# make one big dataframe, 200000 long to practice with\n",
    "df2 = df2[:100000]\n",
    "df4 = df4[:100000]\n",
    "df_total = df2.append(df4)\n",
    "print(len(df_total))\n",
    "\n",
    "# Background is 0\n",
    "# Signal is 1\n",
    "df_process = df_total['dataset']\n",
    "df_total['dataset'] = df_total['dataset'].replace({'ttH125': 1, 'TTToSemiLeptonic': 0})\n",
    "df_total.head()\n",
    "\n",
    "#print(df_process)"
   ]
  },
  {
   "cell_type": "code",
   "execution_count": 5,
   "metadata": {},
   "outputs": [
    {
     "name": "stdout",
     "output_type": "stream",
     "text": [
      "200000\n"
     ]
    }
   ],
   "source": [
    "print(len(df_total))"
   ]
  },
  {
   "cell_type": "code",
   "execution_count": 6,
   "metadata": {},
   "outputs": [
    {
     "data": {
      "text/plain": [
       "Index(['dataset', 'DiJet_mass', 'HT', 'InputMet_InputJet_mindPhi',\n",
       "       'InputMet_pt', 'MHT_pt', 'MinChi', 'MinOmegaHat', 'MinOmegaTilde',\n",
       "       'boostedObject_area', 'boostedObject_eta', 'boostedObject_mass',\n",
       "       'boostedObject_pt', 'boostedTop_area', 'boostedTop_eta',\n",
       "       'boostedTop_mass', 'boostedTop_pt', 'boostedTop_tag', 'boostedV_area',\n",
       "       'boostedV_eta', 'boostedV_mass', 'boostedV_pt', 'boostedV_tag',\n",
       "       'cleanedBJet_eta', 'cleanedBJet_pt', 'cleanedJet_area',\n",
       "       'cleanedJet_btagDeepB', 'cleanedJet_chHEF', 'cleanedJet_eta',\n",
       "       'cleanedJet_mass', 'cleanedJet_neHEF', 'cleanedJet_pt', 'ncleanedBJet',\n",
       "       'ncleanedJet'],\n",
       "      dtype='object')"
      ]
     },
     "execution_count": 6,
     "metadata": {},
     "output_type": "execute_result"
    }
   ],
   "source": [
    "df_weights = df_total['xs_weight']\n",
    "df_total.drop(['entry', 'BiasedDPhi', 'hashed_filename', 'weight_nominal', 'xs_weight', \n",
    "              'InputMet_phi', 'MHT_phi', 'boostedObject_phi', 'boostedTop_phi', 'boostedV_phi',\n",
    "              'cleanedBJet_phi','cleanedJet_phi'], axis=1, inplace=True)\n",
    "df_total.columns            # Said BiasedDPhi looks wrong\n",
    "\n"
   ]
  },
  {
   "cell_type": "code",
   "execution_count": 7,
   "metadata": {
    "scrolled": true
   },
   "outputs": [
    {
     "name": "stdout",
     "output_type": "stream",
     "text": [
      "0\n",
      "2\n"
     ]
    }
   ],
   "source": [
    "# Need to manipulate all features so that they are useable\n",
    "# Cell to put data names into to see what max array and min array size are\n",
    "# Should both be 1 if is to work\n",
    "y = []\n",
    "x = df_total['boostedObject_area']\n",
    "for i in x:\n",
    "    y.append(len(i))\n",
    "print(min(y))\n",
    "print(max(y))"
   ]
  },
  {
   "cell_type": "code",
   "execution_count": 8,
   "metadata": {},
   "outputs": [
    {
     "name": "stdout",
     "output_type": "stream",
     "text": [
      "Index(['dataset', 'DiJet_mass', 'HT', 'InputMet_InputJet_mindPhi',\n",
      "       'InputMet_pt', 'MHT_pt', 'MinChi', 'MinOmegaHat', 'MinOmegaTilde',\n",
      "       'boostedObject_area', 'boostedObject_eta', 'boostedObject_mass',\n",
      "       'boostedObject_pt', 'boostedTop_area', 'boostedTop_eta',\n",
      "       'boostedTop_mass', 'boostedTop_pt', 'boostedTop_tag', 'boostedV_area',\n",
      "       'boostedV_eta', 'boostedV_mass', 'boostedV_pt', 'boostedV_tag',\n",
      "       'cleanedBJet_eta', 'cleanedBJet_pt', 'cleanedJet_area',\n",
      "       'cleanedJet_btagDeepB', 'cleanedJet_chHEF', 'cleanedJet_eta',\n",
      "       'cleanedJet_mass', 'cleanedJet_neHEF', 'cleanedJet_pt', 'ncleanedBJet',\n",
      "       'ncleanedJet'],\n",
      "      dtype='object')\n"
     ]
    }
   ],
   "source": [
    "print(df_total.columns  )\n"
   ]
  },
  {
   "cell_type": "code",
   "execution_count": 9,
   "metadata": {},
   "outputs": [],
   "source": [
    "# A function that makes arrays in rows singular values, max if multiple in array, 0 if empty array\n",
    "def modify_array(arr):    \n",
    "    if len(arr) == 0:\n",
    "        return 0\n",
    "    else:\n",
    "    # takes leading jet    \n",
    "        return max(arr)    #Need values as floats, not as arrays as NN did not accept arrays, needed as float\n",
    "                            # If wanted arrays, put [] around returns, simple as that.\n",
    "\n",
    "# e.g. df[\"column_name\"] = df[\"column_name\"].apply(modify_array)#\n",
    "#e.g   df_total.boostedTop_area = df_total.boostedTop_area.apply(modify_array)"
   ]
  },
  {
   "cell_type": "code",
   "execution_count": 10,
   "metadata": {},
   "outputs": [],
   "source": [
    "# This should have manipulated all data so is now fit for a ML model\n",
    "for column in df_total:\n",
    "    if df_total[column].dtype == 'object':\n",
    "        df_total[column] = df_total[column].apply(modify_array)\n"
   ]
  },
  {
   "cell_type": "code",
   "execution_count": 11,
   "metadata": {},
   "outputs": [
    {
     "name": "stdout",
     "output_type": "stream",
     "text": [
      "There are [33] variables in this model\n",
      "The dataset has 200000 processes\n",
      "[33]\n"
     ]
    }
   ],
   "source": [
    "X = df_total.copy()    \n",
    "X.drop(['dataset'], axis = 1, inplace = True)   #Need to remove dataset (prediction) column\n",
    "y = df_total['dataset']\n",
    "\n",
    "# Break off validation set from training data\n",
    "X_train, X_valid, y_train, y_valid = train_test_split(X, y, train_size=0.8, test_size=0.2,\n",
    "                                                      random_state=0)\n",
    "\n",
    "input_shape = [X_train.shape[1]]\n",
    "print('There are', input_shape, 'variables in this model')\n",
    "print('The dataset has', len(y), 'processes')\n",
    "#print(len(x))\n",
    "#print(len(y))\n",
    "print(input_shape)"
   ]
  },
  {
   "cell_type": "code",
   "execution_count": 12,
   "metadata": {},
   "outputs": [],
   "source": [
    "#Define the Model\n",
    "\n",
    "model = keras.Sequential([\n",
    "    layers.BatchNormalization(input_shape=input_shape), \n",
    "    layers.Dense(units=256, activation='relu'),\n",
    "    layers.BatchNormalization(),\n",
    "    layers.Dropout(rate = 0.3), \n",
    "    layers.Dense(units=256, activation='relu'),\n",
    "    layers.BatchNormalization(),\n",
    "    layers.Dropout(rate = 0.3),\n",
    "    layers.Dense(units=1, activation='sigmoid'),\n",
    "])\n",
    "\n",
    "model.compile(\n",
    "    optimizer='adam',\n",
    "    loss='binary_crossentropy',\n",
    "    metrics=['binary_accuracy']\n",
    ")\n",
    "\n"
   ]
  },
  {
   "cell_type": "code",
   "execution_count": 13,
   "metadata": {},
   "outputs": [
    {
     "name": "stdout",
     "output_type": "stream",
     "text": [
      "Epoch 1/200\n",
      "313/313 [==============================] - 14s 39ms/step - loss: 0.6736 - binary_accuracy: 0.6488 - val_loss: 0.5770 - val_binary_accuracy: 0.6944\n",
      "Epoch 2/200\n",
      "313/313 [==============================] - 9s 29ms/step - loss: 0.5841 - binary_accuracy: 0.6891 - val_loss: 0.5644 - val_binary_accuracy: 0.7048\n",
      "Epoch 3/200\n",
      "313/313 [==============================] - 8s 27ms/step - loss: 0.5754 - binary_accuracy: 0.6949 - val_loss: 0.5639 - val_binary_accuracy: 0.7041\n",
      "Epoch 4/200\n",
      "313/313 [==============================] - 12s 37ms/step - loss: 0.5735 - binary_accuracy: 0.6960 - val_loss: 0.5637 - val_binary_accuracy: 0.7035\n",
      "Epoch 5/200\n",
      "313/313 [==============================] - 11s 37ms/step - loss: 0.5700 - binary_accuracy: 0.6987 - val_loss: 0.5591 - val_binary_accuracy: 0.7078\n",
      "Epoch 6/200\n",
      "313/313 [==============================] - 15s 46ms/step - loss: 0.5699 - binary_accuracy: 0.6993 - val_loss: 0.5594 - val_binary_accuracy: 0.7072\n",
      "Epoch 7/200\n",
      "313/313 [==============================] - 15s 49ms/step - loss: 0.5676 - binary_accuracy: 0.7025 - val_loss: 0.5574 - val_binary_accuracy: 0.7081\n",
      "Epoch 8/200\n",
      "313/313 [==============================] - 13s 41ms/step - loss: 0.5678 - binary_accuracy: 0.7011 - val_loss: 0.5602 - val_binary_accuracy: 0.7069\n",
      "Epoch 9/200\n",
      "313/313 [==============================] - 13s 42ms/step - loss: 0.5679 - binary_accuracy: 0.7007 - val_loss: 0.5568 - val_binary_accuracy: 0.7092\n",
      "Epoch 10/200\n",
      "313/313 [==============================] - 14s 45ms/step - loss: 0.5649 - binary_accuracy: 0.7015 - val_loss: 0.5558 - val_binary_accuracy: 0.7102\n",
      "Epoch 11/200\n",
      "313/313 [==============================] - 14s 46ms/step - loss: 0.5621 - binary_accuracy: 0.7071 - val_loss: 0.5547 - val_binary_accuracy: 0.7097\n",
      "Epoch 12/200\n",
      "313/313 [==============================] - 14s 46ms/step - loss: 0.5623 - binary_accuracy: 0.7058 - val_loss: 0.5548 - val_binary_accuracy: 0.7105\n",
      "Epoch 13/200\n",
      "313/313 [==============================] - 13s 42ms/step - loss: 0.5629 - binary_accuracy: 0.7043 - val_loss: 0.5564 - val_binary_accuracy: 0.7103\n",
      "Epoch 14/200\n",
      "313/313 [==============================] - 12s 38ms/step - loss: 0.5600 - binary_accuracy: 0.7056 - val_loss: 0.5545 - val_binary_accuracy: 0.7117\n",
      "Epoch 15/200\n",
      "313/313 [==============================] - 10s 32ms/step - loss: 0.5621 - binary_accuracy: 0.7044 - val_loss: 0.5533 - val_binary_accuracy: 0.7111\n",
      "Epoch 16/200\n",
      "313/313 [==============================] - 11s 36ms/step - loss: 0.5608 - binary_accuracy: 0.7057 - val_loss: 0.5535 - val_binary_accuracy: 0.7114\n",
      "Epoch 17/200\n",
      "313/313 [==============================] - 10s 33ms/step - loss: 0.5604 - binary_accuracy: 0.7074 - val_loss: 0.5526 - val_binary_accuracy: 0.7117\n",
      "Epoch 18/200\n",
      "313/313 [==============================] - 12s 38ms/step - loss: 0.5610 - binary_accuracy: 0.7059 - val_loss: 0.5516 - val_binary_accuracy: 0.7132\n",
      "Epoch 19/200\n",
      "313/313 [==============================] - 12s 38ms/step - loss: 0.5585 - binary_accuracy: 0.7085 - val_loss: 0.5520 - val_binary_accuracy: 0.7114\n",
      "Epoch 20/200\n",
      "313/313 [==============================] - 11s 35ms/step - loss: 0.5587 - binary_accuracy: 0.7073 - val_loss: 0.5521 - val_binary_accuracy: 0.7124\n",
      "Epoch 21/200\n",
      "313/313 [==============================] - 12s 38ms/step - loss: 0.5586 - binary_accuracy: 0.7098 - val_loss: 0.5519 - val_binary_accuracy: 0.7136\n",
      "Epoch 22/200\n",
      "313/313 [==============================] - 11s 34ms/step - loss: 0.5587 - binary_accuracy: 0.7090 - val_loss: 0.5527 - val_binary_accuracy: 0.7112\n",
      "Epoch 23/200\n",
      "313/313 [==============================] - 12s 37ms/step - loss: 0.5565 - binary_accuracy: 0.7121 - val_loss: 0.5522 - val_binary_accuracy: 0.7122\n",
      "Best Validation Loss: 0.5516\n",
      "Best Validation Accuracy: 0.7136\n"
     ]
    },
    {
     "data": {
      "image/png": "[encoded data removed]",
      "text/plain": [
       "<Figure size 432x288 with 1 Axes>"
      ]
     },
     "metadata": {
      "needs_background": "light"
     },
     "output_type": "display_data"
    },
    {
     "data": {
      "image/png": "[encoded data removed]",
      "text/plain": [
       "<Figure size 432x288 with 1 Axes>"
      ]
     },
     "metadata": {
      "needs_background": "light"
     },
     "output_type": "display_data"
    }
   ],
   "source": [
    "# Train the model\n",
    "\n",
    "early_stopping = keras.callbacks.EarlyStopping(\n",
    "    patience=5,\n",
    "    min_delta=0.001,\n",
    "    restore_best_weights=True,\n",
    ")\n",
    "history = model.fit(\n",
    "    X_train, y_train,\n",
    "    validation_data=(X_valid, y_valid),\n",
    "    batch_size=512,\n",
    "    epochs=200,\n",
    "    callbacks=[early_stopping],\n",
    "    #verbose = 0   #Hide output of epochs\n",
    ")\n",
    "\n",
    "history_df = pd.DataFrame(history.history)\n",
    "history_df.loc[:, ['loss', 'val_loss']].plot(title=\"Cross-entropy\")\n",
    "history_df.loc[:, ['binary_accuracy', 'val_binary_accuracy']].plot(title=\"Accuracy\")\n",
    "history_df = pd.DataFrame(history.history)\n",
    "\n",
    "print((\"Best Validation Loss: {:0.4f}\" +\\\n",
    "      \"\\nBest Validation Accuracy: {:0.4f}\")\\\n",
    "      .format(history_df['val_loss'].min(), \n",
    "              history_df['val_binary_accuracy'].max()))\n",
    "\n"
   ]
  },
  {
   "cell_type": "code",
   "execution_count": 14,
   "metadata": {},
   "outputs": [
    {
     "name": "stdout",
     "output_type": "stream",
     "text": [
      "1250/1250 [==============================] - 5s 4ms/step - loss: 0.5516 - binary_accuracy: 0.7132\n",
      "Validation loss: 0.5515798330307007\n",
      "Validation accuracy: 0.7131500244140625\n"
     ]
    }
   ],
   "source": [
    "# evaluate the model on the validation data\n",
    "val_loss, val_acc = model.evaluate(X_valid, y_valid)    # do this for x_test and y_test and can compare\n",
    "#print(len(X_valid))  #these are actually correct, 10k, test train split makes 4k test\n",
    "#print(len(y_valid))\n",
    "print(\"Validation loss:\", val_loss)\n",
    "print(\"Validation accuracy:\", val_acc)\n",
    "\n",
    "y_pred = model.predict(X_valid)\n",
    "y_pred_round = np.round(y_pred)\n",
    "#print(y_pred)\n",
    "\n",
    "# # compute the confusion matrix\n",
    "# cm = confusion_matrix(y_valid, y_pred_round)\n",
    "# #print(cm)\n",
    "\n",
    "# #cm = confusion_matrix(y_test, predictions, labels=clf.classes_)\n",
    "# disp = ConfusionMatrixDisplay(confusion_matrix=cm/(len(y_pred))*100) # now out of 100%\n",
    "# disp.plot()\n",
    "# # make so 200%, amount background correct 100% and amount signal correct 100%\n",
    "# plt.show()"
   ]
  },
  {
   "cell_type": "code",
   "execution_count": 15,
   "metadata": {},
   "outputs": [
    {
     "name": "stdout",
     "output_type": "stream",
     "text": [
      "[[0.74554311 0.25445689]\n",
      " [0.31896251 0.68103749]]\n"
     ]
    },
    {
     "data": {
      "image/png": "[encoded data removed]",
      "text/plain": [
       "<Figure size 432x288 with 2 Axes>"
      ]
     },
     "metadata": {
      "needs_background": "light"
     },
     "output_type": "display_data"
    }
   ],
   "source": [
    "# compute the confusion matrix\n",
    "\n",
    "\n",
    "cm = confusion_matrix(y_valid, y_pred_round, normalize = 'true')  #,'true' ‘pred’, ‘all’},)\n",
    "print(cm)\n",
    "\n",
    "disp = ConfusionMatrixDisplay(confusion_matrix=cm) # now out of 100%\n",
    "disp.plot()\n",
    "# make so 200%, amount background correct 100% and amount signal correct 100%\n",
    "plt.show()"
   ]
  },
  {
   "cell_type": "code",
   "execution_count": 16,
   "metadata": {},
   "outputs": [
    {
     "name": "stdout",
     "output_type": "stream",
     "text": [
      "0.71315\n",
      "True\n"
     ]
    }
   ],
   "source": [
    "# Check if order of y_valid is the same order as y_pred\n",
    "# expect to be the ssame order if accuracy is same as validation accuracy above.\n",
    "\n",
    "# list of true outcomes\n",
    "y_valid_list = list(y_valid)\n",
    "\n",
    "# list of rounded predictions \n",
    "y_pred_round_list = list(y_pred_round)\n",
    "\n",
    "# list of whether these are same    \n",
    "z=[]\n",
    "for i in range(len(y_valid_list)):\n",
    "    if y_valid_list[i]==y_pred_round_list[i]:\n",
    "        z.append(1)\n",
    "    else:\n",
    "        z.append(0)\n",
    "        \n",
    "print(sum(z)/len(z))\n",
    "\n",
    "# Set a tolerance\n",
    "tol = 0.0001\n",
    "print(val_acc - tol < sum(z)/len(z) < val_acc + tol)\n",
    "\n",
    "# If true, suggests are in same order "
   ]
  },
  {
   "cell_type": "code",
   "execution_count": 17,
   "metadata": {},
   "outputs": [
    {
     "data": {
      "text/html": [
       "<div>\n",
       "<style scoped>\n",
       "    .dataframe tbody tr th:only-of-type {\n",
       "        vertical-align: middle;\n",
       "    }\n",
       "\n",
       "    .dataframe tbody tr th {\n",
       "        vertical-align: top;\n",
       "    }\n",
       "\n",
       "    .dataframe thead th {\n",
       "        text-align: right;\n",
       "    }\n",
       "</style>\n",
       "<table border=\"1\" class=\"dataframe\">\n",
       "  <thead>\n",
       "    <tr style=\"text-align: right;\">\n",
       "      <th></th>\n",
       "      <th>True_Val</th>\n",
       "      <th>Predicted</th>\n",
       "      <th>Round Prediction</th>\n",
       "    </tr>\n",
       "  </thead>\n",
       "  <tbody>\n",
       "    <tr>\n",
       "      <th>0</th>\n",
       "      <td>0</td>\n",
       "      <td>[0.54482555]</td>\n",
       "      <td>[1.0]</td>\n",
       "    </tr>\n",
       "    <tr>\n",
       "      <th>1</th>\n",
       "      <td>1</td>\n",
       "      <td>[0.23955965]</td>\n",
       "      <td>[0.0]</td>\n",
       "    </tr>\n",
       "    <tr>\n",
       "      <th>2</th>\n",
       "      <td>0</td>\n",
       "      <td>[0.4081009]</td>\n",
       "      <td>[0.0]</td>\n",
       "    </tr>\n",
       "    <tr>\n",
       "      <th>3</th>\n",
       "      <td>1</td>\n",
       "      <td>[0.23093936]</td>\n",
       "      <td>[0.0]</td>\n",
       "    </tr>\n",
       "    <tr>\n",
       "      <th>4</th>\n",
       "      <td>0</td>\n",
       "      <td>[0.27558997]</td>\n",
       "      <td>[0.0]</td>\n",
       "    </tr>\n",
       "    <tr>\n",
       "      <th>...</th>\n",
       "      <td>...</td>\n",
       "      <td>...</td>\n",
       "      <td>...</td>\n",
       "    </tr>\n",
       "    <tr>\n",
       "      <th>39995</th>\n",
       "      <td>1</td>\n",
       "      <td>[0.21414483]</td>\n",
       "      <td>[0.0]</td>\n",
       "    </tr>\n",
       "    <tr>\n",
       "      <th>39996</th>\n",
       "      <td>1</td>\n",
       "      <td>[0.34080857]</td>\n",
       "      <td>[0.0]</td>\n",
       "    </tr>\n",
       "    <tr>\n",
       "      <th>39997</th>\n",
       "      <td>0</td>\n",
       "      <td>[0.24948275]</td>\n",
       "      <td>[0.0]</td>\n",
       "    </tr>\n",
       "    <tr>\n",
       "      <th>39998</th>\n",
       "      <td>1</td>\n",
       "      <td>[0.99130267]</td>\n",
       "      <td>[1.0]</td>\n",
       "    </tr>\n",
       "    <tr>\n",
       "      <th>39999</th>\n",
       "      <td>0</td>\n",
       "      <td>[0.36452425]</td>\n",
       "      <td>[0.0]</td>\n",
       "    </tr>\n",
       "  </tbody>\n",
       "</table>\n",
       "<p>40000 rows × 3 columns</p>\n",
       "</div>"
      ],
      "text/plain": [
       "       True_Val     Predicted Round Prediction\n",
       "0             0  [0.54482555]            [1.0]\n",
       "1             1  [0.23955965]            [0.0]\n",
       "2             0   [0.4081009]            [0.0]\n",
       "3             1  [0.23093936]            [0.0]\n",
       "4             0  [0.27558997]            [0.0]\n",
       "...         ...           ...              ...\n",
       "39995         1  [0.21414483]            [0.0]\n",
       "39996         1  [0.34080857]            [0.0]\n",
       "39997         0  [0.24948275]            [0.0]\n",
       "39998         1  [0.99130267]            [1.0]\n",
       "39999         0  [0.36452425]            [0.0]\n",
       "\n",
       "[40000 rows x 3 columns]"
      ]
     },
     "execution_count": 17,
     "metadata": {},
     "output_type": "execute_result"
    }
   ],
   "source": [
    "data = {'True_Val': y_valid_list, 'Predicted': list(y_pred), 'Round Prediction': y_pred_round_list}\n",
    "df = pd.DataFrame(data)\n",
    "df"
   ]
  },
  {
   "cell_type": "code",
   "execution_count": 18,
   "metadata": {},
   "outputs": [
    {
     "name": "stdout",
     "output_type": "stream",
     "text": [
      "0.71315\n",
      "True\n"
     ]
    }
   ],
   "source": [
    "# Check that they maintained order in the df:\n",
    "\n",
    "lst=[]\n",
    "for i in range(len(df)):\n",
    "    if df['True_Val'][i] == df['Round Prediction'][i]:\n",
    "        lst.append(1)\n",
    "    else:\n",
    "        (lst.append(0))\n",
    "print(sum(lst)/len(lst))\n",
    "\n",
    "# Set a tolerance\n",
    "tol = 0.0001\n",
    "print(val_acc - tol < sum(lst)/len(lst) < val_acc + tol)\n",
    "\n",
    "# If true, suggests are in same order "
   ]
  },
  {
   "cell_type": "code",
   "execution_count": 19,
   "metadata": {},
   "outputs": [
    {
     "data": {
      "text/html": [
       "<div>\n",
       "<style scoped>\n",
       "    .dataframe tbody tr th:only-of-type {\n",
       "        vertical-align: middle;\n",
       "    }\n",
       "\n",
       "    .dataframe tbody tr th {\n",
       "        vertical-align: top;\n",
       "    }\n",
       "\n",
       "    .dataframe thead th {\n",
       "        text-align: right;\n",
       "    }\n",
       "</style>\n",
       "<table border=\"1\" class=\"dataframe\">\n",
       "  <thead>\n",
       "    <tr style=\"text-align: right;\">\n",
       "      <th></th>\n",
       "      <th>True_Val</th>\n",
       "      <th>Predicted</th>\n",
       "      <th>Round Prediction</th>\n",
       "    </tr>\n",
       "  </thead>\n",
       "  <tbody>\n",
       "    <tr>\n",
       "      <th>0</th>\n",
       "      <td>0</td>\n",
       "      <td>[0.54482555]</td>\n",
       "      <td>[1.0]</td>\n",
       "    </tr>\n",
       "    <tr>\n",
       "      <th>22198</th>\n",
       "      <td>0</td>\n",
       "      <td>[0.17425296]</td>\n",
       "      <td>[0.0]</td>\n",
       "    </tr>\n",
       "    <tr>\n",
       "      <th>22197</th>\n",
       "      <td>0</td>\n",
       "      <td>[0.5532861]</td>\n",
       "      <td>[1.0]</td>\n",
       "    </tr>\n",
       "    <tr>\n",
       "      <th>22196</th>\n",
       "      <td>0</td>\n",
       "      <td>[0.1164414]</td>\n",
       "      <td>[0.0]</td>\n",
       "    </tr>\n",
       "    <tr>\n",
       "      <th>22194</th>\n",
       "      <td>0</td>\n",
       "      <td>[0.5157712]</td>\n",
       "      <td>[1.0]</td>\n",
       "    </tr>\n",
       "    <tr>\n",
       "      <th>...</th>\n",
       "      <td>...</td>\n",
       "      <td>...</td>\n",
       "      <td>...</td>\n",
       "    </tr>\n",
       "    <tr>\n",
       "      <th>6990</th>\n",
       "      <td>1</td>\n",
       "      <td>[0.8386377]</td>\n",
       "      <td>[1.0]</td>\n",
       "    </tr>\n",
       "    <tr>\n",
       "      <th>25938</th>\n",
       "      <td>1</td>\n",
       "      <td>[0.91174364]</td>\n",
       "      <td>[1.0]</td>\n",
       "    </tr>\n",
       "    <tr>\n",
       "      <th>11553</th>\n",
       "      <td>1</td>\n",
       "      <td>[0.6412432]</td>\n",
       "      <td>[1.0]</td>\n",
       "    </tr>\n",
       "    <tr>\n",
       "      <th>25955</th>\n",
       "      <td>1</td>\n",
       "      <td>[0.5260885]</td>\n",
       "      <td>[1.0]</td>\n",
       "    </tr>\n",
       "    <tr>\n",
       "      <th>19999</th>\n",
       "      <td>1</td>\n",
       "      <td>[0.53087527]</td>\n",
       "      <td>[1.0]</td>\n",
       "    </tr>\n",
       "  </tbody>\n",
       "</table>\n",
       "<p>40000 rows × 3 columns</p>\n",
       "</div>"
      ],
      "text/plain": [
       "       True_Val     Predicted Round Prediction\n",
       "0             0  [0.54482555]            [1.0]\n",
       "22198         0  [0.17425296]            [0.0]\n",
       "22197         0   [0.5532861]            [1.0]\n",
       "22196         0   [0.1164414]            [0.0]\n",
       "22194         0   [0.5157712]            [1.0]\n",
       "...         ...           ...              ...\n",
       "6990          1   [0.8386377]            [1.0]\n",
       "25938         1  [0.91174364]            [1.0]\n",
       "11553         1   [0.6412432]            [1.0]\n",
       "25955         1   [0.5260885]            [1.0]\n",
       "19999         1  [0.53087527]            [1.0]\n",
       "\n",
       "[40000 rows x 3 columns]"
      ]
     },
     "execution_count": 19,
     "metadata": {},
     "output_type": "execute_result"
    }
   ],
   "source": [
    "# Easiest to reorder df, so all 0 (background) are first and then 1's (signal)\n",
    "\n",
    "#Verified, works\n",
    "df = df.sort_values(by='True_Val')\n",
    "df\n",
    "#Can run cell above agai, after this one to check maintined order "
   ]
  },
  {
   "cell_type": "code",
   "execution_count": 20,
   "metadata": {},
   "outputs": [],
   "source": [
    "# Convert arrays to scalars\n",
    "df['Round Prediction'] = df['Round Prediction'].apply(lambda x: x[0])\n"
   ]
  },
  {
   "cell_type": "code",
   "execution_count": 21,
   "metadata": {},
   "outputs": [
    {
     "name": "stdout",
     "output_type": "stream",
     "text": [
      "18747\n",
      "20087\n",
      "The model predicted -1340 more ones than in reality\n",
      "21253\n",
      "19913\n",
      "The model predicted 1340 more ones than in reality\n"
     ]
    }
   ],
   "source": [
    "pred_one = df['Round Prediction'].value_counts()[1.0]\n",
    "ones_in_set = df['True_Val'].value_counts()[1]\n",
    "\n",
    "# Print the result\n",
    "print(pred_one)\n",
    "print(ones_in_set)\n",
    "print('The model predicted',pred_one-ones_in_set ,'more ones than in reality')\n",
    "#so predicts like 3x less ones than are in set\n",
    "\n",
    "pred_zeros = df['Round Prediction'].value_counts()[0.0]\n",
    "zeros_in_set = df['True_Val'].value_counts()[0]\n",
    "\n",
    "# Print the result\n",
    "print(pred_zeros)\n",
    "print(zeros_in_set)\n",
    "print('The model predicted', pred_zeros-zeros_in_set,'more ones than in reality')\n"
   ]
  },
  {
   "cell_type": "markdown",
   "metadata": {},
   "source": [
    "now first half of df is background, other half is signal\n",
    "\n",
    "PROBLEM, TEST AND VALID WAS SPLIT RANDOMLY, SO NOT ACTUALLY SAME AMOUNT OF 0's AND 1's\n",
    "\n",
    "Not a problem, but need to check if should be like this\n",
    "\n",
    " A couple of options, I could:\n",
    "\n",
    "Deal with it, and let there be uneven amounts of 1's and 0's\n",
    "\n",
    "OR\n",
    "\n",
    "Go back to test_train_split, and apply individually to signal and background and then sum them?\n",
    "\n",
    "This would guarantee 50/50\n"
   ]
  },
  {
   "cell_type": "code",
   "execution_count": 22,
   "metadata": {},
   "outputs": [
    {
     "data": {
      "text/plain": [
       "True"
      ]
     },
     "execution_count": 22,
     "metadata": {},
     "output_type": "execute_result"
    }
   ],
   "source": [
    "#Split df into signal and bg\n",
    "\n",
    "df_bg = df[df['True_Val'] == 0]\n",
    "df_signal = df[df['True_Val'] == 1]\n",
    "\n",
    "#check no missing columns, if so out: True\n",
    "len(df_bg)+len(df_signal) == len(df)"
   ]
  },
  {
   "cell_type": "code",
   "execution_count": 23,
   "metadata": {},
   "outputs": [
    {
     "name": "stdout",
     "output_type": "stream",
     "text": [
      "34.2\n",
      "37.114999999999995\n"
     ]
    }
   ],
   "source": [
    "# Unneccessary, but check each type gives expected corrected and incorrect rate, to check that columns havent \n",
    "# Gotten messed up at all\n",
    "\n",
    "lst_signal = []\n",
    "for i in df_signal['Round Prediction']:\n",
    "    if 1.0 == i:\n",
    "        lst_signal.append(1)\n",
    "    else:\n",
    "        lst_signal.append(0)\n",
    "\n",
    "#Below should == bottom rigtht of confusion matrix \n",
    "print(sum(lst_signal)/len(lst)*100) \n",
    "\n",
    "lst_bg = []\n",
    "for i in df_bg['Round Prediction']:\n",
    "    if 0.0 == i:\n",
    "        lst_bg.append(1)\n",
    "    else:\n",
    "        lst_bg.append(0)\n",
    "\n",
    "#Below should == top left of confusion matrix \n",
    "print(sum(lst_bg)/len(lst)*100) \n",
    "\n",
    "# SEE IS CORRECT SO ALL WORKING"
   ]
  },
  {
   "cell_type": "code",
   "execution_count": 24,
   "metadata": {
    "scrolled": false
   },
   "outputs": [
    {
     "data": {
      "image/png": "[encoded data removed]",
      "text/plain": [
       "<Figure size 432x288 with 1 Axes>"
      ]
     },
     "metadata": {
      "needs_background": "light"
     },
     "output_type": "display_data"
    },
    {
     "data": {
      "image/png": "[encoded data removed]",
      "text/plain": [
       "<Figure size 432x288 with 1 Axes>"
      ]
     },
     "metadata": {
      "needs_background": "light"
     },
     "output_type": "display_data"
    }
   ],
   "source": [
    "# Make discriminator curves, Histogram\n",
    "\n",
    "# manipluate data so can be used for Histograms\n",
    "lst_bg_predicted = []\n",
    "for i in df_bg['Predicted']:\n",
    "    lst_bg_predicted.append(i)\n",
    "\n",
    "lst_of_values_bg_pred = [arr.item() for arr in lst_bg_predicted]\n",
    "\n",
    "lst_signal_predicted = []\n",
    "for i in df_signal['Predicted']:\n",
    "    lst_signal_predicted.append(i)\n",
    "\n",
    "lst_of_values_signal_pred = [arr.item() for arr in lst_signal_predicted]\n",
    "\n",
    "#Unweighted\n",
    "plt.hist(x= lst_of_values_bg_pred, bins=100, density = True, histtype = 'step', label = 'Background')\n",
    "plt.hist(x= lst_of_values_signal_pred, bins=100, density = True, histtype = 'step', label = 'Signal')\n",
    "plt.title('Discriminator Curve')\n",
    "plt.xlabel('Classifier Prediction')\n",
    "plt.ylabel('Frequency')\n",
    "plt.legend()\n",
    "plt.show()\n",
    "\n",
    "#Weighted to xs_weights x 300000, need to be to proportion of full dataset too\n",
    "#normalised\n",
    "binwidth = 1/100    # want bins of 0.01\n",
    "plt.hist(x= lst_of_values_bg_pred, bins=np.arange(0, 1 + binwidth, binwidth),  weights = df2.xs_weight[:len(lst_of_values_bg_pred)]*3e5*(651387/100000),\n",
    "         histtype = 'step', label = 'Background')\n",
    "plt.hist(x= lst_of_values_signal_pred, bins=np.arange(0, 1 + binwidth, binwidth), weights = df4.xs_weight[:len(lst_of_values_signal_pred)]*3e5*(177858/100000),\n",
    "         histtype = 'step', label = 'Signal')\n",
    "plt.title('Discriminator Curve')\n",
    "plt.xlabel('Classifier Prediction')\n",
    "plt.ylabel('Frequency')\n",
    "plt.xlim(0.9,1)    #zoom in on 0.9 to 1 region\n",
    "plt.ylim(0,200)    # need to zoom in\n",
    "plt.legend()\n",
    "plt.show()\n",
    "\n",
    "\n",
    "#start dropping bins for signifucance part, calc Z and plot, should get curve that peaks\n",
    "\n",
    "#interesting see bins aren't algined\n",
    "#\n"
   ]
  },
  {
   "cell_type": "code",
   "execution_count": 25,
   "metadata": {},
   "outputs": [
    {
     "data": {
      "text/plain": [
       "array([0.  , 0.01, 0.02, 0.03, 0.04, 0.05, 0.06, 0.07, 0.08, 0.09, 0.1 ,\n",
       "       0.11, 0.12, 0.13, 0.14, 0.15, 0.16, 0.17, 0.18, 0.19, 0.2 , 0.21,\n",
       "       0.22, 0.23, 0.24, 0.25, 0.26, 0.27, 0.28, 0.29, 0.3 , 0.31, 0.32,\n",
       "       0.33, 0.34, 0.35, 0.36, 0.37, 0.38, 0.39, 0.4 , 0.41, 0.42, 0.43,\n",
       "       0.44, 0.45, 0.46, 0.47, 0.48, 0.49, 0.5 , 0.51, 0.52, 0.53, 0.54,\n",
       "       0.55, 0.56, 0.57, 0.58, 0.59, 0.6 , 0.61, 0.62, 0.63, 0.64, 0.65,\n",
       "       0.66, 0.67, 0.68, 0.69, 0.7 , 0.71, 0.72, 0.73, 0.74, 0.75, 0.76,\n",
       "       0.77, 0.78, 0.79, 0.8 , 0.81, 0.82, 0.83, 0.84, 0.85, 0.86, 0.87,\n",
       "       0.88, 0.89, 0.9 , 0.91, 0.92, 0.93, 0.94, 0.95, 0.96, 0.97, 0.98,\n",
       "       0.99, 1.  ])"
      ]
     },
     "execution_count": 25,
     "metadata": {},
     "output_type": "execute_result"
    }
   ],
   "source": [
    "binwidth = 1/100\n",
    "bins=np.arange(0, 1 + binwidth, binwidth)\n",
    "bins"
   ]
  },
  {
   "cell_type": "code",
   "execution_count": 26,
   "metadata": {},
   "outputs": [
    {
     "name": "stdout",
     "output_type": "stream",
     "text": [
      "40040.347641944885\n",
      "883.4215088561177\n"
     ]
    },
    {
     "data": {
      "image/png": "[encoded data removed]",
      "text/plain": [
       "<Figure size 432x288 with 1 Axes>"
      ]
     },
     "metadata": {
      "needs_background": "light"
     },
     "output_type": "display_data"
    }
   ],
   "source": [
    "# tried to do the number of events without integrating, may have worked\n",
    "binwidth = 1/100\n",
    "n_bg, bins_bg, patches_bg = plt.hist(x= lst_of_values_bg_pred, bins=np.arange(0, 1 + binwidth, binwidth),  weights = df2.xs_weight[:len(lst_of_values_bg_pred)]*3e5*(651387/100000),\n",
    "         histtype = 'step', label = 'Background')\n",
    "n_signal, bins_signal, patches_signal = plt.hist(x= lst_of_values_signal_pred, bins=np.arange(0, 1 + binwidth, binwidth), weights = df4.xs_weight[:len(lst_of_values_signal_pred)]*3e5*(177858/100000),\n",
    "         histtype = 'step', label = 'Signal')\n",
    "\n",
    "plt.xlim(0,1)\n",
    "\n",
    "# calculate the number of events\n",
    "num_bg_events = np.sum(n_bg)\n",
    "num_signal_events = np.sum(n_signal)\n",
    "\n",
    "print(num_bg_events)\n",
    "print(num_signal_events)\n",
    "\n"
   ]
  },
  {
   "cell_type": "code",
   "execution_count": null,
   "metadata": {},
   "outputs": [],
   "source": []
  },
  {
   "cell_type": "code",
   "execution_count": 27,
   "metadata": {},
   "outputs": [
    {
     "name": "stdout",
     "output_type": "stream",
     "text": [
      "40040.347641944885\n",
      "883.4215088561177\n"
     ]
    }
   ],
   "source": [
    "\n",
    "# calculate the width of each bin\n",
    "bin_bg_width = bins_bg[1] - bins_bg[0]\n",
    "bin_signal_width = bins_signal[1] - bins_signal[0]\n",
    "\n",
    "# calculate the number of events using the trapezoidal rule\n",
    "num_bg_events = np.sum(n_bg) \n",
    "num_signal_events = np.sum(n_signal) \n",
    "\n",
    "print(num_bg_events)             \n",
    "print(num_signal_events)    #weird, for this one gives less, but bg gives same as below\n",
    "                            #would expect to give the same"
   ]
  },
  {
   "cell_type": "code",
   "execution_count": 28,
   "metadata": {},
   "outputs": [
    {
     "name": "stdout",
     "output_type": "stream",
     "text": [
      "400.4086522006989\n",
      "8.808741048847637\n"
     ]
    },
    {
     "data": {
      "image/png": "[encoded data removed]",
      "text/plain": [
       "<Figure size 432x288 with 1 Axes>"
      ]
     },
     "metadata": {
      "needs_background": "light"
     },
     "output_type": "display_data"
    }
   ],
   "source": [
    "from scipy.integrate import simps\n",
    "binwidth = 1/100\n",
    "n_bg, bins_bg, patches_bg = plt.hist(x= lst_of_values_bg_pred, bins=np.arange(0, 1 + binwidth, binwidth),  weights = df2.xs_weight[:len(lst_of_values_bg_pred)]*3e5*(651387/100000),\n",
    "         histtype = 'step', label = 'Background')\n",
    "n_signal, bins_signal, patches_signal = plt.hist(x= lst_of_values_signal_pred, bins=np.arange(0, 1 + binwidth, binwidth), weights = df4.xs_weight[:len(lst_of_values_signal_pred)]*3e5*(177858/100000),\n",
    "         histtype = 'step', label = 'Signal')\n",
    "\n",
    "# calculate the width of each bin\n",
    "bin_bg_width = bins_bg[1] - bins_bg[0]\n",
    "bin_signal_width = bins_signal[1] - bins_bg[0]\n",
    "# calculate the number of events using numerical integration\n",
    "num_bg_events = simps(n_bg, dx=bin_bg_width)\n",
    "num_signal_events = simps(n_signal, dx=bin_signal_width)\n",
    "print(num_bg_events)             \n",
    "print(num_signal_events)             #Seem a bit low lol"
   ]
  },
  {
   "cell_type": "code",
   "execution_count": 29,
   "metadata": {},
   "outputs": [
    {
     "name": "stdout",
     "output_type": "stream",
     "text": [
      "8.6958615e-08\n",
      "1.0588149e-06\n"
     ]
    }
   ],
   "source": [
    "\n",
    "print( df4.xs_weight[1])\n",
    "print( df2.xs_weight[1])"
   ]
  },
  {
   "cell_type": "code",
   "execution_count": 30,
   "metadata": {},
   "outputs": [
    {
     "name": "stdout",
     "output_type": "stream",
     "text": [
      "       True_Val     Predicted  Round Prediction\n",
      "33015         1   [0.8878517]               1.0\n",
      "3631          1   [0.5533837]               1.0\n",
      "32749         1  [0.48843992]               0.0\n",
      "3598          1   [0.4940186]               0.0\n",
      "3750          1  [0.38004947]               0.0\n",
      "...         ...           ...               ...\n",
      "6990          1   [0.8386377]               1.0\n",
      "25938         1  [0.91174364]               1.0\n",
      "11553         1   [0.6412432]               1.0\n",
      "25955         1   [0.5260885]               1.0\n",
      "19999         1  [0.53087527]               1.0\n",
      "\n",
      "[20087 rows x 3 columns]\n"
     ]
    }
   ],
   "source": [
    "print(df_signal)"
   ]
  },
  {
   "cell_type": "code",
   "execution_count": 31,
   "metadata": {},
   "outputs": [
    {
     "data": {
      "image/png": "[encoded data removed]",
      "text/plain": [
       "<Figure size 432x288 with 1 Axes>"
      ]
     },
     "metadata": {
      "needs_background": "light"
     },
     "output_type": "display_data"
    },
    {
     "name": "stdout",
     "output_type": "stream",
     "text": [
      "0.7887602853164988\n",
      "14828\n"
     ]
    }
   ],
   "source": [
    "#plot ROC curves\n",
    "\n",
    "y_true = df['True_Val']\n",
    "y_score = df['Predicted']\n",
    "\n",
    "# calculate the false positive rate and true positive rate\n",
    "fpr, tpr, thresholds = roc_curve(y_true, y_score)\n",
    "\n",
    "# calculate the area under the ROC curve\n",
    "roc_auc = auc(fpr, tpr)\n",
    "\n",
    "# plot the ROC curve\n",
    "plt.plot(fpr, tpr, color='darkorange', lw=2, label='ROC curve (AUC = %0.2f)' % roc_auc)\n",
    "plt.plot([0, 1], [0, 1], color='navy', lw=2, linestyle='--')\n",
    "plt.xlim([0.0, 1.0])\n",
    "plt.ylim([0.0, 1.05])\n",
    "plt.xlabel('False Positive Rate')\n",
    "plt.ylabel('True Positive Rate')\n",
    "plt.title('Receiver Operating Characteristic')\n",
    "plt.legend(loc=\"lower right\")\n",
    "plt.show()\n",
    "\n",
    "print(roc_auc)  #79%\n",
    "\n",
    "print(len(thresholds))\n",
    "\n"
   ]
  },
  {
   "cell_type": "code",
   "execution_count": 32,
   "metadata": {},
   "outputs": [
    {
     "name": "stderr",
     "output_type": "stream",
     "text": [
      "<ipython-input-32-66289c320eca>:1: RuntimeWarning: divide by zero encountered in divide\n",
      "  data_roc = {'thresholds': thresholds, 'tpr': tpr, 'fpr': fpr, 'tpr/sqrt(fpr)':tpr/np.sqrt(fpr)}\n",
      "<ipython-input-32-66289c320eca>:1: RuntimeWarning: invalid value encountered in divide\n",
      "  data_roc = {'thresholds': thresholds, 'tpr': tpr, 'fpr': fpr, 'tpr/sqrt(fpr)':tpr/np.sqrt(fpr)}\n"
     ]
    },
    {
     "data": {
      "text/html": [
       "<div>\n",
       "<style scoped>\n",
       "    .dataframe tbody tr th:only-of-type {\n",
       "        vertical-align: middle;\n",
       "    }\n",
       "\n",
       "    .dataframe tbody tr th {\n",
       "        vertical-align: top;\n",
       "    }\n",
       "\n",
       "    .dataframe thead th {\n",
       "        text-align: right;\n",
       "    }\n",
       "</style>\n",
       "<table border=\"1\" class=\"dataframe\">\n",
       "  <thead>\n",
       "    <tr style=\"text-align: right;\">\n",
       "      <th></th>\n",
       "      <th>thresholds</th>\n",
       "      <th>tpr</th>\n",
       "      <th>fpr</th>\n",
       "      <th>tpr/sqrt(fpr)</th>\n",
       "    </tr>\n",
       "  </thead>\n",
       "  <tbody>\n",
       "    <tr>\n",
       "      <th>0</th>\n",
       "      <td>1.999043</td>\n",
       "      <td>0.000000</td>\n",
       "      <td>0.000000</td>\n",
       "      <td>NaN</td>\n",
       "    </tr>\n",
       "    <tr>\n",
       "      <th>1</th>\n",
       "      <td>[0.99904287]</td>\n",
       "      <td>0.000050</td>\n",
       "      <td>0.000000</td>\n",
       "      <td>inf</td>\n",
       "    </tr>\n",
       "    <tr>\n",
       "      <th>2</th>\n",
       "      <td>[0.98344207]</td>\n",
       "      <td>0.015881</td>\n",
       "      <td>0.000000</td>\n",
       "      <td>inf</td>\n",
       "    </tr>\n",
       "    <tr>\n",
       "      <th>3</th>\n",
       "      <td>[0.98341775]</td>\n",
       "      <td>0.015881</td>\n",
       "      <td>0.000050</td>\n",
       "      <td>2.241011</td>\n",
       "    </tr>\n",
       "    <tr>\n",
       "      <th>4</th>\n",
       "      <td>[0.98331225]</td>\n",
       "      <td>0.016030</td>\n",
       "      <td>0.000050</td>\n",
       "      <td>2.262086</td>\n",
       "    </tr>\n",
       "    <tr>\n",
       "      <th>...</th>\n",
       "      <td>...</td>\n",
       "      <td>...</td>\n",
       "      <td>...</td>\n",
       "      <td>...</td>\n",
       "    </tr>\n",
       "    <tr>\n",
       "      <th>14823</th>\n",
       "      <td>[0.06908971]</td>\n",
       "      <td>0.999900</td>\n",
       "      <td>0.998443</td>\n",
       "      <td>1.000680</td>\n",
       "    </tr>\n",
       "    <tr>\n",
       "      <th>14824</th>\n",
       "      <td>[0.06908652]</td>\n",
       "      <td>0.999950</td>\n",
       "      <td>0.998443</td>\n",
       "      <td>1.000729</td>\n",
       "    </tr>\n",
       "    <tr>\n",
       "      <th>14825</th>\n",
       "      <td>[0.06678262]</td>\n",
       "      <td>0.999950</td>\n",
       "      <td>0.998845</td>\n",
       "      <td>1.000528</td>\n",
       "    </tr>\n",
       "    <tr>\n",
       "      <th>14826</th>\n",
       "      <td>[0.066592515]</td>\n",
       "      <td>1.000000</td>\n",
       "      <td>0.998845</td>\n",
       "      <td>1.000578</td>\n",
       "    </tr>\n",
       "    <tr>\n",
       "      <th>14827</th>\n",
       "      <td>[0.051703036]</td>\n",
       "      <td>1.000000</td>\n",
       "      <td>1.000000</td>\n",
       "      <td>1.000000</td>\n",
       "    </tr>\n",
       "  </tbody>\n",
       "</table>\n",
       "<p>14828 rows × 4 columns</p>\n",
       "</div>"
      ],
      "text/plain": [
       "          thresholds       tpr       fpr  tpr/sqrt(fpr)\n",
       "0           1.999043  0.000000  0.000000            NaN\n",
       "1       [0.99904287]  0.000050  0.000000            inf\n",
       "2       [0.98344207]  0.015881  0.000000            inf\n",
       "3       [0.98341775]  0.015881  0.000050       2.241011\n",
       "4       [0.98331225]  0.016030  0.000050       2.262086\n",
       "...              ...       ...       ...            ...\n",
       "14823   [0.06908971]  0.999900  0.998443       1.000680\n",
       "14824   [0.06908652]  0.999950  0.998443       1.000729\n",
       "14825   [0.06678262]  0.999950  0.998845       1.000528\n",
       "14826  [0.066592515]  1.000000  0.998845       1.000578\n",
       "14827  [0.051703036]  1.000000  1.000000       1.000000\n",
       "\n",
       "[14828 rows x 4 columns]"
      ]
     },
     "execution_count": 32,
     "metadata": {},
     "output_type": "execute_result"
    }
   ],
   "source": [
    "data_roc = {'thresholds': thresholds, 'tpr': tpr, 'fpr': fpr, 'tpr/sqrt(fpr)':tpr/np.sqrt(fpr)}\n",
    "df_roc = pd.DataFrame(data_roc)\n",
    "df_roc"
   ]
  },
  {
   "cell_type": "code",
   "execution_count": null,
   "metadata": {},
   "outputs": [],
   "source": []
  },
  {
   "cell_type": "code",
   "execution_count": 33,
   "metadata": {},
   "outputs": [
    {
     "data": {
      "text/html": [
       "<div>\n",
       "<style scoped>\n",
       "    .dataframe tbody tr th:only-of-type {\n",
       "        vertical-align: middle;\n",
       "    }\n",
       "\n",
       "    .dataframe tbody tr th {\n",
       "        vertical-align: top;\n",
       "    }\n",
       "\n",
       "    .dataframe thead th {\n",
       "        text-align: right;\n",
       "    }\n",
       "</style>\n",
       "<table border=\"1\" class=\"dataframe\">\n",
       "  <thead>\n",
       "    <tr style=\"text-align: right;\">\n",
       "      <th></th>\n",
       "      <th>thresholds</th>\n",
       "      <th>tpr</th>\n",
       "      <th>fpr</th>\n",
       "      <th>tpr/sqrt(fpr)</th>\n",
       "    </tr>\n",
       "  </thead>\n",
       "  <tbody>\n",
       "    <tr>\n",
       "      <th>0</th>\n",
       "      <td>1.999043</td>\n",
       "      <td>0.000000</td>\n",
       "      <td>0.000000</td>\n",
       "      <td>NaN</td>\n",
       "    </tr>\n",
       "    <tr>\n",
       "      <th>1</th>\n",
       "      <td>[0.99904287]</td>\n",
       "      <td>0.000050</td>\n",
       "      <td>0.000000</td>\n",
       "      <td>inf</td>\n",
       "    </tr>\n",
       "    <tr>\n",
       "      <th>2</th>\n",
       "      <td>[0.98344207]</td>\n",
       "      <td>0.015881</td>\n",
       "      <td>0.000000</td>\n",
       "      <td>inf</td>\n",
       "    </tr>\n",
       "    <tr>\n",
       "      <th>3</th>\n",
       "      <td>[0.98341775]</td>\n",
       "      <td>0.015881</td>\n",
       "      <td>0.000050</td>\n",
       "      <td>2.241011</td>\n",
       "    </tr>\n",
       "    <tr>\n",
       "      <th>4</th>\n",
       "      <td>[0.98331225]</td>\n",
       "      <td>0.016030</td>\n",
       "      <td>0.000050</td>\n",
       "      <td>2.262086</td>\n",
       "    </tr>\n",
       "    <tr>\n",
       "      <th>5</th>\n",
       "      <td>[0.9832807]</td>\n",
       "      <td>0.016030</td>\n",
       "      <td>0.000100</td>\n",
       "      <td>1.599536</td>\n",
       "    </tr>\n",
       "    <tr>\n",
       "      <th>6</th>\n",
       "      <td>[0.9829861]</td>\n",
       "      <td>0.016528</td>\n",
       "      <td>0.000100</td>\n",
       "      <td>1.649211</td>\n",
       "    </tr>\n",
       "    <tr>\n",
       "      <th>7</th>\n",
       "      <td>[0.9829685]</td>\n",
       "      <td>0.016528</td>\n",
       "      <td>0.000151</td>\n",
       "      <td>1.346576</td>\n",
       "    </tr>\n",
       "    <tr>\n",
       "      <th>8</th>\n",
       "      <td>[0.9779111]</td>\n",
       "      <td>0.023348</td>\n",
       "      <td>0.000151</td>\n",
       "      <td>1.902241</td>\n",
       "    </tr>\n",
       "    <tr>\n",
       "      <th>9</th>\n",
       "      <td>[0.9777658]</td>\n",
       "      <td>0.023348</td>\n",
       "      <td>0.000201</td>\n",
       "      <td>1.647389</td>\n",
       "    </tr>\n",
       "    <tr>\n",
       "      <th>10</th>\n",
       "      <td>[0.97711706]</td>\n",
       "      <td>0.023996</td>\n",
       "      <td>0.000201</td>\n",
       "      <td>1.693052</td>\n",
       "    </tr>\n",
       "    <tr>\n",
       "      <th>11</th>\n",
       "      <td>[0.97709775]</td>\n",
       "      <td>0.023996</td>\n",
       "      <td>0.000251</td>\n",
       "      <td>1.514312</td>\n",
       "    </tr>\n",
       "    <tr>\n",
       "      <th>12</th>\n",
       "      <td>[0.9752297]</td>\n",
       "      <td>0.026684</td>\n",
       "      <td>0.000251</td>\n",
       "      <td>1.683965</td>\n",
       "    </tr>\n",
       "    <tr>\n",
       "      <th>13</th>\n",
       "      <td>[0.97522235]</td>\n",
       "      <td>0.026684</td>\n",
       "      <td>0.000301</td>\n",
       "      <td>1.537243</td>\n",
       "    </tr>\n",
       "    <tr>\n",
       "      <th>14</th>\n",
       "      <td>[0.97511464]</td>\n",
       "      <td>0.026783</td>\n",
       "      <td>0.000301</td>\n",
       "      <td>1.542979</td>\n",
       "    </tr>\n",
       "    <tr>\n",
       "      <th>15</th>\n",
       "      <td>[0.97506833]</td>\n",
       "      <td>0.026783</td>\n",
       "      <td>0.000352</td>\n",
       "      <td>1.428521</td>\n",
       "    </tr>\n",
       "    <tr>\n",
       "      <th>16</th>\n",
       "      <td>[0.9724512]</td>\n",
       "      <td>0.030965</td>\n",
       "      <td>0.000352</td>\n",
       "      <td>1.651561</td>\n",
       "    </tr>\n",
       "    <tr>\n",
       "      <th>17</th>\n",
       "      <td>[0.9723774]</td>\n",
       "      <td>0.030965</td>\n",
       "      <td>0.000402</td>\n",
       "      <td>1.544894</td>\n",
       "    </tr>\n",
       "    <tr>\n",
       "      <th>18</th>\n",
       "      <td>[0.9723506]</td>\n",
       "      <td>0.031065</td>\n",
       "      <td>0.000402</td>\n",
       "      <td>1.549861</td>\n",
       "    </tr>\n",
       "    <tr>\n",
       "      <th>19</th>\n",
       "      <td>[0.972332]</td>\n",
       "      <td>0.031065</td>\n",
       "      <td>0.000452</td>\n",
       "      <td>1.461223</td>\n",
       "    </tr>\n",
       "  </tbody>\n",
       "</table>\n",
       "</div>"
      ],
      "text/plain": [
       "      thresholds       tpr       fpr  tpr/sqrt(fpr)\n",
       "0       1.999043  0.000000  0.000000            NaN\n",
       "1   [0.99904287]  0.000050  0.000000            inf\n",
       "2   [0.98344207]  0.015881  0.000000            inf\n",
       "3   [0.98341775]  0.015881  0.000050       2.241011\n",
       "4   [0.98331225]  0.016030  0.000050       2.262086\n",
       "5    [0.9832807]  0.016030  0.000100       1.599536\n",
       "6    [0.9829861]  0.016528  0.000100       1.649211\n",
       "7    [0.9829685]  0.016528  0.000151       1.346576\n",
       "8    [0.9779111]  0.023348  0.000151       1.902241\n",
       "9    [0.9777658]  0.023348  0.000201       1.647389\n",
       "10  [0.97711706]  0.023996  0.000201       1.693052\n",
       "11  [0.97709775]  0.023996  0.000251       1.514312\n",
       "12   [0.9752297]  0.026684  0.000251       1.683965\n",
       "13  [0.97522235]  0.026684  0.000301       1.537243\n",
       "14  [0.97511464]  0.026783  0.000301       1.542979\n",
       "15  [0.97506833]  0.026783  0.000352       1.428521\n",
       "16   [0.9724512]  0.030965  0.000352       1.651561\n",
       "17   [0.9723774]  0.030965  0.000402       1.544894\n",
       "18   [0.9723506]  0.031065  0.000402       1.549861\n",
       "19    [0.972332]  0.031065  0.000452       1.461223"
      ]
     },
     "execution_count": 33,
     "metadata": {},
     "output_type": "execute_result"
    }
   ],
   "source": [
    "df_roc.head(20)"
   ]
  },
  {
   "cell_type": "code",
   "execution_count": 34,
   "metadata": {},
   "outputs": [
    {
     "data": {
      "image/png": "[encoded data removed]",
      "text/plain": [
       "<Figure size 432x288 with 1 Axes>"
      ]
     },
     "metadata": {
      "needs_background": "light"
     },
     "output_type": "display_data"
    }
   ],
   "source": [
    "plt.plot(df_roc['thresholds'][3:], df_roc['tpr/sqrt(fpr)'][3:])\n",
    "plt.show()"
   ]
  },
  {
   "cell_type": "code",
   "execution_count": 35,
   "metadata": {},
   "outputs": [
    {
     "data": {
      "text/plain": [
       "2.2620861410776616"
      ]
     },
     "execution_count": 35,
     "metadata": {},
     "output_type": "execute_result"
    }
   ],
   "source": [
    "max(df_roc['tpr/sqrt(fpr)'][3:])"
   ]
  },
  {
   "cell_type": "code",
   "execution_count": 36,
   "metadata": {},
   "outputs": [
    {
     "data": {
      "image/png": "[encoded data removed]",
      "text/plain": [
       "<Figure size 432x288 with 1 Axes>"
      ]
     },
     "metadata": {
      "needs_background": "light"
     },
     "output_type": "display_data"
    },
    {
     "name": "stdout",
     "output_type": "stream",
     "text": [
      "0.7974144824431451\n"
     ]
    }
   ],
   "source": [
    "# Plot precision recall curve\n",
    "from sklearn.metrics import average_precision_score\n",
    "\n",
    "y_true = df['True_Val']\n",
    "y_score = df['Predicted']\n",
    "\n",
    "# calculate the precision-recall curve\n",
    "precision, recall, _ = precision_recall_curve(y_true, y_score)\n",
    "\n",
    "# plot the precision-recall curve\n",
    "plt.step(recall, precision, color='b', alpha=0.2, where='post')\n",
    "plt.fill_between(recall, precision, step='post', alpha=0.2, color='b')\n",
    "plt.xlabel('Recall')\n",
    "plt.ylabel('Precision')\n",
    "plt.ylim([0.0, 1.05])\n",
    "plt.xlim([0.0, 1.0])\n",
    "plt.title('Precision-Recall Curve')\n",
    "plt.show()\n",
    "\n",
    "AUC = average_precision_score(y_true, y_score)   #0.793, pretty similar to roc AUC\n",
    "print(AUC)"
   ]
  },
  {
   "cell_type": "code",
   "execution_count": 37,
   "metadata": {},
   "outputs": [
    {
     "name": "stdout",
     "output_type": "stream",
     "text": [
      "0        [0.54482555]\n",
      "22198    [0.17425296]\n",
      "22197     [0.5532861]\n",
      "22196     [0.1164414]\n",
      "22194     [0.5157712]\n",
      "             ...     \n",
      "6990      [0.8386377]\n",
      "25938    [0.91174364]\n",
      "11553     [0.6412432]\n",
      "25955     [0.5260885]\n",
      "19999    [0.53087527]\n",
      "Name: Predicted, Length: 40000, dtype: object\n"
     ]
    }
   ],
   "source": [
    "df['True_Val']\n",
    "x = df['Predicted']\n",
    "print(x)"
   ]
  },
  {
   "cell_type": "markdown",
   "metadata": {},
   "source": [
    "# Significance\n",
    "\n",
    "$$ Z = \\frac{s}{\\sqrt(B+\\sigma_s^{2})}  $$\n",
    "\n",
    "s = number of signal\n",
    "\n",
    "B = number of background\n",
    "\n",
    "$\\sigma_s$ = statistical uncertainty (~10% of B)"
   ]
  },
  {
   "cell_type": "code",
   "execution_count": 39,
   "metadata": {},
   "outputs": [
    {
     "name": "stdout",
     "output_type": "stream",
     "text": [
      "40040.347641944885\n",
      "883.4215088561177\n"
     ]
    },
    {
     "name": "stderr",
     "output_type": "stream",
     "text": [
      "<ipython-input-39-93c52e230798>:22: RuntimeWarning: divide by zero encountered in double_scalars\n",
      "  z_i = num_signal_events / np.sqrt(num_bg_events)\n",
      "<ipython-input-39-93c52e230798>:22: RuntimeWarning: invalid value encountered in double_scalars\n",
      "  z_i = num_signal_events / np.sqrt(num_bg_events)\n"
     ]
    },
    {
     "data": {
      "image/png": "[encoded data removed]",
      "text/plain": [
       "<Figure size 432x288 with 1 Axes>"
      ]
     },
     "metadata": {
      "needs_background": "light"
     },
     "output_type": "display_data"
    },
    {
     "name": "stdout",
     "output_type": "stream",
     "text": [
      "95\n",
      "7.593911955091484\n"
     ]
    }
   ],
   "source": [
    "# Easier Idea\n",
    "\n",
    "# binwidth = 1/100\n",
    "# n_bg, bins_bg, patches_bg = plt.hist(x= lst_of_values_bg_pred, bins=np.arange(0, 1 + binwidth, binwidth),\n",
    "#                                      weights = df2.xs_weight[:len(lst_of_values_bg_pred)]*3e5*(651387/100000),\n",
    "#          histtype = 'step', label = 'Background')\n",
    "# n_signal, bins_signal, patches_signal = plt.hist(x= lst_of_values_signal_pred, bins=np.arange(0, 1 + binwidth, binwidth),\n",
    "#                                                  weights = df4.xs_weight[:len(lst_of_values_signal_pred)]*3e5*(177858/100000),\n",
    "#          histtype = 'step', label = 'Signal')\n",
    "# plt.show()\n",
    "# calculate the number of events\n",
    "num_bg_events = np.sum(n_bg)\n",
    "num_signal_events = np.sum(n_signal)\n",
    "\n",
    "print(num_bg_events)\n",
    "print(num_signal_events)\n",
    "\n",
    "z = np.empty(len(bins_bg))\n",
    "for i in range(len(bins_bg)):\n",
    "    num_bg_events = np.sum(n_bg[i:])\n",
    "    num_signal_events = np.sum(n_signal[i:])\n",
    "    z_i = num_signal_events / np.sqrt(num_bg_events)\n",
    "    z[i] = z_i\n",
    "#print(z)\n",
    "\n",
    "\n",
    "x = np.linspace(0,1,len(z))\n",
    "plt.plot(bins_bg,z[:])\n",
    "#plt.xlim([0, 1.0])\n",
    "#plt.ylim([0.0, 1.05])\n",
    "plt.xlabel('Threshold')\n",
    "plt.ylabel('Significance, z')\n",
    "plt.title('Significance curve with no sigma')\n",
    "plt.show()\n",
    "\n",
    "\n",
    "mask = z < 1e10     #just so doesnt include infs\n",
    "index_of_max = np.argmax(z[mask])\n",
    "max_value = np.amax(z[mask])\n",
    "\n",
    "\n",
    "#index_of_max = np.nanargmax(z[:])\n",
    "#max_value = np.nanmax(z[:])     # 1 point before last, should probs generalise so that can deal w inf etc \n",
    "print(index_of_max)\n",
    "print(max_value)"
   ]
  },
  {
   "cell_type": "code",
   "execution_count": null,
   "metadata": {},
   "outputs": [],
   "source": []
  },
  {
   "cell_type": "code",
   "execution_count": null,
   "metadata": {},
   "outputs": [],
   "source": []
  },
  {
   "cell_type": "code",
   "execution_count": 40,
   "metadata": {},
   "outputs": [
    {
     "data": {
      "image/png": "[encoded data removed]",
      "text/plain": [
       "<Figure size 432x288 with 1 Axes>"
      ]
     },
     "metadata": {
      "needs_background": "light"
     },
     "output_type": "display_data"
    },
    {
     "data": {
      "image/png": "[encoded data removed]",
      "text/plain": [
       "<Figure size 432x288 with 1 Axes>"
      ]
     },
     "metadata": {
      "needs_background": "light"
     },
     "output_type": "display_data"
    }
   ],
   "source": [
    "# See weight is const basically, so just use a value\n",
    "\n",
    "semi_xs_weight = df2['xs_weight']   # plot to show is wrong, at least 1 -ive val (is this right?)\n",
    "signal_xs_weight = df4['xs_weight'] \n",
    "#plt.hist(x=semi_xs_weight, bins = 10, weights = df2.xs_weight, density = True, histtype = 'step', label = 'Background')\n",
    "plt.hist(x=signal_xs_weight, bins = 10, weights = df4.xs_weight, density = True, histtype = 'step', label = 'Signal')\n",
    "plt.title('xs_weight')\n",
    "plt.legend()\n",
    "plt.show() \n",
    "\n",
    "semi_xs_weight = df2['xs_weight']   # plot to show is wrong, at least 1 -ive val (is this right?)\n",
    "signal_xs_weight = df4['xs_weight'] \n",
    "plt.hist(x=semi_xs_weight, bins = 10, weights = df2.xs_weight, density = True, histtype = 'step', label = 'Background')\n",
    "#plt.hist(x=signal_xs_weight, bins = 10, weights = df4.xs_weight, density = True, histtype = 'step', label = 'Signal')\n",
    "plt.title('xs_weight')\n",
    "plt.legend()\n",
    "plt.show() "
   ]
  },
  {
   "cell_type": "code",
   "execution_count": 41,
   "metadata": {},
   "outputs": [
    {
     "name": "stdout",
     "output_type": "stream",
     "text": [
      "Total number of semileptonic events is 0.3176444579366944\n",
      "Total number of ttH125 events is 0.02608758435940217\n",
      "\n",
      "Total number of semileptonic events is 150000000\n",
      "Total number of ttH125 events is 150000.0\n"
     ]
    }
   ],
   "source": [
    "#Also, to make sure we get the event weights correct, can each of you try and produce a number for the \n",
    "#total number of events you obtain when using all events in the ttH125 and ttbar semileptonic dataframes,\n",
    "#normalized to 300/fb?\n",
    "#Hopefully you all arrive at the same result.\n",
    "\n",
    "# Sligthly confused, does x_s weight normalised already entail no. events,\n",
    "# So xs_weight * 300,000 is no events\n",
    "\n",
    "#Or\n",
    "\n",
    "# Are we meant to use the equation you showed us last week and work out what N should be\n",
    "\n",
    "#Or\n",
    "\n",
    "# do both and compare them as should be same?\n",
    "\n",
    "bg_weight = semi_xs_weight[1]\n",
    "signal_weight = signal_xs_weight[1]\n",
    "\n",
    "# total number SL\n",
    "sl_tot_events = bg_weight * 300000      # weight per pb to 300fb\n",
    "\n",
    "# total number signal\n",
    "signal_tot_events = signal_weight * 300000\n",
    "\n",
    "print('Total number of semileptonic events is {}'.format(sl_tot_events))\n",
    "print('Total number of ttH125 events is {}'.format(signal_tot_events))\n",
    "print()\n",
    "\n",
    "sl_events = 300000 * 500\n",
    "signal_events = 300000 * 0.5\n",
    "\n",
    "print('Total number of semileptonic events is {}'.format(sl_events)) #150000k\n",
    "print('Total number of ttH125 events is {}'.format(signal_events))   #150k\n",
    "#tot_events = "
   ]
  }
 ],
 "metadata": {
  "kernelspec": {
   "display_name": "Python 3",
   "language": "python",
   "name": "python3"
  },
  "language_info": {
   "codemirror_mode": {
    "name": "ipython",
    "version": 3
   },
   "file_extension": ".py",
   "mimetype": "text/x-python",
   "name": "python",
   "nbconvert_exporter": "python",
   "pygments_lexer": "ipython3",
   "version": "3.7.3"
  }
 },
 "nbformat": 4,
 "nbformat_minor": 4
}
