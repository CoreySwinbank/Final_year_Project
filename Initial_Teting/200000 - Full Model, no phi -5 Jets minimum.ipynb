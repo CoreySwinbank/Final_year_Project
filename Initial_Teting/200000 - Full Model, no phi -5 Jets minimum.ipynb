{
 "cells": [
  {
   "cell_type": "code",
   "execution_count": 1,
   "metadata": {},
   "outputs": [],
   "source": [
    "import numpy as np\n",
    "import pandas as pd \n",
    "from sklearn.model_selection import train_test_split\n",
    "from sklearn.preprocessing import StandardScaler\n",
    "from tensorflow import keras\n",
    "#from tensorflow.keras.utils import to_categorical ## specific  one I wanna use\n",
    "from tensorflow.keras import utils\n",
    "#from tensorflow.keras.layers import Input, Dense, Dropout  # Specific ones I wanna use, can just import whole module\n",
    "from tensorflow.keras import layers \n",
    "from tensorflow.keras.models import Model\n",
    "import h5py\n",
    "import tables\n",
    "import matplotlib.pyplot as plt\n",
    "#import tensorflow as tf\n",
    "from sklearn.metrics import confusion_matrix, ConfusionMatrixDisplay\n",
    "from sklearn.metrics import plot_confusion_matrix\n",
    "from sklearn.metrics import roc_curve, auc\n",
    "from sklearn.metrics import precision_recall_curve\n",
    "\n"
   ]
  },
  {
   "cell_type": "code",
   "execution_count": 2,
   "metadata": {},
   "outputs": [
    {
     "data": {
      "text/plain": [
       "4"
      ]
     },
     "execution_count": 2,
     "metadata": {},
     "output_type": "execute_result"
    }
   ],
   "source": [
    "x=1\n",
    "y=3\n",
    "x+y"
   ]
  },
  {
   "cell_type": "code",
   "execution_count": 3,
   "metadata": {},
   "outputs": [
    {
     "name": "stdout",
     "output_type": "stream",
     "text": [
      "Contents of the file:\n",
      "df\n",
      "Dataframe columns:\n",
      "Index(['dataset', 'entry', 'BiasedDPhi', 'DiJet_mass', 'HT',\n",
      "       'InputMet_InputJet_mindPhi', 'InputMet_phi', 'InputMet_pt', 'MHT_phi',\n",
      "       'MHT_pt', 'MinChi', 'MinOmegaHat', 'MinOmegaTilde',\n",
      "       'boostedObject_area', 'boostedObject_eta', 'boostedObject_mass',\n",
      "       'boostedObject_phi', 'boostedObject_pt', 'boostedTop_area',\n",
      "       'boostedTop_eta', 'boostedTop_mass', 'boostedTop_phi', 'boostedTop_pt',\n",
      "       'boostedTop_tag', 'boostedV_area', 'boostedV_eta', 'boostedV_mass',\n",
      "       'boostedV_phi', 'boostedV_pt', 'boostedV_tag', 'cleanedBJet_eta',\n",
      "       'cleanedBJet_phi', 'cleanedBJet_pt', 'cleanedJet_area',\n",
      "       'cleanedJet_btagDeepB', 'cleanedJet_chHEF', 'cleanedJet_eta',\n",
      "       'cleanedJet_mass', 'cleanedJet_neHEF', 'cleanedJet_phi',\n",
      "       'cleanedJet_pt', 'hashed_filename', 'ncleanedBJet', 'ncleanedJet',\n",
      "       'weight_nominal', 'xs_weight'],\n",
      "      dtype='object')\n",
      "Contents of the file:\n",
      "df\n",
      "651387\n",
      "177858\n"
     ]
    }
   ],
   "source": [
    "input_file2 = \"/scratch/ys20884/ml_vars/TTToSemiLeptonic/df_ml_inputs.hd5\"\n",
    "\n",
    "with h5py.File(input_file2, \"r\") as f:\n",
    "    print(\"Contents of the file:\")\n",
    "    for key in f.keys():\n",
    "        print(key)\n",
    "\n",
    "df2 = pd.read_hdf(input_file2, key=\"df\")\n",
    "print(\"Dataframe columns:\")\n",
    "print(df2.columns)\n",
    "\n",
    "\n",
    "input_file4 = \"/scratch/ys20884/ml_vars/ttH125/df_ml_inputs.hd5\"\n",
    "\n",
    "with h5py.File(input_file4, \"r\") as f:\n",
    "    print(\"Contents of the file:\")\n",
    "    for key in f.keys():\n",
    "        print(key)\n",
    "\n",
    "df4 = pd.read_hdf(input_file4, key=\"df\")\n",
    "#print(\"Dataframe columns:\")\n",
    "#print(df4.columns)\n",
    "print(len(df2))\n",
    "print(len(df4))"
   ]
  },
  {
   "cell_type": "code",
   "execution_count": 4,
   "metadata": {},
   "outputs": [],
   "source": [
    "#df2 = pd.read_hdf(input_file2, key=\"df\")\n",
    "#df4 = pd.read_hdf(input_file4, key=\"df\")"
   ]
  },
  {
   "cell_type": "code",
   "execution_count": 5,
   "metadata": {
    "scrolled": false
   },
   "outputs": [],
   "source": [
    "# This cell is going to implement so that only processes with 5 jets minimum are selected\n",
    "\n",
    "# Create a boolean mask to filter for rows with 5 or more cleaned jets\n",
    "mask_bg = df2['ncleanedJet'] >= 5\n",
    "mask_signal = df4['ncleanedJet'] >= 5\n",
    "\n",
    "# Use the mask to select the columns that meet the filter condition\n",
    "filtered_bg = df2.loc[mask_bg]\n",
    "filtered_signal = df4.loc[mask_signal]\n",
    "\n",
    "# want to reset the index\n",
    "filtered_bg = filtered_bg.reset_index(drop=True)\n",
    "filtered_signal = filtered_signal.reset_index(drop=True)\n"
   ]
  },
  {
   "cell_type": "code",
   "execution_count": 6,
   "metadata": {},
   "outputs": [
    {
     "name": "stdout",
     "output_type": "stream",
     "text": [
      "177858\n",
      "388600 153571\n"
     ]
    }
   ],
   "source": [
    "print(len(df4))\n",
    "print(len(filtered_bg), len(filtered_signal))"
   ]
  },
  {
   "cell_type": "code",
   "execution_count": 7,
   "metadata": {},
   "outputs": [
    {
     "name": "stdout",
     "output_type": "stream",
     "text": [
      "40.34268414936128% of data has been removed from background \n",
      "There are now 388600 events in background\n",
      "13.655275556904947% of data has been removed from signal \n",
      "There are now 153571 events in background\n"
     ]
    }
   ],
   "source": [
    "print(f'{(len(df2) - len(filtered_bg) )/ len(df2)*100}% of data has been removed from background ')\n",
    "print(f'There are now {len(filtered_bg)} events in background')\n",
    "print(f'{(len(df4) - len(filtered_signal) )/ len(df4)*100}% of data has been removed from signal ')\n",
    "print(f'There are now {len(filtered_signal)} events in background')"
   ]
  },
  {
   "cell_type": "code",
   "execution_count": 8,
   "metadata": {},
   "outputs": [],
   "source": [
    "# Change filtered_bg to df2 and filtered_signal to df4, so dont have to change \n",
    "# all accounts of this throughout the rest of the code\n",
    "\n",
    "df2 = filtered_bg\n",
    "df4 = filtered_signal\n"
   ]
  },
  {
   "cell_type": "code",
   "execution_count": 9,
   "metadata": {
    "scrolled": true
   },
   "outputs": [
    {
     "name": "stdout",
     "output_type": "stream",
     "text": [
      "200000\n"
     ]
    },
    {
     "data": {
      "text/html": [
       "<div>\n",
       "<style scoped>\n",
       "    .dataframe tbody tr th:only-of-type {\n",
       "        vertical-align: middle;\n",
       "    }\n",
       "\n",
       "    .dataframe tbody tr th {\n",
       "        vertical-align: top;\n",
       "    }\n",
       "\n",
       "    .dataframe thead th {\n",
       "        text-align: right;\n",
       "    }\n",
       "</style>\n",
       "<table border=\"1\" class=\"dataframe\">\n",
       "  <thead>\n",
       "    <tr style=\"text-align: right;\">\n",
       "      <th></th>\n",
       "      <th>dataset</th>\n",
       "      <th>entry</th>\n",
       "      <th>BiasedDPhi</th>\n",
       "      <th>DiJet_mass</th>\n",
       "      <th>HT</th>\n",
       "      <th>InputMet_InputJet_mindPhi</th>\n",
       "      <th>InputMet_phi</th>\n",
       "      <th>InputMet_pt</th>\n",
       "      <th>MHT_phi</th>\n",
       "      <th>MHT_pt</th>\n",
       "      <th>...</th>\n",
       "      <th>cleanedJet_eta</th>\n",
       "      <th>cleanedJet_mass</th>\n",
       "      <th>cleanedJet_neHEF</th>\n",
       "      <th>cleanedJet_phi</th>\n",
       "      <th>cleanedJet_pt</th>\n",
       "      <th>hashed_filename</th>\n",
       "      <th>ncleanedBJet</th>\n",
       "      <th>ncleanedJet</th>\n",
       "      <th>weight_nominal</th>\n",
       "      <th>xs_weight</th>\n",
       "    </tr>\n",
       "  </thead>\n",
       "  <tbody>\n",
       "    <tr>\n",
       "      <th>0</th>\n",
       "      <td>0</td>\n",
       "      <td>46</td>\n",
       "      <td>2.162490</td>\n",
       "      <td>129.015341</td>\n",
       "      <td>466.076111</td>\n",
       "      <td>1.818359</td>\n",
       "      <td>2.597656</td>\n",
       "      <td>308.250</td>\n",
       "      <td>2.504940</td>\n",
       "      <td>339.473511</td>\n",
       "      <td>...</td>\n",
       "      <td>[-0.5136719, -0.95703125, 0.48168945, -0.11907...</td>\n",
       "      <td>[24.203125, 17.90625, 12.1015625, 7.8515625, 7...</td>\n",
       "      <td>[0.013671875, 0.09667969, 0.171875, 0.12890625...</td>\n",
       "      <td>[-0.5839844, -1.3388672, 0.30273438, 0.7788086...</td>\n",
       "      <td>[158.16063, 141.62325, 66.15963, 60.8369, 39.2...</td>\n",
       "      <td>-5233776389657243962</td>\n",
       "      <td>1</td>\n",
       "      <td>5</td>\n",
       "      <td>1.377187e-06</td>\n",
       "      <td>0.000001</td>\n",
       "    </tr>\n",
       "    <tr>\n",
       "      <th>1</th>\n",
       "      <td>0</td>\n",
       "      <td>240</td>\n",
       "      <td>3.127692</td>\n",
       "      <td>256.094971</td>\n",
       "      <td>444.758789</td>\n",
       "      <td>0.022552</td>\n",
       "      <td>-1.201172</td>\n",
       "      <td>219.125</td>\n",
       "      <td>-1.537037</td>\n",
       "      <td>228.633820</td>\n",
       "      <td>...</td>\n",
       "      <td>[0.2298584, 1.9931641, 0.8066406, 1.2314453, -...</td>\n",
       "      <td>[21.359375, 16.21875, 10.25, 7.5585938, 5.4492...</td>\n",
       "      <td>[0.08203125, 0.14648438, 0.1796875, 0.06103515...</td>\n",
       "      <td>[2.0839844, 1.6132812, -1.2236328, 0.1550293, ...</td>\n",
       "      <td>[182.53963, 85.12644, 69.15593, 68.64228, 39.2...</td>\n",
       "      <td>-5233776389657243962</td>\n",
       "      <td>1</td>\n",
       "      <td>5</td>\n",
       "      <td>7.287943e-07</td>\n",
       "      <td>0.000001</td>\n",
       "    </tr>\n",
       "    <tr>\n",
       "      <th>2</th>\n",
       "      <td>0</td>\n",
       "      <td>299</td>\n",
       "      <td>2.905946</td>\n",
       "      <td>580.818334</td>\n",
       "      <td>648.835327</td>\n",
       "      <td>0.474365</td>\n",
       "      <td>-0.402832</td>\n",
       "      <td>256.000</td>\n",
       "      <td>-0.473829</td>\n",
       "      <td>287.640656</td>\n",
       "      <td>...</td>\n",
       "      <td>[0.84277344, -0.6044922, 1.4814453, -1.3603516...</td>\n",
       "      <td>[33.78125, 34.46875, 13.0859375, 10.3046875, 7...</td>\n",
       "      <td>[0.048828125, 0.12402344, 0.08496094, 0.077148...</td>\n",
       "      <td>[2.3886719, -0.8769531, 2.3066406, -2.1113281,...</td>\n",
       "      <td>[336.12476, 155.0912, 69.44901, 48.36236, 39.8...</td>\n",
       "      <td>-5233776389657243962</td>\n",
       "      <td>0</td>\n",
       "      <td>5</td>\n",
       "      <td>9.329514e-07</td>\n",
       "      <td>0.000001</td>\n",
       "    </tr>\n",
       "    <tr>\n",
       "      <th>3</th>\n",
       "      <td>0</td>\n",
       "      <td>422</td>\n",
       "      <td>2.619020</td>\n",
       "      <td>205.322889</td>\n",
       "      <td>704.391113</td>\n",
       "      <td>2.003906</td>\n",
       "      <td>1.114258</td>\n",
       "      <td>281.250</td>\n",
       "      <td>1.223088</td>\n",
       "      <td>319.017120</td>\n",
       "      <td>...</td>\n",
       "      <td>[-0.10223389, -0.74560547, 0.21838379, -0.5053...</td>\n",
       "      <td>[18.3125, 28.359375, 24.375, 15.5, 12.875, 6.8...</td>\n",
       "      <td>[0.1796875, 0.061035156, 0.024902344, 0.122070...</td>\n",
       "      <td>[-0.8901367, -2.2441406, -1.7099609, -1.620117...</td>\n",
       "      <td>[168.69464, 125.064186, 118.458534, 93.086205,...</td>\n",
       "      <td>-5233776389657243962</td>\n",
       "      <td>1</td>\n",
       "      <td>8</td>\n",
       "      <td>1.132755e-06</td>\n",
       "      <td>0.000001</td>\n",
       "    </tr>\n",
       "    <tr>\n",
       "      <th>4</th>\n",
       "      <td>0</td>\n",
       "      <td>423</td>\n",
       "      <td>0.901701</td>\n",
       "      <td>328.267567</td>\n",
       "      <td>514.643127</td>\n",
       "      <td>1.107422</td>\n",
       "      <td>-0.027954</td>\n",
       "      <td>236.625</td>\n",
       "      <td>-0.095316</td>\n",
       "      <td>257.918945</td>\n",
       "      <td>...</td>\n",
       "      <td>[1.6123047, 0.16394043, 1.4013672, 1.0810547, ...</td>\n",
       "      <td>[22.203125, 17.859375, 15.453125, 12.8671875, ...</td>\n",
       "      <td>[0.025390625, 0.30859375, 0.16210938, 0.029052...</td>\n",
       "      <td>[-3.109375, 1.0800781, -1.9160156, -2.8066406,...</td>\n",
       "      <td>[220.85329, 88.87581, 78.16917, 72.99306, 53.7...</td>\n",
       "      <td>-5233776389657243962</td>\n",
       "      <td>1</td>\n",
       "      <td>5</td>\n",
       "      <td>7.838240e-07</td>\n",
       "      <td>0.000001</td>\n",
       "    </tr>\n",
       "  </tbody>\n",
       "</table>\n",
       "<p>5 rows × 46 columns</p>\n",
       "</div>"
      ],
      "text/plain": [
       "   dataset  entry  BiasedDPhi  DiJet_mass          HT  \\\n",
       "0        0     46    2.162490  129.015341  466.076111   \n",
       "1        0    240    3.127692  256.094971  444.758789   \n",
       "2        0    299    2.905946  580.818334  648.835327   \n",
       "3        0    422    2.619020  205.322889  704.391113   \n",
       "4        0    423    0.901701  328.267567  514.643127   \n",
       "\n",
       "   InputMet_InputJet_mindPhi  InputMet_phi  InputMet_pt   MHT_phi      MHT_pt  \\\n",
       "0                   1.818359      2.597656      308.250  2.504940  339.473511   \n",
       "1                   0.022552     -1.201172      219.125 -1.537037  228.633820   \n",
       "2                   0.474365     -0.402832      256.000 -0.473829  287.640656   \n",
       "3                   2.003906      1.114258      281.250  1.223088  319.017120   \n",
       "4                   1.107422     -0.027954      236.625 -0.095316  257.918945   \n",
       "\n",
       "   ...                                     cleanedJet_eta  \\\n",
       "0  ...  [-0.5136719, -0.95703125, 0.48168945, -0.11907...   \n",
       "1  ...  [0.2298584, 1.9931641, 0.8066406, 1.2314453, -...   \n",
       "2  ...  [0.84277344, -0.6044922, 1.4814453, -1.3603516...   \n",
       "3  ...  [-0.10223389, -0.74560547, 0.21838379, -0.5053...   \n",
       "4  ...  [1.6123047, 0.16394043, 1.4013672, 1.0810547, ...   \n",
       "\n",
       "                                     cleanedJet_mass  \\\n",
       "0  [24.203125, 17.90625, 12.1015625, 7.8515625, 7...   \n",
       "1  [21.359375, 16.21875, 10.25, 7.5585938, 5.4492...   \n",
       "2  [33.78125, 34.46875, 13.0859375, 10.3046875, 7...   \n",
       "3  [18.3125, 28.359375, 24.375, 15.5, 12.875, 6.8...   \n",
       "4  [22.203125, 17.859375, 15.453125, 12.8671875, ...   \n",
       "\n",
       "                                    cleanedJet_neHEF  \\\n",
       "0  [0.013671875, 0.09667969, 0.171875, 0.12890625...   \n",
       "1  [0.08203125, 0.14648438, 0.1796875, 0.06103515...   \n",
       "2  [0.048828125, 0.12402344, 0.08496094, 0.077148...   \n",
       "3  [0.1796875, 0.061035156, 0.024902344, 0.122070...   \n",
       "4  [0.025390625, 0.30859375, 0.16210938, 0.029052...   \n",
       "\n",
       "                                      cleanedJet_phi  \\\n",
       "0  [-0.5839844, -1.3388672, 0.30273438, 0.7788086...   \n",
       "1  [2.0839844, 1.6132812, -1.2236328, 0.1550293, ...   \n",
       "2  [2.3886719, -0.8769531, 2.3066406, -2.1113281,...   \n",
       "3  [-0.8901367, -2.2441406, -1.7099609, -1.620117...   \n",
       "4  [-3.109375, 1.0800781, -1.9160156, -2.8066406,...   \n",
       "\n",
       "                                       cleanedJet_pt      hashed_filename  \\\n",
       "0  [158.16063, 141.62325, 66.15963, 60.8369, 39.2... -5233776389657243962   \n",
       "1  [182.53963, 85.12644, 69.15593, 68.64228, 39.2... -5233776389657243962   \n",
       "2  [336.12476, 155.0912, 69.44901, 48.36236, 39.8... -5233776389657243962   \n",
       "3  [168.69464, 125.064186, 118.458534, 93.086205,... -5233776389657243962   \n",
       "4  [220.85329, 88.87581, 78.16917, 72.99306, 53.7... -5233776389657243962   \n",
       "\n",
       "  ncleanedBJet ncleanedJet weight_nominal xs_weight  \n",
       "0            1           5   1.377187e-06  0.000001  \n",
       "1            1           5   7.287943e-07  0.000001  \n",
       "2            0           5   9.329514e-07  0.000001  \n",
       "3            1           8   1.132755e-06  0.000001  \n",
       "4            1           5   7.838240e-07  0.000001  \n",
       "\n",
       "[5 rows x 46 columns]"
      ]
     },
     "execution_count": 9,
     "metadata": {},
     "output_type": "execute_result"
    }
   ],
   "source": [
    "# make one big dataframe, 200000 long to practice with\n",
    "df2 = df2[:100000]\n",
    "df4 = df4[:100000]\n",
    "df_total = df2.append(df4)\n",
    "print(len(df_total))\n",
    "\n",
    "# Background is 0\n",
    "# Signal is 1\n",
    "df_process = df_total['dataset']\n",
    "df_total['dataset'] = df_total['dataset'].replace({'ttH125': 1, 'TTToSemiLeptonic': 0})\n",
    "df_total.head()\n",
    "\n",
    "#print(df_process)"
   ]
  },
  {
   "cell_type": "code",
   "execution_count": 10,
   "metadata": {},
   "outputs": [
    {
     "name": "stdout",
     "output_type": "stream",
     "text": [
      "200000\n"
     ]
    }
   ],
   "source": [
    "print(len(df_total))"
   ]
  },
  {
   "cell_type": "code",
   "execution_count": 11,
   "metadata": {},
   "outputs": [
    {
     "data": {
      "text/plain": [
       "Index(['dataset', 'DiJet_mass', 'HT', 'InputMet_InputJet_mindPhi',\n",
       "       'InputMet_pt', 'MHT_pt', 'MinChi', 'MinOmegaHat', 'MinOmegaTilde',\n",
       "       'boostedObject_area', 'boostedObject_eta', 'boostedObject_mass',\n",
       "       'boostedObject_pt', 'boostedTop_area', 'boostedTop_eta',\n",
       "       'boostedTop_mass', 'boostedTop_pt', 'boostedTop_tag', 'boostedV_area',\n",
       "       'boostedV_eta', 'boostedV_mass', 'boostedV_pt', 'boostedV_tag',\n",
       "       'cleanedBJet_eta', 'cleanedBJet_pt', 'cleanedJet_area',\n",
       "       'cleanedJet_btagDeepB', 'cleanedJet_chHEF', 'cleanedJet_eta',\n",
       "       'cleanedJet_mass', 'cleanedJet_neHEF', 'cleanedJet_pt', 'ncleanedBJet',\n",
       "       'ncleanedJet'],\n",
       "      dtype='object')"
      ]
     },
     "execution_count": 11,
     "metadata": {},
     "output_type": "execute_result"
    }
   ],
   "source": [
    "df_weights = df_total['xs_weight']\n",
    "df_total.drop(['entry', 'BiasedDPhi', 'hashed_filename', 'weight_nominal', 'xs_weight', \n",
    "              'InputMet_phi', 'MHT_phi', 'boostedObject_phi', 'boostedTop_phi', 'boostedV_phi',\n",
    "              'cleanedBJet_phi','cleanedJet_phi'], axis=1, inplace=True)\n",
    "df_total.columns            # Said BiasedDPhi looks wrong\n"
   ]
  },
  {
   "cell_type": "code",
   "execution_count": 12,
   "metadata": {
    "scrolled": true
   },
   "outputs": [
    {
     "name": "stdout",
     "output_type": "stream",
     "text": [
      "0\n",
      "2\n"
     ]
    }
   ],
   "source": [
    "# Need to manipulate all features so that they are useable\n",
    "# Cell to put data names into to see what max array and min array size are\n",
    "# Should both be 1 if is to work\n",
    "y = []\n",
    "x = df_total['boostedObject_area']\n",
    "for i in x:\n",
    "    y.append(len(i))\n",
    "print(min(y))\n",
    "print(max(y))"
   ]
  },
  {
   "cell_type": "code",
   "execution_count": 13,
   "metadata": {},
   "outputs": [
    {
     "name": "stdout",
     "output_type": "stream",
     "text": [
      "Index(['dataset', 'DiJet_mass', 'HT', 'InputMet_InputJet_mindPhi',\n",
      "       'InputMet_pt', 'MHT_pt', 'MinChi', 'MinOmegaHat', 'MinOmegaTilde',\n",
      "       'boostedObject_area', 'boostedObject_eta', 'boostedObject_mass',\n",
      "       'boostedObject_pt', 'boostedTop_area', 'boostedTop_eta',\n",
      "       'boostedTop_mass', 'boostedTop_pt', 'boostedTop_tag', 'boostedV_area',\n",
      "       'boostedV_eta', 'boostedV_mass', 'boostedV_pt', 'boostedV_tag',\n",
      "       'cleanedBJet_eta', 'cleanedBJet_pt', 'cleanedJet_area',\n",
      "       'cleanedJet_btagDeepB', 'cleanedJet_chHEF', 'cleanedJet_eta',\n",
      "       'cleanedJet_mass', 'cleanedJet_neHEF', 'cleanedJet_pt', 'ncleanedBJet',\n",
      "       'ncleanedJet'],\n",
      "      dtype='object')\n"
     ]
    }
   ],
   "source": [
    "print(df_total.columns  )\n"
   ]
  },
  {
   "cell_type": "code",
   "execution_count": 14,
   "metadata": {},
   "outputs": [],
   "source": [
    "# A function that makes arrays in rows singular values, max if multiple in array, 0 if empty array\n",
    "def modify_array(arr):    \n",
    "    if len(arr) == 0:\n",
    "        return 0\n",
    "    else:\n",
    "    # takes leading jet    \n",
    "        return max(arr)    #Need values as floats, not as arrays as NN did not accept arrays, needed as float\n",
    "                            # If wanted arrays, put [] around returns, simple as that.\n",
    "\n",
    "# e.g. df[\"column_name\"] = df[\"column_name\"].apply(modify_array)#\n",
    "#e.g   df_total.boostedTop_area = df_total.boostedTop_area.apply(modify_array)"
   ]
  },
  {
   "cell_type": "code",
   "execution_count": 15,
   "metadata": {},
   "outputs": [],
   "source": [
    "# This should have manipulated all data so is now fit for a ML model\n",
    "for column in df_total:\n",
    "    if df_total[column].dtype == 'object':\n",
    "        df_total[column] = df_total[column].apply(modify_array)\n"
   ]
  },
  {
   "cell_type": "code",
   "execution_count": 16,
   "metadata": {},
   "outputs": [
    {
     "name": "stdout",
     "output_type": "stream",
     "text": [
      "There are [33] variables in this model\n",
      "The dataset has 200000 processes\n",
      "[33]\n"
     ]
    }
   ],
   "source": [
    "X = df_total.copy()    \n",
    "X.drop(['dataset'], axis = 1, inplace = True)   #Need to remove dataset (prediction) column\n",
    "y = df_total['dataset']\n",
    "\n",
    "# Break off validation set from training data\n",
    "X_train, X_valid, y_train, y_valid = train_test_split(X, y, train_size=0.8, test_size=0.2,\n",
    "                                                      random_state=0)\n",
    "\n",
    "input_shape = [X_train.shape[1]]\n",
    "print('There are', input_shape, 'variables in this model')\n",
    "print('The dataset has', len(y), 'processes')\n",
    "#print(len(x))\n",
    "#print(len(y))\n",
    "print(input_shape)"
   ]
  },
  {
   "cell_type": "code",
   "execution_count": 17,
   "metadata": {},
   "outputs": [],
   "source": [
    "#Define the Model\n",
    "\n",
    "model = keras.Sequential([\n",
    "    layers.BatchNormalization(input_shape=input_shape), \n",
    "    layers.Dense(units=256, activation='relu'),\n",
    "    layers.BatchNormalization(),\n",
    "    layers.Dropout(rate = 0.3), \n",
    "    layers.Dense(units=256, activation='relu'),\n",
    "    layers.BatchNormalization(),\n",
    "    layers.Dropout(rate = 0.3),\n",
    "    layers.Dense(units=1, activation='sigmoid'),\n",
    "])\n",
    "\n",
    "model.compile(\n",
    "    optimizer='adam',\n",
    "    loss='binary_crossentropy',\n",
    "    metrics=['binary_accuracy']\n",
    ")\n",
    "\n"
   ]
  },
  {
   "cell_type": "code",
   "execution_count": 18,
   "metadata": {
    "scrolled": true
   },
   "outputs": [
    {
     "name": "stdout",
     "output_type": "stream",
     "text": [
      "Epoch 1/200\n",
      "313/313 [==============================] - 13s 33ms/step - loss: 0.7009 - binary_accuracy: 0.6177 - val_loss: 0.6066 - val_binary_accuracy: 0.6709\n",
      "Epoch 2/200\n",
      "313/313 [==============================] - 12s 40ms/step - loss: 0.6170 - binary_accuracy: 0.6594 - val_loss: 0.5994 - val_binary_accuracy: 0.6738\n",
      "Epoch 3/200\n",
      "313/313 [==============================] - 13s 40ms/step - loss: 0.6090 - binary_accuracy: 0.6644 - val_loss: 0.5979 - val_binary_accuracy: 0.6746\n",
      "Epoch 4/200\n",
      "313/313 [==============================] - 14s 44ms/step - loss: 0.6029 - binary_accuracy: 0.6698 - val_loss: 0.5969 - val_binary_accuracy: 0.6763\n",
      "Epoch 5/200\n",
      "313/313 [==============================] - 14s 44ms/step - loss: 0.6004 - binary_accuracy: 0.6742 - val_loss: 0.5944 - val_binary_accuracy: 0.6778\n",
      "Epoch 6/200\n",
      "313/313 [==============================] - 15s 50ms/step - loss: 0.5993 - binary_accuracy: 0.6745 - val_loss: 0.5948 - val_binary_accuracy: 0.6784\n",
      "Epoch 7/200\n",
      "313/313 [==============================] - 15s 48ms/step - loss: 0.5979 - binary_accuracy: 0.6757 - val_loss: 0.5929 - val_binary_accuracy: 0.6802\n",
      "Epoch 8/200\n",
      "313/313 [==============================] - 15s 49ms/step - loss: 0.5967 - binary_accuracy: 0.6762 - val_loss: 0.5919 - val_binary_accuracy: 0.6793\n",
      "Epoch 9/200\n",
      "313/313 [==============================] - 15s 49ms/step - loss: 0.5943 - binary_accuracy: 0.6767 - val_loss: 0.5934 - val_binary_accuracy: 0.6790\n",
      "Epoch 10/200\n",
      "313/313 [==============================] - 10s 32ms/step - loss: 0.5961 - binary_accuracy: 0.6763 - val_loss: 0.5906 - val_binary_accuracy: 0.6810\n",
      "Epoch 11/200\n",
      "313/313 [==============================] - 12s 38ms/step - loss: 0.5919 - binary_accuracy: 0.6776 - val_loss: 0.5904 - val_binary_accuracy: 0.6809\n",
      "Epoch 12/200\n",
      "313/313 [==============================] - 15s 47ms/step - loss: 0.5915 - binary_accuracy: 0.6800 - val_loss: 0.5899 - val_binary_accuracy: 0.6798\n",
      "Epoch 13/200\n",
      "313/313 [==============================] - 14s 44ms/step - loss: 0.5917 - binary_accuracy: 0.6805 - val_loss: 0.5896 - val_binary_accuracy: 0.6811\n",
      "Epoch 14/200\n",
      "313/313 [==============================] - 12s 38ms/step - loss: 0.5907 - binary_accuracy: 0.6816 - val_loss: 0.5897 - val_binary_accuracy: 0.6827\n",
      "Epoch 15/200\n",
      "313/313 [==============================] - 16s 51ms/step - loss: 0.5917 - binary_accuracy: 0.6792 - val_loss: 0.5901 - val_binary_accuracy: 0.6810\n",
      "Best Validation Loss: 0.5896\n",
      "Best Validation Accuracy: 0.6827\n"
     ]
    },
    {
     "data": {
      "image/png": "[encoded data removed]",
      "text/plain": [
       "<Figure size 432x288 with 1 Axes>"
      ]
     },
     "metadata": {
      "needs_background": "light"
     },
     "output_type": "display_data"
    },
    {
     "data": {
      "image/png": "[encoded data removed]",
      "text/plain": [
       "<Figure size 432x288 with 1 Axes>"
      ]
     },
     "metadata": {
      "needs_background": "light"
     },
     "output_type": "display_data"
    }
   ],
   "source": [
    "# Train the model\n",
    "\n",
    "early_stopping = keras.callbacks.EarlyStopping(\n",
    "    patience=5,\n",
    "    min_delta=0.001,\n",
    "    restore_best_weights=True,\n",
    ")\n",
    "history = model.fit(\n",
    "    X_train, y_train,\n",
    "    validation_data=(X_valid, y_valid),\n",
    "    batch_size=512,\n",
    "    epochs=200,\n",
    "    callbacks=[early_stopping],\n",
    "    #verbose = 0   #Hide output of epochs\n",
    ")\n",
    "\n",
    "history_df = pd.DataFrame(history.history)\n",
    "history_df.loc[:, ['loss', 'val_loss']].plot(title=\"Cross-entropy\")\n",
    "history_df.loc[:, ['binary_accuracy', 'val_binary_accuracy']].plot(title=\"Accuracy\")\n",
    "history_df = pd.DataFrame(history.history)\n",
    "\n",
    "print((\"Best Validation Loss: {:0.4f}\" +\\\n",
    "      \"\\nBest Validation Accuracy: {:0.4f}\")\\\n",
    "      .format(history_df['val_loss'].min(), \n",
    "              history_df['val_binary_accuracy'].max()))\n",
    "\n"
   ]
  },
  {
   "cell_type": "code",
   "execution_count": 19,
   "metadata": {},
   "outputs": [
    {
     "name": "stdout",
     "output_type": "stream",
     "text": [
      "1250/1250 [==============================] - 7s 5ms/step - loss: 0.5906 - binary_accuracy: 0.6810\n",
      "Validation loss: 0.590567409992218\n",
      "Validation accuracy: 0.6810250282287598\n"
     ]
    }
   ],
   "source": [
    "# evaluate the model on the validation data\n",
    "val_loss, val_acc = model.evaluate(X_valid, y_valid)    # do this for x_test and y_test and can compare\n",
    "#print(len(X_valid))  #these are actually correct, 10k, test train split makes 4k test\n",
    "#print(len(y_valid))\n",
    "print(\"Validation loss:\", val_loss)\n",
    "print(\"Validation accuracy:\", val_acc)\n",
    "\n",
    "y_pred = model.predict(X_valid)\n",
    "y_pred_round = np.round(y_pred)\n",
    "#print(y_pred)\n",
    "\n",
    "# # compute the confusion matrix\n",
    "# cm = confusion_matrix(y_valid, y_pred_round)\n",
    "# #print(cm)\n",
    "\n",
    "# #cm = confusion_matrix(y_test, predictions, labels=clf.classes_)\n",
    "# disp = ConfusionMatrixDisplay(confusion_matrix=cm/(len(y_pred))*100) # now out of 100%\n",
    "# disp.plot()\n",
    "# # make so 200%, amount background correct 100% and amount signal correct 100%\n",
    "# plt.show()"
   ]
  },
  {
   "cell_type": "code",
   "execution_count": 20,
   "metadata": {},
   "outputs": [
    {
     "name": "stdout",
     "output_type": "stream",
     "text": [
      "[[0.75297544 0.24702456]\n",
      " [0.39030219 0.60969781]]\n"
     ]
    },
    {
     "data": {
      "image/png": "[encoded data removed]",
      "text/plain": [
       "<Figure size 432x288 with 2 Axes>"
      ]
     },
     "metadata": {
      "needs_background": "light"
     },
     "output_type": "display_data"
    }
   ],
   "source": [
    "# compute the confusion matrix\n",
    "\n",
    "\n",
    "cm = confusion_matrix(y_valid, y_pred_round, normalize = 'true')  #,'true' ‘pred’, ‘all’},)\n",
    "print(cm)\n",
    "\n",
    "disp = ConfusionMatrixDisplay(confusion_matrix=cm) # now out of 100%\n",
    "disp.plot()\n",
    "# make so 200%, amount background correct 100% and amount signal correct 100%\n",
    "plt.show()"
   ]
  },
  {
   "cell_type": "code",
   "execution_count": 21,
   "metadata": {},
   "outputs": [
    {
     "name": "stdout",
     "output_type": "stream",
     "text": [
      "0.681025\n",
      "True\n"
     ]
    }
   ],
   "source": [
    "# Check if order of y_valid is the same order as y_pred\n",
    "# expect to be the ssame order if accuracy is same as validation accuracy above.\n",
    "\n",
    "# list of true outcomes\n",
    "y_valid_list = list(y_valid)\n",
    "\n",
    "# list of rounded predictions \n",
    "y_pred_round_list = list(y_pred_round)\n",
    "\n",
    "# list of whether these are same    \n",
    "z=[]\n",
    "for i in range(len(y_valid_list)):\n",
    "    if y_valid_list[i]==y_pred_round_list[i]:\n",
    "        z.append(1)\n",
    "    else:\n",
    "        z.append(0)\n",
    "        \n",
    "print(sum(z)/len(z))\n",
    "\n",
    "# Set a tolerance\n",
    "tol = 0.0001\n",
    "print(val_acc - tol < sum(z)/len(z) < val_acc + tol)\n",
    "\n",
    "# If true, suggests are in same order "
   ]
  },
  {
   "cell_type": "code",
   "execution_count": 22,
   "metadata": {},
   "outputs": [
    {
     "data": {
      "text/html": [
       "<div>\n",
       "<style scoped>\n",
       "    .dataframe tbody tr th:only-of-type {\n",
       "        vertical-align: middle;\n",
       "    }\n",
       "\n",
       "    .dataframe tbody tr th {\n",
       "        vertical-align: top;\n",
       "    }\n",
       "\n",
       "    .dataframe thead th {\n",
       "        text-align: right;\n",
       "    }\n",
       "</style>\n",
       "<table border=\"1\" class=\"dataframe\">\n",
       "  <thead>\n",
       "    <tr style=\"text-align: right;\">\n",
       "      <th></th>\n",
       "      <th>True_Val</th>\n",
       "      <th>Predicted</th>\n",
       "      <th>Round Prediction</th>\n",
       "    </tr>\n",
       "  </thead>\n",
       "  <tbody>\n",
       "    <tr>\n",
       "      <th>0</th>\n",
       "      <td>0</td>\n",
       "      <td>[0.49106607]</td>\n",
       "      <td>[0.0]</td>\n",
       "    </tr>\n",
       "    <tr>\n",
       "      <th>1</th>\n",
       "      <td>1</td>\n",
       "      <td>[0.6403631]</td>\n",
       "      <td>[1.0]</td>\n",
       "    </tr>\n",
       "    <tr>\n",
       "      <th>2</th>\n",
       "      <td>0</td>\n",
       "      <td>[0.89724594]</td>\n",
       "      <td>[1.0]</td>\n",
       "    </tr>\n",
       "    <tr>\n",
       "      <th>3</th>\n",
       "      <td>1</td>\n",
       "      <td>[0.607863]</td>\n",
       "      <td>[1.0]</td>\n",
       "    </tr>\n",
       "    <tr>\n",
       "      <th>4</th>\n",
       "      <td>0</td>\n",
       "      <td>[0.20871997]</td>\n",
       "      <td>[0.0]</td>\n",
       "    </tr>\n",
       "    <tr>\n",
       "      <th>...</th>\n",
       "      <td>...</td>\n",
       "      <td>...</td>\n",
       "      <td>...</td>\n",
       "    </tr>\n",
       "    <tr>\n",
       "      <th>39995</th>\n",
       "      <td>1</td>\n",
       "      <td>[0.49561802]</td>\n",
       "      <td>[0.0]</td>\n",
       "    </tr>\n",
       "    <tr>\n",
       "      <th>39996</th>\n",
       "      <td>1</td>\n",
       "      <td>[0.33732152]</td>\n",
       "      <td>[0.0]</td>\n",
       "    </tr>\n",
       "    <tr>\n",
       "      <th>39997</th>\n",
       "      <td>0</td>\n",
       "      <td>[0.52907306]</td>\n",
       "      <td>[1.0]</td>\n",
       "    </tr>\n",
       "    <tr>\n",
       "      <th>39998</th>\n",
       "      <td>1</td>\n",
       "      <td>[0.49347448]</td>\n",
       "      <td>[0.0]</td>\n",
       "    </tr>\n",
       "    <tr>\n",
       "      <th>39999</th>\n",
       "      <td>0</td>\n",
       "      <td>[0.2617093]</td>\n",
       "      <td>[0.0]</td>\n",
       "    </tr>\n",
       "  </tbody>\n",
       "</table>\n",
       "<p>40000 rows × 3 columns</p>\n",
       "</div>"
      ],
      "text/plain": [
       "       True_Val     Predicted Round Prediction\n",
       "0             0  [0.49106607]            [0.0]\n",
       "1             1   [0.6403631]            [1.0]\n",
       "2             0  [0.89724594]            [1.0]\n",
       "3             1    [0.607863]            [1.0]\n",
       "4             0  [0.20871997]            [0.0]\n",
       "...         ...           ...              ...\n",
       "39995         1  [0.49561802]            [0.0]\n",
       "39996         1  [0.33732152]            [0.0]\n",
       "39997         0  [0.52907306]            [1.0]\n",
       "39998         1  [0.49347448]            [0.0]\n",
       "39999         0   [0.2617093]            [0.0]\n",
       "\n",
       "[40000 rows x 3 columns]"
      ]
     },
     "execution_count": 22,
     "metadata": {},
     "output_type": "execute_result"
    }
   ],
   "source": [
    "data = {'True_Val': y_valid_list, 'Predicted': list(y_pred), 'Round Prediction': y_pred_round_list}\n",
    "df = pd.DataFrame(data)\n",
    "df"
   ]
  },
  {
   "cell_type": "code",
   "execution_count": 23,
   "metadata": {},
   "outputs": [
    {
     "name": "stdout",
     "output_type": "stream",
     "text": [
      "0.681025\n",
      "True\n"
     ]
    }
   ],
   "source": [
    "# Check that they maintained order in the df:\n",
    "\n",
    "lst=[]\n",
    "for i in range(len(df)):\n",
    "    if df['True_Val'][i] == df['Round Prediction'][i]:\n",
    "        lst.append(1)\n",
    "    else:\n",
    "        (lst.append(0))\n",
    "print(sum(lst)/len(lst))\n",
    "\n",
    "# Set a tolerance\n",
    "tol = 0.0001\n",
    "print(val_acc - tol < sum(lst)/len(lst) < val_acc + tol)\n",
    "\n",
    "# If true, suggests are in same order "
   ]
  },
  {
   "cell_type": "code",
   "execution_count": 24,
   "metadata": {},
   "outputs": [
    {
     "data": {
      "text/html": [
       "<div>\n",
       "<style scoped>\n",
       "    .dataframe tbody tr th:only-of-type {\n",
       "        vertical-align: middle;\n",
       "    }\n",
       "\n",
       "    .dataframe tbody tr th {\n",
       "        vertical-align: top;\n",
       "    }\n",
       "\n",
       "    .dataframe thead th {\n",
       "        text-align: right;\n",
       "    }\n",
       "</style>\n",
       "<table border=\"1\" class=\"dataframe\">\n",
       "  <thead>\n",
       "    <tr style=\"text-align: right;\">\n",
       "      <th></th>\n",
       "      <th>True_Val</th>\n",
       "      <th>Predicted</th>\n",
       "      <th>Round Prediction</th>\n",
       "    </tr>\n",
       "  </thead>\n",
       "  <tbody>\n",
       "    <tr>\n",
       "      <th>0</th>\n",
       "      <td>0</td>\n",
       "      <td>[0.49106607]</td>\n",
       "      <td>[0.0]</td>\n",
       "    </tr>\n",
       "    <tr>\n",
       "      <th>22198</th>\n",
       "      <td>0</td>\n",
       "      <td>[0.47137463]</td>\n",
       "      <td>[0.0]</td>\n",
       "    </tr>\n",
       "    <tr>\n",
       "      <th>22197</th>\n",
       "      <td>0</td>\n",
       "      <td>[0.51099885]</td>\n",
       "      <td>[1.0]</td>\n",
       "    </tr>\n",
       "    <tr>\n",
       "      <th>22196</th>\n",
       "      <td>0</td>\n",
       "      <td>[0.45885128]</td>\n",
       "      <td>[0.0]</td>\n",
       "    </tr>\n",
       "    <tr>\n",
       "      <th>22194</th>\n",
       "      <td>0</td>\n",
       "      <td>[0.3226609]</td>\n",
       "      <td>[0.0]</td>\n",
       "    </tr>\n",
       "    <tr>\n",
       "      <th>...</th>\n",
       "      <td>...</td>\n",
       "      <td>...</td>\n",
       "      <td>...</td>\n",
       "    </tr>\n",
       "    <tr>\n",
       "      <th>6990</th>\n",
       "      <td>1</td>\n",
       "      <td>[0.5722398]</td>\n",
       "      <td>[1.0]</td>\n",
       "    </tr>\n",
       "    <tr>\n",
       "      <th>25938</th>\n",
       "      <td>1</td>\n",
       "      <td>[0.25166833]</td>\n",
       "      <td>[0.0]</td>\n",
       "    </tr>\n",
       "    <tr>\n",
       "      <th>11553</th>\n",
       "      <td>1</td>\n",
       "      <td>[0.32824343]</td>\n",
       "      <td>[0.0]</td>\n",
       "    </tr>\n",
       "    <tr>\n",
       "      <th>25955</th>\n",
       "      <td>1</td>\n",
       "      <td>[0.818516]</td>\n",
       "      <td>[1.0]</td>\n",
       "    </tr>\n",
       "    <tr>\n",
       "      <th>19999</th>\n",
       "      <td>1</td>\n",
       "      <td>[0.9787519]</td>\n",
       "      <td>[1.0]</td>\n",
       "    </tr>\n",
       "  </tbody>\n",
       "</table>\n",
       "<p>40000 rows × 3 columns</p>\n",
       "</div>"
      ],
      "text/plain": [
       "       True_Val     Predicted Round Prediction\n",
       "0             0  [0.49106607]            [0.0]\n",
       "22198         0  [0.47137463]            [0.0]\n",
       "22197         0  [0.51099885]            [1.0]\n",
       "22196         0  [0.45885128]            [0.0]\n",
       "22194         0   [0.3226609]            [0.0]\n",
       "...         ...           ...              ...\n",
       "6990          1   [0.5722398]            [1.0]\n",
       "25938         1  [0.25166833]            [0.0]\n",
       "11553         1  [0.32824343]            [0.0]\n",
       "25955         1    [0.818516]            [1.0]\n",
       "19999         1   [0.9787519]            [1.0]\n",
       "\n",
       "[40000 rows x 3 columns]"
      ]
     },
     "execution_count": 24,
     "metadata": {},
     "output_type": "execute_result"
    }
   ],
   "source": [
    "# Easiest to reorder df, so all 0 (background) are first and then 1's (signal)\n",
    "\n",
    "#Verified, works\n",
    "df = df.sort_values(by='True_Val')\n",
    "df\n",
    "#Can run cell above agai, after this one to check maintined order "
   ]
  },
  {
   "cell_type": "code",
   "execution_count": 25,
   "metadata": {},
   "outputs": [],
   "source": [
    "# Convert arrays to scalars\n",
    "df['Round Prediction'] = df['Round Prediction'].apply(lambda x: x[0])\n"
   ]
  },
  {
   "cell_type": "code",
   "execution_count": 26,
   "metadata": {},
   "outputs": [
    {
     "name": "stdout",
     "output_type": "stream",
     "text": [
      "17166\n",
      "20087\n",
      "The model predicted -2921 more signal than in reality\n",
      "22834\n",
      "19913\n",
      "The model predicted 2921 more background than in reality\n"
     ]
    }
   ],
   "source": [
    "pred_one = df['Round Prediction'].value_counts()[1.0]\n",
    "ones_in_set = df['True_Val'].value_counts()[1]\n",
    "\n",
    "# Print the result\n",
    "print(pred_one)\n",
    "print(ones_in_set)\n",
    "print('The model predicted',pred_one-ones_in_set ,'more signal than in reality')\n",
    "#so predicts like 3x less ones than are in set\n",
    "\n",
    "pred_zeros = df['Round Prediction'].value_counts()[0.0]\n",
    "zeros_in_set = df['True_Val'].value_counts()[0]\n",
    "\n",
    "# Print the result\n",
    "print(pred_zeros)\n",
    "print(zeros_in_set)\n",
    "print('The model predicted', pred_zeros-zeros_in_set,'more background than in reality')\n"
   ]
  },
  {
   "cell_type": "markdown",
   "metadata": {},
   "source": [
    "now first half of df is background, other half is signal\n",
    "\n",
    "PROBLEM, TEST AND VALID WAS SPLIT RANDOMLY, SO NOT ACTUALLY SAME AMOUNT OF 0's AND 1's\n",
    "\n",
    "Not a problem, but need to check if should be like this\n",
    "\n",
    " A couple of options, I could:\n",
    "\n",
    "Deal with it, and let there be uneven amounts of 1's and 0's\n",
    "\n",
    "OR\n",
    "\n",
    "Go back to test_train_split, and apply individually to signal and background and then sum them?\n",
    "\n",
    "This would guarantee 50/50\n"
   ]
  },
  {
   "cell_type": "code",
   "execution_count": 27,
   "metadata": {},
   "outputs": [
    {
     "data": {
      "text/plain": [
       "True"
      ]
     },
     "execution_count": 27,
     "metadata": {},
     "output_type": "execute_result"
    }
   ],
   "source": [
    "#Split df into signal and bg\n",
    "\n",
    "df_bg = df[df['True_Val'] == 0]\n",
    "df_signal = df[df['True_Val'] == 1]\n",
    "\n",
    "#check no missing columns, if so out: True\n",
    "len(df_bg)+len(df_signal) == len(df)"
   ]
  },
  {
   "cell_type": "code",
   "execution_count": 28,
   "metadata": {},
   "outputs": [
    {
     "name": "stdout",
     "output_type": "stream",
     "text": [
      "30.617499999999996\n",
      "37.485\n"
     ]
    }
   ],
   "source": [
    "# Unneccessary, but check each type gives expected corrected and incorrect rate, to check that columns havent \n",
    "# Gotten messed up at all\n",
    "\n",
    "lst_signal = []\n",
    "for i in df_signal['Round Prediction']:\n",
    "    if 1.0 == i:\n",
    "        lst_signal.append(1)\n",
    "    else:\n",
    "        lst_signal.append(0)\n",
    "\n",
    "#Below should == bottom rigtht of confusion matrix \n",
    "print(sum(lst_signal)/len(lst)*100) \n",
    "\n",
    "lst_bg = []\n",
    "for i in df_bg['Round Prediction']:\n",
    "    if 0.0 == i:\n",
    "        lst_bg.append(1)\n",
    "    else:\n",
    "        lst_bg.append(0)\n",
    "\n",
    "#Below should == top left of confusion matrix \n",
    "print(sum(lst_bg)/len(lst)*100) \n",
    "\n",
    "# SEE IS CORRECT SO ALL WORKING"
   ]
  },
  {
   "cell_type": "code",
   "execution_count": 46,
   "metadata": {
    "scrolled": false
   },
   "outputs": [
    {
     "data": {
      "image/png": "[encoded data removed]",
      "text/plain": [
       "<Figure size 432x288 with 1 Axes>"
      ]
     },
     "metadata": {
      "needs_background": "light"
     },
     "output_type": "display_data"
    },
    {
     "data": {
      "image/png": "[encoded data removed]",
      "text/plain": [
       "<Figure size 432x288 with 1 Axes>"
      ]
     },
     "metadata": {
      "needs_background": "light"
     },
     "output_type": "display_data"
    }
   ],
   "source": [
    "# Make discriminator curves, Histogram\n",
    "\n",
    "# manipluate data so can be used for Histograms\n",
    "lst_bg_predicted = []\n",
    "for i in df_bg['Predicted']:\n",
    "    lst_bg_predicted.append(i)\n",
    "\n",
    "lst_of_values_bg_pred = [arr.item() for arr in lst_bg_predicted]\n",
    "\n",
    "lst_signal_predicted = []\n",
    "for i in df_signal['Predicted']:\n",
    "    lst_signal_predicted.append(i)\n",
    "\n",
    "lst_of_values_signal_pred = [arr.item() for arr in lst_signal_predicted]\n",
    "\n",
    "#Unweighted\n",
    "plt.hist(x= lst_of_values_bg_pred, bins=100, density = True, histtype = 'step', label = 'Background')\n",
    "plt.hist(x= lst_of_values_signal_pred, bins=100, density = True, histtype = 'step', label = 'Signal')\n",
    "plt.title('Discriminator Curve')\n",
    "plt.xlabel('Classifier Prediction')\n",
    "plt.ylabel('Frequency')\n",
    "plt.legend()\n",
    "plt.show()\n",
    "\n",
    "#Weighted to xs_weights x 300000, need to be to proportion of full dataset too\n",
    "#normalised\n",
    "binwidth = 1/100    # want bins of 0.01                                                  # should still be 650k instead of 388600 and 177 instead of 153\n",
    "plt.hist(x= lst_of_values_bg_pred, bins=np.arange(0, 1 + binwidth, binwidth),  weights = df2.xs_weight[:len(lst_of_values_bg_pred)]*3e5*(650000 /100000),\n",
    "         histtype = 'step', label = 'Background')\n",
    "plt.hist(x= lst_of_values_signal_pred, bins=np.arange(0, 1 + binwidth, binwidth), weights = df4.xs_weight[:len(lst_of_values_signal_pred)]*3e5*(177000/100000),\n",
    "         histtype = 'step', label = 'Signal')\n",
    "plt.title('Discriminator Curve')\n",
    "plt.xlabel('Classifier Prediction')\n",
    "plt.ylabel('Frequency')\n",
    "#plt.xlim(0.9,1)    #zoom in on 0.9 to 1 region\n",
    "#plt.ylim(0,200)    # need to zoom in\n",
    "plt.legend()\n",
    "plt.show()\n",
    "\n",
    "\n",
    "#start dropping bins for signifucance part, calc Z and plot, should get curve that peaks\n",
    "\n",
    "#interesting see bins aren't algined\n",
    "#\n"
   ]
  },
  {
   "cell_type": "code",
   "execution_count": 30,
   "metadata": {},
   "outputs": [
    {
     "data": {
      "text/plain": [
       "array([0.  , 0.01, 0.02, 0.03, 0.04, 0.05, 0.06, 0.07, 0.08, 0.09, 0.1 ,\n",
       "       0.11, 0.12, 0.13, 0.14, 0.15, 0.16, 0.17, 0.18, 0.19, 0.2 , 0.21,\n",
       "       0.22, 0.23, 0.24, 0.25, 0.26, 0.27, 0.28, 0.29, 0.3 , 0.31, 0.32,\n",
       "       0.33, 0.34, 0.35, 0.36, 0.37, 0.38, 0.39, 0.4 , 0.41, 0.42, 0.43,\n",
       "       0.44, 0.45, 0.46, 0.47, 0.48, 0.49, 0.5 , 0.51, 0.52, 0.53, 0.54,\n",
       "       0.55, 0.56, 0.57, 0.58, 0.59, 0.6 , 0.61, 0.62, 0.63, 0.64, 0.65,\n",
       "       0.66, 0.67, 0.68, 0.69, 0.7 , 0.71, 0.72, 0.73, 0.74, 0.75, 0.76,\n",
       "       0.77, 0.78, 0.79, 0.8 , 0.81, 0.82, 0.83, 0.84, 0.85, 0.86, 0.87,\n",
       "       0.88, 0.89, 0.9 , 0.91, 0.92, 0.93, 0.94, 0.95, 0.96, 0.97, 0.98,\n",
       "       0.99, 1.  ])"
      ]
     },
     "execution_count": 30,
     "metadata": {},
     "output_type": "execute_result"
    }
   ],
   "source": [
    "binwidth = 1/100\n",
    "bins=np.arange(0, 1 + binwidth, binwidth)\n",
    "bins"
   ]
  },
  {
   "cell_type": "code",
   "execution_count": 53,
   "metadata": {},
   "outputs": [
    {
     "name": "stdout",
     "output_type": "stream",
     "text": [
      "39878.886718034744\n",
      "879.6134033277631\n"
     ]
    },
    {
     "data": {
      "image/png": "[encoded data removed]",
      "text/plain": [
       "<Figure size 432x288 with 1 Axes>"
      ]
     },
     "metadata": {
      "needs_background": "light"
     },
     "output_type": "display_data"
    }
   ],
   "source": [
    "# tried to do the number of events without integrating, may have worked\n",
    "binwidth = 1/100\n",
    "n_bg, bins_bg, patches_bg = plt.hist(x= lst_of_values_bg_pred, bins=np.arange(0, 1 + binwidth, binwidth),  weights = df2.xs_weight[:len(lst_of_values_bg_pred)]*3e5*(650000 /100000),\n",
    "         histtype = 'step', label = 'Background')\n",
    "n_signal, bins_signal, patches_signal = plt.hist(x= lst_of_values_signal_pred, bins=np.arange(0, 1 + binwidth, binwidth), weights = df4.xs_weight[:len(lst_of_values_signal_pred)]*3e5*(177000/100000),\n",
    "         histtype = 'step', label = 'Signal')\n",
    "\n",
    "plt.xlim(0.9,1)\n",
    "plt.ylim(0,50)\n",
    "# calculate the number of events\n",
    "num_bg_events = np.sum(n_bg)\n",
    "num_signal_events = np.sum(n_signal)\n",
    "\n",
    "print(num_bg_events)\n",
    "print(num_signal_events)\n",
    "\n"
   ]
  },
  {
   "cell_type": "code",
   "execution_count": null,
   "metadata": {},
   "outputs": [],
   "source": []
  },
  {
   "cell_type": "code",
   "execution_count": 32,
   "metadata": {},
   "outputs": [
    {
     "name": "stdout",
     "output_type": "stream",
     "text": [
      "8.6958615e-08\n",
      "1.0588149e-06\n"
     ]
    }
   ],
   "source": [
    "\n",
    "print( df4.xs_weight[1])\n",
    "print( df2.xs_weight[1])"
   ]
  },
  {
   "cell_type": "code",
   "execution_count": 33,
   "metadata": {},
   "outputs": [
    {
     "name": "stdout",
     "output_type": "stream",
     "text": [
      "       True_Val     Predicted  Round Prediction\n",
      "33015         1   [0.9376316]               1.0\n",
      "3631          1   [0.9740436]               1.0\n",
      "32749         1  [0.41246074]               0.0\n",
      "3598          1   [0.8459314]               1.0\n",
      "3750          1   [0.4436723]               0.0\n",
      "...         ...           ...               ...\n",
      "6990          1   [0.5722398]               1.0\n",
      "25938         1  [0.25166833]               0.0\n",
      "11553         1  [0.32824343]               0.0\n",
      "25955         1    [0.818516]               1.0\n",
      "19999         1   [0.9787519]               1.0\n",
      "\n",
      "[20087 rows x 3 columns]\n"
     ]
    }
   ],
   "source": [
    "print(df_signal)"
   ]
  },
  {
   "cell_type": "code",
   "execution_count": 48,
   "metadata": {},
   "outputs": [
    {
     "data": {
      "image/png": "[encoded data removed]",
      "text/plain": [
       "<Figure size 432x288 with 1 Axes>"
      ]
     },
     "metadata": {
      "needs_background": "light"
     },
     "output_type": "display_data"
    },
    {
     "name": "stdout",
     "output_type": "stream",
     "text": [
      "0.7462628361585173\n",
      "16175\n"
     ]
    }
   ],
   "source": [
    "#plot ROC curves\n",
    "\n",
    "y_true = df['True_Val']\n",
    "y_score = df['Predicted']\n",
    "\n",
    "# calculate the false positive rate and true positive rate\n",
    "fpr, tpr, thresholds = roc_curve(y_true, y_score)\n",
    "\n",
    "# calculate the area under the ROC curve\n",
    "roc_auc = auc(fpr, tpr)\n",
    "\n",
    "# plot the ROC curve\n",
    "plt.plot(fpr, tpr, color='darkorange', lw=2, label='ROC curve (AUC = %0.2f)' % roc_auc)\n",
    "plt.plot([0, 1], [0, 1], color='navy', lw=2, linestyle='--')\n",
    "plt.xlim([0.0, 1.0])\n",
    "plt.ylim([0.0, 1.05])\n",
    "plt.xlabel('False Positive Rate')\n",
    "plt.ylabel('True Positive Rate')\n",
    "plt.title('Receiver Operating Characteristic')\n",
    "plt.legend(loc=\"lower right\")\n",
    "plt.show()\n",
    "\n",
    "print(roc_auc)  #79%\n",
    "\n",
    "print(len(thresholds))\n",
    "\n"
   ]
  },
  {
   "cell_type": "code",
   "execution_count": 35,
   "metadata": {},
   "outputs": [
    {
     "name": "stderr",
     "output_type": "stream",
     "text": [
      "<ipython-input-35-66289c320eca>:1: RuntimeWarning: divide by zero encountered in divide\n",
      "  data_roc = {'thresholds': thresholds, 'tpr': tpr, 'fpr': fpr, 'tpr/sqrt(fpr)':tpr/np.sqrt(fpr)}\n",
      "<ipython-input-35-66289c320eca>:1: RuntimeWarning: invalid value encountered in divide\n",
      "  data_roc = {'thresholds': thresholds, 'tpr': tpr, 'fpr': fpr, 'tpr/sqrt(fpr)':tpr/np.sqrt(fpr)}\n"
     ]
    },
    {
     "data": {
      "text/html": [
       "<div>\n",
       "<style scoped>\n",
       "    .dataframe tbody tr th:only-of-type {\n",
       "        vertical-align: middle;\n",
       "    }\n",
       "\n",
       "    .dataframe tbody tr th {\n",
       "        vertical-align: top;\n",
       "    }\n",
       "\n",
       "    .dataframe thead th {\n",
       "        text-align: right;\n",
       "    }\n",
       "</style>\n",
       "<table border=\"1\" class=\"dataframe\">\n",
       "  <thead>\n",
       "    <tr style=\"text-align: right;\">\n",
       "      <th></th>\n",
       "      <th>thresholds</th>\n",
       "      <th>tpr</th>\n",
       "      <th>fpr</th>\n",
       "      <th>tpr/sqrt(fpr)</th>\n",
       "    </tr>\n",
       "  </thead>\n",
       "  <tbody>\n",
       "    <tr>\n",
       "      <th>0</th>\n",
       "      <td>1.998741</td>\n",
       "      <td>0.000000</td>\n",
       "      <td>0.000000</td>\n",
       "      <td>NaN</td>\n",
       "    </tr>\n",
       "    <tr>\n",
       "      <th>1</th>\n",
       "      <td>[0.99874103]</td>\n",
       "      <td>0.000050</td>\n",
       "      <td>0.000000</td>\n",
       "      <td>inf</td>\n",
       "    </tr>\n",
       "    <tr>\n",
       "      <th>2</th>\n",
       "      <td>[0.99061465]</td>\n",
       "      <td>0.002589</td>\n",
       "      <td>0.000000</td>\n",
       "      <td>inf</td>\n",
       "    </tr>\n",
       "    <tr>\n",
       "      <th>3</th>\n",
       "      <td>[0.9905127]</td>\n",
       "      <td>0.002589</td>\n",
       "      <td>0.000050</td>\n",
       "      <td>0.365306</td>\n",
       "    </tr>\n",
       "    <tr>\n",
       "      <th>4</th>\n",
       "      <td>[0.98641646]</td>\n",
       "      <td>0.006074</td>\n",
       "      <td>0.000050</td>\n",
       "      <td>0.857064</td>\n",
       "    </tr>\n",
       "    <tr>\n",
       "      <th>...</th>\n",
       "      <td>...</td>\n",
       "      <td>...</td>\n",
       "      <td>...</td>\n",
       "      <td>...</td>\n",
       "    </tr>\n",
       "    <tr>\n",
       "      <th>16170</th>\n",
       "      <td>[0.110999554]</td>\n",
       "      <td>0.999900</td>\n",
       "      <td>0.998493</td>\n",
       "      <td>1.000654</td>\n",
       "    </tr>\n",
       "    <tr>\n",
       "      <th>16171</th>\n",
       "      <td>[0.11036521]</td>\n",
       "      <td>0.999950</td>\n",
       "      <td>0.998493</td>\n",
       "      <td>1.000704</td>\n",
       "    </tr>\n",
       "    <tr>\n",
       "      <th>16172</th>\n",
       "      <td>[0.09286514]</td>\n",
       "      <td>0.999950</td>\n",
       "      <td>0.999598</td>\n",
       "      <td>1.000151</td>\n",
       "    </tr>\n",
       "    <tr>\n",
       "      <th>16173</th>\n",
       "      <td>[0.09206712]</td>\n",
       "      <td>1.000000</td>\n",
       "      <td>0.999598</td>\n",
       "      <td>1.000201</td>\n",
       "    </tr>\n",
       "    <tr>\n",
       "      <th>16174</th>\n",
       "      <td>[0.063994884]</td>\n",
       "      <td>1.000000</td>\n",
       "      <td>1.000000</td>\n",
       "      <td>1.000000</td>\n",
       "    </tr>\n",
       "  </tbody>\n",
       "</table>\n",
       "<p>16175 rows × 4 columns</p>\n",
       "</div>"
      ],
      "text/plain": [
       "          thresholds       tpr       fpr  tpr/sqrt(fpr)\n",
       "0           1.998741  0.000000  0.000000            NaN\n",
       "1       [0.99874103]  0.000050  0.000000            inf\n",
       "2       [0.99061465]  0.002589  0.000000            inf\n",
       "3        [0.9905127]  0.002589  0.000050       0.365306\n",
       "4       [0.98641646]  0.006074  0.000050       0.857064\n",
       "...              ...       ...       ...            ...\n",
       "16170  [0.110999554]  0.999900  0.998493       1.000654\n",
       "16171   [0.11036521]  0.999950  0.998493       1.000704\n",
       "16172   [0.09286514]  0.999950  0.999598       1.000151\n",
       "16173   [0.09206712]  1.000000  0.999598       1.000201\n",
       "16174  [0.063994884]  1.000000  1.000000       1.000000\n",
       "\n",
       "[16175 rows x 4 columns]"
      ]
     },
     "execution_count": 35,
     "metadata": {},
     "output_type": "execute_result"
    }
   ],
   "source": [
    "data_roc = {'thresholds': thresholds, 'tpr': tpr, 'fpr': fpr, 'tpr/sqrt(fpr)':tpr/np.sqrt(fpr)}\n",
    "df_roc = pd.DataFrame(data_roc)\n",
    "df_roc"
   ]
  },
  {
   "cell_type": "code",
   "execution_count": null,
   "metadata": {},
   "outputs": [],
   "source": []
  },
  {
   "cell_type": "code",
   "execution_count": 36,
   "metadata": {},
   "outputs": [
    {
     "data": {
      "text/html": [
       "<div>\n",
       "<style scoped>\n",
       "    .dataframe tbody tr th:only-of-type {\n",
       "        vertical-align: middle;\n",
       "    }\n",
       "\n",
       "    .dataframe tbody tr th {\n",
       "        vertical-align: top;\n",
       "    }\n",
       "\n",
       "    .dataframe thead th {\n",
       "        text-align: right;\n",
       "    }\n",
       "</style>\n",
       "<table border=\"1\" class=\"dataframe\">\n",
       "  <thead>\n",
       "    <tr style=\"text-align: right;\">\n",
       "      <th></th>\n",
       "      <th>thresholds</th>\n",
       "      <th>tpr</th>\n",
       "      <th>fpr</th>\n",
       "      <th>tpr/sqrt(fpr)</th>\n",
       "    </tr>\n",
       "  </thead>\n",
       "  <tbody>\n",
       "    <tr>\n",
       "      <th>0</th>\n",
       "      <td>1.998741</td>\n",
       "      <td>0.000000</td>\n",
       "      <td>0.000000</td>\n",
       "      <td>NaN</td>\n",
       "    </tr>\n",
       "    <tr>\n",
       "      <th>1</th>\n",
       "      <td>[0.99874103]</td>\n",
       "      <td>0.000050</td>\n",
       "      <td>0.000000</td>\n",
       "      <td>inf</td>\n",
       "    </tr>\n",
       "    <tr>\n",
       "      <th>2</th>\n",
       "      <td>[0.99061465]</td>\n",
       "      <td>0.002589</td>\n",
       "      <td>0.000000</td>\n",
       "      <td>inf</td>\n",
       "    </tr>\n",
       "    <tr>\n",
       "      <th>3</th>\n",
       "      <td>[0.9905127]</td>\n",
       "      <td>0.002589</td>\n",
       "      <td>0.000050</td>\n",
       "      <td>0.365306</td>\n",
       "    </tr>\n",
       "    <tr>\n",
       "      <th>4</th>\n",
       "      <td>[0.98641646]</td>\n",
       "      <td>0.006074</td>\n",
       "      <td>0.000050</td>\n",
       "      <td>0.857064</td>\n",
       "    </tr>\n",
       "    <tr>\n",
       "      <th>5</th>\n",
       "      <td>[0.986162]</td>\n",
       "      <td>0.006074</td>\n",
       "      <td>0.000151</td>\n",
       "      <td>0.494826</td>\n",
       "    </tr>\n",
       "    <tr>\n",
       "      <th>6</th>\n",
       "      <td>[0.984668]</td>\n",
       "      <td>0.007268</td>\n",
       "      <td>0.000151</td>\n",
       "      <td>0.592169</td>\n",
       "    </tr>\n",
       "    <tr>\n",
       "      <th>7</th>\n",
       "      <td>[0.9846406]</td>\n",
       "      <td>0.007268</td>\n",
       "      <td>0.000201</td>\n",
       "      <td>0.512833</td>\n",
       "    </tr>\n",
       "    <tr>\n",
       "      <th>8</th>\n",
       "      <td>[0.9837368]</td>\n",
       "      <td>0.007916</td>\n",
       "      <td>0.000201</td>\n",
       "      <td>0.558496</td>\n",
       "    </tr>\n",
       "    <tr>\n",
       "      <th>9</th>\n",
       "      <td>[0.9836991]</td>\n",
       "      <td>0.007916</td>\n",
       "      <td>0.000251</td>\n",
       "      <td>0.499534</td>\n",
       "    </tr>\n",
       "    <tr>\n",
       "      <th>10</th>\n",
       "      <td>[0.9772203]</td>\n",
       "      <td>0.014736</td>\n",
       "      <td>0.000251</td>\n",
       "      <td>0.929951</td>\n",
       "    </tr>\n",
       "    <tr>\n",
       "      <th>11</th>\n",
       "      <td>[0.9771714]</td>\n",
       "      <td>0.014736</td>\n",
       "      <td>0.000301</td>\n",
       "      <td>0.848925</td>\n",
       "    </tr>\n",
       "    <tr>\n",
       "      <th>12</th>\n",
       "      <td>[0.9767379]</td>\n",
       "      <td>0.015333</td>\n",
       "      <td>0.000301</td>\n",
       "      <td>0.883341</td>\n",
       "    </tr>\n",
       "    <tr>\n",
       "      <th>13</th>\n",
       "      <td>[0.97673136]</td>\n",
       "      <td>0.015333</td>\n",
       "      <td>0.000352</td>\n",
       "      <td>0.817815</td>\n",
       "    </tr>\n",
       "    <tr>\n",
       "      <th>14</th>\n",
       "      <td>[0.97453004]</td>\n",
       "      <td>0.018370</td>\n",
       "      <td>0.000352</td>\n",
       "      <td>0.979785</td>\n",
       "    </tr>\n",
       "    <tr>\n",
       "      <th>15</th>\n",
       "      <td>[0.97447693]</td>\n",
       "      <td>0.018370</td>\n",
       "      <td>0.000402</td>\n",
       "      <td>0.916505</td>\n",
       "    </tr>\n",
       "    <tr>\n",
       "      <th>16</th>\n",
       "      <td>[0.97208846]</td>\n",
       "      <td>0.021656</td>\n",
       "      <td>0.000402</td>\n",
       "      <td>1.080432</td>\n",
       "    </tr>\n",
       "    <tr>\n",
       "      <th>17</th>\n",
       "      <td>[0.97208047]</td>\n",
       "      <td>0.021656</td>\n",
       "      <td>0.000452</td>\n",
       "      <td>1.018641</td>\n",
       "    </tr>\n",
       "    <tr>\n",
       "      <th>18</th>\n",
       "      <td>[0.97185755]</td>\n",
       "      <td>0.021805</td>\n",
       "      <td>0.000452</td>\n",
       "      <td>1.025666</td>\n",
       "    </tr>\n",
       "    <tr>\n",
       "      <th>19</th>\n",
       "      <td>[0.97177815]</td>\n",
       "      <td>0.021805</td>\n",
       "      <td>0.000502</td>\n",
       "      <td>0.973033</td>\n",
       "    </tr>\n",
       "  </tbody>\n",
       "</table>\n",
       "</div>"
      ],
      "text/plain": [
       "      thresholds       tpr       fpr  tpr/sqrt(fpr)\n",
       "0       1.998741  0.000000  0.000000            NaN\n",
       "1   [0.99874103]  0.000050  0.000000            inf\n",
       "2   [0.99061465]  0.002589  0.000000            inf\n",
       "3    [0.9905127]  0.002589  0.000050       0.365306\n",
       "4   [0.98641646]  0.006074  0.000050       0.857064\n",
       "5     [0.986162]  0.006074  0.000151       0.494826\n",
       "6     [0.984668]  0.007268  0.000151       0.592169\n",
       "7    [0.9846406]  0.007268  0.000201       0.512833\n",
       "8    [0.9837368]  0.007916  0.000201       0.558496\n",
       "9    [0.9836991]  0.007916  0.000251       0.499534\n",
       "10   [0.9772203]  0.014736  0.000251       0.929951\n",
       "11   [0.9771714]  0.014736  0.000301       0.848925\n",
       "12   [0.9767379]  0.015333  0.000301       0.883341\n",
       "13  [0.97673136]  0.015333  0.000352       0.817815\n",
       "14  [0.97453004]  0.018370  0.000352       0.979785\n",
       "15  [0.97447693]  0.018370  0.000402       0.916505\n",
       "16  [0.97208846]  0.021656  0.000402       1.080432\n",
       "17  [0.97208047]  0.021656  0.000452       1.018641\n",
       "18  [0.97185755]  0.021805  0.000452       1.025666\n",
       "19  [0.97177815]  0.021805  0.000502       0.973033"
      ]
     },
     "execution_count": 36,
     "metadata": {},
     "output_type": "execute_result"
    }
   ],
   "source": [
    "df_roc.head(20)"
   ]
  },
  {
   "cell_type": "code",
   "execution_count": 49,
   "metadata": {},
   "outputs": [
    {
     "data": {
      "image/png": "[encoded data removed]",
      "text/plain": [
       "<Figure size 432x288 with 1 Axes>"
      ]
     },
     "metadata": {
      "needs_background": "light"
     },
     "output_type": "display_data"
    }
   ],
   "source": [
    "plt.plot(df_roc['thresholds'][3:], df_roc['tpr/sqrt(fpr)'][3:])\n",
    "plt.show()"
   ]
  },
  {
   "cell_type": "code",
   "execution_count": 38,
   "metadata": {},
   "outputs": [
    {
     "data": {
      "text/plain": [
       "1.3598543577116577"
      ]
     },
     "execution_count": 38,
     "metadata": {},
     "output_type": "execute_result"
    }
   ],
   "source": [
    "max(df_roc['tpr/sqrt(fpr)'][3:])"
   ]
  },
  {
   "cell_type": "code",
   "execution_count": 50,
   "metadata": {},
   "outputs": [
    {
     "data": {
      "image/png": "[encoded data removed]",
      "text/plain": [
       "<Figure size 432x288 with 1 Axes>"
      ]
     },
     "metadata": {
      "needs_background": "light"
     },
     "output_type": "display_data"
    },
    {
     "name": "stdout",
     "output_type": "stream",
     "text": [
      "0.7603364222214858\n"
     ]
    }
   ],
   "source": [
    "# Plot precision recall curve\n",
    "from sklearn.metrics import average_precision_score\n",
    "\n",
    "y_true = df['True_Val']\n",
    "y_score = df['Predicted']\n",
    "\n",
    "# calculate the precision-recall curve\n",
    "precision, recall, _ = precision_recall_curve(y_true, y_score)\n",
    "\n",
    "# plot the precision-recall curve\n",
    "plt.step(recall, precision, color='b', alpha=0.2, where='post')\n",
    "plt.fill_between(recall, precision, step='post', alpha=0.2, color='b')\n",
    "plt.xlabel('Recall')\n",
    "plt.ylabel('Precision')\n",
    "plt.ylim([0.0, 1.05])\n",
    "plt.xlim([0.0, 1.0])\n",
    "plt.title('Precision-Recall Curve')\n",
    "plt.show()\n",
    "\n",
    "AUC = average_precision_score(y_true, y_score)   #0.793, pretty similar to roc AUC\n",
    "print(AUC)"
   ]
  },
  {
   "cell_type": "code",
   "execution_count": 40,
   "metadata": {},
   "outputs": [
    {
     "name": "stdout",
     "output_type": "stream",
     "text": [
      "0        [0.49106607]\n",
      "22198    [0.47137463]\n",
      "22197    [0.51099885]\n",
      "22196    [0.45885128]\n",
      "22194     [0.3226609]\n",
      "             ...     \n",
      "6990      [0.5722398]\n",
      "25938    [0.25166833]\n",
      "11553    [0.32824343]\n",
      "25955      [0.818516]\n",
      "19999     [0.9787519]\n",
      "Name: Predicted, Length: 40000, dtype: object\n"
     ]
    }
   ],
   "source": [
    "df['True_Val']\n",
    "x = df['Predicted']\n",
    "print(x)"
   ]
  },
  {
   "cell_type": "markdown",
   "metadata": {},
   "source": [
    "# Significance\n",
    "\n",
    "$$ Z = \\frac{s}{\\sqrt(B+\\sigma_s^{2})}  $$\n",
    "\n",
    "s = number of signal\n",
    "\n",
    "B = number of background\n",
    "\n",
    "$\\sigma_s$ = statistical uncertainty (~10% of B)"
   ]
  },
  {
   "cell_type": "code",
   "execution_count": 41,
   "metadata": {},
   "outputs": [],
   "source": [
    "# Idea to create a sweeping function, doesn't work but good idea, do much more easily.\n",
    "\n",
    "def find_best_threshold(df, column):\n",
    "    # Initialize variables to store the best threshold and the corresponding Z-score\n",
    "    best_threshold = 0\n",
    "    best_z = 0\n",
    "    \n",
    "    # Loop through all possible threshold values\n",
    "    for threshold in np.arange(0, 1, 0.01):\n",
    "        # Count the number of signal and background events above the threshold\n",
    "        signal = df.query(f\"{column} >= {threshold}\").shape[0]\n",
    "        background = df.query(f\"{column} < {threshold}\").shape[0]\n",
    "        \n",
    "        # Calculate the Z-score\n",
    "        z = signal / np.sqrt(background)\n",
    "        \n",
    "        # Update the best threshold and Z-score if a higher value is found\n",
    "        if z > best_z:\n",
    "            best_threshold = threshold\n",
    "            best_z = z\n",
    "    \n",
    "    return best_threshold\n"
   ]
  },
  {
   "cell_type": "code",
   "execution_count": 54,
   "metadata": {},
   "outputs": [
    {
     "name": "stdout",
     "output_type": "stream",
     "text": [
      "39878.886718034744\n",
      "879.6134033277631\n"
     ]
    },
    {
     "name": "stderr",
     "output_type": "stream",
     "text": [
      "<ipython-input-54-93c52e230798>:22: RuntimeWarning: invalid value encountered in double_scalars\n",
      "  z_i = num_signal_events / np.sqrt(num_bg_events)\n"
     ]
    },
    {
     "data": {
      "image/png": "[encoded data removed]",
      "text/plain": [
       "<Figure size 432x288 with 1 Axes>"
      ]
     },
     "metadata": {
      "needs_background": "light"
     },
     "output_type": "display_data"
    },
    {
     "name": "stdout",
     "output_type": "stream",
     "text": [
      "94\n",
      "6.11899169993434\n"
     ]
    }
   ],
   "source": [
    "# Easier Idea\n",
    "\n",
    "# binwidth = 1/100\n",
    "# n_bg, bins_bg, patches_bg = plt.hist(x= lst_of_values_bg_pred, bins=np.arange(0, 1 + binwidth, binwidth),\n",
    "#                                      weights = df2.xs_weight[:len(lst_of_values_bg_pred)]*3e5*(651387/100000),\n",
    "#          histtype = 'step', label = 'Background')\n",
    "# n_signal, bins_signal, patches_signal = plt.hist(x= lst_of_values_signal_pred, bins=np.arange(0, 1 + binwidth, binwidth),\n",
    "#                                                  weights = df4.xs_weight[:len(lst_of_values_signal_pred)]*3e5*(177858/100000),\n",
    "#          histtype = 'step', label = 'Signal')\n",
    "# plt.show()\n",
    "# calculate the number of events\n",
    "num_bg_events = np.sum(n_bg)\n",
    "num_signal_events = np.sum(n_signal)\n",
    "\n",
    "print(num_bg_events)\n",
    "print(num_signal_events)\n",
    "\n",
    "z = np.empty(len(bins_bg))\n",
    "for i in range(len(bins_bg)):\n",
    "    num_bg_events = np.sum(n_bg[i:])\n",
    "    num_signal_events = np.sum(n_signal[i:])\n",
    "    z_i = num_signal_events / np.sqrt(num_bg_events)\n",
    "    z[i] = z_i\n",
    "#print(z)\n",
    "\n",
    "\n",
    "x = np.linspace(0,1,len(z))\n",
    "plt.plot(bins_bg,z[:])\n",
    "#plt.xlim([0, 1.0])\n",
    "#plt.ylim([0.0, 1.05])\n",
    "plt.xlabel('Threshold')\n",
    "plt.ylabel('Significance, z')\n",
    "plt.title('Significance curve with no sigma')\n",
    "plt.show()\n",
    "\n",
    "\n",
    "mask = z < 1e10     #just so doesnt include infs\n",
    "index_of_max = np.argmax(z[mask])\n",
    "max_value = np.amax(z[mask])\n",
    "\n",
    "\n",
    "#index_of_max = np.nanargmax(z[:])\n",
    "#max_value = np.nanmax(z[:])     # 1 point before last, should probs generalise so that can deal w inf etc \n",
    "print(index_of_max)\n",
    "print(max_value)"
   ]
  },
  {
   "cell_type": "code",
   "execution_count": null,
   "metadata": {},
   "outputs": [],
   "source": []
  },
  {
   "cell_type": "code",
   "execution_count": null,
   "metadata": {},
   "outputs": [],
   "source": []
  },
  {
   "cell_type": "code",
   "execution_count": 43,
   "metadata": {},
   "outputs": [
    {
     "data": {
      "image/png": "[encoded data removed]",
      "text/plain": [
       "<Figure size 432x288 with 1 Axes>"
      ]
     },
     "metadata": {
      "needs_background": "light"
     },
     "output_type": "display_data"
    },
    {
     "data": {
      "image/png": "[encoded data removed]",
      "text/plain": [
       "<Figure size 432x288 with 1 Axes>"
      ]
     },
     "metadata": {
      "needs_background": "light"
     },
     "output_type": "display_data"
    }
   ],
   "source": [
    "# See weight is const basically, so just use a value\n",
    "\n",
    "semi_xs_weight = df2['xs_weight']   # plot to show is wrong, at least 1 -ive val (is this right?)\n",
    "signal_xs_weight = df4['xs_weight'] \n",
    "#plt.hist(x=semi_xs_weight, bins = 10, weights = df2.xs_weight, density = True, histtype = 'step', label = 'Background')\n",
    "plt.hist(x=signal_xs_weight, bins = 10, weights = df4.xs_weight, density = True, histtype = 'step', label = 'Signal')\n",
    "plt.title('xs_weight')\n",
    "plt.legend()\n",
    "plt.show() \n",
    "\n",
    "semi_xs_weight = df2['xs_weight']   # plot to show is wrong, at least 1 -ive val (is this right?)\n",
    "signal_xs_weight = df4['xs_weight'] \n",
    "plt.hist(x=semi_xs_weight, bins = 10, weights = df2.xs_weight, density = True, histtype = 'step', label = 'Background')\n",
    "#plt.hist(x=signal_xs_weight, bins = 10, weights = df4.xs_weight, density = True, histtype = 'step', label = 'Signal')\n",
    "plt.title('xs_weight')\n",
    "plt.legend()\n",
    "plt.show() "
   ]
  },
  {
   "cell_type": "code",
   "execution_count": 44,
   "metadata": {},
   "outputs": [
    {
     "name": "stdout",
     "output_type": "stream",
     "text": [
      "Total number of semileptonic events is 0.3176444579366944\n",
      "Total number of ttH125 events is 0.02608758435940217\n",
      "\n",
      "Total number of semileptonic events is 150000000\n",
      "Total number of ttH125 events is 150000.0\n"
     ]
    }
   ],
   "source": [
    "#Also, to make sure we get the event weights correct, can each of you try and produce a number for the \n",
    "#total number of events you obtain when using all events in the ttH125 and ttbar semileptonic dataframes,\n",
    "#normalized to 300/fb?\n",
    "#Hopefully you all arrive at the same result.\n",
    "\n",
    "# Sligthly confused, does x_s weight normalised already entail no. events,\n",
    "# So xs_weight * 300,000 is no events\n",
    "\n",
    "#Or\n",
    "\n",
    "# Are we meant to use the equation you showed us last week and work out what N should be\n",
    "\n",
    "#Or\n",
    "\n",
    "# do both and compare them as should be same?\n",
    "\n",
    "bg_weight = semi_xs_weight[1]\n",
    "signal_weight = signal_xs_weight[1]\n",
    "\n",
    "# total number SL\n",
    "sl_tot_events = bg_weight * 300000      # weight per pb to 300fb\n",
    "\n",
    "# total number signal\n",
    "signal_tot_events = signal_weight * 300000\n",
    "\n",
    "print('Total number of semileptonic events is {}'.format(sl_tot_events))\n",
    "print('Total number of ttH125 events is {}'.format(signal_tot_events))\n",
    "print()\n",
    "\n",
    "sl_events = 300000 * 500\n",
    "signal_events = 300000 * 0.5\n",
    "\n",
    "print('Total number of semileptonic events is {}'.format(sl_events)) #150000k\n",
    "print('Total number of ttH125 events is {}'.format(signal_events))   #150k\n",
    "#tot_events = "
   ]
  },
  {
   "cell_type": "markdown",
   "metadata": {},
   "source": [
    "# Q \n",
    "Can you also overlay the discriminator distributions for the test data \n",
    "(normalized to the same area) to check if training and testing samples agree?\n",
    "# A\n",
    "not sure what is meant, so show code for the one that I did do. I did it for validation data, so when he says this does hr mean my data is test or training\n",
    "\n",
    "# Q \n",
    "If you use all the events in the dataframes and weight each entry by xs_weight you should\n",
    "get the expected number of events for 1 /pb. Is everything in the plot below already \n",
    "multiplied by 300000 to get the event yields expected for 300/fb?\n",
    "What exactly did you use?\n",
    "\n",
    "# A\n",
    "Yes, everything in the weighted plot is multiplied by 300000, show what I used as I am not sure if thats right\n",
    "\n",
    "# Q\n",
    "If you integrate the weighted histograms, how many events do you obtain in each histogram? \n",
    "\n",
    "# A\n",
    "Bit confused, why integrate the histograms when can just see how much data used, is it because this is weighted so it will give the number of events we actually expect overall in 300000 fb^-1, makes sense.\n",
    "#Did 3 ways, not really clear what was right, way I think rn is each bin is a number of events, so just need to add number events per bin, dont need to do anything regarding the width of the bin? But then an integral is the area so that does mean bin size matters, but not really sure, bc obvs sum bin size = 1\n",
    "#Think first one is correct\n",
    "\n",
    "\n",
    "# Q \n",
    "Next would be to plot ROC curves and precision-recall which have slightly different meaning.\n",
    "\n",
    "# A\n",
    "So does a ROC curve work out where the best threshold is for us, so what is significance. Also should a ROC curve be weighted\n",
    "\n",
    "# Q \n",
    "from the weighted plot, make a plot of Z = S/sqrt(B) as a function of the cut on the discriminator value, where S and B are the number of events (i.e. the integral) of the histogram \n",
    "that have discriminator value above the cut you chose. You may need to “zoom in” on the region >0.9 \n",
    "to see that it falls off again as you approach 1"
   ]
  },
  {
   "cell_type": "code",
   "execution_count": 45,
   "metadata": {},
   "outputs": [],
   "source": [
    "# "
   ]
  }
 ],
 "metadata": {
  "kernelspec": {
   "display_name": "Python 3",
   "language": "python",
   "name": "python3"
  },
  "language_info": {
   "codemirror_mode": {
    "name": "ipython",
    "version": 3
   },
   "file_extension": ".py",
   "mimetype": "text/x-python",
   "name": "python",
   "nbconvert_exporter": "python",
   "pygments_lexer": "ipython3",
   "version": "3.7.3"
  }
 },
 "nbformat": 4,
 "nbformat_minor": 4
}
