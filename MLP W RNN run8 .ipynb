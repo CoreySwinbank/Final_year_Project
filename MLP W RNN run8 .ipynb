{
 "cells": [
  {
   "cell_type": "code",
   "execution_count": 1,
   "metadata": {},
   "outputs": [],
   "source": [
    "import numpy as np\n",
    "import pandas as pd \n",
    "from sklearn.model_selection import train_test_split\n",
    "from sklearn.preprocessing import StandardScaler\n",
    "from tensorflow import keras\n",
    "#from tensorflow.keras.utils import to_categorical ## specific  one I wanna use\n",
    "from tensorflow.keras import utils\n",
    "#from tensorflow.keras.layers import Input, Dense, Dropout  # Specific ones I wanna use, can just import whole module\n",
    "from tensorflow.keras import layers \n",
    "from tensorflow.keras.models import Model\n",
    "import h5py\n",
    "#import tables\n",
    "import matplotlib.pyplot as plt\n",
    "#import tensorflow as tf\n",
    "from sklearn.metrics import confusion_matrix, ConfusionMatrixDisplay\n",
    "from sklearn.metrics import plot_confusion_matrix\n",
    "from sklearn.metrics import roc_curve, auc\n",
    "from sklearn.metrics import precision_recall_curve\n",
    "from sklearn.utils.class_weight import compute_class_weight\n",
    "\n",
    "\n",
    "from sklearn.model_selection import GridSearchCV\n",
    "#from keras.wrappers.scikit_learn import KerasClassifier\n",
    "\n",
    "from tensorflow.keras.optimizers import Adam"
   ]
  },
  {
   "cell_type": "code",
   "execution_count": 2,
   "metadata": {},
   "outputs": [],
   "source": [
    "import numpy as np\n",
    "import pandas as pd \n",
    "from sklearn.model_selection import train_test_split\n",
    "from sklearn.preprocessing import StandardScaler\n",
    "from sklearn.metrics import confusion_matrix, ConfusionMatrixDisplay\n",
    "from sklearn.metrics import plot_confusion_matrix\n",
    "from sklearn.metrics import roc_curve, auc\n",
    "from sklearn.metrics import precision_recall_curve\n",
    "from sklearn.utils.class_weight import compute_class_weight\n",
    "from sklearn.model_selection import GridSearchCV\n",
    "\n",
    "\n",
    "#from keras.wrappers.scikit_learn import KerasClassifier\n",
    "#from tensorflow.keras import utils\n",
    "#from tensorflow.keras.models import Model\n",
    "\n",
    "\n",
    "import h5py"
   ]
  },
  {
   "cell_type": "code",
   "execution_count": 3,
   "metadata": {},
   "outputs": [
    {
     "data": {
      "text/plain": [
       "True"
      ]
     },
     "execution_count": 3,
     "metadata": {},
     "output_type": "execute_result"
    }
   ],
   "source": [
    "import tensorflow as tf\n",
    "gpu_available = tf.test.is_gpu_available()\n",
    "gpu_available"
   ]
  },
  {
   "cell_type": "code",
   "execution_count": 4,
   "metadata": {},
   "outputs": [
    {
     "data": {
      "text/plain": [
       "4"
      ]
     },
     "execution_count": 4,
     "metadata": {},
     "output_type": "execute_result"
    }
   ],
   "source": [
    "x=1\n",
    "y=3\n",
    "x+y\n",
    "\n"
   ]
  },
  {
   "cell_type": "code",
   "execution_count": 5,
   "metadata": {},
   "outputs": [],
   "source": [
    "# Load the HDF5 file\n",
    "with h5py.File('DF_event_based.h5', 'r') as hf:\n",
    "    # Access the dataset by name and load it into a pandas dataframe\n",
    "    df_total = pd.DataFrame(hf['dataset_name'][:])\n",
    "\n",
    "with h5py.File('4_event_types_weights.h5', 'r') as f:\n",
    "    df_weights = f['array'][:]\n",
    "\n",
    "with h5py.File('rnn_run8_predictions.h5', 'r') as f:\n",
    "    predicted_val = f['val_preds'][:]\n",
    "    predicted_train = f['train_preds'][:]\n",
    "\n",
    "with h5py.File('4_event_types_labels.h5', 'r') as f:\n",
    "    df_labels = f['array'][:]"
   ]
  },
  {
   "cell_type": "code",
   "execution_count": 6,
   "metadata": {},
   "outputs": [],
   "source": [
    "# df column headers\n",
    "column_names = ['dataset', 'DiJet_mass', 'HT', 'InputMet_InputJet_mindPhi',\n",
    "       'InputMet_pt', 'MHT_pt', 'MinChi', 'MinOmegaHat', 'MinOmegaTilde',  'ncleanedBJet',\n",
    "       'ncleanedJet']\n",
    "\n",
    "\n",
    "# use rename() to rename columns\n",
    "df_total = df_total.rename(columns=dict(zip(df_total.columns, column_names)))\n"
   ]
  },
  {
   "cell_type": "code",
   "execution_count": 7,
   "metadata": {},
   "outputs": [],
   "source": [
    "df_Xvars = df_total.drop(['dataset'], axis = 1, inplace = False)   #Need to remove dataset (prediction) column\n",
    "\n",
    "x = df_Xvars.values\n",
    "y = df_labels\n",
    "\n",
    "X_train, X_valid, y_train, y_valid = train_test_split(x, y, train_size=0.8, test_size=0.2,\n",
    "                                                      random_state=72)\n"
   ]
  },
  {
   "cell_type": "code",
   "execution_count": 8,
   "metadata": {},
   "outputs": [
    {
     "name": "stdout",
     "output_type": "stream",
     "text": [
      "There are [11] variables in this model\n",
      "The dataset has 881096 processes\n",
      "[11]\n"
     ]
    }
   ],
   "source": [
    "X_train = np.hstack((X_train, predicted_train))\n",
    "X_valid = np.hstack((X_valid, predicted_val))\n",
    "input_shape = [X_train.shape[1]] \n",
    "\n",
    "input_shape = [X_train.shape[1]]\n",
    "print('There are', input_shape, 'variables in this model')\n",
    "print('The dataset has', len(y), 'processes')\n",
    "print(input_shape)"
   ]
  },
  {
   "cell_type": "code",
   "execution_count": 9,
   "metadata": {},
   "outputs": [
    {
     "name": "stdout",
     "output_type": "stream",
     "text": [
      "Model: \"sequential\"\n",
      "_________________________________________________________________\n",
      "Layer (type)                 Output Shape              Param #   \n",
      "=================================================================\n",
      "batch_normalization (BatchNo (None, 11)                44        \n",
      "_________________________________________________________________\n",
      "dense (Dense)                (None, 256)               3072      \n",
      "_________________________________________________________________\n",
      "batch_normalization_1 (Batch (None, 256)               1024      \n",
      "_________________________________________________________________\n",
      "dropout (Dropout)            (None, 256)               0         \n",
      "_________________________________________________________________\n",
      "dense_1 (Dense)              (None, 256)               65792     \n",
      "_________________________________________________________________\n",
      "batch_normalization_2 (Batch (None, 256)               1024      \n",
      "_________________________________________________________________\n",
      "dropout_1 (Dropout)          (None, 256)               0         \n",
      "_________________________________________________________________\n",
      "dense_2 (Dense)              (None, 1)                 257       \n",
      "=================================================================\n",
      "Total params: 71,213\n",
      "Trainable params: 70,167\n",
      "Non-trainable params: 1,046\n",
      "_________________________________________________________________\n"
     ]
    }
   ],
   "source": [
    "#Define the Model\n",
    "\n",
    "#2 hidden\n",
    "model = keras.Sequential([\n",
    "    layers.BatchNormalization(input_shape=([11])), \n",
    "    layers.Dense(units=256, activation='relu'),\n",
    "    layers.BatchNormalization(),\n",
    "    layers.Dropout(rate = 0.2), \n",
    "    layers.Dense(units=256, activation='relu'),\n",
    "    layers.BatchNormalization(),\n",
    "    layers.Dropout(rate = 0.2),\n",
    "    layers.Dense(units=1, activation='sigmoid'),\n",
    "])\n",
    "\n",
    "\n",
    "from tensorflow.keras.optimizers import Adam\n",
    "\n",
    "lr = 0.0001 # specify learning rate\n",
    "optimizer = Adam(learning_rate=lr)\n",
    "#model.compile(optimizer=optimizer, loss='categorical_crossentropy')\n",
    "\n",
    "\n",
    "\n",
    "model.compile(\n",
    "    optimizer=optimizer,\n",
    "    loss='binary_crossentropy',\n",
    "    metrics=['binary_accuracy'],\n",
    ")\n",
    "\n",
    "\n",
    "model.summary()\n"
   ]
  },
  {
   "cell_type": "code",
   "execution_count": 10,
   "metadata": {
    "scrolled": true
   },
   "outputs": [
    {
     "data": {
      "image/svg+xml": [
       "<svg height=\"678pt\" viewBox=\"0.00 0.00 252.73 751.40\" width=\"228pt\" xmlns=\"http://www.w3.org/2000/svg\" xmlns:xlink=\"http://www.w3.org/1999/xlink\">\n",
       "<g class=\"graph\" id=\"graph0\" transform=\"scale(0.902778 0.902778) rotate(0) translate(4 747.4)\">\n",
       "<title>G</title>\n",
       "<polygon fill=\"white\" points=\"-4,4 -4,-747.4 248.728,-747.4 248.728,4 -4,4\" stroke=\"none\"/>\n",
       "<!-- 140620518566264 -->\n",
       "<g class=\"node\" id=\"node1\"><title>140620518566264</title>\n",
       "<polygon fill=\"none\" points=\"24.5028,-693.3 24.5028,-742.9 220.225,-742.9 220.225,-693.3 24.5028,-693.3\" stroke=\"black\"/>\n",
       "<text font-family=\"Times,serif\" font-size=\"14.00\" text-anchor=\"middle\" x=\"63.5996\" y=\"-713.9\">InputLayer</text>\n",
       "<polyline fill=\"none\" points=\"102.696,-693.3 102.696,-742.9 \" stroke=\"black\"/>\n",
       "<text font-family=\"Times,serif\" font-size=\"14.00\" text-anchor=\"middle\" x=\"130.532\" y=\"-726.3\">input:</text>\n",
       "<polyline fill=\"none\" points=\"102.696,-718.1 158.368,-718.1 \" stroke=\"black\"/>\n",
       "<text font-family=\"Times,serif\" font-size=\"14.00\" text-anchor=\"middle\" x=\"130.532\" y=\"-701.5\">output:</text>\n",
       "<polyline fill=\"none\" points=\"158.368,-693.3 158.368,-742.9 \" stroke=\"black\"/>\n",
       "<text font-family=\"Times,serif\" font-size=\"14.00\" text-anchor=\"middle\" x=\"189.297\" y=\"-726.3\">[(?, 11)]</text>\n",
       "<polyline fill=\"none\" points=\"158.368,-718.1 220.225,-718.1 \" stroke=\"black\"/>\n",
       "<text font-family=\"Times,serif\" font-size=\"14.00\" text-anchor=\"middle\" x=\"189.297\" y=\"-701.5\">[(?, 11)]</text>\n",
       "</g>\n",
       "<!-- 140620549185888 -->\n",
       "<g class=\"node\" id=\"node2\"><title>140620549185888</title>\n",
       "<polygon fill=\"none\" points=\"3.5,-606.7 3.5,-656.3 241.228,-656.3 241.228,-606.7 3.5,-606.7\" stroke=\"black\"/>\n",
       "<text font-family=\"Times,serif\" font-size=\"14.00\" text-anchor=\"middle\" x=\"68.2602\" y=\"-627.3\">BatchNormalization</text>\n",
       "<polyline fill=\"none\" points=\"133.02,-606.7 133.02,-656.3 \" stroke=\"black\"/>\n",
       "<text font-family=\"Times,serif\" font-size=\"14.00\" text-anchor=\"middle\" x=\"160.856\" y=\"-639.7\">input:</text>\n",
       "<polyline fill=\"none\" points=\"133.02,-631.5 188.692,-631.5 \" stroke=\"black\"/>\n",
       "<text font-family=\"Times,serif\" font-size=\"14.00\" text-anchor=\"middle\" x=\"160.856\" y=\"-614.9\">output:</text>\n",
       "<polyline fill=\"none\" points=\"188.692,-606.7 188.692,-656.3 \" stroke=\"black\"/>\n",
       "<text font-family=\"Times,serif\" font-size=\"14.00\" text-anchor=\"middle\" x=\"214.96\" y=\"-639.7\">(?, 11)</text>\n",
       "<polyline fill=\"none\" points=\"188.692,-631.5 241.228,-631.5 \" stroke=\"black\"/>\n",
       "<text font-family=\"Times,serif\" font-size=\"14.00\" text-anchor=\"middle\" x=\"214.96\" y=\"-614.9\">(?, 11)</text>\n",
       "</g>\n",
       "<!-- 140620518566264&#45;&gt;140620549185888 -->\n",
       "<g class=\"edge\" id=\"edge1\"><title>140620518566264-&gt;140620549185888</title>\n",
       "<path d=\"M122.364,-693.083C122.364,-684.867 122.364,-675.512 122.364,-666.652\" fill=\"none\" stroke=\"black\"/>\n",
       "<polygon fill=\"black\" points=\"125.864,-666.577 122.364,-656.577 118.864,-666.577 125.864,-666.577\" stroke=\"black\"/>\n",
       "</g>\n",
       "<!-- 140620549187232 -->\n",
       "<g class=\"node\" id=\"node3\"><title>140620549187232</title>\n",
       "<polygon fill=\"none\" points=\"39.27,-520.1 39.27,-569.7 205.458,-569.7 205.458,-520.1 39.27,-520.1\" stroke=\"black\"/>\n",
       "<text font-family=\"Times,serif\" font-size=\"14.00\" text-anchor=\"middle\" x=\"64.7602\" y=\"-540.7\">Dense</text>\n",
       "<polyline fill=\"none\" points=\"90.2504,-520.1 90.2504,-569.7 \" stroke=\"black\"/>\n",
       "<text font-family=\"Times,serif\" font-size=\"14.00\" text-anchor=\"middle\" x=\"118.086\" y=\"-553.1\">input:</text>\n",
       "<polyline fill=\"none\" points=\"90.2504,-544.9 145.922,-544.9 \" stroke=\"black\"/>\n",
       "<text font-family=\"Times,serif\" font-size=\"14.00\" text-anchor=\"middle\" x=\"118.086\" y=\"-528.3\">output:</text>\n",
       "<polyline fill=\"none\" points=\"145.922,-520.1 145.922,-569.7 \" stroke=\"black\"/>\n",
       "<text font-family=\"Times,serif\" font-size=\"14.00\" text-anchor=\"middle\" x=\"175.69\" y=\"-553.1\">(?, 11)</text>\n",
       "<polyline fill=\"none\" points=\"145.922,-544.9 205.458,-544.9 \" stroke=\"black\"/>\n",
       "<text font-family=\"Times,serif\" font-size=\"14.00\" text-anchor=\"middle\" x=\"175.69\" y=\"-528.3\">(?, 256)</text>\n",
       "</g>\n",
       "<!-- 140620549185888&#45;&gt;140620549187232 -->\n",
       "<g class=\"edge\" id=\"edge2\"><title>140620549185888-&gt;140620549187232</title>\n",
       "<path d=\"M122.364,-606.483C122.364,-598.267 122.364,-588.912 122.364,-580.052\" fill=\"none\" stroke=\"black\"/>\n",
       "<polygon fill=\"black\" points=\"125.864,-579.977 122.364,-569.977 118.864,-579.977 125.864,-579.977\" stroke=\"black\"/>\n",
       "</g>\n",
       "<!-- 140620549187960 -->\n",
       "<g class=\"node\" id=\"node4\"><title>140620549187960</title>\n",
       "<polygon fill=\"none\" points=\"0,-433.5 0,-483.1 244.728,-483.1 244.728,-433.5 0,-433.5\" stroke=\"black\"/>\n",
       "<text font-family=\"Times,serif\" font-size=\"14.00\" text-anchor=\"middle\" x=\"64.7602\" y=\"-454.1\">BatchNormalization</text>\n",
       "<polyline fill=\"none\" points=\"129.52,-433.5 129.52,-483.1 \" stroke=\"black\"/>\n",
       "<text font-family=\"Times,serif\" font-size=\"14.00\" text-anchor=\"middle\" x=\"157.356\" y=\"-466.5\">input:</text>\n",
       "<polyline fill=\"none\" points=\"129.52,-458.3 185.192,-458.3 \" stroke=\"black\"/>\n",
       "<text font-family=\"Times,serif\" font-size=\"14.00\" text-anchor=\"middle\" x=\"157.356\" y=\"-441.7\">output:</text>\n",
       "<polyline fill=\"none\" points=\"185.192,-433.5 185.192,-483.1 \" stroke=\"black\"/>\n",
       "<text font-family=\"Times,serif\" font-size=\"14.00\" text-anchor=\"middle\" x=\"214.96\" y=\"-466.5\">(?, 256)</text>\n",
       "<polyline fill=\"none\" points=\"185.192,-458.3 244.728,-458.3 \" stroke=\"black\"/>\n",
       "<text font-family=\"Times,serif\" font-size=\"14.00\" text-anchor=\"middle\" x=\"214.96\" y=\"-441.7\">(?, 256)</text>\n",
       "</g>\n",
       "<!-- 140620549187232&#45;&gt;140620549187960 -->\n",
       "<g class=\"edge\" id=\"edge3\"><title>140620549187232-&gt;140620549187960</title>\n",
       "<path d=\"M122.364,-519.883C122.364,-511.667 122.364,-502.312 122.364,-493.452\" fill=\"none\" stroke=\"black\"/>\n",
       "<polygon fill=\"black\" points=\"125.864,-493.377 122.364,-483.377 118.864,-493.377 125.864,-493.377\" stroke=\"black\"/>\n",
       "</g>\n",
       "<!-- 140620549188856 -->\n",
       "<g class=\"node\" id=\"node5\"><title>140620549188856</title>\n",
       "<polygon fill=\"none\" points=\"33.4313,-346.9 33.4313,-396.5 211.297,-396.5 211.297,-346.9 33.4313,-346.9\" stroke=\"black\"/>\n",
       "<text font-family=\"Times,serif\" font-size=\"14.00\" text-anchor=\"middle\" x=\"64.7602\" y=\"-367.5\">Dropout</text>\n",
       "<polyline fill=\"none\" points=\"96.0891,-346.9 96.0891,-396.5 \" stroke=\"black\"/>\n",
       "<text font-family=\"Times,serif\" font-size=\"14.00\" text-anchor=\"middle\" x=\"123.925\" y=\"-379.9\">input:</text>\n",
       "<polyline fill=\"none\" points=\"96.0891,-371.7 151.761,-371.7 \" stroke=\"black\"/>\n",
       "<text font-family=\"Times,serif\" font-size=\"14.00\" text-anchor=\"middle\" x=\"123.925\" y=\"-355.1\">output:</text>\n",
       "<polyline fill=\"none\" points=\"151.761,-346.9 151.761,-396.5 \" stroke=\"black\"/>\n",
       "<text font-family=\"Times,serif\" font-size=\"14.00\" text-anchor=\"middle\" x=\"181.529\" y=\"-379.9\">(?, 256)</text>\n",
       "<polyline fill=\"none\" points=\"151.761,-371.7 211.297,-371.7 \" stroke=\"black\"/>\n",
       "<text font-family=\"Times,serif\" font-size=\"14.00\" text-anchor=\"middle\" x=\"181.529\" y=\"-355.1\">(?, 256)</text>\n",
       "</g>\n",
       "<!-- 140620549187960&#45;&gt;140620549188856 -->\n",
       "<g class=\"edge\" id=\"edge4\"><title>140620549187960-&gt;140620549188856</title>\n",
       "<path d=\"M122.364,-433.283C122.364,-425.067 122.364,-415.712 122.364,-406.852\" fill=\"none\" stroke=\"black\"/>\n",
       "<polygon fill=\"black\" points=\"125.864,-406.777 122.364,-396.777 118.864,-406.777 125.864,-406.777\" stroke=\"black\"/>\n",
       "</g>\n",
       "<!-- 140620549189136 -->\n",
       "<g class=\"node\" id=\"node6\"><title>140620549189136</title>\n",
       "<polygon fill=\"none\" points=\"39.27,-260.3 39.27,-309.9 205.458,-309.9 205.458,-260.3 39.27,-260.3\" stroke=\"black\"/>\n",
       "<text font-family=\"Times,serif\" font-size=\"14.00\" text-anchor=\"middle\" x=\"64.7602\" y=\"-280.9\">Dense</text>\n",
       "<polyline fill=\"none\" points=\"90.2504,-260.3 90.2504,-309.9 \" stroke=\"black\"/>\n",
       "<text font-family=\"Times,serif\" font-size=\"14.00\" text-anchor=\"middle\" x=\"118.086\" y=\"-293.3\">input:</text>\n",
       "<polyline fill=\"none\" points=\"90.2504,-285.1 145.922,-285.1 \" stroke=\"black\"/>\n",
       "<text font-family=\"Times,serif\" font-size=\"14.00\" text-anchor=\"middle\" x=\"118.086\" y=\"-268.5\">output:</text>\n",
       "<polyline fill=\"none\" points=\"145.922,-260.3 145.922,-309.9 \" stroke=\"black\"/>\n",
       "<text font-family=\"Times,serif\" font-size=\"14.00\" text-anchor=\"middle\" x=\"175.69\" y=\"-293.3\">(?, 256)</text>\n",
       "<polyline fill=\"none\" points=\"145.922,-285.1 205.458,-285.1 \" stroke=\"black\"/>\n",
       "<text font-family=\"Times,serif\" font-size=\"14.00\" text-anchor=\"middle\" x=\"175.69\" y=\"-268.5\">(?, 256)</text>\n",
       "</g>\n",
       "<!-- 140620549188856&#45;&gt;140620549189136 -->\n",
       "<g class=\"edge\" id=\"edge5\"><title>140620549188856-&gt;140620549189136</title>\n",
       "<path d=\"M122.364,-346.683C122.364,-338.467 122.364,-329.112 122.364,-320.252\" fill=\"none\" stroke=\"black\"/>\n",
       "<polygon fill=\"black\" points=\"125.864,-320.177 122.364,-310.177 118.864,-320.177 125.864,-320.177\" stroke=\"black\"/>\n",
       "</g>\n",
       "<!-- 140620518564192 -->\n",
       "<g class=\"node\" id=\"node7\"><title>140620518564192</title>\n",
       "<polygon fill=\"none\" points=\"0,-173.7 0,-223.3 244.728,-223.3 244.728,-173.7 0,-173.7\" stroke=\"black\"/>\n",
       "<text font-family=\"Times,serif\" font-size=\"14.00\" text-anchor=\"middle\" x=\"64.7602\" y=\"-194.3\">BatchNormalization</text>\n",
       "<polyline fill=\"none\" points=\"129.52,-173.7 129.52,-223.3 \" stroke=\"black\"/>\n",
       "<text font-family=\"Times,serif\" font-size=\"14.00\" text-anchor=\"middle\" x=\"157.356\" y=\"-206.7\">input:</text>\n",
       "<polyline fill=\"none\" points=\"129.52,-198.5 185.192,-198.5 \" stroke=\"black\"/>\n",
       "<text font-family=\"Times,serif\" font-size=\"14.00\" text-anchor=\"middle\" x=\"157.356\" y=\"-181.9\">output:</text>\n",
       "<polyline fill=\"none\" points=\"185.192,-173.7 185.192,-223.3 \" stroke=\"black\"/>\n",
       "<text font-family=\"Times,serif\" font-size=\"14.00\" text-anchor=\"middle\" x=\"214.96\" y=\"-206.7\">(?, 256)</text>\n",
       "<polyline fill=\"none\" points=\"185.192,-198.5 244.728,-198.5 \" stroke=\"black\"/>\n",
       "<text font-family=\"Times,serif\" font-size=\"14.00\" text-anchor=\"middle\" x=\"214.96\" y=\"-181.9\">(?, 256)</text>\n",
       "</g>\n",
       "<!-- 140620549189136&#45;&gt;140620518564192 -->\n",
       "<g class=\"edge\" id=\"edge6\"><title>140620549189136-&gt;140620518564192</title>\n",
       "<path d=\"M122.364,-260.083C122.364,-251.867 122.364,-242.512 122.364,-233.652\" fill=\"none\" stroke=\"black\"/>\n",
       "<polygon fill=\"black\" points=\"125.864,-233.577 122.364,-223.577 118.864,-233.577 125.864,-233.577\" stroke=\"black\"/>\n",
       "</g>\n",
       "<!-- 140620549027320 -->\n",
       "<g class=\"node\" id=\"node8\"><title>140620549027320</title>\n",
       "<polygon fill=\"none\" points=\"33.4313,-87.1 33.4313,-136.7 211.297,-136.7 211.297,-87.1 33.4313,-87.1\" stroke=\"black\"/>\n",
       "<text font-family=\"Times,serif\" font-size=\"14.00\" text-anchor=\"middle\" x=\"64.7602\" y=\"-107.7\">Dropout</text>\n",
       "<polyline fill=\"none\" points=\"96.0891,-87.1 96.0891,-136.7 \" stroke=\"black\"/>\n",
       "<text font-family=\"Times,serif\" font-size=\"14.00\" text-anchor=\"middle\" x=\"123.925\" y=\"-120.1\">input:</text>\n",
       "<polyline fill=\"none\" points=\"96.0891,-111.9 151.761,-111.9 \" stroke=\"black\"/>\n",
       "<text font-family=\"Times,serif\" font-size=\"14.00\" text-anchor=\"middle\" x=\"123.925\" y=\"-95.3\">output:</text>\n",
       "<polyline fill=\"none\" points=\"151.761,-87.1 151.761,-136.7 \" stroke=\"black\"/>\n",
       "<text font-family=\"Times,serif\" font-size=\"14.00\" text-anchor=\"middle\" x=\"181.529\" y=\"-120.1\">(?, 256)</text>\n",
       "<polyline fill=\"none\" points=\"151.761,-111.9 211.297,-111.9 \" stroke=\"black\"/>\n",
       "<text font-family=\"Times,serif\" font-size=\"14.00\" text-anchor=\"middle\" x=\"181.529\" y=\"-95.3\">(?, 256)</text>\n",
       "</g>\n",
       "<!-- 140620518564192&#45;&gt;140620549027320 -->\n",
       "<g class=\"edge\" id=\"edge7\"><title>140620518564192-&gt;140620549027320</title>\n",
       "<path d=\"M122.364,-173.483C122.364,-165.267 122.364,-155.912 122.364,-147.052\" fill=\"none\" stroke=\"black\"/>\n",
       "<polygon fill=\"black\" points=\"125.864,-146.977 122.364,-136.977 118.864,-146.977 125.864,-146.977\" stroke=\"black\"/>\n",
       "</g>\n",
       "<!-- 140620518565200 -->\n",
       "<g class=\"node\" id=\"node9\"><title>140620518565200</title>\n",
       "<polygon fill=\"none\" points=\"39.27,-0.5 39.27,-50.1 205.458,-50.1 205.458,-0.5 39.27,-0.5\" stroke=\"black\"/>\n",
       "<text font-family=\"Times,serif\" font-size=\"14.00\" text-anchor=\"middle\" x=\"64.7602\" y=\"-21.1\">Dense</text>\n",
       "<polyline fill=\"none\" points=\"90.2504,-0.5 90.2504,-50.1 \" stroke=\"black\"/>\n",
       "<text font-family=\"Times,serif\" font-size=\"14.00\" text-anchor=\"middle\" x=\"118.086\" y=\"-33.5\">input:</text>\n",
       "<polyline fill=\"none\" points=\"90.2504,-25.3 145.922,-25.3 \" stroke=\"black\"/>\n",
       "<text font-family=\"Times,serif\" font-size=\"14.00\" text-anchor=\"middle\" x=\"118.086\" y=\"-8.7\">output:</text>\n",
       "<polyline fill=\"none\" points=\"145.922,-0.5 145.922,-50.1 \" stroke=\"black\"/>\n",
       "<text font-family=\"Times,serif\" font-size=\"14.00\" text-anchor=\"middle\" x=\"175.69\" y=\"-33.5\">(?, 256)</text>\n",
       "<polyline fill=\"none\" points=\"145.922,-25.3 205.458,-25.3 \" stroke=\"black\"/>\n",
       "<text font-family=\"Times,serif\" font-size=\"14.00\" text-anchor=\"middle\" x=\"175.19\" y=\"-8.7\">(?, 1)</text>\n",
       "</g>\n",
       "<!-- 140620549027320&#45;&gt;140620518565200 -->\n",
       "<g class=\"edge\" id=\"edge8\"><title>140620549027320-&gt;140620518565200</title>\n",
       "<path d=\"M122.364,-86.8833C122.364,-78.6673 122.364,-69.3117 122.364,-60.4518\" fill=\"none\" stroke=\"black\"/>\n",
       "<polygon fill=\"black\" points=\"125.864,-60.3767 122.364,-50.3767 118.864,-60.3768 125.864,-60.3767\" stroke=\"black\"/>\n",
       "</g>\n",
       "</g>\n",
       "</svg>"
      ],
      "text/plain": [
       "<IPython.core.display.SVG object>"
      ]
     },
     "execution_count": 10,
     "metadata": {},
     "output_type": "execute_result"
    }
   ],
   "source": [
    "from IPython.display import SVG\n",
    "from tensorflow.keras.utils import model_to_dot\n",
    "\n",
    "SVG(model_to_dot(model, show_shapes=True, show_layer_names=False, dpi=65).create(prog='dot', format='svg'))\n"
   ]
  },
  {
   "cell_type": "code",
   "execution_count": 11,
   "metadata": {
    "scrolled": false
   },
   "outputs": [
    {
     "name": "stdout",
     "output_type": "stream",
     "text": [
      "Train on 704876 samples, validate on 176220 samples\n",
      "Epoch 1/15\n",
      "704876/704876 [==============================] - 18s 26us/sample - loss: 0.5969 - binary_accuracy: 0.6962 - val_loss: 0.5579 - val_binary_accuracy: 0.7245\n",
      "Epoch 2/15\n",
      "704876/704876 [==============================] - 16s 22us/sample - loss: 0.5659 - binary_accuracy: 0.7151 - val_loss: 0.5553 - val_binary_accuracy: 0.7313\n",
      "Epoch 3/15\n",
      "704876/704876 [==============================] - 15s 22us/sample - loss: 0.5571 - binary_accuracy: 0.7220 - val_loss: 0.5543 - val_binary_accuracy: 0.7282\n",
      "Epoch 4/15\n",
      "704876/704876 [==============================] - 15s 21us/sample - loss: 0.5529 - binary_accuracy: 0.7245 - val_loss: 0.5539 - val_binary_accuracy: 0.7307\n",
      "Epoch 5/15\n",
      "704876/704876 [==============================] - 15s 21us/sample - loss: 0.5510 - binary_accuracy: 0.7273 - val_loss: 0.5532 - val_binary_accuracy: 0.7308\n",
      "Epoch 6/15\n",
      "704876/704876 [==============================] - 14s 21us/sample - loss: 0.5490 - binary_accuracy: 0.7292 - val_loss: 0.5525 - val_binary_accuracy: 0.7348\n",
      "Epoch 7/15\n",
      "704876/704876 [==============================] - 15s 21us/sample - loss: 0.5488 - binary_accuracy: 0.7290 - val_loss: 0.5526 - val_binary_accuracy: 0.7305\n",
      "Epoch 8/15\n",
      "704876/704876 [==============================] - 15s 21us/sample - loss: 0.5478 - binary_accuracy: 0.7304 - val_loss: 0.5521 - val_binary_accuracy: 0.7336\n",
      "Epoch 9/15\n",
      "704876/704876 [==============================] - 15s 21us/sample - loss: 0.5475 - binary_accuracy: 0.7303 - val_loss: 0.5528 - val_binary_accuracy: 0.7386\n",
      "Epoch 10/15\n",
      "704876/704876 [==============================] - 15s 21us/sample - loss: 0.5469 - binary_accuracy: 0.7309 - val_loss: 0.5517 - val_binary_accuracy: 0.7351\n",
      "Epoch 11/15\n",
      "704876/704876 [==============================] - 15s 21us/sample - loss: 0.5465 - binary_accuracy: 0.7310 - val_loss: 0.5515 - val_binary_accuracy: 0.7235\n",
      "Epoch 12/15\n",
      "704876/704876 [==============================] - 15s 21us/sample - loss: 0.5464 - binary_accuracy: 0.7312 - val_loss: 0.5514 - val_binary_accuracy: 0.7330\n",
      "Epoch 13/15\n",
      "704876/704876 [==============================] - 15s 21us/sample - loss: 0.5460 - binary_accuracy: 0.7317 - val_loss: 0.5520 - val_binary_accuracy: 0.7262\n",
      "Epoch 14/15\n",
      "704876/704876 [==============================] - 15s 21us/sample - loss: 0.5459 - binary_accuracy: 0.7315 - val_loss: 0.5510 - val_binary_accuracy: 0.7323\n",
      "Epoch 15/15\n",
      "704876/704876 [==============================] - 15s 21us/sample - loss: 0.5457 - binary_accuracy: 0.7312 - val_loss: 0.5506 - val_binary_accuracy: 0.7357\n",
      "Best Validation Loss: 0.5506\n",
      "Best Validation Accuracy: 0.7386\n"
     ]
    },
    {
     "data": {
      "image/png": "[encoded data removed]",
      "text/plain": [
       "<Figure size 432x288 with 1 Axes>"
      ]
     },
     "metadata": {
      "needs_background": "light"
     },
     "output_type": "display_data"
    },
    {
     "data": {
      "image/png": "[encoded data removed]",
      "text/plain": [
       "<Figure size 432x288 with 1 Axes>"
      ]
     },
     "metadata": {
      "needs_background": "light"
     },
     "output_type": "display_data"
    }
   ],
   "source": [
    "# Train the model, on the full data set\n",
    "\n",
    "early_stopping = keras.callbacks.EarlyStopping(\n",
    "    patience=150,\n",
    "    min_delta=0.001,\n",
    "    restore_best_weights=True,\n",
    ")\n",
    "\n",
    "class_weights = compute_class_weight('balanced', np.unique(y_train), y_train)\n",
    "class_weight = {0: class_weights[0], \n",
    "               1: class_weights[1]}        # Done by compute_class_weight('balanced', np.unique(y_train), y_train) in cell above\n",
    "\n",
    "history = model.fit(\n",
    "    X_train, y_train,\n",
    "    validation_data=(X_valid, y_valid),\n",
    "    batch_size=256,\n",
    "    epochs=15,\n",
    "    callbacks=[early_stopping],\n",
    "    #verbose = 0   #Hide output of epochs\n",
    "    class_weight = class_weight\n",
    ")\n",
    "\n",
    "history_df = pd.DataFrame(history.history)\n",
    "history_df.loc[:, ['loss', 'val_loss']].plot(title=\"Cross-entropy\")\n",
    "history_df.loc[:, ['binary_accuracy', 'val_binary_accuracy']].plot(title=\"Accuracy\")\n",
    "history_df = pd.DataFrame(history.history)\n",
    "\n",
    "print((\"Best Validation Loss: {:0.4f}\" +\\\n",
    "      \"\\nBest Validation Accuracy: {:0.4f}\")\\\n",
    "      .format(history_df['val_loss'].min(), \n",
    "              history_df['val_binary_accuracy'].max()))\n",
    "# 73.5%\n",
    "#takes like 10 mins to run rn, only 3 layers"
   ]
  },
  {
   "cell_type": "code",
   "execution_count": 9,
   "metadata": {},
   "outputs": [],
   "source": [
    "#model.save('trained_combined_model_run8.h5')\n",
    "\n",
    "from tensorflow.keras.models import load_model\n",
    "model = load_model('trained_combined_model_run8.h5')\n"
   ]
  },
  {
   "cell_type": "code",
   "execution_count": 10,
   "metadata": {},
   "outputs": [
    {
     "name": "stdout",
     "output_type": "stream",
     "text": [
      "0\n",
      "Permuted feature DiJet_mass\n",
      "1\n",
      "Permuted feature HT\n",
      "2\n",
      "Permuted feature InputMet_InputJet_mindPhi\n",
      "3\n",
      "Permuted feature InputMet_pt\n",
      "4\n",
      "Permuted feature MHT_pt\n",
      "5\n",
      "Permuted feature MinChi\n",
      "6\n",
      "Permuted feature MinOmegaHat\n",
      "7\n",
      "Permuted feature MinOmegaTilde\n",
      "8\n",
      "Permuted feature ncleanedBJet\n",
      "9\n",
      "Permuted feature ncleanedJet\n",
      "10\n",
      "Permuted feature RNN prediction\n",
      "[0.01524701 0.0543806  0.06699513 0.0945571  0.08928023 0.10007859\n",
      " 0.09564193 0.09763145 0.0986968  0.10010152 0.18738965]\n",
      "\n",
      "[0.01524701 0.0543806  0.06699513 0.08928023 0.0945571  0.09564193\n",
      " 0.09763145 0.0986968  0.10007859 0.10010152 0.18738965]\n"
     ]
    }
   ],
   "source": [
    "# #using a permutation method to see what features are important\n",
    "\n",
    "\n",
    "features = ['DiJet_mass', 'HT', 'InputMet_InputJet_mindPhi',\n",
    "            'InputMet_pt', 'MHT_pt', 'MinChi', 'MinOmegaHat', 'MinOmegaTilde',  'ncleanedBJet',\n",
    "            'ncleanedJet', 'RNN prediction']\n",
    "\n",
    "y_pred = model.predict(X_train)    # can do train or valid, want to see if results differ\n",
    "\n",
    "# Get the number of features\n",
    "n_features = X_train.shape[1]\n",
    "\n",
    "# Initialize an array to store feature importances\n",
    "importances = np.zeros(n_features)\n",
    "\n",
    "# Calculate the feature importances using the permutation feature importance method\n",
    "# Drops each variable one at a time \n",
    "for i in range(n_features):\n",
    "    print(i)    #counter to check is working, should go to 40\n",
    "    feature_name = features[i]\n",
    "    X_permuted = X_train\n",
    "    X_permuted[:, i] = np.random.permutation(X_permuted[:, i])\n",
    "    y_permuted = model.predict(X_permuted)\n",
    "    importances[i] = np.abs(y_permuted - y_pred).mean()\n",
    "    #importances[i] = (y_permuted - y_pred).mean()    #try without a abs, see if positively or negatively affected by removal?\n",
    "    print(f\"Permuted feature {feature_name}\")\n",
    "\n",
    "# Normalize the feature importances\n",
    "importances /= importances.sum()   # importances sum to 1, so can be taken as a literal how important a variable\n",
    "# is for the model\n",
    "\n",
    "print(importances)  # using abs\n",
    "\n",
    "print()#\n",
    "\n",
    "print(np.sort(importances))\n",
    "\n",
    "# np.random.permutation randomly permutes (rearranges in a random order) the elements.\n",
    "# In this case, it is used to shuffle the values in a single column of the X_permuted array.\n",
    "# Guess then this variable isnt useful in the prediction"
   ]
  },
  {
   "cell_type": "code",
   "execution_count": 11,
   "metadata": {},
   "outputs": [
    {
     "name": "stdout",
     "output_type": "stream",
     "text": [
      "['DiJet_mass']\n"
     ]
    }
   ],
   "source": [
    "importances_dict = dict(zip(features, importances))\n",
    "# key:value\n",
    "\n",
    "#print(combined_dict)\n",
    "\n",
    "# get values for keys less than 0.01\n",
    "values = []\n",
    "for value, key in importances_dict.items():\n",
    "    if key < 0.05:\n",
    "        values.append(value)\n",
    "\n",
    "# print the values\n",
    "print(values)\n",
    "\n",
    "# create a list of feature names and importance scores from the dictionary\n",
    "\n",
    "import matplotlib.pyplot as plt\n",
    "\n",
    "# Assuming your dictionary is called `importance_dict`\n",
    "sorted_dict = dict(sorted(importances_dict.items(), key=lambda item: item[1], reverse=False))\n",
    "\n",
    "# Extracting feature names and importance scores\n",
    "feature_names = list(sorted_dict.keys())\n",
    "importance_scores = list(sorted_dict.values())\n"
   ]
  },
  {
   "cell_type": "code",
   "execution_count": 13,
   "metadata": {},
   "outputs": [
    {
     "data": {
      "image/png": "[encoded data removed]",
      "text/plain": [
       "<Figure size 800x500 with 1 Axes>"
      ]
     },
     "metadata": {
      "needs_background": "light"
     },
     "output_type": "display_data"
    }
   ],
   "source": [
    "feature_names[2] = 'Met_Jet_mindPhi'\n",
    "\n",
    "# plot it as a horizontal bar\n",
    "plt.figure(dpi=100, figsize=(8, 5))\n",
    "# Plotting horizontal bar chart\n",
    "plt.barh(feature_names, importance_scores)\n",
    "plt.xlabel('Normalised Importance', fontsize=14)\n",
    "plt.ylabel('Feature Name', fontsize=14)\n",
    "\n",
    "#ax.set_yticks(feature_names, ticks)\n",
    "plt.tick_params(axis='both', labelsize=14)\n",
    "plt.savefig('binary_permutation.png', dpi=300, bbox_inches='tight')"
   ]
  },
  {
   "cell_type": "code",
   "execution_count": 13,
   "metadata": {},
   "outputs": [
    {
     "data": {
      "image/png": "[encoded data removed]",
      "text/plain": [
       "<Figure size 576x432 with 2 Axes>"
      ]
     },
     "metadata": {
      "needs_background": "light"
     },
     "output_type": "display_data"
    },
    {
     "name": "stdout",
     "output_type": "stream",
     "text": [
      "Best Validation Loss: 0.5506\n",
      "Best Validation Accuracy: 0.7386\n"
     ]
    }
   ],
   "source": [
    "history_df = pd.DataFrame(history.history)\n",
    "fig, axes = plt.subplots(nrows=2, figsize=(8, 6))\n",
    "history_df.loc[:, ['loss', 'val_loss']].plot(ax=axes[0], title=\"Cross-entropy\")\n",
    "history_df.loc[:, ['binary_accuracy', 'val_binary_accuracy']].plot(ax=axes[1], title=\"Accuracy\")\n",
    "\n",
    "# Set x-axis label\n",
    "axes[-1].set_xlabel(\"Epoch\")\n",
    "axes[0].set_ylabel(\"Loss\")\n",
    "axes[0].set_xlabel('Epoch')\n",
    "axes[-1].set_ylabel(\"Accuracy\")\n",
    "\n",
    "# Set layout and padding\n",
    "fig.tight_layout(pad=2.0)\n",
    "plt.show()\n",
    "\n",
    "print((\"Best Validation Loss: {:0.4f}\" +\\\n",
    "      \"\\nBest Validation Accuracy: {:0.4f}\")\\\n",
    "      .format(history_df['val_loss'].min(), \n",
    "              history_df['val_binary_accuracy'].max()))\n"
   ]
  },
  {
   "cell_type": "code",
   "execution_count": 14,
   "metadata": {},
   "outputs": [],
   "source": [
    "history_df = pd.DataFrame(history.history)\n",
    "\n",
    "\n",
    "# # Save the DataFrame to an HDF5 file\n",
    "with h5py.File('combined_run8_training_data.h5', 'w') as hf:\n",
    "    hf.create_dataset('df', data=history_df)\n",
    "\n",
    "# with h5py.File('MLP_rnn_run1_training_data.h5', 'r') as hf:\n",
    "#     history_df = pd.DataFrame(hf['df'][:])"
   ]
  },
  {
   "cell_type": "code",
   "execution_count": 16,
   "metadata": {},
   "outputs": [
    {
     "name": "stderr",
     "output_type": "stream",
     "text": [
      "IOPub data rate exceeded.\n",
      "The notebook server will temporarily stop sending output\n",
      "to the client in order to avoid crashing it.\n",
      "To change this limit, set the config variable\n",
      "`--NotebookApp.iopub_data_rate_limit`.\n",
      "\n",
      "Current values:\n",
      "NotebookApp.iopub_data_rate_limit=1000000.0 (bytes/sec)\n",
      "NotebookApp.rate_limit_window=3.0 (secs)\n",
      "\n"
     ]
    },
    {
     "name": "stdout",
     "output_type": "stream",
     "text": [
      "Validation loss: 0.8160530936672731\n",
      "Validation accuracy: 0.54573715\n",
      "704876/1 - 28s\n"
     ]
    },
    {
     "data": {
      "image/png": "[encoded data removed]",
      "text/plain": [
       "<Figure size 432x288 with 2 Axes>"
      ]
     },
     "metadata": {
      "needs_background": "light"
     },
     "output_type": "display_data"
    },
    {
     "name": "stdout",
     "output_type": "stream",
     "text": [
      "Total signal processes; 1.0\n",
      "Total background processes; 1.0\n",
      "299032\n",
      "There is 142031 signal in the set\n",
      "The model predicted 157001 more ones than in reality\n",
      "405844\n",
      "There is 562845 background in the set\n",
      "The model predicted -157001 more ones than in reality\n"
     ]
    },
    {
     "data": {
      "image/png": "[encoded data removed]",
      "text/plain": [
       "<Figure size 432x288 with 1 Axes>"
      ]
     },
     "metadata": {
      "needs_background": "light"
     },
     "output_type": "display_data"
    },
    {
     "data": {
      "image/png": "[encoded data removed]",
      "text/plain": [
       "<Figure size 432x288 with 1 Axes>"
      ]
     },
     "metadata": {
      "needs_background": "light"
     },
     "output_type": "display_data"
    },
    {
     "name": "stdout",
     "output_type": "stream",
     "text": [
      "num_bg_events_training =  217397.73435500264\n",
      "num_signal_events_training =  4395.567871302366\n"
     ]
    },
    {
     "data": {
      "image/png": "[encoded data removed]",
      "text/plain": [
       "<Figure size 432x288 with 1 Axes>"
      ]
     },
     "metadata": {
      "needs_background": "light"
     },
     "output_type": "display_data"
    }
   ],
   "source": [
    "# evaluate the model on the training data, confusion matrix and discriminator curve\n",
    "\n",
    "#gpu_available = tf.test.is_gpu_available()\n",
    "#print(gpu_available)   # check still on the gpu\n",
    "\n",
    "val_loss, val_acc = model.evaluate(X_train, y_train)    \n",
    "\n",
    "print(\"Validation loss:\", val_loss)\n",
    "print(\"Validation accuracy:\", val_acc)\n",
    "\n",
    "y_pred = model.predict(X_train, verbose = 2)\n",
    "y_pred_round = np.round(y_pred)\n",
    "#print(y_pred)\n",
    "\n",
    "# compute the confusion matrix\n",
    "\n",
    "cm = confusion_matrix(y_train, y_pred_round, normalize = 'true')   #, normalize = 'true')  #,'true' ‘pred’, ‘all’},)\n",
    "#disp = ConfusionMatrixDisplay(confusion_matrix=cm) \n",
    "disp = ConfusionMatrixDisplay(confusion_matrix=cm, display_labels=['class 0', 'class 1']) # other env\n",
    "\n",
    "disp.plot()\n",
    "plt.show()\n",
    "\n",
    "print('Total signal processes;', cm[1,0]+cm[1,1])\n",
    "print('Total background processes;', cm[0,0]+cm[0,1])\n",
    "\n",
    "# Check if order of y_valid is the same order as y_pred\n",
    "# expect to be the ssame order if accuracy is same as validation accuracy above.\n",
    "\n",
    "# list of true outcomes\n",
    "y_train_list = list(y_train)\n",
    "\n",
    "# list of rounded predictions \n",
    "y_pred_round_list = list(y_pred_round)\n",
    "\n",
    "data_test = {'True_Val': y_train_list, 'Predicted': list(y_pred), 'Round Prediction': y_pred_round_list}\n",
    "df_test = pd.DataFrame(data_test)\n",
    "\n",
    "# Easiest to reorder df, so all 0 (background) are first and then 1's (signal)\n",
    "\n",
    "#Verified, works\n",
    "df_test = df_test.sort_values(by='True_Val')\n",
    "df_test\n",
    "\n",
    "# Convert arrays to scalars\n",
    "df_test['Round Prediction'] = df_test['Round Prediction'].apply(lambda x: x[0])\n",
    "        \n",
    "pred_one = df_test['Round Prediction'].value_counts()[1.0]\n",
    "ones_in_set = df_test['True_Val'].value_counts()[1]\n",
    "\n",
    "# Print the result\n",
    "print(pred_one)\n",
    "print('There is', ones_in_set, 'signal in the set')\n",
    "print('The model predicted',pred_one-ones_in_set ,'more ones than in reality')\n",
    "\n",
    "\n",
    "pred_zeros = df_test['Round Prediction'].value_counts()[0.0]\n",
    "zeros_in_set = df_test['True_Val'].value_counts()[0]\n",
    "\n",
    "# Print the result\n",
    "print(pred_zeros)\n",
    "print('There is', zeros_in_set, 'background in the set')   #agrees w/ confusion matrix\n",
    "print('The model predicted', pred_zeros-zeros_in_set,'more ones than in reality')\n",
    "\n",
    "\n",
    "#Split df into signal and bg\n",
    "\n",
    "df_bg = df_test[df_test['True_Val'] == 0]\n",
    "df_signal = df_test[df_test['True_Val'] == 1]\n",
    "\n",
    "# Make discriminator curves, Histogram\n",
    "\n",
    "# manipluate data so can be used for Histograms\n",
    "lst_bg_predicted = []\n",
    "for i in df_bg['Predicted']:\n",
    "    lst_bg_predicted.append(i)\n",
    "\n",
    "lst_of_values_bg_pred_train = [arr.item() for arr in lst_bg_predicted]\n",
    "\n",
    "lst_signal_predicted = []\n",
    "for i in df_signal['Predicted']:\n",
    "    lst_signal_predicted.append(i)\n",
    "\n",
    "lst_of_values_signal_pred_train = [arr.item() for arr in lst_signal_predicted]\n",
    "\n",
    "binwidth = 0.01\n",
    "bins=np.arange(0, 1 + binwidth, binwidth)\n",
    "    \n",
    "\n",
    "#Unweighted, normalised\n",
    "plt.hist(x= lst_of_values_bg_pred_train, bins=bins, density = True, histtype = 'step', label = 'Background')\n",
    "plt.hist(x= lst_of_values_signal_pred_train, bins=bins, density = True, histtype = 'step', label = 'Signal')\n",
    "plt.title('Training Discriminator Curve')\n",
    "plt.xlabel('Classifier Prediction')\n",
    "plt.ylabel('Frequency')\n",
    "plt.legend()\n",
    "plt.show()\n",
    "\n",
    "#Weighted to xs_weights x 300000, need to be toproportion of full dataset too\n",
    "#normalised\n",
    "\n",
    "plt.hist(x= lst_of_values_bg_pred_train, bins=bins,  weights = df_weights[:len(lst_of_values_bg_pred_train),1]*3e5*1/0.8,\n",
    "         histtype = 'step', label = 'Background')\n",
    "plt.hist(x= lst_of_values_signal_pred_train, bins=bins, weights = df_weights[:len(lst_of_values_signal_pred_train),3]*3e5*1/0.8,\n",
    "         histtype = 'step', label = 'Signal')\n",
    "plt.title('Training Discriminator Curve')\n",
    "plt.xlabel('Classifier Prediction')\n",
    "plt.ylabel('Frequency')\n",
    "plt.xlim(0.8,1)    #zoom in on 0.9 to 1 region\n",
    "plt.ylim(0,200)    # need to zoom in\n",
    "plt.legend()\n",
    "plt.show()\n",
    "\n",
    "\n",
    "#Calculate number of events\n",
    "\n",
    "n_bg, bins_bg, patches_bg = plt.hist(x= lst_of_values_bg_pred_train, bins=bins,  weights = df_weights[:len(lst_of_values_bg_pred_train),1]*3e5*1/0.8,\n",
    "         histtype = 'step', label = 'Background')\n",
    "n_signal, bins_signal, patches_signal = plt.hist(x= lst_of_values_signal_pred_train, bins=bins, weights = df_weights[:len(lst_of_values_signal_pred_train),3]*3e5*1/0.8,\n",
    "         histtype = 'step', label = 'Signal')\n",
    "\n",
    "# calculate the number of events\n",
    "num_bg_events = np.sum(n_bg)\n",
    "num_signal_events = np.sum(n_signal)\n",
    "\n",
    "print('num_bg_events_training = ', num_bg_events)\n",
    "print('num_signal_events_training = ', num_signal_events)\n",
    "\n",
    "#start dropping bins for signifucance part, calc Z and plot, should get curve that peaks"
   ]
  },
  {
   "cell_type": "code",
   "execution_count": 17,
   "metadata": {},
   "outputs": [
    {
     "name": "stderr",
     "output_type": "stream",
     "text": [
      "IOPub data rate exceeded.\n",
      "The notebook server will temporarily stop sending output\n",
      "to the client in order to avoid crashing it.\n",
      "To change this limit, set the config variable\n",
      "`--NotebookApp.iopub_data_rate_limit`.\n",
      "\n",
      "Current values:\n",
      "NotebookApp.iopub_data_rate_limit=1000000.0 (bytes/sec)\n",
      "NotebookApp.rate_limit_window=3.0 (secs)\n",
      "\n"
     ]
    },
    {
     "name": "stdout",
     "output_type": "stream",
     "text": [
      "Validation loss: 0.5354826114617687\n",
      "Validation accuracy: 0.7357394\n"
     ]
    },
    {
     "data": {
      "image/png": "[encoded data removed]",
      "text/plain": [
       "<Figure size 432x288 with 2 Axes>"
      ]
     },
     "metadata": {
      "needs_background": "light"
     },
     "output_type": "display_data"
    },
    {
     "name": "stdout",
     "output_type": "stream",
     "text": [
      "Total signal processes; 1.0\n",
      "Total background processes; 1.0\n"
     ]
    }
   ],
   "source": [
    "# evaluate the model on the validation data\n",
    "\n",
    "val_loss, val_acc = model.evaluate(X_valid, y_valid)   \n",
    "print(\"Validation loss:\", val_loss)\n",
    "print(\"Validation accuracy:\", val_acc)\n",
    "\n",
    "y_pred = model.predict(X_valid)\n",
    "y_pred_round = np.round(y_pred)\n",
    "\n",
    "# compute the confusion matrix\n",
    "cm = confusion_matrix(y_valid, y_pred_round, normalize = 'true')    #,'true' ‘pred’, ‘all’},)#\n",
    "disp = ConfusionMatrixDisplay(confusion_matrix=cm, display_labels=['class 0', 'class 1']) # other env\n",
    "#disp = ConfusionMatrixDisplay(confusion_matrix=cm)   \n",
    "disp.plot()\n",
    "plt.show()\n",
    "\n",
    "print('Total signal processes;', cm[1,0]+cm[1,1])\n",
    "print('Total background processes;', cm[0,0]+cm[0,1])"
   ]
  },
  {
   "cell_type": "code",
   "execution_count": 18,
   "metadata": {},
   "outputs": [
    {
     "name": "stdout",
     "output_type": "stream",
     "text": [
      "0.735739416638293\n",
      "True\n"
     ]
    }
   ],
   "source": [
    "# Check if order of y_valid is the same order as y_pred\n",
    "# expect to be the ssame order if accuracy is same as validation accuracy above.\n",
    "\n",
    "# list of true outcomes\n",
    "y_valid_list = list(y_valid)\n",
    "\n",
    "# list of rounded predictions \n",
    "y_pred_round_list = list(y_pred_round)\n",
    "\n",
    "# list of whether these are same    \n",
    "z=[]\n",
    "for i in range(len(y_valid_list)):\n",
    "    if y_valid_list[i]==y_pred_round_list[i]:\n",
    "        z.append(1)\n",
    "    else:\n",
    "        z.append(0)\n",
    "        \n",
    "print(sum(z)/len(z))\n",
    "\n",
    "# Set a tolerance\n",
    "tol = 0.0001\n",
    "print(val_acc - tol < sum(z)/len(z) < val_acc + tol)\n",
    "\n",
    "# If true, suggests are in same order "
   ]
  },
  {
   "cell_type": "code",
   "execution_count": 19,
   "metadata": {},
   "outputs": [],
   "source": [
    "data = {'True_Val': y_valid_list, 'Predicted': list(y_pred), 'Round Prediction': y_pred_round_list}\n",
    "df = pd.DataFrame(data)\n",
    "\n",
    "# Easiest to reorder df, so all 0 (background) are first and then 1's (signal)\n",
    "\n",
    "#Verified, works\n",
    "df = df.sort_values(by='True_Val')\n",
    "\n",
    "# Convert arrays to scalars\n",
    "df['Round Prediction'] = df['Round Prediction'].apply(lambda x: x[0])"
   ]
  },
  {
   "cell_type": "code",
   "execution_count": 20,
   "metadata": {},
   "outputs": [
    {
     "name": "stdout",
     "output_type": "stream",
     "text": [
      "0.735739416638293\n",
      "True\n"
     ]
    }
   ],
   "source": [
    "# Check that they maintained order in the df:\n",
    "\n",
    "lst=[]\n",
    "for i in range(len(df)):\n",
    "    if df['True_Val'][i] == df['Round Prediction'][i]:\n",
    "        lst.append(1)\n",
    "    else:\n",
    "        (lst.append(0))\n",
    "print(sum(lst)/len(lst))\n",
    "\n",
    "# Set a tolerance\n",
    "tol = 0.0001\n",
    "print(val_acc - tol < sum(lst)/len(lst) < val_acc + tol)\n",
    "\n",
    "# If true, suggests are in same order "
   ]
  },
  {
   "cell_type": "code",
   "execution_count": 21,
   "metadata": {},
   "outputs": [
    {
     "name": "stdout",
     "output_type": "stream",
     "text": [
      "59775\n",
      "There is 35827 signal in the set\n",
      "The model predicted 23948 more ones than in reality\n",
      "116445\n",
      "There is 140393 background in the set\n",
      "The model predicted -23948 more ones than in reality\n"
     ]
    }
   ],
   "source": [
    "pred_one = df['Round Prediction'].value_counts()[1.0]\n",
    "ones_in_set = df['True_Val'].value_counts()[1]\n",
    "\n",
    "# Print the result\n",
    "print(pred_one)\n",
    "print('There is', ones_in_set, 'signal in the set')\n",
    "print('The model predicted',pred_one-ones_in_set ,'more ones than in reality')\n",
    "\n",
    "\n",
    "pred_zeros = df['Round Prediction'].value_counts()[0.0]\n",
    "zeros_in_set = df['True_Val'].value_counts()[0]\n",
    "\n",
    "# Print the result\n",
    "print(pred_zeros)\n",
    "print('There is', zeros_in_set, 'background in the set')   #agrees w/ confusion matrix\n",
    "print('The model predicted', pred_zeros-zeros_in_set,'more ones than in reality')\n"
   ]
  },
  {
   "cell_type": "code",
   "execution_count": 22,
   "metadata": {},
   "outputs": [
    {
     "data": {
      "image/png": "[encoded data removed]",
      "text/plain": [
       "<Figure size 432x288 with 1 Axes>"
      ]
     },
     "metadata": {
      "needs_background": "light"
     },
     "output_type": "display_data"
    },
    {
     "data": {
      "image/png": "[encoded data removed]",
      "text/plain": [
       "<Figure size 432x288 with 1 Axes>"
      ]
     },
     "metadata": {
      "needs_background": "light"
     },
     "output_type": "display_data"
    }
   ],
   "source": [
    "# Training Discriminator curves\n",
    "\n",
    "#Unweighted, normalised\n",
    "plt.hist(x= lst_of_values_bg_pred_train, bins=bins, density = True, histtype = 'step', label = 'Background')\n",
    "plt.hist(x= lst_of_values_signal_pred_train, bins=bins, density = True, histtype = 'step', label = 'Signal')\n",
    "plt.title('TRAINING - Discriminator Curve')\n",
    "plt.xlabel('Classifier Prediction')\n",
    "plt.ylabel('Frequency')\n",
    "plt.legend()\n",
    "plt.show()\n",
    "\n",
    "#Weighted to xs_weights x 300000, need to be toproportion of full dataset too\n",
    "#normalised\n",
    "\n",
    "\n",
    "plt.hist(x= lst_of_values_bg_pred_train, bins=bins,  weights = df_weights[:len(lst_of_values_bg_pred_train),1]*3e5*1/0.8,\n",
    "         histtype = 'step', label = 'Background')\n",
    "plt.hist(x= lst_of_values_signal_pred_train, bins=bins, weights = df_weights[:len(lst_of_values_signal_pred_train),3]*3e5*1/0.8,\n",
    "         histtype = 'step', label = 'Signal')\n",
    "plt.title('TRAINING - Discriminator Curve')\n",
    "plt.xlabel('Classifier Prediction')\n",
    "plt.ylabel('Frequency')\n",
    "plt.xlim(0.6,1)    #zoom in on 0.9 to 1 region\n",
    "plt.ylim(0,500)    # need to zoom in\n",
    "plt.legend()\n",
    "plt.show()\n"
   ]
  },
  {
   "cell_type": "code",
   "execution_count": 23,
   "metadata": {},
   "outputs": [
    {
     "data": {
      "image/png": "[encoded data removed]",
      "text/plain": [
       "<Figure size 432x288 with 1 Axes>"
      ]
     },
     "metadata": {
      "needs_background": "light"
     },
     "output_type": "display_data"
    },
    {
     "data": {
      "image/png": "[encoded data removed]",
      "text/plain": [
       "<Figure size 432x288 with 1 Axes>"
      ]
     },
     "metadata": {
      "needs_background": "light"
     },
     "output_type": "display_data"
    },
    {
     "data": {
      "image/png": "[encoded data removed]",
      "text/plain": [
       "<Figure size 432x288 with 1 Axes>"
      ]
     },
     "metadata": {
      "needs_background": "light"
     },
     "output_type": "display_data"
    }
   ],
   "source": [
    "#Split df into signal and bg\n",
    "\n",
    "df_bg = df[df['True_Val'] == 0]\n",
    "df_signal = df[df['True_Val'] == 1]\n",
    "\n",
    "# Make Validation discriminator curves, Histogram\n",
    "\n",
    "# manipluate data so can be used for Histograms\n",
    "lst_bg_predicted = []\n",
    "for i in df_bg['Predicted']:\n",
    "    lst_bg_predicted.append(i)\n",
    "\n",
    "lst_of_values_bg_pred = [arr.item() for arr in lst_bg_predicted]\n",
    "\n",
    "lst_signal_predicted = []\n",
    "for i in df_signal['Predicted']:\n",
    "    lst_signal_predicted.append(i)\n",
    "\n",
    "lst_of_values_signal_pred = [arr.item() for arr in lst_signal_predicted]\n",
    "\n",
    "binwidth = 0.01\n",
    "bins=np.arange(0, 1 + binwidth, binwidth)\n",
    "\n",
    "#Unweighted, normalised\n",
    "plt.hist(x= lst_of_values_bg_pred, bins=bins, density = True, histtype = 'step', label = 'Background')\n",
    "plt.hist(x= lst_of_values_signal_pred, bins=bins, density = True, histtype = 'step', label = 'Signal')\n",
    "plt.title('Discriminator Curve')\n",
    "plt.xlabel('Classifier Prediction')\n",
    "plt.ylabel('Frequency')\n",
    "plt.legend()\n",
    "plt.show()\n",
    "\n",
    "#Weighted to xs_weights x 300000, need to be toproportion of full dataset too\n",
    "#normalised\n",
    "plt.hist(x= lst_of_values_bg_pred, bins=bins,  weights = df_weights[:len(lst_of_values_bg_pred),1]*3e5,\n",
    "         histtype = 'step', label = 'Background')\n",
    "plt.hist(x= lst_of_values_signal_pred, bins=bins, weights = df_weights[:len(lst_of_values_signal_pred),3]*3e5,\n",
    "         histtype = 'step', label = 'Signal')\n",
    "plt.title('Discriminator Curve')\n",
    "plt.xlabel('Classifier Prediction')\n",
    "plt.ylabel('Frequency')\n",
    "#plt.xlim(0.9,1)    #zoom in on 0.9 to 1 region\n",
    "plt.ylim(1,2000)    # need to zoom in\n",
    "plt.yscale('log')\n",
    "plt.legend()\n",
    "plt.show()\n",
    "    \n",
    "plt.hist(x= lst_of_values_bg_pred, bins=bins,  weights = df_weights[:len(lst_of_values_bg_pred),1]*3e5*1/0.2,\n",
    "         histtype = 'step', label = 'Background')\n",
    "plt.hist(x= lst_of_values_signal_pred, bins=bins, weights = df_weights[:len(lst_of_values_signal_pred),3]*3e5*1/0.2,\n",
    "         histtype = 'step', label = 'Signal')\n",
    "plt.title('Discriminator Curve')\n",
    "plt.xlabel('Classifier Prediction')\n",
    "plt.ylabel('Frequency')\n",
    "plt.xlim(0.8,1)    #zoom in on 0.9 to 1 region\n",
    "plt.ylim(0,200)    # need to zoom in\n",
    "plt.legend()\n",
    "plt.show()\n",
    "\n",
    "\n",
    "#start dropping bins for signifucance part, calc Z and plot, should get curve that peaks"
   ]
  },
  {
   "cell_type": "code",
   "execution_count": 24,
   "metadata": {},
   "outputs": [
    {
     "data": {
      "image/png": "[encoded data removed]",
      "text/plain": [
       "<Figure size 432x288 with 1 Axes>"
      ]
     },
     "metadata": {
      "needs_background": "light"
     },
     "output_type": "display_data"
    }
   ],
   "source": [
    "# Test and Training overlayed\n",
    "\n",
    "#Unweighted, normalised\n",
    "plt.hist(x= lst_of_values_bg_pred, bins=bins, density = True, histtype = 'step', label = 'Background_test')\n",
    "plt.hist(x= lst_of_values_signal_pred, bins=bins, density = True, histtype = 'step', label = 'Signal_test')\n",
    "plt.title('Test - Discriminator Curve')\n",
    "plt.xlabel('Classifier Prediction')\n",
    "plt.ylabel('Frequency')\n",
    "plt.legend()\n",
    "\n",
    "\n",
    "#Unweighted, normalised\n",
    "plt.hist(x= lst_of_values_bg_pred_train, bins=bins, density = True, histtype = 'step', label = 'Background_train')\n",
    "plt.hist(x= lst_of_values_signal_pred_train, bins=bins, density = True, histtype = 'step', label = 'Signal_train')\n",
    "plt.title('Mix Discriminator Curve')\n",
    "plt.xlabel('Classifier Prediction')\n",
    "plt.ylabel('Frequency')\n",
    "plt.legend()\n",
    "plt.show()"
   ]
  },
  {
   "cell_type": "code",
   "execution_count": 25,
   "metadata": {},
   "outputs": [
    {
     "name": "stdout",
     "output_type": "stream",
     "text": [
      "num_bg_events_validation =  216880.34381079674\n",
      "num_signal_events_validation =  4430.54150390625\n"
     ]
    },
    {
     "data": {
      "image/png": "[encoded data removed]",
      "text/plain": [
       "<Figure size 432x288 with 1 Axes>"
      ]
     },
     "metadata": {
      "needs_background": "light"
     },
     "output_type": "display_data"
    }
   ],
   "source": [
    "#Calculate number of events\n",
    "\n",
    "n_bg, bins_bg, patches_bg = plt.hist(x= lst_of_values_bg_pred, bins=bins, weights = df_weights[:len(lst_of_values_bg_pred),1]*3e5*1/0.2,\n",
    "         histtype = 'step', label = 'Background')\n",
    "n_signal, bins_signal, patches_signal = plt.hist(x= lst_of_values_signal_pred, bins=bins, weights = df_weights[:len(lst_of_values_signal_pred),3]*3e5*1/0.2,\n",
    "         histtype = 'step', label = 'Signal')\n",
    "\n",
    "# calculate the number of events\n",
    "num_bg_events = np.sum(n_bg)\n",
    "num_signal_events = np.sum(n_signal)\n",
    "\n",
    "print('num_bg_events_validation = ', num_bg_events)\n",
    "print('num_signal_events_validation = ', num_signal_events)"
   ]
  },
  {
   "cell_type": "code",
   "execution_count": 25,
   "metadata": {},
   "outputs": [],
   "source": [
    "df['True_Val'] = df['True_Val'].astype(float)\n",
    "df['Predicted'] = df['Predicted'].astype(float)\n",
    "df['Round Prediction'] = df['Round Prediction'].astype(float)\n",
    "\n",
    "\n",
    "# Save the DataFrame to an HDF5 file\n",
    "with h5py.File('combined_run8_ROC_data.h5', 'w') as hf:\n",
    "    hf.create_dataset('df', data=df)\n",
    "    \n",
    "# with h5py.File('run1_ROC_data.h5', 'r') as hf:\n",
    "#     df = pd.DataFrame(hf['df'][:])\n"
   ]
  },
  {
   "cell_type": "code",
   "execution_count": 26,
   "metadata": {},
   "outputs": [],
   "source": [
    "# #plot ROC curves\n",
    "\n",
    "# y_true = df['True_Val']\n",
    "# y_score = df['Predicted']\n",
    "\n",
    "# # calculate the false positive rate and true positive rate\n",
    "# fpr, tpr, thresholds = roc_curve(y_true, y_score)\n",
    "\n",
    "# # calculate the area under the ROC curve\n",
    "# roc_auc = auc(fpr, tpr)\n",
    "\n",
    "# # plot the ROC curve\n",
    "# plt.plot(fpr, tpr, color='darkorange', lw=2, label='ROC curve (AUC = %0.2f)' % roc_auc)\n",
    "# plt.plot([0, 1], [0, 1], color='navy', lw=2, linestyle='--')\n",
    "# plt.xlim([0.0, 1.0])\n",
    "# plt.ylim([0.0, 1.05])\n",
    "# plt.xlabel('False Positive Rate')\n",
    "# plt.ylabel('True Positive Rate')\n",
    "# plt.title('Receiver Operating Characteristic')\n",
    "# plt.legend(loc=\"lower right\")\n",
    "# plt.show()\n",
    "\n",
    "# print(roc_auc)  #79%\n",
    "\n",
    "# print(len(thresholds))\n",
    "\n"
   ]
  },
  {
   "cell_type": "code",
   "execution_count": 27,
   "metadata": {},
   "outputs": [],
   "source": [
    "# data_roc = {'thresholds': thresholds, 'tpr': tpr, 'fpr': fpr, 'tpr/sqrt(fpr)':tpr/np.sqrt(fpr)}\n",
    "# df_roc = pd.DataFrame(data_roc)\n",
    "# #df_roc\n",
    "# df_roc.head(20)\n",
    "# plt.plot(df_roc['thresholds'][3:], df_roc['tpr/sqrt(fpr)'][3:])\n",
    "# plt.show()\n",
    "# max(df_roc['tpr/sqrt(fpr)'][3:])"
   ]
  },
  {
   "cell_type": "code",
   "execution_count": 28,
   "metadata": {},
   "outputs": [],
   "source": [
    "# # Plot precision recall curve\n",
    "# from sklearn.metrics import average_precision_score\n",
    "\n",
    "# y_true = df['True_Val']\n",
    "# y_score = df['Predicted']\n",
    "\n",
    "# # calculate the precision-recall curve\n",
    "# precision, recall, _ = precision_recall_curve(y_true, y_score)\n",
    "\n",
    "# # plot the precision-recall curve\n",
    "# plt.step(recall, precision, color='b', alpha=0.2, where='post')\n",
    "# plt.fill_between(recall, precision, step='post', alpha=0.2, color='b')\n",
    "# plt.xlabel('Recall')\n",
    "# plt.ylabel('Precision')\n",
    "# plt.ylim([0.0, 1.05])\n",
    "# plt.xlim([0.0, 1.0])\n",
    "# plt.title('Precision-Recall Curve')\n",
    "# plt.show()\n",
    "\n",
    "# AUC = average_precision_score(y_true, y_score)   #0.793, pretty similar to roc AUC\n",
    "# print(AUC)"
   ]
  },
  {
   "cell_type": "code",
   "execution_count": 29,
   "metadata": {},
   "outputs": [],
   "source": [
    "# df['True_Val']\n",
    "# x = df['Predicted']\n",
    "# print(x)"
   ]
  },
  {
   "cell_type": "markdown",
   "metadata": {},
   "source": [
    "# Significance\n",
    "\n",
    "$$ Z = \\frac{s}{\\sqrt(B+\\sigma_s^{2})}  $$\n",
    "\n",
    "s = number of signal\n",
    "\n",
    "B = number of background\n",
    "\n",
    "$\\sigma_s$ = statistical uncertainty (~10% of B)"
   ]
  },
  {
   "cell_type": "code",
   "execution_count": 26,
   "metadata": {},
   "outputs": [
    {
     "name": "stdout",
     "output_type": "stream",
     "text": [
      "216880.34381079674\n",
      "4430.54150390625\n"
     ]
    },
    {
     "name": "stderr",
     "output_type": "stream",
     "text": [
      "/software/deep-learning/envs/ml-microscope/lib/python3.7/site-packages/ipykernel_launcher.py:11: RuntimeWarning: invalid value encountered in double_scalars\n",
      "  # This is added back by InteractiveShellApp.init_path()\n"
     ]
    },
    {
     "data": {
      "image/png": "[encoded data removed]",
      "text/plain": [
       "<Figure size 432x288 with 1 Axes>"
      ]
     },
     "metadata": {
      "needs_background": "light"
     },
     "output_type": "display_data"
    },
    {
     "name": "stdout",
     "output_type": "stream",
     "text": [
      "0.86\n",
      "86\n",
      "14.962815370155152\n",
      "\n",
      "If cut at a threshold of 0.86 have\n",
      "833.201904296875 singal events\n",
      "2835.078125 background events\n"
     ]
    },
    {
     "name": "stderr",
     "output_type": "stream",
     "text": [
      "/software/deep-learning/envs/ml-microscope/lib/python3.7/site-packages/ipykernel_launcher.py:22: RuntimeWarning: invalid value encountered in less\n"
     ]
    }
   ],
   "source": [
    "num_bg_events = np.sum(n_bg)\n",
    "num_signal_events = np.sum(n_signal)\n",
    "\n",
    "print(num_bg_events)\n",
    "print(num_signal_events)\n",
    "\n",
    "z_0 = np.empty(len(bins_bg))\n",
    "for i in range(len(bins_bg)):\n",
    "    b = np.sum(n_bg[i:])\n",
    "    s = np.sum(n_signal[i:])\n",
    "    z_i = np.sqrt(2*((s+b)*np.log(1+(s/b))-s))  \n",
    "    z_0[i] = z_i\n",
    "\n",
    "x = np.linspace(0,1,len(z_0))\n",
    "plt.plot(bins_bg,z_0[:])\n",
    "plt.xlabel('Threshold')\n",
    "plt.ylabel('Significance, z')\n",
    "plt.title('Significance curve with no sigma')\n",
    "plt.show()\n",
    "\n",
    "\n",
    "mask_0 = z_0 < 1e10     #just so doesnt include infs\n",
    "index_of_max_0 = np.argmax(z_0[mask_0])\n",
    "max_value_0 = np.amax(z_0[mask_0])\n",
    "\n",
    "\n",
    "#index_of_max = np.nanargmax(z[:])\n",
    "#max_value = np.nanmax(z[:])     # 1 point before last, should probs generalise so that can deal w inf etc \n",
    "max_bin_0 = bins_bg[index_of_max_0]\n",
    "print(max_bin_0)\n",
    "print(index_of_max_0)\n",
    "print(max_value_0)\n",
    "\n",
    "# significance = sigmna, 6.5 signma, 5 sigma\n",
    "\n",
    "num_bg_threshold_0 = np.sum(n_bg[index_of_max_0:])\n",
    "num_signal_threshold_0 = np.sum(n_signal[index_of_max_0:])\n",
    "\n",
    "print()\n",
    "print('If cut at a threshold of', index_of_max_0/100, 'have')\n",
    "print(num_signal_threshold_0, 'singal events')\n",
    "print(num_bg_threshold_0, 'background events')"
   ]
  },
  {
   "cell_type": "code",
   "execution_count": 27,
   "metadata": {},
   "outputs": [
    {
     "data": {
      "image/png": "[encoded data removed]",
      "text/plain": [
       "<Figure size 432x288 with 2 Axes>"
      ]
     },
     "metadata": {
      "needs_background": "light"
     },
     "output_type": "display_data"
    },
    {
     "name": "stdout",
     "output_type": "stream",
     "text": [
      "Total signal processes; 1.0\n",
      "Total background processes; 1.0\n"
     ]
    }
   ],
   "source": [
    "# Confusion matricies with new threshold at max significance\n",
    "\n",
    "# calculates prediction values\n",
    "#y_pred = model.predict(X_valid) \n",
    "\n",
    "significance_threshold_0 = max_bin_0\n",
    "y_pred_threshold_0 = np.where(y_pred >= significance_threshold_0, 1, 0)\n",
    "\n",
    "# compute the confusion matrix\n",
    "cm = confusion_matrix(y_valid, y_pred_threshold_0, normalize = 'true')    #,'true' ‘pred’, ‘all’},)\n",
    "#disp = ConfusionMatrixDisplay(confusion_matrix=cm)   \n",
    "disp = ConfusionMatrixDisplay(confusion_matrix=cm, display_labels=['class 0', 'class 1']) # other env\n",
    "disp.plot()\n",
    "plt.show()\n",
    "\n",
    "print('Total signal processes;', cm[1,0]+cm[1,1])\n",
    "print('Total background processes;', cm[0,0]+cm[0,1])"
   ]
  },
  {
   "cell_type": "code",
   "execution_count": 38,
   "metadata": {},
   "outputs": [
    {
     "name": "stdout",
     "output_type": "stream",
     "text": [
      "216880.34381079674\n",
      "4430.54150390625\n"
     ]
    },
    {
     "name": "stderr",
     "output_type": "stream",
     "text": [
      "/software/deep-learning/envs/ml-microscope/lib/python3.7/site-packages/ipykernel_launcher.py:13: RuntimeWarning: invalid value encountered in double_scalars\n",
      "  del sys.path[0]\n",
      "/software/deep-learning/envs/ml-microscope/lib/python3.7/site-packages/ipykernel_launcher.py:14: RuntimeWarning: invalid value encountered in double_scalars\n",
      "  \n"
     ]
    },
    {
     "data": {
      "image/png": "[encoded data removed]",
      "text/plain": [
       "<Figure size 432x288 with 1 Axes>"
      ]
     },
     "metadata": {
      "needs_background": "light"
     },
     "output_type": "display_data"
    },
    {
     "name": "stdout",
     "output_type": "stream",
     "text": [
      "0.96\n",
      "96\n",
      "10.18772323280315\n",
      "\n",
      "If cut at a threshold of 0.96 have\n",
      "20.168408203125 singal events\n",
      "185.53125 background events\n"
     ]
    },
    {
     "name": "stderr",
     "output_type": "stream",
     "text": [
      "/software/deep-learning/envs/ml-microscope/lib/python3.7/site-packages/ipykernel_launcher.py:26: RuntimeWarning: invalid value encountered in less\n"
     ]
    }
   ],
   "source": [
    "num_bg_events = np.sum(n_bg)\n",
    "num_signal_events = np.sum(n_signal)\n",
    "\n",
    "print(num_bg_events)\n",
    "print(num_signal_events)\n",
    "\n",
    "z_5 = np.empty(len(bins_bg))\n",
    "for i in range(len(bins_bg)):\n",
    "    b = np.sum(n_bg[i:])\n",
    "    s = np.sum(n_signal[i:])\n",
    "\n",
    "    sigma = 0.05*b  \n",
    "    part1 = (s+b)*np.log(((s+b)*(b+sigma**2))/(b**2+((s+b)*sigma**2)))\n",
    "    part2 = (b**2/sigma**2)*np.log(1+((sigma**2*s)/(b*(b+sigma**2))))\n",
    "    \n",
    "    z_5[i] = (2*(part1-part2))**(1/2)\n",
    "\n",
    "x = np.linspace(0,1,len(z_5))\n",
    "plt.plot(bins_bg,z_5[:])\n",
    "plt.xlabel('Threshold')\n",
    "plt.ylabel('Significance, z')\n",
    "plt.title('Significance curve with no sigma')\n",
    "plt.show()\n",
    "\n",
    "\n",
    "mask_5 = z_5 < 1e10     #just so doesnt include infs\n",
    "index_of_max_5 = np.argmax(z_5[mask_5])\n",
    "max_value_5 = np.amax(z_5[mask_5])\n",
    "\n",
    "\n",
    "#index_of_max = np.nanargmax(z[:])\n",
    "#max_value = np.nanmax(z[:])     # 1 point before last, should probs generalise so that can deal w inf etc \n",
    "max_bin_5 = bins_bg[index_of_max_5]\n",
    "print(max_bin_5)\n",
    "print(index_of_max_5)\n",
    "print(max_value_5)\n",
    "\n",
    "# significance = sigmna, 6.5 signma, 5 sigma\n",
    "\n",
    "num_bg_threshold_5 = np.sum(n_bg[index_of_max_5:])\n",
    "num_signal_threshold_5 = np.sum(n_signal[index_of_max_5:])/10\n",
    "\n",
    "print()\n",
    "print('If cut at a threshold of', index_of_max_5/100, 'have')\n",
    "print(num_signal_threshold_5, 'singal events')\n",
    "print(num_bg_threshold_5, 'background events')"
   ]
  },
  {
   "cell_type": "code",
   "execution_count": 34,
   "metadata": {},
   "outputs": [
    {
     "data": {
      "image/png": "[encoded data removed]",
      "text/plain": [
       "<Figure size 432x288 with 2 Axes>"
      ]
     },
     "metadata": {
      "needs_background": "light"
     },
     "output_type": "display_data"
    },
    {
     "name": "stdout",
     "output_type": "stream",
     "text": [
      "Total signal processes; 1.0\n",
      "Total background processes; 1.0\n"
     ]
    }
   ],
   "source": [
    "# Confusion matricies with new threshold at max significance\n",
    "\n",
    "# calculates prediction values\n",
    "#y_pred = model.predict(X_valid) \n",
    "\n",
    "significance_threshold_5 = max_bin_5\n",
    "y_pred_threshold_5 = np.where(y_pred >= significance_threshold_5, 1, 0)\n",
    "\n",
    "# compute the confusion matrix\n",
    "cm = confusion_matrix(y_valid, y_pred_threshold_5, normalize = 'true')    #,'true' ‘pred’, ‘all’},)\n",
    "#disp = ConfusionMatrixDisplay(confusion_matrix=cm)   \n",
    "disp = ConfusionMatrixDisplay(confusion_matrix=cm, display_labels=['class 0', 'class 1']) # other env\n",
    "disp.plot()\n",
    "plt.show()\n",
    "\n",
    "print('Total signal processes;', cm[1,0]+cm[1,1])\n",
    "print('Total background processes;', cm[0,0]+cm[0,1])"
   ]
  },
  {
   "cell_type": "code",
   "execution_count": 30,
   "metadata": {},
   "outputs": [
    {
     "name": "stdout",
     "output_type": "stream",
     "text": [
      "216880.34381079674\n",
      "4430.54150390625\n"
     ]
    },
    {
     "name": "stderr",
     "output_type": "stream",
     "text": [
      "/software/deep-learning/envs/ml-microscope/lib/python3.7/site-packages/ipykernel_launcher.py:13: RuntimeWarning: invalid value encountered in double_scalars\n",
      "  del sys.path[0]\n",
      "/software/deep-learning/envs/ml-microscope/lib/python3.7/site-packages/ipykernel_launcher.py:14: RuntimeWarning: invalid value encountered in double_scalars\n",
      "  \n"
     ]
    },
    {
     "data": {
      "image/png": "[encoded data removed]",
      "text/plain": [
       "<Figure size 432x288 with 1 Axes>"
      ]
     },
     "metadata": {
      "needs_background": "light"
     },
     "output_type": "display_data"
    },
    {
     "name": "stdout",
     "output_type": "stream",
     "text": [
      "0.98\n",
      "98\n",
      "7.749755121340382\n",
      "\n",
      "If cut at a threshold of 0.98 have\n",
      "74.05078125 singal events\n",
      "38.0625 background events\n"
     ]
    },
    {
     "name": "stderr",
     "output_type": "stream",
     "text": [
      "/software/deep-learning/envs/ml-microscope/lib/python3.7/site-packages/ipykernel_launcher.py:26: RuntimeWarning: invalid value encountered in less\n"
     ]
    }
   ],
   "source": [
    "num_bg_events = np.sum(n_bg)\n",
    "num_signal_events = np.sum(n_signal)\n",
    "\n",
    "print(num_bg_events)\n",
    "print(num_signal_events)\n",
    "\n",
    "z_10 = np.empty(len(bins_bg))\n",
    "for i in range(len(bins_bg)):\n",
    "    b = np.sum(n_bg[i:])\n",
    "    s = np.sum(n_signal[i:])\n",
    "\n",
    "    sigma = 0.1*b  \n",
    "    part1 = (s+b)*np.log(((s+b)*(b+sigma**2))/(b**2+((s+b)*sigma**2)))\n",
    "    part2 = (b**2/sigma**2)*np.log(1+((sigma**2*s)/(b*(b+sigma**2))))\n",
    "    \n",
    "    z_10[i] = (2*(part1-part2))**(1/2)\n",
    "\n",
    "x = np.linspace(0,1,len(z_10))\n",
    "plt.plot(bins_bg,z_10[:])\n",
    "plt.xlabel('Threshold')\n",
    "plt.ylabel('Significance, z')\n",
    "plt.title('Significance curve with no sigma')\n",
    "plt.show()\n",
    "\n",
    "\n",
    "mask_10 = z_10 < 1e10     #just so doesnt include infs\n",
    "index_of_max_10 = np.argmax(z_10[mask_10])\n",
    "max_value_10 = np.amax(z_10[mask_10])\n",
    "\n",
    "\n",
    "#index_of_max = np.nanargmax(z[:])\n",
    "#max_value = np.nanmax(z[:])     # 1 point before last, should probs generalise so that can deal w inf etc \n",
    "max_bin_10 = bins_bg[index_of_max_10]\n",
    "print(max_bin_10)\n",
    "print(index_of_max_10)\n",
    "print(max_value_10)\n",
    "\n",
    "# significance = sigmna, 6.5 signma, 5 sigma\n",
    "\n",
    "num_bg_threshold_10 = np.sum(n_bg[index_of_max_10:])\n",
    "num_signal_threshold_10 = np.sum(n_signal[index_of_max_10:])\n",
    "\n",
    "print()\n",
    "print('If cut at a threshold of', index_of_max_10/100, 'have')\n",
    "print(num_signal_threshold_10, 'singal events')\n",
    "print(num_bg_threshold_10, 'background events')"
   ]
  },
  {
   "cell_type": "code",
   "execution_count": 31,
   "metadata": {},
   "outputs": [
    {
     "data": {
      "image/png": "[encoded data removed]",
      "text/plain": [
       "<Figure size 432x288 with 2 Axes>"
      ]
     },
     "metadata": {
      "needs_background": "light"
     },
     "output_type": "display_data"
    },
    {
     "name": "stdout",
     "output_type": "stream",
     "text": [
      "Total signal processes; 1.0\n",
      "Total background processes; 1.0\n"
     ]
    }
   ],
   "source": [
    "# Confusion matricies with new threshold at max significance\n",
    "\n",
    "# calculates prediction values\n",
    "#y_pred = model.predict(X_valid) \n",
    "\n",
    "significance_threshold_10 = max_bin_10\n",
    "y_pred_threshold_10 = np.where(y_pred >= significance_threshold_10, 1, 0)\n",
    "\n",
    "# compute the confusion matrix\n",
    "cm = confusion_matrix(y_valid, y_pred_threshold_10, normalize = 'true')    #,'true' ‘pred’, ‘all’},)\n",
    "#disp = ConfusionMatrixDisplay(confusion_matrix=cm)   \n",
    "disp = ConfusionMatrixDisplay(confusion_matrix=cm, display_labels=['class 0', 'class 1']) # other env\n",
    "disp.plot()\n",
    "plt.show()\n",
    "\n",
    "print('Total signal processes;', cm[1,0]+cm[1,1])\n",
    "print('Total background processes;', cm[0,0]+cm[0,1])"
   ]
  },
  {
   "cell_type": "code",
   "execution_count": 1,
   "metadata": {},
   "outputs": [
    {
     "ename": "NameError",
     "evalue": "name 'plt' is not defined",
     "output_type": "error",
     "traceback": [
      "\u001b[0;31m---------------------------------------------------------------------------\u001b[0m",
      "\u001b[0;31mNameError\u001b[0m                                 Traceback (most recent call last)",
      "\u001b[0;32m<ipython-input-1-baaebea876a6>\u001b[0m in \u001b[0;36m<module>\u001b[0;34m\u001b[0m\n\u001b[0;32m----> 1\u001b[0;31m \u001b[0mfig\u001b[0m\u001b[0;34m,\u001b[0m \u001b[0maxs\u001b[0m \u001b[0;34m=\u001b[0m \u001b[0mplt\u001b[0m\u001b[0;34m.\u001b[0m\u001b[0msubplots\u001b[0m\u001b[0;34m(\u001b[0m\u001b[0mnrows\u001b[0m\u001b[0;34m=\u001b[0m\u001b[0;36m2\u001b[0m\u001b[0;34m,\u001b[0m \u001b[0mncols\u001b[0m\u001b[0;34m=\u001b[0m\u001b[0;36m1\u001b[0m\u001b[0;34m,\u001b[0m \u001b[0mfigsize\u001b[0m\u001b[0;34m=\u001b[0m\u001b[0;34m(\u001b[0m\u001b[0;36m16\u001b[0m\u001b[0;34m,\u001b[0m\u001b[0;36m8\u001b[0m\u001b[0;34m)\u001b[0m\u001b[0;34m)\u001b[0m\u001b[0;34m\u001b[0m\u001b[0;34m\u001b[0m\u001b[0m\n\u001b[0m\u001b[1;32m      2\u001b[0m \u001b[0;34m\u001b[0m\u001b[0m\n\u001b[1;32m      3\u001b[0m \u001b[0;34m\u001b[0m\u001b[0m\n\u001b[1;32m      4\u001b[0m \u001b[0;31m# plot the first confusion matrix\u001b[0m\u001b[0;34m\u001b[0m\u001b[0;34m\u001b[0m\u001b[0;34m\u001b[0m\u001b[0m\n\u001b[1;32m      5\u001b[0m \u001b[0mcm\u001b[0m \u001b[0;34m=\u001b[0m \u001b[0mconfusion_matrix\u001b[0m\u001b[0;34m(\u001b[0m\u001b[0my_valid\u001b[0m\u001b[0;34m,\u001b[0m \u001b[0my_pred_round\u001b[0m\u001b[0;34m,\u001b[0m \u001b[0mnormalize\u001b[0m \u001b[0;34m=\u001b[0m \u001b[0;34m'true'\u001b[0m\u001b[0;34m)\u001b[0m\u001b[0;34m\u001b[0m\u001b[0;34m\u001b[0m\u001b[0m\n",
      "\u001b[0;31mNameError\u001b[0m: name 'plt' is not defined"
     ]
    }
   ],
   "source": [
    "fig, axs = plt.subplots(nrows=2, ncols=1, figsize=(16,8))\n",
    "\n",
    "\n",
    "# plot the first confusion matrix\n",
    "cm = confusion_matrix(y_valid, y_pred_round, normalize = 'true')\n",
    "disp = ConfusionMatrixDisplay(confusion_matrix=cm, display_labels=['Background', 'Signal'])\n",
    "disp.plot(ax=axs[0])\n",
    "axs[0].set_title('Threshold 0.5')\n",
    "\n",
    "\n",
    "\n",
    "# plot the second confusion matrix\n",
    "cm_5 = confusion_matrix(y_valid, y_pred_threshold_5, normalize = 'true')\n",
    "disp = ConfusionMatrixDisplay(confusion_matrix=cm_5, display_labels=['Background', 'Signal'])\n",
    "disp.plot(ax=axs[1])\n",
    "axs[1].set_title(f'Threshold {index_of_max_5/100}')\n",
    "\n",
    "# Adjust the spacing between subplots\n",
    "fig.subplots_adjust(hspace=0.35)\n",
    "\n",
    "plt.show()\n"
   ]
  },
  {
   "cell_type": "code",
   "execution_count": 29,
   "metadata": {},
   "outputs": [],
   "source": [
    "raw_sig_curve_data = {'syst_uncertainty (0%)': z_0, \n",
    "                      'syst_uncertainty (5%)': z_5, \n",
    "                      'syst_uncertainty (10%)': z_10, \n",
    "                     }\n",
    "raw_sig_df = pd.DataFrame(raw_sig_curve_data)\n",
    "\n",
    "\n",
    "# Save the DataFrame to an HDF5 file\n",
    "with h5py.File('combined_raw_sig_data_run8.h5', 'w') as hf:\n",
    "    hf.create_dataset('df', data=raw_sig_df)"
   ]
  },
  {
   "cell_type": "code",
   "execution_count": 36,
   "metadata": {},
   "outputs": [],
   "source": [
    "significances = np.array((max_value_0, max_value_5, max_value_10))\n",
    "syst_uncertainty = np.array((0, 0.05, 0.1))\n",
    "discriminators = np.array((index_of_max_0/100, index_of_max_5/100, index_of_max_10/100))\n",
    "num_bg_threshold = np.array((num_bg_threshold_0, num_bg_threshold_5, num_bg_threshold_10))\n",
    "num_signal_threshold = np.array((num_signal_threshold_0,num_signal_threshold_5,num_signal_threshold_10))"
   ]
  },
  {
   "cell_type": "code",
   "execution_count": 37,
   "metadata": {},
   "outputs": [],
   "source": [
    "sig_curve_data = {'syst_uncertainty (%)': syst_uncertainty, 'Significances': significances, 'Threshold': discriminators, 'no_bg': num_bg_threshold, 'no_signal':num_signal_threshold}\n",
    "sig_df = pd.DataFrame(sig_curve_data)\n",
    "\n",
    "\n",
    "# Save the DataFrame to an HDF5 file\n",
    "with h5py.File('combined_sig_data_run8.h5', 'w') as hf:\n",
    "    hf.create_dataset('df', data=sig_df)\n",
    "    \n",
    "# with h5py.File('run1_ROC_data.h5', 'r') as hf:\n",
    "#     df = pd.DataFrame(hf['df'][:])\n",
    "\n",
    "# can make confusion matricies with things I have saved"
   ]
  },
  {
   "cell_type": "code",
   "execution_count": 38,
   "metadata": {},
   "outputs": [
    {
     "data": {
      "text/html": [
       "<div>\n",
       "<style scoped>\n",
       "    .dataframe tbody tr th:only-of-type {\n",
       "        vertical-align: middle;\n",
       "    }\n",
       "\n",
       "    .dataframe tbody tr th {\n",
       "        vertical-align: top;\n",
       "    }\n",
       "\n",
       "    .dataframe thead th {\n",
       "        text-align: right;\n",
       "    }\n",
       "</style>\n",
       "<table border=\"1\" class=\"dataframe\">\n",
       "  <thead>\n",
       "    <tr style=\"text-align: right;\">\n",
       "      <th></th>\n",
       "      <th>syst_uncertainty (%)</th>\n",
       "      <th>Significances</th>\n",
       "      <th>Threshold</th>\n",
       "      <th>no_bg</th>\n",
       "      <th>no_signal</th>\n",
       "    </tr>\n",
       "  </thead>\n",
       "  <tbody>\n",
       "    <tr>\n",
       "      <th>0</th>\n",
       "      <td>0.00</td>\n",
       "      <td>14.962815</td>\n",
       "      <td>0.86</td>\n",
       "      <td>2835.078125</td>\n",
       "      <td>833.201904</td>\n",
       "    </tr>\n",
       "    <tr>\n",
       "      <th>1</th>\n",
       "      <td>0.05</td>\n",
       "      <td>10.187723</td>\n",
       "      <td>0.96</td>\n",
       "      <td>185.531250</td>\n",
       "      <td>201.684082</td>\n",
       "    </tr>\n",
       "    <tr>\n",
       "      <th>2</th>\n",
       "      <td>0.10</td>\n",
       "      <td>7.749755</td>\n",
       "      <td>0.98</td>\n",
       "      <td>38.062500</td>\n",
       "      <td>74.050781</td>\n",
       "    </tr>\n",
       "  </tbody>\n",
       "</table>\n",
       "</div>"
      ],
      "text/plain": [
       "   syst_uncertainty (%)  Significances  Threshold        no_bg   no_signal\n",
       "0                  0.00      14.962815       0.86  2835.078125  833.201904\n",
       "1                  0.05      10.187723       0.96   185.531250  201.684082\n",
       "2                  0.10       7.749755       0.98    38.062500   74.050781"
      ]
     },
     "execution_count": 38,
     "metadata": {},
     "output_type": "execute_result"
    }
   ],
   "source": [
    "sig_df"
   ]
  },
  {
   "cell_type": "code",
   "execution_count": null,
   "metadata": {},
   "outputs": [],
   "source": [
    "fig, axs = plt.subplots(2, 1, figsize=(6, 8))\n",
    "\n",
    "# Plot 1- HT\n",
    "bins = np.linspace(0,4000,100)\n",
    "HT_bg =  df_total['HT'][:-177858]  \n",
    "HT_signal = df_total['HT'][-177858:] \n",
    "axs[0].hist(x=HT_bg, bins=bins, weights = weights[:-177858] * 300000 , histtype='step', label='Background')\n",
    "axs[0].hist(x = HT_signal, bins=bins, weights = weights[-177858:] * 300000, histtype='step', label='Signal')\n",
    "#axs[0].set_title('HT')\n",
    "axs[0].set_xlim(0,3000)\n",
    "axs[0].set_yscale('log')\n",
    "axs[0].set_ylabel('Number of events weighted to $300\\,fb^{-1}$')\n",
    "axs[0].set_xlabel('Hadronic Transverse Momentum, HT (GeV)')\n",
    "axs[0].legend()\n",
    "\n",
    "\n",
    "# Plot 2 - DiJet_mass\n",
    "bins = np.linspace(0,4000,30)\n",
    "DiJet_mass_bg =  df_total['DiJet_mass'][:-177858]  \n",
    "DiJet_mass_signal = df_total['DiJet_mass'][-177858:] \n",
    "axs[1].hist(x=DiJet_mass_bg, bins=bins, weights = weights[:-177858] * 300000 , histtype='step', label='Background')\n",
    "axs[1].hist(x = DiJet_mass_signal, bins=bins,weights = weights[-177858:] * 300000 , histtype='step', label='Signal')\n",
    "#axs[1].set_title('DiJet_mass')\n",
    "axs[1].set_xlim(-50,3000)\n",
    "axs[1].set_ylabel('Number of events weighted to $300\\,fb^{-1}$')\n",
    "axs[1].set_yscale('log')\n",
    "axs[1].set_xlabel('DiJet Mass (GeV)')\n",
    "axs[1].legend()\n",
    "\n",
    "\n",
    "\n",
    "plt.subplots_adjust(hspace = 0.4)\n",
    "plt.savefig('Hists1.png', dpi=300, bbox_inches='tight')\n"
   ]
  }
 ],
 "metadata": {
  "kernelspec": {
   "display_name": "Python 3",
   "language": "python",
   "name": "python3"
  },
  "language_info": {
   "codemirror_mode": {
    "name": "ipython",
    "version": 3
   },
   "file_extension": ".py",
   "mimetype": "text/x-python",
   "name": "python",
   "nbconvert_exporter": "python",
   "pygments_lexer": "ipython3",
   "version": "3.7.3"
  }
 },
 "nbformat": 4,
 "nbformat_minor": 4
}
