{
 "cells": [
  {
   "cell_type": "markdown",
   "metadata": {},
   "source": [
    "# good model, saved and done.\n",
    "\n",
    "# units = 64"
   ]
  },
  {
   "cell_type": "code",
   "execution_count": 1,
   "metadata": {},
   "outputs": [],
   "source": [
    "import numpy as np\n",
    "import pandas as pd \n",
    "from sklearn.model_selection import train_test_split\n",
    "from sklearn.preprocessing import StandardScaler\n",
    "from tensorflow import keras\n",
    "#from tensorflow.keras.utils import to_categorical ## specific  one I wanna use\n",
    "from tensorflow.keras import utils\n",
    "#from tensorflow.keras.layers import Input, Dense, Dropout  # Specific ones I wanna use, can just import whole module\n",
    "from tensorflow.keras import layers \n",
    "from tensorflow.keras.models import Model\n",
    "import h5py\n",
    "#import tables\n",
    "import matplotlib.pyplot as plt\n",
    "#import tensorflow as tf\n",
    "from sklearn.metrics import confusion_matrix, ConfusionMatrixDisplay\n",
    "from sklearn.metrics import plot_confusion_matrix\n",
    "from sklearn.metrics import roc_curve, auc\n",
    "from sklearn.metrics import precision_recall_curve\n",
    "from sklearn.utils.class_weight import compute_class_weight\n"
   ]
  },
  {
   "cell_type": "code",
   "execution_count": 2,
   "metadata": {},
   "outputs": [
    {
     "data": {
      "text/plain": [
       "True"
      ]
     },
     "execution_count": 2,
     "metadata": {},
     "output_type": "execute_result"
    }
   ],
   "source": [
    "import tensorflow as tf\n",
    "gpu_available = tf.test.is_gpu_available()\n",
    "gpu_available"
   ]
  },
  {
   "cell_type": "code",
   "execution_count": 3,
   "metadata": {},
   "outputs": [
    {
     "data": {
      "text/plain": [
       "4"
      ]
     },
     "execution_count": 3,
     "metadata": {},
     "output_type": "execute_result"
    }
   ],
   "source": [
    "x=1\n",
    "y=3\n",
    "x+y"
   ]
  },
  {
   "cell_type": "code",
   "execution_count": 4,
   "metadata": {},
   "outputs": [],
   "source": [
    "# Load padded data\n",
    "with h5py.File('padded_arr_3d-Copy1.h5', 'r') as f:\n",
    "    padded_arr_3d = f['array'][:]\n",
    "\n",
    "with h5py.File('4_event_types_labels-Copy1.h5', 'r') as f:\n",
    "    df_labels = f['array'][:]\n",
    "    \n",
    "with h5py.File('4_event_types_weights-Copy1.h5', 'r') as f:\n",
    "    df_weights = f['array'][:]\n"
   ]
  },
  {
   "cell_type": "code",
   "execution_count": 5,
   "metadata": {},
   "outputs": [
    {
     "data": {
      "text/plain": [
       "(881096, 16, 23)"
      ]
     },
     "execution_count": 5,
     "metadata": {},
     "output_type": "execute_result"
    }
   ],
   "source": [
    "padded_arr_3d.shape"
   ]
  },
  {
   "cell_type": "code",
   "execution_count": 6,
   "metadata": {},
   "outputs": [
    {
     "data": {
      "text/plain": [
       "array([ 2.0644531 ,  0.        ,  0.        ,  0.        ,  0.        ,\n",
       "        0.        ,  0.        ,  0.        ,  0.        ,  0.        ,\n",
       "        0.        ,  0.        ,  0.38549805,  0.        , 14.75      ,\n",
       "        0.        ], dtype=float32)"
      ]
     },
     "execution_count": 6,
     "metadata": {},
     "output_type": "execute_result"
    }
   ],
   "source": [
    "padded_arr_3d[800000,:,1]"
   ]
  },
  {
   "cell_type": "code",
   "execution_count": 7,
   "metadata": {},
   "outputs": [
    {
     "name": "stdout",
     "output_type": "stream",
     "text": [
      "(881096, 16, 23)\n",
      "There are 23 variables in this model\n"
     ]
    }
   ],
   "source": [
    "X = padded_arr_3d\n",
    "y = df_labels\n",
    "\n",
    "print(X.shape)\n",
    "\n",
    "# Break off validation set from training data\n",
    "X_train, X_valid, y_train, y_valid = train_test_split(X, y, train_size=0.8, test_size=0.2,\n",
    "                                                      random_state=99)\n",
    "\n",
    "input_shape = X_train.shape[2]\n",
    "print('There are', input_shape, 'variables in this model')"
   ]
  },
  {
   "cell_type": "code",
   "execution_count": 2,
   "metadata": {},
   "outputs": [
    {
     "name": "stdout",
     "output_type": "stream",
     "text": [
      "Model: \"sequential\"\n",
      "_________________________________________________________________\n",
      "Layer (type)                 Output Shape              Param #   \n",
      "=================================================================\n",
      "masking (Masking)            (None, 16, 23)            0         \n",
      "_________________________________________________________________\n",
      "lstm (LSTM)                  (None, 16, 64)            22528     \n",
      "_________________________________________________________________\n",
      "batch_normalization (BatchNo (None, 16, 64)            256       \n",
      "_________________________________________________________________\n",
      "dropout (Dropout)            (None, 16, 64)            0         \n",
      "_________________________________________________________________\n",
      "lstm_1 (LSTM)                (None, 64)                33024     \n",
      "_________________________________________________________________\n",
      "batch_normalization_1 (Batch (None, 64)                256       \n",
      "_________________________________________________________________\n",
      "dropout_1 (Dropout)          (None, 64)                0         \n",
      "_________________________________________________________________\n",
      "dense (Dense)                (None, 1)                 65        \n",
      "=================================================================\n",
      "Total params: 56,129\n",
      "Trainable params: 55,873\n",
      "Non-trainable params: 256\n",
      "_________________________________________________________________\n"
     ]
    }
   ],
   "source": [
    "# Define a RNN\n",
    "\n",
    "#input_shape = (None, X_train.shape[2]) # shape of input sequence\n",
    "#input_shape = (16, X_train.shape[2]) # shape of input sequence#\n",
    "input_shape = (16,23)\n",
    "\n",
    "model = keras.Sequential([\n",
    "    layers.Masking(mask_value=0.0, input_shape=input_shape),\n",
    "    layers.LSTM(units=64, return_sequences=True),\n",
    "    layers.BatchNormalization(),\n",
    "    layers.Dropout(rate=0.1), \n",
    "    layers.LSTM(units=64),\n",
    "    layers.BatchNormalization(),\n",
    "    layers.Dropout(rate=0.1),\n",
    "    layers.Dense(units=1, activation='sigmoid'),\n",
    "])\n",
    "\n",
    "from tensorflow.keras.optimizers import Adam\n",
    "\n",
    "lr = 0.0005 # specify learning rate\n",
    "optimizer = Adam(learning_rate=lr)\n",
    "#model.compile(optimizer=optimizer, loss='categorical_crossentropy')\n",
    "\n",
    "\n",
    "\n",
    "model.compile(\n",
    "    optimizer=optimizer,\n",
    "    loss='binary_crossentropy',\n",
    "    metrics=['binary_accuracy'],\n",
    ")\n",
    "\n",
    "model.summary()\n",
    "#model.get_config()"
   ]
  },
  {
   "cell_type": "code",
   "execution_count": 4,
   "metadata": {},
   "outputs": [
    {
     "data": {
      "image/svg+xml": [
       "<svg height=\"626pt\" viewBox=\"0.00 0.00 266.73 751.40\" width=\"222pt\" xmlns=\"http://www.w3.org/2000/svg\" xmlns:xlink=\"http://www.w3.org/1999/xlink\">\n",
       "<g class=\"graph\" id=\"graph0\" transform=\"scale(0.833333 0.833333) rotate(0) translate(4 747.4)\">\n",
       "<title>G</title>\n",
       "<polygon fill=\"white\" points=\"-4,4 -4,-747.4 262.728,-747.4 262.728,4 -4,4\" stroke=\"none\"/>\n",
       "<!-- 140167657013088 -->\n",
       "<g class=\"node\" id=\"node1\"><title>140167657013088</title>\n",
       "<polygon fill=\"none\" points=\"21.0028,-693.3 21.0028,-742.9 237.725,-742.9 237.725,-693.3 21.0028,-693.3\" stroke=\"black\"/>\n",
       "<text font-family=\"Times,serif\" font-size=\"14.00\" text-anchor=\"middle\" x=\"60.0996\" y=\"-713.9\">InputLayer</text>\n",
       "<polyline fill=\"none\" points=\"99.1964,-693.3 99.1964,-742.9 \" stroke=\"black\"/>\n",
       "<text font-family=\"Times,serif\" font-size=\"14.00\" text-anchor=\"middle\" x=\"127.032\" y=\"-726.3\">input:</text>\n",
       "<polyline fill=\"none\" points=\"99.1964,-718.1 154.868,-718.1 \" stroke=\"black\"/>\n",
       "<text font-family=\"Times,serif\" font-size=\"14.00\" text-anchor=\"middle\" x=\"127.032\" y=\"-701.5\">output:</text>\n",
       "<polyline fill=\"none\" points=\"154.868,-693.3 154.868,-742.9 \" stroke=\"black\"/>\n",
       "<text font-family=\"Times,serif\" font-size=\"14.00\" text-anchor=\"middle\" x=\"196.297\" y=\"-726.3\">[(?, 16, 23)]</text>\n",
       "<polyline fill=\"none\" points=\"154.868,-718.1 237.725,-718.1 \" stroke=\"black\"/>\n",
       "<text font-family=\"Times,serif\" font-size=\"14.00\" text-anchor=\"middle\" x=\"196.297\" y=\"-701.5\">[(?, 16, 23)]</text>\n",
       "</g>\n",
       "<!-- 140167656796232 -->\n",
       "<g class=\"node\" id=\"node2\"><title>140167656796232</title>\n",
       "<polygon fill=\"none\" points=\"32.263,-606.7 32.263,-656.3 226.465,-656.3 226.465,-606.7 32.263,-606.7\" stroke=\"black\"/>\n",
       "<text font-family=\"Times,serif\" font-size=\"14.00\" text-anchor=\"middle\" x=\"64.7602\" y=\"-627.3\">Masking</text>\n",
       "<polyline fill=\"none\" points=\"97.2574,-606.7 97.2574,-656.3 \" stroke=\"black\"/>\n",
       "<text font-family=\"Times,serif\" font-size=\"14.00\" text-anchor=\"middle\" x=\"125.093\" y=\"-639.7\">input:</text>\n",
       "<polyline fill=\"none\" points=\"97.2574,-631.5 152.929,-631.5 \" stroke=\"black\"/>\n",
       "<text font-family=\"Times,serif\" font-size=\"14.00\" text-anchor=\"middle\" x=\"125.093\" y=\"-614.9\">output:</text>\n",
       "<polyline fill=\"none\" points=\"152.929,-606.7 152.929,-656.3 \" stroke=\"black\"/>\n",
       "<text font-family=\"Times,serif\" font-size=\"14.00\" text-anchor=\"middle\" x=\"189.697\" y=\"-639.7\">(?, 16, 23)</text>\n",
       "<polyline fill=\"none\" points=\"152.929,-631.5 226.465,-631.5 \" stroke=\"black\"/>\n",
       "<text font-family=\"Times,serif\" font-size=\"14.00\" text-anchor=\"middle\" x=\"189.697\" y=\"-614.9\">(?, 16, 23)</text>\n",
       "</g>\n",
       "<!-- 140167657013088&#45;&gt;140167656796232 -->\n",
       "<g class=\"edge\" id=\"edge1\"><title>140167657013088-&gt;140167656796232</title>\n",
       "<path d=\"M129.364,-693.083C129.364,-684.867 129.364,-675.512 129.364,-666.652\" fill=\"none\" stroke=\"black\"/>\n",
       "<polygon fill=\"black\" points=\"132.864,-666.577 129.364,-656.577 125.864,-666.577 132.864,-666.577\" stroke=\"black\"/>\n",
       "</g>\n",
       "<!-- 140167656797352 -->\n",
       "<g class=\"node\" id=\"node3\"><title>140167656797352</title>\n",
       "<polygon fill=\"none\" points=\"38.094,-520.1 38.094,-569.7 220.634,-569.7 220.634,-520.1 38.094,-520.1\" stroke=\"black\"/>\n",
       "<text font-family=\"Times,serif\" font-size=\"14.00\" text-anchor=\"middle\" x=\"64.7602\" y=\"-540.7\">LSTM</text>\n",
       "<polyline fill=\"none\" points=\"91.4264,-520.1 91.4264,-569.7 \" stroke=\"black\"/>\n",
       "<text font-family=\"Times,serif\" font-size=\"14.00\" text-anchor=\"middle\" x=\"119.262\" y=\"-553.1\">input:</text>\n",
       "<polyline fill=\"none\" points=\"91.4264,-544.9 147.098,-544.9 \" stroke=\"black\"/>\n",
       "<text font-family=\"Times,serif\" font-size=\"14.00\" text-anchor=\"middle\" x=\"119.262\" y=\"-528.3\">output:</text>\n",
       "<polyline fill=\"none\" points=\"147.098,-520.1 147.098,-569.7 \" stroke=\"black\"/>\n",
       "<text font-family=\"Times,serif\" font-size=\"14.00\" text-anchor=\"middle\" x=\"183.866\" y=\"-553.1\">(?, 16, 23)</text>\n",
       "<polyline fill=\"none\" points=\"147.098,-544.9 220.634,-544.9 \" stroke=\"black\"/>\n",
       "<text font-family=\"Times,serif\" font-size=\"14.00\" text-anchor=\"middle\" x=\"183.866\" y=\"-528.3\">(?, 16, 64)</text>\n",
       "</g>\n",
       "<!-- 140167656796232&#45;&gt;140167656797352 -->\n",
       "<g class=\"edge\" id=\"edge2\"><title>140167656796232-&gt;140167656797352</title>\n",
       "<path d=\"M129.364,-606.483C129.364,-598.267 129.364,-588.912 129.364,-580.052\" fill=\"none\" stroke=\"black\"/>\n",
       "<polygon fill=\"black\" points=\"132.864,-579.977 129.364,-569.977 125.864,-579.977 132.864,-579.977\" stroke=\"black\"/>\n",
       "</g>\n",
       "<!-- 140167656799088 -->\n",
       "<g class=\"node\" id=\"node4\"><title>140167656799088</title>\n",
       "<polygon fill=\"none\" points=\"0,-433.5 0,-483.1 258.728,-483.1 258.728,-433.5 0,-433.5\" stroke=\"black\"/>\n",
       "<text font-family=\"Times,serif\" font-size=\"14.00\" text-anchor=\"middle\" x=\"64.7602\" y=\"-454.1\">BatchNormalization</text>\n",
       "<polyline fill=\"none\" points=\"129.52,-433.5 129.52,-483.1 \" stroke=\"black\"/>\n",
       "<text font-family=\"Times,serif\" font-size=\"14.00\" text-anchor=\"middle\" x=\"157.356\" y=\"-466.5\">input:</text>\n",
       "<polyline fill=\"none\" points=\"129.52,-458.3 185.192,-458.3 \" stroke=\"black\"/>\n",
       "<text font-family=\"Times,serif\" font-size=\"14.00\" text-anchor=\"middle\" x=\"157.356\" y=\"-441.7\">output:</text>\n",
       "<polyline fill=\"none\" points=\"185.192,-433.5 185.192,-483.1 \" stroke=\"black\"/>\n",
       "<text font-family=\"Times,serif\" font-size=\"14.00\" text-anchor=\"middle\" x=\"221.96\" y=\"-466.5\">(?, 16, 64)</text>\n",
       "<polyline fill=\"none\" points=\"185.192,-458.3 258.728,-458.3 \" stroke=\"black\"/>\n",
       "<text font-family=\"Times,serif\" font-size=\"14.00\" text-anchor=\"middle\" x=\"221.96\" y=\"-441.7\">(?, 16, 64)</text>\n",
       "</g>\n",
       "<!-- 140167656797352&#45;&gt;140167656799088 -->\n",
       "<g class=\"edge\" id=\"edge3\"><title>140167656797352-&gt;140167656799088</title>\n",
       "<path d=\"M129.364,-519.883C129.364,-511.667 129.364,-502.312 129.364,-493.452\" fill=\"none\" stroke=\"black\"/>\n",
       "<polygon fill=\"black\" points=\"132.864,-493.377 129.364,-483.377 125.864,-493.377 132.864,-493.377\" stroke=\"black\"/>\n",
       "</g>\n",
       "<!-- 140167656799928 -->\n",
       "<g class=\"node\" id=\"node5\"><title>140167656799928</title>\n",
       "<polygon fill=\"none\" points=\"33.4313,-346.9 33.4313,-396.5 225.297,-396.5 225.297,-346.9 33.4313,-346.9\" stroke=\"black\"/>\n",
       "<text font-family=\"Times,serif\" font-size=\"14.00\" text-anchor=\"middle\" x=\"64.7602\" y=\"-367.5\">Dropout</text>\n",
       "<polyline fill=\"none\" points=\"96.0891,-346.9 96.0891,-396.5 \" stroke=\"black\"/>\n",
       "<text font-family=\"Times,serif\" font-size=\"14.00\" text-anchor=\"middle\" x=\"123.925\" y=\"-379.9\">input:</text>\n",
       "<polyline fill=\"none\" points=\"96.0891,-371.7 151.761,-371.7 \" stroke=\"black\"/>\n",
       "<text font-family=\"Times,serif\" font-size=\"14.00\" text-anchor=\"middle\" x=\"123.925\" y=\"-355.1\">output:</text>\n",
       "<polyline fill=\"none\" points=\"151.761,-346.9 151.761,-396.5 \" stroke=\"black\"/>\n",
       "<text font-family=\"Times,serif\" font-size=\"14.00\" text-anchor=\"middle\" x=\"188.529\" y=\"-379.9\">(?, 16, 64)</text>\n",
       "<polyline fill=\"none\" points=\"151.761,-371.7 225.297,-371.7 \" stroke=\"black\"/>\n",
       "<text font-family=\"Times,serif\" font-size=\"14.00\" text-anchor=\"middle\" x=\"188.529\" y=\"-355.1\">(?, 16, 64)</text>\n",
       "</g>\n",
       "<!-- 140167656799088&#45;&gt;140167656799928 -->\n",
       "<g class=\"edge\" id=\"edge4\"><title>140167656799088-&gt;140167656799928</title>\n",
       "<path d=\"M129.364,-433.283C129.364,-425.067 129.364,-415.712 129.364,-406.852\" fill=\"none\" stroke=\"black\"/>\n",
       "<polygon fill=\"black\" points=\"132.864,-406.777 129.364,-396.777 125.864,-406.777 132.864,-406.777\" stroke=\"black\"/>\n",
       "</g>\n",
       "<!-- 140167656800208 -->\n",
       "<g class=\"node\" id=\"node6\"><title>140167656800208</title>\n",
       "<polygon fill=\"none\" points=\"38.094,-260.3 38.094,-309.9 220.634,-309.9 220.634,-260.3 38.094,-260.3\" stroke=\"black\"/>\n",
       "<text font-family=\"Times,serif\" font-size=\"14.00\" text-anchor=\"middle\" x=\"64.7602\" y=\"-280.9\">LSTM</text>\n",
       "<polyline fill=\"none\" points=\"91.4264,-260.3 91.4264,-309.9 \" stroke=\"black\"/>\n",
       "<text font-family=\"Times,serif\" font-size=\"14.00\" text-anchor=\"middle\" x=\"119.262\" y=\"-293.3\">input:</text>\n",
       "<polyline fill=\"none\" points=\"91.4264,-285.1 147.098,-285.1 \" stroke=\"black\"/>\n",
       "<text font-family=\"Times,serif\" font-size=\"14.00\" text-anchor=\"middle\" x=\"119.262\" y=\"-268.5\">output:</text>\n",
       "<polyline fill=\"none\" points=\"147.098,-260.3 147.098,-309.9 \" stroke=\"black\"/>\n",
       "<text font-family=\"Times,serif\" font-size=\"14.00\" text-anchor=\"middle\" x=\"183.866\" y=\"-293.3\">(?, 16, 64)</text>\n",
       "<polyline fill=\"none\" points=\"147.098,-285.1 220.634,-285.1 \" stroke=\"black\"/>\n",
       "<text font-family=\"Times,serif\" font-size=\"14.00\" text-anchor=\"middle\" x=\"183.866\" y=\"-268.5\">(?, 64)</text>\n",
       "</g>\n",
       "<!-- 140167656799928&#45;&gt;140167656800208 -->\n",
       "<g class=\"edge\" id=\"edge5\"><title>140167656799928-&gt;140167656800208</title>\n",
       "<path d=\"M129.364,-346.683C129.364,-338.467 129.364,-329.112 129.364,-320.252\" fill=\"none\" stroke=\"black\"/>\n",
       "<polygon fill=\"black\" points=\"132.864,-320.177 129.364,-310.177 125.864,-320.177 132.864,-320.177\" stroke=\"black\"/>\n",
       "</g>\n",
       "<!-- 140167657010904 -->\n",
       "<g class=\"node\" id=\"node7\"><title>140167657010904</title>\n",
       "<polygon fill=\"none\" points=\"10.5,-173.7 10.5,-223.3 248.228,-223.3 248.228,-173.7 10.5,-173.7\" stroke=\"black\"/>\n",
       "<text font-family=\"Times,serif\" font-size=\"14.00\" text-anchor=\"middle\" x=\"75.2602\" y=\"-194.3\">BatchNormalization</text>\n",
       "<polyline fill=\"none\" points=\"140.02,-173.7 140.02,-223.3 \" stroke=\"black\"/>\n",
       "<text font-family=\"Times,serif\" font-size=\"14.00\" text-anchor=\"middle\" x=\"167.856\" y=\"-206.7\">input:</text>\n",
       "<polyline fill=\"none\" points=\"140.02,-198.5 195.692,-198.5 \" stroke=\"black\"/>\n",
       "<text font-family=\"Times,serif\" font-size=\"14.00\" text-anchor=\"middle\" x=\"167.856\" y=\"-181.9\">output:</text>\n",
       "<polyline fill=\"none\" points=\"195.692,-173.7 195.692,-223.3 \" stroke=\"black\"/>\n",
       "<text font-family=\"Times,serif\" font-size=\"14.00\" text-anchor=\"middle\" x=\"221.96\" y=\"-206.7\">(?, 64)</text>\n",
       "<polyline fill=\"none\" points=\"195.692,-198.5 248.228,-198.5 \" stroke=\"black\"/>\n",
       "<text font-family=\"Times,serif\" font-size=\"14.00\" text-anchor=\"middle\" x=\"221.96\" y=\"-181.9\">(?, 64)</text>\n",
       "</g>\n",
       "<!-- 140167656800208&#45;&gt;140167657010904 -->\n",
       "<g class=\"edge\" id=\"edge6\"><title>140167656800208-&gt;140167657010904</title>\n",
       "<path d=\"M129.364,-260.083C129.364,-251.867 129.364,-242.512 129.364,-233.652\" fill=\"none\" stroke=\"black\"/>\n",
       "<polygon fill=\"black\" points=\"132.864,-233.577 129.364,-223.577 125.864,-233.577 132.864,-233.577\" stroke=\"black\"/>\n",
       "</g>\n",
       "<!-- 140167657011800 -->\n",
       "<g class=\"node\" id=\"node8\"><title>140167657011800</title>\n",
       "<polygon fill=\"none\" points=\"43.9313,-87.1 43.9313,-136.7 214.797,-136.7 214.797,-87.1 43.9313,-87.1\" stroke=\"black\"/>\n",
       "<text font-family=\"Times,serif\" font-size=\"14.00\" text-anchor=\"middle\" x=\"75.2602\" y=\"-107.7\">Dropout</text>\n",
       "<polyline fill=\"none\" points=\"106.589,-87.1 106.589,-136.7 \" stroke=\"black\"/>\n",
       "<text font-family=\"Times,serif\" font-size=\"14.00\" text-anchor=\"middle\" x=\"134.425\" y=\"-120.1\">input:</text>\n",
       "<polyline fill=\"none\" points=\"106.589,-111.9 162.261,-111.9 \" stroke=\"black\"/>\n",
       "<text font-family=\"Times,serif\" font-size=\"14.00\" text-anchor=\"middle\" x=\"134.425\" y=\"-95.3\">output:</text>\n",
       "<polyline fill=\"none\" points=\"162.261,-87.1 162.261,-136.7 \" stroke=\"black\"/>\n",
       "<text font-family=\"Times,serif\" font-size=\"14.00\" text-anchor=\"middle\" x=\"188.529\" y=\"-120.1\">(?, 64)</text>\n",
       "<polyline fill=\"none\" points=\"162.261,-111.9 214.797,-111.9 \" stroke=\"black\"/>\n",
       "<text font-family=\"Times,serif\" font-size=\"14.00\" text-anchor=\"middle\" x=\"188.529\" y=\"-95.3\">(?, 64)</text>\n",
       "</g>\n",
       "<!-- 140167657010904&#45;&gt;140167657011800 -->\n",
       "<g class=\"edge\" id=\"edge7\"><title>140167657010904-&gt;140167657011800</title>\n",
       "<path d=\"M129.364,-173.483C129.364,-165.267 129.364,-155.912 129.364,-147.052\" fill=\"none\" stroke=\"black\"/>\n",
       "<polygon fill=\"black\" points=\"132.864,-146.977 129.364,-136.977 125.864,-146.977 132.864,-146.977\" stroke=\"black\"/>\n",
       "</g>\n",
       "<!-- 140167657012024 -->\n",
       "<g class=\"node\" id=\"node9\"><title>140167657012024</title>\n",
       "<polygon fill=\"none\" points=\"49.77,-0.5 49.77,-50.1 208.958,-50.1 208.958,-0.5 49.77,-0.5\" stroke=\"black\"/>\n",
       "<text font-family=\"Times,serif\" font-size=\"14.00\" text-anchor=\"middle\" x=\"75.2602\" y=\"-21.1\">Dense</text>\n",
       "<polyline fill=\"none\" points=\"100.75,-0.5 100.75,-50.1 \" stroke=\"black\"/>\n",
       "<text font-family=\"Times,serif\" font-size=\"14.00\" text-anchor=\"middle\" x=\"128.586\" y=\"-33.5\">input:</text>\n",
       "<polyline fill=\"none\" points=\"100.75,-25.3 156.422,-25.3 \" stroke=\"black\"/>\n",
       "<text font-family=\"Times,serif\" font-size=\"14.00\" text-anchor=\"middle\" x=\"128.586\" y=\"-8.7\">output:</text>\n",
       "<polyline fill=\"none\" points=\"156.422,-0.5 156.422,-50.1 \" stroke=\"black\"/>\n",
       "<text font-family=\"Times,serif\" font-size=\"14.00\" text-anchor=\"middle\" x=\"182.69\" y=\"-33.5\">(?, 64)</text>\n",
       "<polyline fill=\"none\" points=\"156.422,-25.3 208.958,-25.3 \" stroke=\"black\"/>\n",
       "<text font-family=\"Times,serif\" font-size=\"14.00\" text-anchor=\"middle\" x=\"182.19\" y=\"-8.7\">(?, 1)</text>\n",
       "</g>\n",
       "<!-- 140167657011800&#45;&gt;140167657012024 -->\n",
       "<g class=\"edge\" id=\"edge8\"><title>140167657011800-&gt;140167657012024</title>\n",
       "<path d=\"M129.364,-86.8833C129.364,-78.6673 129.364,-69.3117 129.364,-60.4518\" fill=\"none\" stroke=\"black\"/>\n",
       "<polygon fill=\"black\" points=\"132.864,-60.3767 129.364,-50.3767 125.864,-60.3768 132.864,-60.3767\" stroke=\"black\"/>\n",
       "</g>\n",
       "</g>\n",
       "</svg>"
      ],
      "text/plain": [
       "<IPython.core.display.SVG object>"
      ]
     },
     "execution_count": 4,
     "metadata": {},
     "output_type": "execute_result"
    }
   ],
   "source": [
    "from IPython.display import Image, SVG\n",
    "from tensorflow.keras.utils import model_to_dot\n",
    "\n",
    "SVG(model_to_dot(model,\n",
    "                 show_shapes=True, \n",
    "                 show_layer_names=False,\n",
    "                 rankdir='TB',\n",
    "                 expand_nested=False,\n",
    "                 subgraph=False,\n",
    "                 #show_layer_activations = True,\n",
    "                 dpi=60).create(prog='dot', format='svg'))\n"
   ]
  },
  {
   "cell_type": "code",
   "execution_count": 5,
   "metadata": {},
   "outputs": [
    {
     "data": {
      "image/svg+xml": [
       "<svg height=\"626pt\" viewBox=\"0.00 0.00 266.73 751.40\" width=\"222pt\" xmlns=\"http://www.w3.org/2000/svg\" xmlns:xlink=\"http://www.w3.org/1999/xlink\">\n",
       "<g class=\"graph\" id=\"graph0\" transform=\"scale(0.833333 0.833333) rotate(0) translate(4 747.4)\">\n",
       "<title>G</title>\n",
       "<polygon fill=\"white\" points=\"-4,4 -4,-747.4 262.728,-747.4 262.728,4 -4,4\" stroke=\"none\"/>\n",
       "<!-- 140167657013088 -->\n",
       "<g class=\"node\" id=\"node1\"><title>140167657013088</title>\n",
       "<polygon fill=\"none\" points=\"21.0028,-693.3 21.0028,-742.9 237.725,-742.9 237.725,-693.3 21.0028,-693.3\" stroke=\"black\"/>\n",
       "<text font-family=\"Times,serif\" font-size=\"14.00\" text-anchor=\"middle\" x=\"60.0996\" y=\"-713.9\">InputLayer</text>\n",
       "<polyline fill=\"none\" points=\"99.1964,-693.3 99.1964,-742.9 \" stroke=\"black\"/>\n",
       "<text font-family=\"Times,serif\" font-size=\"14.00\" text-anchor=\"middle\" x=\"127.032\" y=\"-726.3\">input:</text>\n",
       "<polyline fill=\"none\" points=\"99.1964,-718.1 154.868,-718.1 \" stroke=\"black\"/>\n",
       "<text font-family=\"Times,serif\" font-size=\"14.00\" text-anchor=\"middle\" x=\"127.032\" y=\"-701.5\">output:</text>\n",
       "<polyline fill=\"none\" points=\"154.868,-693.3 154.868,-742.9 \" stroke=\"black\"/>\n",
       "<text font-family=\"Times,serif\" font-size=\"14.00\" text-anchor=\"middle\" x=\"196.297\" y=\"-726.3\">[(?, 16, 23)]</text>\n",
       "<polyline fill=\"none\" points=\"154.868,-718.1 237.725,-718.1 \" stroke=\"black\"/>\n",
       "<text font-family=\"Times,serif\" font-size=\"14.00\" text-anchor=\"middle\" x=\"196.297\" y=\"-701.5\">[(?, 16, 23)]</text>\n",
       "</g>\n",
       "<!-- 140167656796232 -->\n",
       "<g class=\"node\" id=\"node2\"><title>140167656796232</title>\n",
       "<polygon fill=\"none\" points=\"32.263,-606.7 32.263,-656.3 226.465,-656.3 226.465,-606.7 32.263,-606.7\" stroke=\"black\"/>\n",
       "<text font-family=\"Times,serif\" font-size=\"14.00\" text-anchor=\"middle\" x=\"64.7602\" y=\"-627.3\">Masking</text>\n",
       "<polyline fill=\"none\" points=\"97.2574,-606.7 97.2574,-656.3 \" stroke=\"black\"/>\n",
       "<text font-family=\"Times,serif\" font-size=\"14.00\" text-anchor=\"middle\" x=\"125.093\" y=\"-639.7\">input:</text>\n",
       "<polyline fill=\"none\" points=\"97.2574,-631.5 152.929,-631.5 \" stroke=\"black\"/>\n",
       "<text font-family=\"Times,serif\" font-size=\"14.00\" text-anchor=\"middle\" x=\"125.093\" y=\"-614.9\">output:</text>\n",
       "<polyline fill=\"none\" points=\"152.929,-606.7 152.929,-656.3 \" stroke=\"black\"/>\n",
       "<text font-family=\"Times,serif\" font-size=\"14.00\" text-anchor=\"middle\" x=\"189.697\" y=\"-639.7\">(?, 16, 23)</text>\n",
       "<polyline fill=\"none\" points=\"152.929,-631.5 226.465,-631.5 \" stroke=\"black\"/>\n",
       "<text font-family=\"Times,serif\" font-size=\"14.00\" text-anchor=\"middle\" x=\"189.697\" y=\"-614.9\">(?, 16, 23)</text>\n",
       "</g>\n",
       "<!-- 140167657013088&#45;&gt;140167656796232 -->\n",
       "<g class=\"edge\" id=\"edge1\"><title>140167657013088-&gt;140167656796232</title>\n",
       "<path d=\"M129.364,-693.083C129.364,-684.867 129.364,-675.512 129.364,-666.652\" fill=\"none\" stroke=\"black\"/>\n",
       "<polygon fill=\"black\" points=\"132.864,-666.577 129.364,-656.577 125.864,-666.577 132.864,-666.577\" stroke=\"black\"/>\n",
       "</g>\n",
       "<!-- 140167656797352 -->\n",
       "<g class=\"node\" id=\"node3\"><title>140167656797352</title>\n",
       "<polygon fill=\"none\" points=\"38.094,-520.1 38.094,-569.7 220.634,-569.7 220.634,-520.1 38.094,-520.1\" stroke=\"black\"/>\n",
       "<text font-family=\"Times,serif\" font-size=\"14.00\" text-anchor=\"middle\" x=\"64.7602\" y=\"-540.7\">LSTM</text>\n",
       "<polyline fill=\"none\" points=\"91.4264,-520.1 91.4264,-569.7 \" stroke=\"black\"/>\n",
       "<text font-family=\"Times,serif\" font-size=\"14.00\" text-anchor=\"middle\" x=\"119.262\" y=\"-553.1\">input:</text>\n",
       "<polyline fill=\"none\" points=\"91.4264,-544.9 147.098,-544.9 \" stroke=\"black\"/>\n",
       "<text font-family=\"Times,serif\" font-size=\"14.00\" text-anchor=\"middle\" x=\"119.262\" y=\"-528.3\">output:</text>\n",
       "<polyline fill=\"none\" points=\"147.098,-520.1 147.098,-569.7 \" stroke=\"black\"/>\n",
       "<text font-family=\"Times,serif\" font-size=\"14.00\" text-anchor=\"middle\" x=\"183.866\" y=\"-553.1\">(?, 16, 23)</text>\n",
       "<polyline fill=\"none\" points=\"147.098,-544.9 220.634,-544.9 \" stroke=\"black\"/>\n",
       "<text font-family=\"Times,serif\" font-size=\"14.00\" text-anchor=\"middle\" x=\"183.866\" y=\"-528.3\">(?, 16, 64)</text>\n",
       "</g>\n",
       "<!-- 140167656796232&#45;&gt;140167656797352 -->\n",
       "<g class=\"edge\" id=\"edge2\"><title>140167656796232-&gt;140167656797352</title>\n",
       "<path d=\"M129.364,-606.483C129.364,-598.267 129.364,-588.912 129.364,-580.052\" fill=\"none\" stroke=\"black\"/>\n",
       "<polygon fill=\"black\" points=\"132.864,-579.977 129.364,-569.977 125.864,-579.977 132.864,-579.977\" stroke=\"black\"/>\n",
       "</g>\n",
       "<!-- 140167656799088 -->\n",
       "<g class=\"node\" id=\"node4\"><title>140167656799088</title>\n",
       "<polygon fill=\"none\" points=\"0,-433.5 0,-483.1 258.728,-483.1 258.728,-433.5 0,-433.5\" stroke=\"black\"/>\n",
       "<text font-family=\"Times,serif\" font-size=\"14.00\" text-anchor=\"middle\" x=\"64.7602\" y=\"-454.1\">BatchNormalization</text>\n",
       "<polyline fill=\"none\" points=\"129.52,-433.5 129.52,-483.1 \" stroke=\"black\"/>\n",
       "<text font-family=\"Times,serif\" font-size=\"14.00\" text-anchor=\"middle\" x=\"157.356\" y=\"-466.5\">input:</text>\n",
       "<polyline fill=\"none\" points=\"129.52,-458.3 185.192,-458.3 \" stroke=\"black\"/>\n",
       "<text font-family=\"Times,serif\" font-size=\"14.00\" text-anchor=\"middle\" x=\"157.356\" y=\"-441.7\">output:</text>\n",
       "<polyline fill=\"none\" points=\"185.192,-433.5 185.192,-483.1 \" stroke=\"black\"/>\n",
       "<text font-family=\"Times,serif\" font-size=\"14.00\" text-anchor=\"middle\" x=\"221.96\" y=\"-466.5\">(?, 16, 64)</text>\n",
       "<polyline fill=\"none\" points=\"185.192,-458.3 258.728,-458.3 \" stroke=\"black\"/>\n",
       "<text font-family=\"Times,serif\" font-size=\"14.00\" text-anchor=\"middle\" x=\"221.96\" y=\"-441.7\">(?, 16, 64)</text>\n",
       "</g>\n",
       "<!-- 140167656797352&#45;&gt;140167656799088 -->\n",
       "<g class=\"edge\" id=\"edge3\"><title>140167656797352-&gt;140167656799088</title>\n",
       "<path d=\"M129.364,-519.883C129.364,-511.667 129.364,-502.312 129.364,-493.452\" fill=\"none\" stroke=\"black\"/>\n",
       "<polygon fill=\"black\" points=\"132.864,-493.377 129.364,-483.377 125.864,-493.377 132.864,-493.377\" stroke=\"black\"/>\n",
       "</g>\n",
       "<!-- 140167656799928 -->\n",
       "<g class=\"node\" id=\"node5\"><title>140167656799928</title>\n",
       "<polygon fill=\"none\" points=\"33.4313,-346.9 33.4313,-396.5 225.297,-396.5 225.297,-346.9 33.4313,-346.9\" stroke=\"black\"/>\n",
       "<text font-family=\"Times,serif\" font-size=\"14.00\" text-anchor=\"middle\" x=\"64.7602\" y=\"-367.5\">Dropout</text>\n",
       "<polyline fill=\"none\" points=\"96.0891,-346.9 96.0891,-396.5 \" stroke=\"black\"/>\n",
       "<text font-family=\"Times,serif\" font-size=\"14.00\" text-anchor=\"middle\" x=\"123.925\" y=\"-379.9\">input:</text>\n",
       "<polyline fill=\"none\" points=\"96.0891,-371.7 151.761,-371.7 \" stroke=\"black\"/>\n",
       "<text font-family=\"Times,serif\" font-size=\"14.00\" text-anchor=\"middle\" x=\"123.925\" y=\"-355.1\">output:</text>\n",
       "<polyline fill=\"none\" points=\"151.761,-346.9 151.761,-396.5 \" stroke=\"black\"/>\n",
       "<text font-family=\"Times,serif\" font-size=\"14.00\" text-anchor=\"middle\" x=\"188.529\" y=\"-379.9\">(?, 16, 64)</text>\n",
       "<polyline fill=\"none\" points=\"151.761,-371.7 225.297,-371.7 \" stroke=\"black\"/>\n",
       "<text font-family=\"Times,serif\" font-size=\"14.00\" text-anchor=\"middle\" x=\"188.529\" y=\"-355.1\">(?, 16, 64)</text>\n",
       "</g>\n",
       "<!-- 140167656799088&#45;&gt;140167656799928 -->\n",
       "<g class=\"edge\" id=\"edge4\"><title>140167656799088-&gt;140167656799928</title>\n",
       "<path d=\"M129.364,-433.283C129.364,-425.067 129.364,-415.712 129.364,-406.852\" fill=\"none\" stroke=\"black\"/>\n",
       "<polygon fill=\"black\" points=\"132.864,-406.777 129.364,-396.777 125.864,-406.777 132.864,-406.777\" stroke=\"black\"/>\n",
       "</g>\n",
       "<!-- 140167656800208 -->\n",
       "<g class=\"node\" id=\"node6\"><title>140167656800208</title>\n",
       "<polygon fill=\"none\" points=\"38.094,-260.3 38.094,-309.9 220.634,-309.9 220.634,-260.3 38.094,-260.3\" stroke=\"black\"/>\n",
       "<text font-family=\"Times,serif\" font-size=\"14.00\" text-anchor=\"middle\" x=\"64.7602\" y=\"-280.9\">LSTM</text>\n",
       "<polyline fill=\"none\" points=\"91.4264,-260.3 91.4264,-309.9 \" stroke=\"black\"/>\n",
       "<text font-family=\"Times,serif\" font-size=\"14.00\" text-anchor=\"middle\" x=\"119.262\" y=\"-293.3\">input:</text>\n",
       "<polyline fill=\"none\" points=\"91.4264,-285.1 147.098,-285.1 \" stroke=\"black\"/>\n",
       "<text font-family=\"Times,serif\" font-size=\"14.00\" text-anchor=\"middle\" x=\"119.262\" y=\"-268.5\">output:</text>\n",
       "<polyline fill=\"none\" points=\"147.098,-260.3 147.098,-309.9 \" stroke=\"black\"/>\n",
       "<text font-family=\"Times,serif\" font-size=\"14.00\" text-anchor=\"middle\" x=\"183.866\" y=\"-293.3\">(?, 16, 64)</text>\n",
       "<polyline fill=\"none\" points=\"147.098,-285.1 220.634,-285.1 \" stroke=\"black\"/>\n",
       "<text font-family=\"Times,serif\" font-size=\"14.00\" text-anchor=\"middle\" x=\"183.866\" y=\"-268.5\">(?, 64)</text>\n",
       "</g>\n",
       "<!-- 140167656799928&#45;&gt;140167656800208 -->\n",
       "<g class=\"edge\" id=\"edge5\"><title>140167656799928-&gt;140167656800208</title>\n",
       "<path d=\"M129.364,-346.683C129.364,-338.467 129.364,-329.112 129.364,-320.252\" fill=\"none\" stroke=\"black\"/>\n",
       "<polygon fill=\"black\" points=\"132.864,-320.177 129.364,-310.177 125.864,-320.177 132.864,-320.177\" stroke=\"black\"/>\n",
       "</g>\n",
       "<!-- 140167657010904 -->\n",
       "<g class=\"node\" id=\"node7\"><title>140167657010904</title>\n",
       "<polygon fill=\"none\" points=\"10.5,-173.7 10.5,-223.3 248.228,-223.3 248.228,-173.7 10.5,-173.7\" stroke=\"black\"/>\n",
       "<text font-family=\"Times,serif\" font-size=\"14.00\" text-anchor=\"middle\" x=\"75.2602\" y=\"-194.3\">BatchNormalization</text>\n",
       "<polyline fill=\"none\" points=\"140.02,-173.7 140.02,-223.3 \" stroke=\"black\"/>\n",
       "<text font-family=\"Times,serif\" font-size=\"14.00\" text-anchor=\"middle\" x=\"167.856\" y=\"-206.7\">input:</text>\n",
       "<polyline fill=\"none\" points=\"140.02,-198.5 195.692,-198.5 \" stroke=\"black\"/>\n",
       "<text font-family=\"Times,serif\" font-size=\"14.00\" text-anchor=\"middle\" x=\"167.856\" y=\"-181.9\">output:</text>\n",
       "<polyline fill=\"none\" points=\"195.692,-173.7 195.692,-223.3 \" stroke=\"black\"/>\n",
       "<text font-family=\"Times,serif\" font-size=\"14.00\" text-anchor=\"middle\" x=\"221.96\" y=\"-206.7\">(?, 64)</text>\n",
       "<polyline fill=\"none\" points=\"195.692,-198.5 248.228,-198.5 \" stroke=\"black\"/>\n",
       "<text font-family=\"Times,serif\" font-size=\"14.00\" text-anchor=\"middle\" x=\"221.96\" y=\"-181.9\">(?, 64)</text>\n",
       "</g>\n",
       "<!-- 140167656800208&#45;&gt;140167657010904 -->\n",
       "<g class=\"edge\" id=\"edge6\"><title>140167656800208-&gt;140167657010904</title>\n",
       "<path d=\"M129.364,-260.083C129.364,-251.867 129.364,-242.512 129.364,-233.652\" fill=\"none\" stroke=\"black\"/>\n",
       "<polygon fill=\"black\" points=\"132.864,-233.577 129.364,-223.577 125.864,-233.577 132.864,-233.577\" stroke=\"black\"/>\n",
       "</g>\n",
       "<!-- 140167657011800 -->\n",
       "<g class=\"node\" id=\"node8\"><title>140167657011800</title>\n",
       "<polygon fill=\"none\" points=\"43.9313,-87.1 43.9313,-136.7 214.797,-136.7 214.797,-87.1 43.9313,-87.1\" stroke=\"black\"/>\n",
       "<text font-family=\"Times,serif\" font-size=\"14.00\" text-anchor=\"middle\" x=\"75.2602\" y=\"-107.7\">Dropout</text>\n",
       "<polyline fill=\"none\" points=\"106.589,-87.1 106.589,-136.7 \" stroke=\"black\"/>\n",
       "<text font-family=\"Times,serif\" font-size=\"14.00\" text-anchor=\"middle\" x=\"134.425\" y=\"-120.1\">input:</text>\n",
       "<polyline fill=\"none\" points=\"106.589,-111.9 162.261,-111.9 \" stroke=\"black\"/>\n",
       "<text font-family=\"Times,serif\" font-size=\"14.00\" text-anchor=\"middle\" x=\"134.425\" y=\"-95.3\">output:</text>\n",
       "<polyline fill=\"none\" points=\"162.261,-87.1 162.261,-136.7 \" stroke=\"black\"/>\n",
       "<text font-family=\"Times,serif\" font-size=\"14.00\" text-anchor=\"middle\" x=\"188.529\" y=\"-120.1\">(?, 64)</text>\n",
       "<polyline fill=\"none\" points=\"162.261,-111.9 214.797,-111.9 \" stroke=\"black\"/>\n",
       "<text font-family=\"Times,serif\" font-size=\"14.00\" text-anchor=\"middle\" x=\"188.529\" y=\"-95.3\">(?, 64)</text>\n",
       "</g>\n",
       "<!-- 140167657010904&#45;&gt;140167657011800 -->\n",
       "<g class=\"edge\" id=\"edge7\"><title>140167657010904-&gt;140167657011800</title>\n",
       "<path d=\"M129.364,-173.483C129.364,-165.267 129.364,-155.912 129.364,-147.052\" fill=\"none\" stroke=\"black\"/>\n",
       "<polygon fill=\"black\" points=\"132.864,-146.977 129.364,-136.977 125.864,-146.977 132.864,-146.977\" stroke=\"black\"/>\n",
       "</g>\n",
       "<!-- 140167657012024 -->\n",
       "<g class=\"node\" id=\"node9\"><title>140167657012024</title>\n",
       "<polygon fill=\"none\" points=\"49.77,-0.5 49.77,-50.1 208.958,-50.1 208.958,-0.5 49.77,-0.5\" stroke=\"black\"/>\n",
       "<text font-family=\"Times,serif\" font-size=\"14.00\" text-anchor=\"middle\" x=\"75.2602\" y=\"-21.1\">Dense</text>\n",
       "<polyline fill=\"none\" points=\"100.75,-0.5 100.75,-50.1 \" stroke=\"black\"/>\n",
       "<text font-family=\"Times,serif\" font-size=\"14.00\" text-anchor=\"middle\" x=\"128.586\" y=\"-33.5\">input:</text>\n",
       "<polyline fill=\"none\" points=\"100.75,-25.3 156.422,-25.3 \" stroke=\"black\"/>\n",
       "<text font-family=\"Times,serif\" font-size=\"14.00\" text-anchor=\"middle\" x=\"128.586\" y=\"-8.7\">output:</text>\n",
       "<polyline fill=\"none\" points=\"156.422,-0.5 156.422,-50.1 \" stroke=\"black\"/>\n",
       "<text font-family=\"Times,serif\" font-size=\"14.00\" text-anchor=\"middle\" x=\"182.69\" y=\"-33.5\">(?, 64)</text>\n",
       "<polyline fill=\"none\" points=\"156.422,-25.3 208.958,-25.3 \" stroke=\"black\"/>\n",
       "<text font-family=\"Times,serif\" font-size=\"14.00\" text-anchor=\"middle\" x=\"182.19\" y=\"-8.7\">(?, 1)</text>\n",
       "</g>\n",
       "<!-- 140167657011800&#45;&gt;140167657012024 -->\n",
       "<g class=\"edge\" id=\"edge8\"><title>140167657011800-&gt;140167657012024</title>\n",
       "<path d=\"M129.364,-86.8833C129.364,-78.6673 129.364,-69.3117 129.364,-60.4518\" fill=\"none\" stroke=\"black\"/>\n",
       "<polygon fill=\"black\" points=\"132.864,-60.3767 129.364,-50.3767 125.864,-60.3768 132.864,-60.3767\" stroke=\"black\"/>\n",
       "</g>\n",
       "</g>\n",
       "</svg>"
      ],
      "text/plain": [
       "<IPython.core.display.SVG object>"
      ]
     },
     "execution_count": 5,
     "metadata": {},
     "output_type": "execute_result"
    }
   ],
   "source": [
    "from IPython.display import Image, SVG\n",
    "from tensorflow.keras.utils import model_to_dot\n",
    "\n",
    "SVG(model_to_dot(model,\n",
    "                 show_shapes=True, \n",
    "                 show_layer_names=False,\n",
    "                 rankdir='TB',\n",
    "                 expand_nested=True,\n",
    "                 subgraph=False,\n",
    "                 #show_layer_activations = True,\n",
    "                 dpi=60).create(prog='dot', format='svg'))\n"
   ]
  },
  {
   "cell_type": "code",
   "execution_count": null,
   "metadata": {},
   "outputs": [],
   "source": []
  },
  {
   "cell_type": "code",
   "execution_count": 8,
   "metadata": {
    "scrolled": false
   },
   "outputs": [
    {
     "name": "stdout",
     "output_type": "stream",
     "text": [
      "Train on 704876 samples, validate on 176220 samples\n",
      "Epoch 1/15\n",
      "704876/704876 [==============================] - 216s 307us/sample - loss: 0.6304 - binary_accuracy: 0.6208 - val_loss: 0.6124 - val_binary_accuracy: 0.6225\n",
      "Epoch 2/15\n",
      "704876/704876 [==============================] - 184s 261us/sample - loss: 0.6123 - binary_accuracy: 0.6343 - val_loss: 0.6104 - val_binary_accuracy: 0.6508\n",
      "Epoch 3/15\n",
      "704876/704876 [==============================] - 186s 264us/sample - loss: 0.6076 - binary_accuracy: 0.6411 - val_loss: 0.6096 - val_binary_accuracy: 0.6022\n",
      "Epoch 4/15\n",
      "704876/704876 [==============================] - 186s 264us/sample - loss: 0.6049 - binary_accuracy: 0.6459 - val_loss: 0.6065 - val_binary_accuracy: 0.6457\n",
      "Epoch 5/15\n",
      "704876/704876 [==============================] - 162s 230us/sample - loss: 0.6032 - binary_accuracy: 0.6503 - val_loss: 0.6050 - val_binary_accuracy: 0.6393\n",
      "Epoch 6/15\n",
      "704876/704876 [==============================] - 148s 210us/sample - loss: 0.6019 - binary_accuracy: 0.6535 - val_loss: 0.6044 - val_binary_accuracy: 0.6307\n",
      "Epoch 7/15\n",
      "704876/704876 [==============================] - 174s 247us/sample - loss: 0.6001 - binary_accuracy: 0.6576 - val_loss: 0.6027 - val_binary_accuracy: 0.6554\n",
      "Epoch 8/15\n",
      "704876/704876 [==============================] - 171s 243us/sample - loss: 0.5988 - binary_accuracy: 0.6585 - val_loss: 0.6022 - val_binary_accuracy: 0.6869\n",
      "Epoch 9/15\n",
      "704876/704876 [==============================] - 162s 230us/sample - loss: 0.5973 - binary_accuracy: 0.6605 - val_loss: 0.5994 - val_binary_accuracy: 0.6644\n",
      "Epoch 10/15\n",
      "704876/704876 [==============================] - 148s 209us/sample - loss: 0.5961 - binary_accuracy: 0.6620 - val_loss: 0.5986 - val_binary_accuracy: 0.6623\n",
      "Epoch 11/15\n",
      "704876/704876 [==============================] - 166s 235us/sample - loss: 0.5953 - binary_accuracy: 0.6628 - val_loss: 0.5986 - val_binary_accuracy: 0.6377\n",
      "Epoch 12/15\n",
      "704876/704876 [==============================] - 93s 132us/sample - loss: 0.5944 - binary_accuracy: 0.6644 - val_loss: 0.5983 - val_binary_accuracy: 0.6654\n",
      "Epoch 13/15\n",
      "704876/704876 [==============================] - 90s 128us/sample - loss: 0.5937 - binary_accuracy: 0.6656 - val_loss: 0.6008 - val_binary_accuracy: 0.6267\n",
      "Epoch 14/15\n",
      "704876/704876 [==============================] - 133s 189us/sample - loss: 0.5927 - binary_accuracy: 0.6663 - val_loss: 0.5972 - val_binary_accuracy: 0.6896\n",
      "Epoch 15/15\n",
      "704876/704876 [==============================] - 154s 218us/sample - loss: 0.5924 - binary_accuracy: 0.6666 - val_loss: 0.5966 - val_binary_accuracy: 0.6626\n",
      "Best Validation Loss: 0.5966\n",
      "Best Validation Accuracy: 0.6896\n"
     ]
    },
    {
     "data": {
      "image/png": "[encoded data removed]",
      "text/plain": [
       "<Figure size 432x288 with 1 Axes>"
      ]
     },
     "metadata": {
      "needs_background": "light"
     },
     "output_type": "display_data"
    },
    {
     "data": {
      "image/png": "[encoded data removed]",
      "text/plain": [
       "<Figure size 432x288 with 1 Axes>"
      ]
     },
     "metadata": {
      "needs_background": "light"
     },
     "output_type": "display_data"
    }
   ],
   "source": [
    "# Train the model, on the full data set\n",
    "\n",
    "early_stopping = keras.callbacks.EarlyStopping(\n",
    "    patience=25,\n",
    "    min_delta=0.001,\n",
    "    restore_best_weights=True,\n",
    ")\n",
    "\n",
    "class_weights = compute_class_weight('balanced', np.unique(y_train), y_train)\n",
    "\n",
    "class_weight = {0: class_weights[0], \n",
    "               1: class_weights[1]}        # Done by compute_class_weight('balanced', np.unique(y_train), y_train) in cell above\n",
    "\n",
    "  \n",
    "history = model.fit(\n",
    "    X_train, y_train,\n",
    "    validation_data=(X_valid, y_valid),\n",
    "    batch_size=512,  #264,\n",
    "    epochs=15,\n",
    "    callbacks=[early_stopping],\n",
    "    #verbose = 0   #Hide output of epochs\n",
    "    class_weight = class_weight\n",
    ")\n",
    "\n",
    "history_df = pd.DataFrame(history.history)\n",
    "history_df.loc[:, ['loss', 'val_loss']].plot(title=\"Cross-entropy\")\n",
    "history_df.loc[:, ['binary_accuracy', 'val_binary_accuracy']].plot(title=\"Accuracy\")\n",
    "history_df = pd.DataFrame(history.history)\n",
    "\n",
    "print((\"Best Validation Loss: {:0.4f}\" +\\\n",
    "      \"\\nBest Validation Accuracy: {:0.4f}\")\\\n",
    "      .format(history_df['val_loss'].min(), \n",
    "              history_df['val_binary_accuracy'].max()))"
   ]
  },
  {
   "cell_type": "code",
   "execution_count": 8,
   "metadata": {},
   "outputs": [],
   "source": [
    "# model.save('trained_rnn_model_run10.h5')\n",
    "\n",
    "from tensorflow.keras.models import load_model\n",
    "model = load_model('trained_rnn_model_run10.h5')"
   ]
  },
  {
   "cell_type": "code",
   "execution_count": 10,
   "metadata": {},
   "outputs": [
    {
     "data": {
      "image/png": "[encoded data removed]",
      "text/plain": [
       "<Figure size 576x432 with 2 Axes>"
      ]
     },
     "metadata": {
      "needs_background": "light"
     },
     "output_type": "display_data"
    },
    {
     "name": "stdout",
     "output_type": "stream",
     "text": [
      "Best Validation Loss: 0.5966\n",
      "Best Validation Accuracy: 0.6896\n"
     ]
    }
   ],
   "source": [
    "history_df = pd.DataFrame(history.history)\n",
    "fig, axes = plt.subplots(nrows=2, figsize=(8, 6))\n",
    "history_df.loc[:, ['loss', 'val_loss']].plot(ax=axes[0], title=\"Cross-entropy\")\n",
    "history_df.loc[:, ['binary_accuracy', 'val_binary_accuracy']].plot(ax=axes[1], title=\"Accuracy\")\n",
    "\n",
    "# Set x-axis label\n",
    "axes[-1].set_xlabel(\"Epoch\")\n",
    "axes[0].set_ylabel(\"Loss\")\n",
    "axes[0].set_xlabel('Epoch')\n",
    "axes[-1].set_ylabel(\"Accuracy\")\n",
    "\n",
    "# Set layout and padding\n",
    "fig.tight_layout(pad=2.0)\n",
    "plt.show()\n",
    "\n",
    "print((\"Best Validation Loss: {:0.4f}\" +\\\n",
    "      \"\\nBest Validation Accuracy: {:0.4f}\")\\\n",
    "      .format(history_df['val_loss'].min(), \n",
    "              history_df['val_binary_accuracy'].max()))"
   ]
  },
  {
   "cell_type": "code",
   "execution_count": 11,
   "metadata": {},
   "outputs": [],
   "source": [
    "history_df = pd.DataFrame(history.history)\n",
    "\n",
    "\n",
    "# # Save the DataFrame to an HDF5 file\n",
    "with h5py.File('rnn_run10_training_data.h5', 'w') as hf:\n",
    "    hf.create_dataset('df', data=history_df)\n",
    "\n",
    "# with h5py.File('rnn_run1_training_data.h5', 'r') as hf:\n",
    "#     history_df = pd.DataFrame(hf['df'][:])"
   ]
  },
  {
   "cell_type": "code",
   "execution_count": 9,
   "metadata": {},
   "outputs": [
    {
     "name": "stdout",
     "output_type": "stream",
     "text": [
      "True\n"
     ]
    },
    {
     "name": "stderr",
     "output_type": "stream",
     "text": [
      "IOPub data rate exceeded.\n",
      "The notebook server will temporarily stop sending output\n",
      "to the client in order to avoid crashing it.\n",
      "To change this limit, set the config variable\n",
      "`--NotebookApp.iopub_data_rate_limit`.\n",
      "\n",
      "Current values:\n",
      "NotebookApp.iopub_data_rate_limit=1000000.0 (bytes/sec)\n",
      "NotebookApp.rate_limit_window=3.0 (secs)\n",
      "\n"
     ]
    },
    {
     "name": "stdout",
     "output_type": "stream",
     "text": [
      "Validation loss: 0.5955764852090738\n",
      "Validation accuracy: 0.666547\n"
     ]
    },
    {
     "data": {
      "image/png": "[encoded data removed]",
      "text/plain": [
       "<Figure size 432x288 with 2 Axes>"
      ]
     },
     "metadata": {
      "needs_background": "light"
     },
     "output_type": "display_data"
    },
    {
     "name": "stdout",
     "output_type": "stream",
     "text": [
      "Total signal processes; 1.0\n",
      "Total background processes; 1.0\n",
      "294976\n",
      "There is 142135 signal in the set\n",
      "The model predicted 152841 more ones than in reality\n",
      "409900\n",
      "There is 562741 background in the set\n",
      "The model predicted -152841 more ones than in reality\n"
     ]
    },
    {
     "data": {
      "image/png": "[encoded data removed]",
      "text/plain": [
       "<Figure size 432x288 with 1 Axes>"
      ]
     },
     "metadata": {
      "needs_background": "light"
     },
     "output_type": "display_data"
    },
    {
     "data": {
      "image/png": "[encoded data removed]",
      "text/plain": [
       "<Figure size 432x288 with 1 Axes>"
      ]
     },
     "metadata": {
      "needs_background": "light"
     },
     "output_type": "display_data"
    }
   ],
   "source": [
    "# evaluate the model on the training data, confusion matrix and discriminator curve\n",
    "\n",
    "# Found model.evaluate took 383s\n",
    "# Found model.predict took \n",
    "# Should have used timit really\n",
    "\n",
    "gpu_available = tf.test.is_gpu_available()\n",
    "print(gpu_available)   # check still on the gpu\n",
    "\n",
    "val_loss, val_acc = model.evaluate(X_train, y_train)    \n",
    "\n",
    "print(\"Validation loss:\", val_loss)\n",
    "print(\"Validation accuracy:\", val_acc)\n",
    "\n",
    "y_pred = model.predict(X_train, verbose = 20)\n",
    "y_pred_round = np.round(y_pred)\n",
    "#print(y_pred)\n",
    "\n",
    "# compute the confusion matrix\n",
    "\n",
    "cm = confusion_matrix(y_train, y_pred_round, normalize = 'true')   #, normalize = 'true')  #,'true' ‘pred’, ‘all’},)\n",
    "#disp = ConfusionMatrixDisplay(confusion_matrix=cm) \n",
    "disp = ConfusionMatrixDisplay(confusion_matrix=cm, display_labels=['class 0', 'class 1']) # other env\n",
    "\n",
    "disp.plot()\n",
    "plt.show()\n",
    "\n",
    "print('Total signal processes;', cm[1,0]+cm[1,1])\n",
    "print('Total background processes;', cm[0,0]+cm[0,1])\n",
    "\n",
    "# Check if order of y_valid is the same order as y_pred\n",
    "# expect to be the ssame order if accuracy is same as validation accuracy above.\n",
    "\n",
    "# list of true outcomes\n",
    "y_train_list = list(y_train)\n",
    "\n",
    "# list of rounded predictions \n",
    "y_pred_round_list = list(y_pred_round)\n",
    "\n",
    "data_test = {'True_Val': y_train_list, 'Predicted': list(y_pred), 'Round Prediction': y_pred_round_list}\n",
    "df_test = pd.DataFrame(data_test)\n",
    "\n",
    "# Easiest to reorder df, so all 0 (background) are first and then 1's (signal)\n",
    "\n",
    "#Verified, works\n",
    "df_test = df_test.sort_values(by='True_Val')\n",
    "df_test\n",
    "\n",
    "# Convert arrays to scalars\n",
    "df_test['Round Prediction'] = df_test['Round Prediction'].apply(lambda x: x[0])\n",
    "        \n",
    "pred_one = df_test['Round Prediction'].value_counts()[1.0]\n",
    "ones_in_set = df_test['True_Val'].value_counts()[1]\n",
    "\n",
    "# Print the result\n",
    "print(pred_one)\n",
    "print('There is', ones_in_set, 'signal in the set')\n",
    "print('The model predicted',pred_one-ones_in_set ,'more ones than in reality')\n",
    "\n",
    "\n",
    "pred_zeros = df_test['Round Prediction'].value_counts()[0.0]\n",
    "zeros_in_set = df_test['True_Val'].value_counts()[0]\n",
    "\n",
    "# Print the result\n",
    "print(pred_zeros)\n",
    "print('There is', zeros_in_set, 'background in the set')   #agrees w/ confusion matrix\n",
    "print('The model predicted', pred_zeros-zeros_in_set,'more ones than in reality')\n",
    "\n",
    "\n",
    "#Split df into signal and bg\n",
    "\n",
    "df_bg = df_test[df_test['True_Val'] == 0]\n",
    "df_signal = df_test[df_test['True_Val'] == 1]\n",
    "\n",
    "# Make discriminator curves, Histogram\n",
    "\n",
    "# manipluate data so can be used for Histograms\n",
    "lst_bg_predicted = []\n",
    "for i in df_bg['Predicted']:\n",
    "    lst_bg_predicted.append(i)\n",
    "\n",
    "lst_of_values_bg_pred_train = [arr.item() for arr in lst_bg_predicted]\n",
    "\n",
    "lst_signal_predicted = []\n",
    "for i in df_signal['Predicted']:\n",
    "    lst_signal_predicted.append(i)\n",
    "\n",
    "lst_of_values_signal_pred_train = [arr.item() for arr in lst_signal_predicted]\n",
    "\n",
    "binwidth = 0.01\n",
    "bins=np.arange(0, 1 + binwidth, binwidth)\n",
    "    \n",
    "\n",
    "#Unweighted, normalised\n",
    "plt.hist(x= lst_of_values_bg_pred_train, bins=bins, density = True, histtype = 'step', label = 'Background')\n",
    "plt.hist(x= lst_of_values_signal_pred_train, bins=bins, density = True, histtype = 'step', label = 'Signal')\n",
    "plt.title('Training Discriminator Curve')\n",
    "plt.xlabel('Classifier Prediction')\n",
    "plt.ylabel('Frequency')\n",
    "plt.legend()\n",
    "plt.show()\n",
    "\n",
    "#Weighted to xs_weights x 300000, need to be toproportion of full dataset too\n",
    "#normalised\n",
    "\n",
    "plt.hist(x= lst_of_values_bg_pred_train, bins=bins,  weights = df_weights[:len(lst_of_values_bg_pred_train),1]*3e5,\n",
    "         histtype = 'step', label = 'Background')\n",
    "plt.hist(x= lst_of_values_signal_pred_train, bins=bins, weights = df_weights[:len(lst_of_values_signal_pred_train),3]*3e5,\n",
    "         histtype = 'step', label = 'Signal')\n",
    "plt.title('Training Discriminator Curve')\n",
    "plt.xlabel('Classifier Prediction')\n",
    "plt.ylabel('Frequency')\n",
    "#plt.xlim(0.9,1)    #zoom in on 0.9 to 1 region\n",
    "#plt.ylim(0,200)    # need to zoom in\n",
    "plt.legend()\n",
    "plt.show()\n",
    "\n",
    "\n",
    "#start dropping bins for signifucance part, calc Z and plot, should get curve that peaks"
   ]
  },
  {
   "cell_type": "code",
   "execution_count": 10,
   "metadata": {},
   "outputs": [
    {
     "name": "stdout",
     "output_type": "stream",
     "text": [
      "True\n",
      "176220/1 - 59s - loss: 0.5812 - binary_accuracy: 0.6626\n",
      "Validation loss: 0.5997392238600275\n",
      "Validation accuracy: 0.6626433\n",
      "176220/1 - 59s\n"
     ]
    },
    {
     "data": {
      "image/png": "[encoded data removed]",
      "text/plain": [
       "<Figure size 432x288 with 2 Axes>"
      ]
     },
     "metadata": {
      "needs_background": "light"
     },
     "output_type": "display_data"
    },
    {
     "name": "stdout",
     "output_type": "stream",
     "text": [
      "Total signal processes; 1.0\n",
      "Total background processes; 1.0\n"
     ]
    }
   ],
   "source": [
    "# evaluate the model on the validation data\n",
    "\n",
    "gpu_available = tf.test.is_gpu_available()\n",
    "print(gpu_available)   # check still on the gpu\n",
    "\n",
    "val_loss, val_acc = model.evaluate(X_valid, y_valid, verbose = 2)   \n",
    "print(\"Validation loss:\", val_loss)\n",
    "print(\"Validation accuracy:\", val_acc)\n",
    "\n",
    "y_pred = model.predict(X_valid, verbose = 2)\n",
    "y_pred_round = np.round(y_pred)\n",
    "\n",
    "# compute the confusion matrix\n",
    "cm = confusion_matrix(y_valid, y_pred_round, normalize = 'true')    #,'true' ‘pred’, ‘all’},)\n",
    "disp = ConfusionMatrixDisplay(confusion_matrix=cm, display_labels=['class 0', 'class 1']) # other env\n",
    "#disp = ConfusionMatrixDisplay(confusion_matrix=cm)   \n",
    "disp.plot()\n",
    "plt.title('Test')\n",
    "plt.show()\n",
    "\n",
    "print('Total signal processes;', cm[1,0]+cm[1,1])\n",
    "print('Total background processes;', cm[0,0]+cm[0,1])"
   ]
  },
  {
   "cell_type": "code",
   "execution_count": 11,
   "metadata": {},
   "outputs": [
    {
     "name": "stdout",
     "output_type": "stream",
     "text": [
      "0.6626432868005901\n",
      "True\n"
     ]
    }
   ],
   "source": [
    "# Check if order of y_valid is the same order as y_pred\n",
    "# expect to be the ssame order if accuracy is same as validation accuracy above.\n",
    "\n",
    "# list of true outcomes\n",
    "y_valid_list = list(y_valid)\n",
    "\n",
    "# list of rounded predictions \n",
    "y_pred_round_list = list(y_pred_round)\n",
    "\n",
    "# list of whether these are same    \n",
    "z=[]\n",
    "for i in range(len(y_valid_list)):\n",
    "    if y_valid_list[i]==y_pred_round_list[i]:\n",
    "        z.append(1)\n",
    "    else:\n",
    "        z.append(0)\n",
    "        \n",
    "print(sum(z)/len(z))\n",
    "\n",
    "# Set a tolerance\n",
    "tol = 0.0001\n",
    "print(val_acc - tol < sum(z)/len(z) < val_acc + tol)\n",
    "\n",
    "# If true, suggests are in same order "
   ]
  },
  {
   "cell_type": "code",
   "execution_count": 12,
   "metadata": {},
   "outputs": [
    {
     "name": "stdout",
     "output_type": "stream",
     "text": [
      "[0.06103063]\n"
     ]
    },
    {
     "data": {
      "text/plain": [
       "array([0.9854244], dtype=float32)"
      ]
     },
     "execution_count": 12,
     "metadata": {},
     "output_type": "execute_result"
    }
   ],
   "source": [
    "print(min(y_pred))\n",
    "max(y_pred)"
   ]
  },
  {
   "cell_type": "code",
   "execution_count": 13,
   "metadata": {},
   "outputs": [
    {
     "data": {
      "text/html": [
       "<div>\n",
       "<style scoped>\n",
       "    .dataframe tbody tr th:only-of-type {\n",
       "        vertical-align: middle;\n",
       "    }\n",
       "\n",
       "    .dataframe tbody tr th {\n",
       "        vertical-align: top;\n",
       "    }\n",
       "\n",
       "    .dataframe thead th {\n",
       "        text-align: right;\n",
       "    }\n",
       "</style>\n",
       "<table border=\"1\" class=\"dataframe\">\n",
       "  <thead>\n",
       "    <tr style=\"text-align: right;\">\n",
       "      <th></th>\n",
       "      <th>True_Val</th>\n",
       "      <th>Predicted</th>\n",
       "      <th>Round Prediction</th>\n",
       "    </tr>\n",
       "  </thead>\n",
       "  <tbody>\n",
       "    <tr>\n",
       "      <th>0</th>\n",
       "      <td>0</td>\n",
       "      <td>[0.091521055]</td>\n",
       "      <td>0.0</td>\n",
       "    </tr>\n",
       "    <tr>\n",
       "      <th>110822</th>\n",
       "      <td>0</td>\n",
       "      <td>[0.68113375]</td>\n",
       "      <td>1.0</td>\n",
       "    </tr>\n",
       "    <tr>\n",
       "      <th>110823</th>\n",
       "      <td>0</td>\n",
       "      <td>[0.378891]</td>\n",
       "      <td>0.0</td>\n",
       "    </tr>\n",
       "    <tr>\n",
       "      <th>110824</th>\n",
       "      <td>0</td>\n",
       "      <td>[0.2923249]</td>\n",
       "      <td>0.0</td>\n",
       "    </tr>\n",
       "    <tr>\n",
       "      <th>110825</th>\n",
       "      <td>0</td>\n",
       "      <td>[0.61627203]</td>\n",
       "      <td>1.0</td>\n",
       "    </tr>\n",
       "    <tr>\n",
       "      <th>...</th>\n",
       "      <td>...</td>\n",
       "      <td>...</td>\n",
       "      <td>...</td>\n",
       "    </tr>\n",
       "    <tr>\n",
       "      <th>100371</th>\n",
       "      <td>1</td>\n",
       "      <td>[0.09557703]</td>\n",
       "      <td>0.0</td>\n",
       "    </tr>\n",
       "    <tr>\n",
       "      <th>60542</th>\n",
       "      <td>1</td>\n",
       "      <td>[0.9059643]</td>\n",
       "      <td>1.0</td>\n",
       "    </tr>\n",
       "    <tr>\n",
       "      <th>60543</th>\n",
       "      <td>1</td>\n",
       "      <td>[0.7807689]</td>\n",
       "      <td>1.0</td>\n",
       "    </tr>\n",
       "    <tr>\n",
       "      <th>60536</th>\n",
       "      <td>1</td>\n",
       "      <td>[0.7977339]</td>\n",
       "      <td>1.0</td>\n",
       "    </tr>\n",
       "    <tr>\n",
       "      <th>146277</th>\n",
       "      <td>1</td>\n",
       "      <td>[0.42455432]</td>\n",
       "      <td>0.0</td>\n",
       "    </tr>\n",
       "  </tbody>\n",
       "</table>\n",
       "<p>176220 rows × 3 columns</p>\n",
       "</div>"
      ],
      "text/plain": [
       "        True_Val      Predicted  Round Prediction\n",
       "0              0  [0.091521055]               0.0\n",
       "110822         0   [0.68113375]               1.0\n",
       "110823         0     [0.378891]               0.0\n",
       "110824         0    [0.2923249]               0.0\n",
       "110825         0   [0.61627203]               1.0\n",
       "...          ...            ...               ...\n",
       "100371         1   [0.09557703]               0.0\n",
       "60542          1    [0.9059643]               1.0\n",
       "60543          1    [0.7807689]               1.0\n",
       "60536          1    [0.7977339]               1.0\n",
       "146277         1   [0.42455432]               0.0\n",
       "\n",
       "[176220 rows x 3 columns]"
      ]
     },
     "execution_count": 13,
     "metadata": {},
     "output_type": "execute_result"
    }
   ],
   "source": [
    "data = {'True_Val': y_valid_list, 'Predicted': list(y_pred), 'Round Prediction': y_pred_round_list}\n",
    "df = pd.DataFrame(data)\n",
    "\n",
    "# Easiest to reorder df, so all 0 (background) are first and then 1's (signal)\n",
    "\n",
    "#Verified, works\n",
    "df = df.sort_values(by='True_Val')\n",
    "df\n",
    "\n",
    "# Convert arrays to scalars\n",
    "df['Round Prediction'] = df['Round Prediction'].apply(lambda x: x[0])\n",
    "\n",
    "df"
   ]
  },
  {
   "cell_type": "code",
   "execution_count": 14,
   "metadata": {},
   "outputs": [
    {
     "name": "stdout",
     "output_type": "stream",
     "text": [
      "0.6626432868005901\n",
      "True\n"
     ]
    }
   ],
   "source": [
    "# Check that they maintained order in the df:\n",
    "\n",
    "lst=[]\n",
    "for i in range(len(df)):\n",
    "    if df['True_Val'][i] == df['Round Prediction'][i]:\n",
    "        lst.append(1)\n",
    "    else:\n",
    "        (lst.append(0))\n",
    "print(sum(lst)/len(lst))\n",
    "\n",
    "# Set a tolerance\n",
    "tol = 0.0001\n",
    "print(val_acc - tol < sum(lst)/len(lst) < val_acc + tol)\n",
    "\n",
    "# If true, suggests are in same order "
   ]
  },
  {
   "cell_type": "code",
   "execution_count": 15,
   "metadata": {},
   "outputs": [
    {
     "name": "stdout",
     "output_type": "stream",
     "text": [
      "73488\n",
      "There is 35723 signal in the set\n",
      "The model predicted 37765 more ones than in reality\n",
      "102732\n",
      "There is 140497 background in the set\n",
      "The model predicted -37765 more ones than in reality\n"
     ]
    }
   ],
   "source": [
    "pred_one = df['Round Prediction'].value_counts()[1.0]\n",
    "ones_in_set = df['True_Val'].value_counts()[1]\n",
    "\n",
    "# Print the result\n",
    "print(pred_one)\n",
    "print('There is', ones_in_set, 'signal in the set')\n",
    "print('The model predicted',pred_one-ones_in_set ,'more ones than in reality')\n",
    "\n",
    "\n",
    "pred_zeros = df['Round Prediction'].value_counts()[0.0]\n",
    "zeros_in_set = df['True_Val'].value_counts()[0]\n",
    "\n",
    "# Print the result\n",
    "print(pred_zeros)\n",
    "print('There is', zeros_in_set, 'background in the set')   #agrees w/ confusion matrix\n",
    "print('The model predicted', pred_zeros-zeros_in_set,'more ones than in reality')\n"
   ]
  },
  {
   "cell_type": "code",
   "execution_count": 16,
   "metadata": {
    "scrolled": false
   },
   "outputs": [
    {
     "data": {
      "image/png": "[encoded data removed]",
      "text/plain": [
       "<Figure size 432x288 with 1 Axes>"
      ]
     },
     "metadata": {
      "needs_background": "light"
     },
     "output_type": "display_data"
    },
    {
     "data": {
      "image/png": "[encoded data removed]",
      "text/plain": [
       "<Figure size 432x288 with 1 Axes>"
      ]
     },
     "metadata": {
      "needs_background": "light"
     },
     "output_type": "display_data"
    }
   ],
   "source": [
    "# Training Discriminator curves\n",
    "\n",
    "#Unweighted, normalised\n",
    "plt.hist(x= lst_of_values_bg_pred_train, bins=bins, density = True, histtype = 'step', label = 'Background')\n",
    "plt.hist(x= lst_of_values_signal_pred_train, bins=bins, density = True, histtype = 'step', label = 'Signal')\n",
    "plt.title('TRAINING - Discriminator Curve')\n",
    "plt.xlabel('Classifier Prediction')\n",
    "plt.ylabel('Frequency')\n",
    "plt.legend()\n",
    "plt.show()\n",
    "\n",
    "#Weighted to xs_weights x 300000, need to be toproportion of full dataset too\n",
    "#normalised\n",
    "\n",
    "\n",
    "plt.hist(x= lst_of_values_bg_pred_train, bins=bins,  weights = df_weights[:len(lst_of_values_bg_pred_train),1]*3e5,\n",
    "         histtype = 'step', label = 'Background')\n",
    "plt.hist(x= lst_of_values_signal_pred_train, bins=bins, weights = df_weights[:len(lst_of_values_signal_pred_train),3]*3e5,\n",
    "         histtype = 'step', label = 'Signal')\n",
    "plt.title('TRAINING - Discriminator Curve')\n",
    "plt.xlabel('Classifier Prediction')\n",
    "plt.ylabel('Frequency')\n",
    "plt.xlim(0.6,1)    #zoom in on 0.9 to 1 region\n",
    "plt.ylim(0,500)    # need to zoom in\n",
    "plt.legend()\n",
    "plt.show()\n"
   ]
  },
  {
   "cell_type": "code",
   "execution_count": 17,
   "metadata": {},
   "outputs": [
    {
     "data": {
      "image/png": "[encoded data removed]",
      "text/plain": [
       "<Figure size 432x288 with 1 Axes>"
      ]
     },
     "metadata": {
      "needs_background": "light"
     },
     "output_type": "display_data"
    },
    {
     "data": {
      "image/png": "[encoded data removed]",
      "text/plain": [
       "<Figure size 432x288 with 1 Axes>"
      ]
     },
     "metadata": {
      "needs_background": "light"
     },
     "output_type": "display_data"
    },
    {
     "data": {
      "image/png": "[encoded data removed]",
      "text/plain": [
       "<Figure size 432x288 with 1 Axes>"
      ]
     },
     "metadata": {
      "needs_background": "light"
     },
     "output_type": "display_data"
    }
   ],
   "source": [
    "#Split df into signal and bg\n",
    "\n",
    "df_bg = df[df['True_Val'] == 0]\n",
    "df_signal = df[df['True_Val'] == 1]\n",
    "\n",
    "# Make Validation discriminator curves, Histogram\n",
    "\n",
    "# manipluate data so can be used for Histograms\n",
    "lst_bg_predicted = []\n",
    "for i in df_bg['Predicted']:\n",
    "    lst_bg_predicted.append(i)\n",
    "\n",
    "lst_of_values_bg_pred = [arr.item() for arr in lst_bg_predicted]\n",
    "\n",
    "lst_signal_predicted = []\n",
    "for i in df_signal['Predicted']:\n",
    "    lst_signal_predicted.append(i)\n",
    "\n",
    "lst_of_values_signal_pred = [arr.item() for arr in lst_signal_predicted]\n",
    "\n",
    "binwidth = 0.01\n",
    "bins=np.arange(0, 1 + binwidth, binwidth)\n",
    "\n",
    "#Unweighted, normalised\n",
    "plt.hist(x= lst_of_values_bg_pred, bins=bins, density = True, histtype = 'step', label = 'Background')\n",
    "plt.hist(x= lst_of_values_signal_pred, bins=bins, density = True, histtype = 'step', label = 'Signal')\n",
    "plt.title('Test - Discriminator Curve')\n",
    "plt.xlabel('Classifier Prediction')\n",
    "plt.ylabel('Frequency')\n",
    "plt.legend()\n",
    "plt.show()\n",
    "\n",
    "#Weighted to xs_weights x 300000, need to be toproportion of full dataset too\n",
    "#normalised\n",
    "plt.hist(x= lst_of_values_bg_pred, bins=bins,  weights = df_weights[:len(lst_of_values_bg_pred),1]*3e5*1/0.2,\n",
    "         histtype = 'step', label = 'Background')\n",
    "plt.hist(x= lst_of_values_signal_pred, bins=bins, weights = df_weights[:len(lst_of_values_signal_pred),3]*3e5*1/0.2,\n",
    "         histtype = 'step', label = 'Signal')\n",
    "plt.title('Test - Discriminator Curve')\n",
    "plt.xlabel('Classifier Prediction')\n",
    "plt.ylabel('Frequency')\n",
    "#plt.xlim(0.9,1)    #zoom in on 0.9 to 1 region\n",
    "#plt.ylim(0,200)    # need to zoom in\n",
    "plt.legend()\n",
    "plt.show()\n",
    "    \n",
    "plt.hist(x= lst_of_values_bg_pred, bins=bins,  weights = df_weights[:len(lst_of_values_bg_pred),1]*3e5*1/0.2,\n",
    "         histtype = 'step', label = 'Background')\n",
    "plt.hist(x= lst_of_values_signal_pred, bins=bins, weights = df_weights[:len(lst_of_values_signal_pred),3]*3e5*1/0.2,\n",
    "         histtype = 'step', label = 'Signal')\n",
    "plt.title('Test - Discriminator Curve')\n",
    "plt.xlabel('Classifier Prediction')\n",
    "plt.ylabel('Frequency')\n",
    "plt.xlim(0.8,1)    #zoom in on 0.9 to 1 region\n",
    "plt.ylim(0,200)    # need to zoom in\n",
    "plt.legend()\n",
    "plt.show()\n",
    "\n",
    "\n",
    "#start dropping bins for signifucance part, calc Z and plot, should get curve that peaks"
   ]
  },
  {
   "cell_type": "code",
   "execution_count": 18,
   "metadata": {},
   "outputs": [
    {
     "data": {
      "image/png": "[encoded data removed]",
      "text/plain": [
       "<Figure size 432x288 with 1 Axes>"
      ]
     },
     "metadata": {
      "needs_background": "light"
     },
     "output_type": "display_data"
    }
   ],
   "source": [
    "# Test and Training overlayed\n",
    "\n",
    "#Unweighted, normalised\n",
    "plt.hist(x= lst_of_values_bg_pred, bins=bins, density = True, histtype = 'step', label = 'Background_test')\n",
    "plt.hist(x= lst_of_values_signal_pred, bins=bins, density = True, histtype = 'step', label = 'Signal_test')\n",
    "plt.title('Test - Discriminator Curve')\n",
    "plt.xlabel('Classifier Prediction')\n",
    "plt.ylabel('Frequency')\n",
    "plt.legend()\n",
    "\n",
    "\n",
    "#Unweighted, normalised\n",
    "plt.hist(x= lst_of_values_bg_pred_train, bins=bins, density = True, histtype = 'step', label = 'Background_train')\n",
    "plt.hist(x= lst_of_values_signal_pred_train, bins=bins, density = True, histtype = 'step', label = 'Signal_train')\n",
    "plt.title('Discriminator Curve')\n",
    "plt.xlabel('Classifier Prediction')\n",
    "plt.ylabel('Frequency')\n",
    "plt.legend()\n",
    "plt.show()"
   ]
  },
  {
   "cell_type": "code",
   "execution_count": 18,
   "metadata": {},
   "outputs": [
    {
     "name": "stdout",
     "output_type": "stream",
     "text": [
      "num_bg_events =  217042.24996948242\n",
      "num_signal_events =  4417.765137314796\n"
     ]
    },
    {
     "data": {
      "image/png": "[encoded data removed]",
      "text/plain": [
       "<Figure size 432x288 with 1 Axes>"
      ]
     },
     "metadata": {
      "needs_background": "light"
     },
     "output_type": "display_data"
    }
   ],
   "source": [
    "#Calculate number of events\n",
    "\n",
    "n_bg, bins_bg, patches_bg = plt.hist(x= lst_of_values_bg_pred, bins=bins,  weights = df_weights[:len(lst_of_values_bg_pred),1]*3e5*1/0.2,\n",
    "         histtype = 'step', label = 'Background')\n",
    "n_signal, bins_signal, patches_signal = plt.hist(x= lst_of_values_signal_pred, bins=bins, weights = df_weights[:len(lst_of_values_signal_pred),3]*3e5*1/0.2,\n",
    "         histtype = 'step', label = 'Signal')\n",
    "\n",
    "# calculate the number of events\n",
    "num_bg_events = np.sum(n_bg)\n",
    "num_signal_events = np.sum(n_signal)\n",
    "\n",
    "print('num_bg_events = ', num_bg_events)\n",
    "print('num_signal_events = ', num_signal_events)"
   ]
  },
  {
   "cell_type": "code",
   "execution_count": 23,
   "metadata": {},
   "outputs": [],
   "source": [
    "df['True_Val'] = df['True_Val'].astype(float)\n",
    "df['Predicted'] = df['Predicted'].astype(float)\n",
    "df['Round Prediction'] = df['Round Prediction'].astype(float)\n",
    "\n",
    "\n",
    "# Save the DataFrame to an HDF5 file\n",
    "with h5py.File('rnn_run10_ROC_data.h5', 'w') as hf:\n",
    "    hf.create_dataset('df', data=df)\n",
    "    \n",
    "# with h5py.File('rnn_run1_ROC_data.h5', 'r') as hf:\n",
    "#     df = pd.DataFrame(hf['df'][:])\n"
   ]
  },
  {
   "cell_type": "code",
   "execution_count": 24,
   "metadata": {},
   "outputs": [],
   "source": [
    "# #plot ROC curves\n",
    "\n",
    "# y_true = df['True_Val']\n",
    "# y_score = df['Predicted']\n",
    "\n",
    "# # calculate the false positive rate and true positive rate\n",
    "# fpr, tpr, thresholds = roc_curve(y_true, y_score)\n",
    "\n",
    "# # calculate the area under the ROC curve\n",
    "# roc_auc = auc(fpr, tpr)\n",
    "\n",
    "# # plot the ROC curve\n",
    "# plt.plot(fpr, tpr, color='darkorange', lw=2, label='ROC curve (AUC = %0.2f)' % roc_auc)\n",
    "# plt.plot([0, 1], [0, 1], color='navy', lw=2, linestyle='--')\n",
    "# plt.xlim([0.0, 1.0])\n",
    "# plt.ylim([0.0, 1.05])\n",
    "# plt.xlabel('False Positive Rate')\n",
    "# plt.ylabel('True Positive Rate')\n",
    "# plt.title('Receiver Operating Characteristic')\n",
    "# plt.legend(loc=\"lower right\")\n",
    "# plt.show()\n",
    "\n",
    "# print(roc_auc)  \n",
    "\n",
    "# print(len(thresholds))\n",
    "\n"
   ]
  },
  {
   "cell_type": "code",
   "execution_count": 25,
   "metadata": {},
   "outputs": [],
   "source": [
    "# data_roc = {'thresholds': thresholds, 'tpr': tpr, 'fpr': fpr, 'tpr/sqrt(fpr)':tpr/np.sqrt(fpr)}\n",
    "# df_roc = pd.DataFrame(data_roc)\n",
    "# #df_roc\n",
    "# df_roc.head(20)\n",
    "# plt.plot(df_roc['thresholds'][3:], df_roc['tpr/sqrt(fpr)'][3:])\n",
    "# plt.show()\n",
    "# max(df_roc['tpr/sqrt(fpr)'][3:])"
   ]
  },
  {
   "cell_type": "code",
   "execution_count": 26,
   "metadata": {},
   "outputs": [],
   "source": [
    "# # Plot precision recall curve\n",
    "# from sklearn.metrics import average_precision_score\n",
    "\n",
    "# y_true = df['True_Val']\n",
    "# y_score = df['Predicted']\n",
    "\n",
    "# # calculate the precision-recall curve\n",
    "# precision, recall, _ = precision_recall_curve(y_true, y_score)\n",
    "\n",
    "# # plot the precision-recall curve\n",
    "# plt.step(recall, precision, color='b', alpha=0.2, where='post')\n",
    "# plt.fill_between(recall, precision, step='post', alpha=0.2, color='b')\n",
    "# plt.xlabel('Recall')\n",
    "# plt.ylabel('Precision')\n",
    "# plt.ylim([0.0, 1.05])\n",
    "# plt.xlim([0.0, 1.0])\n",
    "# plt.title('Precision-Recall Curve')\n",
    "# plt.show()\n",
    "\n",
    "# AUC = average_precision_score(y_true, y_score)   \n",
    "# print(AUC)"
   ]
  },
  {
   "cell_type": "code",
   "execution_count": 27,
   "metadata": {},
   "outputs": [],
   "source": [
    "# df['True_Val']\n",
    "# x = df['Predicted']\n",
    "# print(x)"
   ]
  },
  {
   "cell_type": "markdown",
   "metadata": {},
   "source": [
    "# Significance\n",
    "\n",
    "$$ Z = \\frac{s}{\\sqrt(B+\\sigma_s^{2})}  $$\n",
    "\n",
    "s = number of signal\n",
    "\n",
    "B = number of background\n",
    "\n",
    "$\\sigma_s$ = statistical uncertainty (~10% of B)"
   ]
  },
  {
   "cell_type": "code",
   "execution_count": 19,
   "metadata": {},
   "outputs": [
    {
     "name": "stdout",
     "output_type": "stream",
     "text": [
      "217042.24996948242\n",
      "4417.765137314796\n"
     ]
    },
    {
     "name": "stderr",
     "output_type": "stream",
     "text": [
      "/software/deep-learning/envs/ml-microscope/lib/python3.7/site-packages/ipykernel_launcher.py:11: RuntimeWarning: divide by zero encountered in double_scalars\n",
      "  # This is added back by InteractiveShellApp.init_path()\n",
      "/software/deep-learning/envs/ml-microscope/lib/python3.7/site-packages/ipykernel_launcher.py:11: RuntimeWarning: invalid value encountered in double_scalars\n",
      "  # This is added back by InteractiveShellApp.init_path()\n"
     ]
    },
    {
     "data": {
      "image/png": "[encoded data removed]",
      "text/plain": [
       "<Figure size 432x288 with 1 Axes>"
      ]
     },
     "metadata": {
      "needs_background": "light"
     },
     "output_type": "display_data"
    },
    {
     "name": "stdout",
     "output_type": "stream",
     "text": [
      "0.48\n",
      "48\n",
      "11.182060713746376\n",
      "\n",
      "If cut at a threshold of 0.48 have\n",
      "3219.7880859375 singal events\n",
      "81844.40625 background events\n"
     ]
    },
    {
     "name": "stderr",
     "output_type": "stream",
     "text": [
      "/software/deep-learning/envs/ml-microscope/lib/python3.7/site-packages/ipykernel_launcher.py:22: RuntimeWarning: invalid value encountered in less\n"
     ]
    }
   ],
   "source": [
    "num_bg_events = np.sum(n_bg)\n",
    "num_signal_events = np.sum(n_signal)\n",
    "\n",
    "print(num_bg_events)\n",
    "print(num_signal_events)\n",
    "\n",
    "z_0 = np.empty(len(bins_bg))\n",
    "for i in range(len(bins_bg)):\n",
    "    b = np.sum(n_bg[i:])\n",
    "    s = np.sum(n_signal[i:])\n",
    "    z_i = np.sqrt(2*((s+b)*np.log(1+(s/b))-s))  \n",
    "    z_0[i] = z_i\n",
    "\n",
    "x = np.linspace(0,1,len(z_0))\n",
    "plt.plot(bins_bg,z_0[:])\n",
    "plt.xlabel('Threshold')\n",
    "plt.ylabel('Significance, z')\n",
    "plt.title('Significance curve with no sigma')\n",
    "plt.show()\n",
    "\n",
    "\n",
    "mask_0 = z_0 < 1e10     #just so doesnt include infs\n",
    "index_of_max_0 = np.argmax(z_0[mask_0])\n",
    "max_value_0 = np.amax(z_0[mask_0])\n",
    "\n",
    "\n",
    "#index_of_max = np.nanargmax(z[:])\n",
    "#max_value = np.nanmax(z[:])     # 1 point before last, should probs generalise so that can deal w inf etc \n",
    "max_bin_0 = bins_bg[index_of_max_0]\n",
    "print(max_bin_0)\n",
    "print(index_of_max_0)\n",
    "print(max_value_0)\n",
    "\n",
    "# significance = sigmna, 6.5 signma, 5 sigma\n",
    "\n",
    "num_bg_threshold_0 = np.sum(n_bg[index_of_max_0:])\n",
    "num_signal_threshold_0 = np.sum(n_signal[index_of_max_0:])\n",
    "\n",
    "print()\n",
    "print('If cut at a threshold of', index_of_max_0/100, 'have')\n",
    "print(num_signal_threshold_0, 'singal events')\n",
    "print(num_bg_threshold_0, 'background events')"
   ]
  },
  {
   "cell_type": "code",
   "execution_count": 20,
   "metadata": {},
   "outputs": [
    {
     "data": {
      "image/png": "[encoded data removed]",
      "text/plain": [
       "<Figure size 432x288 with 2 Axes>"
      ]
     },
     "metadata": {
      "needs_background": "light"
     },
     "output_type": "display_data"
    },
    {
     "name": "stdout",
     "output_type": "stream",
     "text": [
      "Total signal processes; 1.0\n",
      "Total background processes; 1.0\n"
     ]
    }
   ],
   "source": [
    "# Confusion matricies with new threshold at max significance\n",
    "\n",
    "# calculates prediction values\n",
    "#y_pred = model.predict(X_valid) \n",
    "\n",
    "significance_threshold_0 = max_bin_0\n",
    "y_pred_threshold_0 = np.where(y_pred >= significance_threshold_0, 1, 0)\n",
    "\n",
    "# compute the confusion matrix\n",
    "cm = confusion_matrix(y_valid, y_pred_threshold_0, normalize = 'true')    #,'true' ‘pred’, ‘all’},)\n",
    "#disp = ConfusionMatrixDisplay(confusion_matrix=cm)   \n",
    "disp = ConfusionMatrixDisplay(confusion_matrix=cm, display_labels=['class 0', 'class 1']) # other env\n",
    "disp.plot()\n",
    "plt.show()\n",
    "\n",
    "print('Total signal processes;', cm[1,0]+cm[1,1])\n",
    "print('Total background processes;', cm[0,0]+cm[0,1])"
   ]
  },
  {
   "cell_type": "code",
   "execution_count": 21,
   "metadata": {},
   "outputs": [
    {
     "name": "stdout",
     "output_type": "stream",
     "text": [
      "217042.24996948242\n",
      "4417.765137314796\n"
     ]
    },
    {
     "name": "stderr",
     "output_type": "stream",
     "text": [
      "/software/deep-learning/envs/ml-microscope/lib/python3.7/site-packages/ipykernel_launcher.py:13: RuntimeWarning: invalid value encountered in double_scalars\n",
      "  del sys.path[0]\n",
      "/software/deep-learning/envs/ml-microscope/lib/python3.7/site-packages/ipykernel_launcher.py:14: RuntimeWarning: invalid value encountered in double_scalars\n",
      "  \n"
     ]
    },
    {
     "data": {
      "image/png": "[encoded data removed]",
      "text/plain": [
       "<Figure size 432x288 with 1 Axes>"
      ]
     },
     "metadata": {
      "needs_background": "light"
     },
     "output_type": "display_data"
    },
    {
     "name": "stdout",
     "output_type": "stream",
     "text": [
      "0.93\n",
      "93\n",
      "3.9451978543568695\n",
      "\n",
      "If cut at a threshold of 0.93 have\n",
      "111.20654296875 singal events\n",
      "363.046875 background events\n"
     ]
    },
    {
     "name": "stderr",
     "output_type": "stream",
     "text": [
      "/software/deep-learning/envs/ml-microscope/lib/python3.7/site-packages/ipykernel_launcher.py:26: RuntimeWarning: invalid value encountered in less\n"
     ]
    }
   ],
   "source": [
    "num_bg_events = np.sum(n_bg)\n",
    "num_signal_events = np.sum(n_signal)\n",
    "\n",
    "print(num_bg_events)\n",
    "print(num_signal_events)\n",
    "\n",
    "z_5 = np.empty(len(bins_bg))\n",
    "for i in range(len(bins_bg)):\n",
    "    b = np.sum(n_bg[i:])\n",
    "    s = np.sum(n_signal[i:])\n",
    "\n",
    "    sigma = 0.05*b  \n",
    "    part1 = (s+b)*np.log(((s+b)*(b+sigma**2))/(b**2+((s+b)*sigma**2)))\n",
    "    part2 = (b**2/sigma**2)*np.log(1+((sigma**2*s)/(b*(b+sigma**2))))\n",
    "    \n",
    "    z_5[i] = (2*(part1-part2))**(1/2)\n",
    "\n",
    "x = np.linspace(0,1,len(z_5))\n",
    "plt.plot(bins_bg,z_5[:])\n",
    "plt.xlabel('Threshold')\n",
    "plt.ylabel('Significance, z')\n",
    "plt.title('Significance curve with no sigma')\n",
    "plt.show()\n",
    "\n",
    "\n",
    "mask_5 = z_5 < 1e10     #just so doesnt include infs\n",
    "index_of_max_5 = np.argmax(z_5[mask_5])\n",
    "max_value_5 = np.amax(z_5[mask_5])\n",
    "\n",
    "\n",
    "#index_of_max = np.nanargmax(z[:])\n",
    "#max_value = np.nanmax(z[:])     # 1 point before last, should probs generalise so that can deal w inf etc \n",
    "max_bin_5 = bins_bg[index_of_max_5]\n",
    "print(max_bin_5)\n",
    "print(index_of_max_5)\n",
    "print(max_value_5)\n",
    "\n",
    "# significance = sigmna, 6.5 signma, 5 sigma\n",
    "\n",
    "num_bg_threshold_5 = np.sum(n_bg[index_of_max_5:])\n",
    "num_signal_threshold_5 = np.sum(n_signal[index_of_max_5:])\n",
    "\n",
    "print()\n",
    "print('If cut at a threshold of', index_of_max_5/100, 'have')\n",
    "print(num_signal_threshold_5, 'singal events')\n",
    "print(num_bg_threshold_5, 'background events')"
   ]
  },
  {
   "cell_type": "code",
   "execution_count": 22,
   "metadata": {},
   "outputs": [
    {
     "data": {
      "image/png": "[encoded data removed]",
      "text/plain": [
       "<Figure size 432x288 with 2 Axes>"
      ]
     },
     "metadata": {
      "needs_background": "light"
     },
     "output_type": "display_data"
    },
    {
     "name": "stdout",
     "output_type": "stream",
     "text": [
      "Total signal processes; 1.0\n",
      "Total background processes; 1.0\n"
     ]
    }
   ],
   "source": [
    "# Confusion matricies with new threshold at max significance\n",
    "\n",
    "# calculates prediction values\n",
    "#y_pred = model.predict(X_valid) \n",
    "\n",
    "significance_threshold_5 = max_bin_5\n",
    "y_pred_threshold_5 = np.where(y_pred >= significance_threshold_5, 1, 0)\n",
    "\n",
    "# compute the confusion matrix\n",
    "cm = confusion_matrix(y_valid, y_pred_threshold_5, normalize = 'true')    #,'true' ‘pred’, ‘all’},)\n",
    "#disp = ConfusionMatrixDisplay(confusion_matrix=cm)   \n",
    "disp = ConfusionMatrixDisplay(confusion_matrix=cm, display_labels=['class 0', 'class 1']) # other env\n",
    "disp.plot()\n",
    "plt.show()\n",
    "\n",
    "print('Total signal processes;', cm[1,0]+cm[1,1])\n",
    "print('Total background processes;', cm[0,0]+cm[0,1])"
   ]
  },
  {
   "cell_type": "code",
   "execution_count": 23,
   "metadata": {},
   "outputs": [
    {
     "name": "stdout",
     "output_type": "stream",
     "text": [
      "217042.24996948242\n",
      "4417.765137314796\n"
     ]
    },
    {
     "name": "stderr",
     "output_type": "stream",
     "text": [
      "/software/deep-learning/envs/ml-microscope/lib/python3.7/site-packages/ipykernel_launcher.py:13: RuntimeWarning: invalid value encountered in double_scalars\n",
      "  del sys.path[0]\n",
      "/software/deep-learning/envs/ml-microscope/lib/python3.7/site-packages/ipykernel_launcher.py:14: RuntimeWarning: invalid value encountered in double_scalars\n",
      "  \n"
     ]
    },
    {
     "data": {
      "image/png": "[encoded data removed]",
      "text/plain": [
       "<Figure size 432x288 with 1 Axes>"
      ]
     },
     "metadata": {
      "needs_background": "light"
     },
     "output_type": "display_data"
    },
    {
     "name": "stdout",
     "output_type": "stream",
     "text": [
      "0.9500000000000001\n",
      "95\n",
      "2.6327265440211254\n",
      "\n",
      "If cut at a threshold of 0.95 have\n",
      "42.63134765625 singal events\n",
      "106.21875 background events\n"
     ]
    },
    {
     "name": "stderr",
     "output_type": "stream",
     "text": [
      "/software/deep-learning/envs/ml-microscope/lib/python3.7/site-packages/ipykernel_launcher.py:26: RuntimeWarning: invalid value encountered in less\n"
     ]
    }
   ],
   "source": [
    "num_bg_events = np.sum(n_bg)\n",
    "num_signal_events = np.sum(n_signal)\n",
    "\n",
    "print(num_bg_events)\n",
    "print(num_signal_events)\n",
    "\n",
    "z_10 = np.empty(len(bins_bg))\n",
    "for i in range(len(bins_bg)):\n",
    "    b = np.sum(n_bg[i:])\n",
    "    s = np.sum(n_signal[i:])\n",
    "\n",
    "    sigma = 0.1*b  \n",
    "    part1 = (s+b)*np.log(((s+b)*(b+sigma**2))/(b**2+((s+b)*sigma**2)))\n",
    "    part2 = (b**2/sigma**2)*np.log(1+((sigma**2*s)/(b*(b+sigma**2))))\n",
    "    \n",
    "    z_10[i] = (2*(part1-part2))**(1/2)\n",
    "\n",
    "x = np.linspace(0,1,len(z_10))\n",
    "plt.plot(bins_bg,z_10[:])\n",
    "plt.xlabel('Threshold')\n",
    "plt.ylabel('Significance, z')\n",
    "plt.title('Significance curve with no sigma')\n",
    "plt.show()\n",
    "\n",
    "\n",
    "mask_10 = z_10 < 1e10     #just so doesnt include infs\n",
    "index_of_max_10 = np.argmax(z_10[mask_10])\n",
    "max_value_10 = np.amax(z_10[mask_10])\n",
    "\n",
    "\n",
    "#index_of_max = np.nanargmax(z[:])\n",
    "#max_value = np.nanmax(z[:])     # 1 point before last, should probs generalise so that can deal w inf etc \n",
    "max_bin_10 = bins_bg[index_of_max_10]\n",
    "print(max_bin_10)\n",
    "print(index_of_max_10)\n",
    "print(max_value_10)\n",
    "\n",
    "# significance = sigmna, 6.5 signma, 5 sigma\n",
    "\n",
    "num_bg_threshold_10 = np.sum(n_bg[index_of_max_10:])\n",
    "num_signal_threshold_10 = np.sum(n_signal[index_of_max_10:])\n",
    "\n",
    "print()\n",
    "print('If cut at a threshold of', index_of_max_10/100, 'have')\n",
    "print(num_signal_threshold_10, 'singal events')\n",
    "print(num_bg_threshold_10, 'background events')"
   ]
  },
  {
   "cell_type": "code",
   "execution_count": 24,
   "metadata": {},
   "outputs": [
    {
     "data": {
      "image/png": "[encoded data removed]",
      "text/plain": [
       "<Figure size 432x288 with 2 Axes>"
      ]
     },
     "metadata": {
      "needs_background": "light"
     },
     "output_type": "display_data"
    },
    {
     "name": "stdout",
     "output_type": "stream",
     "text": [
      "Total signal processes; 1.0\n",
      "Total background processes; 1.0\n"
     ]
    }
   ],
   "source": [
    "# Confusion matricies with new threshold at max significance\n",
    "\n",
    "# calculates prediction values\n",
    "#y_pred = model.predict(X_valid) \n",
    "\n",
    "significance_threshold_10 = max_bin_10\n",
    "y_pred_threshold_10 = np.where(y_pred >= significance_threshold_10, 1, 0)\n",
    "\n",
    "# compute the confusion matrix\n",
    "cm = confusion_matrix(y_valid, y_pred_threshold_5, normalize = 'true')    #,'true' ‘pred’, ‘all’},)\n",
    "#disp = ConfusionMatrixDisplay(confusion_matrix=cm)   \n",
    "disp = ConfusionMatrixDisplay(confusion_matrix=cm, display_labels=['class 0', 'class 1']) # other env\n",
    "disp.plot()\n",
    "plt.show()\n",
    "\n",
    "print('Total signal processes;', cm[1,0]+cm[1,1])\n",
    "print('Total background processes;', cm[0,0]+cm[0,1])"
   ]
  },
  {
   "cell_type": "code",
   "execution_count": 25,
   "metadata": {},
   "outputs": [],
   "source": [
    "raw_sig_curve_data = {'syst_uncertainty (0%)': z_0, \n",
    "                      'syst_uncertainty (5%)': z_5, \n",
    "                      'syst_uncertainty (10%)': z_10, \n",
    "                     }\n",
    "raw_sig_df = pd.DataFrame(raw_sig_curve_data)\n",
    "\n",
    "\n",
    "# Save the DataFrame to an HDF5 file\n",
    "with h5py.File('raw_rnn_sig_data_run10.h5', 'w') as hf:\n",
    "    hf.create_dataset('df', data=raw_sig_df)"
   ]
  },
  {
   "cell_type": "code",
   "execution_count": 34,
   "metadata": {},
   "outputs": [],
   "source": [
    "significances = np.array((max_value_0, max_value_5, max_value_10))\n",
    "syst_uncertainty = np.array((0, 0.05, 0.1))\n",
    "discriminators = np.array((index_of_max_0/100, index_of_max_5/100, index_of_max_10/100))\n",
    "num_bg_threshold = np.array((num_bg_threshold_0, num_bg_threshold_5, num_bg_threshold_10))\n",
    "num_signal_threshold = np.array((num_signal_threshold_0,num_signal_threshold_5,num_signal_threshold_10))"
   ]
  },
  {
   "cell_type": "code",
   "execution_count": 35,
   "metadata": {},
   "outputs": [],
   "source": [
    "sig_curve_data = {'syst_uncertainty (%)': syst_uncertainty, 'Significances': significances, 'Threshold': discriminators, 'no_bg': num_bg_threshold, 'no_signal':num_signal_threshold}\n",
    "sig_df = pd.DataFrame(sig_curve_data)\n",
    "\n",
    "\n",
    "# Save the DataFrame to an HDF5 file\n",
    "with h5py.File('rnn_sig_data_run10.h5', 'w') as hf:\n",
    "    hf.create_dataset('df', data=sig_df)\n",
    "    \n",
    "# with h5py.File('rnn_ROC_data.h5', 'r') as hf:\n",
    "#     df = pd.DataFrame(hf['df'][:])\n",
    "\n",
    "# can make confusion matricies with things I have saved"
   ]
  },
  {
   "cell_type": "code",
   "execution_count": 36,
   "metadata": {},
   "outputs": [
    {
     "data": {
      "text/html": [
       "<div>\n",
       "<style scoped>\n",
       "    .dataframe tbody tr th:only-of-type {\n",
       "        vertical-align: middle;\n",
       "    }\n",
       "\n",
       "    .dataframe tbody tr th {\n",
       "        vertical-align: top;\n",
       "    }\n",
       "\n",
       "    .dataframe thead th {\n",
       "        text-align: right;\n",
       "    }\n",
       "</style>\n",
       "<table border=\"1\" class=\"dataframe\">\n",
       "  <thead>\n",
       "    <tr style=\"text-align: right;\">\n",
       "      <th></th>\n",
       "      <th>syst_uncertainty (%)</th>\n",
       "      <th>Significances</th>\n",
       "      <th>Threshold</th>\n",
       "      <th>no_bg</th>\n",
       "      <th>no_signal</th>\n",
       "    </tr>\n",
       "  </thead>\n",
       "  <tbody>\n",
       "    <tr>\n",
       "      <th>0</th>\n",
       "      <td>0.00</td>\n",
       "      <td>11.182061</td>\n",
       "      <td>0.48</td>\n",
       "      <td>81844.406250</td>\n",
       "      <td>3219.788086</td>\n",
       "    </tr>\n",
       "    <tr>\n",
       "      <th>1</th>\n",
       "      <td>0.05</td>\n",
       "      <td>3.945198</td>\n",
       "      <td>0.93</td>\n",
       "      <td>363.046875</td>\n",
       "      <td>111.206543</td>\n",
       "    </tr>\n",
       "    <tr>\n",
       "      <th>2</th>\n",
       "      <td>0.10</td>\n",
       "      <td>2.632727</td>\n",
       "      <td>0.95</td>\n",
       "      <td>106.218750</td>\n",
       "      <td>42.631348</td>\n",
       "    </tr>\n",
       "  </tbody>\n",
       "</table>\n",
       "</div>"
      ],
      "text/plain": [
       "   syst_uncertainty (%)  Significances  Threshold         no_bg    no_signal\n",
       "0                  0.00      11.182061       0.48  81844.406250  3219.788086\n",
       "1                  0.05       3.945198       0.93    363.046875   111.206543\n",
       "2                  0.10       2.632727       0.95    106.218750    42.631348"
      ]
     },
     "execution_count": 36,
     "metadata": {},
     "output_type": "execute_result"
    }
   ],
   "source": [
    "sig_df"
   ]
  },
  {
   "cell_type": "code",
   "execution_count": null,
   "metadata": {},
   "outputs": [],
   "source": []
  },
  {
   "cell_type": "code",
   "execution_count": 21,
   "metadata": {},
   "outputs": [
    {
     "data": {
      "image/png": "[encoded data removed]",
      "text/plain": [
       "<Figure size 432x288 with 1 Axes>"
      ]
     },
     "metadata": {
      "needs_background": "light"
     },
     "output_type": "display_data"
    }
   ],
   "source": [
    "# Test and Training overlayed\n",
    "\n",
    "#Unweighted, normalised\n",
    "plt.hist(x= lst_of_values_bg_pred, bins=bins, density = True, histtype = 'step', label = 'Background test')\n",
    "plt.hist(x= lst_of_values_signal_pred, bins=bins, density = True, histtype = 'step', label = 'Signal test')\n",
    "\n",
    "#Unweighted, normalised\n",
    "plt.hist(x= lst_of_values_bg_pred_train, bins=bins, density = True, histtype = 'step', label = 'Background train')\n",
    "plt.hist(x= lst_of_values_signal_pred_train, bins=bins, density = True, histtype = 'step', label = 'Signal train')\n",
    "#plt.title('Discriminator Curve')\n",
    "plt.xlabel('Classifier Prediction')\n",
    "plt.ylabel('Probability Density')\n",
    "plt.legend(fontsize='small')\n",
    "#plt.xlim(0,1.2)\n",
    "#plt.ylim(0,2.5)\n",
    "place = 'upper left'\n",
    "#offset = (0.15,0.68)\n",
    "offset = (0.38,0.3)\n",
    "\n",
    "plt.legend(loc = place, bbox_to_anchor = offset, fontsize='small' )\n",
    "\n",
    "plt.savefig('RNN_DISC_CURVE.png', dpi=300, bbox_inches='tight')"
   ]
  },
  {
   "cell_type": "code",
   "execution_count": null,
   "metadata": {},
   "outputs": [],
   "source": [
    "plt.savefig('RNN_DISC_CURVE.png', dpi=300, bbox_inches='tight')"
   ]
  },
  {
   "cell_type": "markdown",
   "metadata": {},
   "source": [
    "# SAVE THE CORRECT DATA"
   ]
  },
  {
   "cell_type": "code",
   "execution_count": 37,
   "metadata": {},
   "outputs": [
    {
     "name": "stdout",
     "output_type": "stream",
     "text": [
      "176220/1 - 140s\n",
      "704876/1 - 532s\n"
     ]
    }
   ],
   "source": [
    "y_pred_valid = model.predict(X_valid, verbose = 2)\n",
    "y_pred_train = model.predict(X_train, verbose = 2)\n",
    "\n",
    "with h5py.File('rnn_run10_predictions.h5', 'w') as f:\n",
    "    f.create_dataset('val_preds', data=y_pred_valid)\n",
    "    f.create_dataset('train_preds', data=y_pred_train)"
   ]
  },
  {
   "cell_type": "code",
   "execution_count": 38,
   "metadata": {},
   "outputs": [],
   "source": [
    "# # Make not an object, so can hdf save\n",
    "# # run last anyways\n",
    "\n",
    "# df['True_Val'] = df['True_Val'].astype(float)\n",
    "# df['Predicted'] = df['Predicted'].astype(float)\n",
    "# df['Round Prediction'] = df['Round Prediction'].astype(float)\n"
   ]
  },
  {
   "cell_type": "code",
   "execution_count": 39,
   "metadata": {},
   "outputs": [],
   "source": [
    "\n",
    "# with h5py.File('data_valid_16pad_128_50epoch_4Layers_SEED10.h5', 'w') as f:\n",
    "#     f.create_dataset('True_Val', data=df['True_Val'])\n",
    "#     f.create_dataset('Predicted', data=df['Predicted'])\n",
    "#     f.create_dataset('Round_Prediction', data=df['Round Prediction'])\n",
    "\n",
    "    \n",
    "# #with h5py.File('data_train_16pad_RNN3_SEED10.h5', 'r') as f:\n",
    "# #   true_val = f['True_Val'][:]\n",
    "# #   predicted = f['Predicted'][:]\n",
    "# #   round_pred = f['Round_Prediction'][:]\n",
    "    \n",
    "\n",
    "\n",
    "# #my_dict = {'True_Val': true_val.flatten(), 'Predicted': predicted.flatten(), 'Round Prediction': round_pred.flatten()}\n",
    "# #df = pd.DataFrame(my_dict)"
   ]
  },
  {
   "cell_type": "code",
   "execution_count": 40,
   "metadata": {},
   "outputs": [],
   "source": [
    "# df_test['True_Val'] = df_test['True_Val'].astype(float)\n",
    "# df_test['Predicted'] = df_test['Predicted'].astype(float)\n",
    "# df_test['Round Prediction'] = df_test['Round Prediction'].astype(float)\n",
    "\n",
    "# with h5py.File('data_train_16pad_128_50epoch_4Layers_SEED10.h5', 'w') as f:\n",
    "#     f.create_dataset('True_Val', data=df_test['True_Val'])\n",
    "#     f.create_dataset('Predicted', data=df_test['Predicted'])\n",
    "#     f.create_dataset('Round_Prediction', data=df_test['Round Prediction'])"
   ]
  }
 ],
 "metadata": {
  "kernelspec": {
   "display_name": "Python 3",
   "language": "python",
   "name": "python3"
  },
  "language_info": {
   "codemirror_mode": {
    "name": "ipython",
    "version": 3
   },
   "file_extension": ".py",
   "mimetype": "text/x-python",
   "name": "python",
   "nbconvert_exporter": "python",
   "pygments_lexer": "ipython3",
   "version": "3.7.3"
  }
 },
 "nbformat": 4,
 "nbformat_minor": 4
}
